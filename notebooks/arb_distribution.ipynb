{
 "cells": [
  {
   "cell_type": "markdown",
   "source": [
    "## Pre-collect all the data in this cell"
   ],
   "metadata": {
    "collapsed": false
   }
  },
  {
   "cell_type": "code",
   "execution_count": 8,
   "outputs": [],
   "source": [
    "import json\n",
    "import os\n",
    "\n",
    "import requests\n",
    "from dotenv import load_dotenv\n",
    "from web3 import Web3\n",
    "\n",
    "load_dotenv()\n",
    "\n",
    "ARB_CHAIN_ID = 42161\n",
    "BALANCER_GAUGE_URL = \"https://api.thegraph.com/subgraphs/name/balancer-labs/balancer-gauges\"\n",
    "BALANCER_GAUGE_CONTROLLER_ADDR = Web3.toChecksumAddress(\"0xC128468b7Ce63eA702C1f104D55A2566b13D3ABD\")\n",
    "BALANCER_GAUGE_CONTROLLER_ABI = [{\"stateMutability\": \"view\", \"type\": \"function\", \"name\": \"gauge_relative_weight\",\n",
    "                                  \"inputs\": [{\"name\": \"addr\", \"type\": \"address\"}],\n",
    "                                  \"outputs\": [{\"name\": \"\", \"type\": \"uint256\"}]},\n",
    "                                 {\"stateMutability\": \"view\", \"type\": \"function\", \"name\": \"gauge_relative_weight\",\n",
    "                                  \"inputs\": [{\"name\": \"addr\", \"type\": \"address\"}, {\"name\": \"time\", \"type\": \"uint256\"}],\n",
    "                                  \"outputs\": [{\"name\": \"\", \"type\": \"uint256\"}]}]\n",
    "\n",
    "web3 = Web3(Web3.HTTPProvider(os.environ[\"ETHNODEURL\"]))\n",
    "\n",
    "# Fetch all voting gauges from github json\n",
    "voting_gauges_req = requests.get(\n",
    "    \"https://raw.githubusercontent.com/balancer/frontend-v2/master/src/data/voting-gauges.json\")\n",
    "if not voting_gauges_req.ok:\n",
    "    raise ValueError(\"Failed to fetch voting gauges\")\n",
    "voting_gauges = voting_gauges_req.json()\n",
    "\n",
    "# Collect arb gauges\n",
    "arb_gauges = {}\n",
    "for gauge in voting_gauges:\n",
    "    # Only collect gauges for the arb chain and that are not killed\n",
    "    if int(gauge['network']) == ARB_CHAIN_ID and gauge['isKilled'] is False:\n",
    "        arb_gauges[gauge['address']] = {\n",
    "            'gaugeAddress': gauge['address'],\n",
    "            'pool': gauge['pool']['address'],\n",
    "            'symbol': gauge['pool']['symbol']\n",
    "        }\n",
    "\n",
    "gauge_c_contract = web3.eth.contract(address=BALANCER_GAUGE_CONTROLLER_ADDR, abi=BALANCER_GAUGE_CONTROLLER_ABI)\n",
    "\n",
    "boost_data = {}\n",
    "cap_override_data = {}\n",
    "# Before, load boost data from the file\n",
    "with open('../data/arbitrumGrantGuageMetadata.json') as f:\n",
    "    boosties = json.load(f)\n",
    "    for boost in boosties:\n",
    "        boost_data[boost['gaugeAddress']] = boost.get('fixedBoost', 1)\n",
    "        cap_override_data[boost['gaugeAddress']] = boost.get('capOverride', 10)\n",
    "\n",
    "vote_weights = {}\n",
    "# Collect gauge voting weights from the gauge controller on chain\n",
    "for gauge_addr, gauge_data in arb_gauges.items():\n",
    "    weight = gauge_c_contract.functions.gauge_relative_weight(gauge_addr).call() / 1e18 * 100\n",
    "    # Boost weight if gauge is boosted, if not boosted, use 1 as multiplier (no boost)\n",
    "    weight *= boost_data.get(gauge_addr, 1)\n",
    "    vote_weights[gauge_addr] = weight\n",
    "    arb_gauges[gauge_addr]['voteWeight'] = weight"
   ],
   "metadata": {
    "collapsed": false,
    "ExecuteTime": {
     "end_time": "2023-07-28T17:46:13.999841Z",
     "start_time": "2023-07-28T17:46:07.507528Z"
    }
   }
  },
  {
   "cell_type": "markdown",
   "source": [
    "## Calculate arbitrum distribution across gauges"
   ],
   "metadata": {
    "collapsed": false
   }
  },
  {
   "cell_type": "code",
   "execution_count": 9,
   "outputs": [
    {
     "name": "stdout",
     "output_type": "stream",
     "text": [
      "Unspent arb: 0.0\n",
      "Arb distributed: 97404.0\n"
     ]
    },
    {
     "data": {
      "text/plain": "<IPython.core.display.HTML object>",
      "text/html": "<table border=\"1\" class=\"dataframe\">\n  <thead>\n    <tr style=\"text-align: right;\">\n      <th>gaugeAddress</th>\n      <th>pool</th>\n      <th>symbol</th>\n      <th>voteWeight</th>\n      <th>distribution</th>\n      <th>distributionInPercent</th>\n      <th>boost</th>\n      <th>capOverride</th>\n    </tr>\n  </thead>\n  <tbody>\n    <tr>\n      <td>0x9ab40B6e1330Ce70B9e07cD691f281c1539944E6</td>\n      <td>0xc6EeE8cb7643eC2F05F46d569e9eC8EF8b41b389</td>\n      <td>bb-a-USD</td>\n      <td>1.219768</td>\n      <td>16776.892895</td>\n      <td>17.224029</td>\n      <td>1.75</td>\n      <td>20%</td>\n    </tr>\n    <tr>\n      <td>0xb12ADA23eE766bd6b596E2bE556ea2046758b87c</td>\n      <td>0xBe0f30217BE1e981aDD883848D0773A86d2d2CD4</td>\n      <td>rETH-bb-a-WETH-BPT</td>\n      <td>1.020934</td>\n      <td>14189.392355</td>\n      <td>14.567566</td>\n      <td>1.75</td>\n      <td>20%</td>\n    </tr>\n    <tr>\n      <td>0xDf464348c4EC2Bf0e5D6926b9f707c8e02301adf</td>\n      <td>0x36bf227d6BaC96e2aB1EbB5492ECec69C691943f</td>\n      <td>B-wstETH-WETH-Stable</td>\n      <td>0.966584</td>\n      <td>13792.354499</td>\n      <td>14.159947</td>\n      <td>1.75</td>\n      <td>20%</td>\n    </tr>\n    <tr>\n      <td>0x8135d6AbFd42707A87A7b94c5CFA3529f9b432AD</td>\n      <td>0x32dF62dc3aEd2cD6224193052Ce665DC18165841</td>\n      <td>RDNT-WETH</td>\n      <td>0.934983</td>\n      <td>9740.400000</td>\n      <td>10.000000</td>\n      <td>1.50</td>\n      <td>10%</td>\n    </tr>\n    <tr>\n      <td>0x175407b4710b5A1cB67a37C76859F17fb2ff6672</td>\n      <td>0xc7FA3A3527435720f0e2a4c1378335324dd4F9b3</td>\n      <td>55auraBal-45wsteth</td>\n      <td>0.796273</td>\n      <td>9740.400000</td>\n      <td>10.000000</td>\n      <td>1.00</td>\n      <td>10%</td>\n    </tr>\n    <tr>\n      <td>0xa8D974288Fe44ACC329D7d7a179707D27Ec4dd1c</td>\n      <td>0xc9f52540976385A84BF416903e1Ca3983c539E34</td>\n      <td>50tBTC-50WETH</td>\n      <td>0.536536</td>\n      <td>7535.843868</td>\n      <td>7.736688</td>\n      <td>1.00</td>\n      <td>10%</td>\n    </tr>\n    <tr>\n      <td>0x80aed5C5C683FEC86817C98da334DD72424E7297</td>\n      <td>0x45C4D1376943Ab28802B995aCfFC04903Eb5223f</td>\n      <td>wstETH-bb-a-WETH-BPT</td>\n      <td>0.480037</td>\n      <td>6621.729531</td>\n      <td>6.798211</td>\n      <td>1.75</td>\n      <td>20%</td>\n    </tr>\n    <tr>\n      <td>0xacE0D479040231e3c6b17479cFd4444182d521d4</td>\n      <td>0x567ECfCB22205D279BB8Eed3E066989902bF03D5</td>\n      <td>DOLA/bbaUSD-BPT</td>\n      <td>0.373075</td>\n      <td>5200.385743</td>\n      <td>5.338986</td>\n      <td>1.75</td>\n      <td>10%</td>\n    </tr>\n    <tr>\n      <td>0xc4b6cc9A444337b1Cb8cBbDD9de4d983f609C391</td>\n      <td>0x542F16DA0efB162D20bF4358EfA095B70A100f9E</td>\n      <td>2BTC</td>\n      <td>0.266953</td>\n      <td>3759.065176</td>\n      <td>3.859251</td>\n      <td>1.00</td>\n      <td>10%</td>\n    </tr>\n    <tr>\n      <td>0x0EDF6cDd81BC3471C053341B7D8Dfd1Cb367AD93</td>\n      <td>0xb3028Ca124B80CFE6E9CA57B70eF2F0CCC41eBd4</td>\n      <td>50MAGIC-50USDC</td>\n      <td>0.209722</td>\n      <td>3000.257779</td>\n      <td>3.080220</td>\n      <td>1.00</td>\n      <td>10%</td>\n    </tr>\n    <tr>\n      <td>0x25869f277f474FA9459F40F5D4cB0D6A8Ab41967</td>\n      <td>0x8bc65Eed474D1A00555825c91FeAb6A8255C2107</td>\n      <td>DOLA/USDC BPT</td>\n      <td>0.213185</td>\n      <td>2976.819767</td>\n      <td>3.056158</td>\n      <td>1.00</td>\n      <td>10%</td>\n    </tr>\n    <tr>\n      <td>0x4944b07977A42C15c6a06CF4e204e24c60564104</td>\n      <td>0xCba9Ff45cfB9cE238AfDE32b0148Eb82CbE63562</td>\n      <td>rETH-bb-a-WETH-BPT</td>\n      <td>0.178266</td>\n      <td>2514.665606</td>\n      <td>2.581686</td>\n      <td>1.75</td>\n      <td>20%</td>\n    </tr>\n    <tr>\n      <td>0xd758454BDF4Df7Ad85f7538DC9742648EF8e6d0A</td>\n      <td>0x8d333f82e0693f53fA48c40d5D4547142E907e1D</td>\n      <td>80PAL-20OHM</td>\n      <td>0.111315</td>\n      <td>1555.792782</td>\n      <td>1.597258</td>\n      <td>1.00</td>\n      <td>10%</td>\n    </tr>\n  </tbody>\n</table>"
     },
     "metadata": {},
     "output_type": "display_data"
    }
   ],
   "source": [
    "from IPython.core.display import HTML\n",
    "import pandas as pd\n",
    "\n",
    "ARBITRUM_TO_DISTRIBUTE = 97404\n",
    "VOTE_CAP_IN_PERCENT = 10  # 10% cap on any single gauge\n",
    "VOTE_CAPS_IN_PERCENTS = {gauge_addr: cap_override_data.get(gauge_addr, VOTE_CAP_IN_PERCENT) for gauge_addr in\n",
    "                         arb_gauges.keys()}\n",
    "# Custom gauge caps taken from boost data\n",
    "VOTE_CAPS = {gauge_addr: VOTE_CAPS_IN_PERCENTS[gauge_addr] / 100 * ARBITRUM_TO_DISTRIBUTE for gauge_addr in\n",
    "             arb_gauges.keys()}\n",
    "\n",
    "# Calculate total weight\n",
    "total_weight = sum([gauge['voteWeight'] for gauge in arb_gauges.values()])\n",
    "arb_gauge_distributions = {}\n",
    "for gauge_addr, gauge_data in arb_gauges.items():\n",
    "    # Calculate distribution based on vote weight and total weight\n",
    "    to_distribute = ARBITRUM_TO_DISTRIBUTE * gauge_data['voteWeight'] / total_weight\n",
    "    # Cap distribution\n",
    "    to_distribute = to_distribute if to_distribute < VOTE_CAPS[gauge_addr] else VOTE_CAPS[gauge_addr]\n",
    "    arb_gauge_distributions[gauge_addr] = {\n",
    "        'gaugeAddress': gauge_addr,\n",
    "        'pool': gauge_data['pool'],\n",
    "        'symbol': gauge_data['symbol'],\n",
    "        'voteWeight': gauge_data['voteWeight'],\n",
    "        'distribution': to_distribute if to_distribute < VOTE_CAPS[gauge_addr] else VOTE_CAPS[gauge_addr],\n",
    "        'distributionInPercent': to_distribute / ARBITRUM_TO_DISTRIBUTE * 100,\n",
    "        'boost': boost_data.get(gauge_addr, 1),\n",
    "        'capOverride': f\"{cap_override_data.get(gauge_addr, VOTE_CAP_IN_PERCENT)}%\"\n",
    "    }\n",
    "\n",
    "\n",
    "# Spend unspent arb on the gauges that are not capped yet\n",
    "def recur_distribute_unspend_arb():\n",
    "    unspent_arb = ARBITRUM_TO_DISTRIBUTE - sum([gauge['distribution'] for gauge in arb_gauge_distributions.values()])\n",
    "    if unspent_arb > 0:\n",
    "        # Find out total voting weight of uncapped gauges and mark it as 100%:\n",
    "        total_uncapped_weight = sum(\n",
    "            [g['voteWeight'] for g in [\n",
    "                gauge for addr, gauge in arb_gauge_distributions.items() if gauge['distribution'] < VOTE_CAPS[addr]]\n",
    "             ]\n",
    "        )\n",
    "        # Iterate over uncapped gauges and distribute unspent arb proportionally to their voting weight which is total uncapped weight\n",
    "        for a, uncap_gauge in {addr: gauge for addr, gauge in arb_gauge_distributions.items() if\n",
    "                               gauge['distribution'] < VOTE_CAPS[addr]}.items():\n",
    "            # For each loop calculate unspend arb\n",
    "            unspent_arb = ARBITRUM_TO_DISTRIBUTE - sum(\n",
    "                [gauge['distribution'] for gauge in arb_gauge_distributions.values()])\n",
    "            # Don't distribute more than vote cap\n",
    "            distribution = min(\n",
    "                uncap_gauge['distribution'] + unspent_arb * uncap_gauge['voteWeight'] / total_uncapped_weight,\n",
    "                VOTE_CAPS[a])\n",
    "            uncap_gauge['distribution'] = distribution\n",
    "            uncap_gauge['distributionInPercent'] = uncap_gauge['distribution'] / ARBITRUM_TO_DISTRIBUTE * 100\n",
    "    # Call recursively if there is still unspent arb\n",
    "    if ARBITRUM_TO_DISTRIBUTE - sum([g['distribution'] for g in arb_gauge_distributions.values()]) > 0:\n",
    "        recur_distribute_unspend_arb()\n",
    "\n",
    "\n",
    "recur_distribute_unspend_arb()\n",
    "print(\n",
    "    f\"Unspent arb: {ARBITRUM_TO_DISTRIBUTE - sum([gauge['distribution'] for gauge in arb_gauge_distributions.values()])}\")\n",
    "print(f\"Arb distributed: {sum([gauge['distribution'] for gauge in arb_gauge_distributions.values()])}\")\n",
    "# Remove arb gauges with 0 distribution\n",
    "arb_gauge_distributions = {addr: gauge for addr, gauge in arb_gauge_distributions.items() if\n",
    "                           gauge['distribution'] > 0}\n",
    "arb_gauge_distributions_df = pd.DataFrame.from_dict(arb_gauge_distributions, orient='index')\n",
    "arb_gauge_distributions_df = arb_gauge_distributions_df.sort_values(by='distributionInPercent', ascending=False)\n",
    "display(HTML(arb_gauge_distributions_df.to_html(index=False)))"
   ],
   "metadata": {
    "collapsed": false,
    "ExecuteTime": {
     "end_time": "2023-07-28T17:46:14.024887Z",
     "start_time": "2023-07-28T17:46:14.018049Z"
    }
   }
  },
  {
   "cell_type": "markdown",
   "source": [
    "## Export to json"
   ],
   "metadata": {
    "collapsed": false
   }
  },
  {
   "cell_type": "code",
   "execution_count": 10,
   "outputs": [],
   "source": [
    "# Export to json\n",
    "with open('../data/arbitrumGaugeDistribution.json', 'w') as f:\n",
    "    json.dump(arb_gauge_distributions, f, indent=4)"
   ],
   "metadata": {
    "collapsed": false,
    "ExecuteTime": {
     "end_time": "2023-07-28T17:46:14.028793Z",
     "start_time": "2023-07-28T17:46:14.022497Z"
    }
   }
  }
 ],
 "metadata": {
  "kernelspec": {
   "display_name": "Python 3",
   "language": "python",
   "name": "python3"
  },
  "language_info": {
   "codemirror_mode": {
    "name": "ipython",
    "version": 2
   },
   "file_extension": ".py",
   "mimetype": "text/x-python",
   "name": "python",
   "nbconvert_exporter": "python",
   "pygments_lexer": "ipython2",
   "version": "2.7.6"
  }
 },
 "nbformat": 4,
 "nbformat_minor": 0
}
