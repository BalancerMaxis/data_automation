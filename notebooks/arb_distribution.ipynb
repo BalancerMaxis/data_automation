{
 "cells": [
  {
   "cell_type": "markdown",
   "source": [
    "## Pre-collect all the data in this cell"
   ],
   "metadata": {
    "collapsed": false
   }
  },
  {
   "cell_type": "code",
   "execution_count": 54,
   "outputs": [],
   "source": [
    "import os\n",
    "from typing import Optional\n",
    "\n",
    "import requests\n",
    "from dotenv import load_dotenv\n",
    "from gql import Client\n",
    "from gql.transport.requests import RequestsHTTPTransport\n",
    "from web3 import Web3\n",
    "\n",
    "load_dotenv()\n",
    "\n",
    "ARB_CHAIN_ID = 42161\n",
    "BALANCER_GAUGE_URL = \"https://api.thegraph.com/subgraphs/name/balancer-labs/balancer-gauges\"\n",
    "BALANCER_GAUGE_CONTROLLER_ADDR = Web3.toChecksumAddress(\"0xC128468b7Ce63eA702C1f104D55A2566b13D3ABD\")\n",
    "BALANCER_GAUGE_CONTROLLER_ABI = [{\"stateMutability\": \"view\", \"type\": \"function\", \"name\": \"gauge_relative_weight\",\n",
    "                                  \"inputs\": [{\"name\": \"addr\", \"type\": \"address\"}],\n",
    "                                  \"outputs\": [{\"name\": \"\", \"type\": \"uint256\"}]},\n",
    "                                 {\"stateMutability\": \"view\", \"type\": \"function\", \"name\": \"gauge_relative_weight\",\n",
    "                                  \"inputs\": [{\"name\": \"addr\", \"type\": \"address\"}, {\"name\": \"time\", \"type\": \"uint256\"}],\n",
    "                                  \"outputs\": [{\"name\": \"\", \"type\": \"uint256\"}]}]\n",
    "\n",
    "web3 = Web3(Web3.HTTPProvider(os.environ[\"ETHNODEURL\"]))\n",
    "\n",
    "\n",
    "def make_gql_client(url: str) -> Optional[Client]:\n",
    "    transport = RequestsHTTPTransport(url=url, retries=3)\n",
    "    return Client(\n",
    "        transport=transport, fetch_schema_from_transport=True, execute_timeout=60\n",
    "    )\n",
    "\n",
    "\n",
    "client = make_gql_client(BALANCER_GAUGE_URL)\n",
    "\n",
    "# Fetch all voting gauges from github json\n",
    "voting_gauges_req = requests.get(\n",
    "    \"https://raw.githubusercontent.com/balancer/frontend-v2/master/src/data/voting-gauges.json\")\n",
    "if not voting_gauges_req.ok:\n",
    "    raise ValueError(\"Failed to fetch voting gauges\")\n",
    "voting_gauges = voting_gauges_req.json()\n",
    "\n",
    "# Collect arb gauges\n",
    "arb_gauges = {}\n",
    "for gauge in voting_gauges:\n",
    "    # Only collect gauges for the arb chain and that are not killed\n",
    "    if int(gauge['network']) == ARB_CHAIN_ID and gauge['isKilled'] is False:\n",
    "        arb_gauges[gauge['address']] = gauge\n",
    "\n",
    "gauge_c_contract = web3.eth.contract(address=BALANCER_GAUGE_CONTROLLER_ADDR, abi=BALANCER_GAUGE_CONTROLLER_ABI)\n",
    "\n",
    "vote_weights = {}\n",
    "# Collect gauge voting weights from the gauge controller on chain\n",
    "for gauge_addr, gauge_data in arb_gauges.items():\n",
    "    weight = gauge_c_contract.functions.gauge_relative_weight(gauge_addr).call() / 1e18 * 100\n",
    "    vote_weights[gauge_addr] = weight\n",
    "    arb_gauges[gauge_addr]['voteWeight'] = weight"
   ],
   "metadata": {
    "collapsed": false,
    "ExecuteTime": {
     "end_time": "2023-07-26T13:00:33.206004Z",
     "start_time": "2023-07-26T13:00:27.528246Z"
    }
   }
  },
  {
   "cell_type": "markdown",
   "source": [
    "## Print gauges sorted by vote weight"
   ],
   "metadata": {
    "collapsed": false
   }
  },
  {
   "cell_type": "code",
   "execution_count": 55,
   "outputs": [
    {
     "data": {
      "text/plain": "<IPython.core.display.HTML object>",
      "text/html": "<table border=\"1\" class=\"dataframe\">\n  <thead>\n    <tr style=\"text-align: right;\">\n      <th>address</th>\n      <th>addedTimestamp</th>\n      <th>voteWeight</th>\n      <th>pool_symbol</th>\n      <th>pool_addr</th>\n      <th>pool_id</th>\n    </tr>\n  </thead>\n  <tbody>\n    <tr>\n      <td>0xDf464348c4EC2Bf0e5D6926b9f707c8e02301adf</td>\n      <td>1683715019</td>\n      <td>0.937519</td>\n      <td>B-wstETH-WETH-Stable</td>\n      <td>0x36bf227d6BaC96e2aB1EbB5492ECec69C691943f</td>\n      <td>0x36bf227d6bac96e2ab1ebb5492ecec69c691943f000200000000000000000316</td>\n    </tr>\n    <tr>\n      <td>0x8135d6AbFd42707A87A7b94c5CFA3529f9b432AD</td>\n      <td>1683715019</td>\n      <td>0.821489</td>\n      <td>RDNT-WETH</td>\n      <td>0x32dF62dc3aEd2cD6224193052Ce665DC18165841</td>\n      <td>0x32df62dc3aed2cd6224193052ce665dc181658410002000000000000000003bd</td>\n    </tr>\n    <tr>\n      <td>0x175407b4710b5A1cB67a37C76859F17fb2ff6672</td>\n      <td>1687806647</td>\n      <td>0.777957</td>\n      <td>55auraBal-45wsteth</td>\n      <td>0xc7FA3A3527435720f0e2a4c1378335324dd4F9b3</td>\n      <td>0xc7fa3a3527435720f0e2a4c1378335324dd4f9b3000200000000000000000459</td>\n    </tr>\n    <tr>\n      <td>0xa8D974288Fe44ACC329D7d7a179707D27Ec4dd1c</td>\n      <td>1684791827</td>\n      <td>0.474528</td>\n      <td>50tBTC-50WETH</td>\n      <td>0xc9f52540976385A84BF416903e1Ca3983c539E34</td>\n      <td>0xc9f52540976385a84bf416903e1ca3983c539e34000200000000000000000434</td>\n    </tr>\n    <tr>\n      <td>0x4944b07977A42C15c6a06CF4e204e24c60564104</td>\n      <td>1683715019</td>\n      <td>0.454235</td>\n      <td>rETH-bb-a-WETH-BPT</td>\n      <td>0xCba9Ff45cfB9cE238AfDE32b0148Eb82CbE63562</td>\n      <td>0xcba9ff45cfb9ce238afde32b0148eb82cbe635620000000000000000000003fd</td>\n    </tr>\n    <tr>\n      <td>0xc4b6cc9A444337b1Cb8cBbDD9de4d983f609C391</td>\n      <td>1684791827</td>\n      <td>0.233378</td>\n      <td>2BTC</td>\n      <td>0x542F16DA0efB162D20bF4358EfA095B70A100f9E</td>\n      <td>0x542f16da0efb162d20bf4358efa095b70a100f9e000000000000000000000436</td>\n    </tr>\n    <tr>\n      <td>0x25869f277f474FA9459F40F5D4cB0D6A8Ab41967</td>\n      <td>1687258571</td>\n      <td>0.210626</td>\n      <td>DOLA/USDC BPT</td>\n      <td>0x8bc65Eed474D1A00555825c91FeAb6A8255C2107</td>\n      <td>0x8bc65eed474d1a00555825c91feab6a8255c2107000000000000000000000453</td>\n    </tr>\n    <tr>\n      <td>0xacE0D479040231e3c6b17479cFd4444182d521d4</td>\n      <td>1687258571</td>\n      <td>0.210626</td>\n      <td>DOLA/bbaUSD-BPT</td>\n      <td>0x567ECfCB22205D279BB8Eed3E066989902bF03D5</td>\n      <td>0x567ecfcb22205d279bb8eed3e066989902bf03d5000000000000000000000452</td>\n    </tr>\n    <tr>\n      <td>0x0EDF6cDd81BC3471C053341B7D8Dfd1Cb367AD93</td>\n      <td>1683715019</td>\n      <td>0.183482</td>\n      <td>50MAGIC-50USDC</td>\n      <td>0xb3028Ca124B80CFE6E9CA57B70eF2F0CCC41eBd4</td>\n      <td>0xb3028ca124b80cfe6e9ca57b70ef2f0ccc41ebd40002000000000000000000ba</td>\n    </tr>\n    <tr>\n      <td>0xd758454BDF4Df7Ad85f7538DC9742648EF8e6d0A</td>\n      <td>1686659711</td>\n      <td>0.091146</td>\n      <td>80PAL-20OHM</td>\n      <td>0x8d333f82e0693f53fA48c40d5D4547142E907e1D</td>\n      <td>0x8d333f82e0693f53fa48c40d5d4547142e907e1d000200000000000000000437</td>\n    </tr>\n    <tr>\n      <td>0xB5044FD339A7b858095324cC3F239C212956C179</td>\n      <td>1683715019</td>\n      <td>0.016297</td>\n      <td>wstETH-bb-a-WETH-BPT</td>\n      <td>0x5A7f39435fD9c381e4932fa2047C9a5136A5E3E7</td>\n      <td>0x5a7f39435fd9c381e4932fa2047c9a5136a5e3e7000000000000000000000400</td>\n    </tr>\n    <tr>\n      <td>0xCe540832f7c790d25345Aa19FB1Db3cfDEA04611</td>\n      <td>1689617291</td>\n      <td>0.000000</td>\n      <td>alETH/rETH-BPT</td>\n      <td>0xfA92D9Dd808D0E8D68079BDc7f01E74658E1EF15</td>\n      <td>0xfa92d9dd808d0e8d68079bdc7f01e74658e1ef15000000000000000000000477</td>\n    </tr>\n    <tr>\n      <td>0xCe3a024bAF36C91d315722B093928020a4F56622</td>\n      <td>1690227287</td>\n      <td>0.000000</td>\n      <td>50STG-50bbaUSD</td>\n      <td>0x00FCD3d55085e998e291a0005cedeCF58aC14c40</td>\n      <td>0x00fcd3d55085e998e291a0005cedecf58ac14c4000020000000000000000047f</td>\n    </tr>\n    <tr>\n      <td>0x9ab40B6e1330Ce70B9e07cD691f281c1539944E6</td>\n      <td>1689617291</td>\n      <td>0.000000</td>\n      <td>bb-a-USD</td>\n      <td>0xc6EeE8cb7643eC2F05F46d569e9eC8EF8b41b389</td>\n      <td>0xc6eee8cb7643ec2f05f46d569e9ec8ef8b41b389000000000000000000000475</td>\n    </tr>\n    <tr>\n      <td>0x80aed5C5C683FEC86817C98da334DD72424E7297</td>\n      <td>1689617291</td>\n      <td>0.000000</td>\n      <td>wstETH-bb-a-WETH-BPT</td>\n      <td>0x45C4D1376943Ab28802B995aCfFC04903Eb5223f</td>\n      <td>0x45c4d1376943ab28802b995acffc04903eb5223f000000000000000000000470</td>\n    </tr>\n    <tr>\n      <td>0xb12ADA23eE766bd6b596E2bE556ea2046758b87c</td>\n      <td>1689617291</td>\n      <td>0.000000</td>\n      <td>rETH-bb-a-WETH-BPT</td>\n      <td>0xBe0f30217BE1e981aDD883848D0773A86d2d2CD4</td>\n      <td>0xbe0f30217be1e981add883848d0773a86d2d2cd4000000000000000000000471</td>\n    </tr>\n    <tr>\n      <td>0x6ba66967B0723718d616ad5F293c2AE6d7b0FCAE</td>\n      <td>1687258571</td>\n      <td>0.000000</td>\n      <td>B-50ACID-50WETH</td>\n      <td>0xCE2Da1D3e5b5e4E1913F9fF65eE029d38682d8b9</td>\n      <td>0xce2da1d3e5b5e4e1913f9ff65ee029d38682d8b900020000000000000000044e</td>\n    </tr>\n    <tr>\n      <td>0xD2C2b1C0F8Ad6E653eD7064fa7bAd7a22De8B249</td>\n      <td>1689617291</td>\n      <td>0.000000</td>\n      <td>alETH/wstETH-BPT</td>\n      <td>0x26e5C5e2b48815b59640a1a82ac3C2249188Daf4</td>\n      <td>0x26e5c5e2b48815b59640a1a82ac3c2249188daf4000000000000000000000476</td>\n    </tr>\n    <tr>\n      <td>0x8F7a0F9cf545DB78BF5120D3DBea7DE9c6220c10</td>\n      <td>1685385851</td>\n      <td>0.000000</td>\n      <td>50DFX-50WETH</td>\n      <td>0xa231aEa07Bb5e79aE162f95903806FC5AD65fF11</td>\n      <td>0xa231aea07bb5e79ae162f95903806fc5ad65ff1100020000000000000000043f</td>\n    </tr>\n    <tr>\n      <td>0x8204b749B808818DEb7957DbD030ceEA44D1FE18</td>\n      <td>1682430623</td>\n      <td>0.000000</td>\n      <td>50STG-50bbaUSD</td>\n      <td>0xD3D5d45f4Edf82ba0dFaf061d230766032a10e07</td>\n      <td>0xd3d5d45f4edf82ba0dfaf061d230766032a10e07000200000000000000000413</td>\n    </tr>\n    <tr>\n      <td>0x54BeFB03BB58687cDE09cd082Bd78410e309D8C7</td>\n      <td>1683715019</td>\n      <td>0.000000</td>\n      <td>bb-a-USD</td>\n      <td>0xEE02583596AEE94ccCB7e8ccd3921d955f17982A</td>\n      <td>0xee02583596aee94cccb7e8ccd3921d955f17982a00000000000000000000040a</td>\n    </tr>\n    <tr>\n      <td>0xBc771929359B1A6386801705e8D185205d8f1CBF</td>\n      <td>1690227287</td>\n      <td>0.000000</td>\n      <td>DOLA/bbaUSD-BPT</td>\n      <td>0xbBF9d705b75F408CFCaEE91dA32966124d2c6F7D</td>\n      <td>0xbbf9d705b75f408cfcaee91da32966124d2c6f7d00000000000000000000047e</td>\n    </tr>\n  </tbody>\n</table>"
     },
     "metadata": {},
     "output_type": "display_data"
    }
   ],
   "source": [
    "from copy import deepcopy\n",
    "from IPython.core.display import HTML\n",
    "import pandas as pd\n",
    "\n",
    "arb_gauges_copy = deepcopy(arb_gauges)\n",
    "# Remove some fields from the gauges\n",
    "for gauge in arb_gauges_copy.values():\n",
    "    gauge.pop('tokenLogoURIs', None)\n",
    "    symbol = gauge['pool']['symbol']\n",
    "    pool_addr = gauge['pool']['address']\n",
    "    pool_id = gauge['pool']['id']\n",
    "    gauge['pool_symbol'] = symbol\n",
    "    gauge['pool_addr'] = pool_addr\n",
    "    gauge['pool_id'] = pool_id\n",
    "    gauge.pop('pool', None)\n",
    "    gauge.pop('network', None)\n",
    "    gauge.pop('isKilled', None)\n",
    "    gauge.pop('relativeWeightCap', None)\n",
    "\n",
    "arb_gauges_df = pd.DataFrame.from_dict(arb_gauges_copy, orient='index')\n",
    "arb_gauges_df = arb_gauges_df.sort_values(by='voteWeight', ascending=False)\n",
    "display(HTML(arb_gauges_df.to_html(index=False)))"
   ],
   "metadata": {
    "collapsed": false,
    "ExecuteTime": {
     "end_time": "2023-07-26T13:00:33.233667Z",
     "start_time": "2023-07-26T13:00:33.206898Z"
    }
   }
  }
 ],
 "metadata": {
  "kernelspec": {
   "display_name": "Python 3",
   "language": "python",
   "name": "python3"
  },
  "language_info": {
   "codemirror_mode": {
    "name": "ipython",
    "version": 2
   },
   "file_extension": ".py",
   "mimetype": "text/x-python",
   "name": "python",
   "nbconvert_exporter": "python",
   "pygments_lexer": "ipython2",
   "version": "2.7.6"
  }
 },
 "nbformat": 4,
 "nbformat_minor": 0
}
