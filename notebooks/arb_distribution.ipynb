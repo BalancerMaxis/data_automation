{
 "cells": [
  {
   "cell_type": "markdown",
   "source": [
    "## Pre-collect all the data in this cell"
   ],
   "metadata": {
    "collapsed": false
   }
  },
  {
   "cell_type": "code",
   "execution_count": 82,
   "outputs": [],
   "source": [
    "import os\n",
    "from typing import Optional\n",
    "\n",
    "import requests\n",
    "from dotenv import load_dotenv\n",
    "from gql import Client\n",
    "from gql.transport.requests import RequestsHTTPTransport\n",
    "from web3 import Web3\n",
    "\n",
    "load_dotenv()\n",
    "\n",
    "ARB_CHAIN_ID = 42161\n",
    "BALANCER_GAUGE_URL = \"https://api.thegraph.com/subgraphs/name/balancer-labs/balancer-gauges\"\n",
    "BALANCER_GAUGE_CONTROLLER_ADDR = Web3.toChecksumAddress(\"0xC128468b7Ce63eA702C1f104D55A2566b13D3ABD\")\n",
    "BALANCER_GAUGE_CONTROLLER_ABI = [{\"stateMutability\": \"view\", \"type\": \"function\", \"name\": \"gauge_relative_weight\",\n",
    "                                  \"inputs\": [{\"name\": \"addr\", \"type\": \"address\"}],\n",
    "                                  \"outputs\": [{\"name\": \"\", \"type\": \"uint256\"}]},\n",
    "                                 {\"stateMutability\": \"view\", \"type\": \"function\", \"name\": \"gauge_relative_weight\",\n",
    "                                  \"inputs\": [{\"name\": \"addr\", \"type\": \"address\"}, {\"name\": \"time\", \"type\": \"uint256\"}],\n",
    "                                  \"outputs\": [{\"name\": \"\", \"type\": \"uint256\"}]}]\n",
    "\n",
    "web3 = Web3(Web3.HTTPProvider(os.environ[\"ETHNODEURL\"]))\n",
    "\n",
    "\n",
    "def make_gql_client(url: str) -> Optional[Client]:\n",
    "    transport = RequestsHTTPTransport(url=url, retries=3)\n",
    "    return Client(\n",
    "        transport=transport, fetch_schema_from_transport=True, execute_timeout=60\n",
    "    )\n",
    "\n",
    "\n",
    "client = make_gql_client(BALANCER_GAUGE_URL)\n",
    "\n",
    "# Fetch all voting gauges from github json\n",
    "voting_gauges_req = requests.get(\n",
    "    \"https://raw.githubusercontent.com/balancer/frontend-v2/master/src/data/voting-gauges.json\")\n",
    "if not voting_gauges_req.ok:\n",
    "    raise ValueError(\"Failed to fetch voting gauges\")\n",
    "voting_gauges = voting_gauges_req.json()\n",
    "\n",
    "# Collect arb gauges\n",
    "arb_gauges = {}\n",
    "for gauge in voting_gauges:\n",
    "    # Only collect gauges for the arb chain and that are not killed\n",
    "    if int(gauge['network']) == ARB_CHAIN_ID and gauge['isKilled'] is False:\n",
    "        arb_gauges[gauge['address']] = {\n",
    "            'gaugeAddress': gauge['address'],\n",
    "            'pool': gauge['pool']['address'],\n",
    "            'symbol': gauge['pool']['symbol']\n",
    "        }\n",
    "\n",
    "gauge_c_contract = web3.eth.contract(address=BALANCER_GAUGE_CONTROLLER_ADDR, abi=BALANCER_GAUGE_CONTROLLER_ABI)\n",
    "\n",
    "vote_weights = {}\n",
    "# Collect gauge voting weights from the gauge controller on chain\n",
    "for gauge_addr, gauge_data in arb_gauges.items():\n",
    "    weight = gauge_c_contract.functions.gauge_relative_weight(gauge_addr).call() / 1e18 * 100\n",
    "    vote_weights[gauge_addr] = weight\n",
    "    arb_gauges[gauge_addr]['voteWeight'] = weight"
   ],
   "metadata": {
    "collapsed": false,
    "ExecuteTime": {
     "end_time": "2023-07-26T13:21:36.352011Z",
     "start_time": "2023-07-26T13:21:30.165321Z"
    }
   }
  },
  {
   "cell_type": "markdown",
   "source": [
    "## Calculate arbitrum distribution across gauges"
   ],
   "metadata": {
    "collapsed": false
   }
  },
  {
   "cell_type": "code",
   "execution_count": 83,
   "outputs": [
    {
     "data": {
      "text/plain": "<IPython.core.display.HTML object>",
      "text/html": "<table border=\"1\" class=\"dataframe\">\n  <thead>\n    <tr style=\"text-align: right;\">\n      <th>gaugeAddress</th>\n      <th>pool</th>\n      <th>symbol</th>\n      <th>voteWeight</th>\n      <th>distribution</th>\n      <th>distributionInPercent</th>\n    </tr>\n  </thead>\n  <tbody>\n    <tr>\n      <td>0x8135d6AbFd42707A87A7b94c5CFA3529f9b432AD</td>\n      <td>0x32dF62dc3aEd2cD6224193052Ce665DC18165841</td>\n      <td>RDNT-WETH</td>\n      <td>0.821489</td>\n      <td>9740.400000</td>\n      <td>10.000000</td>\n    </tr>\n    <tr>\n      <td>0x4944b07977A42C15c6a06CF4e204e24c60564104</td>\n      <td>0xCba9Ff45cfB9cE238AfDE32b0148Eb82CbE63562</td>\n      <td>rETH-bb-a-WETH-BPT</td>\n      <td>0.454235</td>\n      <td>9740.400000</td>\n      <td>10.000000</td>\n    </tr>\n    <tr>\n      <td>0xa8D974288Fe44ACC329D7d7a179707D27Ec4dd1c</td>\n      <td>0xc9f52540976385A84BF416903e1Ca3983c539E34</td>\n      <td>50tBTC-50WETH</td>\n      <td>0.474528</td>\n      <td>9740.400000</td>\n      <td>10.000000</td>\n    </tr>\n    <tr>\n      <td>0xDf464348c4EC2Bf0e5D6926b9f707c8e02301adf</td>\n      <td>0x36bf227d6BaC96e2aB1EbB5492ECec69C691943f</td>\n      <td>B-wstETH-WETH-Stable</td>\n      <td>0.937519</td>\n      <td>9740.400000</td>\n      <td>10.000000</td>\n    </tr>\n    <tr>\n      <td>0x175407b4710b5A1cB67a37C76859F17fb2ff6672</td>\n      <td>0xc7FA3A3527435720f0e2a4c1378335324dd4F9b3</td>\n      <td>55auraBal-45wsteth</td>\n      <td>0.777957</td>\n      <td>9740.400000</td>\n      <td>10.000000</td>\n    </tr>\n    <tr>\n      <td>0xc4b6cc9A444337b1Cb8cBbDD9de4d983f609C391</td>\n      <td>0x542F16DA0efB162D20bF4358EfA095B70A100f9E</td>\n      <td>2BTC</td>\n      <td>0.233378</td>\n      <td>5153.140280</td>\n      <td>5.290481</td>\n    </tr>\n    <tr>\n      <td>0x25869f277f474FA9459F40F5D4cB0D6A8Ab41967</td>\n      <td>0x8bc65Eed474D1A00555825c91FeAb6A8255C2107</td>\n      <td>DOLA/USDC BPT</td>\n      <td>0.210626</td>\n      <td>4650.759897</td>\n      <td>4.774711</td>\n    </tr>\n    <tr>\n      <td>0xacE0D479040231e3c6b17479cFd4444182d521d4</td>\n      <td>0x567ECfCB22205D279BB8Eed3E066989902bF03D5</td>\n      <td>DOLA/bbaUSD-BPT</td>\n      <td>0.210626</td>\n      <td>4650.759897</td>\n      <td>4.774711</td>\n    </tr>\n    <tr>\n      <td>0x0EDF6cDd81BC3471C053341B7D8Dfd1Cb367AD93</td>\n      <td>0xb3028Ca124B80CFE6E9CA57B70eF2F0CCC41eBd4</td>\n      <td>50MAGIC-50USDC</td>\n      <td>0.183482</td>\n      <td>4051.398147</td>\n      <td>4.159376</td>\n    </tr>\n    <tr>\n      <td>0xd758454BDF4Df7Ad85f7538DC9742648EF8e6d0A</td>\n      <td>0x8d333f82e0693f53fA48c40d5D4547142E907e1D</td>\n      <td>80PAL-20OHM</td>\n      <td>0.091146</td>\n      <td>2012.556269</td>\n      <td>2.066195</td>\n    </tr>\n    <tr>\n      <td>0xB5044FD339A7b858095324cC3F239C212956C179</td>\n      <td>0x5A7f39435fD9c381e4932fa2047C9a5136A5E3E7</td>\n      <td>wstETH-bb-a-WETH-BPT</td>\n      <td>0.016297</td>\n      <td>359.858873</td>\n      <td>0.369450</td>\n    </tr>\n    <tr>\n      <td>0xCe540832f7c790d25345Aa19FB1Db3cfDEA04611</td>\n      <td>0xfA92D9Dd808D0E8D68079BDc7f01E74658E1EF15</td>\n      <td>alETH/rETH-BPT</td>\n      <td>0.000000</td>\n      <td>0.000000</td>\n      <td>0.000000</td>\n    </tr>\n    <tr>\n      <td>0xCe3a024bAF36C91d315722B093928020a4F56622</td>\n      <td>0x00FCD3d55085e998e291a0005cedeCF58aC14c40</td>\n      <td>50STG-50bbaUSD</td>\n      <td>0.000000</td>\n      <td>0.000000</td>\n      <td>0.000000</td>\n    </tr>\n    <tr>\n      <td>0x9ab40B6e1330Ce70B9e07cD691f281c1539944E6</td>\n      <td>0xc6EeE8cb7643eC2F05F46d569e9eC8EF8b41b389</td>\n      <td>bb-a-USD</td>\n      <td>0.000000</td>\n      <td>0.000000</td>\n      <td>0.000000</td>\n    </tr>\n    <tr>\n      <td>0x80aed5C5C683FEC86817C98da334DD72424E7297</td>\n      <td>0x45C4D1376943Ab28802B995aCfFC04903Eb5223f</td>\n      <td>wstETH-bb-a-WETH-BPT</td>\n      <td>0.000000</td>\n      <td>0.000000</td>\n      <td>0.000000</td>\n    </tr>\n    <tr>\n      <td>0xb12ADA23eE766bd6b596E2bE556ea2046758b87c</td>\n      <td>0xBe0f30217BE1e981aDD883848D0773A86d2d2CD4</td>\n      <td>rETH-bb-a-WETH-BPT</td>\n      <td>0.000000</td>\n      <td>0.000000</td>\n      <td>0.000000</td>\n    </tr>\n    <tr>\n      <td>0x6ba66967B0723718d616ad5F293c2AE6d7b0FCAE</td>\n      <td>0xCE2Da1D3e5b5e4E1913F9fF65eE029d38682d8b9</td>\n      <td>B-50ACID-50WETH</td>\n      <td>0.000000</td>\n      <td>0.000000</td>\n      <td>0.000000</td>\n    </tr>\n    <tr>\n      <td>0xD2C2b1C0F8Ad6E653eD7064fa7bAd7a22De8B249</td>\n      <td>0x26e5C5e2b48815b59640a1a82ac3C2249188Daf4</td>\n      <td>alETH/wstETH-BPT</td>\n      <td>0.000000</td>\n      <td>0.000000</td>\n      <td>0.000000</td>\n    </tr>\n    <tr>\n      <td>0x8F7a0F9cf545DB78BF5120D3DBea7DE9c6220c10</td>\n      <td>0xa231aEa07Bb5e79aE162f95903806FC5AD65fF11</td>\n      <td>50DFX-50WETH</td>\n      <td>0.000000</td>\n      <td>0.000000</td>\n      <td>0.000000</td>\n    </tr>\n    <tr>\n      <td>0x8204b749B808818DEb7957DbD030ceEA44D1FE18</td>\n      <td>0xD3D5d45f4Edf82ba0dFaf061d230766032a10e07</td>\n      <td>50STG-50bbaUSD</td>\n      <td>0.000000</td>\n      <td>0.000000</td>\n      <td>0.000000</td>\n    </tr>\n    <tr>\n      <td>0x54BeFB03BB58687cDE09cd082Bd78410e309D8C7</td>\n      <td>0xEE02583596AEE94ccCB7e8ccd3921d955f17982A</td>\n      <td>bb-a-USD</td>\n      <td>0.000000</td>\n      <td>0.000000</td>\n      <td>0.000000</td>\n    </tr>\n    <tr>\n      <td>0xBc771929359B1A6386801705e8D185205d8f1CBF</td>\n      <td>0xbBF9d705b75F408CFCaEE91dA32966124d2c6F7D</td>\n      <td>DOLA/bbaUSD-BPT</td>\n      <td>0.000000</td>\n      <td>0.000000</td>\n      <td>0.000000</td>\n    </tr>\n  </tbody>\n</table>"
     },
     "metadata": {},
     "output_type": "display_data"
    }
   ],
   "source": [
    "from copy import deepcopy\n",
    "from IPython.core.display import HTML\n",
    "import pandas as pd\n",
    "ARBITRUM_TO_DISTRIBUTE = 97404\n",
    "VOTE_CAP_IN_PERCENT = 10  # 10% cap on any single gauge\n",
    "VOTE_CAP = VOTE_CAP_IN_PERCENT / 100 * ARBITRUM_TO_DISTRIBUTE\n",
    "# Calculate total weight\n",
    "total_weight = sum([gauge['voteWeight'] for gauge in arb_gauges.values()])\n",
    "arb_gauge_distributions = {}\n",
    "for gauge_addr, gauge_data in arb_gauges.items():\n",
    "    # Calculate distribution based on vote weight and total weight\n",
    "    to_distribute = ARBITRUM_TO_DISTRIBUTE * gauge_data['voteWeight'] / total_weight\n",
    "    # Cap distribution at 10%\n",
    "    to_distribute = to_distribute if to_distribute < VOTE_CAP else VOTE_CAP\n",
    "    arb_gauge_distributions[gauge_addr] = {\n",
    "        'gaugeAddress': gauge_addr,\n",
    "        'pool': gauge_data['pool'],\n",
    "        'symbol': gauge_data['symbol'],\n",
    "        'voteWeight': gauge_data['voteWeight'],\n",
    "        'distribution': to_distribute if to_distribute < VOTE_CAP else VOTE_CAP,\n",
    "        'distributionInPercent': to_distribute / ARBITRUM_TO_DISTRIBUTE * 100\n",
    "    }\n",
    "\n",
    "arb_gauge_distributions_df = pd.DataFrame.from_dict(arb_gauge_distributions, orient='index')\n",
    "arb_gauge_distributions_df = arb_gauge_distributions_df.sort_values(by='distribution', ascending=False)\n",
    "display(HTML(arb_gauge_distributions_df.to_html(index=False)))"
   ],
   "metadata": {
    "collapsed": false,
    "ExecuteTime": {
     "end_time": "2023-07-26T13:21:36.383482Z",
     "start_time": "2023-07-26T13:21:36.373947Z"
    }
   }
  }
 ],
 "metadata": {
  "kernelspec": {
   "display_name": "Python 3",
   "language": "python",
   "name": "python3"
  },
  "language_info": {
   "codemirror_mode": {
    "name": "ipython",
    "version": 2
   },
   "file_extension": ".py",
   "mimetype": "text/x-python",
   "name": "python",
   "nbconvert_exporter": "python",
   "pygments_lexer": "ipython2",
   "version": "2.7.6"
  }
 },
 "nbformat": 4,
 "nbformat_minor": 0
}
