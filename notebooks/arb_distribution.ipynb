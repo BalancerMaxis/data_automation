{
 "cells": [
  {
   "cell_type": "markdown",
   "source": [
    "## Fetch pool snapshots from balancer subgraph"
   ],
   "metadata": {
    "collapsed": false
   }
  },
  {
   "cell_type": "code",
   "execution_count": 31,
   "outputs": [],
   "source": [
    "# Query:\n",
    "POOLS_SNAPSHOTS_QUERY = \"\"\"\n",
    "{{\n",
    "  poolSnapshots(\n",
    "    first: {first}\n",
    "    skip: {skip}\n",
    "    orderBy: timestamp\n",
    "    orderDirection: desc\n",
    "    where: {{timestamp_gte: {start_ts}, timestamp_lt: {end_ts}}}\n",
    "  ) {{\n",
    "    pool {{\n",
    "      address\n",
    "      id\n",
    "      symbol\n",
    "    }}\n",
    "    timestamp\n",
    "    protocolFee\n",
    "    swapFees\n",
    "    swapVolume\n",
    "    liquidity\n",
    "  }}\n",
    "}}\n",
    "\"\"\""
   ],
   "metadata": {
    "collapsed": false,
    "ExecuteTime": {
     "end_time": "2023-09-05T12:09:31.425397Z",
     "start_time": "2023-09-05T12:09:31.413558Z"
    }
   }
  },
  {
   "cell_type": "code",
   "execution_count": 32,
   "outputs": [],
   "source": [
    "import json\n",
    "from datetime import datetime\n",
    "from datetime import timedelta\n",
    "from typing import Dict\n",
    "from typing import List\n",
    "from typing import Optional\n",
    "\n",
    "from gql import Client\n",
    "from gql import gql\n",
    "from gql.transport.requests import RequestsHTTPTransport\n",
    "\n",
    "BALANCER_GRAPH_URL = \"https://api.thegraph.com/subgraphs/name/balancer-labs/balancer-arbitrum-v2\"\n",
    "\n",
    "# Start date and end date are the following: start date is always previous Thursday 00:00 UTC, end date is always this Thursday 00:00 UTC:\n",
    "today = datetime.today()\n",
    "# Calculate days until previous Thursday (0 = Monday, 3 = Thursday)\n",
    "days_until_previous_thursday = (today.weekday() - 3) % 7\n",
    "# Calculate start date by subtracting days_until_previous_thursday and setting time to 00:00\n",
    "start_date = today - timedelta(days=days_until_previous_thursday, hours=today.hour, minutes=today.minute,\n",
    "                               seconds=today.second, microseconds=today.microsecond)\n",
    "# Calculate end date by adding 7 days to the start date\n",
    "end_date = start_date + timedelta(days=7)\n",
    "\n",
    "start_ts = int(start_date.timestamp())\n",
    "end_ts = int(end_date.timestamp())\n",
    "\n",
    "\n",
    "# Fetch all the data from the balancer subgraph\n",
    "def make_gql_client(url: str) -> Optional[Client]:\n",
    "    transport = RequestsHTTPTransport(url=url, retries=3)\n",
    "    return Client(\n",
    "        transport=transport, fetch_schema_from_transport=True, execute_timeout=60\n",
    "    )\n",
    "\n",
    "\n",
    "def get_balancer_pool_snapshots() -> Optional[List[Dict]]:\n",
    "    client = make_gql_client(BALANCER_GRAPH_URL)\n",
    "    all_pools = []\n",
    "    limit = 100\n",
    "    offset = 0\n",
    "    while True:\n",
    "        result = client.execute(\n",
    "            gql(POOLS_SNAPSHOTS_QUERY.format(first=limit, skip=offset, start_ts=start_ts, end_ts=end_ts)))\n",
    "        all_pools.extend(result['poolSnapshots'])\n",
    "        offset += limit\n",
    "        if len(result['poolSnapshots']) < limit - 1:\n",
    "            break\n",
    "    return all_pools\n",
    "\n",
    "\n",
    "pool_snapshots = get_balancer_pool_snapshots()"
   ],
   "metadata": {
    "collapsed": false,
    "ExecuteTime": {
     "end_time": "2023-09-05T12:09:35.463664Z",
     "start_time": "2023-09-05T12:09:31.424892Z"
    }
   }
  },
  {
   "cell_type": "markdown",
   "source": [
    "## Calculate BAL emissions per week:"
   ],
   "metadata": {
    "collapsed": false
   }
  },
  {
   "cell_type": "code",
   "execution_count": 33,
   "outputs": [
    {
     "name": "stdout",
     "output_type": "stream",
     "text": [
      "Current BAL emissions per week: 121929.98021178861\n"
     ]
    }
   ],
   "source": [
    "current_year = 2023\n",
    "emissions_per_week = 0\n",
    "with open('../data/emissionsPerYear.json') as f:\n",
    "    data = json.load(f)\n",
    "for item in data['data']:\n",
    "    if item['year'] == str(current_year):\n",
    "        emissions_per_week = float(item['balPerWeek'])\n",
    "        break\n",
    "print(f'Current BAL emissions per week: {emissions_per_week}')"
   ],
   "metadata": {
    "collapsed": false,
    "ExecuteTime": {
     "end_time": "2023-09-05T12:09:35.468903Z",
     "start_time": "2023-09-05T12:09:35.465647Z"
    }
   }
  },
  {
   "cell_type": "markdown",
   "source": [
    "## Pre-process all the data in this cell"
   ],
   "metadata": {
    "collapsed": false
   }
  },
  {
   "cell_type": "code",
   "execution_count": 34,
   "outputs": [],
   "source": [
    "import os\n",
    "\n",
    "import requests\n",
    "from dotenv import load_dotenv\n",
    "from web3 import Web3\n",
    "from pycoingecko import CoinGeckoAPI\n",
    "\n",
    "load_dotenv()\n",
    "\n",
    "ARB_CHAIN_ID = 42161\n",
    "BALANCER_GAUGE_URL = \"https://api.thegraph.com/subgraphs/name/balancer-labs/balancer-gauges\"\n",
    "BALANCER_GAUGE_CONTROLLER_ADDR = Web3.toChecksumAddress(\"0xC128468b7Ce63eA702C1f104D55A2566b13D3ABD\")\n",
    "BALANCER_GAUGE_CONTROLLER_ABI = [{\"stateMutability\": \"view\", \"type\": \"function\", \"name\": \"gauge_relative_weight\",\n",
    "                                  \"inputs\": [{\"name\": \"addr\", \"type\": \"address\"}],\n",
    "                                  \"outputs\": [{\"name\": \"\", \"type\": \"uint256\"}]},\n",
    "                                 {\"stateMutability\": \"view\", \"type\": \"function\", \"name\": \"gauge_relative_weight\",\n",
    "                                  \"inputs\": [{\"name\": \"addr\", \"type\": \"address\"}, {\"name\": \"time\", \"type\": \"uint256\"}],\n",
    "                                  \"outputs\": [{\"name\": \"\", \"type\": \"uint256\"}]}]\n",
    "\n",
    "web3 = Web3(Web3.HTTPProvider(os.environ[\"ETHNODEURL\"]))\n",
    "\n",
    "# fetch balancer token usd price:\n",
    "cg = CoinGeckoAPI()\n",
    "bal_token_price = cg.get_price(ids='balancer', vs_currencies='usd')['balancer']['usd']\n",
    "# Fetch all voting gauges from github json\n",
    "voting_gauges_req = requests.get(\n",
    "    \"https://raw.githubusercontent.com/balancer/frontend-v2/master/src/data/voting-gauges.json\")\n",
    "if not voting_gauges_req.ok:\n",
    "    raise ValueError(\"Failed to fetch voting gauges\")\n",
    "voting_gauges = voting_gauges_req.json()\n",
    "\n",
    "# Collect arb gauges\n",
    "arb_gauges = {}\n",
    "for gauge in voting_gauges:\n",
    "    # Only collect gauges for the arb chain and that are not killed\n",
    "    if int(gauge['network']) == ARB_CHAIN_ID and gauge['isKilled'] is False:\n",
    "        arb_gauges[gauge['address']] = {\n",
    "            'gaugeAddress': gauge['address'],\n",
    "            'pool': gauge['pool']['address'],\n",
    "            'symbol': gauge['pool']['symbol'],\n",
    "            'id': gauge['pool']['id'],\n",
    "        }\n",
    "\n",
    "gauge_c_contract = web3.eth.contract(address=BALANCER_GAUGE_CONTROLLER_ADDR, abi=BALANCER_GAUGE_CONTROLLER_ABI)\n",
    "\n",
    "boost_data = {}\n",
    "cap_override_data = {}\n",
    "# Before, load boost data from the file\n",
    "with open('../data/arbitrumGrantGuageMetadata.json') as f:\n",
    "    boosties = json.load(f)\n",
    "    for boost in boosties:\n",
    "        boost_data[boost['gaugeAddress']] = boost.get('fixedBoost', 1)\n",
    "        cap_override_data[boost['gaugeAddress']] = boost.get('capOverride', 10)\n",
    "pool_protocol_fees = {}\n",
    "# Collect protocol fees from the pool snapshots:\n",
    "# TODO: Doesn't work properly as there can be multiple snapshots per pool per week\n",
    "for gauge_addr, gauge_data in arb_gauges.items():\n",
    "    for pool_snapshot in pool_snapshots:\n",
    "        if Web3.toChecksumAddress(pool_snapshot['pool']['address']) == Web3.toChecksumAddress(gauge_data['pool']):\n",
    "            # Since snapshots are sorted by timestamp descending, we can just take the first one we find for each pool and break\n",
    "            protocol_fee = float(pool_snapshot['protocolFee']) if pool_snapshot['protocolFee'] else 0\n",
    "            pool_protocol_fees[gauge_addr] = protocol_fee\n",
    "            break"
   ],
   "metadata": {
    "collapsed": false,
    "ExecuteTime": {
     "end_time": "2023-09-05T12:09:38.257976Z",
     "start_time": "2023-09-05T12:09:35.481523Z"
    }
   }
  },
  {
   "cell_type": "code",
   "execution_count": 35,
   "outputs": [],
   "source": [
    "# Apply boost data to arb gauges\n",
    "vote_weights = {}\n",
    "combined_boost = {}\n",
    "# Dynamic boost data to print out in the final table\n",
    "dynamic_boosts = {}\n",
    "# Collect gauge voting weights from the gauge controller on chain\n",
    "for gauge_addr, gauge_data in arb_gauges.items():\n",
    "    weight = gauge_c_contract.functions.gauge_relative_weight(gauge_addr).call() / 1e18 * 100\n",
    "    # Calculate dynamic boost. Formula is `[Fees earned/value of bal emitted per pool + 1]`\n",
    "    dollar_value_of_bal_emitted = weight * emissions_per_week * bal_token_price\n",
    "    if dollar_value_of_bal_emitted != 0:\n",
    "        dynamic_boost = (pool_protocol_fees.get(gauge_addr, 0) / dollar_value_of_bal_emitted) + 1\n",
    "    else:\n",
    "        dynamic_boost = 1\n",
    "    dynamic_boosts[gauge_addr] = dynamic_boost\n",
    "    # Now calculate the final boost value, which uses formula - (dynamic boost + fixed boost) - 1\n",
    "    boost = (dynamic_boost + boost_data.get(gauge_addr, 1)) - 1\n",
    "    combined_boost[gauge_addr] = boost\n",
    "    weight *= boost\n",
    "    vote_weights[gauge_addr] = weight\n",
    "    arb_gauges[gauge_addr]['voteWeight'] = weight"
   ],
   "metadata": {
    "collapsed": false,
    "ExecuteTime": {
     "end_time": "2023-09-05T12:09:44.041998Z",
     "start_time": "2023-09-05T12:09:38.261364Z"
    }
   }
  },
  {
   "cell_type": "markdown",
   "source": [
    "## Calculate arbitrum distribution across gauges"
   ],
   "metadata": {
    "collapsed": false
   }
  },
  {
   "cell_type": "code",
   "execution_count": 36,
   "outputs": [
    {
     "name": "stdout",
     "output_type": "stream",
     "text": [
      "Unspent arb: 0.0\n",
      "Arb distributed: 100000.0\n"
     ]
    },
    {
     "data": {
      "text/plain": "<IPython.core.display.HTML object>",
      "text/html": "<table border=\"1\" class=\"dataframe\">\n  <thead>\n    <tr style=\"text-align: right;\">\n      <th>gaugeAddress</th>\n      <th>pool</th>\n      <th>symbol</th>\n      <th>voteWeight</th>\n      <th>distribution</th>\n      <th>%distribution</th>\n      <th>boost</th>\n      <th>staticBoost</th>\n      <th>dynamicBoost</th>\n      <th>cap</th>\n    </tr>\n  </thead>\n  <tbody>\n    <tr>\n      <td>0xDf464348c4EC2Bf0e5D6926b9f707c8e02301adf</td>\n      <td>0x36bf227d6BaC96e2aB1EbB5492ECec69C691943f</td>\n      <td>B-wstETH-WETH-Stable</td>\n      <td>1.042869</td>\n      <td>20000.000000</td>\n      <td>20.000000</td>\n      <td>2.079593</td>\n      <td>1.75</td>\n      <td>1.329593</td>\n      <td>20%</td>\n    </tr>\n    <tr>\n      <td>0x0EDF6cDd81BC3471C053341B7D8Dfd1Cb367AD93</td>\n      <td>0xb3028Ca124B80CFE6E9CA57B70eF2F0CCC41eBd4</td>\n      <td>50MAGIC-50USDC</td>\n      <td>0.680929</td>\n      <td>10000.000000</td>\n      <td>10.000000</td>\n      <td>1.017578</td>\n      <td>1.00</td>\n      <td>1.017578</td>\n      <td>10%</td>\n    </tr>\n    <tr>\n      <td>0x8135d6AbFd42707A87A7b94c5CFA3529f9b432AD</td>\n      <td>0x32dF62dc3aEd2cD6224193052Ce665DC18165841</td>\n      <td>RDNT-WETH</td>\n      <td>2.571453</td>\n      <td>10000.000000</td>\n      <td>10.000000</td>\n      <td>2.509921</td>\n      <td>1.50</td>\n      <td>2.009921</td>\n      <td>10%</td>\n    </tr>\n    <tr>\n      <td>0xa8D974288Fe44ACC329D7d7a179707D27Ec4dd1c</td>\n      <td>0xc9f52540976385A84BF416903e1Ca3983c539E34</td>\n      <td>50tBTC-50WETH</td>\n      <td>0.602972</td>\n      <td>10000.000000</td>\n      <td>10.000000</td>\n      <td>1.006231</td>\n      <td>1.00</td>\n      <td>1.006231</td>\n      <td>10%</td>\n    </tr>\n    <tr>\n      <td>0x175407b4710b5A1cB67a37C76859F17fb2ff6672</td>\n      <td>0xc7FA3A3527435720f0e2a4c1378335324dd4F9b3</td>\n      <td>55auraBal-45wsteth</td>\n      <td>0.650079</td>\n      <td>10000.000000</td>\n      <td>10.000000</td>\n      <td>1.006203</td>\n      <td>1.00</td>\n      <td>1.006203</td>\n      <td>10%</td>\n    </tr>\n    <tr>\n      <td>0x56c0626E6E3931af90EbB679A321225180d4b32B</td>\n      <td>0x4a2F6Ae7F3e5D715689530873ec35593Dc28951B</td>\n      <td>wstETH/rETH/cbETH</td>\n      <td>0.646215</td>\n      <td>10000.000000</td>\n      <td>10.000000</td>\n      <td>1.005974</td>\n      <td>1.00</td>\n      <td>1.005974</td>\n      <td>10%</td>\n    </tr>\n    <tr>\n      <td>0x671eD21480acf63b0AB7297b901505F5BccAfa9b</td>\n      <td>0x3FD4954a851eaD144c2FF72B1f5a38Ea5976Bd54</td>\n      <td>ankrETH/wstETH-BPT</td>\n      <td>0.496952</td>\n      <td>9530.551316</td>\n      <td>9.530551</td>\n      <td>1.001665</td>\n      <td>1.00</td>\n      <td>1.001665</td>\n      <td>10%</td>\n    </tr>\n    <tr>\n      <td>0x25869f277f474FA9459F40F5D4cB0D6A8Ab41967</td>\n      <td>0x8bc65Eed474D1A00555825c91FeAb6A8255C2107</td>\n      <td>DOLA/USDC BPT</td>\n      <td>0.419695</td>\n      <td>8743.651107</td>\n      <td>8.743651</td>\n      <td>1.001235</td>\n      <td>1.00</td>\n      <td>1.001235</td>\n      <td>10%</td>\n    </tr>\n    <tr>\n      <td>0xc4b6cc9A444337b1Cb8cBbDD9de4d983f609C391</td>\n      <td>0x542F16DA0efB162D20bF4358EfA095B70A100f9E</td>\n      <td>2BTC</td>\n      <td>0.303699</td>\n      <td>7108.282420</td>\n      <td>7.108282</td>\n      <td>1.016364</td>\n      <td>1.00</td>\n      <td>1.016364</td>\n      <td>10%</td>\n    </tr>\n    <tr>\n      <td>0xd758454BDF4Df7Ad85f7538DC9742648EF8e6d0A</td>\n      <td>0x8d333f82e0693f53fA48c40d5D4547142E907e1D</td>\n      <td>80PAL-20OHM</td>\n      <td>0.134817</td>\n      <td>2872.506226</td>\n      <td>2.872506</td>\n      <td>1.001628</td>\n      <td>1.00</td>\n      <td>1.001628</td>\n      <td>10%</td>\n    </tr>\n    <tr>\n      <td>0x8F7a0F9cf545DB78BF5120D3DBea7DE9c6220c10</td>\n      <td>0xa231aEa07Bb5e79aE162f95903806FC5AD65fF11</td>\n      <td>50DFX-50WETH</td>\n      <td>0.080774</td>\n      <td>1745.008932</td>\n      <td>1.745009</td>\n      <td>1.000182</td>\n      <td>1.00</td>\n      <td>1.000182</td>\n      <td>10%</td>\n    </tr>\n  </tbody>\n</table>"
     },
     "metadata": {},
     "output_type": "display_data"
    }
   ],
   "source": [
    "from IPython.core.display import HTML\n",
    "import pandas as pd\n",
    "\n",
    "ARBITRUM_TO_DISTRIBUTE = 100_000\n",
    "VOTE_CAP_IN_PERCENT = 10  # 10% cap on any single gauge\n",
    "VOTE_CAPS_IN_PERCENTS = {gauge_addr: cap_override_data.get(gauge_addr, VOTE_CAP_IN_PERCENT) for gauge_addr in\n",
    "                         arb_gauges.keys()}\n",
    "# Custom gauge caps taken from boost data\n",
    "VOTE_CAPS = {gauge_addr: VOTE_CAPS_IN_PERCENTS[gauge_addr] / 100 * ARBITRUM_TO_DISTRIBUTE for gauge_addr in\n",
    "             arb_gauges.keys()}\n",
    "\n",
    "# Calculate total weight\n",
    "total_weight = sum([gauge['voteWeight'] for gauge in arb_gauges.values()])\n",
    "arb_gauge_distributions = {}\n",
    "for gauge_addr, gauge_data in arb_gauges.items():\n",
    "    # Calculate distribution based on vote weight and total weight\n",
    "    to_distribute = ARBITRUM_TO_DISTRIBUTE * gauge_data['voteWeight'] / total_weight\n",
    "    # Cap distribution\n",
    "    to_distribute = to_distribute if to_distribute < VOTE_CAPS[gauge_addr] else VOTE_CAPS[gauge_addr]\n",
    "    arb_gauge_distributions[gauge_addr] = {\n",
    "        'gaugeAddress': gauge_addr,\n",
    "        'pool': gauge_data['pool'],\n",
    "        'symbol': gauge_data['symbol'],\n",
    "        'voteWeight': gauge_data['voteWeight'],\n",
    "        'distribution': to_distribute if to_distribute < VOTE_CAPS[gauge_addr] else VOTE_CAPS[gauge_addr],\n",
    "        '%distribution': to_distribute / ARBITRUM_TO_DISTRIBUTE * 100,\n",
    "        'boost': combined_boost.get(gauge_addr, 1),\n",
    "        'staticBoost': boost_data.get(gauge_addr, 1),\n",
    "        'dynamicBoost': dynamic_boosts.get(gauge_addr, 1),\n",
    "        'cap': f\"{cap_override_data.get(gauge_addr, VOTE_CAP_IN_PERCENT)}%\"\n",
    "    }\n",
    "\n",
    "\n",
    "# Spend unspent arb on the gauges that are not capped yet\n",
    "def recur_distribute_unspend_arb():\n",
    "    unspent_arb = ARBITRUM_TO_DISTRIBUTE - sum([gauge['distribution'] for gauge in arb_gauge_distributions.values()])\n",
    "    if unspent_arb > 0:\n",
    "        # Find out total voting weight of uncapped gauges and mark it as 100%:\n",
    "        total_uncapped_weight = sum(\n",
    "            [g['voteWeight'] for g in [\n",
    "                gauge for addr, gauge in arb_gauge_distributions.items() if gauge['distribution'] < VOTE_CAPS[addr]]\n",
    "             ]\n",
    "        )\n",
    "        # Iterate over uncapped gauges and distribute unspent arb proportionally to their voting weight which is total uncapped weight\n",
    "        for a, uncap_gauge in {addr: gauge for addr, gauge in arb_gauge_distributions.items() if\n",
    "                               gauge['distribution'] < VOTE_CAPS[addr]}.items():\n",
    "            # For each loop calculate unspend arb\n",
    "            unspent_arb = ARBITRUM_TO_DISTRIBUTE - sum(\n",
    "                [gauge['distribution'] for gauge in arb_gauge_distributions.values()])\n",
    "            # Don't distribute more than vote cap\n",
    "            distribution = min(\n",
    "                uncap_gauge['distribution'] + unspent_arb * uncap_gauge['voteWeight'] / total_uncapped_weight,\n",
    "                VOTE_CAPS[a])\n",
    "            uncap_gauge['distribution'] = distribution\n",
    "            uncap_gauge['%distribution'] = uncap_gauge['distribution'] / ARBITRUM_TO_DISTRIBUTE * 100\n",
    "    # Call recursively if there is still unspent arb\n",
    "    if ARBITRUM_TO_DISTRIBUTE - sum([g['distribution'] for g in arb_gauge_distributions.values()]) > 0:\n",
    "        recur_distribute_unspend_arb()\n",
    "\n",
    "\n",
    "recur_distribute_unspend_arb()\n",
    "print(\n",
    "    f\"Unspent arb: {ARBITRUM_TO_DISTRIBUTE - sum([gauge['distribution'] for gauge in arb_gauge_distributions.values()])}\")\n",
    "print(f\"Arb distributed: {sum([gauge['distribution'] for gauge in arb_gauge_distributions.values()])}\")\n",
    "# # Remove arb gauges with 0 distribution\n",
    "arb_gauge_distributions = {addr: gauge for addr, gauge in arb_gauge_distributions.items() if\n",
    "                           gauge['distribution'] > 0}\n",
    "arb_gauge_distributions_df = pd.DataFrame.from_dict(arb_gauge_distributions, orient='index')\n",
    "arb_gauge_distributions_df = arb_gauge_distributions_df.sort_values(by='%distribution', ascending=False)\n",
    "display(HTML(arb_gauge_distributions_df.to_html(index=False)))"
   ],
   "metadata": {
    "collapsed": false,
    "ExecuteTime": {
     "end_time": "2023-09-05T12:09:44.060926Z",
     "start_time": "2023-09-05T12:09:44.053995Z"
    }
   }
  },
  {
   "cell_type": "markdown",
   "source": [
    "## Export to json"
   ],
   "metadata": {
    "collapsed": false
   }
  },
  {
   "cell_type": "code",
   "execution_count": 37,
   "outputs": [],
   "source": [
    "# Export to json\n",
    "with open('../data/arbitrumGaugeDistribution.json', 'w') as f:\n",
    "    json.dump(arb_gauge_distributions, f, indent=4)\n",
    "\n",
    "# Export to csv\n",
    "arb_gauge_distributions_df.to_csv('../data/arbitrumGaugeDistribution.csv', index=False)\n",
    "\n",
    "# Dump into output.json using:\n",
    "with open('../data/output_tx_template.json') as f:\n",
    "    output_data = json.load(f)\n",
    "\n",
    "# Find transaction with func name `setRecipientList` and dump gauge \n",
    "gauge_distributions = arb_gauge_distributions.values()\n",
    "assert sum([gauge['distribution'] for gauge in gauge_distributions]) == ARBITRUM_TO_DISTRIBUTE\n",
    "for tx in output_data['transactions']:\n",
    "    if tx['contractMethod']['name'] == 'setRecipientList':\n",
    "        # Inject list of gauges addresses:\n",
    "        tx['contractInputsValues'][\n",
    "            'gaugeAddresses'] = f\"[{','.join([gauge['gaugeAddress'] for gauge in gauge_distributions])}]\"\n",
    "        # Inject vote weights:\n",
    "        tx['contractInputsValues']['amountsPerPeriod'] = f\"[{','.join([str(int(gauge['distribution'] * 1e18)) for gauge in gauge_distributions])}]\"\n",
    "        break\n",
    "\n",
    "# Dump back to arb_distribution_for_msig.json\n",
    "with open('../data/arb_distribution_for_msig.json', 'w') as f:\n",
    "    json.dump(output_data, f, indent=4)\n"
   ],
   "metadata": {
    "collapsed": false,
    "ExecuteTime": {
     "end_time": "2023-09-05T12:09:44.081394Z",
     "start_time": "2023-09-05T12:09:44.059084Z"
    }
   }
  }
 ],
 "metadata": {
  "kernelspec": {
   "display_name": "Python 3",
   "language": "python",
   "name": "python3"
  },
  "language_info": {
   "codemirror_mode": {
    "name": "ipython",
    "version": 2
   },
   "file_extension": ".py",
   "mimetype": "text/x-python",
   "name": "python",
   "nbconvert_exporter": "python",
   "pygments_lexer": "ipython2",
   "version": "2.7.6"
  }
 },
 "nbformat": 4,
 "nbformat_minor": 0
}
