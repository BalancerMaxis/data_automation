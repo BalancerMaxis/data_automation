{
 "cells": [
  {
   "cell_type": "markdown",
   "source": [
    "## Collecting protocol fees across Balancer core pools on all networks\n",
    "- Spreadsheet as reference: https://docs.google.com/spreadsheets/d/1xwUPpbYq7woVOU9vQ8EB8MY75I-1mauTLyDVwvKUDKo/edit#gid=0\n",
    "- Collab: https://colab.research.google.com/drive/1vKCvcV5mkL1zwW3565kLSGkBEbt8NsoB?usp=sharing\n"
   ],
   "metadata": {
    "collapsed": false
   },
   "id": "e739385af75b2478"
  },
  {
   "cell_type": "code",
   "execution_count": 3,
   "outputs": [
    {
     "name": "stdout",
     "output_type": "stream",
     "text": [
      "ARBITRUM\n",
      "1664.325854325530001134427742\n",
      "1678.238862410888894378599026\n",
      "1670.977798491140066241908011\n",
      "0.9906605958376910375689404110\n",
      "1.173851070915343989675147645\n",
      "1668.730132563883403688566128\n",
      "1.000025925199399329690246051\n",
      "MAINNET\n",
      "1666.438758767065592600247809\n",
      "1711.871839104478311999119538\n",
      "1655.734096347396131918271244\n",
      "1665.661926991577507295464904\n",
      "1670.362861604763453888576930\n",
      "24.91420924682509453423001572\n",
      "1678.115126894037007703250708\n",
      "0.9849123889501633554769046261\n",
      "1674.674304490441818435885528\n",
      "55.35542349787851525628040549\n",
      "60.22846679963345422730886857\n",
      "208.2058275694412925067884878\n",
      "0.7435992240680706906129825548\n",
      "1678.997252827061916150051147\n",
      "10.02323332815189803288160323\n",
      "POLYGON\n",
      "0.9998366158156138384215492515\n",
      "0.9916650982404577986436149912\n",
      "0.5609691957752448541820939103\n",
      "0.5604728351490517554995250398\n",
      "1668.358660386120586874633164\n"
     ]
    }
   ],
   "source": [
    "import os\n",
    "\n",
    "from dotenv import load_dotenv\n",
    "from web3 import Web3\n",
    "from web3.middleware import geth_poa_middleware\n",
    "\n",
    "from notebooks import get_twap_bpt_price\n",
    "\n",
    "load_dotenv()\n",
    "arb_web3 = Web3(Web3.HTTPProvider(os.environ[\"ARBNODEURL\"]))\n",
    "eth_web3 = Web3(Web3.HTTPProvider(os.environ[\"ETHNODEURL\"]))\n",
    "poly_web3 = Web3(Web3.HTTPProvider(\"https://polygon-rpc.com\"))\n",
    "poly_web3.middleware_onion.inject(geth_poa_middleware, layer=0)\n",
    "\n",
    "# Define constants for Arbitrum:\n",
    "ARB_CORE_POOLS = [\n",
    "    \"0xbe0f30217be1e981add883848d0773a86d2d2cd4000000000000000000000471\",\n",
    "    \"0x36bf227d6bac96e2ab1ebb5492ecec69c691943f000200000000000000000316\",\n",
    "    \"0x4a2f6ae7f3e5d715689530873ec35593dc28951b000000000000000000000481\",\n",
    "    \"0xc6eee8cb7643ec2f05f46d569e9ec8ef8b41b389000000000000000000000475\",\n",
    "    \"0x32df62dc3aed2cd6224193052ce665dc181658410002000000000000000003bd\",\n",
    "    \"0x45c4d1376943ab28802b995acffc04903eb5223f000000000000000000000470\",\n",
    "    \"0x9cebf13bb702f253abf1579294694a1edad00eaa000000000000000000000486\",\n",
    "]\n",
    "ARB_BALANCER_GRAPH_URL = \"https://api.thegraph.com/subgraphs/name/balancer-labs/balancer-arbitrum-v2\"\n",
    "# Arb block time is .3 seconds\n",
    "ARB_CHAIN_BLOCK_TIME = 0.27\n",
    "\n",
    "MAINNET_CORE_POOLS = [\n",
    "    \"0x41503c9d499ddbd1dcdf818a1b05e9774203bf46000000000000000000000594\",\n",
    "    \"0x1e19cf2d73a72ef1332c882f20534b6519be0276000200000000000000000112\",\n",
    "    \"0xae8535c23afedda9304b03c68a3563b75fc8f92b0000000000000000000005a0\",\n",
    "    \"0x4c81255cc9ed7062180ea99962fe05ac0d57350b0000000000000000000005a3\",\n",
    "    \"0x42ed016f826165c2e5976fe5bc3df540c5ad0af700000000000000000000058b\",\n",
    "    \"0xf16aee6a71af1a9bc8f56975a4c2705ca7a782bc0002000000000000000004bb\",\n",
    "    \"0xb08885e6026bab4333a80024ec25a1a3e1ff2b8a000200000000000000000445\",\n",
    "    \"0xc2b021133d1b0cf07dba696fd5dd89338428225b000000000000000000000598\",\n",
    "    \"0xdfe6e7e18f6cc65fa13c8d8966013d4fda74b6ba000000000000000000000558\",\n",
    "    \"0x5f1f4e50ba51d723f12385a8a9606afc3a0555f5000200000000000000000465\",\n",
    "    \"0x1ee442b5326009bb18f2f472d3e0061513d1a0ff000200000000000000000464\",\n",
    "    \"0x9f9d900462492d4c21e9523ca95a7cd86142f298000200000000000000000462\",\n",
    "    \"0x639883476960a23b38579acfd7d71561a0f408cf000200000000000000000505\",\n",
    "    \"0x2e848426aec6dbf2260535a5bea048ed94d9ff3d000000000000000000000536\",\n",
    "    \"0x36be1e97ea98ab43b4debf92742517266f5731a3000200000000000000000466\",\n",
    "]\n",
    "MAINNET_BALANCER_GRAPH_URL = \"https://api.thegraph.com/subgraphs/name/balancer-labs/balancer-v2\"\n",
    "MAINNET_CHAIN_BLOCK_TIME = 12\n",
    "\n",
    "POLYGON_BALANCER_GRAPH_URL = \"https://api.thegraph.com/subgraphs/name/balancer-labs/balancer-polygon-v2\"\n",
    "# Polygon block time is 2 seconds\n",
    "POLYGON_CHAIN_BLOCK_TIME = 2\n",
    "POLYGON_CORE_POOLS = [\n",
    "    \"0x03090a9811181a2afe830a3a0b467698ccf3a8b1000000000000000000000bf5\",\n",
    "    \"0x9321e2250767d79bab5aa06daa8606a2b3b7b4c5000000000000000000000bf4\",\n",
    "    \"0xac2cae8d2f78a4a8f92f20dbe74042cd0a8d5af3000000000000000000000be2\",\n",
    "    \"0x402cfdb7781fa85d52f425352661128250b79e12000000000000000000000be3\",\n",
    "    \"0xab269164a10fab22bc87c39946da06c870b172d6000000000000000000000bfc\"\n",
    "]\n",
    "print(\"ARBITRUM\")\n",
    "arb_bpt_twap_prices = {}\n",
    "for arb_pool in ARB_CORE_POOLS:\n",
    "    arb_bpt_twap_prices[arb_pool] = get_twap_bpt_price(arb_pool, 'arbitrum', arb_web3)\n",
    "    print(get_twap_bpt_price(arb_pool, 'arbitrum', arb_web3))\n",
    "    \n",
    "print(\"MAINNET\")\n",
    "mainnet_bpt_twap_prices = {}\n",
    "for mainnet_pool in MAINNET_CORE_POOLS:\n",
    "    mainnet_bpt_twap_prices[mainnet_pool] = get_twap_bpt_price(mainnet_pool, 'mainnet', eth_web3)\n",
    "    print(get_twap_bpt_price(mainnet_pool, 'mainnet', eth_web3))\n",
    "    \n",
    "print(\"POLYGON\")\n",
    "polygon_bpt_twap_prices = {}\n",
    "for polygon_pool in POLYGON_CORE_POOLS:\n",
    "    polygon_bpt_twap_prices[polygon_pool] = get_twap_bpt_price(polygon_pool, 'polygon', poly_web3)\n",
    "    print(get_twap_bpt_price(polygon_pool, 'polygon', poly_web3))\n"
   ],
   "metadata": {
    "collapsed": false,
    "ExecuteTime": {
     "end_time": "2023-09-01T13:55:13.210758Z",
     "start_time": "2023-09-01T13:50:40.153068Z"
    }
   },
   "id": "39d87004addaae1b"
  },
  {
   "cell_type": "code",
   "execution_count": 9,
   "outputs": [],
   "source": [
    "# Query:\n",
    "POOLS_SNAPSHOTS_QUERY = \"\"\"\n",
    "{{\n",
    "  poolSnapshots(\n",
    "    first: {first}\n",
    "    skip: {skip}\n",
    "    orderBy: timestamp\n",
    "    orderDirection: desc\n",
    "    block: {{ number: {block} }}\n",
    "    where: {{ protocolFee_not: null }}\n",
    "  ) {{\n",
    "    pool {{\n",
    "      address\n",
    "      id\n",
    "      symbol\n",
    "      totalProtocolFeePaidInBPT\n",
    "      tokens {{\n",
    "        symbol\n",
    "        address\n",
    "        paidProtocolFees\n",
    "      }}\n",
    "    }}\n",
    "    timestamp\n",
    "    protocolFee\n",
    "    swapFees\n",
    "    swapVolume\n",
    "    liquidity\n",
    "  }}\n",
    "}}\n",
    "\"\"\""
   ],
   "metadata": {
    "collapsed": false,
    "ExecuteTime": {
     "end_time": "2023-08-29T15:35:50.166554Z",
     "start_time": "2023-08-29T15:35:50.147932Z"
    }
   },
   "id": "abc722b4fa453b5a"
  },
  {
   "cell_type": "markdown",
   "source": [
    "## Populate Mimic Data"
   ],
   "metadata": {
    "collapsed": false
   },
   "id": "7cee3fecf539595"
  },
  {
   "cell_type": "code",
   "execution_count": null,
   "outputs": [],
   "source": [
    "# Load mimic data\n",
    "import pandas as pd\n",
    "from web3 import Web3\n",
    "\n",
    "mimic_df = pd.read_csv('../data/balancer_last_period_updated.csv')\n",
    "# Calculate price per token for each sale event in csv file and add it as a new column\n",
    "# Convert all amounts to float\n",
    "mimic_df['amount'] = mimic_df['amount'].astype(float)\n",
    "mimic_df['price_per_token'] = mimic_df['amount_usd'] / (mimic_df['amount'] / 1e18)\n",
    "# Now that we have price for each event, we can calculate average price of token across all sale events\n",
    "mimic_df['avg_price_per_token'] = mimic_df.groupby('token')['price_per_token'].transform('mean')\n",
    "# Extract average price per token for each token\n",
    "mimic_df = mimic_df[['network', 'token', 'avg_price_per_token']].drop_duplicates()\n",
    "# Convert token address to checksum\n",
    "mimic_df['token'] = mimic_df['token'].apply(lambda x: Web3.toChecksumAddress(x))"
   ],
   "metadata": {
    "collapsed": false,
    "is_executing": true,
    "ExecuteTime": {
     "start_time": "2023-08-29T16:01:17.694332Z"
    }
   },
   "id": "c886d4cd9e518aec"
  },
  {
   "cell_type": "markdown",
   "source": [
    "## Fetching data from the Balancer subgraphs"
   ],
   "metadata": {
    "collapsed": false
   },
   "id": "cde5ffca807e3849"
  },
  {
   "cell_type": "code",
   "execution_count": 25,
   "outputs": [],
   "source": [
    "import datetime\n",
    "from typing import Dict\n",
    "from typing import List\n",
    "from typing import Optional\n",
    "\n",
    "from gql import Client\n",
    "from gql import gql\n",
    "from gql.transport.requests import RequestsHTTPTransport\n",
    "\n",
    "# ARBITRUM\n",
    "# TODO: \n",
    "# arb_block_now = arb_web3.eth.block_number - 1000\n",
    "arb_block_now = 122428959  # 18 August 2023\n",
    "arb_timestamp_now = arb_web3.eth.get_block(arb_block_now).timestamp\n",
    "# Given Arb block time, we want to look back 2 weeks:\n",
    "arb_block_2_weeks_ago = arb_block_now - (2 * 7 * 24 * 60 * 60 / ARB_CHAIN_BLOCK_TIME)\n",
    "arb_timestamp_2_weeks_ago = arb_web3.eth.get_block(int(arb_block_2_weeks_ago)).timestamp\n",
    "# Convert to datetime:\n",
    "arb_datetime_now = datetime.datetime.fromtimestamp(arb_timestamp_now)\n",
    "arb_datetime_2_weeks_ago = datetime.datetime.fromtimestamp(arb_timestamp_2_weeks_ago)\n",
    "# MAINNET\n",
    "# TODO: \n",
    "# mainnet_block_now = eth_web3.eth.block_number - 1000\n",
    "mainnet_block_now = 17938293\n",
    "mainnet_timestamp_now = eth_web3.eth.get_block(mainnet_block_now).timestamp\n",
    "# Given mainnet block time, we want to look back 2 weeks:\n",
    "mainnet_block_2_weeks_ago = mainnet_block_now - (2 * 7 * 24 * 60 * 60 / MAINNET_CHAIN_BLOCK_TIME)\n",
    "mainnet_timestamp_2_weeks_ago = eth_web3.eth.get_block(int(mainnet_block_2_weeks_ago)).timestamp\n",
    "# Convert to datetime:\n",
    "mainnet_datetime_now = datetime.datetime.fromtimestamp(mainnet_timestamp_now)\n",
    "mainnet_datetime_2_weeks_ago = datetime.datetime.fromtimestamp(mainnet_timestamp_2_weeks_ago)\n",
    "\n",
    "# POLYGON\n",
    "# poly_block_now = poly_web3.eth.block_number - 1000\n",
    "poly_block_now = 46439663\n",
    "poly_timestamp_now = poly_web3.eth.get_block(poly_block_now).timestamp\n",
    "# Given polygon block time, we want to look back 2 weeks:\n",
    "poly_block_2_weeks_ago = poly_block_now - (2 * 7 * 24 * 60 * 60 / POLYGON_CHAIN_BLOCK_TIME)\n",
    "poly_timestamp_2_weeks_ago = poly_web3.eth.get_block(int(poly_block_2_weeks_ago)).timestamp\n",
    "# Convert to datetime:\n",
    "poly_datetime_now = datetime.datetime.fromtimestamp(poly_timestamp_now)\n",
    "poly_datetime_2_weeks_ago = datetime.datetime.fromtimestamp(poly_timestamp_2_weeks_ago)\n",
    "\n",
    "\n",
    "# Fetch all the data from the balancer subgraph\n",
    "def make_gql_client(url: str) -> Optional[Client]:\n",
    "    transport = RequestsHTTPTransport(url=url, retries=3)\n",
    "    return Client(\n",
    "        transport=transport, fetch_schema_from_transport=True, execute_timeout=60\n",
    "    )\n",
    "\n",
    "\n",
    "def get_balancer_pool_snapshots(block: int, graph_url: str) -> Optional[List[Dict]]:\n",
    "    client = make_gql_client(graph_url)\n",
    "    all_pools = []\n",
    "    limit = 1000\n",
    "    offset = 0\n",
    "    while True:\n",
    "        result = client.execute(\n",
    "            gql(POOLS_SNAPSHOTS_QUERY.format(first=limit, skip=offset, block=block)))\n",
    "        all_pools.extend(result['poolSnapshots'])\n",
    "        offset += limit\n",
    "        if offset >= 5000:\n",
    "            break\n",
    "        if len(result['poolSnapshots']) < limit - 1:\n",
    "            break\n",
    "    return all_pools\n",
    "\n",
    "\n",
    "arbi_pool_snapshots_now = get_balancer_pool_snapshots(arb_block_now, ARB_BALANCER_GRAPH_URL)\n",
    "arbi_pool_snapshots_2_weeks_ago = get_balancer_pool_snapshots(int(arb_block_2_weeks_ago), ARB_BALANCER_GRAPH_URL)\n",
    "\n",
    "mainnet_pool_snapshots_now = get_balancer_pool_snapshots(mainnet_block_now, MAINNET_BALANCER_GRAPH_URL)\n",
    "mainnet_pool_snapshots_2_weeks_ago = get_balancer_pool_snapshots(int(mainnet_block_2_weeks_ago),\n",
    "                                                                 MAINNET_BALANCER_GRAPH_URL)\n",
    "\n",
    "polygon_pool_snapshots_now = get_balancer_pool_snapshots(poly_block_now, POLYGON_BALANCER_GRAPH_URL)\n",
    "polygon_pool_snapshots_2_weeks_ago = get_balancer_pool_snapshots(int(poly_block_2_weeks_ago),\n",
    "                                                                 POLYGON_BALANCER_GRAPH_URL)"
   ],
   "metadata": {
    "collapsed": false,
    "ExecuteTime": {
     "end_time": "2023-08-29T15:55:50.693837Z",
     "start_time": "2023-08-29T15:54:57.778473Z"
    }
   },
   "id": "e1e0b8b90f62234c"
  },
  {
   "cell_type": "markdown",
   "source": [
    "## Extract fee data from CORE pools:\n"
   ],
   "metadata": {
    "collapsed": false
   },
   "id": "d5333a7de445454d"
  },
  {
   "cell_type": "code",
   "execution_count": 17,
   "outputs": [],
   "source": [
    "from collections import defaultdict\n",
    "\n",
    "\n",
    "def collect_fee_info(pools: list[str], chain: str, pools_now: list[dict], pools_shifted: list[dict]) -> tuple[\n",
    "    dict, dict]:\n",
    "    # Iterate through snapshots now and 2 weeks ago and extract fee data, by subtracting today's fee data from 2 weeks ago\n",
    "    # and then summing across all pools\n",
    "    fees = {}\n",
    "    token_fees = defaultdict(list)\n",
    "    for pool in pools:\n",
    "        current_fees_snapshots = [x for x in pools_now if x['pool']['id'] == pool]\n",
    "        current_fees_snapshots.sort(key=lambda x: x['timestamp'], reverse=True)\n",
    "        fees_2_weeks_ago = [x for x in pools_shifted if x['pool']['id'] == pool]\n",
    "        fees_2_weeks_ago.sort(key=lambda x: x['timestamp'], reverse=True)\n",
    "        # Take first element of list, which is the most recent snapshot\n",
    "        if not current_fees_snapshots or not fees_2_weeks_ago:\n",
    "            continue\n",
    "        pool_snapshot_now = current_fees_snapshots[0]\n",
    "        pool_snapshot_2_weeks_ago = fees_2_weeks_ago[0]\n",
    "        # Calculate fees\n",
    "        pool_fee = float(pool_snapshot_now['protocolFee']) - float(pool_snapshot_2_weeks_ago['protocolFee'])\n",
    "        pool_swap_fee = float(pool_snapshot_now['swapFees']) - float(pool_snapshot_2_weeks_ago['swapFees'])\n",
    "        # Now we need to collect token fee info. Let's start with BPT tokens, which is Balancer pool token. Notice,\n",
    "        # That totalProtocolFeePaidInBPT can be null, so we need to check for that\n",
    "        bpt_token_fee = 0\n",
    "        bpt_price_usd = mimic_df[(mimic_df['token'] == Web3.toChecksumAddress(pool_snapshot_now['pool']['address']))][\n",
    "            'avg_price_per_token'].values\n",
    "        if len(bpt_price_usd) == 0:\n",
    "            bpt_price_usd = 0\n",
    "        else:\n",
    "            bpt_price_usd = bpt_price_usd[0]\n",
    "        if pool_snapshot_now['pool']['totalProtocolFeePaidInBPT'] is not None and pool_snapshot_2_weeks_ago['pool'][\n",
    "            'totalProtocolFeePaidInBPT'] is not None:\n",
    "            bpt_token_fee = float(pool_snapshot_now['pool']['totalProtocolFeePaidInBPT']) - float(\n",
    "                pool_snapshot_2_weeks_ago['pool']['totalProtocolFeePaidInBPT'])\n",
    "            token_fees[pool_snapshot_now['pool']['symbol']].append({\n",
    "                'token': pool_snapshot_now['pool']['symbol'],\n",
    "                'token_fee': bpt_token_fee,\n",
    "                'token_addr': pool_snapshot_now['pool']['address'],\n",
    "                'time_from': arb_datetime_2_weeks_ago,\n",
    "                'time_to': arb_datetime_now,\n",
    "                'chain': chain,\n",
    "            })\n",
    "        # Now collect fee info about fees paid in pool tokens. Pool tokens fee info is in pool.tokens dictionary. This will be separate dictionary\n",
    "        else:\n",
    "            for token_data in pool_snapshot_now['pool']['tokens']:\n",
    "                token_data_2_weeks_ago = \\\n",
    "                    [t for t in pool_snapshot_2_weeks_ago['pool']['tokens'] if t['address'] == token_data['address']][0]\n",
    "                token_fee = float(token_data.get('paidProtocolFees', None)) - float(\n",
    "                    token_data_2_weeks_ago.get('paidProtocolFees', None))\n",
    "                token_fees[pool_snapshot_now['pool']['symbol']].append({\n",
    "                    'token': token_data['symbol'],\n",
    "                    'token_fee': token_fee,\n",
    "                    'token_addr': token_data['address'],\n",
    "                    'time_from': arb_datetime_2_weeks_ago,\n",
    "                    'time_to': arb_datetime_now,\n",
    "                    'chain': chain,\n",
    "                })\n",
    "        # Get fee in USD by multiplying bpt_token_fee by price of BPT token taken from mimic_df\n",
    "\n",
    "        fees[pool_snapshot_now['pool']['symbol']] = {\n",
    "            'pool_fee': round(pool_fee, 2),\n",
    "            'swap_fee': round(pool_swap_fee, 2),\n",
    "            'bpt_token_fee': round(bpt_token_fee, 2),\n",
    "            # Get fee in USD by multiplying bpt_token_fee by price of BPT token taken from mimic_df\n",
    "            'bpt_token_fee_in_usd': bpt_token_fee * bpt_price_usd,\n",
    "            'time_from': arb_datetime_2_weeks_ago,\n",
    "            'time_to': arb_datetime_now,\n",
    "            'chain': chain,\n",
    "        }\n",
    "    return fees, token_fees\n",
    "\n",
    "\n",
    "arb_fees, arb_token_fees = collect_fee_info(ARB_CORE_POOLS, 'arbitrum', arbi_pool_snapshots_now,\n",
    "                                            arbi_pool_snapshots_2_weeks_ago)\n",
    "mainnet_fees, mainnet_token_fees = collect_fee_info(MAINNET_CORE_POOLS, 'mainnet', mainnet_pool_snapshots_now,\n",
    "                                                    mainnet_pool_snapshots_2_weeks_ago)\n",
    "polygon_fees, polygon_token_fees = collect_fee_info(POLYGON_CORE_POOLS, 'polygon', polygon_pool_snapshots_now,\n",
    "                                                    polygon_pool_snapshots_2_weeks_ago)\n",
    "# Convert to dataframe, sort by chain and pool fee\n",
    "joint_fees = {**arb_fees, **mainnet_fees, **polygon_fees}\n",
    "joint_fees_df = pd.DataFrame.from_dict(joint_fees, orient='index')\n",
    "joint_fees_df.sort_values(by=['chain', 'pool_fee'], ascending=False, inplace=True)"
   ],
   "metadata": {
    "collapsed": false,
    "ExecuteTime": {
     "end_time": "2023-08-29T15:38:57.408393Z",
     "start_time": "2023-08-29T15:38:57.381977Z"
    }
   },
   "id": "e79b2f6a4ead2cad"
  },
  {
   "cell_type": "code",
   "execution_count": 19,
   "outputs": [],
   "source": [
    "# Now parse token_fees into dataframe and sort by chain and token fee.\n",
    "# Notice, that token_fees is a dictionary of lists, so we need to flatten it first\n",
    "joint_token_fees = {**arb_token_fees, **mainnet_token_fees, **polygon_token_fees}\n",
    "joint_token_fees_df = pd.DataFrame.from_dict({(i, j): joint_token_fees[i][j]\n",
    "                                              for i in joint_token_fees.keys()\n",
    "                                              for j in range(len(joint_token_fees[i]))}, orient='index')\n",
    "# Remove index name\n",
    "joint_token_fees_df.index.names = ['pool', 'token_ix']\n",
    "# Sort by chain and token name\n",
    "# joint_token_fees_df.sort_values(by=['chain'], ascending=False, inplace=True)"
   ],
   "metadata": {
    "collapsed": false,
    "ExecuteTime": {
     "end_time": "2023-08-29T15:39:08.903597Z",
     "start_time": "2023-08-29T15:39:08.897939Z"
    }
   },
   "id": "7720d12cbfdc5ea9"
  },
  {
   "cell_type": "markdown",
   "source": [
    "## Populate token fees in USD using Mimic data"
   ],
   "metadata": {
    "collapsed": false
   },
   "id": "5c89fd201a8ff9b1"
  },
  {
   "cell_type": "code",
   "execution_count": 27,
   "outputs": [
    {
     "data": {
      "text/plain": "                                     chain                    token  \\\npool                    token_ix                                      \nrETH-bb-a-WETH-BPT      0         arbitrum                bb-a-WETH   \n                        1         arbitrum       rETH-bb-a-WETH-BPT   \n                        2         arbitrum                     rETH   \nB-wstETH-WETH-Stable    0         arbitrum                   wstETH   \n                        1         arbitrum                     WETH   \nwstETH/rETH/cbETH       0         arbitrum                    cbETH   \n                        1         arbitrum        wstETH/rETH/cbETH   \n                        2         arbitrum                   wstETH   \n                        3         arbitrum                     rETH   \nbb-a-USD                0         arbitrum                 bb-a-USD   \nRDNT-WETH               0         arbitrum                RDNT-WETH   \nwstETH-bb-a-WETH-BPT    0          polygon                   wstETH   \n                        1          polygon                bb-a-WETH   \n                        2          polygon     wstETH-bb-a-WETH-BPT   \nB-rETH-STABLE           0          mainnet                     rETH   \n                        1          mainnet                     WETH   \nswETH-bb-a-WETH-BPT     0          mainnet      swETH-bb-a-WETH-BPT   \ncbETH-bb-a-WETH-BPT     0          mainnet     cbETH-bb-a-WETH-BPT    \n                        1          mainnet                bb-a-WETH   \n                        2          mainnet                    cbETH   \nwstETH-rETH-sfrxETH-BPT 0          mainnet  wstETH-rETH-sfrxETH-BPT   \n20WETH-80ALCX           0          mainnet            20WETH-80ALCX   \nB-staFiETH-WETH-Stable  0          mainnet                     rETH   \n                        1          mainnet                     WETH   \nGHO/bb-a-USD            0          mainnet             GHO/bb-a-USD   \nankrETH/wstETH          0          mainnet           ankrETH/wstETH   \n50wstETH-50LDO          0          mainnet           50wstETH-50LDO   \n50rETH-50BADGER         0          mainnet          50rETH-50BADGER   \n50rETH-50RPL            0          mainnet             50rETH-50RPL   \n50STG-50bbaUSD          0          mainnet           50STG-50bbaUSD   \nwbETH-wstETH            0          mainnet             wbETH-wstETH   \n50wstETH-50ACX          0          mainnet           50wstETH-50ACX   \nbb-am-usd               0          polygon                bb-am-usd   \n                        1          polygon                bb-a-USDT   \n                        2          polygon                 bb-a-DAI   \n                        3          polygon                bb-a-USDC   \nstMATIC-bb-a-WMATIC-BPT 0          polygon                  stMATIC   \n                        1          polygon  stMATIC-bb-a-WMATIC-BPT   \n                        2          polygon              bb-a-WMATIC   \nMaticX-bb-a-WMATIC-BPT  0          polygon   MaticX-bb-a-WMATIC-BPT   \n\n                                  token_price  token_fee_usd     token_fee  \\\npool                    token_ix                                             \nrETH-bb-a-WETH-BPT      0                 NaN           0.00      0.000000   \n                        1         1824.888612           0.00      0.000000   \n                        2                 NaN           0.00      0.000000   \nB-wstETH-WETH-Stable    0         2080.513177        8709.65      4.186298   \n                        1         1811.358945        2007.04      1.108030   \nwstETH/rETH/cbETH       0                 NaN           0.00      0.000000   \n                        1                 NaN           0.00      0.000000   \n                        2         2080.513177           0.00      0.000000   \n                        3                 NaN           0.00      0.000000   \nbb-a-USD                0            1.001321        4202.97   4197.426500   \nRDNT-WETH               0            0.265823        6841.92  25738.626362   \nwstETH-bb-a-WETH-BPT    0                 NaN           0.00      0.000000   \n                        1                 NaN           0.00      0.000000   \n                        2                 NaN           0.00      0.000000   \nB-rETH-STABLE           0                 NaN           0.00      0.000000   \n                        1                 NaN           0.00     14.792204   \nswETH-bb-a-WETH-BPT     0                 NaN           0.00      3.804896   \ncbETH-bb-a-WETH-BPT     0                 NaN           0.00      0.000000   \n                        1                 NaN           0.00      0.000000   \n                        2                 NaN           0.00      0.000000   \nwstETH-rETH-sfrxETH-BPT 0                 NaN           0.00     15.948333   \n20WETH-80ALCX           0                 NaN           0.00     64.249132   \nB-staFiETH-WETH-Stable  0                 NaN           0.00      1.345875   \n                        1                 NaN           0.00      0.112096   \nGHO/bb-a-USD            0                 NaN           0.00   3122.838043   \nankrETH/wstETH          0                 NaN           0.00      3.704246   \n50wstETH-50LDO          0                 NaN           0.00      8.270134   \n50rETH-50BADGER         0                 NaN           0.00    174.040557   \n50rETH-50RPL            0                 NaN           0.00     11.926416   \n50STG-50bbaUSD          0                 NaN           0.00  20756.668836   \nwbETH-wstETH            0                 NaN           0.00      0.040637   \n50wstETH-50ACX          0                 NaN           0.00     29.361720   \nbb-am-usd               0                 NaN           0.00      0.000000   \n                        1                 NaN           0.00      0.000000   \n                        2                 NaN           0.00      0.000000   \n                        3                 NaN           0.00      0.000000   \nstMATIC-bb-a-WMATIC-BPT 0            0.710919           0.00      0.000000   \n                        1                 NaN           0.00      0.000000   \n                        2                 NaN           0.00      0.000000   \nMaticX-bb-a-WMATIC-BPT  0            0.654610        2557.69   3907.191854   \n\n                                           time_from             time_to  \\\npool                    token_ix                                           \nrETH-bb-a-WETH-BPT      0        2023-07-21 15:40:36 2023-08-18 03:24:52   \n                        1        2023-07-21 15:40:36 2023-08-18 03:24:52   \n                        2        2023-07-21 15:40:36 2023-08-18 03:24:52   \nB-wstETH-WETH-Stable    0        2023-07-21 15:40:36 2023-08-18 03:24:52   \n                        1        2023-07-21 15:40:36 2023-08-18 03:24:52   \nwstETH/rETH/cbETH       0        2023-07-21 15:40:36 2023-08-18 03:24:52   \n                        1        2023-07-21 15:40:36 2023-08-18 03:24:52   \n                        2        2023-07-21 15:40:36 2023-08-18 03:24:52   \n                        3        2023-07-21 15:40:36 2023-08-18 03:24:52   \nbb-a-USD                0        2023-07-21 15:40:36 2023-08-18 03:24:52   \nRDNT-WETH               0        2023-07-21 15:40:36 2023-08-18 03:24:52   \nwstETH-bb-a-WETH-BPT    0        2023-07-21 15:40:36 2023-08-18 03:24:52   \n                        1        2023-07-21 15:40:36 2023-08-18 03:24:52   \n                        2        2023-07-21 15:40:36 2023-08-18 03:24:52   \nB-rETH-STABLE           0        2023-07-21 15:40:36 2023-08-18 03:24:52   \n                        1        2023-07-21 15:40:36 2023-08-18 03:24:52   \nswETH-bb-a-WETH-BPT     0        2023-07-21 15:40:36 2023-08-18 03:24:52   \ncbETH-bb-a-WETH-BPT     0        2023-07-21 15:40:36 2023-08-18 03:24:52   \n                        1        2023-07-21 15:40:36 2023-08-18 03:24:52   \n                        2        2023-07-21 15:40:36 2023-08-18 03:24:52   \nwstETH-rETH-sfrxETH-BPT 0        2023-07-21 15:40:36 2023-08-18 03:24:52   \n20WETH-80ALCX           0        2023-07-21 15:40:36 2023-08-18 03:24:52   \nB-staFiETH-WETH-Stable  0        2023-07-21 15:40:36 2023-08-18 03:24:52   \n                        1        2023-07-21 15:40:36 2023-08-18 03:24:52   \nGHO/bb-a-USD            0        2023-07-21 15:40:36 2023-08-18 03:24:52   \nankrETH/wstETH          0        2023-07-21 15:40:36 2023-08-18 03:24:52   \n50wstETH-50LDO          0        2023-07-21 15:40:36 2023-08-18 03:24:52   \n50rETH-50BADGER         0        2023-07-21 15:40:36 2023-08-18 03:24:52   \n50rETH-50RPL            0        2023-07-21 15:40:36 2023-08-18 03:24:52   \n50STG-50bbaUSD          0        2023-07-21 15:40:36 2023-08-18 03:24:52   \nwbETH-wstETH            0        2023-07-21 15:40:36 2023-08-18 03:24:52   \n50wstETH-50ACX          0        2023-07-21 15:40:36 2023-08-18 03:24:52   \nbb-am-usd               0        2023-07-21 15:40:36 2023-08-18 03:24:52   \n                        1        2023-07-21 15:40:36 2023-08-18 03:24:52   \n                        2        2023-07-21 15:40:36 2023-08-18 03:24:52   \n                        3        2023-07-21 15:40:36 2023-08-18 03:24:52   \nstMATIC-bb-a-WMATIC-BPT 0        2023-07-21 15:40:36 2023-08-18 03:24:52   \n                        1        2023-07-21 15:40:36 2023-08-18 03:24:52   \n                        2        2023-07-21 15:40:36 2023-08-18 03:24:52   \nMaticX-bb-a-WMATIC-BPT  0        2023-07-21 15:40:36 2023-08-18 03:24:52   \n\n                                                                  token_addr  \npool                    token_ix                                              \nrETH-bb-a-WETH-BPT      0         0xad28940024117b442a9efb6d0f25c8b59e1c950b  \n                        1         0xbe0f30217be1e981add883848d0773a86d2d2cd4  \n                        2         0xec70dcb4a1efa46b8f2d97c310c9c4790ba5ffa8  \nB-wstETH-WETH-Stable    0         0x5979d7b546e38e414f7e9822514be443a4800529  \n                        1         0x82af49447d8a07e3bd95bd0d56f35241523fbab1  \nwstETH/rETH/cbETH       0         0x1debd73e752beaf79865fd6446b0c970eae7732f  \n                        1         0x4a2f6ae7f3e5d715689530873ec35593dc28951b  \n                        2         0x5979d7b546e38e414f7e9822514be443a4800529  \n                        3         0xec70dcb4a1efa46b8f2d97c310c9c4790ba5ffa8  \nbb-a-USD                0         0xc6eee8cb7643ec2f05f46d569e9ec8ef8b41b389  \nRDNT-WETH               0         0x32df62dc3aed2cd6224193052ce665dc18165841  \nwstETH-bb-a-WETH-BPT    0         0x03b54a6e9a984069379fae1a4fc4dbae93b3bccd  \n                        1         0x25e57f4612912614e6c99616bd2abb9b5ae71e99  \n                        2         0xab269164a10fab22bc87c39946da06c870b172d6  \nB-rETH-STABLE           0         0xae78736cd615f374d3085123a210448e74fc6393  \n                        1         0xc02aaa39b223fe8d0a0e5c4f27ead9083c756cc2  \nswETH-bb-a-WETH-BPT     0         0xae8535c23afedda9304b03c68a3563b75fc8f92b  \ncbETH-bb-a-WETH-BPT     0         0x4c81255cc9ed7062180ea99962fe05ac0d57350b  \n                        1         0xbb6881874825e60e1160416d6c426eae65f2459e  \n                        2         0xbe9895146f7af43049ca1c1ae358b0541ea49704  \nwstETH-rETH-sfrxETH-BPT 0         0x42ed016f826165c2e5976fe5bc3df540c5ad0af7  \n20WETH-80ALCX           0         0xf16aee6a71af1a9bc8f56975a4c2705ca7a782bc  \nB-staFiETH-WETH-Stable  0         0x9559aaa82d9649c7a7b220e7c461d2e74c9a3593  \n                        1         0xc02aaa39b223fe8d0a0e5c4f27ead9083c756cc2  \nGHO/bb-a-USD            0         0xc2b021133d1b0cf07dba696fd5dd89338428225b  \nankrETH/wstETH          0         0xdfe6e7e18f6cc65fa13c8d8966013d4fda74b6ba  \n50wstETH-50LDO          0         0x5f1f4e50ba51d723f12385a8a9606afc3a0555f5  \n50rETH-50BADGER         0         0x1ee442b5326009bb18f2f472d3e0061513d1a0ff  \n50rETH-50RPL            0         0x9f9d900462492d4c21e9523ca95a7cd86142f298  \n50STG-50bbaUSD          0         0x639883476960a23b38579acfd7d71561a0f408cf  \nwbETH-wstETH            0         0x2e848426aec6dbf2260535a5bea048ed94d9ff3d  \n50wstETH-50ACX          0         0x36be1e97ea98ab43b4debf92742517266f5731a3  \nbb-am-usd               0         0x03090a9811181a2afe830a3a0b467698ccf3a8b1  \n                        1         0x230ecdb2a7cee56d6889965a023aa0473d6da507  \n                        2         0x63ce19ccd39930725b8a3d2733627804718ab83d  \n                        3         0x89bb15076c9f2d86aa98ec6cffc1a71e31c38953  \nstMATIC-bb-a-WMATIC-BPT 0         0x3a58a54c066fdc0f2d55fc9c89f0415c92ebf3c4  \n                        1         0xac2cae8d2f78a4a8f92f20dbe74042cd0a8d5af3  \n                        2         0xb0c830dceb4ef55a60192472c20c8bf19df03488  \nMaticX-bb-a-WMATIC-BPT  0         0x402cfdb7781fa85d52f425352661128250b79e12  ",
      "text/html": "<div>\n<style scoped>\n    .dataframe tbody tr th:only-of-type {\n        vertical-align: middle;\n    }\n\n    .dataframe tbody tr th {\n        vertical-align: top;\n    }\n\n    .dataframe thead th {\n        text-align: right;\n    }\n</style>\n<table border=\"1\" class=\"dataframe\">\n  <thead>\n    <tr style=\"text-align: right;\">\n      <th></th>\n      <th></th>\n      <th>chain</th>\n      <th>token</th>\n      <th>token_price</th>\n      <th>token_fee_usd</th>\n      <th>token_fee</th>\n      <th>time_from</th>\n      <th>time_to</th>\n      <th>token_addr</th>\n    </tr>\n    <tr>\n      <th>pool</th>\n      <th>token_ix</th>\n      <th></th>\n      <th></th>\n      <th></th>\n      <th></th>\n      <th></th>\n      <th></th>\n      <th></th>\n      <th></th>\n    </tr>\n  </thead>\n  <tbody>\n    <tr>\n      <th rowspan=\"3\" valign=\"top\">rETH-bb-a-WETH-BPT</th>\n      <th>0</th>\n      <td>arbitrum</td>\n      <td>bb-a-WETH</td>\n      <td>NaN</td>\n      <td>0.00</td>\n      <td>0.000000</td>\n      <td>2023-07-21 15:40:36</td>\n      <td>2023-08-18 03:24:52</td>\n      <td>0xad28940024117b442a9efb6d0f25c8b59e1c950b</td>\n    </tr>\n    <tr>\n      <th>1</th>\n      <td>arbitrum</td>\n      <td>rETH-bb-a-WETH-BPT</td>\n      <td>1824.888612</td>\n      <td>0.00</td>\n      <td>0.000000</td>\n      <td>2023-07-21 15:40:36</td>\n      <td>2023-08-18 03:24:52</td>\n      <td>0xbe0f30217be1e981add883848d0773a86d2d2cd4</td>\n    </tr>\n    <tr>\n      <th>2</th>\n      <td>arbitrum</td>\n      <td>rETH</td>\n      <td>NaN</td>\n      <td>0.00</td>\n      <td>0.000000</td>\n      <td>2023-07-21 15:40:36</td>\n      <td>2023-08-18 03:24:52</td>\n      <td>0xec70dcb4a1efa46b8f2d97c310c9c4790ba5ffa8</td>\n    </tr>\n    <tr>\n      <th rowspan=\"2\" valign=\"top\">B-wstETH-WETH-Stable</th>\n      <th>0</th>\n      <td>arbitrum</td>\n      <td>wstETH</td>\n      <td>2080.513177</td>\n      <td>8709.65</td>\n      <td>4.186298</td>\n      <td>2023-07-21 15:40:36</td>\n      <td>2023-08-18 03:24:52</td>\n      <td>0x5979d7b546e38e414f7e9822514be443a4800529</td>\n    </tr>\n    <tr>\n      <th>1</th>\n      <td>arbitrum</td>\n      <td>WETH</td>\n      <td>1811.358945</td>\n      <td>2007.04</td>\n      <td>1.108030</td>\n      <td>2023-07-21 15:40:36</td>\n      <td>2023-08-18 03:24:52</td>\n      <td>0x82af49447d8a07e3bd95bd0d56f35241523fbab1</td>\n    </tr>\n    <tr>\n      <th rowspan=\"4\" valign=\"top\">wstETH/rETH/cbETH</th>\n      <th>0</th>\n      <td>arbitrum</td>\n      <td>cbETH</td>\n      <td>NaN</td>\n      <td>0.00</td>\n      <td>0.000000</td>\n      <td>2023-07-21 15:40:36</td>\n      <td>2023-08-18 03:24:52</td>\n      <td>0x1debd73e752beaf79865fd6446b0c970eae7732f</td>\n    </tr>\n    <tr>\n      <th>1</th>\n      <td>arbitrum</td>\n      <td>wstETH/rETH/cbETH</td>\n      <td>NaN</td>\n      <td>0.00</td>\n      <td>0.000000</td>\n      <td>2023-07-21 15:40:36</td>\n      <td>2023-08-18 03:24:52</td>\n      <td>0x4a2f6ae7f3e5d715689530873ec35593dc28951b</td>\n    </tr>\n    <tr>\n      <th>2</th>\n      <td>arbitrum</td>\n      <td>wstETH</td>\n      <td>2080.513177</td>\n      <td>0.00</td>\n      <td>0.000000</td>\n      <td>2023-07-21 15:40:36</td>\n      <td>2023-08-18 03:24:52</td>\n      <td>0x5979d7b546e38e414f7e9822514be443a4800529</td>\n    </tr>\n    <tr>\n      <th>3</th>\n      <td>arbitrum</td>\n      <td>rETH</td>\n      <td>NaN</td>\n      <td>0.00</td>\n      <td>0.000000</td>\n      <td>2023-07-21 15:40:36</td>\n      <td>2023-08-18 03:24:52</td>\n      <td>0xec70dcb4a1efa46b8f2d97c310c9c4790ba5ffa8</td>\n    </tr>\n    <tr>\n      <th>bb-a-USD</th>\n      <th>0</th>\n      <td>arbitrum</td>\n      <td>bb-a-USD</td>\n      <td>1.001321</td>\n      <td>4202.97</td>\n      <td>4197.426500</td>\n      <td>2023-07-21 15:40:36</td>\n      <td>2023-08-18 03:24:52</td>\n      <td>0xc6eee8cb7643ec2f05f46d569e9ec8ef8b41b389</td>\n    </tr>\n    <tr>\n      <th>RDNT-WETH</th>\n      <th>0</th>\n      <td>arbitrum</td>\n      <td>RDNT-WETH</td>\n      <td>0.265823</td>\n      <td>6841.92</td>\n      <td>25738.626362</td>\n      <td>2023-07-21 15:40:36</td>\n      <td>2023-08-18 03:24:52</td>\n      <td>0x32df62dc3aed2cd6224193052ce665dc18165841</td>\n    </tr>\n    <tr>\n      <th rowspan=\"3\" valign=\"top\">wstETH-bb-a-WETH-BPT</th>\n      <th>0</th>\n      <td>polygon</td>\n      <td>wstETH</td>\n      <td>NaN</td>\n      <td>0.00</td>\n      <td>0.000000</td>\n      <td>2023-07-21 15:40:36</td>\n      <td>2023-08-18 03:24:52</td>\n      <td>0x03b54a6e9a984069379fae1a4fc4dbae93b3bccd</td>\n    </tr>\n    <tr>\n      <th>1</th>\n      <td>polygon</td>\n      <td>bb-a-WETH</td>\n      <td>NaN</td>\n      <td>0.00</td>\n      <td>0.000000</td>\n      <td>2023-07-21 15:40:36</td>\n      <td>2023-08-18 03:24:52</td>\n      <td>0x25e57f4612912614e6c99616bd2abb9b5ae71e99</td>\n    </tr>\n    <tr>\n      <th>2</th>\n      <td>polygon</td>\n      <td>wstETH-bb-a-WETH-BPT</td>\n      <td>NaN</td>\n      <td>0.00</td>\n      <td>0.000000</td>\n      <td>2023-07-21 15:40:36</td>\n      <td>2023-08-18 03:24:52</td>\n      <td>0xab269164a10fab22bc87c39946da06c870b172d6</td>\n    </tr>\n    <tr>\n      <th rowspan=\"2\" valign=\"top\">B-rETH-STABLE</th>\n      <th>0</th>\n      <td>mainnet</td>\n      <td>rETH</td>\n      <td>NaN</td>\n      <td>0.00</td>\n      <td>0.000000</td>\n      <td>2023-07-21 15:40:36</td>\n      <td>2023-08-18 03:24:52</td>\n      <td>0xae78736cd615f374d3085123a210448e74fc6393</td>\n    </tr>\n    <tr>\n      <th>1</th>\n      <td>mainnet</td>\n      <td>WETH</td>\n      <td>NaN</td>\n      <td>0.00</td>\n      <td>14.792204</td>\n      <td>2023-07-21 15:40:36</td>\n      <td>2023-08-18 03:24:52</td>\n      <td>0xc02aaa39b223fe8d0a0e5c4f27ead9083c756cc2</td>\n    </tr>\n    <tr>\n      <th>swETH-bb-a-WETH-BPT</th>\n      <th>0</th>\n      <td>mainnet</td>\n      <td>swETH-bb-a-WETH-BPT</td>\n      <td>NaN</td>\n      <td>0.00</td>\n      <td>3.804896</td>\n      <td>2023-07-21 15:40:36</td>\n      <td>2023-08-18 03:24:52</td>\n      <td>0xae8535c23afedda9304b03c68a3563b75fc8f92b</td>\n    </tr>\n    <tr>\n      <th rowspan=\"3\" valign=\"top\">cbETH-bb-a-WETH-BPT</th>\n      <th>0</th>\n      <td>mainnet</td>\n      <td>cbETH-bb-a-WETH-BPT</td>\n      <td>NaN</td>\n      <td>0.00</td>\n      <td>0.000000</td>\n      <td>2023-07-21 15:40:36</td>\n      <td>2023-08-18 03:24:52</td>\n      <td>0x4c81255cc9ed7062180ea99962fe05ac0d57350b</td>\n    </tr>\n    <tr>\n      <th>1</th>\n      <td>mainnet</td>\n      <td>bb-a-WETH</td>\n      <td>NaN</td>\n      <td>0.00</td>\n      <td>0.000000</td>\n      <td>2023-07-21 15:40:36</td>\n      <td>2023-08-18 03:24:52</td>\n      <td>0xbb6881874825e60e1160416d6c426eae65f2459e</td>\n    </tr>\n    <tr>\n      <th>2</th>\n      <td>mainnet</td>\n      <td>cbETH</td>\n      <td>NaN</td>\n      <td>0.00</td>\n      <td>0.000000</td>\n      <td>2023-07-21 15:40:36</td>\n      <td>2023-08-18 03:24:52</td>\n      <td>0xbe9895146f7af43049ca1c1ae358b0541ea49704</td>\n    </tr>\n    <tr>\n      <th>wstETH-rETH-sfrxETH-BPT</th>\n      <th>0</th>\n      <td>mainnet</td>\n      <td>wstETH-rETH-sfrxETH-BPT</td>\n      <td>NaN</td>\n      <td>0.00</td>\n      <td>15.948333</td>\n      <td>2023-07-21 15:40:36</td>\n      <td>2023-08-18 03:24:52</td>\n      <td>0x42ed016f826165c2e5976fe5bc3df540c5ad0af7</td>\n    </tr>\n    <tr>\n      <th>20WETH-80ALCX</th>\n      <th>0</th>\n      <td>mainnet</td>\n      <td>20WETH-80ALCX</td>\n      <td>NaN</td>\n      <td>0.00</td>\n      <td>64.249132</td>\n      <td>2023-07-21 15:40:36</td>\n      <td>2023-08-18 03:24:52</td>\n      <td>0xf16aee6a71af1a9bc8f56975a4c2705ca7a782bc</td>\n    </tr>\n    <tr>\n      <th rowspan=\"2\" valign=\"top\">B-staFiETH-WETH-Stable</th>\n      <th>0</th>\n      <td>mainnet</td>\n      <td>rETH</td>\n      <td>NaN</td>\n      <td>0.00</td>\n      <td>1.345875</td>\n      <td>2023-07-21 15:40:36</td>\n      <td>2023-08-18 03:24:52</td>\n      <td>0x9559aaa82d9649c7a7b220e7c461d2e74c9a3593</td>\n    </tr>\n    <tr>\n      <th>1</th>\n      <td>mainnet</td>\n      <td>WETH</td>\n      <td>NaN</td>\n      <td>0.00</td>\n      <td>0.112096</td>\n      <td>2023-07-21 15:40:36</td>\n      <td>2023-08-18 03:24:52</td>\n      <td>0xc02aaa39b223fe8d0a0e5c4f27ead9083c756cc2</td>\n    </tr>\n    <tr>\n      <th>GHO/bb-a-USD</th>\n      <th>0</th>\n      <td>mainnet</td>\n      <td>GHO/bb-a-USD</td>\n      <td>NaN</td>\n      <td>0.00</td>\n      <td>3122.838043</td>\n      <td>2023-07-21 15:40:36</td>\n      <td>2023-08-18 03:24:52</td>\n      <td>0xc2b021133d1b0cf07dba696fd5dd89338428225b</td>\n    </tr>\n    <tr>\n      <th>ankrETH/wstETH</th>\n      <th>0</th>\n      <td>mainnet</td>\n      <td>ankrETH/wstETH</td>\n      <td>NaN</td>\n      <td>0.00</td>\n      <td>3.704246</td>\n      <td>2023-07-21 15:40:36</td>\n      <td>2023-08-18 03:24:52</td>\n      <td>0xdfe6e7e18f6cc65fa13c8d8966013d4fda74b6ba</td>\n    </tr>\n    <tr>\n      <th>50wstETH-50LDO</th>\n      <th>0</th>\n      <td>mainnet</td>\n      <td>50wstETH-50LDO</td>\n      <td>NaN</td>\n      <td>0.00</td>\n      <td>8.270134</td>\n      <td>2023-07-21 15:40:36</td>\n      <td>2023-08-18 03:24:52</td>\n      <td>0x5f1f4e50ba51d723f12385a8a9606afc3a0555f5</td>\n    </tr>\n    <tr>\n      <th>50rETH-50BADGER</th>\n      <th>0</th>\n      <td>mainnet</td>\n      <td>50rETH-50BADGER</td>\n      <td>NaN</td>\n      <td>0.00</td>\n      <td>174.040557</td>\n      <td>2023-07-21 15:40:36</td>\n      <td>2023-08-18 03:24:52</td>\n      <td>0x1ee442b5326009bb18f2f472d3e0061513d1a0ff</td>\n    </tr>\n    <tr>\n      <th>50rETH-50RPL</th>\n      <th>0</th>\n      <td>mainnet</td>\n      <td>50rETH-50RPL</td>\n      <td>NaN</td>\n      <td>0.00</td>\n      <td>11.926416</td>\n      <td>2023-07-21 15:40:36</td>\n      <td>2023-08-18 03:24:52</td>\n      <td>0x9f9d900462492d4c21e9523ca95a7cd86142f298</td>\n    </tr>\n    <tr>\n      <th>50STG-50bbaUSD</th>\n      <th>0</th>\n      <td>mainnet</td>\n      <td>50STG-50bbaUSD</td>\n      <td>NaN</td>\n      <td>0.00</td>\n      <td>20756.668836</td>\n      <td>2023-07-21 15:40:36</td>\n      <td>2023-08-18 03:24:52</td>\n      <td>0x639883476960a23b38579acfd7d71561a0f408cf</td>\n    </tr>\n    <tr>\n      <th>wbETH-wstETH</th>\n      <th>0</th>\n      <td>mainnet</td>\n      <td>wbETH-wstETH</td>\n      <td>NaN</td>\n      <td>0.00</td>\n      <td>0.040637</td>\n      <td>2023-07-21 15:40:36</td>\n      <td>2023-08-18 03:24:52</td>\n      <td>0x2e848426aec6dbf2260535a5bea048ed94d9ff3d</td>\n    </tr>\n    <tr>\n      <th>50wstETH-50ACX</th>\n      <th>0</th>\n      <td>mainnet</td>\n      <td>50wstETH-50ACX</td>\n      <td>NaN</td>\n      <td>0.00</td>\n      <td>29.361720</td>\n      <td>2023-07-21 15:40:36</td>\n      <td>2023-08-18 03:24:52</td>\n      <td>0x36be1e97ea98ab43b4debf92742517266f5731a3</td>\n    </tr>\n    <tr>\n      <th rowspan=\"4\" valign=\"top\">bb-am-usd</th>\n      <th>0</th>\n      <td>polygon</td>\n      <td>bb-am-usd</td>\n      <td>NaN</td>\n      <td>0.00</td>\n      <td>0.000000</td>\n      <td>2023-07-21 15:40:36</td>\n      <td>2023-08-18 03:24:52</td>\n      <td>0x03090a9811181a2afe830a3a0b467698ccf3a8b1</td>\n    </tr>\n    <tr>\n      <th>1</th>\n      <td>polygon</td>\n      <td>bb-a-USDT</td>\n      <td>NaN</td>\n      <td>0.00</td>\n      <td>0.000000</td>\n      <td>2023-07-21 15:40:36</td>\n      <td>2023-08-18 03:24:52</td>\n      <td>0x230ecdb2a7cee56d6889965a023aa0473d6da507</td>\n    </tr>\n    <tr>\n      <th>2</th>\n      <td>polygon</td>\n      <td>bb-a-DAI</td>\n      <td>NaN</td>\n      <td>0.00</td>\n      <td>0.000000</td>\n      <td>2023-07-21 15:40:36</td>\n      <td>2023-08-18 03:24:52</td>\n      <td>0x63ce19ccd39930725b8a3d2733627804718ab83d</td>\n    </tr>\n    <tr>\n      <th>3</th>\n      <td>polygon</td>\n      <td>bb-a-USDC</td>\n      <td>NaN</td>\n      <td>0.00</td>\n      <td>0.000000</td>\n      <td>2023-07-21 15:40:36</td>\n      <td>2023-08-18 03:24:52</td>\n      <td>0x89bb15076c9f2d86aa98ec6cffc1a71e31c38953</td>\n    </tr>\n    <tr>\n      <th rowspan=\"3\" valign=\"top\">stMATIC-bb-a-WMATIC-BPT</th>\n      <th>0</th>\n      <td>polygon</td>\n      <td>stMATIC</td>\n      <td>0.710919</td>\n      <td>0.00</td>\n      <td>0.000000</td>\n      <td>2023-07-21 15:40:36</td>\n      <td>2023-08-18 03:24:52</td>\n      <td>0x3a58a54c066fdc0f2d55fc9c89f0415c92ebf3c4</td>\n    </tr>\n    <tr>\n      <th>1</th>\n      <td>polygon</td>\n      <td>stMATIC-bb-a-WMATIC-BPT</td>\n      <td>NaN</td>\n      <td>0.00</td>\n      <td>0.000000</td>\n      <td>2023-07-21 15:40:36</td>\n      <td>2023-08-18 03:24:52</td>\n      <td>0xac2cae8d2f78a4a8f92f20dbe74042cd0a8d5af3</td>\n    </tr>\n    <tr>\n      <th>2</th>\n      <td>polygon</td>\n      <td>bb-a-WMATIC</td>\n      <td>NaN</td>\n      <td>0.00</td>\n      <td>0.000000</td>\n      <td>2023-07-21 15:40:36</td>\n      <td>2023-08-18 03:24:52</td>\n      <td>0xb0c830dceb4ef55a60192472c20c8bf19df03488</td>\n    </tr>\n    <tr>\n      <th>MaticX-bb-a-WMATIC-BPT</th>\n      <th>0</th>\n      <td>polygon</td>\n      <td>MaticX-bb-a-WMATIC-BPT</td>\n      <td>0.654610</td>\n      <td>2557.69</td>\n      <td>3907.191854</td>\n      <td>2023-07-21 15:40:36</td>\n      <td>2023-08-18 03:24:52</td>\n      <td>0x402cfdb7781fa85d52f425352661128250b79e12</td>\n    </tr>\n  </tbody>\n</table>\n</div>"
     },
     "execution_count": 27,
     "metadata": {},
     "output_type": "execute_result"
    }
   ],
   "source": [
    "# Now go through each token in joint_token_fees_df and find its price in mimic_df\n",
    "for row in joint_token_fees_df.itertuples():\n",
    "    # Find token price in mimic_df, if no price is found, then skip\n",
    "    addr = Web3.toChecksumAddress(row.token_addr)\n",
    "    token_price = mimic_df[(mimic_df['token'] == addr)]['avg_price_per_token'].values\n",
    "    if len(token_price) == 0:\n",
    "        # Set 0 price and continue\n",
    "        joint_token_fees_df.loc[row.Index, 'token_fee_usd'] = 0\n",
    "        # Set token price\n",
    "        continue\n",
    "    # Calculate token fee in USD and assign it to token_fee_usd column\n",
    "    joint_token_fees_df.loc[row.Index, 'token_fee_usd'] = round(row.token_fee * token_price[0], 2)\n",
    "    # Set token price\n",
    "    joint_token_fees_df.loc[row.Index, 'token_price'] = token_price[0]\n",
    "\n",
    "# Shuffle columns by names:\n",
    "joint_token_fees_df_copy = joint_token_fees_df[\n",
    "    ['chain', 'token', 'token_price', 'token_fee_usd', 'token_fee', 'time_from', 'time_to']]\n",
    "# Sort by token_ix\n",
    "\n",
    "# Print out token fees in USD\n",
    "joint_token_fees_df_copy"
   ],
   "metadata": {
    "collapsed": false,
    "ExecuteTime": {
     "end_time": "2023-08-29T15:58:44.488527Z",
     "start_time": "2023-08-29T15:58:44.448969Z"
    }
   },
   "id": "53ff7045d0b9174f"
  }
 ],
 "metadata": {
  "kernelspec": {
   "display_name": "Python 3",
   "language": "python",
   "name": "python3"
  },
  "language_info": {
   "codemirror_mode": {
    "name": "ipython",
    "version": 2
   },
   "file_extension": ".py",
   "mimetype": "text/x-python",
   "name": "python",
   "nbconvert_exporter": "python",
   "pygments_lexer": "ipython2",
   "version": "2.7.6"
  }
 },
 "nbformat": 4,
 "nbformat_minor": 5
}
