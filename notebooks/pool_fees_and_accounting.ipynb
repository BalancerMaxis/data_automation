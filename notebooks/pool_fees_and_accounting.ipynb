{
 "cells": [
  {
   "cell_type": "markdown",
   "source": [
    "## Collecting protocol fees across Balancer core pools on all networks\n",
    "- Spreadsheet as reference: https://docs.google.com/spreadsheets/d/1xwUPpbYq7woVOU9vQ8EB8MY75I-1mauTLyDVwvKUDKo/edit#gid=0\n",
    "- Collab: https://colab.research.google.com/drive/1vKCvcV5mkL1zwW3565kLSGkBEbt8NsoB?usp=sharing\n"
   ],
   "metadata": {
    "collapsed": false
   },
   "id": "e739385af75b2478"
  },
  {
   "cell_type": "code",
   "execution_count": 1,
   "outputs": [
    {
     "name": "stdout",
     "output_type": "stream",
     "text": [
      "Collecting bpt prices for Base\n",
      "Collecting bpt prices for Gnosis\n",
      "Collecting bpt prices for Arbitrum\n",
      "Collecting bpt prices for Mainnet\n",
      "Collecting bpt prices for Polygon\n"
     ]
    }
   ],
   "source": [
    "import datetime\n",
    "import os\n",
    "\n",
    "import pandas as pd\n",
    "from dotenv import load_dotenv\n",
    "from web3 import Web3\n",
    "from web3.middleware import geth_poa_middleware\n",
    "\n",
    "from notebooks import get_block_by_ts\n",
    "from notebooks import get_twap_bpt_price\n",
    "from notebooks.constants import ARB_CORE_POOLS\n",
    "from notebooks.constants import BASE_CORE_POOLS\n",
    "from notebooks.constants import GNOSIS_CORE_POOLS\n",
    "from notebooks.constants import MAINNET_CORE_POOLS\n",
    "from notebooks.constants import POLYGON_CORE_POOLS\n",
    "\n",
    "load_dotenv()\n",
    "arb_web3 = Web3(Web3.HTTPProvider(os.environ[\"ARBNODEURL\"]))\n",
    "eth_web3 = Web3(Web3.HTTPProvider(os.environ[\"ETHNODEURL\"]))\n",
    "base_web3 = Web3(Web3.HTTPProvider(os.environ[\"BASENODEURL\"]))\n",
    "gnosis_web3 = Web3(Web3.HTTPProvider(os.environ[\"GNOSISNODEURL\"]))\n",
    "poly_web3 = Web3(Web3.HTTPProvider(\"https://polygon-rpc.com\"))\n",
    "poly_web3.middleware_onion.inject(geth_poa_middleware, layer=0)\n",
    "\n",
    "# ARBITRUM\n",
    "# arb_block_now = arb_web3.eth.block_number - 1000\n",
    "timestamp_now = 1694790000\n",
    "arb_block = get_block_by_ts(timestamp_now, \"arbitrum\")  # 18 August 2023\n",
    "# Given Arb block time, we want to look back 2 weeks:\n",
    "arb_timestamp_2_weeks_ago = timestamp_now - (2 * 7 * 24 * 60 * 60)\n",
    "arb_block_2_weeks_ago = get_block_by_ts(arb_timestamp_2_weeks_ago, \"arbitrum\")\n",
    "# Convert to datetime:\n",
    "arb_datetime_now = datetime.datetime.fromtimestamp(timestamp_now)\n",
    "arb_datetime_2_weeks_ago = datetime.datetime.fromtimestamp(arb_timestamp_2_weeks_ago)\n",
    "# MAINNET\n",
    "mainnet_block = get_block_by_ts(timestamp_now, \"mainnet\")\n",
    "# Given mainnet block time, we want to look back 2 weeks:\n",
    "mainnet_timestamp_2_weeks_ago = arb_timestamp_2_weeks_ago\n",
    "mainnet_block_2_weeks_ago = get_block_by_ts(mainnet_timestamp_2_weeks_ago, \"mainnet\")\n",
    "# Convert to datetime:\n",
    "mainnet_datetime_now = datetime.datetime.fromtimestamp(timestamp_now)\n",
    "mainnet_datetime_2_weeks_ago = datetime.datetime.fromtimestamp(mainnet_timestamp_2_weeks_ago)\n",
    "\n",
    "# BASE\n",
    "base_block = get_block_by_ts(timestamp_now, \"base\")\n",
    "# Given base block time, we want to look back 2 weeks:\n",
    "base_timestamp_2_weeks_ago = arb_timestamp_2_weeks_ago\n",
    "base_block_2_weeks_ago = get_block_by_ts(base_timestamp_2_weeks_ago, \"base\")\n",
    "# Convert to datetime:\n",
    "base_datetime_now = datetime.datetime.fromtimestamp(timestamp_now)\n",
    "base_datetime_2_weeks_ago = datetime.datetime.fromtimestamp(base_timestamp_2_weeks_ago)\n",
    "\n",
    "# POLYGON\n",
    "poly_block = get_block_by_ts(timestamp_now, \"polygon\")\n",
    "# Given polygon block time, we want to look back 2 weeks:\n",
    "poly_timestamp_2_weeks_ago = arb_timestamp_2_weeks_ago\n",
    "poly_block_2_weeks_ago = get_block_by_ts(poly_timestamp_2_weeks_ago, \"polygon\")\n",
    "# Convert to datetime:\n",
    "poly_datetime_now = datetime.datetime.fromtimestamp(timestamp_now)\n",
    "poly_datetime_2_weeks_ago = datetime.datetime.fromtimestamp(poly_timestamp_2_weeks_ago)\n",
    "\n",
    "# GNOSIS\n",
    "gnosis_block = get_block_by_ts(timestamp_now, \"gnosis\")\n",
    "# Given gnosis block time, we want to look back 2 weeks:\n",
    "gnosis_timestamp_2_weeks_ago = arb_timestamp_2_weeks_ago\n",
    "gnosis_block_2_weeks_ago = get_block_by_ts(gnosis_timestamp_2_weeks_ago, \"gnosis\")\n",
    "# Convert to datetime:\n",
    "gnosis_datetime_now = datetime.datetime.fromtimestamp(timestamp_now)\n",
    "gnosis_datetime_2_weeks_ago = datetime.datetime.fromtimestamp(gnosis_timestamp_2_weeks_ago)\n",
    "\n",
    "print(\"Collecting bpt prices for Base\")\n",
    "base_bpt_twap_prices = {}\n",
    "for base_pool in BASE_CORE_POOLS:\n",
    "    base_bpt_twap_prices[base_pool] = get_twap_bpt_price(base_pool, 'base', base_web3,\n",
    "                                                         start_date=base_datetime_now, block_number=base_block)\n",
    "\n",
    "print(\"Collecting bpt prices for Gnosis\")\n",
    "gnosis_bpt_twap_prices = {}\n",
    "for gnosis_pool in GNOSIS_CORE_POOLS:\n",
    "    gnosis_bpt_twap_prices[gnosis_pool] = get_twap_bpt_price(gnosis_pool, 'gnosis', gnosis_web3,\n",
    "                                                             start_date=gnosis_datetime_now,\n",
    "                                                             block_number=gnosis_block)\n",
    "print(\"Collecting bpt prices for Arbitrum\")\n",
    "arb_bpt_twap_prices = {}\n",
    "for arb_pool in ARB_CORE_POOLS:\n",
    "    arb_bpt_twap_prices[arb_pool] = get_twap_bpt_price(arb_pool, 'arbitrum', arb_web3,\n",
    "                                                       start_date=arb_datetime_now,\n",
    "                                                       block_number=arb_block)\n",
    "\n",
    "print(\"Collecting bpt prices for Mainnet\")\n",
    "mainnet_bpt_twap_prices = {}\n",
    "for mainnet_pool in MAINNET_CORE_POOLS:\n",
    "    mainnet_bpt_twap_prices[mainnet_pool] = get_twap_bpt_price(mainnet_pool, 'mainnet', eth_web3,\n",
    "                                                               start_date=mainnet_datetime_now,\n",
    "                                                               block_number=mainnet_block)\n",
    "print(\"Collecting bpt prices for Polygon\")\n",
    "polygon_bpt_twap_prices = {}\n",
    "for polygon_pool in POLYGON_CORE_POOLS:\n",
    "    polygon_bpt_twap_prices[polygon_pool] = get_twap_bpt_price(polygon_pool, 'polygon', poly_web3,\n",
    "                                                               start_date=poly_datetime_now,\n",
    "                                                               block_number=poly_block)\n",
    "\n",
    "# Convert to dataframe and print, merge all three dataframes\n",
    "arb_bpt_twap_prices_df = pd.DataFrame.from_dict(arb_bpt_twap_prices, orient='index')\n",
    "mainnet_bpt_twap_prices_df = pd.DataFrame.from_dict(mainnet_bpt_twap_prices, orient='index')\n",
    "polygon_bpt_twap_prices_df = pd.DataFrame.from_dict(polygon_bpt_twap_prices, orient='index')\n",
    "base_bpt_twap_prices_df = pd.DataFrame.from_dict(base_bpt_twap_prices, orient='index')\n",
    "gnosis_bpt_twap_prices_df = pd.DataFrame.from_dict(gnosis_bpt_twap_prices, orient='index')"
   ],
   "metadata": {
    "collapsed": false,
    "ExecuteTime": {
     "end_time": "2023-09-15T13:45:31.712890Z",
     "start_time": "2023-09-15T13:42:30.786159Z"
    }
   },
   "id": "39d87004addaae1b"
  },
  {
   "cell_type": "code",
   "execution_count": 2,
   "outputs": [
    {
     "data": {
      "text/plain": "                                                                                0\n0xade4a71bb62bec25154cfc7e6ff49a513b491e8100000...  1623.803750208670544721531711\n0x9791d590788598535278552eecd4b211bfc790cb00000...  1624.377167145606542517572864\n0x4a2f6ae7f3e5d715689530873ec35593dc28951b00000...  1628.349990901255710681940173\n0x423a1323c871abc9d89eb06855bf5347048fc4a500000...  1.000290411622935290988723035\n0x32df62dc3aed2cd6224193052ce665dc1816584100020...  1.085121361272666366722232096\n0x0c8972437a38b389ec83d1e666b69b8a4fcf8bfd00000...  1623.055472360201217228037355",
      "text/html": "<div>\n<style scoped>\n    .dataframe tbody tr th:only-of-type {\n        vertical-align: middle;\n    }\n\n    .dataframe tbody tr th {\n        vertical-align: top;\n    }\n\n    .dataframe thead th {\n        text-align: right;\n    }\n</style>\n<table border=\"1\" class=\"dataframe\">\n  <thead>\n    <tr style=\"text-align: right;\">\n      <th></th>\n      <th>0</th>\n    </tr>\n  </thead>\n  <tbody>\n    <tr>\n      <th>0xade4a71bb62bec25154cfc7e6ff49a513b491e81000000000000000000000497</th>\n      <td>1623.803750208670544721531711</td>\n    </tr>\n    <tr>\n      <th>0x9791d590788598535278552eecd4b211bfc790cb000000000000000000000498</th>\n      <td>1624.377167145606542517572864</td>\n    </tr>\n    <tr>\n      <th>0x4a2f6ae7f3e5d715689530873ec35593dc28951b000000000000000000000481</th>\n      <td>1628.349990901255710681940173</td>\n    </tr>\n    <tr>\n      <th>0x423a1323c871abc9d89eb06855bf5347048fc4a5000000000000000000000496</th>\n      <td>1.000290411622935290988723035</td>\n    </tr>\n    <tr>\n      <th>0x32df62dc3aed2cd6224193052ce665dc181658410002000000000000000003bd</th>\n      <td>1.085121361272666366722232096</td>\n    </tr>\n    <tr>\n      <th>0x0c8972437a38b389ec83d1e666b69b8a4fcf8bfd00000000000000000000049e</th>\n      <td>1623.055472360201217228037355</td>\n    </tr>\n  </tbody>\n</table>\n</div>"
     },
     "execution_count": 2,
     "metadata": {},
     "output_type": "execute_result"
    }
   ],
   "source": [
    "# Arbitrum TWAP prices:\n",
    "arb_bpt_twap_prices_df"
   ],
   "metadata": {
    "collapsed": false,
    "ExecuteTime": {
     "end_time": "2023-09-15T13:45:31.732350Z",
     "start_time": "2023-09-15T13:45:31.707559Z"
    }
   },
   "id": "888d08ca33a6128c"
  },
  {
   "cell_type": "code",
   "execution_count": 3,
   "outputs": [
    {
     "data": {
      "text/plain": "                                                                                 0\n0x93d199263632a4ef4bb438f1feb99e57b4b5f0bd00000...   1623.704233697886625688396428\n0x1e19cf2d73a72ef1332c882f20534b6519be027600020...   1664.053061602441306949969912\n0xe7e2c68d3b13d905bbb636709cf4dfd21076b9d200000...   1608.399720145805893958560146\n0xf7a826d47c8e02835d94fb0aa40f0cc9505cb13400020...   1622.925345307640519772727559\n0xf16aee6a71af1a9bc8f56975a4c2705ca7a782bc00020...   24.85644392155588581935152415\n0xb08885e6026bab4333a80024ec25a1a3e1ff2b8a00020...   1636.734888119542278716465017\n0x8353157092ed8be69a9df8f95af097bbf33cb2af00000...  0.9830630976459687168553009454\n0xdfe6e7e18f6cc65fa13c8d8966013d4fda74b6ba00000...   1632.067794968628228080534514\n0x5f1f4e50ba51d723f12385a8a9606afc3a0555f500020...   52.99384449470139378302670902\n0x1ee442b5326009bb18f2f472d3e0061513d1a0ff00020...   59.12791936802349983216312938\n0x9f9d900462492d4c21e9523ca95a7cd86142f29800020...   199.6459115976741268955011096\n0x3ff3a210e57cfe679d9ad1e9ba6453a716c56a2e00020...  0.7150846104362687670332024840\n0xf01b0684c98cd7ada480bfdf6e43876422fa1fc100020...   1622.888829389565988568373399\n0x36be1e97ea98ab43b4debf92742517266f5731a300020...   10.03640905570478548244293853",
      "text/html": "<div>\n<style scoped>\n    .dataframe tbody tr th:only-of-type {\n        vertical-align: middle;\n    }\n\n    .dataframe tbody tr th {\n        vertical-align: top;\n    }\n\n    .dataframe thead th {\n        text-align: right;\n    }\n</style>\n<table border=\"1\" class=\"dataframe\">\n  <thead>\n    <tr style=\"text-align: right;\">\n      <th></th>\n      <th>0</th>\n    </tr>\n  </thead>\n  <tbody>\n    <tr>\n      <th>0x93d199263632a4ef4bb438f1feb99e57b4b5f0bd0000000000000000000005c2</th>\n      <td>1623.704233697886625688396428</td>\n    </tr>\n    <tr>\n      <th>0x1e19cf2d73a72ef1332c882f20534b6519be0276000200000000000000000112</th>\n      <td>1664.053061602441306949969912</td>\n    </tr>\n    <tr>\n      <th>0xe7e2c68d3b13d905bbb636709cf4dfd21076b9d20000000000000000000005ca</th>\n      <td>1608.399720145805893958560146</td>\n    </tr>\n    <tr>\n      <th>0xf7a826d47c8e02835d94fb0aa40f0cc9505cb1340002000000000000000005e0</th>\n      <td>1622.925345307640519772727559</td>\n    </tr>\n    <tr>\n      <th>0xf16aee6a71af1a9bc8f56975a4c2705ca7a782bc0002000000000000000004bb</th>\n      <td>24.85644392155588581935152415</td>\n    </tr>\n    <tr>\n      <th>0xb08885e6026bab4333a80024ec25a1a3e1ff2b8a000200000000000000000445</th>\n      <td>1636.734888119542278716465017</td>\n    </tr>\n    <tr>\n      <th>0x8353157092ed8be69a9df8f95af097bbf33cb2af0000000000000000000005d9</th>\n      <td>0.9830630976459687168553009454</td>\n    </tr>\n    <tr>\n      <th>0xdfe6e7e18f6cc65fa13c8d8966013d4fda74b6ba000000000000000000000558</th>\n      <td>1632.067794968628228080534514</td>\n    </tr>\n    <tr>\n      <th>0x5f1f4e50ba51d723f12385a8a9606afc3a0555f5000200000000000000000465</th>\n      <td>52.99384449470139378302670902</td>\n    </tr>\n    <tr>\n      <th>0x1ee442b5326009bb18f2f472d3e0061513d1a0ff000200000000000000000464</th>\n      <td>59.12791936802349983216312938</td>\n    </tr>\n    <tr>\n      <th>0x9f9d900462492d4c21e9523ca95a7cd86142f298000200000000000000000462</th>\n      <td>199.6459115976741268955011096</td>\n    </tr>\n    <tr>\n      <th>0x3ff3a210e57cfe679d9ad1e9ba6453a716c56a2e0002000000000000000005d5</th>\n      <td>0.7150846104362687670332024840</td>\n    </tr>\n    <tr>\n      <th>0xf01b0684c98cd7ada480bfdf6e43876422fa1fc10002000000000000000005de</th>\n      <td>1622.888829389565988568373399</td>\n    </tr>\n    <tr>\n      <th>0x36be1e97ea98ab43b4debf92742517266f5731a3000200000000000000000466</th>\n      <td>10.03640905570478548244293853</td>\n    </tr>\n  </tbody>\n</table>\n</div>"
     },
     "execution_count": 3,
     "metadata": {},
     "output_type": "execute_result"
    }
   ],
   "source": [
    "# Mainnet TWAP prices:\n",
    "mainnet_bpt_twap_prices_df"
   ],
   "metadata": {
    "collapsed": false,
    "ExecuteTime": {
     "end_time": "2023-09-15T13:45:31.747798Z",
     "start_time": "2023-09-15T13:45:31.735420Z"
    }
   },
   "id": "12acabeeb64ba22a"
  },
  {
   "cell_type": "code",
   "execution_count": 4,
   "outputs": [
    {
     "data": {
      "text/plain": "                                                                                 0\n0xf0ad209e2e969eaaa8c882aac71f02d8a047d5c200020...  0.5401322782587776219051044593\n0xee278d943584dd8640eaf4cc6c7a5c80c0073e8500020...  0.5379829134501508902329096653\n0x89b753153678bc434c610b7e9182297cada8ff2900000...  0.5356126500917254196941948882\n0xcd78a20c597e367a4e478a2411ceb790604d7c8f00000...  0.5356715280318930511148908154\n0xdc31233e09f3bf5bfe5c10da2014677c23b6894c00000...   1622.879821270877598181639411",
      "text/html": "<div>\n<style scoped>\n    .dataframe tbody tr th:only-of-type {\n        vertical-align: middle;\n    }\n\n    .dataframe tbody tr th {\n        vertical-align: top;\n    }\n\n    .dataframe thead th {\n        text-align: right;\n    }\n</style>\n<table border=\"1\" class=\"dataframe\">\n  <thead>\n    <tr style=\"text-align: right;\">\n      <th></th>\n      <th>0</th>\n    </tr>\n  </thead>\n  <tbody>\n    <tr>\n      <th>0xf0ad209e2e969eaaa8c882aac71f02d8a047d5c2000200000000000000000b49</th>\n      <td>0.5401322782587776219051044593</td>\n    </tr>\n    <tr>\n      <th>0xee278d943584dd8640eaf4cc6c7a5c80c0073e85000200000000000000000bc7</th>\n      <td>0.5379829134501508902329096653</td>\n    </tr>\n    <tr>\n      <th>0x89b753153678bc434c610b7e9182297cada8ff29000000000000000000000c21</th>\n      <td>0.5356126500917254196941948882</td>\n    </tr>\n    <tr>\n      <th>0xcd78a20c597e367a4e478a2411ceb790604d7c8f000000000000000000000c22</th>\n      <td>0.5356715280318930511148908154</td>\n    </tr>\n    <tr>\n      <th>0xdc31233e09f3bf5bfe5c10da2014677c23b6894c000000000000000000000c23</th>\n      <td>1622.879821270877598181639411</td>\n    </tr>\n  </tbody>\n</table>\n</div>"
     },
     "execution_count": 4,
     "metadata": {},
     "output_type": "execute_result"
    }
   ],
   "source": [
    "# Polygon TWAP prices:\n",
    "polygon_bpt_twap_prices_df"
   ],
   "metadata": {
    "collapsed": false,
    "ExecuteTime": {
     "end_time": "2023-09-15T13:45:31.748574Z",
     "start_time": "2023-09-15T13:45:31.740733Z"
    }
   },
   "id": "9c61dc8f8d29733e"
  },
  {
   "cell_type": "code",
   "execution_count": 5,
   "outputs": [
    {
     "data": {
      "text/plain": "                                                                                0\n0xfb4c2e6e6e27b5b4a07a36360c89ede29bb3c9b600000...  1623.464844744910192597795771\n0xc771c1a5905420daec317b154eb13e4198ba97d000000...  1625.496140456140259308739761\n0x0c659734f1eef9c63b7ebdf78a164cdd745586db00000...  1.000338450165294782406314561",
      "text/html": "<div>\n<style scoped>\n    .dataframe tbody tr th:only-of-type {\n        vertical-align: middle;\n    }\n\n    .dataframe tbody tr th {\n        vertical-align: top;\n    }\n\n    .dataframe thead th {\n        text-align: right;\n    }\n</style>\n<table border=\"1\" class=\"dataframe\">\n  <thead>\n    <tr style=\"text-align: right;\">\n      <th></th>\n      <th>0</th>\n    </tr>\n  </thead>\n  <tbody>\n    <tr>\n      <th>0xfb4c2e6e6e27b5b4a07a36360c89ede29bb3c9b6000000000000000000000026</th>\n      <td>1623.464844744910192597795771</td>\n    </tr>\n    <tr>\n      <th>0xc771c1a5905420daec317b154eb13e4198ba97d0000000000000000000000023</th>\n      <td>1625.496140456140259308739761</td>\n    </tr>\n    <tr>\n      <th>0x0c659734f1eef9c63b7ebdf78a164cdd745586db000000000000000000000046</th>\n      <td>1.000338450165294782406314561</td>\n    </tr>\n  </tbody>\n</table>\n</div>"
     },
     "execution_count": 5,
     "metadata": {},
     "output_type": "execute_result"
    }
   ],
   "source": [
    "# Base TWAP prices:\n",
    "base_bpt_twap_prices_df"
   ],
   "metadata": {
    "collapsed": false,
    "ExecuteTime": {
     "end_time": "2023-09-15T13:45:31.785505Z",
     "start_time": "2023-09-15T13:45:31.747582Z"
    }
   },
   "id": "c057d5eb4d92947"
  },
  {
   "cell_type": "code",
   "execution_count": 6,
   "outputs": [
    {
     "data": {
      "text/plain": "                                                                                0\n0xbad20c15a773bf03ab973302f61fabcea5101f0a00000...  1631.279000754427652711922303",
      "text/html": "<div>\n<style scoped>\n    .dataframe tbody tr th:only-of-type {\n        vertical-align: middle;\n    }\n\n    .dataframe tbody tr th {\n        vertical-align: top;\n    }\n\n    .dataframe thead th {\n        text-align: right;\n    }\n</style>\n<table border=\"1\" class=\"dataframe\">\n  <thead>\n    <tr style=\"text-align: right;\">\n      <th></th>\n      <th>0</th>\n    </tr>\n  </thead>\n  <tbody>\n    <tr>\n      <th>0xbad20c15a773bf03ab973302f61fabcea5101f0a000000000000000000000034</th>\n      <td>1631.279000754427652711922303</td>\n    </tr>\n  </tbody>\n</table>\n</div>"
     },
     "execution_count": 6,
     "metadata": {},
     "output_type": "execute_result"
    }
   ],
   "source": [
    "# Gnosis TWAP prices:\n",
    "gnosis_bpt_twap_prices_df"
   ],
   "metadata": {
    "collapsed": false,
    "ExecuteTime": {
     "end_time": "2023-09-15T13:45:31.789856Z",
     "start_time": "2023-09-15T13:45:31.753177Z"
    }
   },
   "id": "446e657762129ed4"
  },
  {
   "cell_type": "code",
   "execution_count": 7,
   "outputs": [],
   "source": [
    "# Query:\n",
    "POOLS_SNAPSHOTS_QUERY = \"\"\"\n",
    "{{\n",
    "  poolSnapshots(\n",
    "    first: {first}\n",
    "    skip: {skip}\n",
    "    orderBy: timestamp\n",
    "    orderDirection: desc\n",
    "    block: {{ number: {block} }}\n",
    "    where: {{ protocolFee_not: null }}\n",
    "  ) {{\n",
    "    pool {{\n",
    "      address\n",
    "      id\n",
    "      symbol\n",
    "      totalProtocolFeePaidInBPT\n",
    "      tokens {{\n",
    "        symbol\n",
    "        address\n",
    "        paidProtocolFees\n",
    "      }}\n",
    "    }}\n",
    "    timestamp\n",
    "    protocolFee\n",
    "    swapFees\n",
    "    swapVolume\n",
    "    liquidity\n",
    "  }}\n",
    "}}\n",
    "\"\"\""
   ],
   "metadata": {
    "collapsed": false,
    "ExecuteTime": {
     "end_time": "2023-09-15T13:45:31.803294Z",
     "start_time": "2023-09-15T13:45:31.756278Z"
    }
   },
   "id": "abc722b4fa453b5a"
  },
  {
   "cell_type": "markdown",
   "source": [
    "## Fetching data from the Balancer subgraphs"
   ],
   "metadata": {
    "collapsed": false
   },
   "id": "cde5ffca807e3849"
  },
  {
   "cell_type": "code",
   "execution_count": 8,
   "outputs": [],
   "source": [
    "from notebooks.constants import BASE_BALANCER_GRAPH_URL\n",
    "from notebooks.constants import POLYGON_BALANCER_GRAPH_URL\n",
    "from notebooks.constants import ARB_BALANCER_GRAPH_URL\n",
    "from notebooks.constants import MAINNET_BALANCER_GRAPH_URL\n",
    "from notebooks.constants import GNOSIS_BALANCER_GRAPH_URL\n",
    "from typing import Dict\n",
    "from typing import List\n",
    "from typing import Optional\n",
    "\n",
    "from gql import Client\n",
    "from gql import gql\n",
    "from gql.transport.requests import RequestsHTTPTransport\n",
    "\n",
    "\n",
    "# Fetch all the data from the balancer subgraph\n",
    "def make_gql_client(url: str) -> Optional[Client]:\n",
    "    transport = RequestsHTTPTransport(url=url, retries=3)\n",
    "    return Client(\n",
    "        transport=transport, fetch_schema_from_transport=True, execute_timeout=60\n",
    "    )\n",
    "\n",
    "\n",
    "def get_balancer_pool_snapshots(block: int, graph_url: str) -> Optional[List[Dict]]:\n",
    "    client = make_gql_client(graph_url)\n",
    "    all_pools = []\n",
    "    limit = 1000\n",
    "    offset = 0\n",
    "    while True:\n",
    "        result = client.execute(\n",
    "            gql(POOLS_SNAPSHOTS_QUERY.format(first=limit, skip=offset, block=block)))\n",
    "        all_pools.extend(result['poolSnapshots'])\n",
    "        offset += limit\n",
    "        if offset >= 5000:\n",
    "            break\n",
    "        if len(result['poolSnapshots']) < limit - 1:\n",
    "            break\n",
    "    return all_pools\n",
    "\n",
    "\n",
    "arbi_pool_snapshots_now = get_balancer_pool_snapshots(arb_block, ARB_BALANCER_GRAPH_URL)\n",
    "arbi_pool_snapshots_2_weeks_ago = get_balancer_pool_snapshots(int(arb_block_2_weeks_ago), ARB_BALANCER_GRAPH_URL)\n",
    "\n",
    "mainnet_pool_snapshots_now = get_balancer_pool_snapshots(mainnet_block, MAINNET_BALANCER_GRAPH_URL)\n",
    "mainnet_pool_snapshots_2_weeks_ago = get_balancer_pool_snapshots(int(mainnet_block_2_weeks_ago),\n",
    "                                                                 MAINNET_BALANCER_GRAPH_URL)\n",
    "\n",
    "polygon_pool_snapshots_now = get_balancer_pool_snapshots(poly_block, POLYGON_BALANCER_GRAPH_URL)\n",
    "polygon_pool_snapshots_2_weeks_ago = get_balancer_pool_snapshots(int(poly_block_2_weeks_ago),\n",
    "                                                                 POLYGON_BALANCER_GRAPH_URL)\n",
    "\n",
    "base_pool_snapshots_now = get_balancer_pool_snapshots(base_block, BASE_BALANCER_GRAPH_URL)\n",
    "base_pool_snapshots_2_weeks_ago = get_balancer_pool_snapshots(int(base_block_2_weeks_ago),\n",
    "                                                              BASE_BALANCER_GRAPH_URL)\n",
    "\n",
    "gnosis_pool_snapshots_now = get_balancer_pool_snapshots(gnosis_block, GNOSIS_BALANCER_GRAPH_URL)\n",
    "gnosis_pool_snapshots_2_weeks_ago = get_balancer_pool_snapshots(int(gnosis_block_2_weeks_ago),\n",
    "                                                                GNOSIS_BALANCER_GRAPH_URL)"
   ],
   "metadata": {
    "collapsed": false,
    "ExecuteTime": {
     "end_time": "2023-09-15T13:46:49.054566Z",
     "start_time": "2023-09-15T13:45:31.767692Z"
    }
   },
   "id": "e1e0b8b90f62234c"
  },
  {
   "cell_type": "markdown",
   "source": [
    "## Extract fee data for CORE pools:\n"
   ],
   "metadata": {
    "collapsed": false
   },
   "id": "d5333a7de445454d"
  },
  {
   "cell_type": "code",
   "execution_count": 9,
   "outputs": [],
   "source": [
    "from collections import defaultdict\n",
    "from decimal import Decimal\n",
    "from notebooks import fetch_token_price_balgql\n",
    "\n",
    "\n",
    "def collect_fee_info(pools: list[str], chain: str, pools_now: list[dict], pools_shifted: list[dict],\n",
    "                     start_date: datetime.datetime) -> tuple[dict, dict]:\n",
    "    # Iterate through snapshots now and 2 weeks ago and extract fee data, by subtracting today's fee data from 2 weeks ago\n",
    "    # and then summing across all pools\n",
    "    fees = {}\n",
    "    token_fees = defaultdict(list)\n",
    "    for pool in pools:\n",
    "        current_fees_snapshots = [x for x in pools_now if x['pool']['id'] == pool]\n",
    "        current_fees_snapshots.sort(key=lambda x: x['timestamp'], reverse=True)\n",
    "        fees_2_weeks_ago = [x for x in pools_shifted if x['pool']['id'] == pool]\n",
    "        fees_2_weeks_ago.sort(key=lambda x: x['timestamp'], reverse=True)\n",
    "        # Take first element of list, which is the most recent snapshot\n",
    "        if not current_fees_snapshots or not fees_2_weeks_ago:\n",
    "            continue\n",
    "        pool_snapshot_now = current_fees_snapshots[0]\n",
    "        pool_snapshot_2_weeks_ago = fees_2_weeks_ago[0]\n",
    "        # Calculate fees\n",
    "        pool_fee = float(pool_snapshot_now['protocolFee']) - float(pool_snapshot_2_weeks_ago['protocolFee'])\n",
    "        pool_swap_fee = float(pool_snapshot_now['swapFees']) - float(pool_snapshot_2_weeks_ago['swapFees'])\n",
    "        # Now we need to collect token fee info. Let's start with BPT tokens, which is Balancer pool token. Notice,\n",
    "        # That totalProtocolFeePaidInBPT can be null, so we need to check for that\n",
    "        bpt_token_fee = 0\n",
    "        bpt_price_usd = arb_bpt_twap_prices[pool] if chain == 'arbitrum' else mainnet_bpt_twap_prices[\n",
    "            pool] if chain == 'mainnet' else polygon_bpt_twap_prices[pool] if chain == 'polygon' else \\\n",
    "            base_bpt_twap_prices[pool] if chain == 'base' else gnosis_bpt_twap_prices[pool]\n",
    "        if bpt_price_usd is None:\n",
    "            bpt_price_usd = 0\n",
    "        if pool_snapshot_now['pool']['totalProtocolFeePaidInBPT'] is not None and pool_snapshot_2_weeks_ago['pool'][\n",
    "            'totalProtocolFeePaidInBPT'] is not None:\n",
    "            bpt_token_fee = float(pool_snapshot_now['pool']['totalProtocolFeePaidInBPT']) - float(\n",
    "                pool_snapshot_2_weeks_ago['pool']['totalProtocolFeePaidInBPT'])\n",
    "            token_fees[pool_snapshot_now['pool']['symbol']].append({\n",
    "                'token': pool_snapshot_now['pool']['symbol'],\n",
    "                'token_fee': bpt_token_fee,\n",
    "                'token_price': bpt_price_usd,\n",
    "                'token_fee_in_usd': Decimal(bpt_token_fee) * bpt_price_usd,\n",
    "                'token_addr': pool_snapshot_now['pool']['address'],\n",
    "                'time_from': arb_datetime_2_weeks_ago,\n",
    "                'time_to': arb_datetime_now,\n",
    "                'chain': chain,\n",
    "            })\n",
    "        # Now collect fee info about fees paid in pool tokens. Pool tokens fee info is in pool.tokens dictionary. This will be separate dictionary\n",
    "        else:\n",
    "            bpt_price_usd = 0\n",
    "            for token_data in pool_snapshot_now['pool']['tokens']:\n",
    "                token_data_2_weeks_ago = \\\n",
    "                    [t for t in pool_snapshot_2_weeks_ago['pool']['tokens'] if t['address'] == token_data['address']][0]\n",
    "                token_fee = float(token_data.get('paidProtocolFees', None)) - float(\n",
    "                    token_data_2_weeks_ago.get('paidProtocolFees', None))\n",
    "                # Get twap token price from CoinGecko\n",
    "                token_price = fetch_token_price_balgql(token_data['address'], chain, start_date) or 0\n",
    "                token_fees[pool_snapshot_now['pool']['symbol']].append({\n",
    "                    'token': token_data['symbol'],\n",
    "                    'token_fee': token_fee,\n",
    "                    'token_price': token_price,\n",
    "                    'token_fee_in_usd': Decimal(token_fee) * token_price if token_price is not None else 0,\n",
    "                    'token_addr': token_data['address'],\n",
    "                    'time_from': arb_datetime_2_weeks_ago,\n",
    "                    'time_to': arb_datetime_now,\n",
    "                    'chain': chain,\n",
    "                })\n",
    "        # Calculate non-BPT fees in USD\n",
    "        fees[pool_snapshot_now['pool']['symbol']] = {\n",
    "            'pool_fee': round(pool_fee, 2),\n",
    "            'swap_fee': round(pool_swap_fee, 2),\n",
    "            'bpt_token_fee': round(bpt_token_fee, 2),\n",
    "            # Get fee in USD by multiplying bpt_token_fee by price of BPT token taken from twap_bpt_price\n",
    "            'bpt_token_fee_in_usd': round(Decimal(bpt_token_fee) * bpt_price_usd, 2),\n",
    "            'token_fees_in_usd': round(sum([x['token_fee_in_usd'] for x in\n",
    "                                            token_fees[\n",
    "                                                pool_snapshot_now['pool']['symbol']]]) if bpt_price_usd == 0 else 0, 2),\n",
    "            'time_from': arb_datetime_2_weeks_ago,\n",
    "            'time_to': arb_datetime_now,\n",
    "            'chain': chain,\n",
    "            'token_fees': token_fees[pool_snapshot_now['pool']['symbol']],\n",
    "        }\n",
    "    return fees\n",
    "\n",
    "\n",
    "arb_fees = collect_fee_info(ARB_CORE_POOLS, 'arbitrum', arbi_pool_snapshots_now,\n",
    "                            arbi_pool_snapshots_2_weeks_ago, arb_datetime_now)\n",
    "mainnet_fees = collect_fee_info(MAINNET_CORE_POOLS, 'mainnet', mainnet_pool_snapshots_now,\n",
    "                                mainnet_pool_snapshots_2_weeks_ago, mainnet_datetime_now)\n",
    "polygon_fees = collect_fee_info(POLYGON_CORE_POOLS, 'polygon', polygon_pool_snapshots_now,\n",
    "                                polygon_pool_snapshots_2_weeks_ago, poly_datetime_now)\n",
    "base_fees = collect_fee_info(BASE_CORE_POOLS, 'base', base_pool_snapshots_now, base_pool_snapshots_2_weeks_ago,\n",
    "                             base_datetime_now)\n",
    "gnosis_fees = collect_fee_info(GNOSIS_CORE_POOLS, 'gnosis', gnosis_pool_snapshots_now,\n",
    "                               gnosis_pool_snapshots_2_weeks_ago, gnosis_datetime_now)\n",
    "# Convert to dataframe, sort by chain and pool fee\n",
    "joint_fees = {**arb_fees, **mainnet_fees, **polygon_fees, **base_fees, **gnosis_fees}\n",
    "joint_fees_df = pd.DataFrame.from_dict(joint_fees, orient='index')"
   ],
   "metadata": {
    "collapsed": false,
    "ExecuteTime": {
     "end_time": "2023-09-15T13:47:07.639232Z",
     "start_time": "2023-09-15T13:46:49.076870Z"
    }
   },
   "id": "e79b2f6a4ead2cad"
  },
  {
   "cell_type": "code",
   "execution_count": 10,
   "outputs": [
    {
     "data": {
      "text/plain": "                        pool_fee  swap_fee  bpt_token_fee  \\\nECLP-WMATIC-stMATIC      1471.99    249.38        2730.95   \nmaticX-WMATIC-BPT        1450.10    323.64        2724.34   \nECLP-WMATIC-MATICX        403.20     71.44         755.02   \nstMATIC-WMATIC-BPT          2.58      1.34           4.62   \nwstETH-WETH-BPT             0.00      0.00           0.00   \nB-rETH-STABLE           15892.61   2294.22           0.00   \n50rETH-50BADGER          9939.15   2894.08         166.20   \nswETH-WETH-BPT           5502.29    634.17           3.43   \nankrETH/wstETH           3867.44    126.65           2.32   \n20WETH-80ALCX            2393.07   3925.29          83.27   \n50rETH-50RPL             1272.25   1209.24           6.32   \nSTG/USDC                 1262.74   8264.76        1733.53   \nB-staFiETH-WETH-Stable   1216.06    339.32           0.00   \nGHO/USDT/USDC            1142.35   1871.72           0.00   \n50wstETH-50LDO            631.08    255.37          11.58   \n50wstETH-50ACX            382.23   1420.64          38.01   \nECLP-wstETH-cbETH           0.00      0.00           0.00   \nECLP-wstETH-wETH            0.00      0.00           0.00   \nbb-WETH-wstETH           3086.93     15.05           1.89   \ncbETH/WETH               1861.24   1117.86           1.14   \nrETH-WETH-BPT             400.17    223.34           0.00   \nRDNT-WETH               11098.56  20100.60       10461.91   \nwstETH/rETH/cbETH        1007.96    358.25           1.22   \n4POOL-BPT                 471.29    829.65         470.99   \nwstETH/rETH/sfrxETH         0.01      0.00           0.00   \n\n                       bpt_token_fee_in_usd token_fees_in_usd  \\\nECLP-WMATIC-stMATIC                 1475.07                 0   \nmaticX-WMATIC-BPT                   1459.35                 0   \nECLP-WMATIC-MATICX                   406.19                 0   \nstMATIC-WMATIC-BPT                     2.47                 0   \nwstETH-WETH-BPT                        0.00              0.00   \nB-rETH-STABLE                          0.00          15797.59   \n50rETH-50BADGER                     9827.34                 0   \nswETH-WETH-BPT                      5510.70                 0   \nankrETH/wstETH                      3789.39                 0   \n20WETH-80ALCX                       2069.92                 0   \n50rETH-50RPL                        1260.88                 0   \nSTG/USDC                            1239.62                 0   \nB-staFiETH-WETH-Stable                 0.00           1212.37   \nGHO/USDT/USDC                          0.00              0.00   \n50wstETH-50LDO                       613.44                 0   \n50wstETH-50ACX                       381.47                 0   \nECLP-wstETH-cbETH                      0.00              0.00   \nECLP-wstETH-wETH                       0.00              0.00   \nbb-WETH-wstETH                      3091.15                 0   \ncbETH/WETH                          1847.61                 0   \nrETH-WETH-BPT                          0.00              0.00   \nRDNT-WETH                          11352.44                 0   \nwstETH/rETH/cbETH                   1980.55                 0   \n4POOL-BPT                            471.13                 0   \nwstETH/rETH/sfrxETH                    0.02                 0   \n\n                                 time_from             time_to     chain  \nECLP-WMATIC-stMATIC    2023-09-01 18:00:00 2023-09-15 18:00:00   polygon  \nmaticX-WMATIC-BPT      2023-09-01 18:00:00 2023-09-15 18:00:00   polygon  \nECLP-WMATIC-MATICX     2023-09-01 18:00:00 2023-09-15 18:00:00   polygon  \nstMATIC-WMATIC-BPT     2023-09-01 18:00:00 2023-09-15 18:00:00   polygon  \nwstETH-WETH-BPT        2023-09-01 18:00:00 2023-09-15 18:00:00   polygon  \nB-rETH-STABLE          2023-09-01 18:00:00 2023-09-15 18:00:00   mainnet  \n50rETH-50BADGER        2023-09-01 18:00:00 2023-09-15 18:00:00   mainnet  \nswETH-WETH-BPT         2023-09-01 18:00:00 2023-09-15 18:00:00   mainnet  \nankrETH/wstETH         2023-09-01 18:00:00 2023-09-15 18:00:00   mainnet  \n20WETH-80ALCX          2023-09-01 18:00:00 2023-09-15 18:00:00   mainnet  \n50rETH-50RPL           2023-09-01 18:00:00 2023-09-15 18:00:00   mainnet  \nSTG/USDC               2023-09-01 18:00:00 2023-09-15 18:00:00   mainnet  \nB-staFiETH-WETH-Stable 2023-09-01 18:00:00 2023-09-15 18:00:00   mainnet  \nGHO/USDT/USDC          2023-09-01 18:00:00 2023-09-15 18:00:00   mainnet  \n50wstETH-50LDO         2023-09-01 18:00:00 2023-09-15 18:00:00   mainnet  \n50wstETH-50ACX         2023-09-01 18:00:00 2023-09-15 18:00:00   mainnet  \nECLP-wstETH-cbETH      2023-09-01 18:00:00 2023-09-15 18:00:00   mainnet  \nECLP-wstETH-wETH       2023-09-01 18:00:00 2023-09-15 18:00:00   mainnet  \nbb-WETH-wstETH         2023-09-01 18:00:00 2023-09-15 18:00:00    gnosis  \ncbETH/WETH             2023-09-01 18:00:00 2023-09-15 18:00:00      base  \nrETH-WETH-BPT          2023-09-01 18:00:00 2023-09-15 18:00:00      base  \nRDNT-WETH              2023-09-01 18:00:00 2023-09-15 18:00:00  arbitrum  \nwstETH/rETH/cbETH      2023-09-01 18:00:00 2023-09-15 18:00:00  arbitrum  \n4POOL-BPT              2023-09-01 18:00:00 2023-09-15 18:00:00  arbitrum  \nwstETH/rETH/sfrxETH    2023-09-01 18:00:00 2023-09-15 18:00:00  arbitrum  ",
      "text/html": "<div>\n<style scoped>\n    .dataframe tbody tr th:only-of-type {\n        vertical-align: middle;\n    }\n\n    .dataframe tbody tr th {\n        vertical-align: top;\n    }\n\n    .dataframe thead th {\n        text-align: right;\n    }\n</style>\n<table border=\"1\" class=\"dataframe\">\n  <thead>\n    <tr style=\"text-align: right;\">\n      <th></th>\n      <th>pool_fee</th>\n      <th>swap_fee</th>\n      <th>bpt_token_fee</th>\n      <th>bpt_token_fee_in_usd</th>\n      <th>token_fees_in_usd</th>\n      <th>time_from</th>\n      <th>time_to</th>\n      <th>chain</th>\n    </tr>\n  </thead>\n  <tbody>\n    <tr>\n      <th>ECLP-WMATIC-stMATIC</th>\n      <td>1471.99</td>\n      <td>249.38</td>\n      <td>2730.95</td>\n      <td>1475.07</td>\n      <td>0</td>\n      <td>2023-09-01 18:00:00</td>\n      <td>2023-09-15 18:00:00</td>\n      <td>polygon</td>\n    </tr>\n    <tr>\n      <th>maticX-WMATIC-BPT</th>\n      <td>1450.10</td>\n      <td>323.64</td>\n      <td>2724.34</td>\n      <td>1459.35</td>\n      <td>0</td>\n      <td>2023-09-01 18:00:00</td>\n      <td>2023-09-15 18:00:00</td>\n      <td>polygon</td>\n    </tr>\n    <tr>\n      <th>ECLP-WMATIC-MATICX</th>\n      <td>403.20</td>\n      <td>71.44</td>\n      <td>755.02</td>\n      <td>406.19</td>\n      <td>0</td>\n      <td>2023-09-01 18:00:00</td>\n      <td>2023-09-15 18:00:00</td>\n      <td>polygon</td>\n    </tr>\n    <tr>\n      <th>stMATIC-WMATIC-BPT</th>\n      <td>2.58</td>\n      <td>1.34</td>\n      <td>4.62</td>\n      <td>2.47</td>\n      <td>0</td>\n      <td>2023-09-01 18:00:00</td>\n      <td>2023-09-15 18:00:00</td>\n      <td>polygon</td>\n    </tr>\n    <tr>\n      <th>wstETH-WETH-BPT</th>\n      <td>0.00</td>\n      <td>0.00</td>\n      <td>0.00</td>\n      <td>0.00</td>\n      <td>0.00</td>\n      <td>2023-09-01 18:00:00</td>\n      <td>2023-09-15 18:00:00</td>\n      <td>polygon</td>\n    </tr>\n    <tr>\n      <th>B-rETH-STABLE</th>\n      <td>15892.61</td>\n      <td>2294.22</td>\n      <td>0.00</td>\n      <td>0.00</td>\n      <td>15797.59</td>\n      <td>2023-09-01 18:00:00</td>\n      <td>2023-09-15 18:00:00</td>\n      <td>mainnet</td>\n    </tr>\n    <tr>\n      <th>50rETH-50BADGER</th>\n      <td>9939.15</td>\n      <td>2894.08</td>\n      <td>166.20</td>\n      <td>9827.34</td>\n      <td>0</td>\n      <td>2023-09-01 18:00:00</td>\n      <td>2023-09-15 18:00:00</td>\n      <td>mainnet</td>\n    </tr>\n    <tr>\n      <th>swETH-WETH-BPT</th>\n      <td>5502.29</td>\n      <td>634.17</td>\n      <td>3.43</td>\n      <td>5510.70</td>\n      <td>0</td>\n      <td>2023-09-01 18:00:00</td>\n      <td>2023-09-15 18:00:00</td>\n      <td>mainnet</td>\n    </tr>\n    <tr>\n      <th>ankrETH/wstETH</th>\n      <td>3867.44</td>\n      <td>126.65</td>\n      <td>2.32</td>\n      <td>3789.39</td>\n      <td>0</td>\n      <td>2023-09-01 18:00:00</td>\n      <td>2023-09-15 18:00:00</td>\n      <td>mainnet</td>\n    </tr>\n    <tr>\n      <th>20WETH-80ALCX</th>\n      <td>2393.07</td>\n      <td>3925.29</td>\n      <td>83.27</td>\n      <td>2069.92</td>\n      <td>0</td>\n      <td>2023-09-01 18:00:00</td>\n      <td>2023-09-15 18:00:00</td>\n      <td>mainnet</td>\n    </tr>\n    <tr>\n      <th>50rETH-50RPL</th>\n      <td>1272.25</td>\n      <td>1209.24</td>\n      <td>6.32</td>\n      <td>1260.88</td>\n      <td>0</td>\n      <td>2023-09-01 18:00:00</td>\n      <td>2023-09-15 18:00:00</td>\n      <td>mainnet</td>\n    </tr>\n    <tr>\n      <th>STG/USDC</th>\n      <td>1262.74</td>\n      <td>8264.76</td>\n      <td>1733.53</td>\n      <td>1239.62</td>\n      <td>0</td>\n      <td>2023-09-01 18:00:00</td>\n      <td>2023-09-15 18:00:00</td>\n      <td>mainnet</td>\n    </tr>\n    <tr>\n      <th>B-staFiETH-WETH-Stable</th>\n      <td>1216.06</td>\n      <td>339.32</td>\n      <td>0.00</td>\n      <td>0.00</td>\n      <td>1212.37</td>\n      <td>2023-09-01 18:00:00</td>\n      <td>2023-09-15 18:00:00</td>\n      <td>mainnet</td>\n    </tr>\n    <tr>\n      <th>GHO/USDT/USDC</th>\n      <td>1142.35</td>\n      <td>1871.72</td>\n      <td>0.00</td>\n      <td>0.00</td>\n      <td>0.00</td>\n      <td>2023-09-01 18:00:00</td>\n      <td>2023-09-15 18:00:00</td>\n      <td>mainnet</td>\n    </tr>\n    <tr>\n      <th>50wstETH-50LDO</th>\n      <td>631.08</td>\n      <td>255.37</td>\n      <td>11.58</td>\n      <td>613.44</td>\n      <td>0</td>\n      <td>2023-09-01 18:00:00</td>\n      <td>2023-09-15 18:00:00</td>\n      <td>mainnet</td>\n    </tr>\n    <tr>\n      <th>50wstETH-50ACX</th>\n      <td>382.23</td>\n      <td>1420.64</td>\n      <td>38.01</td>\n      <td>381.47</td>\n      <td>0</td>\n      <td>2023-09-01 18:00:00</td>\n      <td>2023-09-15 18:00:00</td>\n      <td>mainnet</td>\n    </tr>\n    <tr>\n      <th>ECLP-wstETH-cbETH</th>\n      <td>0.00</td>\n      <td>0.00</td>\n      <td>0.00</td>\n      <td>0.00</td>\n      <td>0.00</td>\n      <td>2023-09-01 18:00:00</td>\n      <td>2023-09-15 18:00:00</td>\n      <td>mainnet</td>\n    </tr>\n    <tr>\n      <th>ECLP-wstETH-wETH</th>\n      <td>0.00</td>\n      <td>0.00</td>\n      <td>0.00</td>\n      <td>0.00</td>\n      <td>0.00</td>\n      <td>2023-09-01 18:00:00</td>\n      <td>2023-09-15 18:00:00</td>\n      <td>mainnet</td>\n    </tr>\n    <tr>\n      <th>bb-WETH-wstETH</th>\n      <td>3086.93</td>\n      <td>15.05</td>\n      <td>1.89</td>\n      <td>3091.15</td>\n      <td>0</td>\n      <td>2023-09-01 18:00:00</td>\n      <td>2023-09-15 18:00:00</td>\n      <td>gnosis</td>\n    </tr>\n    <tr>\n      <th>cbETH/WETH</th>\n      <td>1861.24</td>\n      <td>1117.86</td>\n      <td>1.14</td>\n      <td>1847.61</td>\n      <td>0</td>\n      <td>2023-09-01 18:00:00</td>\n      <td>2023-09-15 18:00:00</td>\n      <td>base</td>\n    </tr>\n    <tr>\n      <th>rETH-WETH-BPT</th>\n      <td>400.17</td>\n      <td>223.34</td>\n      <td>0.00</td>\n      <td>0.00</td>\n      <td>0.00</td>\n      <td>2023-09-01 18:00:00</td>\n      <td>2023-09-15 18:00:00</td>\n      <td>base</td>\n    </tr>\n    <tr>\n      <th>RDNT-WETH</th>\n      <td>11098.56</td>\n      <td>20100.60</td>\n      <td>10461.91</td>\n      <td>11352.44</td>\n      <td>0</td>\n      <td>2023-09-01 18:00:00</td>\n      <td>2023-09-15 18:00:00</td>\n      <td>arbitrum</td>\n    </tr>\n    <tr>\n      <th>wstETH/rETH/cbETH</th>\n      <td>1007.96</td>\n      <td>358.25</td>\n      <td>1.22</td>\n      <td>1980.55</td>\n      <td>0</td>\n      <td>2023-09-01 18:00:00</td>\n      <td>2023-09-15 18:00:00</td>\n      <td>arbitrum</td>\n    </tr>\n    <tr>\n      <th>4POOL-BPT</th>\n      <td>471.29</td>\n      <td>829.65</td>\n      <td>470.99</td>\n      <td>471.13</td>\n      <td>0</td>\n      <td>2023-09-01 18:00:00</td>\n      <td>2023-09-15 18:00:00</td>\n      <td>arbitrum</td>\n    </tr>\n    <tr>\n      <th>wstETH/rETH/sfrxETH</th>\n      <td>0.01</td>\n      <td>0.00</td>\n      <td>0.00</td>\n      <td>0.02</td>\n      <td>0</td>\n      <td>2023-09-01 18:00:00</td>\n      <td>2023-09-15 18:00:00</td>\n      <td>arbitrum</td>\n    </tr>\n  </tbody>\n</table>\n</div>"
     },
     "execution_count": 10,
     "metadata": {},
     "output_type": "execute_result"
    }
   ],
   "source": [
    "# Remove `token_fees` field from dataframe, as it's too big\n",
    "joint_fees_df_copy = joint_fees_df.drop(columns=['token_fees'])\n",
    "# Display all rows in dataframe\n",
    "pd.set_option('display.max_rows', 1000)\n",
    "joint_fees_df_copy.sort_values(by=['chain', 'pool_fee'], ascending=False)"
   ],
   "metadata": {
    "collapsed": false,
    "ExecuteTime": {
     "end_time": "2023-09-15T13:47:07.665625Z",
     "start_time": "2023-09-15T13:47:07.647860Z"
    }
   },
   "id": "52fccc19e5e6b4f2"
  },
  {
   "cell_type": "markdown",
   "source": [
    "## Now let's calculate bribes paid to the pools"
   ],
   "metadata": {
    "collapsed": false
   },
   "id": "97a5370819f28ffc"
  },
  {
   "cell_type": "code",
   "execution_count": 11,
   "outputs": [
    {
     "data": {
      "text/plain": "                           chain                       aura_bribes  \\\nwstETH/rETH/cbETH       arbitrum     393.8127130999731453917867221   \n4POOL-BPT               arbitrum     93.67952514341488373857387007   \nRDNT-WETH               arbitrum     2257.320035699507275590889023   \nwstETH/rETH/sfrxETH     arbitrum  0.003976801525838510973131571756   \nrETH-WETH-BPT               base                             0E-31   \ncbETH/WETH                  base     367.3789133577245629533811646   \nbb-WETH-wstETH            gnosis     614.6445018297856597297829017   \nB-rETH-STABLE            mainnet     3141.194000828560128201679333   \nswETH-WETH-BPT           mainnet     1095.748008421914120981807624   \nECLP-wstETH-cbETH        mainnet                             0E-31   \n20WETH-80ALCX            mainnet     411.5830507181825316752251505   \nB-staFiETH-WETH-Stable   mainnet     241.0677432940417774247761825   \nGHO/USDT/USDC            mainnet                             0E-31   \nankrETH/wstETH           mainnet     753.4825966998597548237523348   \n50wstETH-50LDO           mainnet     121.9764564005188085678915689   \n50rETH-50BADGER          mainnet     1954.069035346691621334741019   \n50rETH-50RPL             mainnet     250.7134753949630857901068098   \nSTG/USDC                 mainnet     246.4861353729967486256679490   \nECLP-wstETH-wETH         mainnet                             0E-31   \n50wstETH-50ACX           mainnet     75.85152390308083904602503389   \nwstETH-WETH-BPT          polygon                             0E-31   \nECLP-WMATIC-stMATIC      polygon     293.3030313359306190568593775   \nECLP-WMATIC-MATICX       polygon     80.76685058901723860881565658   \nstMATIC-WMATIC-BPT       polygon    0.4911349884410561051817491119   \nmaticX-WMATIC-BPT        polygon     290.1772653366215494319779621   \n\n                                              bal_bribes pool_total fees_taken  \nwstETH/rETH/cbETH          596.4622869000268546082132779    1980.55    990.275  \n4POOL-BPT                  141.8854748565851162614261299     471.13    235.565  \nRDNT-WETH                  3418.899964300492724409110977   11352.44   5676.220  \nwstETH/rETH/sfrxETH     0.006023198474161489026868428244       0.02      0.010  \nrETH-WETH-BPT                                      0E-31       0.00      0.000  \ncbETH/WETH                 556.4260866422754370466188354    1847.61    923.805  \nbb-WETH-wstETH             930.9304981702143402702170983    3091.15   1545.575  \nB-rETH-STABLE              4757.600999171439871798320667   15797.59   7898.795  \nswETH-WETH-BPT             1659.601991578085879018192376    5510.70   2755.350  \nECLP-wstETH-cbETH                                  0E-31       0.00      0.000  \n20WETH-80ALCX              623.3769492818174683247748495    2069.92   1034.960  \nB-staFiETH-WETH-Stable     365.1172567059582225752238175    1212.37    606.185  \nGHO/USDT/USDC                                      0E-31       0.00      0.000  \nankrETH/wstETH             1141.212403300140245176247665    3789.39   1894.695  \n50wstETH-50LDO             184.7435435994811914321084311     613.44    306.720  \n50rETH-50BADGER            2959.600964653308378665258981    9827.34   4913.670  \n50rETH-50RPL               379.7265246050369142098931902    1260.88    630.440  \nSTG/USDC                   373.3238646270032513743320510    1239.62    619.810  \nECLP-wstETH-wETH                                   0E-31       0.00      0.000  \n50wstETH-50ACX             114.8834760969191609539749661     381.47    190.735  \nwstETH-WETH-BPT                                    0E-31       0.00      0.000  \nECLP-WMATIC-stMATIC        444.2319686640693809431406225    1475.07    737.535  \nECLP-WMATIC-MATICX         122.3281494109827613911843434     406.19    203.095  \nstMATIC-WMATIC-BPT        0.7438650115589438948182508881       2.47      1.235  \nmaticX-WMATIC-BPT          439.4977346633784505680220379    1459.35    729.675  ",
      "text/html": "<div>\n<style scoped>\n    .dataframe tbody tr th:only-of-type {\n        vertical-align: middle;\n    }\n\n    .dataframe tbody tr th {\n        vertical-align: top;\n    }\n\n    .dataframe thead th {\n        text-align: right;\n    }\n</style>\n<table border=\"1\" class=\"dataframe\">\n  <thead>\n    <tr style=\"text-align: right;\">\n      <th></th>\n      <th>chain</th>\n      <th>aura_bribes</th>\n      <th>bal_bribes</th>\n      <th>pool_total</th>\n      <th>fees_taken</th>\n    </tr>\n  </thead>\n  <tbody>\n    <tr>\n      <th>wstETH/rETH/cbETH</th>\n      <td>arbitrum</td>\n      <td>393.8127130999731453917867221</td>\n      <td>596.4622869000268546082132779</td>\n      <td>1980.55</td>\n      <td>990.275</td>\n    </tr>\n    <tr>\n      <th>4POOL-BPT</th>\n      <td>arbitrum</td>\n      <td>93.67952514341488373857387007</td>\n      <td>141.8854748565851162614261299</td>\n      <td>471.13</td>\n      <td>235.565</td>\n    </tr>\n    <tr>\n      <th>RDNT-WETH</th>\n      <td>arbitrum</td>\n      <td>2257.320035699507275590889023</td>\n      <td>3418.899964300492724409110977</td>\n      <td>11352.44</td>\n      <td>5676.220</td>\n    </tr>\n    <tr>\n      <th>wstETH/rETH/sfrxETH</th>\n      <td>arbitrum</td>\n      <td>0.003976801525838510973131571756</td>\n      <td>0.006023198474161489026868428244</td>\n      <td>0.02</td>\n      <td>0.010</td>\n    </tr>\n    <tr>\n      <th>rETH-WETH-BPT</th>\n      <td>base</td>\n      <td>0E-31</td>\n      <td>0E-31</td>\n      <td>0.00</td>\n      <td>0.000</td>\n    </tr>\n    <tr>\n      <th>cbETH/WETH</th>\n      <td>base</td>\n      <td>367.3789133577245629533811646</td>\n      <td>556.4260866422754370466188354</td>\n      <td>1847.61</td>\n      <td>923.805</td>\n    </tr>\n    <tr>\n      <th>bb-WETH-wstETH</th>\n      <td>gnosis</td>\n      <td>614.6445018297856597297829017</td>\n      <td>930.9304981702143402702170983</td>\n      <td>3091.15</td>\n      <td>1545.575</td>\n    </tr>\n    <tr>\n      <th>B-rETH-STABLE</th>\n      <td>mainnet</td>\n      <td>3141.194000828560128201679333</td>\n      <td>4757.600999171439871798320667</td>\n      <td>15797.59</td>\n      <td>7898.795</td>\n    </tr>\n    <tr>\n      <th>swETH-WETH-BPT</th>\n      <td>mainnet</td>\n      <td>1095.748008421914120981807624</td>\n      <td>1659.601991578085879018192376</td>\n      <td>5510.70</td>\n      <td>2755.350</td>\n    </tr>\n    <tr>\n      <th>ECLP-wstETH-cbETH</th>\n      <td>mainnet</td>\n      <td>0E-31</td>\n      <td>0E-31</td>\n      <td>0.00</td>\n      <td>0.000</td>\n    </tr>\n    <tr>\n      <th>20WETH-80ALCX</th>\n      <td>mainnet</td>\n      <td>411.5830507181825316752251505</td>\n      <td>623.3769492818174683247748495</td>\n      <td>2069.92</td>\n      <td>1034.960</td>\n    </tr>\n    <tr>\n      <th>B-staFiETH-WETH-Stable</th>\n      <td>mainnet</td>\n      <td>241.0677432940417774247761825</td>\n      <td>365.1172567059582225752238175</td>\n      <td>1212.37</td>\n      <td>606.185</td>\n    </tr>\n    <tr>\n      <th>GHO/USDT/USDC</th>\n      <td>mainnet</td>\n      <td>0E-31</td>\n      <td>0E-31</td>\n      <td>0.00</td>\n      <td>0.000</td>\n    </tr>\n    <tr>\n      <th>ankrETH/wstETH</th>\n      <td>mainnet</td>\n      <td>753.4825966998597548237523348</td>\n      <td>1141.212403300140245176247665</td>\n      <td>3789.39</td>\n      <td>1894.695</td>\n    </tr>\n    <tr>\n      <th>50wstETH-50LDO</th>\n      <td>mainnet</td>\n      <td>121.9764564005188085678915689</td>\n      <td>184.7435435994811914321084311</td>\n      <td>613.44</td>\n      <td>306.720</td>\n    </tr>\n    <tr>\n      <th>50rETH-50BADGER</th>\n      <td>mainnet</td>\n      <td>1954.069035346691621334741019</td>\n      <td>2959.600964653308378665258981</td>\n      <td>9827.34</td>\n      <td>4913.670</td>\n    </tr>\n    <tr>\n      <th>50rETH-50RPL</th>\n      <td>mainnet</td>\n      <td>250.7134753949630857901068098</td>\n      <td>379.7265246050369142098931902</td>\n      <td>1260.88</td>\n      <td>630.440</td>\n    </tr>\n    <tr>\n      <th>STG/USDC</th>\n      <td>mainnet</td>\n      <td>246.4861353729967486256679490</td>\n      <td>373.3238646270032513743320510</td>\n      <td>1239.62</td>\n      <td>619.810</td>\n    </tr>\n    <tr>\n      <th>ECLP-wstETH-wETH</th>\n      <td>mainnet</td>\n      <td>0E-31</td>\n      <td>0E-31</td>\n      <td>0.00</td>\n      <td>0.000</td>\n    </tr>\n    <tr>\n      <th>50wstETH-50ACX</th>\n      <td>mainnet</td>\n      <td>75.85152390308083904602503389</td>\n      <td>114.8834760969191609539749661</td>\n      <td>381.47</td>\n      <td>190.735</td>\n    </tr>\n    <tr>\n      <th>wstETH-WETH-BPT</th>\n      <td>polygon</td>\n      <td>0E-31</td>\n      <td>0E-31</td>\n      <td>0.00</td>\n      <td>0.000</td>\n    </tr>\n    <tr>\n      <th>ECLP-WMATIC-stMATIC</th>\n      <td>polygon</td>\n      <td>293.3030313359306190568593775</td>\n      <td>444.2319686640693809431406225</td>\n      <td>1475.07</td>\n      <td>737.535</td>\n    </tr>\n    <tr>\n      <th>ECLP-WMATIC-MATICX</th>\n      <td>polygon</td>\n      <td>80.76685058901723860881565658</td>\n      <td>122.3281494109827613911843434</td>\n      <td>406.19</td>\n      <td>203.095</td>\n    </tr>\n    <tr>\n      <th>stMATIC-WMATIC-BPT</th>\n      <td>polygon</td>\n      <td>0.4911349884410561051817491119</td>\n      <td>0.7438650115589438948182508881</td>\n      <td>2.47</td>\n      <td>1.235</td>\n    </tr>\n    <tr>\n      <th>maticX-WMATIC-BPT</th>\n      <td>polygon</td>\n      <td>290.1772653366215494319779621</td>\n      <td>439.4977346633784505680220379</td>\n      <td>1459.35</td>\n      <td>729.675</td>\n    </tr>\n  </tbody>\n</table>\n</div>"
     },
     "execution_count": 11,
     "metadata": {},
     "output_type": "execute_result"
    }
   ],
   "source": [
    "from notebooks import calculate_aura_vebal_share\n",
    "\n",
    "aura_vebal_share = calculate_aura_vebal_share(eth_web3, mainnet_block)\n",
    "\n",
    "# Bribes are split per chain and per pool, with each pool getting a share of the bribe proportional to its share of fees\n",
    "# paid by all pools on that chain. For example, if pool A paid 10% of all fees on Arbitrum, it will get 10% of the bribes. That 10% will be distributed between aura and vebal, proportional to their share of the bribe.\n",
    "FEE = Decimal(0.5)  # 50% goes to fees\n",
    "\n",
    "\n",
    "# Let's calculate share of fees paid by each pool on each chain\n",
    "def calc_and_split_bribes(fees: Dict, chain: str) -> Dict[str, Dict]:\n",
    "    pool_bribs = {}\n",
    "    for pool, data in fees.items():\n",
    "        pool_fees = data['bpt_token_fee_in_usd'] + data['token_fees_in_usd']\n",
    "        # Split fees between aura and bal fees\n",
    "        pool_bribs[pool] = {\n",
    "            \"chain\": chain,\n",
    "            \"aura_bribes\": pool_fees * FEE * aura_vebal_share,\n",
    "            \"bal_bribes\": pool_fees * FEE * (1 - aura_vebal_share),\n",
    "            \"pool_total\": pool_fees,\n",
    "            \"fees_taken\": pool_fees * FEE,\n",
    "        }\n",
    "    return pool_bribs\n",
    "\n",
    "\n",
    "mainnet_bribes = calc_and_split_bribes(mainnet_fees, 'mainnet')\n",
    "arb_bribes = calc_and_split_bribes(arb_fees, 'arbitrum')\n",
    "polygon_bribes = calc_and_split_bribes(polygon_fees, 'polygon')\n",
    "base_bribes = calc_and_split_bribes(base_fees, 'base')\n",
    "gnosis_bribes = calc_and_split_bribes(gnosis_fees, 'gnosis')\n",
    "# Convert to dataframe\n",
    "joint_bribes_data = {**arb_bribes, **mainnet_bribes, **polygon_bribes, **base_bribes, **gnosis_bribes}\n",
    "# Sort by chain:\n",
    "joint_bribes_data = {k: v for k, v in sorted(joint_bribes_data.items(), key=lambda item: item[1]['chain'])}\n",
    "joint_bribes_df = pd.DataFrame.from_dict(joint_bribes_data, orient='index')\n",
    "# Sort by chain\n",
    "# Dump into csv and prefix with dates\n",
    "joint_bribes_df.to_csv(f'../data/bribs/bribes_{arb_datetime_2_weeks_ago.date()}_{arb_datetime_now.date()}.csv')\n",
    "joint_bribes_df"
   ],
   "metadata": {
    "collapsed": false,
    "ExecuteTime": {
     "end_time": "2023-09-15T13:47:08.553423Z",
     "start_time": "2023-09-15T13:47:07.665805Z"
    }
   },
   "id": "efdef306c522076a"
  }
 ],
 "metadata": {
  "kernelspec": {
   "display_name": "Python 3",
   "language": "python",
   "name": "python3"
  },
  "language_info": {
   "codemirror_mode": {
    "name": "ipython",
    "version": 2
   },
   "file_extension": ".py",
   "mimetype": "text/x-python",
   "name": "python",
   "nbconvert_exporter": "python",
   "pygments_lexer": "ipython2",
   "version": "2.7.6"
  }
 },
 "nbformat": 4,
 "nbformat_minor": 5
}
