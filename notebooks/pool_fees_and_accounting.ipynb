{
 "cells": [
  {
   "cell_type": "markdown",
   "source": [
    "## Collecting protocol fees across Balancer core pools on all networks\n",
    "- Spreadsheet as reference: https://docs.google.com/spreadsheets/d/1xwUPpbYq7woVOU9vQ8EB8MY75I-1mauTLyDVwvKUDKo/edit#gid=0\n",
    "- Collab: https://colab.research.google.com/drive/1vKCvcV5mkL1zwW3565kLSGkBEbt8NsoB?usp=sharing\n"
   ],
   "metadata": {
    "collapsed": false
   },
   "id": "e739385af75b2478"
  },
  {
   "cell_type": "code",
   "execution_count": 2,
   "outputs": [
    {
     "name": "stdout",
     "output_type": "stream",
     "text": [
      "ARBITRUM\n",
      "1840.088502140251486439064707\n",
      "1849.112740619212568255530924\n",
      "1840.246733687705931575477001\n",
      "1.000468223339994222704040111\n",
      "1.385883244842785215745603406\n",
      "1839.306156742747865786560441\n",
      "1.001325804118963713902572610\n",
      "MAINNET\n",
      "1837.999723470568645632911054\n",
      "1885.826672117525479253395465\n",
      "1826.533874641722987003287631\n",
      "1837.840741394329575601953494\n",
      "1838.533532042886070650433172\n",
      "28.62142189350756253118170066\n",
      "1854.658730032151914350447206\n",
      "0.9829942342377910579539661548\n",
      "1845.385858087329759807846652\n",
      "61.57247132094396709479301097\n",
      "65.83695633899880303677808390\n",
      "232.3431847552983452300305698\n",
      "0.8002158631486512624870551206\n",
      "1848.757602533177018203754737\n",
      "11.59042947158728450853396906\n",
      "POLYGON\n",
      "0.9995170983294423379875944963\n",
      "0.9983289292298759328377664270\n",
      "0.6682961564208527327482874348\n",
      "0.6679009027278375185140301962\n",
      "1837.899610310451431248558119\n"
     ]
    }
   ],
   "source": [
    "import datetime\n",
    "import os\n",
    "\n",
    "from dotenv import load_dotenv\n",
    "from web3 import Web3\n",
    "from web3.middleware import geth_poa_middleware\n",
    "\n",
    "from notebooks import get_twap_bpt_price\n",
    "from notebooks.constants import ARB_CHAIN_BLOCK_TIME\n",
    "from notebooks.constants import ARB_CORE_POOLS\n",
    "from notebooks.constants import MAINNET_CHAIN_BLOCK_TIME\n",
    "from notebooks.constants import MAINNET_CORE_POOLS\n",
    "from notebooks.constants import POLYGON_CHAIN_BLOCK_TIME\n",
    "from notebooks.constants import POLYGON_CORE_POOLS\n",
    "\n",
    "load_dotenv()\n",
    "arb_web3 = Web3(Web3.HTTPProvider(os.environ[\"ARBNODEURL\"]))\n",
    "eth_web3 = Web3(Web3.HTTPProvider(os.environ[\"ETHNODEURL\"]))\n",
    "poly_web3 = Web3(Web3.HTTPProvider(\"https://polygon-rpc.com\"))\n",
    "poly_web3.middleware_onion.inject(geth_poa_middleware, layer=0)\n",
    "\n",
    "# ARBITRUM\n",
    "# TODO: \n",
    "# arb_block_now = arb_web3.eth.block_number - 1000\n",
    "arb_block = 122428959  # 18 August 2023\n",
    "arb_timestamp_now = arb_web3.eth.get_block(arb_block).timestamp\n",
    "# Given Arb block time, we want to look back 2 weeks:\n",
    "arb_block_2_weeks_ago = arb_block - (2 * 7 * 24 * 60 * 60 / ARB_CHAIN_BLOCK_TIME)\n",
    "arb_timestamp_2_weeks_ago = arb_web3.eth.get_block(int(arb_block_2_weeks_ago)).timestamp\n",
    "# Convert to datetime:\n",
    "arb_datetime_now = datetime.datetime.fromtimestamp(arb_timestamp_now)\n",
    "arb_datetime_2_weeks_ago = datetime.datetime.fromtimestamp(arb_timestamp_2_weeks_ago)\n",
    "# MAINNET\n",
    "# TODO: \n",
    "# mainnet_block_now = eth_web3.eth.block_number - 1000\n",
    "mainnet_block = 17938293\n",
    "mainnet_timestamp_now = eth_web3.eth.get_block(mainnet_block).timestamp\n",
    "# Given mainnet block time, we want to look back 2 weeks:\n",
    "mainnet_block_2_weeks_ago = mainnet_block - (2 * 7 * 24 * 60 * 60 / MAINNET_CHAIN_BLOCK_TIME)\n",
    "mainnet_timestamp_2_weeks_ago = eth_web3.eth.get_block(int(mainnet_block_2_weeks_ago)).timestamp\n",
    "# Convert to datetime:\n",
    "mainnet_datetime_now = datetime.datetime.fromtimestamp(mainnet_timestamp_now)\n",
    "mainnet_datetime_2_weeks_ago = datetime.datetime.fromtimestamp(mainnet_timestamp_2_weeks_ago)\n",
    "\n",
    "# POLYGON\n",
    "# poly_block_now = poly_web3.eth.block_number - 1000\n",
    "poly_block = 46439663\n",
    "poly_timestamp_now = poly_web3.eth.get_block(poly_block).timestamp\n",
    "# Given polygon block time, we want to look back 2 weeks:\n",
    "poly_block_2_weeks_ago = poly_block - (2 * 7 * 24 * 60 * 60 / POLYGON_CHAIN_BLOCK_TIME)\n",
    "poly_timestamp_2_weeks_ago = poly_web3.eth.get_block(int(poly_block_2_weeks_ago)).timestamp\n",
    "# Convert to datetime:\n",
    "poly_datetime_now = datetime.datetime.fromtimestamp(poly_timestamp_now)\n",
    "poly_datetime_2_weeks_ago = datetime.datetime.fromtimestamp(poly_timestamp_2_weeks_ago)\n",
    "\n",
    "print(\"ARBITRUM\")\n",
    "arb_bpt_twap_prices = {}\n",
    "for arb_pool in ARB_CORE_POOLS:\n",
    "    arb_bpt_twap_prices[arb_pool] = get_twap_bpt_price(arb_pool, 'arbitrum', arb_web3, start_date=arb_datetime_now.date(),\n",
    "                                                       block_number=arb_block)\n",
    "    print(arb_bpt_twap_prices[arb_pool])\n",
    "\n",
    "print(\"MAINNET\")\n",
    "mainnet_bpt_twap_prices = {}\n",
    "for mainnet_pool in MAINNET_CORE_POOLS:\n",
    "    mainnet_bpt_twap_prices[mainnet_pool] = get_twap_bpt_price(mainnet_pool, 'mainnet', eth_web3,\n",
    "                                                               start_date=mainnet_datetime_now.date(),\n",
    "                                                               block_number=mainnet_block)\n",
    "    print(mainnet_bpt_twap_prices[mainnet_pool])\n",
    "\n",
    "print(\"POLYGON\")\n",
    "polygon_bpt_twap_prices = {}\n",
    "for polygon_pool in POLYGON_CORE_POOLS:\n",
    "    polygon_bpt_twap_prices[polygon_pool] = get_twap_bpt_price(polygon_pool, 'polygon', poly_web3,\n",
    "                                                               start_date=poly_datetime_now.date(), block_number=poly_block)\n",
    "    print(polygon_bpt_twap_prices[polygon_pool])\n"
   ],
   "metadata": {
    "collapsed": false,
    "ExecuteTime": {
     "end_time": "2023-09-04T14:36:28.428665Z",
     "start_time": "2023-09-04T14:33:58.463810Z"
    }
   },
   "id": "39d87004addaae1b"
  },
  {
   "cell_type": "code",
   "execution_count": 3,
   "outputs": [],
   "source": [
    "# Query:\n",
    "POOLS_SNAPSHOTS_QUERY = \"\"\"\n",
    "{{\n",
    "  poolSnapshots(\n",
    "    first: {first}\n",
    "    skip: {skip}\n",
    "    orderBy: timestamp\n",
    "    orderDirection: desc\n",
    "    block: {{ number: {block} }}\n",
    "    where: {{ protocolFee_not: null }}\n",
    "  ) {{\n",
    "    pool {{\n",
    "      address\n",
    "      id\n",
    "      symbol\n",
    "      totalProtocolFeePaidInBPT\n",
    "      tokens {{\n",
    "        symbol\n",
    "        address\n",
    "        paidProtocolFees\n",
    "      }}\n",
    "    }}\n",
    "    timestamp\n",
    "    protocolFee\n",
    "    swapFees\n",
    "    swapVolume\n",
    "    liquidity\n",
    "  }}\n",
    "}}\n",
    "\"\"\""
   ],
   "metadata": {
    "collapsed": false,
    "ExecuteTime": {
     "end_time": "2023-09-04T14:36:28.432170Z",
     "start_time": "2023-09-04T14:36:28.427180Z"
    }
   },
   "id": "abc722b4fa453b5a"
  },
  {
   "cell_type": "markdown",
   "source": [
    "## Fetching data from the Balancer subgraphs"
   ],
   "metadata": {
    "collapsed": false
   },
   "id": "cde5ffca807e3849"
  },
  {
   "cell_type": "code",
   "execution_count": 4,
   "outputs": [],
   "source": [
    "from notebooks.constants import POLYGON_BALANCER_GRAPH_URL\n",
    "from notebooks.constants import ARB_BALANCER_GRAPH_URL\n",
    "from notebooks.constants import MAINNET_BALANCER_GRAPH_URL\n",
    "from typing import Dict\n",
    "from typing import List\n",
    "from typing import Optional\n",
    "\n",
    "from gql import Client\n",
    "from gql import gql\n",
    "from gql.transport.requests import RequestsHTTPTransport\n",
    "import pandas as pd\n",
    "\n",
    "\n",
    "# Fetch all the data from the balancer subgraph\n",
    "def make_gql_client(url: str) -> Optional[Client]:\n",
    "    transport = RequestsHTTPTransport(url=url, retries=3)\n",
    "    return Client(\n",
    "        transport=transport, fetch_schema_from_transport=True, execute_timeout=60\n",
    "    )\n",
    "\n",
    "\n",
    "def get_balancer_pool_snapshots(block: int, graph_url: str) -> Optional[List[Dict]]:\n",
    "    client = make_gql_client(graph_url)\n",
    "    all_pools = []\n",
    "    limit = 1000\n",
    "    offset = 0\n",
    "    while True:\n",
    "        result = client.execute(\n",
    "            gql(POOLS_SNAPSHOTS_QUERY.format(first=limit, skip=offset, block=block)))\n",
    "        all_pools.extend(result['poolSnapshots'])\n",
    "        offset += limit\n",
    "        if offset >= 5000:\n",
    "            break\n",
    "        if len(result['poolSnapshots']) < limit - 1:\n",
    "            break\n",
    "    return all_pools\n",
    "\n",
    "\n",
    "arbi_pool_snapshots_now = get_balancer_pool_snapshots(arb_block, ARB_BALANCER_GRAPH_URL)\n",
    "arbi_pool_snapshots_2_weeks_ago = get_balancer_pool_snapshots(int(arb_block_2_weeks_ago), ARB_BALANCER_GRAPH_URL)\n",
    "\n",
    "mainnet_pool_snapshots_now = get_balancer_pool_snapshots(mainnet_block, MAINNET_BALANCER_GRAPH_URL)\n",
    "mainnet_pool_snapshots_2_weeks_ago = get_balancer_pool_snapshots(int(mainnet_block_2_weeks_ago),\n",
    "                                                                 MAINNET_BALANCER_GRAPH_URL)\n",
    "\n",
    "polygon_pool_snapshots_now = get_balancer_pool_snapshots(poly_block, POLYGON_BALANCER_GRAPH_URL)\n",
    "polygon_pool_snapshots_2_weeks_ago = get_balancer_pool_snapshots(int(poly_block_2_weeks_ago),\n",
    "                                                                 POLYGON_BALANCER_GRAPH_URL)"
   ],
   "metadata": {
    "collapsed": false,
    "ExecuteTime": {
     "end_time": "2023-09-04T14:37:20.909609Z",
     "start_time": "2023-09-04T14:36:28.433497Z"
    }
   },
   "id": "e1e0b8b90f62234c"
  },
  {
   "cell_type": "markdown",
   "source": [
    "## Extract fee data from CORE pools:\n"
   ],
   "metadata": {
    "collapsed": false
   },
   "id": "d5333a7de445454d"
  },
  {
   "cell_type": "code",
   "execution_count": 5,
   "outputs": [],
   "source": [
    "from collections import defaultdict\n",
    "from decimal import Decimal\n",
    "from notebooks import fetch_token_price_balgql\n",
    "\n",
    "\n",
    "def collect_fee_info(pools: list[str], chain: str, pools_now: list[dict], pools_shifted: list[dict],\n",
    "                     start_date: datetime.date) -> tuple[dict, dict]:\n",
    "    # Iterate through snapshots now and 2 weeks ago and extract fee data, by subtracting today's fee data from 2 weeks ago\n",
    "    # and then summing across all pools\n",
    "    fees = {}\n",
    "    token_fees = defaultdict(list)\n",
    "    for pool in pools:\n",
    "        current_fees_snapshots = [x for x in pools_now if x['pool']['id'] == pool]\n",
    "        current_fees_snapshots.sort(key=lambda x: x['timestamp'], reverse=True)\n",
    "        fees_2_weeks_ago = [x for x in pools_shifted if x['pool']['id'] == pool]\n",
    "        fees_2_weeks_ago.sort(key=lambda x: x['timestamp'], reverse=True)\n",
    "        # Take first element of list, which is the most recent snapshot\n",
    "        if not current_fees_snapshots or not fees_2_weeks_ago:\n",
    "            continue\n",
    "        pool_snapshot_now = current_fees_snapshots[0]\n",
    "        pool_snapshot_2_weeks_ago = fees_2_weeks_ago[0]\n",
    "        # Calculate fees\n",
    "        pool_fee = float(pool_snapshot_now['protocolFee']) - float(pool_snapshot_2_weeks_ago['protocolFee'])\n",
    "        pool_swap_fee = float(pool_snapshot_now['swapFees']) - float(pool_snapshot_2_weeks_ago['swapFees'])\n",
    "        # Now we need to collect token fee info. Let's start with BPT tokens, which is Balancer pool token. Notice,\n",
    "        # That totalProtocolFeePaidInBPT can be null, so we need to check for that\n",
    "        bpt_token_fee = 0\n",
    "        bpt_price_usd = arb_bpt_twap_prices[pool] if chain == 'arbitrum' else mainnet_bpt_twap_prices[\n",
    "            pool] if chain == 'mainnet' else polygon_bpt_twap_prices[pool]\n",
    "        if bpt_price_usd is None:\n",
    "            bpt_price_usd = 0\n",
    "        if pool_snapshot_now['pool']['totalProtocolFeePaidInBPT'] is not None and pool_snapshot_2_weeks_ago['pool'][\n",
    "            'totalProtocolFeePaidInBPT'] is not None:\n",
    "            bpt_token_fee = float(pool_snapshot_now['pool']['totalProtocolFeePaidInBPT']) - float(\n",
    "                pool_snapshot_2_weeks_ago['pool']['totalProtocolFeePaidInBPT'])\n",
    "            token_fees[pool_snapshot_now['pool']['symbol']].append({\n",
    "                'token': pool_snapshot_now['pool']['symbol'],\n",
    "                'token_fee': bpt_token_fee,\n",
    "                'token_price': bpt_price_usd,\n",
    "                'token_fee_in_usd': Decimal(bpt_token_fee) * bpt_price_usd,\n",
    "                'token_addr': pool_snapshot_now['pool']['address'],\n",
    "                'time_from': arb_datetime_2_weeks_ago,\n",
    "                'time_to': arb_datetime_now,\n",
    "                'chain': chain,\n",
    "            })\n",
    "        # Now collect fee info about fees paid in pool tokens. Pool tokens fee info is in pool.tokens dictionary. This will be separate dictionary\n",
    "        else:\n",
    "            bpt_price_usd = 0\n",
    "            for token_data in pool_snapshot_now['pool']['tokens']:\n",
    "                token_data_2_weeks_ago = \\\n",
    "                    [t for t in pool_snapshot_2_weeks_ago['pool']['tokens'] if t['address'] == token_data['address']][0]\n",
    "                token_fee = float(token_data.get('paidProtocolFees', None)) - float(\n",
    "                    token_data_2_weeks_ago.get('paidProtocolFees', None))\n",
    "                # Get twap token price from CoinGecko\n",
    "                token_price = fetch_token_price_balgql(token_data['address'], chain, start_date)\n",
    "                token_fees[pool_snapshot_now['pool']['symbol']].append({\n",
    "                    'token': token_data['symbol'],\n",
    "                    'token_fee': token_fee,\n",
    "                    'token_price': token_price,\n",
    "                    'token_fee_in_usd': Decimal(token_fee) * token_price if token_price is not None else 0,\n",
    "                    'token_addr': token_data['address'],\n",
    "                    'time_from': arb_datetime_2_weeks_ago,\n",
    "                    'time_to': arb_datetime_now,\n",
    "                    'chain': chain,\n",
    "                })\n",
    "        # Calculate non-BPT fees in USD\n",
    "        fees[pool_snapshot_now['pool']['symbol']] = {\n",
    "            'pool_fee': round(pool_fee, 2),\n",
    "            'swap_fee': round(pool_swap_fee, 2),\n",
    "            'bpt_token_fee': round(bpt_token_fee, 2),\n",
    "            # Get fee in USD by multiplying bpt_token_fee by price of BPT token taken from twap_bpt_price\n",
    "            'bpt_token_fee_in_usd': round(Decimal(bpt_token_fee) * bpt_price_usd, 2),\n",
    "            'token_fees_in_usd': round(sum([x['token_fee_in_usd'] for x in\n",
    "                                      token_fees[pool_snapshot_now['pool']['symbol']]]) if bpt_price_usd == 0 else 0, 2),\n",
    "            'time_from': arb_datetime_2_weeks_ago,\n",
    "            'time_to': arb_datetime_now,\n",
    "            'chain': chain,\n",
    "            'token_fees': token_fees[pool_snapshot_now['pool']['symbol']],\n",
    "        }\n",
    "    return fees\n",
    "\n",
    "\n",
    "arb_fees = collect_fee_info(ARB_CORE_POOLS, 'arbitrum', arbi_pool_snapshots_now,\n",
    "                            arbi_pool_snapshots_2_weeks_ago, arb_datetime_now.date())\n",
    "mainnet_fees = collect_fee_info(MAINNET_CORE_POOLS, 'mainnet', mainnet_pool_snapshots_now,\n",
    "                                mainnet_pool_snapshots_2_weeks_ago, mainnet_datetime_now.date())\n",
    "polygon_fees = collect_fee_info(POLYGON_CORE_POOLS, 'polygon', polygon_pool_snapshots_now,\n",
    "                                polygon_pool_snapshots_2_weeks_ago, poly_datetime_now.date())\n",
    "# Convert to dataframe, sort by chain and pool fee\n",
    "joint_fees = {**arb_fees, **mainnet_fees, **polygon_fees}\n",
    "joint_fees_df = pd.DataFrame.from_dict(joint_fees, orient='index')"
   ],
   "metadata": {
    "collapsed": false,
    "ExecuteTime": {
     "end_time": "2023-09-04T14:37:39.185486Z",
     "start_time": "2023-09-04T14:37:20.931595Z"
    }
   },
   "id": "e79b2f6a4ead2cad"
  },
  {
   "cell_type": "code",
   "execution_count": 6,
   "outputs": [
    {
     "data": {
      "text/plain": "                         pool_fee  swap_fee  bpt_token_fee  \\\nMaticX-bb-a-WMATIC-BPT    2653.65    295.61        3907.19   \nstMATIC-bb-a-WMATIC-BPT   2096.43     88.94           0.00   \nwstETH-bb-a-WETH-BPT         0.00      0.02           0.00   \nbb-am-usd                    0.00      0.00           0.00   \nwstETH-rETH-sfrxETH-BPT  29879.20   4302.87          15.95   \nB-rETH-STABLE            27610.34  16875.81           0.00   \n50STG-50bbaUSD           16308.63  27735.48       20756.67   \n50rETH-50BADGER          12131.48  12205.55         174.04   \nswETH-bb-a-WETH-BPT       7081.73     35.44           3.80   \nankrETH/wstETH            6871.85    869.23           3.70   \nGHO/bb-a-USD              3084.72   4517.23        3122.84   \nB-staFiETH-WETH-Stable    2880.99   1017.19           0.00   \n50rETH-50RPL              2860.23   3539.78          11.93   \n20WETH-80ALCX             1849.27   3757.80          64.25   \n50wstETH-50LDO             517.85    221.42           8.27   \n50wstETH-50ACX             349.81   1465.27          29.36   \nwbETH-wstETH                74.67      0.06           0.04   \ncbETH-bb-a-WETH-BPT          0.39      0.04           0.00   \nRDNT-WETH                16717.20  31241.58       12352.82   \nB-wstETH-WETH-Stable      4955.57     63.38           0.00   \nbb-a-USD                  3278.55    772.83        3275.42   \nrETH-bb-a-WETH-BPT        1274.92    372.01           0.67   \nbbaUSDC/bbaUSDCe           317.34    391.36         316.99   \nwstETH/rETH/cbETH          182.33    112.13           0.00   \n\n                        bpt_token_fee_in_usd token_fees_in_usd  \\\nMaticX-bb-a-WMATIC-BPT               2609.62                 0   \nstMATIC-bb-a-WMATIC-BPT                 0.00              0.00   \nwstETH-bb-a-WETH-BPT                    0.00              0.00   \nbb-am-usd                               0.00              0.00   \nwstETH-rETH-sfrxETH-BPT             29321.55                 0   \nB-rETH-STABLE                           0.00          27161.41   \n50STG-50bbaUSD                      16609.82                 0   \n50rETH-50BADGER                     11458.30                 0   \nswETH-bb-a-WETH-BPT                  6949.77                 0   \nankrETH/wstETH                       6835.76                 0   \nGHO/bb-a-USD                         3069.73                 0   \nB-staFiETH-WETH-Stable                  0.00           2827.04   \n50rETH-50RPL                         2771.02                 0   \n20WETH-80ALCX                        1838.90                 0   \n50wstETH-50LDO                        509.21                 0   \n50wstETH-50ACX                        340.31                 0   \nwbETH-wstETH                           75.13                 0   \ncbETH-bb-a-WETH-BPT                     0.00              0.00   \nRDNT-WETH                           17119.57                 0   \nB-wstETH-WETH-Stable                    0.00           4929.30   \nbb-a-USD                             3276.96                 0   \nrETH-bb-a-WETH-BPT                   1225.08                 0   \nbbaUSDC/bbaUSDCe                      317.41                 0   \nwstETH/rETH/cbETH                       0.00              0.00   \n\n                                  time_from             time_to     chain  \nMaticX-bb-a-WMATIC-BPT  2023-08-04 06:57:36 2023-08-18 03:24:52   polygon  \nstMATIC-bb-a-WMATIC-BPT 2023-08-04 06:57:36 2023-08-18 03:24:52   polygon  \nwstETH-bb-a-WETH-BPT    2023-08-04 06:57:36 2023-08-18 03:24:52   polygon  \nbb-am-usd               2023-08-04 06:57:36 2023-08-18 03:24:52   polygon  \nwstETH-rETH-sfrxETH-BPT 2023-08-04 06:57:36 2023-08-18 03:24:52   mainnet  \nB-rETH-STABLE           2023-08-04 06:57:36 2023-08-18 03:24:52   mainnet  \n50STG-50bbaUSD          2023-08-04 06:57:36 2023-08-18 03:24:52   mainnet  \n50rETH-50BADGER         2023-08-04 06:57:36 2023-08-18 03:24:52   mainnet  \nswETH-bb-a-WETH-BPT     2023-08-04 06:57:36 2023-08-18 03:24:52   mainnet  \nankrETH/wstETH          2023-08-04 06:57:36 2023-08-18 03:24:52   mainnet  \nGHO/bb-a-USD            2023-08-04 06:57:36 2023-08-18 03:24:52   mainnet  \nB-staFiETH-WETH-Stable  2023-08-04 06:57:36 2023-08-18 03:24:52   mainnet  \n50rETH-50RPL            2023-08-04 06:57:36 2023-08-18 03:24:52   mainnet  \n20WETH-80ALCX           2023-08-04 06:57:36 2023-08-18 03:24:52   mainnet  \n50wstETH-50LDO          2023-08-04 06:57:36 2023-08-18 03:24:52   mainnet  \n50wstETH-50ACX          2023-08-04 06:57:36 2023-08-18 03:24:52   mainnet  \nwbETH-wstETH            2023-08-04 06:57:36 2023-08-18 03:24:52   mainnet  \ncbETH-bb-a-WETH-BPT     2023-08-04 06:57:36 2023-08-18 03:24:52   mainnet  \nRDNT-WETH               2023-08-04 06:57:36 2023-08-18 03:24:52  arbitrum  \nB-wstETH-WETH-Stable    2023-08-04 06:57:36 2023-08-18 03:24:52  arbitrum  \nbb-a-USD                2023-08-04 06:57:36 2023-08-18 03:24:52  arbitrum  \nrETH-bb-a-WETH-BPT      2023-08-04 06:57:36 2023-08-18 03:24:52  arbitrum  \nbbaUSDC/bbaUSDCe        2023-08-04 06:57:36 2023-08-18 03:24:52  arbitrum  \nwstETH/rETH/cbETH       2023-08-04 06:57:36 2023-08-18 03:24:52  arbitrum  ",
      "text/html": "<div>\n<style scoped>\n    .dataframe tbody tr th:only-of-type {\n        vertical-align: middle;\n    }\n\n    .dataframe tbody tr th {\n        vertical-align: top;\n    }\n\n    .dataframe thead th {\n        text-align: right;\n    }\n</style>\n<table border=\"1\" class=\"dataframe\">\n  <thead>\n    <tr style=\"text-align: right;\">\n      <th></th>\n      <th>pool_fee</th>\n      <th>swap_fee</th>\n      <th>bpt_token_fee</th>\n      <th>bpt_token_fee_in_usd</th>\n      <th>token_fees_in_usd</th>\n      <th>time_from</th>\n      <th>time_to</th>\n      <th>chain</th>\n    </tr>\n  </thead>\n  <tbody>\n    <tr>\n      <th>MaticX-bb-a-WMATIC-BPT</th>\n      <td>2653.65</td>\n      <td>295.61</td>\n      <td>3907.19</td>\n      <td>2609.62</td>\n      <td>0</td>\n      <td>2023-08-04 06:57:36</td>\n      <td>2023-08-18 03:24:52</td>\n      <td>polygon</td>\n    </tr>\n    <tr>\n      <th>stMATIC-bb-a-WMATIC-BPT</th>\n      <td>2096.43</td>\n      <td>88.94</td>\n      <td>0.00</td>\n      <td>0.00</td>\n      <td>0.00</td>\n      <td>2023-08-04 06:57:36</td>\n      <td>2023-08-18 03:24:52</td>\n      <td>polygon</td>\n    </tr>\n    <tr>\n      <th>wstETH-bb-a-WETH-BPT</th>\n      <td>0.00</td>\n      <td>0.02</td>\n      <td>0.00</td>\n      <td>0.00</td>\n      <td>0.00</td>\n      <td>2023-08-04 06:57:36</td>\n      <td>2023-08-18 03:24:52</td>\n      <td>polygon</td>\n    </tr>\n    <tr>\n      <th>bb-am-usd</th>\n      <td>0.00</td>\n      <td>0.00</td>\n      <td>0.00</td>\n      <td>0.00</td>\n      <td>0.00</td>\n      <td>2023-08-04 06:57:36</td>\n      <td>2023-08-18 03:24:52</td>\n      <td>polygon</td>\n    </tr>\n    <tr>\n      <th>wstETH-rETH-sfrxETH-BPT</th>\n      <td>29879.20</td>\n      <td>4302.87</td>\n      <td>15.95</td>\n      <td>29321.55</td>\n      <td>0</td>\n      <td>2023-08-04 06:57:36</td>\n      <td>2023-08-18 03:24:52</td>\n      <td>mainnet</td>\n    </tr>\n    <tr>\n      <th>B-rETH-STABLE</th>\n      <td>27610.34</td>\n      <td>16875.81</td>\n      <td>0.00</td>\n      <td>0.00</td>\n      <td>27161.41</td>\n      <td>2023-08-04 06:57:36</td>\n      <td>2023-08-18 03:24:52</td>\n      <td>mainnet</td>\n    </tr>\n    <tr>\n      <th>50STG-50bbaUSD</th>\n      <td>16308.63</td>\n      <td>27735.48</td>\n      <td>20756.67</td>\n      <td>16609.82</td>\n      <td>0</td>\n      <td>2023-08-04 06:57:36</td>\n      <td>2023-08-18 03:24:52</td>\n      <td>mainnet</td>\n    </tr>\n    <tr>\n      <th>50rETH-50BADGER</th>\n      <td>12131.48</td>\n      <td>12205.55</td>\n      <td>174.04</td>\n      <td>11458.30</td>\n      <td>0</td>\n      <td>2023-08-04 06:57:36</td>\n      <td>2023-08-18 03:24:52</td>\n      <td>mainnet</td>\n    </tr>\n    <tr>\n      <th>swETH-bb-a-WETH-BPT</th>\n      <td>7081.73</td>\n      <td>35.44</td>\n      <td>3.80</td>\n      <td>6949.77</td>\n      <td>0</td>\n      <td>2023-08-04 06:57:36</td>\n      <td>2023-08-18 03:24:52</td>\n      <td>mainnet</td>\n    </tr>\n    <tr>\n      <th>ankrETH/wstETH</th>\n      <td>6871.85</td>\n      <td>869.23</td>\n      <td>3.70</td>\n      <td>6835.76</td>\n      <td>0</td>\n      <td>2023-08-04 06:57:36</td>\n      <td>2023-08-18 03:24:52</td>\n      <td>mainnet</td>\n    </tr>\n    <tr>\n      <th>GHO/bb-a-USD</th>\n      <td>3084.72</td>\n      <td>4517.23</td>\n      <td>3122.84</td>\n      <td>3069.73</td>\n      <td>0</td>\n      <td>2023-08-04 06:57:36</td>\n      <td>2023-08-18 03:24:52</td>\n      <td>mainnet</td>\n    </tr>\n    <tr>\n      <th>B-staFiETH-WETH-Stable</th>\n      <td>2880.99</td>\n      <td>1017.19</td>\n      <td>0.00</td>\n      <td>0.00</td>\n      <td>2827.04</td>\n      <td>2023-08-04 06:57:36</td>\n      <td>2023-08-18 03:24:52</td>\n      <td>mainnet</td>\n    </tr>\n    <tr>\n      <th>50rETH-50RPL</th>\n      <td>2860.23</td>\n      <td>3539.78</td>\n      <td>11.93</td>\n      <td>2771.02</td>\n      <td>0</td>\n      <td>2023-08-04 06:57:36</td>\n      <td>2023-08-18 03:24:52</td>\n      <td>mainnet</td>\n    </tr>\n    <tr>\n      <th>20WETH-80ALCX</th>\n      <td>1849.27</td>\n      <td>3757.80</td>\n      <td>64.25</td>\n      <td>1838.90</td>\n      <td>0</td>\n      <td>2023-08-04 06:57:36</td>\n      <td>2023-08-18 03:24:52</td>\n      <td>mainnet</td>\n    </tr>\n    <tr>\n      <th>50wstETH-50LDO</th>\n      <td>517.85</td>\n      <td>221.42</td>\n      <td>8.27</td>\n      <td>509.21</td>\n      <td>0</td>\n      <td>2023-08-04 06:57:36</td>\n      <td>2023-08-18 03:24:52</td>\n      <td>mainnet</td>\n    </tr>\n    <tr>\n      <th>50wstETH-50ACX</th>\n      <td>349.81</td>\n      <td>1465.27</td>\n      <td>29.36</td>\n      <td>340.31</td>\n      <td>0</td>\n      <td>2023-08-04 06:57:36</td>\n      <td>2023-08-18 03:24:52</td>\n      <td>mainnet</td>\n    </tr>\n    <tr>\n      <th>wbETH-wstETH</th>\n      <td>74.67</td>\n      <td>0.06</td>\n      <td>0.04</td>\n      <td>75.13</td>\n      <td>0</td>\n      <td>2023-08-04 06:57:36</td>\n      <td>2023-08-18 03:24:52</td>\n      <td>mainnet</td>\n    </tr>\n    <tr>\n      <th>cbETH-bb-a-WETH-BPT</th>\n      <td>0.39</td>\n      <td>0.04</td>\n      <td>0.00</td>\n      <td>0.00</td>\n      <td>0.00</td>\n      <td>2023-08-04 06:57:36</td>\n      <td>2023-08-18 03:24:52</td>\n      <td>mainnet</td>\n    </tr>\n    <tr>\n      <th>RDNT-WETH</th>\n      <td>16717.20</td>\n      <td>31241.58</td>\n      <td>12352.82</td>\n      <td>17119.57</td>\n      <td>0</td>\n      <td>2023-08-04 06:57:36</td>\n      <td>2023-08-18 03:24:52</td>\n      <td>arbitrum</td>\n    </tr>\n    <tr>\n      <th>B-wstETH-WETH-Stable</th>\n      <td>4955.57</td>\n      <td>63.38</td>\n      <td>0.00</td>\n      <td>0.00</td>\n      <td>4929.30</td>\n      <td>2023-08-04 06:57:36</td>\n      <td>2023-08-18 03:24:52</td>\n      <td>arbitrum</td>\n    </tr>\n    <tr>\n      <th>bb-a-USD</th>\n      <td>3278.55</td>\n      <td>772.83</td>\n      <td>3275.42</td>\n      <td>3276.96</td>\n      <td>0</td>\n      <td>2023-08-04 06:57:36</td>\n      <td>2023-08-18 03:24:52</td>\n      <td>arbitrum</td>\n    </tr>\n    <tr>\n      <th>rETH-bb-a-WETH-BPT</th>\n      <td>1274.92</td>\n      <td>372.01</td>\n      <td>0.67</td>\n      <td>1225.08</td>\n      <td>0</td>\n      <td>2023-08-04 06:57:36</td>\n      <td>2023-08-18 03:24:52</td>\n      <td>arbitrum</td>\n    </tr>\n    <tr>\n      <th>bbaUSDC/bbaUSDCe</th>\n      <td>317.34</td>\n      <td>391.36</td>\n      <td>316.99</td>\n      <td>317.41</td>\n      <td>0</td>\n      <td>2023-08-04 06:57:36</td>\n      <td>2023-08-18 03:24:52</td>\n      <td>arbitrum</td>\n    </tr>\n    <tr>\n      <th>wstETH/rETH/cbETH</th>\n      <td>182.33</td>\n      <td>112.13</td>\n      <td>0.00</td>\n      <td>0.00</td>\n      <td>0.00</td>\n      <td>2023-08-04 06:57:36</td>\n      <td>2023-08-18 03:24:52</td>\n      <td>arbitrum</td>\n    </tr>\n  </tbody>\n</table>\n</div>"
     },
     "execution_count": 6,
     "metadata": {},
     "output_type": "execute_result"
    }
   ],
   "source": [
    "# Remove `token_fees` field from dataframe, as it's too big\n",
    "joint_fees_df_copy = joint_fees_df.drop(columns=['token_fees'])\n",
    "# Display all rows in dataframe\n",
    "pd.set_option('display.max_rows', 1000)\n",
    "joint_fees_df_copy.sort_values(by=['chain', 'pool_fee'], ascending=False)"
   ],
   "metadata": {
    "collapsed": false,
    "ExecuteTime": {
     "end_time": "2023-09-04T14:37:39.214926Z",
     "start_time": "2023-09-04T14:37:39.195333Z"
    }
   },
   "id": "52fccc19e5e6b4f2"
  },
  {
   "cell_type": "markdown",
   "source": [
    "## Now let's calculate bribes paid to the pools"
   ],
   "metadata": {
    "collapsed": false
   },
   "id": "97a5370819f28ffc"
  },
  {
   "cell_type": "code",
   "execution_count": 30,
   "outputs": [
    {
     "data": {
      "text/plain": "                            chain                    aura_bribes  \\\nrETH-bb-a-WETH-BPT       arbitrum  226.5549840816203747886574223   \nB-wstETH-WETH-Stable     arbitrum  911.5792299552121603860393049   \nwstETH/rETH/cbETH        arbitrum                          0E-31   \nbb-a-USD                 arbitrum  606.0107263493867366763303838   \nRDNT-WETH                arbitrum  3165.935211442669637591549896   \nwstETH-bb-a-WETH-BPT      polygon                          0E-31   \nbbaUSDC/bbaUSDCe         arbitrum  58.69887476519665912566342803   \nB-rETH-STABLE             mainnet  5022.980385104943729379622226   \nswETH-bb-a-WETH-BPT       mainnet  1285.226296830348085100538490   \ncbETH-bb-a-WETH-BPT       mainnet                          0E-31   \nwstETH-rETH-sfrxETH-BPT   mainnet  5422.456732212129738779800536   \n20WETH-80ALCX             mainnet  340.0691875042378515679483249   \nB-staFiETH-WETH-Stable    mainnet  522.8066756441245178621200894   \nGHO/bb-a-USD              mainnet  567.6875234963206591406155916   \nankrETH/wstETH            mainnet  1264.142340080466004804023297   \n50wstETH-50LDO            mainnet  94.16859588288267790359180299   \n50rETH-50BADGER           mainnet  2118.992207939424968525217408   \n50rETH-50RPL              mainnet  512.4468540747148683733841792   \n50STG-50bbaUSD            mainnet  3071.666752945587009478677169   \nwbETH-wstETH              mainnet  13.89384852748566522828862779   \n50wstETH-50ACX            mainnet  62.93378933034269577850263442   \nbb-am-usd                 polygon                          0E-31   \nstMATIC-bb-a-WMATIC-BPT   polygon                          0E-31   \nMaticX-bb-a-WMATIC-BPT    polygon  482.5990282749519724883078512   \n\n                                            bal_bribes pool_total fees_taken  \nrETH-bb-a-WETH-BPT       385.9850159183796252113425777    1225.08    612.540  \nB-wstETH-WETH-Stable     1553.070770044787839613960695    4929.30   2464.650  \nwstETH/rETH/cbETH                                0E-31       0.00      0.000  \nbb-a-USD                 1032.469273650613263323669616    3276.96   1638.480  \nRDNT-WETH                5393.849788557330362408450104   17119.57   8559.785  \nwstETH-bb-a-WETH-BPT                             0E-31       0.00      0.000  \nbbaUSDC/bbaUSDCe         100.0061252348033408743365720     317.41    158.705  \nB-rETH-STABLE            8557.724614895056270620377774   27161.41  13580.705  \nswETH-bb-a-WETH-BPT      2189.658703169651914899461510    6949.77   3474.885  \ncbETH-bb-a-WETH-BPT                              0E-31       0.00      0.000  \nwstETH-rETH-sfrxETH-BPT  9238.318267787870261220199464   29321.55  14660.775  \n20WETH-80ALCX            579.3808124957621484320516751    1838.90    919.450  \nB-staFiETH-WETH-Stable   890.7133243558754821378799106    2827.04   1413.520  \nGHO/bb-a-USD             967.1774765036793408593844084    3069.73   1534.865  \nankrETH/wstETH           2153.737659919533995195976703    6835.76   3417.880  \n50wstETH-50LDO           160.4364041171173220964081970     509.21    254.605  \n50rETH-50BADGER          3610.157792060575031474782592   11458.30   5729.150  \n50rETH-50RPL             873.0631459252851316266158208    2771.02   1385.510  \n50STG-50bbaUSD           5233.243247054412990521322831   16609.82   8304.910  \nwbETH-wstETH             23.67115147251433477171137221      75.13     37.565  \n50wstETH-50ACX           107.2212106696573042214973656     340.31    170.155  \nbb-am-usd                                        0E-31       0.00      0.000  \nstMATIC-bb-a-WMATIC-BPT                          0E-31       0.00      0.000  \nMaticX-bb-a-WMATIC-BPT   822.2109717250480275116921488    2609.62   1304.810  ",
      "text/html": "<div>\n<style scoped>\n    .dataframe tbody tr th:only-of-type {\n        vertical-align: middle;\n    }\n\n    .dataframe tbody tr th {\n        vertical-align: top;\n    }\n\n    .dataframe thead th {\n        text-align: right;\n    }\n</style>\n<table border=\"1\" class=\"dataframe\">\n  <thead>\n    <tr style=\"text-align: right;\">\n      <th></th>\n      <th>chain</th>\n      <th>aura_bribes</th>\n      <th>bal_bribes</th>\n      <th>pool_total</th>\n      <th>fees_taken</th>\n    </tr>\n  </thead>\n  <tbody>\n    <tr>\n      <th>rETH-bb-a-WETH-BPT</th>\n      <td>arbitrum</td>\n      <td>226.5549840816203747886574223</td>\n      <td>385.9850159183796252113425777</td>\n      <td>1225.08</td>\n      <td>612.540</td>\n    </tr>\n    <tr>\n      <th>B-wstETH-WETH-Stable</th>\n      <td>arbitrum</td>\n      <td>911.5792299552121603860393049</td>\n      <td>1553.070770044787839613960695</td>\n      <td>4929.30</td>\n      <td>2464.650</td>\n    </tr>\n    <tr>\n      <th>wstETH/rETH/cbETH</th>\n      <td>arbitrum</td>\n      <td>0E-31</td>\n      <td>0E-31</td>\n      <td>0.00</td>\n      <td>0.000</td>\n    </tr>\n    <tr>\n      <th>bb-a-USD</th>\n      <td>arbitrum</td>\n      <td>606.0107263493867366763303838</td>\n      <td>1032.469273650613263323669616</td>\n      <td>3276.96</td>\n      <td>1638.480</td>\n    </tr>\n    <tr>\n      <th>RDNT-WETH</th>\n      <td>arbitrum</td>\n      <td>3165.935211442669637591549896</td>\n      <td>5393.849788557330362408450104</td>\n      <td>17119.57</td>\n      <td>8559.785</td>\n    </tr>\n    <tr>\n      <th>wstETH-bb-a-WETH-BPT</th>\n      <td>polygon</td>\n      <td>0E-31</td>\n      <td>0E-31</td>\n      <td>0.00</td>\n      <td>0.000</td>\n    </tr>\n    <tr>\n      <th>bbaUSDC/bbaUSDCe</th>\n      <td>arbitrum</td>\n      <td>58.69887476519665912566342803</td>\n      <td>100.0061252348033408743365720</td>\n      <td>317.41</td>\n      <td>158.705</td>\n    </tr>\n    <tr>\n      <th>B-rETH-STABLE</th>\n      <td>mainnet</td>\n      <td>5022.980385104943729379622226</td>\n      <td>8557.724614895056270620377774</td>\n      <td>27161.41</td>\n      <td>13580.705</td>\n    </tr>\n    <tr>\n      <th>swETH-bb-a-WETH-BPT</th>\n      <td>mainnet</td>\n      <td>1285.226296830348085100538490</td>\n      <td>2189.658703169651914899461510</td>\n      <td>6949.77</td>\n      <td>3474.885</td>\n    </tr>\n    <tr>\n      <th>cbETH-bb-a-WETH-BPT</th>\n      <td>mainnet</td>\n      <td>0E-31</td>\n      <td>0E-31</td>\n      <td>0.00</td>\n      <td>0.000</td>\n    </tr>\n    <tr>\n      <th>wstETH-rETH-sfrxETH-BPT</th>\n      <td>mainnet</td>\n      <td>5422.456732212129738779800536</td>\n      <td>9238.318267787870261220199464</td>\n      <td>29321.55</td>\n      <td>14660.775</td>\n    </tr>\n    <tr>\n      <th>20WETH-80ALCX</th>\n      <td>mainnet</td>\n      <td>340.0691875042378515679483249</td>\n      <td>579.3808124957621484320516751</td>\n      <td>1838.90</td>\n      <td>919.450</td>\n    </tr>\n    <tr>\n      <th>B-staFiETH-WETH-Stable</th>\n      <td>mainnet</td>\n      <td>522.8066756441245178621200894</td>\n      <td>890.7133243558754821378799106</td>\n      <td>2827.04</td>\n      <td>1413.520</td>\n    </tr>\n    <tr>\n      <th>GHO/bb-a-USD</th>\n      <td>mainnet</td>\n      <td>567.6875234963206591406155916</td>\n      <td>967.1774765036793408593844084</td>\n      <td>3069.73</td>\n      <td>1534.865</td>\n    </tr>\n    <tr>\n      <th>ankrETH/wstETH</th>\n      <td>mainnet</td>\n      <td>1264.142340080466004804023297</td>\n      <td>2153.737659919533995195976703</td>\n      <td>6835.76</td>\n      <td>3417.880</td>\n    </tr>\n    <tr>\n      <th>50wstETH-50LDO</th>\n      <td>mainnet</td>\n      <td>94.16859588288267790359180299</td>\n      <td>160.4364041171173220964081970</td>\n      <td>509.21</td>\n      <td>254.605</td>\n    </tr>\n    <tr>\n      <th>50rETH-50BADGER</th>\n      <td>mainnet</td>\n      <td>2118.992207939424968525217408</td>\n      <td>3610.157792060575031474782592</td>\n      <td>11458.30</td>\n      <td>5729.150</td>\n    </tr>\n    <tr>\n      <th>50rETH-50RPL</th>\n      <td>mainnet</td>\n      <td>512.4468540747148683733841792</td>\n      <td>873.0631459252851316266158208</td>\n      <td>2771.02</td>\n      <td>1385.510</td>\n    </tr>\n    <tr>\n      <th>50STG-50bbaUSD</th>\n      <td>mainnet</td>\n      <td>3071.666752945587009478677169</td>\n      <td>5233.243247054412990521322831</td>\n      <td>16609.82</td>\n      <td>8304.910</td>\n    </tr>\n    <tr>\n      <th>wbETH-wstETH</th>\n      <td>mainnet</td>\n      <td>13.89384852748566522828862779</td>\n      <td>23.67115147251433477171137221</td>\n      <td>75.13</td>\n      <td>37.565</td>\n    </tr>\n    <tr>\n      <th>50wstETH-50ACX</th>\n      <td>mainnet</td>\n      <td>62.93378933034269577850263442</td>\n      <td>107.2212106696573042214973656</td>\n      <td>340.31</td>\n      <td>170.155</td>\n    </tr>\n    <tr>\n      <th>bb-am-usd</th>\n      <td>polygon</td>\n      <td>0E-31</td>\n      <td>0E-31</td>\n      <td>0.00</td>\n      <td>0.000</td>\n    </tr>\n    <tr>\n      <th>stMATIC-bb-a-WMATIC-BPT</th>\n      <td>polygon</td>\n      <td>0E-31</td>\n      <td>0E-31</td>\n      <td>0.00</td>\n      <td>0.000</td>\n    </tr>\n    <tr>\n      <th>MaticX-bb-a-WMATIC-BPT</th>\n      <td>polygon</td>\n      <td>482.5990282749519724883078512</td>\n      <td>822.2109717250480275116921488</td>\n      <td>2609.62</td>\n      <td>1304.810</td>\n    </tr>\n  </tbody>\n</table>\n</div>"
     },
     "execution_count": 30,
     "metadata": {},
     "output_type": "execute_result"
    }
   ],
   "source": [
    "from notebooks import calculate_aura_vebal_share\n",
    "\n",
    "aura_vebal_share = calculate_aura_vebal_share(eth_web3, mainnet_block)\n",
    "\n",
    "# Bribes are split per chain and per pool, with each pool getting a share of the bribe proportional to its share of fees\n",
    "# paid by all pools on that chain. For example, if pool A paid 10% of all fees on Arbitrum, it will get 10% of the bribes. That 10% will be distributed between aura and vebal, proportional to their share of the bribe.\n",
    "FEE = Decimal(0.5)  # 50% goes to fees\n",
    "# Let's calculate share of fees paid by each pool on each chain\n",
    "def calc_and_split_bribes(fees: Dict, chain: str) -> Dict[str, Dict]:\n",
    "    pool_bribs = {}\n",
    "    for pool, data in fees.items():\n",
    "        pool_fees = data['bpt_token_fee_in_usd'] + data['token_fees_in_usd']\n",
    "        # Split fees between aura and bal fees\n",
    "        pool_bribs[pool] = {\n",
    "            \"chain\": chain,\n",
    "            \"aura_bribes\": pool_fees * FEE * aura_vebal_share,\n",
    "            \"bal_bribes\": pool_fees * FEE * (1 - aura_vebal_share),\n",
    "            \"pool_total\": pool_fees,\n",
    "            \"fees_taken\": pool_fees * FEE,\n",
    "        }\n",
    "    return pool_bribs\n",
    "mainnet_bribes = calc_and_split_bribes(mainnet_fees, 'mainnet')\n",
    "arb_bribes = calc_and_split_bribes(arb_fees, 'arbitrum')\n",
    "polygon_bribes = calc_and_split_bribes(polygon_fees, 'polygon')\n",
    "# Convert to dataframe\n",
    "joint_bribes_data = {**arb_bribes, **mainnet_bribes, **polygon_bribes}\n",
    "joint_bribes_df = pd.DataFrame.from_dict(joint_bribes_data, orient='index')\n",
    "# Sort by chain\n",
    "joint_bribes_df.sort_values(by=['chain'], ascending=False)\n",
    "# Dump into csv\n",
    "joint_bribes_df.to_csv('bribes.csv')\n",
    "joint_bribes_df"
   ],
   "metadata": {
    "collapsed": false,
    "ExecuteTime": {
     "end_time": "2023-09-04T15:00:44.680517Z",
     "start_time": "2023-09-04T15:00:44.154340Z"
    }
   },
   "id": "efdef306c522076a"
  }
 ],
 "metadata": {
  "kernelspec": {
   "display_name": "Python 3",
   "language": "python",
   "name": "python3"
  },
  "language_info": {
   "codemirror_mode": {
    "name": "ipython",
    "version": 2
   },
   "file_extension": ".py",
   "mimetype": "text/x-python",
   "name": "python",
   "nbconvert_exporter": "python",
   "pygments_lexer": "ipython2",
   "version": "2.7.6"
  }
 },
 "nbformat": 4,
 "nbformat_minor": 5
}
