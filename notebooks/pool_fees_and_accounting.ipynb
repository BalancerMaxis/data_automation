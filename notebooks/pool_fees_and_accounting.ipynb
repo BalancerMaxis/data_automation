{
 "cells": [
  {
   "cell_type": "markdown",
   "source": [
    "## Collecting protocol fees across Balancer core pools on all networks\n",
    "Spreadsheet as reference: https://docs.google.com/spreadsheets/d/1xwUPpbYq7woVOU9vQ8EB8MY75I-1mauTLyDVwvKUDKo/edit#gid=0\n",
    "Collab: https://colab.research.google.com/drive/1vKCvcV5mkL1zwW3565kLSGkBEbt8NsoB?usp=sharing\n"
   ],
   "metadata": {
    "collapsed": false
   },
   "id": "e739385af75b2478"
  },
  {
   "cell_type": "code",
   "execution_count": 60,
   "outputs": [],
   "source": [
    "# Define constants for Arbitrum:\n",
    "ARB_CORE_POOLS = [\"RDNT-WETH\", \"rETH-bb-a-WETH-BPT\", \"50wstETH-50WETH\", \"50wstETH-BPT-50bbaUSD\", \"wstETH/rETH/cbETH\", \"50USDC-50USDC.e\"]\n",
    "ARB_BALANCER_GRAPH_URL = \"https://api.thegraph.com/subgraphs/name/balancer-labs/balancer-arbitrum-v2\"\n",
    "# Arb block time is .3 seconds\n",
    "ARB_CHAIN_BLOCK_TIME = 0.27"
   ],
   "metadata": {
    "collapsed": false,
    "ExecuteTime": {
     "end_time": "2023-08-11T11:53:42.422408Z",
     "start_time": "2023-08-11T11:53:42.414082Z"
    }
   },
   "id": "39d87004addaae1b"
  },
  {
   "cell_type": "code",
   "execution_count": 61,
   "outputs": [],
   "source": [
    "# Query:\n",
    "POOLS_SNAPSHOTS_QUERY = \"\"\"\n",
    "{{\n",
    "  poolSnapshots(\n",
    "    first: {first}\n",
    "    skip: {skip}\n",
    "    orderBy: timestamp\n",
    "    orderDirection: desc\n",
    "    block: {{ number: {block} }}\n",
    "    where: {{ protocolFee_not: null }}\n",
    "  ) {{\n",
    "    pool {{\n",
    "      address\n",
    "      id\n",
    "      symbol\n",
    "    }}\n",
    "    timestamp\n",
    "    protocolFee\n",
    "    swapFees\n",
    "    swapVolume\n",
    "    liquidity\n",
    "  }}\n",
    "}}\n",
    "\"\"\""
   ],
   "metadata": {
    "collapsed": false,
    "ExecuteTime": {
     "end_time": "2023-08-11T11:53:42.426091Z",
     "start_time": "2023-08-11T11:53:42.417601Z"
    }
   },
   "id": "abc722b4fa453b5a"
  },
  {
   "cell_type": "markdown",
   "source": [
    "## Fetching data from the Balancer subgraphs"
   ],
   "metadata": {
    "collapsed": false
   },
   "id": "cde5ffca807e3849"
  },
  {
   "cell_type": "code",
   "execution_count": 62,
   "outputs": [],
   "source": [
    "import os\n",
    "import datetime\n",
    "from typing import Dict\n",
    "from typing import List\n",
    "from typing import Optional\n",
    "\n",
    "from dotenv import load_dotenv\n",
    "from gql import Client\n",
    "from gql import gql\n",
    "from gql.transport.requests import RequestsHTTPTransport\n",
    "from web3 import Web3\n",
    "\n",
    "load_dotenv()\n",
    "arb_web3 = Web3(Web3.HTTPProvider(os.environ[\"ARBNODEURL\"]))\n",
    "\n",
    "arb_block_now = arb_web3.eth.block_number - 1000\n",
    "arb_timestamp_now = arb_web3.eth.get_block(arb_block_now).timestamp\n",
    "# Given Arb block time, we want to look back 2 weeks:\n",
    "block_2_weeks_ago = arb_block_now - (2 * 7 * 24 * 60 * 60 / ARB_CHAIN_BLOCK_TIME)\n",
    "arb_timestamp_2_weeks_ago = arb_web3.eth.get_block(int(block_2_weeks_ago)).timestamp\n",
    "\n",
    "# Convert to datetime:\n",
    "arb_datetime_now = datetime.datetime.fromtimestamp(arb_timestamp_now)\n",
    "arb_datetime_2_weeks_ago = datetime.datetime.fromtimestamp(arb_timestamp_2_weeks_ago)\n",
    "\n",
    "# Fetch all the data from the balancer subgraph\n",
    "def make_gql_client(url: str) -> Optional[Client]:\n",
    "    transport = RequestsHTTPTransport(url=url, retries=3)\n",
    "    return Client(\n",
    "        transport=transport, fetch_schema_from_transport=True, execute_timeout=60\n",
    "    )\n",
    "\n",
    "\n",
    "def get_balancer_pool_snapshots(block: int, graph_url: str) -> Optional[List[Dict]]:\n",
    "    client = make_gql_client(graph_url)\n",
    "    all_pools = []\n",
    "    limit = 1000\n",
    "    offset = 0\n",
    "    while True:\n",
    "        result = client.execute(\n",
    "            gql(POOLS_SNAPSHOTS_QUERY.format(first=limit, skip=offset, block=block)))\n",
    "        all_pools.extend(result['poolSnapshots'])\n",
    "        offset += limit\n",
    "        if offset >= 5000:\n",
    "            break\n",
    "        if len(result['poolSnapshots']) < limit - 1:\n",
    "            break\n",
    "    return all_pools\n",
    "\n",
    "\n",
    "pool_snapshots_now = get_balancer_pool_snapshots(arb_block_now, ARB_BALANCER_GRAPH_URL)\n",
    "pool_snapshots_2_weeks_ago = get_balancer_pool_snapshots(int(block_2_weeks_ago), ARB_BALANCER_GRAPH_URL)"
   ],
   "metadata": {
    "collapsed": false,
    "ExecuteTime": {
     "end_time": "2023-08-11T11:53:58.246273Z",
     "start_time": "2023-08-11T11:53:42.424993Z"
    }
   },
   "id": "e1e0b8b90f62234c"
  },
  {
   "cell_type": "markdown",
   "source": [
    "## Extract fee data from CORE pools:\n"
   ],
   "metadata": {
    "collapsed": false
   },
   "id": "d5333a7de445454d"
  },
  {
   "cell_type": "code",
   "execution_count": 63,
   "outputs": [
    {
     "data": {
      "text/plain": "                           pool_fee           time_from             time_to  \\\nRDNT-WETH              12414.282233 2023-07-28 21:39:13 2023-08-11 14:49:31   \nrETH-bb-a-WETH-BPT         0.000000 2023-07-28 21:39:13 2023-08-11 14:49:31   \n50wstETH-50WETH            2.018571 2023-07-28 21:39:13 2023-08-11 14:49:31   \n50wstETH-BPT-50bbaUSD      1.033910 2023-07-28 21:39:13 2023-08-11 14:49:31   \nwstETH/rETH/cbETH         21.035821 2023-07-28 21:39:13 2023-08-11 14:49:31   \n50USDC-50USDC.e           38.525948 2023-07-28 21:39:13 2023-08-11 14:49:31   \n\n                                 pool_symbol     chain  \nRDNT-WETH                          RDNT-WETH  Arbitrum  \nrETH-bb-a-WETH-BPT        rETH-bb-a-WETH-BPT  Arbitrum  \n50wstETH-50WETH              50wstETH-50WETH  Arbitrum  \n50wstETH-BPT-50bbaUSD  50wstETH-BPT-50bbaUSD  Arbitrum  \nwstETH/rETH/cbETH          wstETH/rETH/cbETH  Arbitrum  \n50USDC-50USDC.e              50USDC-50USDC.e  Arbitrum  ",
      "text/html": "<div>\n<style scoped>\n    .dataframe tbody tr th:only-of-type {\n        vertical-align: middle;\n    }\n\n    .dataframe tbody tr th {\n        vertical-align: top;\n    }\n\n    .dataframe thead th {\n        text-align: right;\n    }\n</style>\n<table border=\"1\" class=\"dataframe\">\n  <thead>\n    <tr style=\"text-align: right;\">\n      <th></th>\n      <th>pool_fee</th>\n      <th>time_from</th>\n      <th>time_to</th>\n      <th>pool_symbol</th>\n      <th>chain</th>\n    </tr>\n  </thead>\n  <tbody>\n    <tr>\n      <th>RDNT-WETH</th>\n      <td>12414.282233</td>\n      <td>2023-07-28 21:39:13</td>\n      <td>2023-08-11 14:49:31</td>\n      <td>RDNT-WETH</td>\n      <td>Arbitrum</td>\n    </tr>\n    <tr>\n      <th>rETH-bb-a-WETH-BPT</th>\n      <td>0.000000</td>\n      <td>2023-07-28 21:39:13</td>\n      <td>2023-08-11 14:49:31</td>\n      <td>rETH-bb-a-WETH-BPT</td>\n      <td>Arbitrum</td>\n    </tr>\n    <tr>\n      <th>50wstETH-50WETH</th>\n      <td>2.018571</td>\n      <td>2023-07-28 21:39:13</td>\n      <td>2023-08-11 14:49:31</td>\n      <td>50wstETH-50WETH</td>\n      <td>Arbitrum</td>\n    </tr>\n    <tr>\n      <th>50wstETH-BPT-50bbaUSD</th>\n      <td>1.033910</td>\n      <td>2023-07-28 21:39:13</td>\n      <td>2023-08-11 14:49:31</td>\n      <td>50wstETH-BPT-50bbaUSD</td>\n      <td>Arbitrum</td>\n    </tr>\n    <tr>\n      <th>wstETH/rETH/cbETH</th>\n      <td>21.035821</td>\n      <td>2023-07-28 21:39:13</td>\n      <td>2023-08-11 14:49:31</td>\n      <td>wstETH/rETH/cbETH</td>\n      <td>Arbitrum</td>\n    </tr>\n    <tr>\n      <th>50USDC-50USDC.e</th>\n      <td>38.525948</td>\n      <td>2023-07-28 21:39:13</td>\n      <td>2023-08-11 14:49:31</td>\n      <td>50USDC-50USDC.e</td>\n      <td>Arbitrum</td>\n    </tr>\n  </tbody>\n</table>\n</div>"
     },
     "execution_count": 63,
     "metadata": {},
     "output_type": "execute_result"
    }
   ],
   "source": [
    "import pandas as pd\n",
    "# Iterate through snapshots now and 2 weeks ago and extract fee data, by subtracting today's fee data from 2 weeks ago\n",
    "# and then summing across all pools\n",
    "arb_fees = {}\n",
    "for pool in ARB_CORE_POOLS:\n",
    "    current_fees_snapshots = [x for x in pool_snapshots_now if x['pool']['symbol'] == pool]\n",
    "    fees_2_weeks_ago = [x for x in pool_snapshots_2_weeks_ago if x['pool']['symbol'] == pool]\n",
    "    # Take first element of list, which is the most recent snapshot\n",
    "    pool_snapshot_now = current_fees_snapshots[0]\n",
    "    pool_snapshot_2_weeks_ago = fees_2_weeks_ago[0]\n",
    "    # Calculate fees\n",
    "    pool_fee = float(pool_snapshot_now['protocolFee']) - float(pool_snapshot_2_weeks_ago['protocolFee'])\n",
    "    arb_fees[pool] = {\n",
    "        'pool_fee': pool_fee, 'time_from': arb_datetime_2_weeks_ago, 'time_to': arb_datetime_now,'pool_symbol': pool_snapshot_now['pool']['symbol'],\n",
    "        'chain': 'Arbitrum',\n",
    "    }\n",
    "# Convert to dataframe and print:\n",
    "arb_fees_df = pd.DataFrame.from_dict(arb_fees, orient='index')\n",
    "arb_fees_df"
   ],
   "metadata": {
    "collapsed": false,
    "ExecuteTime": {
     "end_time": "2023-08-11T11:53:58.272606Z",
     "start_time": "2023-08-11T11:53:58.252878Z"
    }
   },
   "id": "e79b2f6a4ead2cad"
  }
 ],
 "metadata": {
  "kernelspec": {
   "display_name": "Python 3",
   "language": "python",
   "name": "python3"
  },
  "language_info": {
   "codemirror_mode": {
    "name": "ipython",
    "version": 2
   },
   "file_extension": ".py",
   "mimetype": "text/x-python",
   "name": "python",
   "nbconvert_exporter": "python",
   "pygments_lexer": "ipython2",
   "version": "2.7.6"
  }
 },
 "nbformat": 4,
 "nbformat_minor": 5
}
