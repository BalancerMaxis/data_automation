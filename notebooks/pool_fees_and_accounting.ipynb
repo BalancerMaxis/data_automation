{
 "cells": [
  {
   "cell_type": "markdown",
   "source": [
    "## Collecting protocol fees across Balancer core pools on all networks\n",
    "- Spreadsheet as reference: https://docs.google.com/spreadsheets/d/1xwUPpbYq7woVOU9vQ8EB8MY75I-1mauTLyDVwvKUDKo/edit#gid=0\n",
    "- Collab: https://colab.research.google.com/drive/1vKCvcV5mkL1zwW3565kLSGkBEbt8NsoB?usp=sharing\n"
   ],
   "metadata": {
    "collapsed": false
   },
   "id": "e739385af75b2478"
  },
  {
   "cell_type": "code",
   "execution_count": 1,
   "outputs": [
    {
     "name": "stdout",
     "output_type": "stream",
     "text": [
      "Collecting bpt prices for Base\n",
      "Collecting bpt prices for Arbitrum\n",
      "Collecting bpt prices for Mainnet\n",
      "Collecting bpt prices for Polygon\n"
     ]
    }
   ],
   "source": [
    "import datetime\n",
    "import os\n",
    "\n",
    "from dotenv import load_dotenv\n",
    "from web3 import Web3\n",
    "from web3.middleware import geth_poa_middleware\n",
    "import pandas as pd\n",
    "from notebooks import get_twap_bpt_price\n",
    "from notebooks import get_block_by_ts\n",
    "from notebooks.constants import ARB_CORE_POOLS\n",
    "from notebooks.constants import MAINNET_CORE_POOLS\n",
    "from notebooks.constants import POLYGON_CORE_POOLS\n",
    "from notebooks.constants import BASE_CORE_POOLS\n",
    "\n",
    "load_dotenv()\n",
    "arb_web3 = Web3(Web3.HTTPProvider(os.environ[\"ARBNODEURL\"]))\n",
    "eth_web3 = Web3(Web3.HTTPProvider(os.environ[\"ETHNODEURL\"]))\n",
    "base_web3 = Web3(Web3.HTTPProvider(os.environ[\"BASENODEURL\"]))\n",
    "poly_web3 = Web3(Web3.HTTPProvider(\"https://polygon-rpc.com\"))\n",
    "poly_web3.middleware_onion.inject(geth_poa_middleware, layer=0)\n",
    "\n",
    "# ARBITRUM\n",
    "# arb_block_now = arb_web3.eth.block_number - 1000\n",
    "timestamp_now = 1694750400\n",
    "arb_block = get_block_by_ts(timestamp_now, \"arbitrum\")  # 18 August 2023\n",
    "# Given Arb block time, we want to look back 2 weeks:\n",
    "arb_timestamp_2_weeks_ago = timestamp_now - (2 * 7 * 24 * 60 * 60)\n",
    "arb_block_2_weeks_ago = get_block_by_ts(arb_timestamp_2_weeks_ago, \"arbitrum\")\n",
    "# Convert to datetime:\n",
    "arb_datetime_now = datetime.datetime.fromtimestamp(timestamp_now)\n",
    "arb_datetime_2_weeks_ago = datetime.datetime.fromtimestamp(arb_timestamp_2_weeks_ago)\n",
    "# MAINNET\n",
    "mainnet_block = get_block_by_ts(timestamp_now, \"mainnet\")\n",
    "# Given mainnet block time, we want to look back 2 weeks:\n",
    "mainnet_timestamp_2_weeks_ago = arb_timestamp_2_weeks_ago\n",
    "mainnet_block_2_weeks_ago = get_block_by_ts(mainnet_timestamp_2_weeks_ago, \"mainnet\")\n",
    "# Convert to datetime:\n",
    "mainnet_datetime_now = datetime.datetime.fromtimestamp(timestamp_now)\n",
    "mainnet_datetime_2_weeks_ago = datetime.datetime.fromtimestamp(mainnet_timestamp_2_weeks_ago)\n",
    "\n",
    "# BASE\n",
    "base_block = get_block_by_ts(timestamp_now, \"base\")\n",
    "# Given base block time, we want to look back 2 weeks:\n",
    "base_timestamp_2_weeks_ago = arb_timestamp_2_weeks_ago\n",
    "base_block_2_weeks_ago = get_block_by_ts(base_timestamp_2_weeks_ago, \"base\")\n",
    "# Convert to datetime:\n",
    "base_datetime_now = datetime.datetime.fromtimestamp(timestamp_now)\n",
    "base_datetime_2_weeks_ago = datetime.datetime.fromtimestamp(base_timestamp_2_weeks_ago)\n",
    "\n",
    "# POLYGON\n",
    "poly_block = get_block_by_ts(timestamp_now, \"polygon\")\n",
    "# Given polygon block time, we want to look back 2 weeks:\n",
    "poly_timestamp_2_weeks_ago = arb_timestamp_2_weeks_ago\n",
    "poly_block_2_weeks_ago = get_block_by_ts(poly_timestamp_2_weeks_ago, \"polygon\")\n",
    "# Convert to datetime:\n",
    "poly_datetime_now = datetime.datetime.fromtimestamp(timestamp_now)\n",
    "poly_datetime_2_weeks_ago = datetime.datetime.fromtimestamp(poly_timestamp_2_weeks_ago)\n",
    "\n",
    "print(\"Collecting bpt prices for Base\")\n",
    "base_bpt_twap_prices = {}\n",
    "for base_pool in BASE_CORE_POOLS:\n",
    "    base_bpt_twap_prices[base_pool] = get_twap_bpt_price(base_pool, 'base', base_web3,\n",
    "                                                         start_date=base_datetime_now.date(), block_number=base_block)\n",
    "print(\"Collecting bpt prices for Arbitrum\")\n",
    "arb_bpt_twap_prices = {}\n",
    "for arb_pool in ARB_CORE_POOLS:\n",
    "    arb_bpt_twap_prices[arb_pool] = get_twap_bpt_price(arb_pool, 'arbitrum', arb_web3, start_date=arb_datetime_now.date(),\n",
    "                                                       block_number=arb_block)\n",
    "\n",
    "print(\"Collecting bpt prices for Mainnet\")\n",
    "mainnet_bpt_twap_prices = {}\n",
    "for mainnet_pool in MAINNET_CORE_POOLS:\n",
    "    mainnet_bpt_twap_prices[mainnet_pool] = get_twap_bpt_price(mainnet_pool, 'mainnet', eth_web3,\n",
    "                                                               start_date=mainnet_datetime_now.date(),\n",
    "                                                               block_number=mainnet_block)\n",
    "\n",
    "print(\"Collecting bpt prices for Polygon\")\n",
    "polygon_bpt_twap_prices = {}\n",
    "for polygon_pool in POLYGON_CORE_POOLS:\n",
    "    polygon_bpt_twap_prices[polygon_pool] = get_twap_bpt_price(polygon_pool, 'polygon', poly_web3,\n",
    "                                                               start_date=poly_datetime_now.date(), block_number=poly_block)\n",
    "\n",
    "# Convert to dataframe and print, merge all three dataframes\n",
    "arb_bpt_twap_prices_df = pd.DataFrame.from_dict(arb_bpt_twap_prices, orient='index')\n",
    "mainnet_bpt_twap_prices_df = pd.DataFrame.from_dict(mainnet_bpt_twap_prices, orient='index')\n",
    "polygon_bpt_twap_prices_df = pd.DataFrame.from_dict(polygon_bpt_twap_prices, orient='index')\n",
    "base_bpt_twap_prices_df = pd.DataFrame.from_dict(base_bpt_twap_prices, orient='index')"
   ],
   "metadata": {
    "collapsed": false,
    "ExecuteTime": {
     "end_time": "2023-09-15T12:42:03.453836Z",
     "start_time": "2023-09-15T12:39:21.113402Z"
    }
   },
   "id": "39d87004addaae1b"
  },
  {
   "cell_type": "code",
   "execution_count": 2,
   "outputs": [
    {
     "data": {
      "text/plain": "                                                                                0\n0xade4a71bb62bec25154cfc7e6ff49a513b491e8100000...  1624.824663978241822195294531\n0x9791d590788598535278552eecd4b211bfc790cb00000...  1625.344235183566077290910293\n0x4a2f6ae7f3e5d715689530873ec35593dc28951b00000...  1629.419505393894093241957607\n0x423a1323c871abc9d89eb06855bf5347048fc4a500000...  1.000280966766936922825826068\n0x32df62dc3aed2cd6224193052ce665dc1816584100020...  1.089197381211832968347552422\n0x0c8972437a38b389ec83d1e666b69b8a4fcf8bfd00000...  1624.004796170085640502940404",
      "text/html": "<div>\n<style scoped>\n    .dataframe tbody tr th:only-of-type {\n        vertical-align: middle;\n    }\n\n    .dataframe tbody tr th {\n        vertical-align: top;\n    }\n\n    .dataframe thead th {\n        text-align: right;\n    }\n</style>\n<table border=\"1\" class=\"dataframe\">\n  <thead>\n    <tr style=\"text-align: right;\">\n      <th></th>\n      <th>0</th>\n    </tr>\n  </thead>\n  <tbody>\n    <tr>\n      <th>0xade4a71bb62bec25154cfc7e6ff49a513b491e81000000000000000000000497</th>\n      <td>1624.824663978241822195294531</td>\n    </tr>\n    <tr>\n      <th>0x9791d590788598535278552eecd4b211bfc790cb000000000000000000000498</th>\n      <td>1625.344235183566077290910293</td>\n    </tr>\n    <tr>\n      <th>0x4a2f6ae7f3e5d715689530873ec35593dc28951b000000000000000000000481</th>\n      <td>1629.419505393894093241957607</td>\n    </tr>\n    <tr>\n      <th>0x423a1323c871abc9d89eb06855bf5347048fc4a5000000000000000000000496</th>\n      <td>1.000280966766936922825826068</td>\n    </tr>\n    <tr>\n      <th>0x32df62dc3aed2cd6224193052ce665dc181658410002000000000000000003bd</th>\n      <td>1.089197381211832968347552422</td>\n    </tr>\n    <tr>\n      <th>0x0c8972437a38b389ec83d1e666b69b8a4fcf8bfd00000000000000000000049e</th>\n      <td>1624.004796170085640502940404</td>\n    </tr>\n  </tbody>\n</table>\n</div>"
     },
     "execution_count": 2,
     "metadata": {},
     "output_type": "execute_result"
    }
   ],
   "source": [
    "# Arbitrum TWAP prices:\n",
    "arb_bpt_twap_prices_df"
   ],
   "metadata": {
    "collapsed": false,
    "ExecuteTime": {
     "end_time": "2023-09-15T12:42:31.640329Z",
     "start_time": "2023-09-15T12:42:31.634461Z"
    }
   },
   "id": "888d08ca33a6128c"
  },
  {
   "cell_type": "code",
   "execution_count": 3,
   "outputs": [
    {
     "data": {
      "text/plain": "                                                                                 0\n0x93d199263632a4ef4bb438f1feb99e57b4b5f0bd00000...   1624.671669576571282985296997\n0x1e19cf2d73a72ef1332c882f20534b6519be027600020...   1665.092865532654569304375932\n0xe7e2c68d3b13d905bbb636709cf4dfd21076b9d200000...   1609.505529342165392506361900\n0xf7a826d47c8e02835d94fb0aa40f0cc9505cb13400020...   1624.040830847811722959043062\n0xf16aee6a71af1a9bc8f56975a4c2705ca7a782bc00020...   24.93213796900873485293154129\n0xb08885e6026bab4333a80024ec25a1a3e1ff2b8a00020...   1637.374646097921670227738398\n0x8353157092ed8be69a9df8f95af097bbf33cb2af00000...  0.9837261409796526292723900507\n0xdfe6e7e18f6cc65fa13c8d8966013d4fda74b6ba00000...   1632.951961172472323274683402\n0x5f1f4e50ba51d723f12385a8a9606afc3a0555f500020...   53.06393404391770336711065633\n0x1ee442b5326009bb18f2f472d3e0061513d1a0ff00020...   59.00866122834476785368647987\n0x9f9d900462492d4c21e9523ca95a7cd86142f29800020...   199.7503559085474230175501404\n0x3ff3a210e57cfe679d9ad1e9ba6453a716c56a2e00020...  0.7177854689589532676307094467\n0xf01b0684c98cd7ada480bfdf6e43876422fa1fc100020...   1623.860235578028930243058518\n0x36be1e97ea98ab43b4debf92742517266f5731a300020...   10.06263093963437041290483559",
      "text/html": "<div>\n<style scoped>\n    .dataframe tbody tr th:only-of-type {\n        vertical-align: middle;\n    }\n\n    .dataframe tbody tr th {\n        vertical-align: top;\n    }\n\n    .dataframe thead th {\n        text-align: right;\n    }\n</style>\n<table border=\"1\" class=\"dataframe\">\n  <thead>\n    <tr style=\"text-align: right;\">\n      <th></th>\n      <th>0</th>\n    </tr>\n  </thead>\n  <tbody>\n    <tr>\n      <th>0x93d199263632a4ef4bb438f1feb99e57b4b5f0bd0000000000000000000005c2</th>\n      <td>1624.671669576571282985296997</td>\n    </tr>\n    <tr>\n      <th>0x1e19cf2d73a72ef1332c882f20534b6519be0276000200000000000000000112</th>\n      <td>1665.092865532654569304375932</td>\n    </tr>\n    <tr>\n      <th>0xe7e2c68d3b13d905bbb636709cf4dfd21076b9d20000000000000000000005ca</th>\n      <td>1609.505529342165392506361900</td>\n    </tr>\n    <tr>\n      <th>0xf7a826d47c8e02835d94fb0aa40f0cc9505cb1340002000000000000000005e0</th>\n      <td>1624.040830847811722959043062</td>\n    </tr>\n    <tr>\n      <th>0xf16aee6a71af1a9bc8f56975a4c2705ca7a782bc0002000000000000000004bb</th>\n      <td>24.93213796900873485293154129</td>\n    </tr>\n    <tr>\n      <th>0xb08885e6026bab4333a80024ec25a1a3e1ff2b8a000200000000000000000445</th>\n      <td>1637.374646097921670227738398</td>\n    </tr>\n    <tr>\n      <th>0x8353157092ed8be69a9df8f95af097bbf33cb2af0000000000000000000005d9</th>\n      <td>0.9837261409796526292723900507</td>\n    </tr>\n    <tr>\n      <th>0xdfe6e7e18f6cc65fa13c8d8966013d4fda74b6ba000000000000000000000558</th>\n      <td>1632.951961172472323274683402</td>\n    </tr>\n    <tr>\n      <th>0x5f1f4e50ba51d723f12385a8a9606afc3a0555f5000200000000000000000465</th>\n      <td>53.06393404391770336711065633</td>\n    </tr>\n    <tr>\n      <th>0x1ee442b5326009bb18f2f472d3e0061513d1a0ff000200000000000000000464</th>\n      <td>59.00866122834476785368647987</td>\n    </tr>\n    <tr>\n      <th>0x9f9d900462492d4c21e9523ca95a7cd86142f298000200000000000000000462</th>\n      <td>199.7503559085474230175501404</td>\n    </tr>\n    <tr>\n      <th>0x3ff3a210e57cfe679d9ad1e9ba6453a716c56a2e0002000000000000000005d5</th>\n      <td>0.7177854689589532676307094467</td>\n    </tr>\n    <tr>\n      <th>0xf01b0684c98cd7ada480bfdf6e43876422fa1fc10002000000000000000005de</th>\n      <td>1623.860235578028930243058518</td>\n    </tr>\n    <tr>\n      <th>0x36be1e97ea98ab43b4debf92742517266f5731a3000200000000000000000466</th>\n      <td>10.06263093963437041290483559</td>\n    </tr>\n  </tbody>\n</table>\n</div>"
     },
     "execution_count": 3,
     "metadata": {},
     "output_type": "execute_result"
    }
   ],
   "source": [
    "# Mainnet TWAP prices:\n",
    "mainnet_bpt_twap_prices_df"
   ],
   "metadata": {
    "collapsed": false,
    "ExecuteTime": {
     "end_time": "2023-09-15T12:42:32.858164Z",
     "start_time": "2023-09-15T12:42:32.852613Z"
    }
   },
   "id": "12acabeeb64ba22a"
  },
  {
   "cell_type": "code",
   "execution_count": 4,
   "outputs": [
    {
     "data": {
      "text/plain": "                                                                                 0\n0xf0ad209e2e969eaaa8c882aac71f02d8a047d5c200020...  0.5414459234689891732317339027\n0xee278d943584dd8640eaf4cc6c7a5c80c0073e8500020...  0.5393899124051555957882508035\n0x89b753153678bc434c610b7e9182297cada8ff2900000...  0.5369363464436515674461473867\n0xcd78a20c597e367a4e478a2411ceb790604d7c8f00000...  0.5370201093525471584545017470\n0xdc31233e09f3bf5bfe5c10da2014677c23b6894c00000...   1623.902166775320147917739091",
      "text/html": "<div>\n<style scoped>\n    .dataframe tbody tr th:only-of-type {\n        vertical-align: middle;\n    }\n\n    .dataframe tbody tr th {\n        vertical-align: top;\n    }\n\n    .dataframe thead th {\n        text-align: right;\n    }\n</style>\n<table border=\"1\" class=\"dataframe\">\n  <thead>\n    <tr style=\"text-align: right;\">\n      <th></th>\n      <th>0</th>\n    </tr>\n  </thead>\n  <tbody>\n    <tr>\n      <th>0xf0ad209e2e969eaaa8c882aac71f02d8a047d5c2000200000000000000000b49</th>\n      <td>0.5414459234689891732317339027</td>\n    </tr>\n    <tr>\n      <th>0xee278d943584dd8640eaf4cc6c7a5c80c0073e85000200000000000000000bc7</th>\n      <td>0.5393899124051555957882508035</td>\n    </tr>\n    <tr>\n      <th>0x89b753153678bc434c610b7e9182297cada8ff29000000000000000000000c21</th>\n      <td>0.5369363464436515674461473867</td>\n    </tr>\n    <tr>\n      <th>0xcd78a20c597e367a4e478a2411ceb790604d7c8f000000000000000000000c22</th>\n      <td>0.5370201093525471584545017470</td>\n    </tr>\n    <tr>\n      <th>0xdc31233e09f3bf5bfe5c10da2014677c23b6894c000000000000000000000c23</th>\n      <td>1623.902166775320147917739091</td>\n    </tr>\n  </tbody>\n</table>\n</div>"
     },
     "execution_count": 4,
     "metadata": {},
     "output_type": "execute_result"
    }
   ],
   "source": [
    "# Polygon TWAP prices:\n",
    "polygon_bpt_twap_prices_df"
   ],
   "metadata": {
    "collapsed": false,
    "ExecuteTime": {
     "end_time": "2023-09-15T12:42:34.181040Z",
     "start_time": "2023-09-15T12:42:34.174512Z"
    }
   },
   "id": "9c61dc8f8d29733e"
  },
  {
   "cell_type": "code",
   "execution_count": 5,
   "outputs": [
    {
     "data": {
      "text/plain": "                                                                                0\n0xfb4c2e6e6e27b5b4a07a36360c89ede29bb3c9b600000...  1624.588029734466136359339174\n0xc771c1a5905420daec317b154eb13e4198ba97d000000...  1627.903553206134066310896620\n0x0c659734f1eef9c63b7ebdf78a164cdd745586db00000...  1.000328667223006881844029683",
      "text/html": "<div>\n<style scoped>\n    .dataframe tbody tr th:only-of-type {\n        vertical-align: middle;\n    }\n\n    .dataframe tbody tr th {\n        vertical-align: top;\n    }\n\n    .dataframe thead th {\n        text-align: right;\n    }\n</style>\n<table border=\"1\" class=\"dataframe\">\n  <thead>\n    <tr style=\"text-align: right;\">\n      <th></th>\n      <th>0</th>\n    </tr>\n  </thead>\n  <tbody>\n    <tr>\n      <th>0xfb4c2e6e6e27b5b4a07a36360c89ede29bb3c9b6000000000000000000000026</th>\n      <td>1624.588029734466136359339174</td>\n    </tr>\n    <tr>\n      <th>0xc771c1a5905420daec317b154eb13e4198ba97d0000000000000000000000023</th>\n      <td>1627.903553206134066310896620</td>\n    </tr>\n    <tr>\n      <th>0x0c659734f1eef9c63b7ebdf78a164cdd745586db000000000000000000000046</th>\n      <td>1.000328667223006881844029683</td>\n    </tr>\n  </tbody>\n</table>\n</div>"
     },
     "execution_count": 5,
     "metadata": {},
     "output_type": "execute_result"
    }
   ],
   "source": [
    "# Base TWAP prices:\n",
    "base_bpt_twap_prices_df"
   ],
   "metadata": {
    "collapsed": false,
    "ExecuteTime": {
     "end_time": "2023-09-15T12:42:35.709848Z",
     "start_time": "2023-09-15T12:42:35.702803Z"
    }
   },
   "id": "c057d5eb4d92947"
  },
  {
   "cell_type": "code",
   "execution_count": 6,
   "outputs": [],
   "source": [
    "# Query:\n",
    "POOLS_SNAPSHOTS_QUERY = \"\"\"\n",
    "{{\n",
    "  poolSnapshots(\n",
    "    first: {first}\n",
    "    skip: {skip}\n",
    "    orderBy: timestamp\n",
    "    orderDirection: desc\n",
    "    block: {{ number: {block} }}\n",
    "    where: {{ protocolFee_not: null }}\n",
    "  ) {{\n",
    "    pool {{\n",
    "      address\n",
    "      id\n",
    "      symbol\n",
    "      totalProtocolFeePaidInBPT\n",
    "      tokens {{\n",
    "        symbol\n",
    "        address\n",
    "        paidProtocolFees\n",
    "      }}\n",
    "    }}\n",
    "    timestamp\n",
    "    protocolFee\n",
    "    swapFees\n",
    "    swapVolume\n",
    "    liquidity\n",
    "  }}\n",
    "}}\n",
    "\"\"\""
   ],
   "metadata": {
    "collapsed": false,
    "ExecuteTime": {
     "end_time": "2023-09-15T12:42:40.253113Z",
     "start_time": "2023-09-15T12:42:40.247718Z"
    }
   },
   "id": "abc722b4fa453b5a"
  },
  {
   "cell_type": "markdown",
   "source": [
    "## Fetching data from the Balancer subgraphs"
   ],
   "metadata": {
    "collapsed": false
   },
   "id": "cde5ffca807e3849"
  },
  {
   "cell_type": "code",
   "execution_count": 7,
   "outputs": [],
   "source": [
    "from notebooks.constants import BASE_BALANCER_GRAPH_URL\n",
    "from notebooks.constants import POLYGON_BALANCER_GRAPH_URL\n",
    "from notebooks.constants import ARB_BALANCER_GRAPH_URL\n",
    "from notebooks.constants import MAINNET_BALANCER_GRAPH_URL\n",
    "from typing import Dict\n",
    "from typing import List\n",
    "from typing import Optional\n",
    "\n",
    "from gql import Client\n",
    "from gql import gql\n",
    "from gql.transport.requests import RequestsHTTPTransport\n",
    "\n",
    "\n",
    "# Fetch all the data from the balancer subgraph\n",
    "def make_gql_client(url: str) -> Optional[Client]:\n",
    "    transport = RequestsHTTPTransport(url=url, retries=3)\n",
    "    return Client(\n",
    "        transport=transport, fetch_schema_from_transport=True, execute_timeout=60\n",
    "    )\n",
    "\n",
    "\n",
    "def get_balancer_pool_snapshots(block: int, graph_url: str) -> Optional[List[Dict]]:\n",
    "    client = make_gql_client(graph_url)\n",
    "    all_pools = []\n",
    "    limit = 1000\n",
    "    offset = 0\n",
    "    while True:\n",
    "        result = client.execute(\n",
    "            gql(POOLS_SNAPSHOTS_QUERY.format(first=limit, skip=offset, block=block)))\n",
    "        all_pools.extend(result['poolSnapshots'])\n",
    "        offset += limit\n",
    "        if offset >= 5000:\n",
    "            break\n",
    "        if len(result['poolSnapshots']) < limit - 1:\n",
    "            break\n",
    "    return all_pools\n",
    "\n",
    "\n",
    "arbi_pool_snapshots_now = get_balancer_pool_snapshots(arb_block, ARB_BALANCER_GRAPH_URL)\n",
    "arbi_pool_snapshots_2_weeks_ago = get_balancer_pool_snapshots(int(arb_block_2_weeks_ago), ARB_BALANCER_GRAPH_URL)\n",
    "\n",
    "mainnet_pool_snapshots_now = get_balancer_pool_snapshots(mainnet_block, MAINNET_BALANCER_GRAPH_URL)\n",
    "mainnet_pool_snapshots_2_weeks_ago = get_balancer_pool_snapshots(int(mainnet_block_2_weeks_ago),\n",
    "                                                                 MAINNET_BALANCER_GRAPH_URL)\n",
    "\n",
    "polygon_pool_snapshots_now = get_balancer_pool_snapshots(poly_block, POLYGON_BALANCER_GRAPH_URL)\n",
    "polygon_pool_snapshots_2_weeks_ago = get_balancer_pool_snapshots(int(poly_block_2_weeks_ago),\n",
    "                                                                 POLYGON_BALANCER_GRAPH_URL)\n",
    "\n",
    "base_pool_snapshots_now = get_balancer_pool_snapshots(base_block, BASE_BALANCER_GRAPH_URL)\n",
    "base_pool_snapshots_2_weeks_ago = get_balancer_pool_snapshots(int(base_block_2_weeks_ago),\n",
    "                                                              BASE_BALANCER_GRAPH_URL)"
   ],
   "metadata": {
    "collapsed": false,
    "ExecuteTime": {
     "end_time": "2023-09-15T12:43:41.528418Z",
     "start_time": "2023-09-15T12:42:42.046953Z"
    }
   },
   "id": "e1e0b8b90f62234c"
  },
  {
   "cell_type": "markdown",
   "source": [
    "## Extract fee data for CORE pools:\n"
   ],
   "metadata": {
    "collapsed": false
   },
   "id": "d5333a7de445454d"
  },
  {
   "cell_type": "code",
   "execution_count": 12,
   "outputs": [],
   "source": [
    "from collections import defaultdict\n",
    "from decimal import Decimal\n",
    "from notebooks import fetch_token_price_balgql\n",
    "\n",
    "\n",
    "def collect_fee_info(pools: list[str], chain: str, pools_now: list[dict], pools_shifted: list[dict],\n",
    "                     start_date: datetime.date) -> tuple[dict, dict]:\n",
    "    # Iterate through snapshots now and 2 weeks ago and extract fee data, by subtracting today's fee data from 2 weeks ago\n",
    "    # and then summing across all pools\n",
    "    fees = {}\n",
    "    token_fees = defaultdict(list)\n",
    "    for pool in pools:\n",
    "        current_fees_snapshots = [x for x in pools_now if x['pool']['id'] == pool]\n",
    "        current_fees_snapshots.sort(key=lambda x: x['timestamp'], reverse=True)\n",
    "        fees_2_weeks_ago = [x for x in pools_shifted if x['pool']['id'] == pool]\n",
    "        fees_2_weeks_ago.sort(key=lambda x: x['timestamp'], reverse=True)\n",
    "        # Take first element of list, which is the most recent snapshot\n",
    "        if not current_fees_snapshots or not fees_2_weeks_ago:\n",
    "            continue\n",
    "        pool_snapshot_now = current_fees_snapshots[0]\n",
    "        pool_snapshot_2_weeks_ago = fees_2_weeks_ago[0]\n",
    "        # Calculate fees\n",
    "        pool_fee = float(pool_snapshot_now['protocolFee']) - float(pool_snapshot_2_weeks_ago['protocolFee'])\n",
    "        pool_swap_fee = float(pool_snapshot_now['swapFees']) - float(pool_snapshot_2_weeks_ago['swapFees'])\n",
    "        # Now we need to collect token fee info. Let's start with BPT tokens, which is Balancer pool token. Notice,\n",
    "        # That totalProtocolFeePaidInBPT can be null, so we need to check for that\n",
    "        bpt_token_fee = 0\n",
    "        bpt_price_usd = arb_bpt_twap_prices[pool] if chain == 'arbitrum' else mainnet_bpt_twap_prices[\n",
    "            pool] if chain == 'mainnet' else polygon_bpt_twap_prices[pool] if chain == 'polygon' else base_bpt_twap_prices[pool]\n",
    "        if bpt_price_usd is None:\n",
    "            bpt_price_usd = 0\n",
    "        if pool_snapshot_now['pool']['totalProtocolFeePaidInBPT'] is not None and pool_snapshot_2_weeks_ago['pool'][\n",
    "            'totalProtocolFeePaidInBPT'] is not None:\n",
    "            bpt_token_fee = float(pool_snapshot_now['pool']['totalProtocolFeePaidInBPT']) - float(\n",
    "                pool_snapshot_2_weeks_ago['pool']['totalProtocolFeePaidInBPT'])\n",
    "            token_fees[pool_snapshot_now['pool']['symbol']].append({\n",
    "                'token': pool_snapshot_now['pool']['symbol'],\n",
    "                'token_fee': bpt_token_fee,\n",
    "                'token_price': bpt_price_usd,\n",
    "                'token_fee_in_usd': Decimal(bpt_token_fee) * bpt_price_usd,\n",
    "                'token_addr': pool_snapshot_now['pool']['address'],\n",
    "                'time_from': arb_datetime_2_weeks_ago,\n",
    "                'time_to': arb_datetime_now,\n",
    "                'chain': chain,\n",
    "            })\n",
    "        # Now collect fee info about fees paid in pool tokens. Pool tokens fee info is in pool.tokens dictionary. This will be separate dictionary\n",
    "        else:\n",
    "            bpt_price_usd = 0\n",
    "            for token_data in pool_snapshot_now['pool']['tokens']:\n",
    "                token_data_2_weeks_ago = \\\n",
    "                    [t for t in pool_snapshot_2_weeks_ago['pool']['tokens'] if t['address'] == token_data['address']][0]\n",
    "                token_fee = float(token_data.get('paidProtocolFees', None)) - float(\n",
    "                    token_data_2_weeks_ago.get('paidProtocolFees', None))\n",
    "                # Get twap token price from CoinGecko\n",
    "                token_price = fetch_token_price_balgql(token_data['address'], chain, start_date) or 0\n",
    "                token_fees[pool_snapshot_now['pool']['symbol']].append({\n",
    "                    'token': token_data['symbol'],\n",
    "                    'token_fee': token_fee,\n",
    "                    'token_price': token_price,\n",
    "                    'token_fee_in_usd': Decimal(token_fee) * token_price if token_price is not None else 0,\n",
    "                    'token_addr': token_data['address'],\n",
    "                    'time_from': arb_datetime_2_weeks_ago,\n",
    "                    'time_to': arb_datetime_now,\n",
    "                    'chain': chain,\n",
    "                })\n",
    "        # Calculate non-BPT fees in USD\n",
    "        fees[pool_snapshot_now['pool']['symbol']] = {\n",
    "            'pool_fee': round(pool_fee, 2),\n",
    "            'swap_fee': round(pool_swap_fee, 2),\n",
    "            'bpt_token_fee': round(bpt_token_fee, 2),\n",
    "            # Get fee in USD by multiplying bpt_token_fee by price of BPT token taken from twap_bpt_price\n",
    "            'bpt_token_fee_in_usd': round(Decimal(bpt_token_fee) * bpt_price_usd, 2),\n",
    "            'token_fees_in_usd': round(sum([x['token_fee_in_usd'] for x in\n",
    "                                      token_fees[pool_snapshot_now['pool']['symbol']]]) if bpt_price_usd == 0 else 0, 2),\n",
    "            'time_from': arb_datetime_2_weeks_ago,\n",
    "            'time_to': arb_datetime_now,\n",
    "            'chain': chain,\n",
    "            'token_fees': token_fees[pool_snapshot_now['pool']['symbol']],\n",
    "        }\n",
    "    return fees\n",
    "\n",
    "\n",
    "arb_fees = collect_fee_info(ARB_CORE_POOLS, 'arbitrum', arbi_pool_snapshots_now,\n",
    "                            arbi_pool_snapshots_2_weeks_ago, arb_datetime_now.date())\n",
    "mainnet_fees = collect_fee_info(MAINNET_CORE_POOLS, 'mainnet', mainnet_pool_snapshots_now,\n",
    "                                mainnet_pool_snapshots_2_weeks_ago, mainnet_datetime_now.date())\n",
    "polygon_fees = collect_fee_info(POLYGON_CORE_POOLS, 'polygon', polygon_pool_snapshots_now,\n",
    "                                polygon_pool_snapshots_2_weeks_ago, poly_datetime_now.date())\n",
    "base_fees = collect_fee_info(BASE_CORE_POOLS, 'base', base_pool_snapshots_now, base_pool_snapshots_2_weeks_ago,\n",
    "                             base_datetime_now.date())\n",
    "# Convert to dataframe, sort by chain and pool fee\n",
    "joint_fees = {**arb_fees, **mainnet_fees, **polygon_fees, **base_fees}\n",
    "joint_fees_df = pd.DataFrame.from_dict(joint_fees, orient='index')"
   ],
   "metadata": {
    "collapsed": false,
    "ExecuteTime": {
     "end_time": "2023-09-15T12:49:28.592725Z",
     "start_time": "2023-09-15T12:48:25.762236Z"
    }
   },
   "id": "e79b2f6a4ead2cad"
  },
  {
   "cell_type": "code",
   "execution_count": 11,
   "outputs": [
    {
     "data": {
      "text/plain": "                        pool_fee  swap_fee  bpt_token_fee  \\\nmaticX-WMATIC-BPT        1572.58    322.17        2946.70   \nECLP-WMATIC-stMATIC      1480.21    279.86        2745.75   \nECLP-WMATIC-MATICX        307.23     70.58         570.61   \nstMATIC-WMATIC-BPT          2.58      1.42           4.62   \nwstETH-WETH-BPT             0.00      0.00           0.00   \nB-rETH-STABLE           15033.43   2024.52           0.00   \n50rETH-50BADGER          8173.75   2041.90         137.83   \nswETH-WETH-BPT           4990.34    634.77           3.11   \n20WETH-80ALCX            4766.92   4542.19         171.57   \n50rETH-50RPL             1986.93   1170.02           9.78   \nankrETH/wstETH           1938.00    127.35           1.15   \nB-staFiETH-WETH-Stable   1361.46    354.58           0.00   \nSTG/USDC                 1262.74   7907.07        1733.53   \nGHO/USDT/USDC            1012.34   1862.69           0.00   \n50wstETH-50LDO            631.08    236.46          11.58   \n50wstETH-50ACX            382.93   1420.64          38.08   \nECLP-wstETH-cbETH           0.00      0.00           0.00   \nECLP-wstETH-wETH            0.00      0.00           0.00   \ncbETH/WETH               1871.83   1178.15           1.14   \nrETH-WETH-BPT             378.14    218.90           0.00   \nRDNT-WETH               11064.19  19984.16       10405.48   \nwstETH/rETH/cbETH         944.01    258.42           1.14   \n4POOL-BPT                 503.63    888.47         503.32   \nwstETH/rETH/sfrxETH         0.01      0.00           0.00   \n\n                       bpt_token_fee_in_usd token_fees_in_usd  \\\nmaticX-WMATIC-BPT                   1582.44                 0   \nECLP-WMATIC-stMATIC                 1486.68                 0   \nECLP-WMATIC-MATICX                   307.78                 0   \nstMATIC-WMATIC-BPT                     2.48                 0   \nwstETH-WETH-BPT                        0.00              0.00   \nB-rETH-STABLE                          0.00          14944.71   \n50rETH-50BADGER                     8133.10                 0   \nswETH-WETH-BPT                      5002.92                 0   \n20WETH-80ALCX                       4277.72                 0   \n50rETH-50RPL                        1952.83                 0   \nankrETH/wstETH                      1870.72                 0   \nB-staFiETH-WETH-Stable                 0.00           1342.58   \nSTG/USDC                            1244.30                 0   \nGHO/USDT/USDC                          0.00              0.00   \n50wstETH-50LDO                       614.25                 0   \n50wstETH-50ACX                       383.15                 0   \nECLP-wstETH-cbETH                      0.00              0.00   \nECLP-wstETH-wETH                       0.00              0.00   \ncbETH/WETH                          1859.23                 0   \nrETH-WETH-BPT                          0.00              0.00   \nRDNT-WETH                          11333.63                 0   \nwstETH/rETH/cbETH                   1864.78                 0   \n4POOL-BPT                            503.46                 0   \nwstETH/rETH/sfrxETH                    0.02                 0   \n\n                                 time_from             time_to     chain  \nmaticX-WMATIC-BPT      2023-09-01 07:00:00 2023-09-15 07:00:00   polygon  \nECLP-WMATIC-stMATIC    2023-09-01 07:00:00 2023-09-15 07:00:00   polygon  \nECLP-WMATIC-MATICX     2023-09-01 07:00:00 2023-09-15 07:00:00   polygon  \nstMATIC-WMATIC-BPT     2023-09-01 07:00:00 2023-09-15 07:00:00   polygon  \nwstETH-WETH-BPT        2023-09-01 07:00:00 2023-09-15 07:00:00   polygon  \nB-rETH-STABLE          2023-09-01 07:00:00 2023-09-15 07:00:00   mainnet  \n50rETH-50BADGER        2023-09-01 07:00:00 2023-09-15 07:00:00   mainnet  \nswETH-WETH-BPT         2023-09-01 07:00:00 2023-09-15 07:00:00   mainnet  \n20WETH-80ALCX          2023-09-01 07:00:00 2023-09-15 07:00:00   mainnet  \n50rETH-50RPL           2023-09-01 07:00:00 2023-09-15 07:00:00   mainnet  \nankrETH/wstETH         2023-09-01 07:00:00 2023-09-15 07:00:00   mainnet  \nB-staFiETH-WETH-Stable 2023-09-01 07:00:00 2023-09-15 07:00:00   mainnet  \nSTG/USDC               2023-09-01 07:00:00 2023-09-15 07:00:00   mainnet  \nGHO/USDT/USDC          2023-09-01 07:00:00 2023-09-15 07:00:00   mainnet  \n50wstETH-50LDO         2023-09-01 07:00:00 2023-09-15 07:00:00   mainnet  \n50wstETH-50ACX         2023-09-01 07:00:00 2023-09-15 07:00:00   mainnet  \nECLP-wstETH-cbETH      2023-09-01 07:00:00 2023-09-15 07:00:00   mainnet  \nECLP-wstETH-wETH       2023-09-01 07:00:00 2023-09-15 07:00:00   mainnet  \ncbETH/WETH             2023-09-01 07:00:00 2023-09-15 07:00:00      base  \nrETH-WETH-BPT          2023-09-01 07:00:00 2023-09-15 07:00:00      base  \nRDNT-WETH              2023-09-01 07:00:00 2023-09-15 07:00:00  arbitrum  \nwstETH/rETH/cbETH      2023-09-01 07:00:00 2023-09-15 07:00:00  arbitrum  \n4POOL-BPT              2023-09-01 07:00:00 2023-09-15 07:00:00  arbitrum  \nwstETH/rETH/sfrxETH    2023-09-01 07:00:00 2023-09-15 07:00:00  arbitrum  ",
      "text/html": "<div>\n<style scoped>\n    .dataframe tbody tr th:only-of-type {\n        vertical-align: middle;\n    }\n\n    .dataframe tbody tr th {\n        vertical-align: top;\n    }\n\n    .dataframe thead th {\n        text-align: right;\n    }\n</style>\n<table border=\"1\" class=\"dataframe\">\n  <thead>\n    <tr style=\"text-align: right;\">\n      <th></th>\n      <th>pool_fee</th>\n      <th>swap_fee</th>\n      <th>bpt_token_fee</th>\n      <th>bpt_token_fee_in_usd</th>\n      <th>token_fees_in_usd</th>\n      <th>time_from</th>\n      <th>time_to</th>\n      <th>chain</th>\n    </tr>\n  </thead>\n  <tbody>\n    <tr>\n      <th>maticX-WMATIC-BPT</th>\n      <td>1572.58</td>\n      <td>322.17</td>\n      <td>2946.70</td>\n      <td>1582.44</td>\n      <td>0</td>\n      <td>2023-09-01 07:00:00</td>\n      <td>2023-09-15 07:00:00</td>\n      <td>polygon</td>\n    </tr>\n    <tr>\n      <th>ECLP-WMATIC-stMATIC</th>\n      <td>1480.21</td>\n      <td>279.86</td>\n      <td>2745.75</td>\n      <td>1486.68</td>\n      <td>0</td>\n      <td>2023-09-01 07:00:00</td>\n      <td>2023-09-15 07:00:00</td>\n      <td>polygon</td>\n    </tr>\n    <tr>\n      <th>ECLP-WMATIC-MATICX</th>\n      <td>307.23</td>\n      <td>70.58</td>\n      <td>570.61</td>\n      <td>307.78</td>\n      <td>0</td>\n      <td>2023-09-01 07:00:00</td>\n      <td>2023-09-15 07:00:00</td>\n      <td>polygon</td>\n    </tr>\n    <tr>\n      <th>stMATIC-WMATIC-BPT</th>\n      <td>2.58</td>\n      <td>1.42</td>\n      <td>4.62</td>\n      <td>2.48</td>\n      <td>0</td>\n      <td>2023-09-01 07:00:00</td>\n      <td>2023-09-15 07:00:00</td>\n      <td>polygon</td>\n    </tr>\n    <tr>\n      <th>wstETH-WETH-BPT</th>\n      <td>0.00</td>\n      <td>0.00</td>\n      <td>0.00</td>\n      <td>0.00</td>\n      <td>0.00</td>\n      <td>2023-09-01 07:00:00</td>\n      <td>2023-09-15 07:00:00</td>\n      <td>polygon</td>\n    </tr>\n    <tr>\n      <th>B-rETH-STABLE</th>\n      <td>15033.43</td>\n      <td>2024.52</td>\n      <td>0.00</td>\n      <td>0.00</td>\n      <td>14944.71</td>\n      <td>2023-09-01 07:00:00</td>\n      <td>2023-09-15 07:00:00</td>\n      <td>mainnet</td>\n    </tr>\n    <tr>\n      <th>50rETH-50BADGER</th>\n      <td>8173.75</td>\n      <td>2041.90</td>\n      <td>137.83</td>\n      <td>8133.10</td>\n      <td>0</td>\n      <td>2023-09-01 07:00:00</td>\n      <td>2023-09-15 07:00:00</td>\n      <td>mainnet</td>\n    </tr>\n    <tr>\n      <th>swETH-WETH-BPT</th>\n      <td>4990.34</td>\n      <td>634.77</td>\n      <td>3.11</td>\n      <td>5002.92</td>\n      <td>0</td>\n      <td>2023-09-01 07:00:00</td>\n      <td>2023-09-15 07:00:00</td>\n      <td>mainnet</td>\n    </tr>\n    <tr>\n      <th>20WETH-80ALCX</th>\n      <td>4766.92</td>\n      <td>4542.19</td>\n      <td>171.57</td>\n      <td>4277.72</td>\n      <td>0</td>\n      <td>2023-09-01 07:00:00</td>\n      <td>2023-09-15 07:00:00</td>\n      <td>mainnet</td>\n    </tr>\n    <tr>\n      <th>50rETH-50RPL</th>\n      <td>1986.93</td>\n      <td>1170.02</td>\n      <td>9.78</td>\n      <td>1952.83</td>\n      <td>0</td>\n      <td>2023-09-01 07:00:00</td>\n      <td>2023-09-15 07:00:00</td>\n      <td>mainnet</td>\n    </tr>\n    <tr>\n      <th>ankrETH/wstETH</th>\n      <td>1938.00</td>\n      <td>127.35</td>\n      <td>1.15</td>\n      <td>1870.72</td>\n      <td>0</td>\n      <td>2023-09-01 07:00:00</td>\n      <td>2023-09-15 07:00:00</td>\n      <td>mainnet</td>\n    </tr>\n    <tr>\n      <th>B-staFiETH-WETH-Stable</th>\n      <td>1361.46</td>\n      <td>354.58</td>\n      <td>0.00</td>\n      <td>0.00</td>\n      <td>1342.58</td>\n      <td>2023-09-01 07:00:00</td>\n      <td>2023-09-15 07:00:00</td>\n      <td>mainnet</td>\n    </tr>\n    <tr>\n      <th>STG/USDC</th>\n      <td>1262.74</td>\n      <td>7907.07</td>\n      <td>1733.53</td>\n      <td>1244.30</td>\n      <td>0</td>\n      <td>2023-09-01 07:00:00</td>\n      <td>2023-09-15 07:00:00</td>\n      <td>mainnet</td>\n    </tr>\n    <tr>\n      <th>GHO/USDT/USDC</th>\n      <td>1012.34</td>\n      <td>1862.69</td>\n      <td>0.00</td>\n      <td>0.00</td>\n      <td>0.00</td>\n      <td>2023-09-01 07:00:00</td>\n      <td>2023-09-15 07:00:00</td>\n      <td>mainnet</td>\n    </tr>\n    <tr>\n      <th>50wstETH-50LDO</th>\n      <td>631.08</td>\n      <td>236.46</td>\n      <td>11.58</td>\n      <td>614.25</td>\n      <td>0</td>\n      <td>2023-09-01 07:00:00</td>\n      <td>2023-09-15 07:00:00</td>\n      <td>mainnet</td>\n    </tr>\n    <tr>\n      <th>50wstETH-50ACX</th>\n      <td>382.93</td>\n      <td>1420.64</td>\n      <td>38.08</td>\n      <td>383.15</td>\n      <td>0</td>\n      <td>2023-09-01 07:00:00</td>\n      <td>2023-09-15 07:00:00</td>\n      <td>mainnet</td>\n    </tr>\n    <tr>\n      <th>ECLP-wstETH-cbETH</th>\n      <td>0.00</td>\n      <td>0.00</td>\n      <td>0.00</td>\n      <td>0.00</td>\n      <td>0.00</td>\n      <td>2023-09-01 07:00:00</td>\n      <td>2023-09-15 07:00:00</td>\n      <td>mainnet</td>\n    </tr>\n    <tr>\n      <th>ECLP-wstETH-wETH</th>\n      <td>0.00</td>\n      <td>0.00</td>\n      <td>0.00</td>\n      <td>0.00</td>\n      <td>0.00</td>\n      <td>2023-09-01 07:00:00</td>\n      <td>2023-09-15 07:00:00</td>\n      <td>mainnet</td>\n    </tr>\n    <tr>\n      <th>cbETH/WETH</th>\n      <td>1871.83</td>\n      <td>1178.15</td>\n      <td>1.14</td>\n      <td>1859.23</td>\n      <td>0</td>\n      <td>2023-09-01 07:00:00</td>\n      <td>2023-09-15 07:00:00</td>\n      <td>base</td>\n    </tr>\n    <tr>\n      <th>rETH-WETH-BPT</th>\n      <td>378.14</td>\n      <td>218.90</td>\n      <td>0.00</td>\n      <td>0.00</td>\n      <td>0.00</td>\n      <td>2023-09-01 07:00:00</td>\n      <td>2023-09-15 07:00:00</td>\n      <td>base</td>\n    </tr>\n    <tr>\n      <th>RDNT-WETH</th>\n      <td>11064.19</td>\n      <td>19984.16</td>\n      <td>10405.48</td>\n      <td>11333.63</td>\n      <td>0</td>\n      <td>2023-09-01 07:00:00</td>\n      <td>2023-09-15 07:00:00</td>\n      <td>arbitrum</td>\n    </tr>\n    <tr>\n      <th>wstETH/rETH/cbETH</th>\n      <td>944.01</td>\n      <td>258.42</td>\n      <td>1.14</td>\n      <td>1864.78</td>\n      <td>0</td>\n      <td>2023-09-01 07:00:00</td>\n      <td>2023-09-15 07:00:00</td>\n      <td>arbitrum</td>\n    </tr>\n    <tr>\n      <th>4POOL-BPT</th>\n      <td>503.63</td>\n      <td>888.47</td>\n      <td>503.32</td>\n      <td>503.46</td>\n      <td>0</td>\n      <td>2023-09-01 07:00:00</td>\n      <td>2023-09-15 07:00:00</td>\n      <td>arbitrum</td>\n    </tr>\n    <tr>\n      <th>wstETH/rETH/sfrxETH</th>\n      <td>0.01</td>\n      <td>0.00</td>\n      <td>0.00</td>\n      <td>0.02</td>\n      <td>0</td>\n      <td>2023-09-01 07:00:00</td>\n      <td>2023-09-15 07:00:00</td>\n      <td>arbitrum</td>\n    </tr>\n  </tbody>\n</table>\n</div>"
     },
     "execution_count": 11,
     "metadata": {},
     "output_type": "execute_result"
    }
   ],
   "source": [
    "# Remove `token_fees` field from dataframe, as it's too big\n",
    "joint_fees_df_copy = joint_fees_df.drop(columns=['token_fees'])\n",
    "# Display all rows in dataframe\n",
    "pd.set_option('display.max_rows', 1000)\n",
    "joint_fees_df_copy.sort_values(by=['chain', 'pool_fee'], ascending=False)"
   ],
   "metadata": {
    "collapsed": false,
    "ExecuteTime": {
     "end_time": "2023-09-15T12:48:17.293571Z",
     "start_time": "2023-09-15T12:47:09.235682Z"
    }
   },
   "id": "52fccc19e5e6b4f2"
  },
  {
   "cell_type": "markdown",
   "source": [
    "## Now let's calculate bribes paid to the pools"
   ],
   "metadata": {
    "collapsed": false
   },
   "id": "97a5370819f28ffc"
  },
  {
   "cell_type": "code",
   "execution_count": 13,
   "outputs": [
    {
     "data": {
      "text/plain": "                           chain                       aura_bribes  \\\nwstETH/rETH/cbETH       arbitrum     370.3736070809998385118329073   \n4POOL-BPT               arbitrum     99.99479628749781673825727190   \nRDNT-WETH               arbitrum     2251.030912183438367932337752   \nwstETH/rETH/sfrxETH     arbitrum  0.003972303511202392116086969050   \nrETH-WETH-BPT               base                             0E-31   \ncbETH/WETH                  base     369.2712928566411746996187733   \nB-rETH-STABLE            mainnet     2968.246200345075074060304362   \nswETH-WETH-BPT           mainnet     993.6558341132335782706909600   \nECLP-wstETH-cbETH        mainnet                             0E-31   \n20WETH-80ALCX            mainnet     849.6201087970348401413774622   \nB-staFiETH-WETH-Stable   mainnet     266.6567624035053803608021454   \nGHO/USDT/USDC            mainnet                             0E-31   \nankrETH/wstETH           mainnet     371.5533812238269489703107371   \n50wstETH-50LDO           mainnet     121.9993715878034678653210369   \n50rETH-50BADGER          mainnet     1615.357084348008765967346399   \n50rETH-50RPL             mainnet     387.8616732890683698029057885   \nSTG/USDC                 mainnet     247.1368629494568255023507794   \nECLP-wstETH-wETH         mainnet                             0E-31   \n50wstETH-50ACX           mainnet     76.09940451585982696393610958   \nwstETH-WETH-BPT          polygon                             0E-31   \nECLP-WMATIC-stMATIC      polygon     295.2772092017186155572087574   \nECLP-WMATIC-MATICX       polygon     61.12977873389361227446236671   \nstMATIC-WMATIC-BPT       polygon    0.4925656353890966223947841622   \nmaticX-WMATIC-BPT        polygon     314.2965984133556690090331652   \n\n                                              bal_bribes pool_total fees_taken  \nwstETH/rETH/cbETH          562.0163929190001614881670927    1864.78    932.390  \n4POOL-BPT                  151.7352037125021832617427281     503.46    251.730  \nRDNT-WETH                  3415.784087816561632067662248   11333.63   5666.815  \nwstETH/rETH/sfrxETH     0.006027696488797607883913030950       0.02      0.010  \nrETH-WETH-BPT                                      0E-31       0.00      0.000  \ncbETH/WETH                 560.3437071433588253003812267    1859.23    929.615  \nB-rETH-STABLE              4504.108799654924925939695638   14944.71   7472.355  \nswETH-WETH-BPT             1507.804165886766421729309040    5002.92   2501.460  \nECLP-wstETH-cbETH                                  0E-31       0.00      0.000  \n20WETH-80ALCX              1289.239891202965159858622538    4277.72   2138.860  \nB-staFiETH-WETH-Stable     404.6332375964946196391978546    1342.58    671.290  \nGHO/USDT/USDC                                      0E-31       0.00      0.000  \nankrETH/wstETH             563.8066187761730510296892629    1870.72    935.360  \n50wstETH-50LDO             185.1256284121965321346789631     614.25    307.125  \n50rETH-50BADGER            2451.192915651991234032653601    8133.10   4066.550  \n50rETH-50RPL               588.5533267109316301970942115    1952.83    976.415  \nSTG/USDC                   375.0131370505431744976492206    1244.30    622.150  \nECLP-wstETH-wETH                                   0E-31       0.00      0.000  \n50wstETH-50ACX             115.4755954841401730360638904     383.15    191.575  \nwstETH-WETH-BPT                                    0E-31       0.00      0.000  \nECLP-WMATIC-stMATIC        448.0627907982813844427912426    1486.68    743.340  \nECLP-WMATIC-MATICX         92.76022126610638772553763329     307.78    153.890  \nstMATIC-WMATIC-BPT        0.7474343646109033776052158378       2.48      1.240  \nmaticX-WMATIC-BPT          476.9234015866443309909668348    1582.44    791.220  ",
      "text/html": "<div>\n<style scoped>\n    .dataframe tbody tr th:only-of-type {\n        vertical-align: middle;\n    }\n\n    .dataframe tbody tr th {\n        vertical-align: top;\n    }\n\n    .dataframe thead th {\n        text-align: right;\n    }\n</style>\n<table border=\"1\" class=\"dataframe\">\n  <thead>\n    <tr style=\"text-align: right;\">\n      <th></th>\n      <th>chain</th>\n      <th>aura_bribes</th>\n      <th>bal_bribes</th>\n      <th>pool_total</th>\n      <th>fees_taken</th>\n    </tr>\n  </thead>\n  <tbody>\n    <tr>\n      <th>wstETH/rETH/cbETH</th>\n      <td>arbitrum</td>\n      <td>370.3736070809998385118329073</td>\n      <td>562.0163929190001614881670927</td>\n      <td>1864.78</td>\n      <td>932.390</td>\n    </tr>\n    <tr>\n      <th>4POOL-BPT</th>\n      <td>arbitrum</td>\n      <td>99.99479628749781673825727190</td>\n      <td>151.7352037125021832617427281</td>\n      <td>503.46</td>\n      <td>251.730</td>\n    </tr>\n    <tr>\n      <th>RDNT-WETH</th>\n      <td>arbitrum</td>\n      <td>2251.030912183438367932337752</td>\n      <td>3415.784087816561632067662248</td>\n      <td>11333.63</td>\n      <td>5666.815</td>\n    </tr>\n    <tr>\n      <th>wstETH/rETH/sfrxETH</th>\n      <td>arbitrum</td>\n      <td>0.003972303511202392116086969050</td>\n      <td>0.006027696488797607883913030950</td>\n      <td>0.02</td>\n      <td>0.010</td>\n    </tr>\n    <tr>\n      <th>rETH-WETH-BPT</th>\n      <td>base</td>\n      <td>0E-31</td>\n      <td>0E-31</td>\n      <td>0.00</td>\n      <td>0.000</td>\n    </tr>\n    <tr>\n      <th>cbETH/WETH</th>\n      <td>base</td>\n      <td>369.2712928566411746996187733</td>\n      <td>560.3437071433588253003812267</td>\n      <td>1859.23</td>\n      <td>929.615</td>\n    </tr>\n    <tr>\n      <th>B-rETH-STABLE</th>\n      <td>mainnet</td>\n      <td>2968.246200345075074060304362</td>\n      <td>4504.108799654924925939695638</td>\n      <td>14944.71</td>\n      <td>7472.355</td>\n    </tr>\n    <tr>\n      <th>swETH-WETH-BPT</th>\n      <td>mainnet</td>\n      <td>993.6558341132335782706909600</td>\n      <td>1507.804165886766421729309040</td>\n      <td>5002.92</td>\n      <td>2501.460</td>\n    </tr>\n    <tr>\n      <th>ECLP-wstETH-cbETH</th>\n      <td>mainnet</td>\n      <td>0E-31</td>\n      <td>0E-31</td>\n      <td>0.00</td>\n      <td>0.000</td>\n    </tr>\n    <tr>\n      <th>20WETH-80ALCX</th>\n      <td>mainnet</td>\n      <td>849.6201087970348401413774622</td>\n      <td>1289.239891202965159858622538</td>\n      <td>4277.72</td>\n      <td>2138.860</td>\n    </tr>\n    <tr>\n      <th>B-staFiETH-WETH-Stable</th>\n      <td>mainnet</td>\n      <td>266.6567624035053803608021454</td>\n      <td>404.6332375964946196391978546</td>\n      <td>1342.58</td>\n      <td>671.290</td>\n    </tr>\n    <tr>\n      <th>GHO/USDT/USDC</th>\n      <td>mainnet</td>\n      <td>0E-31</td>\n      <td>0E-31</td>\n      <td>0.00</td>\n      <td>0.000</td>\n    </tr>\n    <tr>\n      <th>ankrETH/wstETH</th>\n      <td>mainnet</td>\n      <td>371.5533812238269489703107371</td>\n      <td>563.8066187761730510296892629</td>\n      <td>1870.72</td>\n      <td>935.360</td>\n    </tr>\n    <tr>\n      <th>50wstETH-50LDO</th>\n      <td>mainnet</td>\n      <td>121.9993715878034678653210369</td>\n      <td>185.1256284121965321346789631</td>\n      <td>614.25</td>\n      <td>307.125</td>\n    </tr>\n    <tr>\n      <th>50rETH-50BADGER</th>\n      <td>mainnet</td>\n      <td>1615.357084348008765967346399</td>\n      <td>2451.192915651991234032653601</td>\n      <td>8133.10</td>\n      <td>4066.550</td>\n    </tr>\n    <tr>\n      <th>50rETH-50RPL</th>\n      <td>mainnet</td>\n      <td>387.8616732890683698029057885</td>\n      <td>588.5533267109316301970942115</td>\n      <td>1952.83</td>\n      <td>976.415</td>\n    </tr>\n    <tr>\n      <th>STG/USDC</th>\n      <td>mainnet</td>\n      <td>247.1368629494568255023507794</td>\n      <td>375.0131370505431744976492206</td>\n      <td>1244.30</td>\n      <td>622.150</td>\n    </tr>\n    <tr>\n      <th>ECLP-wstETH-wETH</th>\n      <td>mainnet</td>\n      <td>0E-31</td>\n      <td>0E-31</td>\n      <td>0.00</td>\n      <td>0.000</td>\n    </tr>\n    <tr>\n      <th>50wstETH-50ACX</th>\n      <td>mainnet</td>\n      <td>76.09940451585982696393610958</td>\n      <td>115.4755954841401730360638904</td>\n      <td>383.15</td>\n      <td>191.575</td>\n    </tr>\n    <tr>\n      <th>wstETH-WETH-BPT</th>\n      <td>polygon</td>\n      <td>0E-31</td>\n      <td>0E-31</td>\n      <td>0.00</td>\n      <td>0.000</td>\n    </tr>\n    <tr>\n      <th>ECLP-WMATIC-stMATIC</th>\n      <td>polygon</td>\n      <td>295.2772092017186155572087574</td>\n      <td>448.0627907982813844427912426</td>\n      <td>1486.68</td>\n      <td>743.340</td>\n    </tr>\n    <tr>\n      <th>ECLP-WMATIC-MATICX</th>\n      <td>polygon</td>\n      <td>61.12977873389361227446236671</td>\n      <td>92.76022126610638772553763329</td>\n      <td>307.78</td>\n      <td>153.890</td>\n    </tr>\n    <tr>\n      <th>stMATIC-WMATIC-BPT</th>\n      <td>polygon</td>\n      <td>0.4925656353890966223947841622</td>\n      <td>0.7474343646109033776052158378</td>\n      <td>2.48</td>\n      <td>1.240</td>\n    </tr>\n    <tr>\n      <th>maticX-WMATIC-BPT</th>\n      <td>polygon</td>\n      <td>314.2965984133556690090331652</td>\n      <td>476.9234015866443309909668348</td>\n      <td>1582.44</td>\n      <td>791.220</td>\n    </tr>\n  </tbody>\n</table>\n</div>"
     },
     "execution_count": 13,
     "metadata": {},
     "output_type": "execute_result"
    }
   ],
   "source": [
    "from notebooks import calculate_aura_vebal_share\n",
    "\n",
    "aura_vebal_share = calculate_aura_vebal_share(eth_web3, mainnet_block)\n",
    "\n",
    "# Bribes are split per chain and per pool, with each pool getting a share of the bribe proportional to its share of fees\n",
    "# paid by all pools on that chain. For example, if pool A paid 10% of all fees on Arbitrum, it will get 10% of the bribes. That 10% will be distributed between aura and vebal, proportional to their share of the bribe.\n",
    "FEE = Decimal(0.5)  # 50% goes to fees\n",
    "# Let's calculate share of fees paid by each pool on each chain\n",
    "def calc_and_split_bribes(fees: Dict, chain: str) -> Dict[str, Dict]:\n",
    "    pool_bribs = {}\n",
    "    for pool, data in fees.items():\n",
    "        pool_fees = data['bpt_token_fee_in_usd'] + data['token_fees_in_usd']\n",
    "        # Split fees between aura and bal fees\n",
    "        pool_bribs[pool] = {\n",
    "            \"chain\": chain,\n",
    "            \"aura_bribes\": pool_fees * FEE * aura_vebal_share,\n",
    "            \"bal_bribes\": pool_fees * FEE * (1 - aura_vebal_share),\n",
    "            \"pool_total\": pool_fees,\n",
    "            \"fees_taken\": pool_fees * FEE,\n",
    "        }\n",
    "    return pool_bribs\n",
    "mainnet_bribes = calc_and_split_bribes(mainnet_fees, 'mainnet')\n",
    "arb_bribes = calc_and_split_bribes(arb_fees, 'arbitrum')\n",
    "polygon_bribes = calc_and_split_bribes(polygon_fees, 'polygon')\n",
    "base_bribes = calc_and_split_bribes(base_fees, 'base')\n",
    "# Convert to dataframe\n",
    "joint_bribes_data = {**arb_bribes, **mainnet_bribes, **polygon_bribes, **base_bribes}\n",
    "# Sort by chain:\n",
    "joint_bribes_data = {k: v for k, v in sorted(joint_bribes_data.items(), key=lambda item: item[1]['chain'])}\n",
    "joint_bribes_df = pd.DataFrame.from_dict(joint_bribes_data, orient='index')\n",
    "# Sort by chain\n",
    "# Dump into csv and prefix with dates\n",
    "joint_bribes_df.to_csv(f'../data/bribs/bribes_{arb_datetime_2_weeks_ago.date()}_{arb_datetime_now.date()}.csv')\n",
    "joint_bribes_df"
   ],
   "metadata": {
    "collapsed": false,
    "ExecuteTime": {
     "end_time": "2023-09-15T12:49:35.038226Z",
     "start_time": "2023-09-15T12:49:34.172372Z"
    }
   },
   "id": "efdef306c522076a"
  }
 ],
 "metadata": {
  "kernelspec": {
   "display_name": "Python 3",
   "language": "python",
   "name": "python3"
  },
  "language_info": {
   "codemirror_mode": {
    "name": "ipython",
    "version": 2
   },
   "file_extension": ".py",
   "mimetype": "text/x-python",
   "name": "python",
   "nbconvert_exporter": "python",
   "pygments_lexer": "ipython2",
   "version": "2.7.6"
  }
 },
 "nbformat": 4,
 "nbformat_minor": 5
}
