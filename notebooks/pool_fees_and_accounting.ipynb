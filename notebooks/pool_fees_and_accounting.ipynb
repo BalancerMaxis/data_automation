{
 "cells": [
  {
   "cell_type": "markdown",
   "source": [
    "## Collecting protocol fees across Balancer core pools on all networks\n",
    "Spreadsheet as reference: https://docs.google.com/spreadsheets/d/1xwUPpbYq7woVOU9vQ8EB8MY75I-1mauTLyDVwvKUDKo/edit#gid=0\n",
    "Collab: https://colab.research.google.com/drive/1vKCvcV5mkL1zwW3565kLSGkBEbt8NsoB?usp=sharing\n"
   ],
   "metadata": {
    "collapsed": false
   },
   "id": "e739385af75b2478"
  },
  {
   "cell_type": "code",
   "execution_count": null,
   "outputs": [],
   "source": [
    "# Query:\n",
    "POOLS_SNAPSHOTS_QUERY = \"\"\"\n",
    "{{\n",
    "  poolSnapshots(\n",
    "    first: {first}\n",
    "    skip: {skip}\n",
    "    orderBy: timestamp\n",
    "    orderDirection: desc\n",
    "    block: {{ number: {block} }}\n",
    "  ) {{\n",
    "    pool {{\n",
    "      address\n",
    "      id\n",
    "      symbol\n",
    "    }}\n",
    "    timestamp\n",
    "    protocolFee\n",
    "    swapFees\n",
    "    swapVolume\n",
    "    liquidity\n",
    "  }}\n",
    "}}\n",
    "\"\"\""
   ],
   "metadata": {
    "collapsed": false
   },
   "id": "abc722b4fa453b5a"
  },
  {
   "cell_type": "code",
   "execution_count": null,
   "outputs": [],
   "source": [
    "\n",
    "from datetime import datetime\n",
    "from datetime import timedelta\n",
    "from typing import Dict\n",
    "from typing import List\n",
    "from typing import Optional\n",
    "\n",
    "from gql import Client\n",
    "from gql import gql\n",
    "from gql.transport.requests import RequestsHTTPTransport\n",
    "\n",
    "BALANCER_GRAPH_URL = \"https://api.thegraph.com/subgraphs/name/balancer-labs/balancer-arbitrum-v2\"\n",
    "\n",
    "# Start date and end date are the following: start date is always previous Thursday 00:00 UTC, end date is always this Thursday 00:00 UTC:\n",
    "today = datetime.today()\n",
    "# Calculate days until previous Thursday (0 = Monday, 3 = Thursday)\n",
    "days_until_previous_thursday = (today.weekday() - 3) % 7\n",
    "# Calculate start date by subtracting days_until_previous_thursday and setting time to 00:00\n",
    "start_date = today - timedelta(days=days_until_previous_thursday, hours=today.hour, minutes=today.minute,\n",
    "                               seconds=today.second, microseconds=today.microsecond)\n",
    "# Calculate end date by adding 7 days to the start date\n",
    "end_date = start_date + timedelta(days=7)\n",
    "\n",
    "start_ts = int(start_date.timestamp())\n",
    "end_ts = int(end_date.timestamp())\n",
    "\n",
    "\n",
    "# Fetch all the data from the balancer subgraph\n",
    "def make_gql_client(url: str) -> Optional[Client]:\n",
    "    transport = RequestsHTTPTransport(url=url, retries=3)\n",
    "    return Client(\n",
    "        transport=transport, fetch_schema_from_transport=True, execute_timeout=60\n",
    "    )\n",
    "\n",
    "\n",
    "def get_balancer_pool_snapshots() -> Optional[List[Dict]]:\n",
    "    client = make_gql_client(BALANCER_GRAPH_URL)\n",
    "    all_pools = []\n",
    "    limit = 100\n",
    "    offset = 0\n",
    "    while True:\n",
    "        result = client.execute(\n",
    "            gql(POOLS_SNAPSHOTS_QUERY.format(first=limit, skip=offset, start_ts=start_ts, end_ts=end_ts)))\n",
    "        all_pools.extend(result['poolSnapshots'])\n",
    "        offset += limit\n",
    "        if len(result['poolSnapshots']) < limit - 1:\n",
    "            break\n",
    "    return all_pools\n",
    "\n",
    "\n",
    "pool_snapshots = get_balancer_pool_snapshots()"
   ],
   "metadata": {
    "collapsed": false
   },
   "id": "e1e0b8b90f62234c"
  }
 ],
 "metadata": {
  "kernelspec": {
   "display_name": "Python 3",
   "language": "python",
   "name": "python3"
  },
  "language_info": {
   "codemirror_mode": {
    "name": "ipython",
    "version": 2
   },
   "file_extension": ".py",
   "mimetype": "text/x-python",
   "name": "python",
   "nbconvert_exporter": "python",
   "pygments_lexer": "ipython2",
   "version": "2.7.6"
  }
 },
 "nbformat": 4,
 "nbformat_minor": 5
}
