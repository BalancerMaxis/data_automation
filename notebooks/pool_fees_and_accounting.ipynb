{
 "cells": [
  {
   "cell_type": "markdown",
   "source": [
    "## Collecting protocol fees across Balancer core pools on all networks\n",
    "- Spreadsheet as reference: https://docs.google.com/spreadsheets/d/1xwUPpbYq7woVOU9vQ8EB8MY75I-1mauTLyDVwvKUDKo/edit#gid=0\n",
    "- Collab: https://colab.research.google.com/drive/1vKCvcV5mkL1zwW3565kLSGkBEbt8NsoB?usp=sharing\n"
   ],
   "metadata": {
    "collapsed": false
   },
   "id": "e739385af75b2478"
  },
  {
   "cell_type": "code",
   "execution_count": 7,
   "outputs": [
    {
     "name": "stdout",
     "output_type": "stream",
     "text": [
      "ARBITRUM\n",
      "Pool wasn't created at the block number\n",
      "None\n",
      "1754.597908209454420757718353\n",
      "Pool wasn't created at the block number\n",
      "None\n",
      "Pool wasn't created at the block number\n",
      "None\n",
      "1.264576957037256764606735381\n",
      "Pool wasn't created at the block number\n",
      "None\n",
      "Pool wasn't created at the block number\n",
      "None\n",
      "MAINNET\n",
      "Pool wasn't created at the block number\n",
      "None\n",
      "1785.910058109186289841243072\n",
      "Pool wasn't created at the block number\n",
      "None\n",
      "Pool wasn't created at the block number\n",
      "None\n",
      "Pool wasn't created at the block number\n",
      "None\n",
      "30.09523350749633653916419923\n",
      "1751.025369754485812445012438\n",
      "Pool wasn't created at the block number\n",
      "None\n",
      "1746.106481685917550356867449\n",
      "59.32538906603669817662975698\n",
      "62.11761019120373965328023306\n",
      "276.6688493095790426885881111\n",
      "0.7522628056713356709384671248\n",
      "1748.248715749615811213783619\n",
      "9.377604724756727074175137664\n",
      "POLYGON\n",
      "Pool wasn't created at the block number\n",
      "None\n",
      "Pool wasn't created at the block number\n",
      "None\n",
      "Pool wasn't created at the block number\n",
      "None\n",
      "Pool wasn't created at the block number\n",
      "None\n",
      "Pool wasn't created at the block number\n",
      "None\n"
     ]
    }
   ],
   "source": [
    "import datetime\n",
    "import os\n",
    "\n",
    "from dotenv import load_dotenv\n",
    "from web3 import Web3\n",
    "from web3.middleware import geth_poa_middleware\n",
    "\n",
    "from notebooks import get_twap_bpt_price\n",
    "from notebooks import get_block_by_ts\n",
    "from notebooks.constants import ARB_CORE_POOLS\n",
    "from notebooks.constants import MAINNET_CORE_POOLS\n",
    "from notebooks.constants import POLYGON_CORE_POOLS\n",
    "\n",
    "load_dotenv()\n",
    "arb_web3 = Web3(Web3.HTTPProvider(os.environ[\"ARBNODEURL\"]))\n",
    "eth_web3 = Web3(Web3.HTTPProvider(os.environ[\"ETHNODEURL\"]))\n",
    "poly_web3 = Web3(Web3.HTTPProvider(\"https://polygon-rpc.com\"))\n",
    "poly_web3.middleware_onion.inject(geth_poa_middleware, layer=0)\n",
    "\n",
    "# ARBITRUM\n",
    "# arb_block_now = arb_web3.eth.block_number - 1000\n",
    "timestamp_now = 1687478400\n",
    "arb_block = get_block_by_ts(timestamp_now, \"arbitrum\")  # 18 August 2023\n",
    "# Given Arb block time, we want to look back 2 weeks:\n",
    "arb_timestamp_2_weeks_ago = timestamp_now - (2 * 7 * 24 * 60 * 60)\n",
    "arb_block_2_weeks_ago = get_block_by_ts(arb_timestamp_2_weeks_ago, \"arbitrum\")\n",
    "# Convert to datetime:\n",
    "arb_datetime_now = datetime.datetime.fromtimestamp(timestamp_now)\n",
    "arb_datetime_2_weeks_ago = datetime.datetime.fromtimestamp(arb_timestamp_2_weeks_ago)\n",
    "# MAINNET\n",
    "mainnet_block = get_block_by_ts(timestamp_now, \"mainnet\")\n",
    "# Given mainnet block time, we want to look back 2 weeks:\n",
    "mainnet_timestamp_2_weeks_ago = arb_timestamp_2_weeks_ago\n",
    "mainnet_block_2_weeks_ago = get_block_by_ts(mainnet_timestamp_2_weeks_ago, \"mainnet\")\n",
    "# Convert to datetime:\n",
    "mainnet_datetime_now = datetime.datetime.fromtimestamp(timestamp_now)\n",
    "mainnet_datetime_2_weeks_ago = datetime.datetime.fromtimestamp(mainnet_timestamp_2_weeks_ago)\n",
    "\n",
    "# POLYGON\n",
    "poly_block = get_block_by_ts(timestamp_now, \"polygon\")\n",
    "# Given polygon block time, we want to look back 2 weeks:\n",
    "poly_timestamp_2_weeks_ago = arb_timestamp_2_weeks_ago\n",
    "poly_block_2_weeks_ago = get_block_by_ts(poly_timestamp_2_weeks_ago, \"polygon\")\n",
    "# Convert to datetime:\n",
    "poly_datetime_now = datetime.datetime.fromtimestamp(timestamp_now)\n",
    "poly_datetime_2_weeks_ago = datetime.datetime.fromtimestamp(poly_timestamp_2_weeks_ago)\n",
    "\n",
    "print(\"ARBITRUM\")\n",
    "arb_bpt_twap_prices = {}\n",
    "for arb_pool in ARB_CORE_POOLS:\n",
    "    arb_bpt_twap_prices[arb_pool] = get_twap_bpt_price(arb_pool, 'arbitrum', arb_web3, start_date=arb_datetime_now.date(),\n",
    "                                                       block_number=arb_block)\n",
    "    print(arb_bpt_twap_prices[arb_pool])\n",
    "\n",
    "print(\"MAINNET\")\n",
    "mainnet_bpt_twap_prices = {}\n",
    "for mainnet_pool in MAINNET_CORE_POOLS:\n",
    "    mainnet_bpt_twap_prices[mainnet_pool] = get_twap_bpt_price(mainnet_pool, 'mainnet', eth_web3,\n",
    "                                                               start_date=mainnet_datetime_now.date(),\n",
    "                                                               block_number=mainnet_block)\n",
    "    print(mainnet_bpt_twap_prices[mainnet_pool])\n",
    "\n",
    "print(\"POLYGON\")\n",
    "polygon_bpt_twap_prices = {}\n",
    "for polygon_pool in POLYGON_CORE_POOLS:\n",
    "    polygon_bpt_twap_prices[polygon_pool] = get_twap_bpt_price(polygon_pool, 'polygon', poly_web3,\n",
    "                                                               start_date=poly_datetime_now.date(), block_number=poly_block)\n",
    "    print(polygon_bpt_twap_prices[polygon_pool])\n"
   ],
   "metadata": {
    "collapsed": false,
    "ExecuteTime": {
     "end_time": "2023-09-11T12:07:16.448666Z",
     "start_time": "2023-09-11T12:05:55.756754Z"
    }
   },
   "id": "39d87004addaae1b"
  },
  {
   "cell_type": "code",
   "execution_count": 8,
   "outputs": [],
   "source": [
    "# Query:\n",
    "POOLS_SNAPSHOTS_QUERY = \"\"\"\n",
    "{{\n",
    "  poolSnapshots(\n",
    "    first: {first}\n",
    "    skip: {skip}\n",
    "    orderBy: timestamp\n",
    "    orderDirection: desc\n",
    "    block: {{ number: {block} }}\n",
    "    where: {{ protocolFee_not: null }}\n",
    "  ) {{\n",
    "    pool {{\n",
    "      address\n",
    "      id\n",
    "      symbol\n",
    "      totalProtocolFeePaidInBPT\n",
    "      tokens {{\n",
    "        symbol\n",
    "        address\n",
    "        paidProtocolFees\n",
    "      }}\n",
    "    }}\n",
    "    timestamp\n",
    "    protocolFee\n",
    "    swapFees\n",
    "    swapVolume\n",
    "    liquidity\n",
    "  }}\n",
    "}}\n",
    "\"\"\""
   ],
   "metadata": {
    "collapsed": false,
    "ExecuteTime": {
     "end_time": "2023-09-11T12:07:16.458088Z",
     "start_time": "2023-09-11T12:07:16.450586Z"
    }
   },
   "id": "abc722b4fa453b5a"
  },
  {
   "cell_type": "markdown",
   "source": [
    "## Fetching data from the Balancer subgraphs"
   ],
   "metadata": {
    "collapsed": false
   },
   "id": "cde5ffca807e3849"
  },
  {
   "cell_type": "code",
   "execution_count": 9,
   "outputs": [],
   "source": [
    "from notebooks.constants import POLYGON_BALANCER_GRAPH_URL\n",
    "from notebooks.constants import ARB_BALANCER_GRAPH_URL\n",
    "from notebooks.constants import MAINNET_BALANCER_GRAPH_URL\n",
    "from typing import Dict\n",
    "from typing import List\n",
    "from typing import Optional\n",
    "\n",
    "from gql import Client\n",
    "from gql import gql\n",
    "from gql.transport.requests import RequestsHTTPTransport\n",
    "import pandas as pd\n",
    "\n",
    "\n",
    "# Fetch all the data from the balancer subgraph\n",
    "def make_gql_client(url: str) -> Optional[Client]:\n",
    "    transport = RequestsHTTPTransport(url=url, retries=3)\n",
    "    return Client(\n",
    "        transport=transport, fetch_schema_from_transport=True, execute_timeout=60\n",
    "    )\n",
    "\n",
    "\n",
    "def get_balancer_pool_snapshots(block: int, graph_url: str) -> Optional[List[Dict]]:\n",
    "    client = make_gql_client(graph_url)\n",
    "    all_pools = []\n",
    "    limit = 1000\n",
    "    offset = 0\n",
    "    while True:\n",
    "        result = client.execute(\n",
    "            gql(POOLS_SNAPSHOTS_QUERY.format(first=limit, skip=offset, block=block)))\n",
    "        all_pools.extend(result['poolSnapshots'])\n",
    "        offset += limit\n",
    "        if offset >= 5000:\n",
    "            break\n",
    "        if len(result['poolSnapshots']) < limit - 1:\n",
    "            break\n",
    "    return all_pools\n",
    "\n",
    "\n",
    "arbi_pool_snapshots_now = get_balancer_pool_snapshots(arb_block, ARB_BALANCER_GRAPH_URL)\n",
    "arbi_pool_snapshots_2_weeks_ago = get_balancer_pool_snapshots(int(arb_block_2_weeks_ago), ARB_BALANCER_GRAPH_URL)\n",
    "\n",
    "mainnet_pool_snapshots_now = get_balancer_pool_snapshots(mainnet_block, MAINNET_BALANCER_GRAPH_URL)\n",
    "mainnet_pool_snapshots_2_weeks_ago = get_balancer_pool_snapshots(int(mainnet_block_2_weeks_ago),\n",
    "                                                                 MAINNET_BALANCER_GRAPH_URL)\n",
    "\n",
    "polygon_pool_snapshots_now = get_balancer_pool_snapshots(poly_block, POLYGON_BALANCER_GRAPH_URL)\n",
    "polygon_pool_snapshots_2_weeks_ago = get_balancer_pool_snapshots(int(poly_block_2_weeks_ago),\n",
    "                                                                 POLYGON_BALANCER_GRAPH_URL)"
   ],
   "metadata": {
    "collapsed": false,
    "ExecuteTime": {
     "end_time": "2023-09-11T12:08:06.145047Z",
     "start_time": "2023-09-11T12:07:16.459139Z"
    }
   },
   "id": "e1e0b8b90f62234c"
  },
  {
   "cell_type": "markdown",
   "source": [
    "## Extract fee data from CORE pools:\n"
   ],
   "metadata": {
    "collapsed": false
   },
   "id": "d5333a7de445454d"
  },
  {
   "cell_type": "code",
   "execution_count": 10,
   "outputs": [],
   "source": [
    "from collections import defaultdict\n",
    "from decimal import Decimal\n",
    "from notebooks import fetch_token_price_balgql\n",
    "\n",
    "\n",
    "def collect_fee_info(pools: list[str], chain: str, pools_now: list[dict], pools_shifted: list[dict],\n",
    "                     start_date: datetime.date) -> tuple[dict, dict]:\n",
    "    # Iterate through snapshots now and 2 weeks ago and extract fee data, by subtracting today's fee data from 2 weeks ago\n",
    "    # and then summing across all pools\n",
    "    fees = {}\n",
    "    token_fees = defaultdict(list)\n",
    "    for pool in pools:\n",
    "        current_fees_snapshots = [x for x in pools_now if x['pool']['id'] == pool]\n",
    "        current_fees_snapshots.sort(key=lambda x: x['timestamp'], reverse=True)\n",
    "        fees_2_weeks_ago = [x for x in pools_shifted if x['pool']['id'] == pool]\n",
    "        fees_2_weeks_ago.sort(key=lambda x: x['timestamp'], reverse=True)\n",
    "        # Take first element of list, which is the most recent snapshot\n",
    "        if not current_fees_snapshots or not fees_2_weeks_ago:\n",
    "            continue\n",
    "        pool_snapshot_now = current_fees_snapshots[0]\n",
    "        pool_snapshot_2_weeks_ago = fees_2_weeks_ago[0]\n",
    "        # Calculate fees\n",
    "        pool_fee = float(pool_snapshot_now['protocolFee']) - float(pool_snapshot_2_weeks_ago['protocolFee'])\n",
    "        pool_swap_fee = float(pool_snapshot_now['swapFees']) - float(pool_snapshot_2_weeks_ago['swapFees'])\n",
    "        # Now we need to collect token fee info. Let's start with BPT tokens, which is Balancer pool token. Notice,\n",
    "        # That totalProtocolFeePaidInBPT can be null, so we need to check for that\n",
    "        bpt_token_fee = 0\n",
    "        bpt_price_usd = arb_bpt_twap_prices[pool] if chain == 'arbitrum' else mainnet_bpt_twap_prices[\n",
    "            pool] if chain == 'mainnet' else polygon_bpt_twap_prices[pool]\n",
    "        if bpt_price_usd is None:\n",
    "            bpt_price_usd = 0\n",
    "        if pool_snapshot_now['pool']['totalProtocolFeePaidInBPT'] is not None and pool_snapshot_2_weeks_ago['pool'][\n",
    "            'totalProtocolFeePaidInBPT'] is not None:\n",
    "            bpt_token_fee = float(pool_snapshot_now['pool']['totalProtocolFeePaidInBPT']) - float(\n",
    "                pool_snapshot_2_weeks_ago['pool']['totalProtocolFeePaidInBPT'])\n",
    "            token_fees[pool_snapshot_now['pool']['symbol']].append({\n",
    "                'token': pool_snapshot_now['pool']['symbol'],\n",
    "                'token_fee': bpt_token_fee,\n",
    "                'token_price': bpt_price_usd,\n",
    "                'token_fee_in_usd': Decimal(bpt_token_fee) * bpt_price_usd,\n",
    "                'token_addr': pool_snapshot_now['pool']['address'],\n",
    "                'time_from': arb_datetime_2_weeks_ago,\n",
    "                'time_to': arb_datetime_now,\n",
    "                'chain': chain,\n",
    "            })\n",
    "        # Now collect fee info about fees paid in pool tokens. Pool tokens fee info is in pool.tokens dictionary. This will be separate dictionary\n",
    "        else:\n",
    "            bpt_price_usd = 0\n",
    "            for token_data in pool_snapshot_now['pool']['tokens']:\n",
    "                token_data_2_weeks_ago = \\\n",
    "                    [t for t in pool_snapshot_2_weeks_ago['pool']['tokens'] if t['address'] == token_data['address']][0]\n",
    "                token_fee = float(token_data.get('paidProtocolFees', None)) - float(\n",
    "                    token_data_2_weeks_ago.get('paidProtocolFees', None))\n",
    "                # Get twap token price from CoinGecko\n",
    "                token_price = fetch_token_price_balgql(token_data['address'], chain, start_date) or 0\n",
    "                token_fees[pool_snapshot_now['pool']['symbol']].append({\n",
    "                    'token': token_data['symbol'],\n",
    "                    'token_fee': token_fee,\n",
    "                    'token_price': token_price,\n",
    "                    'token_fee_in_usd': Decimal(token_fee) * token_price if token_price is not None else 0,\n",
    "                    'token_addr': token_data['address'],\n",
    "                    'time_from': arb_datetime_2_weeks_ago,\n",
    "                    'time_to': arb_datetime_now,\n",
    "                    'chain': chain,\n",
    "                })\n",
    "        # Calculate non-BPT fees in USD\n",
    "        fees[pool_snapshot_now['pool']['symbol']] = {\n",
    "            'pool_fee': round(pool_fee, 2),\n",
    "            'swap_fee': round(pool_swap_fee, 2),\n",
    "            'bpt_token_fee': round(bpt_token_fee, 2),\n",
    "            # Get fee in USD by multiplying bpt_token_fee by price of BPT token taken from twap_bpt_price\n",
    "            'bpt_token_fee_in_usd': round(Decimal(bpt_token_fee) * bpt_price_usd, 2),\n",
    "            'token_fees_in_usd': round(sum([x['token_fee_in_usd'] for x in\n",
    "                                      token_fees[pool_snapshot_now['pool']['symbol']]]) if bpt_price_usd == 0 else 0, 2),\n",
    "            'time_from': arb_datetime_2_weeks_ago,\n",
    "            'time_to': arb_datetime_now,\n",
    "            'chain': chain,\n",
    "            'token_fees': token_fees[pool_snapshot_now['pool']['symbol']],\n",
    "        }\n",
    "    return fees\n",
    "\n",
    "\n",
    "arb_fees = collect_fee_info(ARB_CORE_POOLS, 'arbitrum', arbi_pool_snapshots_now,\n",
    "                            arbi_pool_snapshots_2_weeks_ago, arb_datetime_now.date())\n",
    "mainnet_fees = collect_fee_info(MAINNET_CORE_POOLS, 'mainnet', mainnet_pool_snapshots_now,\n",
    "                                mainnet_pool_snapshots_2_weeks_ago, mainnet_datetime_now.date())\n",
    "polygon_fees = collect_fee_info(POLYGON_CORE_POOLS, 'polygon', polygon_pool_snapshots_now,\n",
    "                                polygon_pool_snapshots_2_weeks_ago, poly_datetime_now.date())\n",
    "# Convert to dataframe, sort by chain and pool fee\n",
    "joint_fees = {**arb_fees, **mainnet_fees, **polygon_fees}\n",
    "joint_fees_df = pd.DataFrame.from_dict(joint_fees, orient='index')"
   ],
   "metadata": {
    "collapsed": false,
    "ExecuteTime": {
     "end_time": "2023-09-11T12:08:13.837808Z",
     "start_time": "2023-09-11T12:08:06.157632Z"
    }
   },
   "id": "e79b2f6a4ead2cad"
  },
  {
   "cell_type": "code",
   "execution_count": 11,
   "outputs": [
    {
     "data": {
      "text/plain": "                        pool_fee  swap_fee  bpt_token_fee  \\\nB-rETH-STABLE           25208.10   3052.45           0.00   \n50rETH-50BADGER          4280.64   1770.46          69.14   \nB-staFiETH-WETH-Stable   3329.86   2490.60           0.00   \nwbETH-wstETH             3006.23     50.13           1.62   \n50rETH-50RPL             2851.95   2846.81          10.67   \n20WETH-80ALCX            2134.51   3384.73          57.58   \n50wstETH-50ACX           1646.27   1236.54         174.54   \nankrETH/wstETH           1597.73    877.25           0.00   \n50wstETH-50LDO            624.67    939.73          10.34   \n50STG-50bbaUSD            304.92  18668.04         385.06   \nRDNT-WETH                9044.49  52016.83       22637.07   \nB-wstETH-WETH-Stable     4485.24    186.03           0.00   \n\n                       bpt_token_fee_in_usd token_fees_in_usd  \\\nB-rETH-STABLE                          0.00          25130.13   \n50rETH-50BADGER                     4294.69                 0   \nB-staFiETH-WETH-Stable                 0.00           3299.51   \nwbETH-wstETH                        2837.08                 0   \n50rETH-50RPL                        2951.02                 0   \n20WETH-80ALCX                       1732.97                 0   \n50wstETH-50ACX                      1636.80                 0   \nankrETH/wstETH                         0.00              0.00   \n50wstETH-50LDO                       613.33                 0   \n50STG-50bbaUSD                       289.67                 0   \nRDNT-WETH                          28626.31                 0   \nB-wstETH-WETH-Stable                   0.00           4378.61   \n\n                                 time_from             time_to     chain  \nB-rETH-STABLE          2023-06-09 03:00:00 2023-06-23 03:00:00   mainnet  \n50rETH-50BADGER        2023-06-09 03:00:00 2023-06-23 03:00:00   mainnet  \nB-staFiETH-WETH-Stable 2023-06-09 03:00:00 2023-06-23 03:00:00   mainnet  \nwbETH-wstETH           2023-06-09 03:00:00 2023-06-23 03:00:00   mainnet  \n50rETH-50RPL           2023-06-09 03:00:00 2023-06-23 03:00:00   mainnet  \n20WETH-80ALCX          2023-06-09 03:00:00 2023-06-23 03:00:00   mainnet  \n50wstETH-50ACX         2023-06-09 03:00:00 2023-06-23 03:00:00   mainnet  \nankrETH/wstETH         2023-06-09 03:00:00 2023-06-23 03:00:00   mainnet  \n50wstETH-50LDO         2023-06-09 03:00:00 2023-06-23 03:00:00   mainnet  \n50STG-50bbaUSD         2023-06-09 03:00:00 2023-06-23 03:00:00   mainnet  \nRDNT-WETH              2023-06-09 03:00:00 2023-06-23 03:00:00  arbitrum  \nB-wstETH-WETH-Stable   2023-06-09 03:00:00 2023-06-23 03:00:00  arbitrum  ",
      "text/html": "<div>\n<style scoped>\n    .dataframe tbody tr th:only-of-type {\n        vertical-align: middle;\n    }\n\n    .dataframe tbody tr th {\n        vertical-align: top;\n    }\n\n    .dataframe thead th {\n        text-align: right;\n    }\n</style>\n<table border=\"1\" class=\"dataframe\">\n  <thead>\n    <tr style=\"text-align: right;\">\n      <th></th>\n      <th>pool_fee</th>\n      <th>swap_fee</th>\n      <th>bpt_token_fee</th>\n      <th>bpt_token_fee_in_usd</th>\n      <th>token_fees_in_usd</th>\n      <th>time_from</th>\n      <th>time_to</th>\n      <th>chain</th>\n    </tr>\n  </thead>\n  <tbody>\n    <tr>\n      <th>B-rETH-STABLE</th>\n      <td>25208.10</td>\n      <td>3052.45</td>\n      <td>0.00</td>\n      <td>0.00</td>\n      <td>25130.13</td>\n      <td>2023-06-09 03:00:00</td>\n      <td>2023-06-23 03:00:00</td>\n      <td>mainnet</td>\n    </tr>\n    <tr>\n      <th>50rETH-50BADGER</th>\n      <td>4280.64</td>\n      <td>1770.46</td>\n      <td>69.14</td>\n      <td>4294.69</td>\n      <td>0</td>\n      <td>2023-06-09 03:00:00</td>\n      <td>2023-06-23 03:00:00</td>\n      <td>mainnet</td>\n    </tr>\n    <tr>\n      <th>B-staFiETH-WETH-Stable</th>\n      <td>3329.86</td>\n      <td>2490.60</td>\n      <td>0.00</td>\n      <td>0.00</td>\n      <td>3299.51</td>\n      <td>2023-06-09 03:00:00</td>\n      <td>2023-06-23 03:00:00</td>\n      <td>mainnet</td>\n    </tr>\n    <tr>\n      <th>wbETH-wstETH</th>\n      <td>3006.23</td>\n      <td>50.13</td>\n      <td>1.62</td>\n      <td>2837.08</td>\n      <td>0</td>\n      <td>2023-06-09 03:00:00</td>\n      <td>2023-06-23 03:00:00</td>\n      <td>mainnet</td>\n    </tr>\n    <tr>\n      <th>50rETH-50RPL</th>\n      <td>2851.95</td>\n      <td>2846.81</td>\n      <td>10.67</td>\n      <td>2951.02</td>\n      <td>0</td>\n      <td>2023-06-09 03:00:00</td>\n      <td>2023-06-23 03:00:00</td>\n      <td>mainnet</td>\n    </tr>\n    <tr>\n      <th>20WETH-80ALCX</th>\n      <td>2134.51</td>\n      <td>3384.73</td>\n      <td>57.58</td>\n      <td>1732.97</td>\n      <td>0</td>\n      <td>2023-06-09 03:00:00</td>\n      <td>2023-06-23 03:00:00</td>\n      <td>mainnet</td>\n    </tr>\n    <tr>\n      <th>50wstETH-50ACX</th>\n      <td>1646.27</td>\n      <td>1236.54</td>\n      <td>174.54</td>\n      <td>1636.80</td>\n      <td>0</td>\n      <td>2023-06-09 03:00:00</td>\n      <td>2023-06-23 03:00:00</td>\n      <td>mainnet</td>\n    </tr>\n    <tr>\n      <th>ankrETH/wstETH</th>\n      <td>1597.73</td>\n      <td>877.25</td>\n      <td>0.00</td>\n      <td>0.00</td>\n      <td>0.00</td>\n      <td>2023-06-09 03:00:00</td>\n      <td>2023-06-23 03:00:00</td>\n      <td>mainnet</td>\n    </tr>\n    <tr>\n      <th>50wstETH-50LDO</th>\n      <td>624.67</td>\n      <td>939.73</td>\n      <td>10.34</td>\n      <td>613.33</td>\n      <td>0</td>\n      <td>2023-06-09 03:00:00</td>\n      <td>2023-06-23 03:00:00</td>\n      <td>mainnet</td>\n    </tr>\n    <tr>\n      <th>50STG-50bbaUSD</th>\n      <td>304.92</td>\n      <td>18668.04</td>\n      <td>385.06</td>\n      <td>289.67</td>\n      <td>0</td>\n      <td>2023-06-09 03:00:00</td>\n      <td>2023-06-23 03:00:00</td>\n      <td>mainnet</td>\n    </tr>\n    <tr>\n      <th>RDNT-WETH</th>\n      <td>9044.49</td>\n      <td>52016.83</td>\n      <td>22637.07</td>\n      <td>28626.31</td>\n      <td>0</td>\n      <td>2023-06-09 03:00:00</td>\n      <td>2023-06-23 03:00:00</td>\n      <td>arbitrum</td>\n    </tr>\n    <tr>\n      <th>B-wstETH-WETH-Stable</th>\n      <td>4485.24</td>\n      <td>186.03</td>\n      <td>0.00</td>\n      <td>0.00</td>\n      <td>4378.61</td>\n      <td>2023-06-09 03:00:00</td>\n      <td>2023-06-23 03:00:00</td>\n      <td>arbitrum</td>\n    </tr>\n  </tbody>\n</table>\n</div>"
     },
     "execution_count": 11,
     "metadata": {},
     "output_type": "execute_result"
    }
   ],
   "source": [
    "# Remove `token_fees` field from dataframe, as it's too big\n",
    "joint_fees_df_copy = joint_fees_df.drop(columns=['token_fees'])\n",
    "# Display all rows in dataframe\n",
    "pd.set_option('display.max_rows', 1000)\n",
    "joint_fees_df_copy.sort_values(by=['chain', 'pool_fee'], ascending=False)"
   ],
   "metadata": {
    "collapsed": false,
    "ExecuteTime": {
     "end_time": "2023-09-11T12:08:13.847552Z",
     "start_time": "2023-09-11T12:08:13.845198Z"
    }
   },
   "id": "52fccc19e5e6b4f2"
  },
  {
   "cell_type": "markdown",
   "source": [
    "## Now let's calculate bribes paid to the pools"
   ],
   "metadata": {
    "collapsed": false
   },
   "id": "97a5370819f28ffc"
  },
  {
   "cell_type": "code",
   "execution_count": 12,
   "outputs": [
    {
     "data": {
      "text/plain": "                           chain                    aura_bribes  \\\nB-wstETH-WETH-Stable    arbitrum  711.3138254616805087310042276   \nRDNT-WETH               arbitrum  4650.400486673158688234721437   \nB-rETH-STABLE            mainnet  4082.439154126387415841162211   \n20WETH-80ALCX            mainnet  281.5243924693746351503258788   \nB-staFiETH-WETH-Stable   mainnet  536.0119033778001364275502406   \nankrETH/wstETH           mainnet                          0E-31   \n50wstETH-50LDO           mainnet  99.63666747447534866544104703   \n50rETH-50BADGER          mainnet  697.6808560415347939282001700   \n50rETH-50RPL             mainnet  479.3990159465968457741995966   \n50STG-50bbaUSD           mainnet  47.05746248729276938665695155   \nwbETH-wstETH             mainnet  460.8892383520853736027089588   \n50wstETH-50ACX           mainnet  265.9013864024607482034042127   \n\n                                           bal_bribes pool_total fees_taken  \nB-wstETH-WETH-Stable    1477.991174538319491268995772    4378.61   2189.305  \nRDNT-WETH               9662.754513326841311765278563   28626.31  14313.155  \nB-rETH-STABLE           8482.625845873612584158837789   25130.13  12565.065  \n20WETH-80ALCX           584.9606075306253648496741212    1732.97    866.485  \nB-staFiETH-WETH-Stable  1113.743096622199863572449759    3299.51   1649.755  \nankrETH/wstETH                                  0E-31       0.00      0.000  \n50wstETH-50LDO          207.0283325255246513345589530     613.33    306.665  \n50rETH-50BADGER         1449.664143958465206071799830    4294.69   2147.345  \n50rETH-50RPL            996.1109840534031542258004034    2951.02   1475.510  \n50STG-50bbaUSD          97.77753751270723061334304845     289.67    144.835  \nwbETH-wstETH            957.6507616479146263972910412    2837.08   1418.540  \n50wstETH-50ACX          552.4986135975392517965957873    1636.80    818.400  ",
      "text/html": "<div>\n<style scoped>\n    .dataframe tbody tr th:only-of-type {\n        vertical-align: middle;\n    }\n\n    .dataframe tbody tr th {\n        vertical-align: top;\n    }\n\n    .dataframe thead th {\n        text-align: right;\n    }\n</style>\n<table border=\"1\" class=\"dataframe\">\n  <thead>\n    <tr style=\"text-align: right;\">\n      <th></th>\n      <th>chain</th>\n      <th>aura_bribes</th>\n      <th>bal_bribes</th>\n      <th>pool_total</th>\n      <th>fees_taken</th>\n    </tr>\n  </thead>\n  <tbody>\n    <tr>\n      <th>B-wstETH-WETH-Stable</th>\n      <td>arbitrum</td>\n      <td>711.3138254616805087310042276</td>\n      <td>1477.991174538319491268995772</td>\n      <td>4378.61</td>\n      <td>2189.305</td>\n    </tr>\n    <tr>\n      <th>RDNT-WETH</th>\n      <td>arbitrum</td>\n      <td>4650.400486673158688234721437</td>\n      <td>9662.754513326841311765278563</td>\n      <td>28626.31</td>\n      <td>14313.155</td>\n    </tr>\n    <tr>\n      <th>B-rETH-STABLE</th>\n      <td>mainnet</td>\n      <td>4082.439154126387415841162211</td>\n      <td>8482.625845873612584158837789</td>\n      <td>25130.13</td>\n      <td>12565.065</td>\n    </tr>\n    <tr>\n      <th>20WETH-80ALCX</th>\n      <td>mainnet</td>\n      <td>281.5243924693746351503258788</td>\n      <td>584.9606075306253648496741212</td>\n      <td>1732.97</td>\n      <td>866.485</td>\n    </tr>\n    <tr>\n      <th>B-staFiETH-WETH-Stable</th>\n      <td>mainnet</td>\n      <td>536.0119033778001364275502406</td>\n      <td>1113.743096622199863572449759</td>\n      <td>3299.51</td>\n      <td>1649.755</td>\n    </tr>\n    <tr>\n      <th>ankrETH/wstETH</th>\n      <td>mainnet</td>\n      <td>0E-31</td>\n      <td>0E-31</td>\n      <td>0.00</td>\n      <td>0.000</td>\n    </tr>\n    <tr>\n      <th>50wstETH-50LDO</th>\n      <td>mainnet</td>\n      <td>99.63666747447534866544104703</td>\n      <td>207.0283325255246513345589530</td>\n      <td>613.33</td>\n      <td>306.665</td>\n    </tr>\n    <tr>\n      <th>50rETH-50BADGER</th>\n      <td>mainnet</td>\n      <td>697.6808560415347939282001700</td>\n      <td>1449.664143958465206071799830</td>\n      <td>4294.69</td>\n      <td>2147.345</td>\n    </tr>\n    <tr>\n      <th>50rETH-50RPL</th>\n      <td>mainnet</td>\n      <td>479.3990159465968457741995966</td>\n      <td>996.1109840534031542258004034</td>\n      <td>2951.02</td>\n      <td>1475.510</td>\n    </tr>\n    <tr>\n      <th>50STG-50bbaUSD</th>\n      <td>mainnet</td>\n      <td>47.05746248729276938665695155</td>\n      <td>97.77753751270723061334304845</td>\n      <td>289.67</td>\n      <td>144.835</td>\n    </tr>\n    <tr>\n      <th>wbETH-wstETH</th>\n      <td>mainnet</td>\n      <td>460.8892383520853736027089588</td>\n      <td>957.6507616479146263972910412</td>\n      <td>2837.08</td>\n      <td>1418.540</td>\n    </tr>\n    <tr>\n      <th>50wstETH-50ACX</th>\n      <td>mainnet</td>\n      <td>265.9013864024607482034042127</td>\n      <td>552.4986135975392517965957873</td>\n      <td>1636.80</td>\n      <td>818.400</td>\n    </tr>\n  </tbody>\n</table>\n</div>"
     },
     "execution_count": 12,
     "metadata": {},
     "output_type": "execute_result"
    }
   ],
   "source": [
    "from notebooks import calculate_aura_vebal_share\n",
    "\n",
    "aura_vebal_share = calculate_aura_vebal_share(eth_web3, mainnet_block)\n",
    "\n",
    "# Bribes are split per chain and per pool, with each pool getting a share of the bribe proportional to its share of fees\n",
    "# paid by all pools on that chain. For example, if pool A paid 10% of all fees on Arbitrum, it will get 10% of the bribes. That 10% will be distributed between aura and vebal, proportional to their share of the bribe.\n",
    "FEE = Decimal(0.5)  # 50% goes to fees\n",
    "# Let's calculate share of fees paid by each pool on each chain\n",
    "def calc_and_split_bribes(fees: Dict, chain: str) -> Dict[str, Dict]:\n",
    "    pool_bribs = {}\n",
    "    for pool, data in fees.items():\n",
    "        pool_fees = data['bpt_token_fee_in_usd'] + data['token_fees_in_usd']\n",
    "        # Split fees between aura and bal fees\n",
    "        pool_bribs[pool] = {\n",
    "            \"chain\": chain,\n",
    "            \"aura_bribes\": pool_fees * FEE * aura_vebal_share,\n",
    "            \"bal_bribes\": pool_fees * FEE * (1 - aura_vebal_share),\n",
    "            \"pool_total\": pool_fees,\n",
    "            \"fees_taken\": pool_fees * FEE,\n",
    "        }\n",
    "    return pool_bribs\n",
    "mainnet_bribes = calc_and_split_bribes(mainnet_fees, 'mainnet')\n",
    "arb_bribes = calc_and_split_bribes(arb_fees, 'arbitrum')\n",
    "polygon_bribes = calc_and_split_bribes(polygon_fees, 'polygon')\n",
    "# Convert to dataframe\n",
    "joint_bribes_data = {**arb_bribes, **mainnet_bribes, **polygon_bribes}\n",
    "# Sort by chain:\n",
    "joint_bribes_data = {k: v for k, v in sorted(joint_bribes_data.items(), key=lambda item: item[1]['chain'])}\n",
    "joint_bribes_df = pd.DataFrame.from_dict(joint_bribes_data, orient='index')\n",
    "# Sort by chain\n",
    "# Dump into csv and prefix with dates\n",
    "joint_bribes_df.to_csv(f'../data/bribs/bribes_{arb_datetime_2_weeks_ago.date()}_{arb_datetime_now.date()}.csv')\n",
    "joint_bribes_df"
   ],
   "metadata": {
    "collapsed": false,
    "ExecuteTime": {
     "end_time": "2023-09-11T12:08:14.820358Z",
     "start_time": "2023-09-11T12:08:13.850107Z"
    }
   },
   "id": "efdef306c522076a"
  }
 ],
 "metadata": {
  "kernelspec": {
   "display_name": "Python 3",
   "language": "python",
   "name": "python3"
  },
  "language_info": {
   "codemirror_mode": {
    "name": "ipython",
    "version": 2
   },
   "file_extension": ".py",
   "mimetype": "text/x-python",
   "name": "python",
   "nbconvert_exporter": "python",
   "pygments_lexer": "ipython2",
   "version": "2.7.6"
  }
 },
 "nbformat": 4,
 "nbformat_minor": 5
}
