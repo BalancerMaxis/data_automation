{
 "cells": [
  {
   "cell_type": "markdown",
   "source": [
    "## Collecting protocol fees across Balancer core pools on all networks\n",
    "- Spreadsheet as reference: https://docs.google.com/spreadsheets/d/1xwUPpbYq7woVOU9vQ8EB8MY75I-1mauTLyDVwvKUDKo/edit#gid=0\n",
    "- Collab: https://colab.research.google.com/drive/1vKCvcV5mkL1zwW3565kLSGkBEbt8NsoB?usp=sharing\n"
   ],
   "metadata": {
    "collapsed": false
   },
   "id": "e739385af75b2478"
  },
  {
   "cell_type": "code",
   "execution_count": 79,
   "outputs": [],
   "source": [
    "# Define constants for Arbitrum:\n",
    "ARB_CORE_POOLS = [\n",
    "    \"0xbe0f30217be1e981add883848d0773a86d2d2cd4000000000000000000000471\",\n",
    "    \"0x36bf227d6bac96e2ab1ebb5492ecec69c691943f000200000000000000000316\",\n",
    "    \"0x4a2f6ae7f3e5d715689530873ec35593dc28951b000000000000000000000481\",\n",
    "    \"0xc6eee8cb7643ec2f05f46d569e9ec8ef8b41b389000000000000000000000475\",\n",
    "    \"0x32df62dc3aed2cd6224193052ce665dc181658410002000000000000000003bd\",\n",
    "    \"0x45c4d1376943ab28802b995acffc04903eb5223f000000000000000000000470\",\n",
    "    \"0x9cebf13bb702f253abf1579294694a1edad00eaa000000000000000000000486\",\n",
    "]\n",
    "ARB_BALANCER_GRAPH_URL = \"https://api.thegraph.com/subgraphs/name/balancer-labs/balancer-arbitrum-v2\"\n",
    "# Arb block time is .3 seconds\n",
    "ARB_CHAIN_BLOCK_TIME = 0.27\n",
    "\n",
    "MAINNET_CORE_POOLS = [\n",
    "    \"0x41503c9d499ddbd1dcdf818a1b05e9774203bf46000000000000000000000594\",\n",
    "    \"0x1e19cf2d73a72ef1332c882f20534b6519be0276000200000000000000000112\",\n",
    "    \"0xae8535c23afedda9304b03c68a3563b75fc8f92b0000000000000000000005a0\",\n",
    "    \"0x4c81255cc9ed7062180ea99962fe05ac0d57350b0000000000000000000005a3\",\n",
    "    \"0x42ed016f826165c2e5976fe5bc3df540c5ad0af700000000000000000000058b\",\n",
    "    \"0xf16aee6a71af1a9bc8f56975a4c2705ca7a782bc0002000000000000000004bb\",\n",
    "    \"0xb08885e6026bab4333a80024ec25a1a3e1ff2b8a000200000000000000000445\",\n",
    "    \"0xc2b021133d1b0cf07dba696fd5dd89338428225b000000000000000000000598\",\n",
    "    \"0xdfe6e7e18f6cc65fa13c8d8966013d4fda74b6ba000000000000000000000558\",\n",
    "    \"0x5f1f4e50ba51d723f12385a8a9606afc3a0555f5000200000000000000000465\",\n",
    "    \"0x1ee442b5326009bb18f2f472d3e0061513d1a0ff000200000000000000000464\",\n",
    "    \"0x9f9d900462492d4c21e9523ca95a7cd86142f298000200000000000000000462\",\n",
    "    \"0x639883476960a23b38579acfd7d71561a0f408cf000200000000000000000505\",\n",
    "    \"0x2e848426aec6dbf2260535a5bea048ed94d9ff3d000000000000000000000536\",\n",
    "    \"0x36be1e97ea98ab43b4debf92742517266f5731a3000200000000000000000466\",\n",
    "]\n",
    "MAINNET_BALANCER_GRAPH_URL = \"https://api.thegraph.com/subgraphs/name/balancer-labs/balancer-v2\"\n",
    "MAINNET_CHAIN_BLOCK_TIME = 12\n",
    "\n",
    "POLYGON_BALANCER_GRAPH_URL = \"https://api.thegraph.com/subgraphs/name/balancer-labs/balancer-polygon-v2\"\n",
    "# Polygon block time is 2 seconds\n",
    "POLYGON_CHAIN_BLOCK_TIME = 2\n",
    "POLYGON_CORE_POOLS = [\n",
    "    \"0x03090a9811181a2afe830a3a0b467698ccf3a8b1000000000000000000000bf5\",\n",
    "    \"0x9321e2250767d79bab5aa06daa8606a2b3b7b4c5000000000000000000000bf4\",\n",
    "    \"0xac2cae8d2f78a4a8f92f20dbe74042cd0a8d5af3000000000000000000000be2\",\n",
    "    \"0x402cfdb7781fa85d52f425352661128250b79e12000000000000000000000be3\",\n",
    "    \"0xab269164a10fab22bc87c39946da06c870b172d6000000000000000000000bfc\"\n",
    "]"
   ],
   "metadata": {
    "collapsed": false,
    "ExecuteTime": {
     "end_time": "2023-08-21T15:12:22.739067Z",
     "start_time": "2023-08-21T15:12:22.722970Z"
    }
   },
   "id": "39d87004addaae1b"
  },
  {
   "cell_type": "code",
   "execution_count": 80,
   "outputs": [],
   "source": [
    "# Query:\n",
    "POOLS_SNAPSHOTS_QUERY = \"\"\"\n",
    "{{\n",
    "  poolSnapshots(\n",
    "    first: {first}\n",
    "    skip: {skip}\n",
    "    orderBy: timestamp\n",
    "    orderDirection: desc\n",
    "    block: {{ number: {block} }}\n",
    "    where: {{ protocolFee_not: null }}\n",
    "  ) {{\n",
    "    pool {{\n",
    "      address\n",
    "      id\n",
    "      symbol\n",
    "      totalProtocolFeePaidInBPT\n",
    "      tokens {{\n",
    "        symbol\n",
    "        address\n",
    "        paidProtocolFees\n",
    "      }}\n",
    "    }}\n",
    "    timestamp\n",
    "    protocolFee\n",
    "    swapFees\n",
    "    swapVolume\n",
    "    liquidity\n",
    "  }}\n",
    "}}\n",
    "\"\"\""
   ],
   "metadata": {
    "collapsed": false,
    "ExecuteTime": {
     "end_time": "2023-08-21T15:12:22.739949Z",
     "start_time": "2023-08-21T15:12:22.727347Z"
    }
   },
   "id": "abc722b4fa453b5a"
  },
  {
   "cell_type": "markdown",
   "source": [
    "## Fetching data from the Balancer subgraphs"
   ],
   "metadata": {
    "collapsed": false
   },
   "id": "cde5ffca807e3849"
  },
  {
   "cell_type": "code",
   "execution_count": 81,
   "outputs": [],
   "source": [
    "import os\n",
    "import datetime\n",
    "from typing import Dict\n",
    "from typing import List\n",
    "from typing import Optional\n",
    "\n",
    "from dotenv import load_dotenv\n",
    "from gql import Client\n",
    "from gql import gql\n",
    "from gql.transport.requests import RequestsHTTPTransport\n",
    "from web3 import Web3\n",
    "from web3.middleware import geth_poa_middleware\n",
    "\n",
    "load_dotenv()\n",
    "arb_web3 = Web3(Web3.HTTPProvider(os.environ[\"ARBNODEURL\"]))\n",
    "eth_web3 = Web3(Web3.HTTPProvider(os.environ[\"ETHNODEURL\"]))\n",
    "poly_web3 = Web3(Web3.HTTPProvider(\"https://polygon-rpc.com\"))\n",
    "poly_web3.middleware_onion.inject(geth_poa_middleware, layer=0)\n",
    "# ARBITRUM\n",
    "arb_block_now = arb_web3.eth.block_number - 1000\n",
    "arb_timestamp_now = arb_web3.eth.get_block(arb_block_now).timestamp\n",
    "# Given Arb block time, we want to look back 2 weeks:\n",
    "arb_block_2_weeks_ago = arb_block_now - (2 * 7 * 24 * 60 * 60 / ARB_CHAIN_BLOCK_TIME)\n",
    "arb_timestamp_2_weeks_ago = arb_web3.eth.get_block(int(arb_block_2_weeks_ago)).timestamp\n",
    "# Convert to datetime:\n",
    "arb_datetime_now = datetime.datetime.fromtimestamp(arb_timestamp_now)\n",
    "arb_datetime_2_weeks_ago = datetime.datetime.fromtimestamp(arb_timestamp_2_weeks_ago)\n",
    "# MAINNET\n",
    "mainnet_block_now = eth_web3.eth.block_number - 1000\n",
    "mainnet_timestamp_now = eth_web3.eth.get_block(mainnet_block_now).timestamp\n",
    "# Given mainnet block time, we want to look back 2 weeks:\n",
    "mainnet_block_2_weeks_ago = mainnet_block_now - (2 * 7 * 24 * 60 * 60 / MAINNET_CHAIN_BLOCK_TIME)\n",
    "mainnet_timestamp_2_weeks_ago = eth_web3.eth.get_block(int(mainnet_block_2_weeks_ago)).timestamp\n",
    "# Convert to datetime:\n",
    "mainnet_datetime_now = datetime.datetime.fromtimestamp(mainnet_timestamp_now)\n",
    "mainnet_datetime_2_weeks_ago = datetime.datetime.fromtimestamp(mainnet_timestamp_2_weeks_ago)\n",
    "\n",
    "# POLYGON\n",
    "poly_block_now = poly_web3.eth.block_number - 1000\n",
    "poly_timestamp_now = poly_web3.eth.get_block(poly_block_now).timestamp\n",
    "# Given polygon block time, we want to look back 2 weeks:\n",
    "poly_block_2_weeks_ago = poly_block_now - (2 * 7 * 24 * 60 * 60 / POLYGON_CHAIN_BLOCK_TIME)\n",
    "poly_timestamp_2_weeks_ago = poly_web3.eth.get_block(int(poly_block_2_weeks_ago)).timestamp\n",
    "# Convert to datetime:\n",
    "poly_datetime_now = datetime.datetime.fromtimestamp(poly_timestamp_now)\n",
    "poly_datetime_2_weeks_ago = datetime.datetime.fromtimestamp(poly_timestamp_2_weeks_ago)\n",
    "\n",
    "# Fetch all the data from the balancer subgraph\n",
    "def make_gql_client(url: str) -> Optional[Client]:\n",
    "    transport = RequestsHTTPTransport(url=url, retries=3)\n",
    "    return Client(\n",
    "        transport=transport, fetch_schema_from_transport=True, execute_timeout=60\n",
    "    )\n",
    "\n",
    "\n",
    "def get_balancer_pool_snapshots(block: int, graph_url: str) -> Optional[List[Dict]]:\n",
    "    client = make_gql_client(graph_url)\n",
    "    all_pools = []\n",
    "    limit = 1000\n",
    "    offset = 0\n",
    "    while True:\n",
    "        result = client.execute(\n",
    "            gql(POOLS_SNAPSHOTS_QUERY.format(first=limit, skip=offset, block=block)))\n",
    "        all_pools.extend(result['poolSnapshots'])\n",
    "        offset += limit\n",
    "        if offset >= 5000:\n",
    "            break\n",
    "        if len(result['poolSnapshots']) < limit - 1:\n",
    "            break\n",
    "    return all_pools\n",
    "\n",
    "\n",
    "arbi_pool_snapshots_now = get_balancer_pool_snapshots(arb_block_now, ARB_BALANCER_GRAPH_URL)\n",
    "arbi_pool_snapshots_2_weeks_ago = get_balancer_pool_snapshots(int(arb_block_2_weeks_ago), ARB_BALANCER_GRAPH_URL)\n",
    "\n",
    "mainnet_pool_snapshots_now = get_balancer_pool_snapshots(mainnet_block_now, MAINNET_BALANCER_GRAPH_URL)\n",
    "mainnet_pool_snapshots_2_weeks_ago = get_balancer_pool_snapshots(int(mainnet_block_2_weeks_ago), MAINNET_BALANCER_GRAPH_URL)\n",
    "\n",
    "polygon_pool_snapshots_now = get_balancer_pool_snapshots(poly_block_now, POLYGON_BALANCER_GRAPH_URL)\n",
    "polygon_pool_snapshots_2_weeks_ago = get_balancer_pool_snapshots(int(poly_block_2_weeks_ago), POLYGON_BALANCER_GRAPH_URL)"
   ],
   "metadata": {
    "collapsed": false,
    "ExecuteTime": {
     "end_time": "2023-08-21T15:13:13.259251Z",
     "start_time": "2023-08-21T15:12:22.736499Z"
    }
   },
   "id": "e1e0b8b90f62234c"
  },
  {
   "cell_type": "markdown",
   "source": [
    "## Extract fee data from CORE pools:\n"
   ],
   "metadata": {
    "collapsed": false
   },
   "id": "d5333a7de445454d"
  },
  {
   "cell_type": "code",
   "execution_count": 82,
   "outputs": [
    {
     "data": {
      "text/plain": "                         pool_fee  swap_fee  bpt_token_fee  \\\nMaticX-bb-a-WMATIC-BPT    3067.27    392.82        4702.29   \nstMATIC-bb-a-WMATIC-BPT   2558.17    117.32        3941.08   \nbb-am-usd                    0.01      0.00           0.01   \nwstETH-bb-a-WETH-BPT         0.00      0.02           0.00   \nbb-t-USD                     0.00      0.00           0.00   \nwstETH-rETH-sfrxETH-BPT  32416.59   3717.70          17.66   \nB-rETH-STABLE            30821.25  24234.26           0.00   \n50STG-50bbaUSD           16843.95  25552.93       21987.19   \n50rETH-50BADGER          13748.46  11832.97         198.97   \nswETH-bb-a-WETH-BPT       7682.74     19.57           4.20   \nankrETH/wstETH            6894.09    787.91           3.76   \n50rETH-50RPL              2884.04   3412.60          12.82   \nGHO/bb-a-USD              2719.49   4276.63        2753.90   \nB-staFiETH-WETH-Stable    2634.00   1265.17           0.00   \n50wstETH-50ACX            1455.95   2445.35         142.15   \n20WETH-80ALCX             1146.29   2332.02          42.35   \n50wstETH-50LDO             716.01    245.27          11.81   \ncbETH-bb-a-WETH-BPT         19.32      0.59           0.00   \nwbETH-wstETH                 0.00      0.06           0.00   \nRDNT-WETH                16909.68  31063.53       12813.02   \nB-wstETH-WETH-Stable      4879.98     66.61           0.00   \nbb-a-USD                  3105.90    980.72        3103.00   \nrETH-bb-a-WETH-BPT        1290.54    472.04           0.68   \nbbaUSDC/bbaUSDCe           472.51    629.29         472.04   \nwstETH/rETH/cbETH          441.26    317.14           0.00   \n\n                                  time_from             time_to     chain  \nMaticX-bb-a-WMATIC-BPT  2023-08-07 19:41:11 2023-08-21 18:08:06   polygon  \nstMATIC-bb-a-WMATIC-BPT 2023-08-07 19:41:11 2023-08-21 18:08:06   polygon  \nbb-am-usd               2023-08-07 19:41:11 2023-08-21 18:08:06   polygon  \nwstETH-bb-a-WETH-BPT    2023-08-07 19:41:11 2023-08-21 18:08:06   polygon  \nbb-t-USD                2023-08-07 19:41:11 2023-08-21 18:08:06   polygon  \nwstETH-rETH-sfrxETH-BPT 2023-08-07 19:41:11 2023-08-21 18:08:06   mainnet  \nB-rETH-STABLE           2023-08-07 19:41:11 2023-08-21 18:08:06   mainnet  \n50STG-50bbaUSD          2023-08-07 19:41:11 2023-08-21 18:08:06   mainnet  \n50rETH-50BADGER         2023-08-07 19:41:11 2023-08-21 18:08:06   mainnet  \nswETH-bb-a-WETH-BPT     2023-08-07 19:41:11 2023-08-21 18:08:06   mainnet  \nankrETH/wstETH          2023-08-07 19:41:11 2023-08-21 18:08:06   mainnet  \n50rETH-50RPL            2023-08-07 19:41:11 2023-08-21 18:08:06   mainnet  \nGHO/bb-a-USD            2023-08-07 19:41:11 2023-08-21 18:08:06   mainnet  \nB-staFiETH-WETH-Stable  2023-08-07 19:41:11 2023-08-21 18:08:06   mainnet  \n50wstETH-50ACX          2023-08-07 19:41:11 2023-08-21 18:08:06   mainnet  \n20WETH-80ALCX           2023-08-07 19:41:11 2023-08-21 18:08:06   mainnet  \n50wstETH-50LDO          2023-08-07 19:41:11 2023-08-21 18:08:06   mainnet  \ncbETH-bb-a-WETH-BPT     2023-08-07 19:41:11 2023-08-21 18:08:06   mainnet  \nwbETH-wstETH            2023-08-07 19:41:11 2023-08-21 18:08:06   mainnet  \nRDNT-WETH               2023-08-07 19:41:11 2023-08-21 18:08:06  arbitrum  \nB-wstETH-WETH-Stable    2023-08-07 19:41:11 2023-08-21 18:08:06  arbitrum  \nbb-a-USD                2023-08-07 19:41:11 2023-08-21 18:08:06  arbitrum  \nrETH-bb-a-WETH-BPT      2023-08-07 19:41:11 2023-08-21 18:08:06  arbitrum  \nbbaUSDC/bbaUSDCe        2023-08-07 19:41:11 2023-08-21 18:08:06  arbitrum  \nwstETH/rETH/cbETH       2023-08-07 19:41:11 2023-08-21 18:08:06  arbitrum  ",
      "text/html": "<div>\n<style scoped>\n    .dataframe tbody tr th:only-of-type {\n        vertical-align: middle;\n    }\n\n    .dataframe tbody tr th {\n        vertical-align: top;\n    }\n\n    .dataframe thead th {\n        text-align: right;\n    }\n</style>\n<table border=\"1\" class=\"dataframe\">\n  <thead>\n    <tr style=\"text-align: right;\">\n      <th></th>\n      <th>pool_fee</th>\n      <th>swap_fee</th>\n      <th>bpt_token_fee</th>\n      <th>time_from</th>\n      <th>time_to</th>\n      <th>chain</th>\n    </tr>\n  </thead>\n  <tbody>\n    <tr>\n      <th>MaticX-bb-a-WMATIC-BPT</th>\n      <td>3067.27</td>\n      <td>392.82</td>\n      <td>4702.29</td>\n      <td>2023-08-07 19:41:11</td>\n      <td>2023-08-21 18:08:06</td>\n      <td>polygon</td>\n    </tr>\n    <tr>\n      <th>stMATIC-bb-a-WMATIC-BPT</th>\n      <td>2558.17</td>\n      <td>117.32</td>\n      <td>3941.08</td>\n      <td>2023-08-07 19:41:11</td>\n      <td>2023-08-21 18:08:06</td>\n      <td>polygon</td>\n    </tr>\n    <tr>\n      <th>bb-am-usd</th>\n      <td>0.01</td>\n      <td>0.00</td>\n      <td>0.01</td>\n      <td>2023-08-07 19:41:11</td>\n      <td>2023-08-21 18:08:06</td>\n      <td>polygon</td>\n    </tr>\n    <tr>\n      <th>wstETH-bb-a-WETH-BPT</th>\n      <td>0.00</td>\n      <td>0.02</td>\n      <td>0.00</td>\n      <td>2023-08-07 19:41:11</td>\n      <td>2023-08-21 18:08:06</td>\n      <td>polygon</td>\n    </tr>\n    <tr>\n      <th>bb-t-USD</th>\n      <td>0.00</td>\n      <td>0.00</td>\n      <td>0.00</td>\n      <td>2023-08-07 19:41:11</td>\n      <td>2023-08-21 18:08:06</td>\n      <td>polygon</td>\n    </tr>\n    <tr>\n      <th>wstETH-rETH-sfrxETH-BPT</th>\n      <td>32416.59</td>\n      <td>3717.70</td>\n      <td>17.66</td>\n      <td>2023-08-07 19:41:11</td>\n      <td>2023-08-21 18:08:06</td>\n      <td>mainnet</td>\n    </tr>\n    <tr>\n      <th>B-rETH-STABLE</th>\n      <td>30821.25</td>\n      <td>24234.26</td>\n      <td>0.00</td>\n      <td>2023-08-07 19:41:11</td>\n      <td>2023-08-21 18:08:06</td>\n      <td>mainnet</td>\n    </tr>\n    <tr>\n      <th>50STG-50bbaUSD</th>\n      <td>16843.95</td>\n      <td>25552.93</td>\n      <td>21987.19</td>\n      <td>2023-08-07 19:41:11</td>\n      <td>2023-08-21 18:08:06</td>\n      <td>mainnet</td>\n    </tr>\n    <tr>\n      <th>50rETH-50BADGER</th>\n      <td>13748.46</td>\n      <td>11832.97</td>\n      <td>198.97</td>\n      <td>2023-08-07 19:41:11</td>\n      <td>2023-08-21 18:08:06</td>\n      <td>mainnet</td>\n    </tr>\n    <tr>\n      <th>swETH-bb-a-WETH-BPT</th>\n      <td>7682.74</td>\n      <td>19.57</td>\n      <td>4.20</td>\n      <td>2023-08-07 19:41:11</td>\n      <td>2023-08-21 18:08:06</td>\n      <td>mainnet</td>\n    </tr>\n    <tr>\n      <th>ankrETH/wstETH</th>\n      <td>6894.09</td>\n      <td>787.91</td>\n      <td>3.76</td>\n      <td>2023-08-07 19:41:11</td>\n      <td>2023-08-21 18:08:06</td>\n      <td>mainnet</td>\n    </tr>\n    <tr>\n      <th>50rETH-50RPL</th>\n      <td>2884.04</td>\n      <td>3412.60</td>\n      <td>12.82</td>\n      <td>2023-08-07 19:41:11</td>\n      <td>2023-08-21 18:08:06</td>\n      <td>mainnet</td>\n    </tr>\n    <tr>\n      <th>GHO/bb-a-USD</th>\n      <td>2719.49</td>\n      <td>4276.63</td>\n      <td>2753.90</td>\n      <td>2023-08-07 19:41:11</td>\n      <td>2023-08-21 18:08:06</td>\n      <td>mainnet</td>\n    </tr>\n    <tr>\n      <th>B-staFiETH-WETH-Stable</th>\n      <td>2634.00</td>\n      <td>1265.17</td>\n      <td>0.00</td>\n      <td>2023-08-07 19:41:11</td>\n      <td>2023-08-21 18:08:06</td>\n      <td>mainnet</td>\n    </tr>\n    <tr>\n      <th>50wstETH-50ACX</th>\n      <td>1455.95</td>\n      <td>2445.35</td>\n      <td>142.15</td>\n      <td>2023-08-07 19:41:11</td>\n      <td>2023-08-21 18:08:06</td>\n      <td>mainnet</td>\n    </tr>\n    <tr>\n      <th>20WETH-80ALCX</th>\n      <td>1146.29</td>\n      <td>2332.02</td>\n      <td>42.35</td>\n      <td>2023-08-07 19:41:11</td>\n      <td>2023-08-21 18:08:06</td>\n      <td>mainnet</td>\n    </tr>\n    <tr>\n      <th>50wstETH-50LDO</th>\n      <td>716.01</td>\n      <td>245.27</td>\n      <td>11.81</td>\n      <td>2023-08-07 19:41:11</td>\n      <td>2023-08-21 18:08:06</td>\n      <td>mainnet</td>\n    </tr>\n    <tr>\n      <th>cbETH-bb-a-WETH-BPT</th>\n      <td>19.32</td>\n      <td>0.59</td>\n      <td>0.00</td>\n      <td>2023-08-07 19:41:11</td>\n      <td>2023-08-21 18:08:06</td>\n      <td>mainnet</td>\n    </tr>\n    <tr>\n      <th>wbETH-wstETH</th>\n      <td>0.00</td>\n      <td>0.06</td>\n      <td>0.00</td>\n      <td>2023-08-07 19:41:11</td>\n      <td>2023-08-21 18:08:06</td>\n      <td>mainnet</td>\n    </tr>\n    <tr>\n      <th>RDNT-WETH</th>\n      <td>16909.68</td>\n      <td>31063.53</td>\n      <td>12813.02</td>\n      <td>2023-08-07 19:41:11</td>\n      <td>2023-08-21 18:08:06</td>\n      <td>arbitrum</td>\n    </tr>\n    <tr>\n      <th>B-wstETH-WETH-Stable</th>\n      <td>4879.98</td>\n      <td>66.61</td>\n      <td>0.00</td>\n      <td>2023-08-07 19:41:11</td>\n      <td>2023-08-21 18:08:06</td>\n      <td>arbitrum</td>\n    </tr>\n    <tr>\n      <th>bb-a-USD</th>\n      <td>3105.90</td>\n      <td>980.72</td>\n      <td>3103.00</td>\n      <td>2023-08-07 19:41:11</td>\n      <td>2023-08-21 18:08:06</td>\n      <td>arbitrum</td>\n    </tr>\n    <tr>\n      <th>rETH-bb-a-WETH-BPT</th>\n      <td>1290.54</td>\n      <td>472.04</td>\n      <td>0.68</td>\n      <td>2023-08-07 19:41:11</td>\n      <td>2023-08-21 18:08:06</td>\n      <td>arbitrum</td>\n    </tr>\n    <tr>\n      <th>bbaUSDC/bbaUSDCe</th>\n      <td>472.51</td>\n      <td>629.29</td>\n      <td>472.04</td>\n      <td>2023-08-07 19:41:11</td>\n      <td>2023-08-21 18:08:06</td>\n      <td>arbitrum</td>\n    </tr>\n    <tr>\n      <th>wstETH/rETH/cbETH</th>\n      <td>441.26</td>\n      <td>317.14</td>\n      <td>0.00</td>\n      <td>2023-08-07 19:41:11</td>\n      <td>2023-08-21 18:08:06</td>\n      <td>arbitrum</td>\n    </tr>\n  </tbody>\n</table>\n</div>"
     },
     "execution_count": 82,
     "metadata": {},
     "output_type": "execute_result"
    }
   ],
   "source": [
    "from collections import defaultdict\n",
    "import pandas as pd\n",
    "\n",
    "def collect_fee_info(pools: list[str], chain: str, pools_now: list[dict], pools_shifted: list[dict]) -> tuple[dict, dict]:\n",
    "    # Iterate through snapshots now and 2 weeks ago and extract fee data, by subtracting today's fee data from 2 weeks ago\n",
    "    # and then summing across all pools\n",
    "    fees = {}\n",
    "    token_fees = defaultdict(list)\n",
    "    for pool in pools:\n",
    "        current_fees_snapshots = [x for x in pools_now if x['pool']['id'] == pool]\n",
    "        current_fees_snapshots.sort(key=lambda x: x['timestamp'], reverse=True)\n",
    "        fees_2_weeks_ago = [x for x in pools_shifted if x['pool']['id'] == pool]\n",
    "        fees_2_weeks_ago.sort(key=lambda x: x['timestamp'], reverse=True)\n",
    "        # Take first element of list, which is the most recent snapshot\n",
    "        if not current_fees_snapshots or not fees_2_weeks_ago:\n",
    "            continue\n",
    "        pool_snapshot_now = current_fees_snapshots[0]\n",
    "        pool_snapshot_2_weeks_ago = fees_2_weeks_ago[0]\n",
    "        # Calculate fees\n",
    "        pool_fee = float(pool_snapshot_now['protocolFee']) - float(pool_snapshot_2_weeks_ago['protocolFee'])\n",
    "        pool_swap_fee = float(pool_snapshot_now['swapFees']) - float(pool_snapshot_2_weeks_ago['swapFees'])\n",
    "        # Now we need to collect token fee info. Let's start with BPT tokens, which is Balancer pool token. Notice,\n",
    "        # That totalProtocolFeePaidInBPT can be null, so we need to check for that\n",
    "        bpt_token_fee = 0\n",
    "        if pool_snapshot_now['pool']['totalProtocolFeePaidInBPT'] is not None and pool_snapshot_2_weeks_ago['pool']['totalProtocolFeePaidInBPT'] is not None:\n",
    "            bpt_token_fee = float(pool_snapshot_now['pool']['totalProtocolFeePaidInBPT']) - float(pool_snapshot_2_weeks_ago['pool']['totalProtocolFeePaidInBPT'])\n",
    "        # Now collect fee info about fees paid in pool tokens. Pool tokens fee info is in pool.tokens dictionary. This will be separate dictionary\n",
    "        else:\n",
    "            for token_data in pool_snapshot_now['pool']['tokens']:\n",
    "                token_data_2_weeks_ago = [t for t in pool_snapshot_2_weeks_ago['pool']['tokens'] if t['address'] == token_data['address']][0]\n",
    "                token_fee = float(token_data.get('paidProtocolFees', None)) - float(token_data_2_weeks_ago.get('paidProtocolFees', None))\n",
    "                token_fees[pool_snapshot_now['pool']['symbol']].append({\n",
    "                    'token': token_data['symbol'],\n",
    "                    'token_fee': token_fee,\n",
    "                    'token_addr': token_data['address'],\n",
    "                    'time_from': arb_datetime_2_weeks_ago,\n",
    "                    'time_to': arb_datetime_now,\n",
    "                    'chain': chain,\n",
    "                })\n",
    "        fees[pool_snapshot_now['pool']['symbol']] = {\n",
    "            'pool_fee': round(pool_fee, 2), \n",
    "            'swap_fee': round(pool_swap_fee, 2),\n",
    "            'bpt_token_fee': round(bpt_token_fee, 2),\n",
    "            'time_from': arb_datetime_2_weeks_ago,\n",
    "            'time_to': arb_datetime_now,\n",
    "            'chain': chain,\n",
    "        }\n",
    "    return fees, token_fees\n",
    "\n",
    "arb_fees, arb_token_fees = collect_fee_info(ARB_CORE_POOLS, 'arbitrum', arbi_pool_snapshots_now, arbi_pool_snapshots_2_weeks_ago)\n",
    "mainnet_fees, mainnet_token_fees = collect_fee_info(MAINNET_CORE_POOLS, 'mainnet', mainnet_pool_snapshots_now, mainnet_pool_snapshots_2_weeks_ago)\n",
    "polygon_fees, polygon_token_fees = collect_fee_info(POLYGON_CORE_POOLS, 'polygon', polygon_pool_snapshots_now, polygon_pool_snapshots_2_weeks_ago)\n",
    "# Convert to dataframe, sort by chain and pool fee\n",
    "joint_fees = {**arb_fees, **mainnet_fees, **polygon_fees}\n",
    "joint_fees_df = pd.DataFrame.from_dict(joint_fees, orient='index')\n",
    "joint_fees_df.sort_values(by=['chain', 'pool_fee'], ascending=False, inplace=True)\n",
    "joint_fees_df"
   ],
   "metadata": {
    "collapsed": false,
    "ExecuteTime": {
     "end_time": "2023-08-21T15:13:13.319438Z",
     "start_time": "2023-08-21T15:13:13.260403Z"
    }
   },
   "id": "e79b2f6a4ead2cad"
  },
  {
   "cell_type": "code",
   "execution_count": 83,
   "outputs": [],
   "source": [
    "# Now parse token_fees into dataframe and sort by chain and token fee.\n",
    "# Notice, that token_fees is a dictionary of lists, so we need to flatten it first\n",
    "joint_token_fees = {**arb_token_fees, **mainnet_token_fees, **polygon_token_fees}\n",
    "joint_token_fees_df = pd.DataFrame.from_dict({(i,j): joint_token_fees[i][j] \n",
    "                           for i in joint_token_fees.keys() \n",
    "                           for j in range(len(joint_token_fees[i]))}, orient='index')\n",
    "# Remove index name\n",
    "joint_token_fees_df.index.names = ['pool', 'token_ix']\n",
    "# Sort by chain and token name\n",
    "joint_token_fees_df.sort_values(by=['chain'], ascending=False, inplace=True)"
   ],
   "metadata": {
    "collapsed": false,
    "ExecuteTime": {
     "end_time": "2023-08-21T15:13:13.323458Z",
     "start_time": "2023-08-21T15:13:13.316248Z"
    }
   },
   "id": "7720d12cbfdc5ea9"
  },
  {
   "cell_type": "markdown",
   "source": [
    "## Load Mimic data with prices and sale events"
   ],
   "metadata": {
    "collapsed": false
   },
   "id": "5c89fd201a8ff9b1"
  },
  {
   "cell_type": "code",
   "execution_count": 84,
   "outputs": [
    {
     "data": {
      "text/plain": "                                                token  token_fee  \\\npool                   token_ix                                    \nwstETH-bb-a-WETH-BPT   2         wstETH-bb-a-WETH-BPT   0.000000   \n                       1                    bb-a-WETH   0.000000   \n                       0                       wstETH   0.000000   \nbb-t-USD               3                     bb-t-DAI   0.000000   \n                       2                    bb-t-USDC   0.000000   \n                       1                     bb-t-USD   0.000000   \n                       0                    bb-t-USDT   0.000000   \nB-staFiETH-WETH-Stable 0                         rETH   1.259324   \n                       1                         WETH   0.112096   \ncbETH-bb-a-WETH-BPT    2                        cbETH   0.000000   \n                       1                    bb-a-WETH   0.000000   \n                       0         cbETH-bb-a-WETH-BPT    0.000000   \nB-rETH-STABLE          1                         WETH  16.922865   \n                       0                         rETH   0.000000   \nB-wstETH-WETH-Stable   1                         WETH   0.001232   \nwstETH/rETH/cbETH      3                         rETH   0.000000   \n                       2                       wstETH   0.000000   \n                       1            wstETH/rETH/cbETH   0.000000   \n                       0                        cbETH   0.000000   \nB-wstETH-WETH-Stable   0                       wstETH   2.373306   \n\n                                                                 token_addr  \\\npool                   token_ix                                               \nwstETH-bb-a-WETH-BPT   2         0xab269164a10fab22bc87c39946da06c870b172d6   \n                       1         0x25e57f4612912614e6c99616bd2abb9b5ae71e99   \n                       0         0x03b54a6e9a984069379fae1a4fc4dbae93b3bccd   \nbb-t-USD               3         0xda1cd1711743e57dd57102e9e61b75f3587703da   \n                       2         0xae646817e458c0be890b81e8d880206710e3c44e   \n                       1         0x9321e2250767d79bab5aa06daa8606a2b3b7b4c5   \n                       0         0x7c82a23b4c48d796dee36a9ca215b641c6a8709d   \nB-staFiETH-WETH-Stable 0         0x9559aaa82d9649c7a7b220e7c461d2e74c9a3593   \n                       1         0xc02aaa39b223fe8d0a0e5c4f27ead9083c756cc2   \ncbETH-bb-a-WETH-BPT    2         0xbe9895146f7af43049ca1c1ae358b0541ea49704   \n                       1         0xbb6881874825e60e1160416d6c426eae65f2459e   \n                       0         0x4c81255cc9ed7062180ea99962fe05ac0d57350b   \nB-rETH-STABLE          1         0xc02aaa39b223fe8d0a0e5c4f27ead9083c756cc2   \n                       0         0xae78736cd615f374d3085123a210448e74fc6393   \nB-wstETH-WETH-Stable   1         0x82af49447d8a07e3bd95bd0d56f35241523fbab1   \nwstETH/rETH/cbETH      3         0xec70dcb4a1efa46b8f2d97c310c9c4790ba5ffa8   \n                       2         0x5979d7b546e38e414f7e9822514be443a4800529   \n                       1         0x4a2f6ae7f3e5d715689530873ec35593dc28951b   \n                       0         0x1debd73e752beaf79865fd6446b0c970eae7732f   \nB-wstETH-WETH-Stable   0         0x5979d7b546e38e414f7e9822514be443a4800529   \n\n                                          time_from             time_to  \\\npool                   token_ix                                           \nwstETH-bb-a-WETH-BPT   2        2023-08-07 19:41:11 2023-08-21 18:08:06   \n                       1        2023-08-07 19:41:11 2023-08-21 18:08:06   \n                       0        2023-08-07 19:41:11 2023-08-21 18:08:06   \nbb-t-USD               3        2023-08-07 19:41:11 2023-08-21 18:08:06   \n                       2        2023-08-07 19:41:11 2023-08-21 18:08:06   \n                       1        2023-08-07 19:41:11 2023-08-21 18:08:06   \n                       0        2023-08-07 19:41:11 2023-08-21 18:08:06   \nB-staFiETH-WETH-Stable 0        2023-08-07 19:41:11 2023-08-21 18:08:06   \n                       1        2023-08-07 19:41:11 2023-08-21 18:08:06   \ncbETH-bb-a-WETH-BPT    2        2023-08-07 19:41:11 2023-08-21 18:08:06   \n                       1        2023-08-07 19:41:11 2023-08-21 18:08:06   \n                       0        2023-08-07 19:41:11 2023-08-21 18:08:06   \nB-rETH-STABLE          1        2023-08-07 19:41:11 2023-08-21 18:08:06   \n                       0        2023-08-07 19:41:11 2023-08-21 18:08:06   \nB-wstETH-WETH-Stable   1        2023-08-07 19:41:11 2023-08-21 18:08:06   \nwstETH/rETH/cbETH      3        2023-08-07 19:41:11 2023-08-21 18:08:06   \n                       2        2023-08-07 19:41:11 2023-08-21 18:08:06   \n                       1        2023-08-07 19:41:11 2023-08-21 18:08:06   \n                       0        2023-08-07 19:41:11 2023-08-21 18:08:06   \nB-wstETH-WETH-Stable   0        2023-08-07 19:41:11 2023-08-21 18:08:06   \n\n                                    chain  token_fee_usd  \npool                   token_ix                           \nwstETH-bb-a-WETH-BPT   2          polygon       0.000000  \n                       1          polygon       0.000000  \n                       0          polygon       0.000000  \nbb-t-USD               3          polygon       0.000000  \n                       2          polygon       0.000000  \n                       1          polygon       0.000000  \n                       0          polygon       0.000000  \nB-staFiETH-WETH-Stable 0          mainnet       0.000000  \n                       1          mainnet       0.000000  \ncbETH-bb-a-WETH-BPT    2          mainnet       0.000000  \n                       1          mainnet       0.000000  \n                       0          mainnet       0.000000  \nB-rETH-STABLE          1          mainnet       0.000000  \n                       0          mainnet       0.000000  \nB-wstETH-WETH-Stable   1         arbitrum       2.232469  \nwstETH/rETH/cbETH      3         arbitrum       0.000000  \n                       2         arbitrum       0.000000  \n                       1         arbitrum       0.000000  \n                       0         arbitrum       0.000000  \nB-wstETH-WETH-Stable   0         arbitrum    4937.693681  ",
      "text/html": "<div>\n<style scoped>\n    .dataframe tbody tr th:only-of-type {\n        vertical-align: middle;\n    }\n\n    .dataframe tbody tr th {\n        vertical-align: top;\n    }\n\n    .dataframe thead th {\n        text-align: right;\n    }\n</style>\n<table border=\"1\" class=\"dataframe\">\n  <thead>\n    <tr style=\"text-align: right;\">\n      <th></th>\n      <th></th>\n      <th>token</th>\n      <th>token_fee</th>\n      <th>token_addr</th>\n      <th>time_from</th>\n      <th>time_to</th>\n      <th>chain</th>\n      <th>token_fee_usd</th>\n    </tr>\n    <tr>\n      <th>pool</th>\n      <th>token_ix</th>\n      <th></th>\n      <th></th>\n      <th></th>\n      <th></th>\n      <th></th>\n      <th></th>\n      <th></th>\n    </tr>\n  </thead>\n  <tbody>\n    <tr>\n      <th rowspan=\"3\" valign=\"top\">wstETH-bb-a-WETH-BPT</th>\n      <th>2</th>\n      <td>wstETH-bb-a-WETH-BPT</td>\n      <td>0.000000</td>\n      <td>0xab269164a10fab22bc87c39946da06c870b172d6</td>\n      <td>2023-08-07 19:41:11</td>\n      <td>2023-08-21 18:08:06</td>\n      <td>polygon</td>\n      <td>0.000000</td>\n    </tr>\n    <tr>\n      <th>1</th>\n      <td>bb-a-WETH</td>\n      <td>0.000000</td>\n      <td>0x25e57f4612912614e6c99616bd2abb9b5ae71e99</td>\n      <td>2023-08-07 19:41:11</td>\n      <td>2023-08-21 18:08:06</td>\n      <td>polygon</td>\n      <td>0.000000</td>\n    </tr>\n    <tr>\n      <th>0</th>\n      <td>wstETH</td>\n      <td>0.000000</td>\n      <td>0x03b54a6e9a984069379fae1a4fc4dbae93b3bccd</td>\n      <td>2023-08-07 19:41:11</td>\n      <td>2023-08-21 18:08:06</td>\n      <td>polygon</td>\n      <td>0.000000</td>\n    </tr>\n    <tr>\n      <th rowspan=\"4\" valign=\"top\">bb-t-USD</th>\n      <th>3</th>\n      <td>bb-t-DAI</td>\n      <td>0.000000</td>\n      <td>0xda1cd1711743e57dd57102e9e61b75f3587703da</td>\n      <td>2023-08-07 19:41:11</td>\n      <td>2023-08-21 18:08:06</td>\n      <td>polygon</td>\n      <td>0.000000</td>\n    </tr>\n    <tr>\n      <th>2</th>\n      <td>bb-t-USDC</td>\n      <td>0.000000</td>\n      <td>0xae646817e458c0be890b81e8d880206710e3c44e</td>\n      <td>2023-08-07 19:41:11</td>\n      <td>2023-08-21 18:08:06</td>\n      <td>polygon</td>\n      <td>0.000000</td>\n    </tr>\n    <tr>\n      <th>1</th>\n      <td>bb-t-USD</td>\n      <td>0.000000</td>\n      <td>0x9321e2250767d79bab5aa06daa8606a2b3b7b4c5</td>\n      <td>2023-08-07 19:41:11</td>\n      <td>2023-08-21 18:08:06</td>\n      <td>polygon</td>\n      <td>0.000000</td>\n    </tr>\n    <tr>\n      <th>0</th>\n      <td>bb-t-USDT</td>\n      <td>0.000000</td>\n      <td>0x7c82a23b4c48d796dee36a9ca215b641c6a8709d</td>\n      <td>2023-08-07 19:41:11</td>\n      <td>2023-08-21 18:08:06</td>\n      <td>polygon</td>\n      <td>0.000000</td>\n    </tr>\n    <tr>\n      <th rowspan=\"2\" valign=\"top\">B-staFiETH-WETH-Stable</th>\n      <th>0</th>\n      <td>rETH</td>\n      <td>1.259324</td>\n      <td>0x9559aaa82d9649c7a7b220e7c461d2e74c9a3593</td>\n      <td>2023-08-07 19:41:11</td>\n      <td>2023-08-21 18:08:06</td>\n      <td>mainnet</td>\n      <td>0.000000</td>\n    </tr>\n    <tr>\n      <th>1</th>\n      <td>WETH</td>\n      <td>0.112096</td>\n      <td>0xc02aaa39b223fe8d0a0e5c4f27ead9083c756cc2</td>\n      <td>2023-08-07 19:41:11</td>\n      <td>2023-08-21 18:08:06</td>\n      <td>mainnet</td>\n      <td>0.000000</td>\n    </tr>\n    <tr>\n      <th rowspan=\"3\" valign=\"top\">cbETH-bb-a-WETH-BPT</th>\n      <th>2</th>\n      <td>cbETH</td>\n      <td>0.000000</td>\n      <td>0xbe9895146f7af43049ca1c1ae358b0541ea49704</td>\n      <td>2023-08-07 19:41:11</td>\n      <td>2023-08-21 18:08:06</td>\n      <td>mainnet</td>\n      <td>0.000000</td>\n    </tr>\n    <tr>\n      <th>1</th>\n      <td>bb-a-WETH</td>\n      <td>0.000000</td>\n      <td>0xbb6881874825e60e1160416d6c426eae65f2459e</td>\n      <td>2023-08-07 19:41:11</td>\n      <td>2023-08-21 18:08:06</td>\n      <td>mainnet</td>\n      <td>0.000000</td>\n    </tr>\n    <tr>\n      <th>0</th>\n      <td>cbETH-bb-a-WETH-BPT</td>\n      <td>0.000000</td>\n      <td>0x4c81255cc9ed7062180ea99962fe05ac0d57350b</td>\n      <td>2023-08-07 19:41:11</td>\n      <td>2023-08-21 18:08:06</td>\n      <td>mainnet</td>\n      <td>0.000000</td>\n    </tr>\n    <tr>\n      <th rowspan=\"2\" valign=\"top\">B-rETH-STABLE</th>\n      <th>1</th>\n      <td>WETH</td>\n      <td>16.922865</td>\n      <td>0xc02aaa39b223fe8d0a0e5c4f27ead9083c756cc2</td>\n      <td>2023-08-07 19:41:11</td>\n      <td>2023-08-21 18:08:06</td>\n      <td>mainnet</td>\n      <td>0.000000</td>\n    </tr>\n    <tr>\n      <th>0</th>\n      <td>rETH</td>\n      <td>0.000000</td>\n      <td>0xae78736cd615f374d3085123a210448e74fc6393</td>\n      <td>2023-08-07 19:41:11</td>\n      <td>2023-08-21 18:08:06</td>\n      <td>mainnet</td>\n      <td>0.000000</td>\n    </tr>\n    <tr>\n      <th>B-wstETH-WETH-Stable</th>\n      <th>1</th>\n      <td>WETH</td>\n      <td>0.001232</td>\n      <td>0x82af49447d8a07e3bd95bd0d56f35241523fbab1</td>\n      <td>2023-08-07 19:41:11</td>\n      <td>2023-08-21 18:08:06</td>\n      <td>arbitrum</td>\n      <td>2.232469</td>\n    </tr>\n    <tr>\n      <th rowspan=\"4\" valign=\"top\">wstETH/rETH/cbETH</th>\n      <th>3</th>\n      <td>rETH</td>\n      <td>0.000000</td>\n      <td>0xec70dcb4a1efa46b8f2d97c310c9c4790ba5ffa8</td>\n      <td>2023-08-07 19:41:11</td>\n      <td>2023-08-21 18:08:06</td>\n      <td>arbitrum</td>\n      <td>0.000000</td>\n    </tr>\n    <tr>\n      <th>2</th>\n      <td>wstETH</td>\n      <td>0.000000</td>\n      <td>0x5979d7b546e38e414f7e9822514be443a4800529</td>\n      <td>2023-08-07 19:41:11</td>\n      <td>2023-08-21 18:08:06</td>\n      <td>arbitrum</td>\n      <td>0.000000</td>\n    </tr>\n    <tr>\n      <th>1</th>\n      <td>wstETH/rETH/cbETH</td>\n      <td>0.000000</td>\n      <td>0x4a2f6ae7f3e5d715689530873ec35593dc28951b</td>\n      <td>2023-08-07 19:41:11</td>\n      <td>2023-08-21 18:08:06</td>\n      <td>arbitrum</td>\n      <td>0.000000</td>\n    </tr>\n    <tr>\n      <th>0</th>\n      <td>cbETH</td>\n      <td>0.000000</td>\n      <td>0x1debd73e752beaf79865fd6446b0c970eae7732f</td>\n      <td>2023-08-07 19:41:11</td>\n      <td>2023-08-21 18:08:06</td>\n      <td>arbitrum</td>\n      <td>0.000000</td>\n    </tr>\n    <tr>\n      <th>B-wstETH-WETH-Stable</th>\n      <th>0</th>\n      <td>wstETH</td>\n      <td>2.373306</td>\n      <td>0x5979d7b546e38e414f7e9822514be443a4800529</td>\n      <td>2023-08-07 19:41:11</td>\n      <td>2023-08-21 18:08:06</td>\n      <td>arbitrum</td>\n      <td>4937.693681</td>\n    </tr>\n  </tbody>\n</table>\n</div>"
     },
     "execution_count": 84,
     "metadata": {},
     "output_type": "execute_result"
    }
   ],
   "source": [
    "# Load mimic data\n",
    "mimic_df = pd.read_csv('../data/balancer_last_period_updated.csv')\n",
    "# Calculate price per token for each sale event in csv file and add it as a new column\n",
    "# Convert all amounts to float\n",
    "mimic_df['amount'] = mimic_df['amount'].astype(float)\n",
    "mimic_df['price_per_token'] = mimic_df['amount_usd'] / (mimic_df['amount'] / 1e18)\n",
    "# Now that we have price for each event, we can calculate average price of token across all sale events\n",
    "mimic_df['avg_price_per_token'] = mimic_df.groupby('token')['price_per_token'].transform('mean')\n",
    "# Extract average price per token for each token\n",
    "mimic_df = mimic_df[['network', 'token', 'avg_price_per_token']].drop_duplicates()\n",
    "# Convert token address to checksum\n",
    "mimic_df['token'] = mimic_df['token'].apply(lambda x: Web3.toChecksumAddress(x))\n",
    "# Now go through each token in joint_token_fees_df and find its price in mimic_df\n",
    "for row in joint_token_fees_df.itertuples():\n",
    "    # Find token price in mimic_df, if no price is found, then skip\n",
    "    addr = Web3.toChecksumAddress(row.token_addr)\n",
    "    token_price = mimic_df[(mimic_df['token'] == addr)]['avg_price_per_token'].values\n",
    "    if len(token_price) == 0:\n",
    "        # Set 0 price and continue\n",
    "        joint_token_fees_df.loc[row.Index, 'token_fee_usd'] = 0\n",
    "        continue\n",
    "    # Calculate token fee in USD and assign it to token_fee_usd column\n",
    "    joint_token_fees_df.loc[row.Index, 'token_fee_usd'] = row.token_fee * token_price[0]\n",
    "\n",
    "# Print out token fees in USD\n",
    "joint_token_fees_df"
   ],
   "metadata": {
    "collapsed": false,
    "ExecuteTime": {
     "end_time": "2023-08-21T15:13:13.340597Z",
     "start_time": "2023-08-21T15:13:13.323351Z"
    }
   },
   "id": "53ff7045d0b9174f"
  }
 ],
 "metadata": {
  "kernelspec": {
   "display_name": "Python 3",
   "language": "python",
   "name": "python3"
  },
  "language_info": {
   "codemirror_mode": {
    "name": "ipython",
    "version": 2
   },
   "file_extension": ".py",
   "mimetype": "text/x-python",
   "name": "python",
   "nbconvert_exporter": "python",
   "pygments_lexer": "ipython2",
   "version": "2.7.6"
  }
 },
 "nbformat": 4,
 "nbformat_minor": 5
}
