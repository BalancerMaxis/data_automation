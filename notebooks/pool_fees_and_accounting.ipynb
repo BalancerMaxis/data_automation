{
 "cells": [
  {
   "cell_type": "markdown",
   "source": [
    "## Collecting protocol fees across Balancer core pools on all networks\n",
    "- Spreadsheet as reference: https://docs.google.com/spreadsheets/d/1xwUPpbYq7woVOU9vQ8EB8MY75I-1mauTLyDVwvKUDKo/edit#gid=0\n",
    "- Collab: https://colab.research.google.com/drive/1vKCvcV5mkL1zwW3565kLSGkBEbt8NsoB?usp=sharing\n"
   ],
   "metadata": {
    "collapsed": false
   },
   "id": "e739385af75b2478"
  },
  {
   "cell_type": "code",
   "execution_count": 1,
   "outputs": [
    {
     "name": "stdout",
     "output_type": "stream",
     "text": [
      "ARBITRUM\n",
      "1833.451852052343848962140634\n",
      "1842.209235229654557639362022\n",
      "1834.091377165366659324871867\n",
      "1.000520816308704170788477865\n",
      "1.373806462439175997013422238\n",
      "1832.497120530902215323283611\n",
      "1.000395968349039228383157872\n",
      "MAINNET\n",
      "1831.173736601367607918698024\n",
      "1879.372713804580062835519769\n",
      "1819.470889750963667126670163\n",
      "1831.074797956762334441595632\n",
      "1830.577686949676287358700022\n",
      "28.70541367671049478113772939\n",
      "1847.755351730498445845029905\n",
      "0.9812378645358918062838625662\n",
      "1838.469578858441677257480486\n",
      "60.78884759087628281622369958\n",
      "66.87150794940494276939754347\n",
      "231.1831220542486363085535130\n",
      "0.7977727270803851051516774764\n",
      "1841.843380948226418306261490\n",
      "11.56327451907746932140415258\n",
      "POLYGON\n",
      "0.9996100241883402138399179987\n",
      "0.9988396935020339437258447976\n",
      "0.6563199419006072856049719627\n",
      "0.6561457562299947277772776168\n",
      "1831.097351676973776713782586\n"
     ]
    }
   ],
   "source": [
    "import datetime\n",
    "import os\n",
    "\n",
    "from dotenv import load_dotenv\n",
    "from web3 import Web3\n",
    "from web3.middleware import geth_poa_middleware\n",
    "\n",
    "from notebooks import get_twap_bpt_price\n",
    "from notebooks import get_block_by_ts\n",
    "from notebooks.constants import ARB_CORE_POOLS\n",
    "from notebooks.constants import MAINNET_CORE_POOLS\n",
    "from notebooks.constants import POLYGON_CORE_POOLS\n",
    "\n",
    "load_dotenv()\n",
    "arb_web3 = Web3(Web3.HTTPProvider(os.environ[\"ARBNODEURL\"]))\n",
    "eth_web3 = Web3(Web3.HTTPProvider(os.environ[\"ETHNODEURL\"]))\n",
    "poly_web3 = Web3(Web3.HTTPProvider(\"https://polygon-rpc.com\"))\n",
    "poly_web3.middleware_onion.inject(geth_poa_middleware, layer=0)\n",
    "\n",
    "# ARBITRUM\n",
    "# arb_block_now = arb_web3.eth.block_number - 1000\n",
    "timestamp_now = 1692316800\n",
    "arb_block = get_block_by_ts(timestamp_now, \"arbitrum\")  # 18 August 2023\n",
    "# Given Arb block time, we want to look back 2 weeks:\n",
    "arb_timestamp_2_weeks_ago = timestamp_now - (2 * 7 * 24 * 60 * 60)\n",
    "arb_block_2_weeks_ago = get_block_by_ts(arb_timestamp_2_weeks_ago, \"arbitrum\")\n",
    "# Convert to datetime:\n",
    "arb_datetime_now = datetime.datetime.fromtimestamp(timestamp_now)\n",
    "arb_datetime_2_weeks_ago = datetime.datetime.fromtimestamp(arb_timestamp_2_weeks_ago)\n",
    "# MAINNET\n",
    "mainnet_block = get_block_by_ts(timestamp_now, \"mainnet\")\n",
    "# Given mainnet block time, we want to look back 2 weeks:\n",
    "mainnet_timestamp_2_weeks_ago = arb_timestamp_2_weeks_ago\n",
    "mainnet_block_2_weeks_ago = get_block_by_ts(mainnet_timestamp_2_weeks_ago, \"mainnet\")\n",
    "# Convert to datetime:\n",
    "mainnet_datetime_now = datetime.datetime.fromtimestamp(timestamp_now)\n",
    "mainnet_datetime_2_weeks_ago = datetime.datetime.fromtimestamp(mainnet_timestamp_2_weeks_ago)\n",
    "\n",
    "# POLYGON\n",
    "poly_block = get_block_by_ts(timestamp_now, \"polygon\")\n",
    "# Given polygon block time, we want to look back 2 weeks:\n",
    "poly_timestamp_2_weeks_ago = arb_timestamp_2_weeks_ago\n",
    "poly_block_2_weeks_ago = get_block_by_ts(poly_timestamp_2_weeks_ago, \"polygon\")\n",
    "# Convert to datetime:\n",
    "poly_datetime_now = datetime.datetime.fromtimestamp(timestamp_now)\n",
    "poly_datetime_2_weeks_ago = datetime.datetime.fromtimestamp(poly_timestamp_2_weeks_ago)\n",
    "\n",
    "print(\"ARBITRUM\")\n",
    "arb_bpt_twap_prices = {}\n",
    "for arb_pool in ARB_CORE_POOLS:\n",
    "    arb_bpt_twap_prices[arb_pool] = get_twap_bpt_price(arb_pool, 'arbitrum', arb_web3, start_date=arb_datetime_now.date(),\n",
    "                                                       block_number=arb_block)\n",
    "    print(arb_bpt_twap_prices[arb_pool])\n",
    "\n",
    "print(\"MAINNET\")\n",
    "mainnet_bpt_twap_prices = {}\n",
    "for mainnet_pool in MAINNET_CORE_POOLS:\n",
    "    mainnet_bpt_twap_prices[mainnet_pool] = get_twap_bpt_price(mainnet_pool, 'mainnet', eth_web3,\n",
    "                                                               start_date=mainnet_datetime_now.date(),\n",
    "                                                               block_number=mainnet_block)\n",
    "    print(mainnet_bpt_twap_prices[mainnet_pool])\n",
    "\n",
    "print(\"POLYGON\")\n",
    "polygon_bpt_twap_prices = {}\n",
    "for polygon_pool in POLYGON_CORE_POOLS:\n",
    "    polygon_bpt_twap_prices[polygon_pool] = get_twap_bpt_price(polygon_pool, 'polygon', poly_web3,\n",
    "                                                               start_date=poly_datetime_now.date(), block_number=poly_block)\n",
    "    print(polygon_bpt_twap_prices[polygon_pool])\n"
   ],
   "metadata": {
    "collapsed": false,
    "ExecuteTime": {
     "end_time": "2023-09-11T11:20:46.936598Z",
     "start_time": "2023-09-11T11:18:23.479343Z"
    }
   },
   "id": "39d87004addaae1b"
  },
  {
   "cell_type": "code",
   "execution_count": 2,
   "outputs": [],
   "source": [
    "# Query:\n",
    "POOLS_SNAPSHOTS_QUERY = \"\"\"\n",
    "{{\n",
    "  poolSnapshots(\n",
    "    first: {first}\n",
    "    skip: {skip}\n",
    "    orderBy: timestamp\n",
    "    orderDirection: desc\n",
    "    block: {{ number: {block} }}\n",
    "    where: {{ protocolFee_not: null }}\n",
    "  ) {{\n",
    "    pool {{\n",
    "      address\n",
    "      id\n",
    "      symbol\n",
    "      totalProtocolFeePaidInBPT\n",
    "      tokens {{\n",
    "        symbol\n",
    "        address\n",
    "        paidProtocolFees\n",
    "      }}\n",
    "    }}\n",
    "    timestamp\n",
    "    protocolFee\n",
    "    swapFees\n",
    "    swapVolume\n",
    "    liquidity\n",
    "  }}\n",
    "}}\n",
    "\"\"\""
   ],
   "metadata": {
    "collapsed": false,
    "ExecuteTime": {
     "end_time": "2023-09-11T11:20:46.946261Z",
     "start_time": "2023-09-11T11:20:46.940009Z"
    }
   },
   "id": "abc722b4fa453b5a"
  },
  {
   "cell_type": "markdown",
   "source": [
    "## Fetching data from the Balancer subgraphs"
   ],
   "metadata": {
    "collapsed": false
   },
   "id": "cde5ffca807e3849"
  },
  {
   "cell_type": "code",
   "execution_count": 3,
   "outputs": [],
   "source": [
    "from notebooks.constants import POLYGON_BALANCER_GRAPH_URL\n",
    "from notebooks.constants import ARB_BALANCER_GRAPH_URL\n",
    "from notebooks.constants import MAINNET_BALANCER_GRAPH_URL\n",
    "from typing import Dict\n",
    "from typing import List\n",
    "from typing import Optional\n",
    "\n",
    "from gql import Client\n",
    "from gql import gql\n",
    "from gql.transport.requests import RequestsHTTPTransport\n",
    "import pandas as pd\n",
    "\n",
    "\n",
    "# Fetch all the data from the balancer subgraph\n",
    "def make_gql_client(url: str) -> Optional[Client]:\n",
    "    transport = RequestsHTTPTransport(url=url, retries=3)\n",
    "    return Client(\n",
    "        transport=transport, fetch_schema_from_transport=True, execute_timeout=60\n",
    "    )\n",
    "\n",
    "\n",
    "def get_balancer_pool_snapshots(block: int, graph_url: str) -> Optional[List[Dict]]:\n",
    "    client = make_gql_client(graph_url)\n",
    "    all_pools = []\n",
    "    limit = 1000\n",
    "    offset = 0\n",
    "    while True:\n",
    "        result = client.execute(\n",
    "            gql(POOLS_SNAPSHOTS_QUERY.format(first=limit, skip=offset, block=block)))\n",
    "        all_pools.extend(result['poolSnapshots'])\n",
    "        offset += limit\n",
    "        if offset >= 5000:\n",
    "            break\n",
    "        if len(result['poolSnapshots']) < limit - 1:\n",
    "            break\n",
    "    return all_pools\n",
    "\n",
    "\n",
    "arbi_pool_snapshots_now = get_balancer_pool_snapshots(arb_block, ARB_BALANCER_GRAPH_URL)\n",
    "arbi_pool_snapshots_2_weeks_ago = get_balancer_pool_snapshots(int(arb_block_2_weeks_ago), ARB_BALANCER_GRAPH_URL)\n",
    "\n",
    "mainnet_pool_snapshots_now = get_balancer_pool_snapshots(mainnet_block, MAINNET_BALANCER_GRAPH_URL)\n",
    "mainnet_pool_snapshots_2_weeks_ago = get_balancer_pool_snapshots(int(mainnet_block_2_weeks_ago),\n",
    "                                                                 MAINNET_BALANCER_GRAPH_URL)\n",
    "\n",
    "polygon_pool_snapshots_now = get_balancer_pool_snapshots(poly_block, POLYGON_BALANCER_GRAPH_URL)\n",
    "polygon_pool_snapshots_2_weeks_ago = get_balancer_pool_snapshots(int(poly_block_2_weeks_ago),\n",
    "                                                                 POLYGON_BALANCER_GRAPH_URL)"
   ],
   "metadata": {
    "collapsed": false,
    "ExecuteTime": {
     "end_time": "2023-09-11T11:21:56.110669Z",
     "start_time": "2023-09-11T11:20:46.948220Z"
    }
   },
   "id": "e1e0b8b90f62234c"
  },
  {
   "cell_type": "markdown",
   "source": [
    "## Extract fee data from CORE pools:\n"
   ],
   "metadata": {
    "collapsed": false
   },
   "id": "d5333a7de445454d"
  },
  {
   "cell_type": "code",
   "execution_count": 4,
   "outputs": [],
   "source": [
    "from collections import defaultdict\n",
    "from decimal import Decimal\n",
    "from notebooks import fetch_token_price_balgql\n",
    "\n",
    "\n",
    "def collect_fee_info(pools: list[str], chain: str, pools_now: list[dict], pools_shifted: list[dict],\n",
    "                     start_date: datetime.date) -> tuple[dict, dict]:\n",
    "    # Iterate through snapshots now and 2 weeks ago and extract fee data, by subtracting today's fee data from 2 weeks ago\n",
    "    # and then summing across all pools\n",
    "    fees = {}\n",
    "    token_fees = defaultdict(list)\n",
    "    for pool in pools:\n",
    "        current_fees_snapshots = [x for x in pools_now if x['pool']['id'] == pool]\n",
    "        current_fees_snapshots.sort(key=lambda x: x['timestamp'], reverse=True)\n",
    "        fees_2_weeks_ago = [x for x in pools_shifted if x['pool']['id'] == pool]\n",
    "        fees_2_weeks_ago.sort(key=lambda x: x['timestamp'], reverse=True)\n",
    "        # Take first element of list, which is the most recent snapshot\n",
    "        if not current_fees_snapshots or not fees_2_weeks_ago:\n",
    "            continue\n",
    "        pool_snapshot_now = current_fees_snapshots[0]\n",
    "        pool_snapshot_2_weeks_ago = fees_2_weeks_ago[0]\n",
    "        # Calculate fees\n",
    "        pool_fee = float(pool_snapshot_now['protocolFee']) - float(pool_snapshot_2_weeks_ago['protocolFee'])\n",
    "        pool_swap_fee = float(pool_snapshot_now['swapFees']) - float(pool_snapshot_2_weeks_ago['swapFees'])\n",
    "        # Now we need to collect token fee info. Let's start with BPT tokens, which is Balancer pool token. Notice,\n",
    "        # That totalProtocolFeePaidInBPT can be null, so we need to check for that\n",
    "        bpt_token_fee = 0\n",
    "        bpt_price_usd = arb_bpt_twap_prices[pool] if chain == 'arbitrum' else mainnet_bpt_twap_prices[\n",
    "            pool] if chain == 'mainnet' else polygon_bpt_twap_prices[pool]\n",
    "        if bpt_price_usd is None:\n",
    "            bpt_price_usd = 0\n",
    "        if pool_snapshot_now['pool']['totalProtocolFeePaidInBPT'] is not None and pool_snapshot_2_weeks_ago['pool'][\n",
    "            'totalProtocolFeePaidInBPT'] is not None:\n",
    "            bpt_token_fee = float(pool_snapshot_now['pool']['totalProtocolFeePaidInBPT']) - float(\n",
    "                pool_snapshot_2_weeks_ago['pool']['totalProtocolFeePaidInBPT'])\n",
    "            token_fees[pool_snapshot_now['pool']['symbol']].append({\n",
    "                'token': pool_snapshot_now['pool']['symbol'],\n",
    "                'token_fee': bpt_token_fee,\n",
    "                'token_price': bpt_price_usd,\n",
    "                'token_fee_in_usd': Decimal(bpt_token_fee) * bpt_price_usd,\n",
    "                'token_addr': pool_snapshot_now['pool']['address'],\n",
    "                'time_from': arb_datetime_2_weeks_ago,\n",
    "                'time_to': arb_datetime_now,\n",
    "                'chain': chain,\n",
    "            })\n",
    "        # Now collect fee info about fees paid in pool tokens. Pool tokens fee info is in pool.tokens dictionary. This will be separate dictionary\n",
    "        else:\n",
    "            bpt_price_usd = 0\n",
    "            for token_data in pool_snapshot_now['pool']['tokens']:\n",
    "                token_data_2_weeks_ago = \\\n",
    "                    [t for t in pool_snapshot_2_weeks_ago['pool']['tokens'] if t['address'] == token_data['address']][0]\n",
    "                token_fee = float(token_data.get('paidProtocolFees', None)) - float(\n",
    "                    token_data_2_weeks_ago.get('paidProtocolFees', None))\n",
    "                # Get twap token price from CoinGecko\n",
    "                token_price = fetch_token_price_balgql(token_data['address'], chain, start_date)\n",
    "                token_fees[pool_snapshot_now['pool']['symbol']].append({\n",
    "                    'token': token_data['symbol'],\n",
    "                    'token_fee': token_fee,\n",
    "                    'token_price': token_price,\n",
    "                    'token_fee_in_usd': Decimal(token_fee) * token_price if token_price is not None else 0,\n",
    "                    'token_addr': token_data['address'],\n",
    "                    'time_from': arb_datetime_2_weeks_ago,\n",
    "                    'time_to': arb_datetime_now,\n",
    "                    'chain': chain,\n",
    "                })\n",
    "        # Calculate non-BPT fees in USD\n",
    "        fees[pool_snapshot_now['pool']['symbol']] = {\n",
    "            'pool_fee': round(pool_fee, 2),\n",
    "            'swap_fee': round(pool_swap_fee, 2),\n",
    "            'bpt_token_fee': round(bpt_token_fee, 2),\n",
    "            # Get fee in USD by multiplying bpt_token_fee by price of BPT token taken from twap_bpt_price\n",
    "            'bpt_token_fee_in_usd': round(Decimal(bpt_token_fee) * bpt_price_usd, 2),\n",
    "            'token_fees_in_usd': round(sum([x['token_fee_in_usd'] for x in\n",
    "                                      token_fees[pool_snapshot_now['pool']['symbol']]]) if bpt_price_usd == 0 else 0, 2),\n",
    "            'time_from': arb_datetime_2_weeks_ago,\n",
    "            'time_to': arb_datetime_now,\n",
    "            'chain': chain,\n",
    "            'token_fees': token_fees[pool_snapshot_now['pool']['symbol']],\n",
    "        }\n",
    "    return fees\n",
    "\n",
    "\n",
    "arb_fees = collect_fee_info(ARB_CORE_POOLS, 'arbitrum', arbi_pool_snapshots_now,\n",
    "                            arbi_pool_snapshots_2_weeks_ago, arb_datetime_now.date())\n",
    "mainnet_fees = collect_fee_info(MAINNET_CORE_POOLS, 'mainnet', mainnet_pool_snapshots_now,\n",
    "                                mainnet_pool_snapshots_2_weeks_ago, mainnet_datetime_now.date())\n",
    "polygon_fees = collect_fee_info(POLYGON_CORE_POOLS, 'polygon', polygon_pool_snapshots_now,\n",
    "                                polygon_pool_snapshots_2_weeks_ago, poly_datetime_now.date())\n",
    "# Convert to dataframe, sort by chain and pool fee\n",
    "joint_fees = {**arb_fees, **mainnet_fees, **polygon_fees}\n",
    "joint_fees_df = pd.DataFrame.from_dict(joint_fees, orient='index')"
   ],
   "metadata": {
    "collapsed": false,
    "ExecuteTime": {
     "end_time": "2023-09-11T11:22:11.513316Z",
     "start_time": "2023-09-11T11:21:56.123826Z"
    }
   },
   "id": "e79b2f6a4ead2cad"
  },
  {
   "cell_type": "code",
   "execution_count": 5,
   "outputs": [
    {
     "data": {
      "text/plain": "                         pool_fee  swap_fee  bpt_token_fee  \\\nMaticX-bb-a-WMATIC-BPT    2636.89    286.01        3882.48   \nstMATIC-bb-a-WMATIC-BPT   2096.42     88.94           0.00   \nwstETH-bb-a-WETH-BPT         0.00      0.02           0.00   \nbb-am-usd                    0.00      0.00           0.00   \nwstETH-rETH-sfrxETH-BPT  29878.92   4302.87          15.95   \nB-rETH-STABLE            27610.34  16777.03           0.00   \n50STG-50bbaUSD           16308.63  27735.48       20756.67   \n50rETH-50BADGER          12131.48  12205.55         174.04   \nswETH-bb-a-WETH-BPT       7081.62     34.78           3.80   \nankrETH/wstETH            6092.63    869.23           3.28   \nGHO/bb-a-USD              3084.72   4449.01        3122.84   \nB-staFiETH-WETH-Stable    2880.99   1016.43           0.00   \n50rETH-50RPL              2860.23   3532.23          11.93   \n20WETH-80ALCX             1849.27   3755.47          64.25   \n50wstETH-50LDO             517.85    221.42           8.27   \n50wstETH-50ACX             349.81   1430.51          29.36   \nwbETH-wstETH                74.67      0.06           0.04   \ncbETH-bb-a-WETH-BPT          0.39      0.04           0.00   \nRDNT-WETH                16795.49  31290.79       12411.84   \nB-wstETH-WETH-Stable      4956.50     64.73           0.00   \nbb-a-USD                  3339.19    789.08        3336.00   \nrETH-bb-a-WETH-BPT        1280.07    372.01           0.67   \nbbaUSDC/bbaUSDCe           317.34    392.13         316.99   \nwstETH/rETH/cbETH          182.33    112.13           0.00   \n\n                        bpt_token_fee_in_usd token_fees_in_usd  \\\nMaticX-bb-a-WMATIC-BPT               2547.47                 0   \nstMATIC-bb-a-WMATIC-BPT                 0.00              0.00   \nwstETH-bb-a-WETH-BPT                    0.00              0.00   \nbb-am-usd                               0.00                 0   \nwstETH-rETH-sfrxETH-BPT             29194.40                 0   \nB-rETH-STABLE                           0.00          27055.45   \n50STG-50bbaUSD                      16559.10                 0   \n50rETH-50BADGER                     11638.35                 0   \nswETH-bb-a-WETH-BPT                  6922.79                 0   \nankrETH/wstETH                       6036.83                 0   \nGHO/bb-a-USD                         3064.25                 0   \nB-staFiETH-WETH-Stable                  0.00           2816.82   \n50rETH-50RPL                         2757.19                 0   \n20WETH-80ALCX                        1844.30                 0   \n50wstETH-50LDO                        502.73                 0   \n50wstETH-50ACX                        339.52                 0   \nwbETH-wstETH                           74.85                 0   \ncbETH-bb-a-WETH-BPT                     0.00              0.00   \nRDNT-WETH                           17051.47                 0   \nB-wstETH-WETH-Stable                    0.00           4912.65   \nbb-a-USD                             3337.74                 0   \nrETH-bb-a-WETH-BPT                   1225.86                 0   \nbbaUSDC/bbaUSDCe                      317.11                 0   \nwstETH/rETH/cbETH                       0.00              0.00   \n\n                                  time_from             time_to     chain  \nMaticX-bb-a-WMATIC-BPT  2023-08-04 03:00:00 2023-08-18 03:00:00   polygon  \nstMATIC-bb-a-WMATIC-BPT 2023-08-04 03:00:00 2023-08-18 03:00:00   polygon  \nwstETH-bb-a-WETH-BPT    2023-08-04 03:00:00 2023-08-18 03:00:00   polygon  \nbb-am-usd               2023-08-04 03:00:00 2023-08-18 03:00:00   polygon  \nwstETH-rETH-sfrxETH-BPT 2023-08-04 03:00:00 2023-08-18 03:00:00   mainnet  \nB-rETH-STABLE           2023-08-04 03:00:00 2023-08-18 03:00:00   mainnet  \n50STG-50bbaUSD          2023-08-04 03:00:00 2023-08-18 03:00:00   mainnet  \n50rETH-50BADGER         2023-08-04 03:00:00 2023-08-18 03:00:00   mainnet  \nswETH-bb-a-WETH-BPT     2023-08-04 03:00:00 2023-08-18 03:00:00   mainnet  \nankrETH/wstETH          2023-08-04 03:00:00 2023-08-18 03:00:00   mainnet  \nGHO/bb-a-USD            2023-08-04 03:00:00 2023-08-18 03:00:00   mainnet  \nB-staFiETH-WETH-Stable  2023-08-04 03:00:00 2023-08-18 03:00:00   mainnet  \n50rETH-50RPL            2023-08-04 03:00:00 2023-08-18 03:00:00   mainnet  \n20WETH-80ALCX           2023-08-04 03:00:00 2023-08-18 03:00:00   mainnet  \n50wstETH-50LDO          2023-08-04 03:00:00 2023-08-18 03:00:00   mainnet  \n50wstETH-50ACX          2023-08-04 03:00:00 2023-08-18 03:00:00   mainnet  \nwbETH-wstETH            2023-08-04 03:00:00 2023-08-18 03:00:00   mainnet  \ncbETH-bb-a-WETH-BPT     2023-08-04 03:00:00 2023-08-18 03:00:00   mainnet  \nRDNT-WETH               2023-08-04 03:00:00 2023-08-18 03:00:00  arbitrum  \nB-wstETH-WETH-Stable    2023-08-04 03:00:00 2023-08-18 03:00:00  arbitrum  \nbb-a-USD                2023-08-04 03:00:00 2023-08-18 03:00:00  arbitrum  \nrETH-bb-a-WETH-BPT      2023-08-04 03:00:00 2023-08-18 03:00:00  arbitrum  \nbbaUSDC/bbaUSDCe        2023-08-04 03:00:00 2023-08-18 03:00:00  arbitrum  \nwstETH/rETH/cbETH       2023-08-04 03:00:00 2023-08-18 03:00:00  arbitrum  ",
      "text/html": "<div>\n<style scoped>\n    .dataframe tbody tr th:only-of-type {\n        vertical-align: middle;\n    }\n\n    .dataframe tbody tr th {\n        vertical-align: top;\n    }\n\n    .dataframe thead th {\n        text-align: right;\n    }\n</style>\n<table border=\"1\" class=\"dataframe\">\n  <thead>\n    <tr style=\"text-align: right;\">\n      <th></th>\n      <th>pool_fee</th>\n      <th>swap_fee</th>\n      <th>bpt_token_fee</th>\n      <th>bpt_token_fee_in_usd</th>\n      <th>token_fees_in_usd</th>\n      <th>time_from</th>\n      <th>time_to</th>\n      <th>chain</th>\n    </tr>\n  </thead>\n  <tbody>\n    <tr>\n      <th>MaticX-bb-a-WMATIC-BPT</th>\n      <td>2636.89</td>\n      <td>286.01</td>\n      <td>3882.48</td>\n      <td>2547.47</td>\n      <td>0</td>\n      <td>2023-08-04 03:00:00</td>\n      <td>2023-08-18 03:00:00</td>\n      <td>polygon</td>\n    </tr>\n    <tr>\n      <th>stMATIC-bb-a-WMATIC-BPT</th>\n      <td>2096.42</td>\n      <td>88.94</td>\n      <td>0.00</td>\n      <td>0.00</td>\n      <td>0.00</td>\n      <td>2023-08-04 03:00:00</td>\n      <td>2023-08-18 03:00:00</td>\n      <td>polygon</td>\n    </tr>\n    <tr>\n      <th>wstETH-bb-a-WETH-BPT</th>\n      <td>0.00</td>\n      <td>0.02</td>\n      <td>0.00</td>\n      <td>0.00</td>\n      <td>0.00</td>\n      <td>2023-08-04 03:00:00</td>\n      <td>2023-08-18 03:00:00</td>\n      <td>polygon</td>\n    </tr>\n    <tr>\n      <th>bb-am-usd</th>\n      <td>0.00</td>\n      <td>0.00</td>\n      <td>0.00</td>\n      <td>0.00</td>\n      <td>0</td>\n      <td>2023-08-04 03:00:00</td>\n      <td>2023-08-18 03:00:00</td>\n      <td>polygon</td>\n    </tr>\n    <tr>\n      <th>wstETH-rETH-sfrxETH-BPT</th>\n      <td>29878.92</td>\n      <td>4302.87</td>\n      <td>15.95</td>\n      <td>29194.40</td>\n      <td>0</td>\n      <td>2023-08-04 03:00:00</td>\n      <td>2023-08-18 03:00:00</td>\n      <td>mainnet</td>\n    </tr>\n    <tr>\n      <th>B-rETH-STABLE</th>\n      <td>27610.34</td>\n      <td>16777.03</td>\n      <td>0.00</td>\n      <td>0.00</td>\n      <td>27055.45</td>\n      <td>2023-08-04 03:00:00</td>\n      <td>2023-08-18 03:00:00</td>\n      <td>mainnet</td>\n    </tr>\n    <tr>\n      <th>50STG-50bbaUSD</th>\n      <td>16308.63</td>\n      <td>27735.48</td>\n      <td>20756.67</td>\n      <td>16559.10</td>\n      <td>0</td>\n      <td>2023-08-04 03:00:00</td>\n      <td>2023-08-18 03:00:00</td>\n      <td>mainnet</td>\n    </tr>\n    <tr>\n      <th>50rETH-50BADGER</th>\n      <td>12131.48</td>\n      <td>12205.55</td>\n      <td>174.04</td>\n      <td>11638.35</td>\n      <td>0</td>\n      <td>2023-08-04 03:00:00</td>\n      <td>2023-08-18 03:00:00</td>\n      <td>mainnet</td>\n    </tr>\n    <tr>\n      <th>swETH-bb-a-WETH-BPT</th>\n      <td>7081.62</td>\n      <td>34.78</td>\n      <td>3.80</td>\n      <td>6922.79</td>\n      <td>0</td>\n      <td>2023-08-04 03:00:00</td>\n      <td>2023-08-18 03:00:00</td>\n      <td>mainnet</td>\n    </tr>\n    <tr>\n      <th>ankrETH/wstETH</th>\n      <td>6092.63</td>\n      <td>869.23</td>\n      <td>3.28</td>\n      <td>6036.83</td>\n      <td>0</td>\n      <td>2023-08-04 03:00:00</td>\n      <td>2023-08-18 03:00:00</td>\n      <td>mainnet</td>\n    </tr>\n    <tr>\n      <th>GHO/bb-a-USD</th>\n      <td>3084.72</td>\n      <td>4449.01</td>\n      <td>3122.84</td>\n      <td>3064.25</td>\n      <td>0</td>\n      <td>2023-08-04 03:00:00</td>\n      <td>2023-08-18 03:00:00</td>\n      <td>mainnet</td>\n    </tr>\n    <tr>\n      <th>B-staFiETH-WETH-Stable</th>\n      <td>2880.99</td>\n      <td>1016.43</td>\n      <td>0.00</td>\n      <td>0.00</td>\n      <td>2816.82</td>\n      <td>2023-08-04 03:00:00</td>\n      <td>2023-08-18 03:00:00</td>\n      <td>mainnet</td>\n    </tr>\n    <tr>\n      <th>50rETH-50RPL</th>\n      <td>2860.23</td>\n      <td>3532.23</td>\n      <td>11.93</td>\n      <td>2757.19</td>\n      <td>0</td>\n      <td>2023-08-04 03:00:00</td>\n      <td>2023-08-18 03:00:00</td>\n      <td>mainnet</td>\n    </tr>\n    <tr>\n      <th>20WETH-80ALCX</th>\n      <td>1849.27</td>\n      <td>3755.47</td>\n      <td>64.25</td>\n      <td>1844.30</td>\n      <td>0</td>\n      <td>2023-08-04 03:00:00</td>\n      <td>2023-08-18 03:00:00</td>\n      <td>mainnet</td>\n    </tr>\n    <tr>\n      <th>50wstETH-50LDO</th>\n      <td>517.85</td>\n      <td>221.42</td>\n      <td>8.27</td>\n      <td>502.73</td>\n      <td>0</td>\n      <td>2023-08-04 03:00:00</td>\n      <td>2023-08-18 03:00:00</td>\n      <td>mainnet</td>\n    </tr>\n    <tr>\n      <th>50wstETH-50ACX</th>\n      <td>349.81</td>\n      <td>1430.51</td>\n      <td>29.36</td>\n      <td>339.52</td>\n      <td>0</td>\n      <td>2023-08-04 03:00:00</td>\n      <td>2023-08-18 03:00:00</td>\n      <td>mainnet</td>\n    </tr>\n    <tr>\n      <th>wbETH-wstETH</th>\n      <td>74.67</td>\n      <td>0.06</td>\n      <td>0.04</td>\n      <td>74.85</td>\n      <td>0</td>\n      <td>2023-08-04 03:00:00</td>\n      <td>2023-08-18 03:00:00</td>\n      <td>mainnet</td>\n    </tr>\n    <tr>\n      <th>cbETH-bb-a-WETH-BPT</th>\n      <td>0.39</td>\n      <td>0.04</td>\n      <td>0.00</td>\n      <td>0.00</td>\n      <td>0.00</td>\n      <td>2023-08-04 03:00:00</td>\n      <td>2023-08-18 03:00:00</td>\n      <td>mainnet</td>\n    </tr>\n    <tr>\n      <th>RDNT-WETH</th>\n      <td>16795.49</td>\n      <td>31290.79</td>\n      <td>12411.84</td>\n      <td>17051.47</td>\n      <td>0</td>\n      <td>2023-08-04 03:00:00</td>\n      <td>2023-08-18 03:00:00</td>\n      <td>arbitrum</td>\n    </tr>\n    <tr>\n      <th>B-wstETH-WETH-Stable</th>\n      <td>4956.50</td>\n      <td>64.73</td>\n      <td>0.00</td>\n      <td>0.00</td>\n      <td>4912.65</td>\n      <td>2023-08-04 03:00:00</td>\n      <td>2023-08-18 03:00:00</td>\n      <td>arbitrum</td>\n    </tr>\n    <tr>\n      <th>bb-a-USD</th>\n      <td>3339.19</td>\n      <td>789.08</td>\n      <td>3336.00</td>\n      <td>3337.74</td>\n      <td>0</td>\n      <td>2023-08-04 03:00:00</td>\n      <td>2023-08-18 03:00:00</td>\n      <td>arbitrum</td>\n    </tr>\n    <tr>\n      <th>rETH-bb-a-WETH-BPT</th>\n      <td>1280.07</td>\n      <td>372.01</td>\n      <td>0.67</td>\n      <td>1225.86</td>\n      <td>0</td>\n      <td>2023-08-04 03:00:00</td>\n      <td>2023-08-18 03:00:00</td>\n      <td>arbitrum</td>\n    </tr>\n    <tr>\n      <th>bbaUSDC/bbaUSDCe</th>\n      <td>317.34</td>\n      <td>392.13</td>\n      <td>316.99</td>\n      <td>317.11</td>\n      <td>0</td>\n      <td>2023-08-04 03:00:00</td>\n      <td>2023-08-18 03:00:00</td>\n      <td>arbitrum</td>\n    </tr>\n    <tr>\n      <th>wstETH/rETH/cbETH</th>\n      <td>182.33</td>\n      <td>112.13</td>\n      <td>0.00</td>\n      <td>0.00</td>\n      <td>0.00</td>\n      <td>2023-08-04 03:00:00</td>\n      <td>2023-08-18 03:00:00</td>\n      <td>arbitrum</td>\n    </tr>\n  </tbody>\n</table>\n</div>"
     },
     "execution_count": 5,
     "metadata": {},
     "output_type": "execute_result"
    }
   ],
   "source": [
    "# Remove `token_fees` field from dataframe, as it's too big\n",
    "joint_fees_df_copy = joint_fees_df.drop(columns=['token_fees'])\n",
    "# Display all rows in dataframe\n",
    "pd.set_option('display.max_rows', 1000)\n",
    "joint_fees_df_copy.sort_values(by=['chain', 'pool_fee'], ascending=False)"
   ],
   "metadata": {
    "collapsed": false,
    "ExecuteTime": {
     "end_time": "2023-09-11T11:22:11.555946Z",
     "start_time": "2023-09-11T11:22:11.522353Z"
    }
   },
   "id": "52fccc19e5e6b4f2"
  },
  {
   "cell_type": "markdown",
   "source": [
    "## Now let's calculate bribes paid to the pools"
   ],
   "metadata": {
    "collapsed": false
   },
   "id": "97a5370819f28ffc"
  },
  {
   "cell_type": "code",
   "execution_count": 12,
   "outputs": [
    {
     "data": {
      "text/plain": "                            chain                    aura_bribes  \\\nrETH-bb-a-WETH-BPT       arbitrum  226.6925211286357966876202621   \nB-wstETH-WETH-Stable     arbitrum  908.4732464739796115359320646   \nwstETH/rETH/cbETH        arbitrum                          0E-31   \nbb-a-USD                 arbitrum  617.2325514103509732238083090   \nRDNT-WETH                arbitrum  3153.248106022954846511882491   \nbbaUSDC/bbaUSDCe         arbitrum  58.64166003874969204281994789   \nB-rETH-STABLE             mainnet  5003.237050535745815584223011   \nswETH-bb-a-WETH-BPT       mainnet  1280.198977325394912103413664   \ncbETH-bb-a-WETH-BPT       mainnet                          0E-31   \nwstETH-rETH-sfrxETH-BPT   mainnet  5398.783008531027117955607476   \n20WETH-80ALCX             mainnet  341.0577200639086028020965277   \nB-staFiETH-WETH-Stable    mainnet  520.9012671639207452936081663   \nGHO/bb-a-USD              mainnet  566.6573327039158142039387762   \nankrETH/wstETH            mainnet  1116.362563689966583882112661   \n50wstETH-50LDO            mainnet  92.96749314521974293048744096   \n50rETH-50BADGER           mainnet  2152.225297568611770005845103   \n50rETH-50RPL              mainnet  509.8741718717172697283047905   \n50STG-50bbaUSD            mainnet  3062.196438925483351222792719   \nwbETH-wstETH              mainnet  13.84165826968690501531037526   \n50wstETH-50ACX            mainnet  62.78583588141747482696297407   \nwstETH-bb-a-WETH-BPT      polygon                          0E-31   \nbb-am-usd                 polygon                          0E-31   \nstMATIC-bb-a-WMATIC-BPT   polygon                          0E-31   \nMaticX-bb-a-WMATIC-BPT    polygon  471.0916391754081485551465821   \n\n                                            bal_bribes pool_total fees_taken  \nrETH-bb-a-WETH-BPT       386.2374788713642033123797379    1225.86    612.930  \nB-wstETH-WETH-Stable     1547.851753526020388464067935    4912.65   2456.325  \nwstETH/rETH/cbETH                                0E-31       0.00      0.000  \nbb-a-USD                 1051.637448589649026776191691    3337.74   1668.870  \nRDNT-WETH                5372.486893977045153488117509   17051.47   8525.735  \nbbaUSDC/bbaUSDCe         99.91333996125030795718005211     317.11    158.555  \nB-rETH-STABLE            8524.487949464254184415776989   27055.45  13527.725  \nswETH-bb-a-WETH-BPT      2181.196022674605087896586336    6922.79   3461.395  \ncbETH-bb-a-WETH-BPT                              0E-31       0.00      0.000  \nwstETH-rETH-sfrxETH-BPT  9198.416991468972882044392524   29194.40  14597.200  \n20WETH-80ALCX            581.0922799360913971979034723    1844.30    922.150  \nB-staFiETH-WETH-Stable   887.5087328360792547063918337    2816.82   1408.410  \nGHO/bb-a-USD             965.4676672960841857960612238    3064.25   1532.125  \nankrETH/wstETH           1902.052436310033416117887339    6036.83   3018.415  \n50wstETH-50LDO           158.3975068547802570695125590     502.73    251.365  \n50rETH-50BADGER          3666.949702431388229994154897   11638.35   5819.175  \n50rETH-50RPL             868.7208281282827302716952095    2757.19   1378.595  \n50STG-50bbaUSD           5217.353561074516648777207281   16559.10   8279.550  \nwbETH-wstETH             23.58334173031309498468962474      74.85     37.425  \n50wstETH-50ACX           106.9741641185825251730370259     339.52    169.760  \nwstETH-bb-a-WETH-BPT                             0E-31       0.00      0.000  \nbb-am-usd                                        0E-31       0.00      0.000  \nstMATIC-bb-a-WMATIC-BPT                          0E-31       0.00      0.000  \nMaticX-bb-a-WMATIC-BPT   802.6433608245918514448534179    2547.47   1273.735  ",
      "text/html": "<div>\n<style scoped>\n    .dataframe tbody tr th:only-of-type {\n        vertical-align: middle;\n    }\n\n    .dataframe tbody tr th {\n        vertical-align: top;\n    }\n\n    .dataframe thead th {\n        text-align: right;\n    }\n</style>\n<table border=\"1\" class=\"dataframe\">\n  <thead>\n    <tr style=\"text-align: right;\">\n      <th></th>\n      <th>chain</th>\n      <th>aura_bribes</th>\n      <th>bal_bribes</th>\n      <th>pool_total</th>\n      <th>fees_taken</th>\n    </tr>\n  </thead>\n  <tbody>\n    <tr>\n      <th>rETH-bb-a-WETH-BPT</th>\n      <td>arbitrum</td>\n      <td>226.6925211286357966876202621</td>\n      <td>386.2374788713642033123797379</td>\n      <td>1225.86</td>\n      <td>612.930</td>\n    </tr>\n    <tr>\n      <th>B-wstETH-WETH-Stable</th>\n      <td>arbitrum</td>\n      <td>908.4732464739796115359320646</td>\n      <td>1547.851753526020388464067935</td>\n      <td>4912.65</td>\n      <td>2456.325</td>\n    </tr>\n    <tr>\n      <th>wstETH/rETH/cbETH</th>\n      <td>arbitrum</td>\n      <td>0E-31</td>\n      <td>0E-31</td>\n      <td>0.00</td>\n      <td>0.000</td>\n    </tr>\n    <tr>\n      <th>bb-a-USD</th>\n      <td>arbitrum</td>\n      <td>617.2325514103509732238083090</td>\n      <td>1051.637448589649026776191691</td>\n      <td>3337.74</td>\n      <td>1668.870</td>\n    </tr>\n    <tr>\n      <th>RDNT-WETH</th>\n      <td>arbitrum</td>\n      <td>3153.248106022954846511882491</td>\n      <td>5372.486893977045153488117509</td>\n      <td>17051.47</td>\n      <td>8525.735</td>\n    </tr>\n    <tr>\n      <th>bbaUSDC/bbaUSDCe</th>\n      <td>arbitrum</td>\n      <td>58.64166003874969204281994789</td>\n      <td>99.91333996125030795718005211</td>\n      <td>317.11</td>\n      <td>158.555</td>\n    </tr>\n    <tr>\n      <th>B-rETH-STABLE</th>\n      <td>mainnet</td>\n      <td>5003.237050535745815584223011</td>\n      <td>8524.487949464254184415776989</td>\n      <td>27055.45</td>\n      <td>13527.725</td>\n    </tr>\n    <tr>\n      <th>swETH-bb-a-WETH-BPT</th>\n      <td>mainnet</td>\n      <td>1280.198977325394912103413664</td>\n      <td>2181.196022674605087896586336</td>\n      <td>6922.79</td>\n      <td>3461.395</td>\n    </tr>\n    <tr>\n      <th>cbETH-bb-a-WETH-BPT</th>\n      <td>mainnet</td>\n      <td>0E-31</td>\n      <td>0E-31</td>\n      <td>0.00</td>\n      <td>0.000</td>\n    </tr>\n    <tr>\n      <th>wstETH-rETH-sfrxETH-BPT</th>\n      <td>mainnet</td>\n      <td>5398.783008531027117955607476</td>\n      <td>9198.416991468972882044392524</td>\n      <td>29194.40</td>\n      <td>14597.200</td>\n    </tr>\n    <tr>\n      <th>20WETH-80ALCX</th>\n      <td>mainnet</td>\n      <td>341.0577200639086028020965277</td>\n      <td>581.0922799360913971979034723</td>\n      <td>1844.30</td>\n      <td>922.150</td>\n    </tr>\n    <tr>\n      <th>B-staFiETH-WETH-Stable</th>\n      <td>mainnet</td>\n      <td>520.9012671639207452936081663</td>\n      <td>887.5087328360792547063918337</td>\n      <td>2816.82</td>\n      <td>1408.410</td>\n    </tr>\n    <tr>\n      <th>GHO/bb-a-USD</th>\n      <td>mainnet</td>\n      <td>566.6573327039158142039387762</td>\n      <td>965.4676672960841857960612238</td>\n      <td>3064.25</td>\n      <td>1532.125</td>\n    </tr>\n    <tr>\n      <th>ankrETH/wstETH</th>\n      <td>mainnet</td>\n      <td>1116.362563689966583882112661</td>\n      <td>1902.052436310033416117887339</td>\n      <td>6036.83</td>\n      <td>3018.415</td>\n    </tr>\n    <tr>\n      <th>50wstETH-50LDO</th>\n      <td>mainnet</td>\n      <td>92.96749314521974293048744096</td>\n      <td>158.3975068547802570695125590</td>\n      <td>502.73</td>\n      <td>251.365</td>\n    </tr>\n    <tr>\n      <th>50rETH-50BADGER</th>\n      <td>mainnet</td>\n      <td>2152.225297568611770005845103</td>\n      <td>3666.949702431388229994154897</td>\n      <td>11638.35</td>\n      <td>5819.175</td>\n    </tr>\n    <tr>\n      <th>50rETH-50RPL</th>\n      <td>mainnet</td>\n      <td>509.8741718717172697283047905</td>\n      <td>868.7208281282827302716952095</td>\n      <td>2757.19</td>\n      <td>1378.595</td>\n    </tr>\n    <tr>\n      <th>50STG-50bbaUSD</th>\n      <td>mainnet</td>\n      <td>3062.196438925483351222792719</td>\n      <td>5217.353561074516648777207281</td>\n      <td>16559.10</td>\n      <td>8279.550</td>\n    </tr>\n    <tr>\n      <th>wbETH-wstETH</th>\n      <td>mainnet</td>\n      <td>13.84165826968690501531037526</td>\n      <td>23.58334173031309498468962474</td>\n      <td>74.85</td>\n      <td>37.425</td>\n    </tr>\n    <tr>\n      <th>50wstETH-50ACX</th>\n      <td>mainnet</td>\n      <td>62.78583588141747482696297407</td>\n      <td>106.9741641185825251730370259</td>\n      <td>339.52</td>\n      <td>169.760</td>\n    </tr>\n    <tr>\n      <th>wstETH-bb-a-WETH-BPT</th>\n      <td>polygon</td>\n      <td>0E-31</td>\n      <td>0E-31</td>\n      <td>0.00</td>\n      <td>0.000</td>\n    </tr>\n    <tr>\n      <th>bb-am-usd</th>\n      <td>polygon</td>\n      <td>0E-31</td>\n      <td>0E-31</td>\n      <td>0.00</td>\n      <td>0.000</td>\n    </tr>\n    <tr>\n      <th>stMATIC-bb-a-WMATIC-BPT</th>\n      <td>polygon</td>\n      <td>0E-31</td>\n      <td>0E-31</td>\n      <td>0.00</td>\n      <td>0.000</td>\n    </tr>\n    <tr>\n      <th>MaticX-bb-a-WMATIC-BPT</th>\n      <td>polygon</td>\n      <td>471.0916391754081485551465821</td>\n      <td>802.6433608245918514448534179</td>\n      <td>2547.47</td>\n      <td>1273.735</td>\n    </tr>\n  </tbody>\n</table>\n</div>"
     },
     "execution_count": 12,
     "metadata": {},
     "output_type": "execute_result"
    }
   ],
   "source": [
    "from notebooks import calculate_aura_vebal_share\n",
    "\n",
    "aura_vebal_share = calculate_aura_vebal_share(eth_web3, mainnet_block)\n",
    "\n",
    "# Bribes are split per chain and per pool, with each pool getting a share of the bribe proportional to its share of fees\n",
    "# paid by all pools on that chain. For example, if pool A paid 10% of all fees on Arbitrum, it will get 10% of the bribes. That 10% will be distributed between aura and vebal, proportional to their share of the bribe.\n",
    "FEE = Decimal(0.5)  # 50% goes to fees\n",
    "# Let's calculate share of fees paid by each pool on each chain\n",
    "def calc_and_split_bribes(fees: Dict, chain: str) -> Dict[str, Dict]:\n",
    "    pool_bribs = {}\n",
    "    for pool, data in fees.items():\n",
    "        pool_fees = data['bpt_token_fee_in_usd'] + data['token_fees_in_usd']\n",
    "        # Split fees between aura and bal fees\n",
    "        pool_bribs[pool] = {\n",
    "            \"chain\": chain,\n",
    "            \"aura_bribes\": pool_fees * FEE * aura_vebal_share,\n",
    "            \"bal_bribes\": pool_fees * FEE * (1 - aura_vebal_share),\n",
    "            \"pool_total\": pool_fees,\n",
    "            \"fees_taken\": pool_fees * FEE,\n",
    "        }\n",
    "    return pool_bribs\n",
    "mainnet_bribes = calc_and_split_bribes(mainnet_fees, 'mainnet')\n",
    "arb_bribes = calc_and_split_bribes(arb_fees, 'arbitrum')\n",
    "polygon_bribes = calc_and_split_bribes(polygon_fees, 'polygon')\n",
    "# Convert to dataframe\n",
    "joint_bribes_data = {**arb_bribes, **mainnet_bribes, **polygon_bribes}\n",
    "# Sort by chain:\n",
    "joint_bribes_data = {k: v for k, v in sorted(joint_bribes_data.items(), key=lambda item: item[1]['chain'])}\n",
    "joint_bribes_df = pd.DataFrame.from_dict(joint_bribes_data, orient='index')\n",
    "# Sort by chain\n",
    "# Dump into csv and prefix with dates\n",
    "joint_bribes_df.to_csv(f'../data/bribs/bribes_{arb_datetime_2_weeks_ago.date()}_{arb_datetime_now.date()}.csv')\n",
    "joint_bribes_df"
   ],
   "metadata": {
    "collapsed": false,
    "ExecuteTime": {
     "end_time": "2023-09-11T11:26:13.226725Z",
     "start_time": "2023-09-11T11:26:12.363817Z"
    }
   },
   "id": "efdef306c522076a"
  }
 ],
 "metadata": {
  "kernelspec": {
   "display_name": "Python 3",
   "language": "python",
   "name": "python3"
  },
  "language_info": {
   "codemirror_mode": {
    "name": "ipython",
    "version": 2
   },
   "file_extension": ".py",
   "mimetype": "text/x-python",
   "name": "python",
   "nbconvert_exporter": "python",
   "pygments_lexer": "ipython2",
   "version": "2.7.6"
  }
 },
 "nbformat": 4,
 "nbformat_minor": 5
}
