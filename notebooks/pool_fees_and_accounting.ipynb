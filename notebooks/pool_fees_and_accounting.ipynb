{
 "cells": [
  {
   "cell_type": "markdown",
   "source": [
    "## Collecting protocol fees across Balancer core pools on all networks\n",
    "- Spreadsheet as reference: https://docs.google.com/spreadsheets/d/1xwUPpbYq7woVOU9vQ8EB8MY75I-1mauTLyDVwvKUDKo/edit#gid=0\n",
    "- Collab: https://colab.research.google.com/drive/1vKCvcV5mkL1zwW3565kLSGkBEbt8NsoB?usp=sharing\n"
   ],
   "metadata": {
    "collapsed": false
   },
   "id": "e739385af75b2478"
  },
  {
   "cell_type": "code",
   "execution_count": 1,
   "outputs": [],
   "source": [
    "# Define constants for Arbitrum:\n",
    "ARB_CORE_POOLS = [\n",
    "    \"0xbe0f30217be1e981add883848d0773a86d2d2cd4000000000000000000000471\",\n",
    "    \"0x36bf227d6bac96e2ab1ebb5492ecec69c691943f000200000000000000000316\",\n",
    "    \"0x4a2f6ae7f3e5d715689530873ec35593dc28951b000000000000000000000481\",\n",
    "    \"0xc6eee8cb7643ec2f05f46d569e9ec8ef8b41b389000000000000000000000475\",\n",
    "    \"0x32df62dc3aed2cd6224193052ce665dc181658410002000000000000000003bd\",\n",
    "    \"0x45c4d1376943ab28802b995acffc04903eb5223f000000000000000000000470\",\n",
    "    \"0x9cebf13bb702f253abf1579294694a1edad00eaa000000000000000000000486\",\n",
    "]\n",
    "ARB_BALANCER_GRAPH_URL = \"https://api.thegraph.com/subgraphs/name/balancer-labs/balancer-arbitrum-v2\"\n",
    "# Arb block time is .3 seconds\n",
    "ARB_CHAIN_BLOCK_TIME = 0.27\n",
    "\n",
    "MAINNET_CORE_POOLS = [\n",
    "    \"0x41503c9d499ddbd1dcdf818a1b05e9774203bf46000000000000000000000594\",\n",
    "    \"0x1e19cf2d73a72ef1332c882f20534b6519be0276000200000000000000000112\",\n",
    "    \"0xae8535c23afedda9304b03c68a3563b75fc8f92b0000000000000000000005a0\",\n",
    "    \"0x4c81255cc9ed7062180ea99962fe05ac0d57350b0000000000000000000005a3\",\n",
    "    \"0x42ed016f826165c2e5976fe5bc3df540c5ad0af700000000000000000000058b\",\n",
    "    \"0xf16aee6a71af1a9bc8f56975a4c2705ca7a782bc0002000000000000000004bb\",\n",
    "    \"0xb08885e6026bab4333a80024ec25a1a3e1ff2b8a000200000000000000000445\",\n",
    "    \"0xc2b021133d1b0cf07dba696fd5dd89338428225b000000000000000000000598\",\n",
    "    \"0xdfe6e7e18f6cc65fa13c8d8966013d4fda74b6ba000000000000000000000558\",\n",
    "    \"0x5f1f4e50ba51d723f12385a8a9606afc3a0555f5000200000000000000000465\",\n",
    "    \"0x1ee442b5326009bb18f2f472d3e0061513d1a0ff000200000000000000000464\",\n",
    "    \"0x9f9d900462492d4c21e9523ca95a7cd86142f298000200000000000000000462\",\n",
    "    \"0x639883476960a23b38579acfd7d71561a0f408cf000200000000000000000505\",\n",
    "    \"0x2e848426aec6dbf2260535a5bea048ed94d9ff3d000000000000000000000536\",\n",
    "    \"0x36be1e97ea98ab43b4debf92742517266f5731a3000200000000000000000466\",\n",
    "]\n",
    "MAINNET_BALANCER_GRAPH_URL = \"https://api.thegraph.com/subgraphs/name/balancer-labs/balancer-v2\"\n",
    "MAINNET_CHAIN_BLOCK_TIME = 12"
   ],
   "metadata": {
    "collapsed": false,
    "ExecuteTime": {
     "end_time": "2023-08-16T13:38:20.437201Z",
     "start_time": "2023-08-16T13:38:20.418749Z"
    }
   },
   "id": "39d87004addaae1b"
  },
  {
   "cell_type": "code",
   "execution_count": 2,
   "outputs": [],
   "source": [
    "# Query:\n",
    "POOLS_SNAPSHOTS_QUERY = \"\"\"\n",
    "{{\n",
    "  poolSnapshots(\n",
    "    first: {first}\n",
    "    skip: {skip}\n",
    "    orderBy: timestamp\n",
    "    orderDirection: desc\n",
    "    block: {{ number: {block} }}\n",
    "    where: {{ protocolFee_not: null }}\n",
    "  ) {{\n",
    "    pool {{\n",
    "      address\n",
    "      id\n",
    "      symbol\n",
    "      totalProtocolFeePaidInBPT\n",
    "      tokens {{\n",
    "        symbol\n",
    "        paidProtocolFees\n",
    "      }}\n",
    "    }}\n",
    "    timestamp\n",
    "    protocolFee\n",
    "    swapFees\n",
    "    swapVolume\n",
    "    liquidity\n",
    "  }}\n",
    "}}\n",
    "\"\"\""
   ],
   "metadata": {
    "collapsed": false,
    "ExecuteTime": {
     "end_time": "2023-08-16T13:38:20.438364Z",
     "start_time": "2023-08-16T13:38:20.422614Z"
    }
   },
   "id": "abc722b4fa453b5a"
  },
  {
   "cell_type": "markdown",
   "source": [
    "## Fetching data from the Balancer subgraphs"
   ],
   "metadata": {
    "collapsed": false
   },
   "id": "cde5ffca807e3849"
  },
  {
   "cell_type": "code",
   "execution_count": 3,
   "outputs": [],
   "source": [
    "import os\n",
    "import datetime\n",
    "from typing import Dict\n",
    "from typing import List\n",
    "from typing import Optional\n",
    "\n",
    "from dotenv import load_dotenv\n",
    "from gql import Client\n",
    "from gql import gql\n",
    "from gql.transport.requests import RequestsHTTPTransport\n",
    "from web3 import Web3\n",
    "\n",
    "load_dotenv()\n",
    "arb_web3 = Web3(Web3.HTTPProvider(os.environ[\"ARBNODEURL\"]))\n",
    "eth_web3 = Web3(Web3.HTTPProvider(os.environ[\"ETHNODEURL\"]))\n",
    "# ARBITRUM\n",
    "arb_block_now = arb_web3.eth.block_number - 1000\n",
    "arb_timestamp_now = arb_web3.eth.get_block(arb_block_now).timestamp\n",
    "# Given Arb block time, we want to look back 2 weeks:\n",
    "arb_block_2_weeks_ago = arb_block_now - (2 * 7 * 24 * 60 * 60 / ARB_CHAIN_BLOCK_TIME)\n",
    "arb_timestamp_2_weeks_ago = arb_web3.eth.get_block(int(arb_block_2_weeks_ago)).timestamp\n",
    "# Convert to datetime:\n",
    "arb_datetime_now = datetime.datetime.fromtimestamp(arb_timestamp_now)\n",
    "arb_datetime_2_weeks_ago = datetime.datetime.fromtimestamp(arb_timestamp_2_weeks_ago)\n",
    "# MAINNET\n",
    "mainnet_block_now = eth_web3.eth.block_number - 1000\n",
    "mainnet_timestamp_now = eth_web3.eth.get_block(mainnet_block_now).timestamp\n",
    "# Given mainnet block time, we want to look back 2 weeks:\n",
    "mainnet_block_2_weeks_ago = mainnet_block_now - (2 * 7 * 24 * 60 * 60 / MAINNET_CHAIN_BLOCK_TIME)\n",
    "mainnet_timestamp_2_weeks_ago = eth_web3.eth.get_block(int(mainnet_block_2_weeks_ago)).timestamp\n",
    "# Convert to datetime:\n",
    "mainnet_datetime_now = datetime.datetime.fromtimestamp(mainnet_timestamp_now)\n",
    "mainnet_datetime_2_weeks_ago = datetime.datetime.fromtimestamp(mainnet_timestamp_2_weeks_ago)\n",
    "\n",
    "\n",
    "# Fetch all the data from the balancer subgraph\n",
    "def make_gql_client(url: str) -> Optional[Client]:\n",
    "    transport = RequestsHTTPTransport(url=url, retries=3)\n",
    "    return Client(\n",
    "        transport=transport, fetch_schema_from_transport=True, execute_timeout=60\n",
    "    )\n",
    "\n",
    "\n",
    "def get_balancer_pool_snapshots(block: int, graph_url: str) -> Optional[List[Dict]]:\n",
    "    client = make_gql_client(graph_url)\n",
    "    all_pools = []\n",
    "    limit = 1000\n",
    "    offset = 0\n",
    "    while True:\n",
    "        result = client.execute(\n",
    "            gql(POOLS_SNAPSHOTS_QUERY.format(first=limit, skip=offset, block=block)))\n",
    "        all_pools.extend(result['poolSnapshots'])\n",
    "        offset += limit\n",
    "        if offset >= 5000:\n",
    "            break\n",
    "        if len(result['poolSnapshots']) < limit - 1:\n",
    "            break\n",
    "    return all_pools\n",
    "\n",
    "\n",
    "arbi_pool_snapshots_now = get_balancer_pool_snapshots(arb_block_now, ARB_BALANCER_GRAPH_URL)\n",
    "arbi_pool_snapshots_2_weeks_ago = get_balancer_pool_snapshots(int(arb_block_2_weeks_ago), ARB_BALANCER_GRAPH_URL)\n",
    "\n",
    "mainnet_pool_snapshots_now = get_balancer_pool_snapshots(mainnet_block_now, MAINNET_BALANCER_GRAPH_URL)\n",
    "mainnet_pool_snapshots_2_weeks_ago = get_balancer_pool_snapshots(int(mainnet_block_2_weeks_ago), MAINNET_BALANCER_GRAPH_URL)"
   ],
   "metadata": {
    "collapsed": false,
    "ExecuteTime": {
     "end_time": "2023-08-16T13:39:00.535229Z",
     "start_time": "2023-08-16T13:38:20.428948Z"
    }
   },
   "id": "e1e0b8b90f62234c"
  },
  {
   "cell_type": "markdown",
   "source": [
    "## Extract fee data from CORE pools:\n"
   ],
   "metadata": {
    "collapsed": false
   },
   "id": "d5333a7de445454d"
  },
  {
   "cell_type": "code",
   "execution_count": 6,
   "outputs": [
    {
     "data": {
      "text/plain": "                         pool_fee  swap_fee  bpt_token_fee  \\\nwstETH-rETH-sfrxETH-BPT  27491.32   4293.62          14.74   \nB-rETH-STABLE            25985.83  16366.29           0.00   \n50rETH-50BADGER          17810.87  10529.54         261.64   \n50STG-50bbaUSD           16308.63  23723.88       20756.67   \nwstETH-bb-a-WETH-BPT     15475.30   4690.28           8.31   \nswETH-bb-a-WETH-BPT       7651.86     34.81           4.11   \nankrETH/wstETH            6248.11    984.55           3.36   \nB-staFiETH-WETH-Stable    3280.31   1164.77           0.00   \nGHO/bb-a-USD              3147.67   4596.68        3181.08   \n50rETH-50RPL              2860.23   3425.67          11.93   \n50wstETH-50ACX            2068.69   1551.36         170.35   \n20WETH-80ALCX             1249.84   3385.13          42.11   \n50wstETH-50LDO             517.85    164.93           8.27   \nwbETH-wstETH               206.41      0.10           0.11   \ncbETH-bb-a-WETH-BPT          0.14      0.01           0.00   \nRDNT-WETH                14684.52  25490.05       10532.55   \nB-wstETH-WETH-Stable      5068.09     60.12           0.00   \nbb-a-USD                  3277.65    707.07        3274.60   \nrETH-bb-a-WETH-BPT        1169.42    336.57           0.61   \nbbaUSDC/bbaUSDCe           246.09    286.17         245.84   \nwstETH/rETH/cbETH          105.95     77.85           0.00   \n\n                                  time_from             time_to     chain  \nwstETH-rETH-sfrxETH-BPT 2023-08-02 20:26:18 2023-08-16 16:34:06   mainnet  \nB-rETH-STABLE           2023-08-02 20:26:18 2023-08-16 16:34:06   mainnet  \n50rETH-50BADGER         2023-08-02 20:26:18 2023-08-16 16:34:06   mainnet  \n50STG-50bbaUSD          2023-08-02 20:26:18 2023-08-16 16:34:06   mainnet  \nwstETH-bb-a-WETH-BPT    2023-08-02 20:26:18 2023-08-16 16:34:06   mainnet  \nswETH-bb-a-WETH-BPT     2023-08-02 20:26:18 2023-08-16 16:34:06   mainnet  \nankrETH/wstETH          2023-08-02 20:26:18 2023-08-16 16:34:06   mainnet  \nB-staFiETH-WETH-Stable  2023-08-02 20:26:18 2023-08-16 16:34:06   mainnet  \nGHO/bb-a-USD            2023-08-02 20:26:18 2023-08-16 16:34:06   mainnet  \n50rETH-50RPL            2023-08-02 20:26:18 2023-08-16 16:34:06   mainnet  \n50wstETH-50ACX          2023-08-02 20:26:18 2023-08-16 16:34:06   mainnet  \n20WETH-80ALCX           2023-08-02 20:26:18 2023-08-16 16:34:06   mainnet  \n50wstETH-50LDO          2023-08-02 20:26:18 2023-08-16 16:34:06   mainnet  \nwbETH-wstETH            2023-08-02 20:26:18 2023-08-16 16:34:06   mainnet  \ncbETH-bb-a-WETH-BPT     2023-08-02 20:26:18 2023-08-16 16:34:06   mainnet  \nRDNT-WETH               2023-08-02 20:26:18 2023-08-16 16:34:06  arbitrum  \nB-wstETH-WETH-Stable    2023-08-02 20:26:18 2023-08-16 16:34:06  arbitrum  \nbb-a-USD                2023-08-02 20:26:18 2023-08-16 16:34:06  arbitrum  \nrETH-bb-a-WETH-BPT      2023-08-02 20:26:18 2023-08-16 16:34:06  arbitrum  \nbbaUSDC/bbaUSDCe        2023-08-02 20:26:18 2023-08-16 16:34:06  arbitrum  \nwstETH/rETH/cbETH       2023-08-02 20:26:18 2023-08-16 16:34:06  arbitrum  ",
      "text/html": "<div>\n<style scoped>\n    .dataframe tbody tr th:only-of-type {\n        vertical-align: middle;\n    }\n\n    .dataframe tbody tr th {\n        vertical-align: top;\n    }\n\n    .dataframe thead th {\n        text-align: right;\n    }\n</style>\n<table border=\"1\" class=\"dataframe\">\n  <thead>\n    <tr style=\"text-align: right;\">\n      <th></th>\n      <th>pool_fee</th>\n      <th>swap_fee</th>\n      <th>bpt_token_fee</th>\n      <th>time_from</th>\n      <th>time_to</th>\n      <th>chain</th>\n    </tr>\n  </thead>\n  <tbody>\n    <tr>\n      <th>wstETH-rETH-sfrxETH-BPT</th>\n      <td>27491.32</td>\n      <td>4293.62</td>\n      <td>14.74</td>\n      <td>2023-08-02 20:26:18</td>\n      <td>2023-08-16 16:34:06</td>\n      <td>mainnet</td>\n    </tr>\n    <tr>\n      <th>B-rETH-STABLE</th>\n      <td>25985.83</td>\n      <td>16366.29</td>\n      <td>0.00</td>\n      <td>2023-08-02 20:26:18</td>\n      <td>2023-08-16 16:34:06</td>\n      <td>mainnet</td>\n    </tr>\n    <tr>\n      <th>50rETH-50BADGER</th>\n      <td>17810.87</td>\n      <td>10529.54</td>\n      <td>261.64</td>\n      <td>2023-08-02 20:26:18</td>\n      <td>2023-08-16 16:34:06</td>\n      <td>mainnet</td>\n    </tr>\n    <tr>\n      <th>50STG-50bbaUSD</th>\n      <td>16308.63</td>\n      <td>23723.88</td>\n      <td>20756.67</td>\n      <td>2023-08-02 20:26:18</td>\n      <td>2023-08-16 16:34:06</td>\n      <td>mainnet</td>\n    </tr>\n    <tr>\n      <th>wstETH-bb-a-WETH-BPT</th>\n      <td>15475.30</td>\n      <td>4690.28</td>\n      <td>8.31</td>\n      <td>2023-08-02 20:26:18</td>\n      <td>2023-08-16 16:34:06</td>\n      <td>mainnet</td>\n    </tr>\n    <tr>\n      <th>swETH-bb-a-WETH-BPT</th>\n      <td>7651.86</td>\n      <td>34.81</td>\n      <td>4.11</td>\n      <td>2023-08-02 20:26:18</td>\n      <td>2023-08-16 16:34:06</td>\n      <td>mainnet</td>\n    </tr>\n    <tr>\n      <th>ankrETH/wstETH</th>\n      <td>6248.11</td>\n      <td>984.55</td>\n      <td>3.36</td>\n      <td>2023-08-02 20:26:18</td>\n      <td>2023-08-16 16:34:06</td>\n      <td>mainnet</td>\n    </tr>\n    <tr>\n      <th>B-staFiETH-WETH-Stable</th>\n      <td>3280.31</td>\n      <td>1164.77</td>\n      <td>0.00</td>\n      <td>2023-08-02 20:26:18</td>\n      <td>2023-08-16 16:34:06</td>\n      <td>mainnet</td>\n    </tr>\n    <tr>\n      <th>GHO/bb-a-USD</th>\n      <td>3147.67</td>\n      <td>4596.68</td>\n      <td>3181.08</td>\n      <td>2023-08-02 20:26:18</td>\n      <td>2023-08-16 16:34:06</td>\n      <td>mainnet</td>\n    </tr>\n    <tr>\n      <th>50rETH-50RPL</th>\n      <td>2860.23</td>\n      <td>3425.67</td>\n      <td>11.93</td>\n      <td>2023-08-02 20:26:18</td>\n      <td>2023-08-16 16:34:06</td>\n      <td>mainnet</td>\n    </tr>\n    <tr>\n      <th>50wstETH-50ACX</th>\n      <td>2068.69</td>\n      <td>1551.36</td>\n      <td>170.35</td>\n      <td>2023-08-02 20:26:18</td>\n      <td>2023-08-16 16:34:06</td>\n      <td>mainnet</td>\n    </tr>\n    <tr>\n      <th>20WETH-80ALCX</th>\n      <td>1249.84</td>\n      <td>3385.13</td>\n      <td>42.11</td>\n      <td>2023-08-02 20:26:18</td>\n      <td>2023-08-16 16:34:06</td>\n      <td>mainnet</td>\n    </tr>\n    <tr>\n      <th>50wstETH-50LDO</th>\n      <td>517.85</td>\n      <td>164.93</td>\n      <td>8.27</td>\n      <td>2023-08-02 20:26:18</td>\n      <td>2023-08-16 16:34:06</td>\n      <td>mainnet</td>\n    </tr>\n    <tr>\n      <th>wbETH-wstETH</th>\n      <td>206.41</td>\n      <td>0.10</td>\n      <td>0.11</td>\n      <td>2023-08-02 20:26:18</td>\n      <td>2023-08-16 16:34:06</td>\n      <td>mainnet</td>\n    </tr>\n    <tr>\n      <th>cbETH-bb-a-WETH-BPT</th>\n      <td>0.14</td>\n      <td>0.01</td>\n      <td>0.00</td>\n      <td>2023-08-02 20:26:18</td>\n      <td>2023-08-16 16:34:06</td>\n      <td>mainnet</td>\n    </tr>\n    <tr>\n      <th>RDNT-WETH</th>\n      <td>14684.52</td>\n      <td>25490.05</td>\n      <td>10532.55</td>\n      <td>2023-08-02 20:26:18</td>\n      <td>2023-08-16 16:34:06</td>\n      <td>arbitrum</td>\n    </tr>\n    <tr>\n      <th>B-wstETH-WETH-Stable</th>\n      <td>5068.09</td>\n      <td>60.12</td>\n      <td>0.00</td>\n      <td>2023-08-02 20:26:18</td>\n      <td>2023-08-16 16:34:06</td>\n      <td>arbitrum</td>\n    </tr>\n    <tr>\n      <th>bb-a-USD</th>\n      <td>3277.65</td>\n      <td>707.07</td>\n      <td>3274.60</td>\n      <td>2023-08-02 20:26:18</td>\n      <td>2023-08-16 16:34:06</td>\n      <td>arbitrum</td>\n    </tr>\n    <tr>\n      <th>rETH-bb-a-WETH-BPT</th>\n      <td>1169.42</td>\n      <td>336.57</td>\n      <td>0.61</td>\n      <td>2023-08-02 20:26:18</td>\n      <td>2023-08-16 16:34:06</td>\n      <td>arbitrum</td>\n    </tr>\n    <tr>\n      <th>bbaUSDC/bbaUSDCe</th>\n      <td>246.09</td>\n      <td>286.17</td>\n      <td>245.84</td>\n      <td>2023-08-02 20:26:18</td>\n      <td>2023-08-16 16:34:06</td>\n      <td>arbitrum</td>\n    </tr>\n    <tr>\n      <th>wstETH/rETH/cbETH</th>\n      <td>105.95</td>\n      <td>77.85</td>\n      <td>0.00</td>\n      <td>2023-08-02 20:26:18</td>\n      <td>2023-08-16 16:34:06</td>\n      <td>arbitrum</td>\n    </tr>\n  </tbody>\n</table>\n</div>"
     },
     "execution_count": 6,
     "metadata": {},
     "output_type": "execute_result"
    }
   ],
   "source": [
    "import pandas as pd\n",
    "\n",
    "def collect_fee_info(pools: list[str], chain: str, pools_now: list[dict], pools_shifted: list[dict]) -> dict:\n",
    "    # Iterate through snapshots now and 2 weeks ago and extract fee data, by subtracting today's fee data from 2 weeks ago\n",
    "    # and then summing across all pools\n",
    "    fees = {}\n",
    "    for pool in pools:\n",
    "        current_fees_snapshots = [x for x in pools_now if x['pool']['id'] == pool]\n",
    "        current_fees_snapshots.sort(key=lambda x: x['timestamp'], reverse=True)\n",
    "        fees_2_weeks_ago = [x for x in pools_shifted if x['pool']['id'] == pool]\n",
    "        fees_2_weeks_ago.sort(key=lambda x: x['timestamp'], reverse=True)\n",
    "        # Take first element of list, which is the most recent snapshot\n",
    "        pool_snapshot_now = current_fees_snapshots[0]\n",
    "        pool_snapshot_2_weeks_ago = fees_2_weeks_ago[0]\n",
    "        # Calculate fees\n",
    "        pool_fee = float(pool_snapshot_now['protocolFee']) - float(pool_snapshot_2_weeks_ago['protocolFee'])\n",
    "        pool_swap_fee = float(pool_snapshot_now['swapFees']) - float(pool_snapshot_2_weeks_ago['swapFees'])\n",
    "        # Now we need to collect token fee info. Let's start with BPT tokens, which is Balancer pool token. Notice,\n",
    "        # That totalProtocolFeePaidInBPT can be null, so we need to check for that\n",
    "        bpt_token_fee = 0\n",
    "        if pool_snapshot_now['pool']['totalProtocolFeePaidInBPT'] is not None and pool_snapshot_2_weeks_ago['pool']['totalProtocolFeePaidInBPT'] is not None:\n",
    "            bpt_token_fee = float(pool_snapshot_now['pool']['totalProtocolFeePaidInBPT']) - float(pool_snapshot_2_weeks_ago['pool']['totalProtocolFeePaidInBPT'])\n",
    "        fees[pool_snapshot_now['pool']['symbol']] = {\n",
    "            'pool_fee': round(pool_fee, 2), \n",
    "            'swap_fee': round(pool_swap_fee, 2),\n",
    "            'bpt_token_fee': round(bpt_token_fee, 2),\n",
    "            'time_from': arb_datetime_2_weeks_ago,\n",
    "            'time_to': arb_datetime_now,\n",
    "            'chain': chain,\n",
    "        }\n",
    "    return fees\n",
    "\n",
    "arb_fees = collect_fee_info(ARB_CORE_POOLS, 'arbitrum', arbi_pool_snapshots_now, arbi_pool_snapshots_2_weeks_ago)\n",
    "mainnet_fees = collect_fee_info(MAINNET_CORE_POOLS, 'mainnet', mainnet_pool_snapshots_now, mainnet_pool_snapshots_2_weeks_ago)\n",
    "# Convert to dataframe, sort by chain and pool fee\n",
    "joint_fees = {**arb_fees, **mainnet_fees}\n",
    "joint_fees_df = pd.DataFrame.from_dict(joint_fees, orient='index')\n",
    "joint_fees_df.sort_values(by=['chain', 'pool_fee'], ascending=False, inplace=True)\n",
    "joint_fees_df"
   ],
   "metadata": {
    "collapsed": false,
    "ExecuteTime": {
     "end_time": "2023-08-16T13:39:59.387463Z",
     "start_time": "2023-08-16T13:39:59.359534Z"
    }
   },
   "id": "e79b2f6a4ead2cad"
  }
 ],
 "metadata": {
  "kernelspec": {
   "display_name": "Python 3",
   "language": "python",
   "name": "python3"
  },
  "language_info": {
   "codemirror_mode": {
    "name": "ipython",
    "version": 2
   },
   "file_extension": ".py",
   "mimetype": "text/x-python",
   "name": "python",
   "nbconvert_exporter": "python",
   "pygments_lexer": "ipython2",
   "version": "2.7.6"
  }
 },
 "nbformat": 4,
 "nbformat_minor": 5
}
