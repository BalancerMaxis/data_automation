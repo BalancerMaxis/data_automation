{
 "cells": [
  {
   "cell_type": "markdown",
   "source": [
    "## Collecting protocol fees across Balancer core pools on all networks\n",
    "Spreadsheet as reference: https://docs.google.com/spreadsheets/d/1xwUPpbYq7woVOU9vQ8EB8MY75I-1mauTLyDVwvKUDKo/edit#gid=0\n",
    "Collab: https://colab.research.google.com/drive/1vKCvcV5mkL1zwW3565kLSGkBEbt8NsoB?usp=sharing\n"
   ],
   "metadata": {
    "collapsed": false
   },
   "id": "e739385af75b2478"
  },
  {
   "cell_type": "code",
   "execution_count": 7,
   "outputs": [],
   "source": [
    "# Define constants for Arbitrum:\n",
    "ARB_CORE_POOLS = [\n",
    "    \"0xbe0f30217be1e981add883848d0773a86d2d2cd4000000000000000000000471\",\n",
    "    \"0x36bf227d6bac96e2ab1ebb5492ecec69c691943f000200000000000000000316\",\n",
    "    \"0x4a2f6ae7f3e5d715689530873ec35593dc28951b000000000000000000000481\",\n",
    "    \"0xc6eee8cb7643ec2f05f46d569e9ec8ef8b41b389000000000000000000000475\",\n",
    "    \"0x32df62dc3aed2cd6224193052ce665dc181658410002000000000000000003bd\",\n",
    "    \"0x45c4d1376943ab28802b995acffc04903eb5223f000000000000000000000470\",\n",
    "    \"0x9cebf13bb702f253abf1579294694a1edad00eaa000000000000000000000486\",\n",
    "]\n",
    "ARB_BALANCER_GRAPH_URL = \"https://api.thegraph.com/subgraphs/name/balancer-labs/balancer-arbitrum-v2\"\n",
    "# Arb block time is .3 seconds\n",
    "ARB_CHAIN_BLOCK_TIME = 0.27"
   ],
   "metadata": {
    "collapsed": false,
    "ExecuteTime": {
     "end_time": "2023-08-14T15:27:30.535805Z",
     "start_time": "2023-08-14T15:27:30.525389Z"
    }
   },
   "id": "39d87004addaae1b"
  },
  {
   "cell_type": "code",
   "execution_count": 8,
   "outputs": [],
   "source": [
    "# Query:\n",
    "POOLS_SNAPSHOTS_QUERY = \"\"\"\n",
    "{{\n",
    "  poolSnapshots(\n",
    "    first: {first}\n",
    "    skip: {skip}\n",
    "    orderBy: timestamp\n",
    "    orderDirection: desc\n",
    "    block: {{ number: {block} }}\n",
    "    where: {{ protocolFee_not: null }}\n",
    "  ) {{\n",
    "    pool {{\n",
    "      address\n",
    "      id\n",
    "      symbol\n",
    "    }}\n",
    "    timestamp\n",
    "    protocolFee\n",
    "    swapFees\n",
    "    swapVolume\n",
    "    liquidity\n",
    "  }}\n",
    "}}\n",
    "\"\"\""
   ],
   "metadata": {
    "collapsed": false,
    "ExecuteTime": {
     "end_time": "2023-08-14T15:27:30.561002Z",
     "start_time": "2023-08-14T15:27:30.528996Z"
    }
   },
   "id": "abc722b4fa453b5a"
  },
  {
   "cell_type": "markdown",
   "source": [
    "## Fetching data from the Balancer subgraphs"
   ],
   "metadata": {
    "collapsed": false
   },
   "id": "cde5ffca807e3849"
  },
  {
   "cell_type": "code",
   "execution_count": 9,
   "outputs": [],
   "source": [
    "import os\n",
    "import datetime\n",
    "from typing import Dict\n",
    "from typing import List\n",
    "from typing import Optional\n",
    "\n",
    "from dotenv import load_dotenv\n",
    "from gql import Client\n",
    "from gql import gql\n",
    "from gql.transport.requests import RequestsHTTPTransport\n",
    "from web3 import Web3\n",
    "\n",
    "load_dotenv()\n",
    "arb_web3 = Web3(Web3.HTTPProvider(os.environ[\"ARBNODEURL\"]))\n",
    "\n",
    "arb_block_now = arb_web3.eth.block_number - 1000\n",
    "arb_timestamp_now = arb_web3.eth.get_block(arb_block_now).timestamp\n",
    "# Given Arb block time, we want to look back 2 weeks:\n",
    "block_2_weeks_ago = arb_block_now - (2 * 7 * 24 * 60 * 60 / ARB_CHAIN_BLOCK_TIME)\n",
    "arb_timestamp_2_weeks_ago = arb_web3.eth.get_block(int(block_2_weeks_ago)).timestamp\n",
    "\n",
    "# Convert to datetime:\n",
    "arb_datetime_now = datetime.datetime.fromtimestamp(arb_timestamp_now)\n",
    "arb_datetime_2_weeks_ago = datetime.datetime.fromtimestamp(arb_timestamp_2_weeks_ago)\n",
    "\n",
    "\n",
    "# Fetch all the data from the balancer subgraph\n",
    "def make_gql_client(url: str) -> Optional[Client]:\n",
    "    transport = RequestsHTTPTransport(url=url, retries=3)\n",
    "    return Client(\n",
    "        transport=transport, fetch_schema_from_transport=True, execute_timeout=60\n",
    "    )\n",
    "\n",
    "\n",
    "def get_balancer_pool_snapshots(block: int, graph_url: str) -> Optional[List[Dict]]:\n",
    "    client = make_gql_client(graph_url)\n",
    "    all_pools = []\n",
    "    limit = 1000\n",
    "    offset = 0\n",
    "    while True:\n",
    "        result = client.execute(\n",
    "            gql(POOLS_SNAPSHOTS_QUERY.format(first=limit, skip=offset, block=block)))\n",
    "        all_pools.extend(result['poolSnapshots'])\n",
    "        offset += limit\n",
    "        if offset >= 5000:\n",
    "            break\n",
    "        if len(result['poolSnapshots']) < limit - 1:\n",
    "            break\n",
    "    return all_pools\n",
    "\n",
    "\n",
    "pool_snapshots_now = get_balancer_pool_snapshots(arb_block_now, ARB_BALANCER_GRAPH_URL)\n",
    "pool_snapshots_2_weeks_ago = get_balancer_pool_snapshots(int(block_2_weeks_ago), ARB_BALANCER_GRAPH_URL)"
   ],
   "metadata": {
    "collapsed": false,
    "ExecuteTime": {
     "end_time": "2023-08-14T15:27:48.122081Z",
     "start_time": "2023-08-14T15:27:30.539667Z"
    }
   },
   "id": "e1e0b8b90f62234c"
  },
  {
   "cell_type": "markdown",
   "source": [
    "## Extract fee data from CORE pools:\n"
   ],
   "metadata": {
    "collapsed": false
   },
   "id": "d5333a7de445454d"
  },
  {
   "cell_type": "code",
   "execution_count": 11,
   "outputs": [
    {
     "data": {
      "text/plain": "                          pool_fee      swap_fee           time_from  \\\nRDNT-WETH             11312.457142  18710.162660 2023-07-31 23:49:48   \nB-wstETH-WETH-Stable   4811.523704     63.902566 2023-07-31 23:49:48   \nbb-a-USD               3170.140962    864.700164 2023-07-31 23:49:48   \nwstETH-bb-a-WETH-BPT   1997.973898    444.078715 2023-07-31 23:49:48   \nrETH-bb-a-WETH-BPT     1082.792500    317.284404 2023-07-31 23:49:48   \nbbaUSDC/bbaUSDCe        170.757962    204.434808 2023-07-31 23:49:48   \nwstETH/rETH/cbETH        82.043660     67.858882 2023-07-31 23:49:48   \n\n                                 time_to     chain  \nRDNT-WETH            2023-08-14 18:23:14  arbitrum  \nB-wstETH-WETH-Stable 2023-08-14 18:23:14  arbitrum  \nbb-a-USD             2023-08-14 18:23:14  arbitrum  \nwstETH-bb-a-WETH-BPT 2023-08-14 18:23:14  arbitrum  \nrETH-bb-a-WETH-BPT   2023-08-14 18:23:14  arbitrum  \nbbaUSDC/bbaUSDCe     2023-08-14 18:23:14  arbitrum  \nwstETH/rETH/cbETH    2023-08-14 18:23:14  arbitrum  ",
      "text/html": "<div>\n<style scoped>\n    .dataframe tbody tr th:only-of-type {\n        vertical-align: middle;\n    }\n\n    .dataframe tbody tr th {\n        vertical-align: top;\n    }\n\n    .dataframe thead th {\n        text-align: right;\n    }\n</style>\n<table border=\"1\" class=\"dataframe\">\n  <thead>\n    <tr style=\"text-align: right;\">\n      <th></th>\n      <th>pool_fee</th>\n      <th>swap_fee</th>\n      <th>time_from</th>\n      <th>time_to</th>\n      <th>chain</th>\n    </tr>\n  </thead>\n  <tbody>\n    <tr>\n      <th>RDNT-WETH</th>\n      <td>11312.457142</td>\n      <td>18710.162660</td>\n      <td>2023-07-31 23:49:48</td>\n      <td>2023-08-14 18:23:14</td>\n      <td>arbitrum</td>\n    </tr>\n    <tr>\n      <th>B-wstETH-WETH-Stable</th>\n      <td>4811.523704</td>\n      <td>63.902566</td>\n      <td>2023-07-31 23:49:48</td>\n      <td>2023-08-14 18:23:14</td>\n      <td>arbitrum</td>\n    </tr>\n    <tr>\n      <th>bb-a-USD</th>\n      <td>3170.140962</td>\n      <td>864.700164</td>\n      <td>2023-07-31 23:49:48</td>\n      <td>2023-08-14 18:23:14</td>\n      <td>arbitrum</td>\n    </tr>\n    <tr>\n      <th>wstETH-bb-a-WETH-BPT</th>\n      <td>1997.973898</td>\n      <td>444.078715</td>\n      <td>2023-07-31 23:49:48</td>\n      <td>2023-08-14 18:23:14</td>\n      <td>arbitrum</td>\n    </tr>\n    <tr>\n      <th>rETH-bb-a-WETH-BPT</th>\n      <td>1082.792500</td>\n      <td>317.284404</td>\n      <td>2023-07-31 23:49:48</td>\n      <td>2023-08-14 18:23:14</td>\n      <td>arbitrum</td>\n    </tr>\n    <tr>\n      <th>bbaUSDC/bbaUSDCe</th>\n      <td>170.757962</td>\n      <td>204.434808</td>\n      <td>2023-07-31 23:49:48</td>\n      <td>2023-08-14 18:23:14</td>\n      <td>arbitrum</td>\n    </tr>\n    <tr>\n      <th>wstETH/rETH/cbETH</th>\n      <td>82.043660</td>\n      <td>67.858882</td>\n      <td>2023-07-31 23:49:48</td>\n      <td>2023-08-14 18:23:14</td>\n      <td>arbitrum</td>\n    </tr>\n  </tbody>\n</table>\n</div>"
     },
     "execution_count": 11,
     "metadata": {},
     "output_type": "execute_result"
    }
   ],
   "source": [
    "import pandas as pd\n",
    "\n",
    "def collect_fee_info(pools: list[str], chain: str) -> dict:\n",
    "    # Iterate through snapshots now and 2 weeks ago and extract fee data, by subtracting today's fee data from 2 weeks ago\n",
    "    # and then summing across all pools\n",
    "    fees = {}\n",
    "    for pool in pools:\n",
    "        current_fees_snapshots = [x for x in pool_snapshots_now if x['pool']['id'] == pool]\n",
    "        current_fees_snapshots.sort(key=lambda x: x['timestamp'], reverse=True)\n",
    "        fees_2_weeks_ago = [x for x in pool_snapshots_2_weeks_ago if x['pool']['id'] == pool]\n",
    "        fees_2_weeks_ago.sort(key=lambda x: x['timestamp'], reverse=True)\n",
    "        # Take first element of list, which is the most recent snapshot\n",
    "        pool_snapshot_now = current_fees_snapshots[0]\n",
    "        pool_snapshot_2_weeks_ago = fees_2_weeks_ago[0]\n",
    "        # Calculate fees\n",
    "        pool_fee = float(pool_snapshot_now['protocolFee']) - float(pool_snapshot_2_weeks_ago['protocolFee'])\n",
    "        pool_swap_fee = float(pool_snapshot_now['swapFees']) - float(pool_snapshot_2_weeks_ago['swapFees'])\n",
    "        fees[pool_snapshot_now['pool']['symbol']] = {\n",
    "            'pool_fee': pool_fee, 'swap_fee': pool_swap_fee, 'time_from': arb_datetime_2_weeks_ago,\n",
    "            'time_to': arb_datetime_now,\n",
    "            'chain': chain,\n",
    "        }\n",
    "    return fees\n",
    "\n",
    "arb_fees = collect_fee_info(ARB_CORE_POOLS, 'arbitrum')\n",
    "# Convert to dataframe, sort by pool_fee descending\n",
    "joint_fees = {**arb_fees}\n",
    "arb_fees_df = pd.DataFrame.from_dict(joint_fees, orient='index')\n",
    "arb_fees_df = arb_fees_df.sort_values(by='pool_fee', ascending=False)\n",
    "arb_fees_df"
   ],
   "metadata": {
    "collapsed": false,
    "ExecuteTime": {
     "end_time": "2023-08-14T15:28:24.803280Z",
     "start_time": "2023-08-14T15:28:24.796667Z"
    }
   },
   "id": "e79b2f6a4ead2cad"
  }
 ],
 "metadata": {
  "kernelspec": {
   "display_name": "Python 3",
   "language": "python",
   "name": "python3"
  },
  "language_info": {
   "codemirror_mode": {
    "name": "ipython",
    "version": 2
   },
   "file_extension": ".py",
   "mimetype": "text/x-python",
   "name": "python",
   "nbconvert_exporter": "python",
   "pygments_lexer": "ipython2",
   "version": "2.7.6"
  }
 },
 "nbformat": 4,
 "nbformat_minor": 5
}
