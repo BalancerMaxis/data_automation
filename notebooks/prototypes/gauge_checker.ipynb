{
 "cells": [
  {
   "cell_type": "code",
   "execution_count": 16,
   "id": "initial_id",
   "metadata": {
    "collapsed": true,
    "ExecuteTime": {
     "end_time": "2023-11-03T15:46:17.645786Z",
     "start_time": "2023-11-03T15:46:05.476549Z"
    }
   },
   "outputs": [
    {
     "name": "stdout",
     "output_type": "stream",
     "text": [
      "Found 27 gauges on Arbitrum\n"
     ]
    }
   ],
   "source": [
    "import os\n",
    "\n",
    "import pandas as pd\n",
    "from dotenv import load_dotenv\n",
    "from web3 import Web3\n",
    "\n",
    "from notebooks import fetch_all_pools_info\n",
    "from notebooks import get_abi\n",
    "\n",
    "load_dotenv()\n",
    "web3 = Web3(Web3.HTTPProvider(os.environ[\"ARBNODEURL\"]))\n",
    "ARBITRUM_CHAIN_LITERAL = \"ARBITRUM\"\n",
    "ARBITRUM_TOKEN_ADDR = Web3.to_checksum_address(\"0x912ce59144191c1204e64559fe8253a0e49e6548\")\n",
    "# Fetch all pools from Balancer API\n",
    "all_pools = fetch_all_pools_info(\"arbitrum\")\n",
    "\n",
    "# Collect arb gauges\n",
    "arb_gauges = {}\n",
    "for pool in all_pools:\n",
    "    # Only collect gauges for the arb chain and that are not killed\n",
    "    if pool['chain'] == ARBITRUM_CHAIN_LITERAL and pool['gauge']['isKilled'] is False:\n",
    "        _gauge_addr = Web3.to_checksum_address(pool['gauge']['address'])\n",
    "        arb_gauges[_gauge_addr] = {\n",
    "            'gaugeAddress': pool['gauge']['address'],\n",
    "            'pool': pool['address'],\n",
    "            'symbol': pool['symbol'],\n",
    "            'id': pool['id'],\n",
    "            'childGauge': Web3.to_checksum_address(pool['gauge']['childGaugeAddress']),\n",
    "        }\n",
    "print(f\"Found {len(arb_gauges)} gauges on Arbitrum\")\n",
    "\n",
    "# Now go through all gauges and check that each of them has reward tokens set to ARB\n",
    "gauge_reward_data = {}\n",
    "for _, pool_info in arb_gauges.items():\n",
    "    child_gauge_contract = web3.eth.contract(address=pool_info['childGauge'],\n",
    "                                             abi=get_abi(\"ChildGauge\"))\n",
    "    data = child_gauge_contract.functions.reward_data(ARBITRUM_TOKEN_ADDR).call()\n",
    "    gauge_reward_data[pool_info['childGauge']] = {\n",
    "        'pool_id': pool_info['id'],\n",
    "        'symbol': pool_info['symbol'],\n",
    "        'root_gauge': pool_info['gaugeAddress'],\n",
    "        'child_gauge': pool_info['childGauge'],\n",
    "        'distributor': data[0],\n",
    "        'period_finish': data[1],\n",
    "        'rate': data[2],\n",
    "        'last_update': data[3],\n",
    "        'integral': data[4],\n",
    "    }\n",
    "\n",
    "# Into a dataframe and print\n",
    "df = pd.DataFrame.from_dict(gauge_reward_data, orient='index')\n",
    "df.to_csv('arb_gauge_reward_data.csv', index=False)"
   ]
  }
 ],
 "metadata": {
  "kernelspec": {
   "display_name": "Python 3",
   "language": "python",
   "name": "python3"
  },
  "language_info": {
   "codemirror_mode": {
    "name": "ipython",
    "version": 2
   },
   "file_extension": ".py",
   "mimetype": "text/x-python",
   "name": "python",
   "nbconvert_exporter": "python",
   "pygments_lexer": "ipython2",
   "version": "2.7.6"
  }
 },
 "nbformat": 4,
 "nbformat_minor": 5
}
