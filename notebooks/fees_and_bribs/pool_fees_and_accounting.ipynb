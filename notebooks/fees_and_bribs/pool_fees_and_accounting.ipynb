{
 "cells": [
  {
   "cell_type": "markdown",
   "source": [
    "## Collecting protocol fees across Balancer core pools on all networks\n",
    "- Spreadsheet as reference: https://docs.google.com/spreadsheets/d/1xwUPpbYq7woVOU9vQ8EB8MY75I-1mauTLyDVwvKUDKo/edit#gid=0\n",
    "- Collab: https://colab.research.google.com/drive/1vKCvcV5mkL1zwW3565kLSGkBEbt8NsoB?usp=sharing\n"
   ],
   "metadata": {
    "collapsed": false
   },
   "id": "e739385af75b2478"
  },
  {
   "cell_type": "code",
   "execution_count": 3,
   "outputs": [
    {
     "name": "stdout",
     "output_type": "stream",
     "text": [
      "Collecting bpt prices for Gnosis\n",
      "Collecting bpt prices for Avalanche\n",
      "Collecting bpt prices for Base\n",
      "Collecting bpt prices for Arbitrum\n",
      "Collecting bpt prices for Mainnet\n",
      "Collecting bpt prices for Polygon\n"
     ]
    }
   ],
   "source": [
    "import datetime\n",
    "import os\n",
    "\n",
    "import pandas as pd\n",
    "from dotenv import load_dotenv\n",
    "from web3 import Web3\n",
    "from web3.middleware import geth_poa_middleware\n",
    "\n",
    "from notebooks import get_block_by_ts\n",
    "from notebooks import get_twap_bpt_price\n",
    "from notebooks.fees_and_bribs.constants import ARB_CORE_POOLS\n",
    "from notebooks.fees_and_bribs.constants import BASE_CORE_POOLS\n",
    "from notebooks.fees_and_bribs.constants import GNOSIS_CORE_POOLS\n",
    "from notebooks.fees_and_bribs.constants import MAINNET_CORE_POOLS\n",
    "from notebooks.fees_and_bribs.constants import POLYGON_CORE_POOLS\n",
    "from notebooks.fees_and_bribs.constants import AVAX_CORE_POOLS\n",
    "\n",
    "load_dotenv()\n",
    "arb_web3 = Web3(Web3.HTTPProvider(os.environ[\"ARBNODEURL\"]))\n",
    "eth_web3 = Web3(Web3.HTTPProvider(os.environ[\"ETHNODEURL\"]))\n",
    "base_web3 = Web3(Web3.HTTPProvider(os.environ[\"BASENODEURL\"]))\n",
    "gnosis_web3 = Web3(Web3.HTTPProvider(os.environ[\"GNOSISNODEURL\"]))\n",
    "avax_web3 = Web3(Web3.HTTPProvider(os.environ[\"AVALANCHENODEURL\"]))\n",
    "poly_web3 = Web3(Web3.HTTPProvider(\"https://polygon-rpc.com\"))\n",
    "poly_web3.middleware_onion.inject(geth_poa_middleware, layer=0)\n",
    "\n",
    "# ARBITRUM\n",
    "# arb_block_now = arb_web3.eth.block_number - 1000\n",
    "timestamp_now = 1694790000\n",
    "arb_block = get_block_by_ts(timestamp_now, \"arbitrum\")  # 18 August 2023\n",
    "# Given Arb block time, we want to look back 2 weeks:\n",
    "arb_timestamp_2_weeks_ago = timestamp_now - (2 * 7 * 24 * 60 * 60)\n",
    "arb_block_2_weeks_ago = get_block_by_ts(arb_timestamp_2_weeks_ago, \"arbitrum\")\n",
    "# Convert to datetime:\n",
    "arb_datetime_now = datetime.datetime.fromtimestamp(timestamp_now)\n",
    "arb_datetime_2_weeks_ago = datetime.datetime.fromtimestamp(arb_timestamp_2_weeks_ago)\n",
    "# MAINNET\n",
    "mainnet_block = get_block_by_ts(timestamp_now, \"mainnet\")\n",
    "# Given mainnet block time, we want to look back 2 weeks:\n",
    "mainnet_timestamp_2_weeks_ago = arb_timestamp_2_weeks_ago\n",
    "mainnet_block_2_weeks_ago = get_block_by_ts(mainnet_timestamp_2_weeks_ago, \"mainnet\")\n",
    "# Convert to datetime:\n",
    "mainnet_datetime_now = datetime.datetime.fromtimestamp(timestamp_now)\n",
    "mainnet_datetime_2_weeks_ago = datetime.datetime.fromtimestamp(mainnet_timestamp_2_weeks_ago)\n",
    "\n",
    "# BASE\n",
    "base_block = get_block_by_ts(timestamp_now, \"base\")\n",
    "# Given base block time, we want to look back 2 weeks:\n",
    "base_timestamp_2_weeks_ago = arb_timestamp_2_weeks_ago\n",
    "base_block_2_weeks_ago = get_block_by_ts(base_timestamp_2_weeks_ago, \"base\")\n",
    "# Convert to datetime:\n",
    "base_datetime_now = datetime.datetime.fromtimestamp(timestamp_now)\n",
    "base_datetime_2_weeks_ago = datetime.datetime.fromtimestamp(base_timestamp_2_weeks_ago)\n",
    "\n",
    "# POLYGON\n",
    "poly_block = get_block_by_ts(timestamp_now, \"polygon\")\n",
    "# Given polygon block time, we want to look back 2 weeks:\n",
    "poly_timestamp_2_weeks_ago = arb_timestamp_2_weeks_ago\n",
    "poly_block_2_weeks_ago = get_block_by_ts(poly_timestamp_2_weeks_ago, \"polygon\")\n",
    "# Convert to datetime:\n",
    "poly_datetime_now = datetime.datetime.fromtimestamp(timestamp_now)\n",
    "poly_datetime_2_weeks_ago = datetime.datetime.fromtimestamp(poly_timestamp_2_weeks_ago)\n",
    "\n",
    "# GNOSIS\n",
    "gnosis_block = get_block_by_ts(timestamp_now, \"gnosis\")\n",
    "# Given gnosis block time, we want to look back 2 weeks:\n",
    "gnosis_timestamp_2_weeks_ago = arb_timestamp_2_weeks_ago\n",
    "gnosis_block_2_weeks_ago = get_block_by_ts(gnosis_timestamp_2_weeks_ago, \"gnosis\")\n",
    "# Convert to datetime:\n",
    "gnosis_datetime_now = datetime.datetime.fromtimestamp(timestamp_now)\n",
    "gnosis_datetime_2_weeks_ago = datetime.datetime.fromtimestamp(gnosis_timestamp_2_weeks_ago)\n",
    "\n",
    "# Avalanche\n",
    "avax_block = get_block_by_ts(timestamp_now, \"avalanche\")\n",
    "# Given avalanche block time, we want to look back 2 weeks:\n",
    "avax_timestamp_2_weeks_ago = arb_timestamp_2_weeks_ago\n",
    "avax_block_2_weeks_ago = get_block_by_ts(avax_timestamp_2_weeks_ago, \"avalanche\")\n",
    "# Convert to datetime:\n",
    "avax_datetime_now = datetime.datetime.fromtimestamp(timestamp_now)\n",
    "avax_datetime_2_weeks_ago = datetime.datetime.fromtimestamp(avax_timestamp_2_weeks_ago)\n",
    "\n",
    "print(\"Collecting bpt prices for Gnosis\")\n",
    "gnosis_bpt_twap_prices = {}\n",
    "for gnosis_pool in GNOSIS_CORE_POOLS:\n",
    "    gnosis_bpt_twap_prices[gnosis_pool] = get_twap_bpt_price(gnosis_pool, 'gnosis', gnosis_web3,\n",
    "                                                             start_date=gnosis_datetime_now,\n",
    "                                                             block_number=gnosis_block)\n",
    "\n",
    "print(\"Collecting bpt prices for Avalanche\")\n",
    "avax_bpt_twap_prices = {}\n",
    "for avax_pool in AVAX_CORE_POOLS:\n",
    "    avax_bpt_twap_prices[avax_pool] = get_twap_bpt_price(avax_pool, 'avalanche', avax_web3,\n",
    "                                                         start_date=avax_datetime_now, block_number=avax_block)\n",
    "print(\"Collecting bpt prices for Base\")\n",
    "base_bpt_twap_prices = {}\n",
    "for base_pool in BASE_CORE_POOLS:\n",
    "    base_bpt_twap_prices[base_pool] = get_twap_bpt_price(base_pool, 'base', base_web3,\n",
    "                                                         start_date=base_datetime_now, block_number=base_block)\n",
    "print(\"Collecting bpt prices for Arbitrum\")\n",
    "arb_bpt_twap_prices = {}\n",
    "for arb_pool in ARB_CORE_POOLS:\n",
    "    arb_bpt_twap_prices[arb_pool] = get_twap_bpt_price(arb_pool, 'arbitrum', arb_web3,\n",
    "                                                       start_date=arb_datetime_now,\n",
    "                                                       block_number=arb_block)\n",
    "\n",
    "print(\"Collecting bpt prices for Mainnet\")\n",
    "mainnet_bpt_twap_prices = {}\n",
    "for mainnet_pool in MAINNET_CORE_POOLS:\n",
    "    mainnet_bpt_twap_prices[mainnet_pool] = get_twap_bpt_price(mainnet_pool, 'mainnet', eth_web3,\n",
    "                                                               start_date=mainnet_datetime_now,\n",
    "                                                               block_number=mainnet_block)\n",
    "print(\"Collecting bpt prices for Polygon\")\n",
    "polygon_bpt_twap_prices = {}\n",
    "for polygon_pool in POLYGON_CORE_POOLS:\n",
    "    polygon_bpt_twap_prices[polygon_pool] = get_twap_bpt_price(polygon_pool, 'polygon', poly_web3,\n",
    "                                                               start_date=poly_datetime_now,\n",
    "                                                               block_number=poly_block)\n",
    "\n",
    "# Convert to dataframe and print, merge all three dataframes\n",
    "arb_bpt_twap_prices_df = pd.DataFrame.from_dict(arb_bpt_twap_prices, orient='index')\n",
    "mainnet_bpt_twap_prices_df = pd.DataFrame.from_dict(mainnet_bpt_twap_prices, orient='index')\n",
    "polygon_bpt_twap_prices_df = pd.DataFrame.from_dict(polygon_bpt_twap_prices, orient='index')\n",
    "base_bpt_twap_prices_df = pd.DataFrame.from_dict(base_bpt_twap_prices, orient='index')\n",
    "gnosis_bpt_twap_prices_df = pd.DataFrame.from_dict(gnosis_bpt_twap_prices, orient='index')\n",
    "avax_bpt_twap_prices_df = pd.DataFrame.from_dict(avax_bpt_twap_prices, orient='index')"
   ],
   "metadata": {
    "collapsed": false,
    "ExecuteTime": {
     "end_time": "2023-09-18T14:06:10.353828Z",
     "start_time": "2023-09-18T14:02:00.102799Z"
    }
   },
   "id": "39d87004addaae1b"
  },
  {
   "cell_type": "code",
   "execution_count": 4,
   "outputs": [
    {
     "data": {
      "text/plain": "                                                                                0\n0xade4a71bb62bec25154cfc7e6ff49a513b491e8100000...  1623.784695509871346694855062\n0x9791d590788598535278552eecd4b211bfc790cb00000...  1624.353698453612475984168449\n0x4a2f6ae7f3e5d715689530873ec35593dc28951b00000...  1628.323080668565486262308791\n0x423a1323c871abc9d89eb06855bf5347048fc4a500000...  1.000287058262622177198475572\n0x32df62dc3aed2cd6224193052ce665dc1816584100020...  1.085021632158283561415769513\n0x0c8972437a38b389ec83d1e666b69b8a4fcf8bfd00000...  1623.032972202849281522397185",
      "text/html": "<div>\n<style scoped>\n    .dataframe tbody tr th:only-of-type {\n        vertical-align: middle;\n    }\n\n    .dataframe tbody tr th {\n        vertical-align: top;\n    }\n\n    .dataframe thead th {\n        text-align: right;\n    }\n</style>\n<table border=\"1\" class=\"dataframe\">\n  <thead>\n    <tr style=\"text-align: right;\">\n      <th></th>\n      <th>0</th>\n    </tr>\n  </thead>\n  <tbody>\n    <tr>\n      <th>0xade4a71bb62bec25154cfc7e6ff49a513b491e81000000000000000000000497</th>\n      <td>1623.784695509871346694855062</td>\n    </tr>\n    <tr>\n      <th>0x9791d590788598535278552eecd4b211bfc790cb000000000000000000000498</th>\n      <td>1624.353698453612475984168449</td>\n    </tr>\n    <tr>\n      <th>0x4a2f6ae7f3e5d715689530873ec35593dc28951b000000000000000000000481</th>\n      <td>1628.323080668565486262308791</td>\n    </tr>\n    <tr>\n      <th>0x423a1323c871abc9d89eb06855bf5347048fc4a5000000000000000000000496</th>\n      <td>1.000287058262622177198475572</td>\n    </tr>\n    <tr>\n      <th>0x32df62dc3aed2cd6224193052ce665dc181658410002000000000000000003bd</th>\n      <td>1.085021632158283561415769513</td>\n    </tr>\n    <tr>\n      <th>0x0c8972437a38b389ec83d1e666b69b8a4fcf8bfd00000000000000000000049e</th>\n      <td>1623.032972202849281522397185</td>\n    </tr>\n  </tbody>\n</table>\n</div>"
     },
     "execution_count": 4,
     "metadata": {},
     "output_type": "execute_result"
    }
   ],
   "source": [
    "# Arbitrum TWAP prices:\n",
    "arb_bpt_twap_prices_df"
   ],
   "metadata": {
    "collapsed": false,
    "ExecuteTime": {
     "end_time": "2023-09-18T14:06:12.808860Z",
     "start_time": "2023-09-18T14:06:12.801254Z"
    }
   },
   "id": "888d08ca33a6128c"
  },
  {
   "cell_type": "code",
   "execution_count": 5,
   "outputs": [
    {
     "data": {
      "text/plain": "                                                                                 0\n0x93d199263632a4ef4bb438f1feb99e57b4b5f0bd00000...   1623.679379199104770143993169\n0x1e19cf2d73a72ef1332c882f20534b6519be027600020...   1664.024533970918671784554310\n0xe7e2c68d3b13d905bbb636709cf4dfd21076b9d200000...   1608.364911281033984941049135\n0xf7a826d47c8e02835d94fb0aa40f0cc9505cb13400020...   1622.895655555002311452721511\n0xf16aee6a71af1a9bc8f56975a4c2705ca7a782bc00020...   24.85592573119953409058117724\n0xb08885e6026bab4333a80024ec25a1a3e1ff2b8a00020...   1636.720077878450836655252988\n0x8353157092ed8be69a9df8f95af097bbf33cb2af00000...  0.9830560447697709149014002799\n0xdfe6e7e18f6cc65fa13c8d8966013d4fda74b6ba00000...   1632.039840166410756630305811\n0x5f1f4e50ba51d723f12385a8a9606afc3a0555f500020...   52.99100300128733817909004391\n0x1ee442b5326009bb18f2f472d3e0061513d1a0ff00020...   59.12488813484246086468472937\n0x9f9d900462492d4c21e9523ca95a7cd86142f29800020...   199.6371378968555872706814735\n0x3ff3a210e57cfe679d9ad1e9ba6453a716c56a2e00020...  0.7149675208777406932702218215\n0xf01b0684c98cd7ada480bfdf6e43876422fa1fc100020...   1622.858700613931779606265125\n0x36be1e97ea98ab43b4debf92742517266f5731a300020...   10.03560237993459889259925892",
      "text/html": "<div>\n<style scoped>\n    .dataframe tbody tr th:only-of-type {\n        vertical-align: middle;\n    }\n\n    .dataframe tbody tr th {\n        vertical-align: top;\n    }\n\n    .dataframe thead th {\n        text-align: right;\n    }\n</style>\n<table border=\"1\" class=\"dataframe\">\n  <thead>\n    <tr style=\"text-align: right;\">\n      <th></th>\n      <th>0</th>\n    </tr>\n  </thead>\n  <tbody>\n    <tr>\n      <th>0x93d199263632a4ef4bb438f1feb99e57b4b5f0bd0000000000000000000005c2</th>\n      <td>1623.679379199104770143993169</td>\n    </tr>\n    <tr>\n      <th>0x1e19cf2d73a72ef1332c882f20534b6519be0276000200000000000000000112</th>\n      <td>1664.024533970918671784554310</td>\n    </tr>\n    <tr>\n      <th>0xe7e2c68d3b13d905bbb636709cf4dfd21076b9d20000000000000000000005ca</th>\n      <td>1608.364911281033984941049135</td>\n    </tr>\n    <tr>\n      <th>0xf7a826d47c8e02835d94fb0aa40f0cc9505cb1340002000000000000000005e0</th>\n      <td>1622.895655555002311452721511</td>\n    </tr>\n    <tr>\n      <th>0xf16aee6a71af1a9bc8f56975a4c2705ca7a782bc0002000000000000000004bb</th>\n      <td>24.85592573119953409058117724</td>\n    </tr>\n    <tr>\n      <th>0xb08885e6026bab4333a80024ec25a1a3e1ff2b8a000200000000000000000445</th>\n      <td>1636.720077878450836655252988</td>\n    </tr>\n    <tr>\n      <th>0x8353157092ed8be69a9df8f95af097bbf33cb2af0000000000000000000005d9</th>\n      <td>0.9830560447697709149014002799</td>\n    </tr>\n    <tr>\n      <th>0xdfe6e7e18f6cc65fa13c8d8966013d4fda74b6ba000000000000000000000558</th>\n      <td>1632.039840166410756630305811</td>\n    </tr>\n    <tr>\n      <th>0x5f1f4e50ba51d723f12385a8a9606afc3a0555f5000200000000000000000465</th>\n      <td>52.99100300128733817909004391</td>\n    </tr>\n    <tr>\n      <th>0x1ee442b5326009bb18f2f472d3e0061513d1a0ff000200000000000000000464</th>\n      <td>59.12488813484246086468472937</td>\n    </tr>\n    <tr>\n      <th>0x9f9d900462492d4c21e9523ca95a7cd86142f298000200000000000000000462</th>\n      <td>199.6371378968555872706814735</td>\n    </tr>\n    <tr>\n      <th>0x3ff3a210e57cfe679d9ad1e9ba6453a716c56a2e0002000000000000000005d5</th>\n      <td>0.7149675208777406932702218215</td>\n    </tr>\n    <tr>\n      <th>0xf01b0684c98cd7ada480bfdf6e43876422fa1fc10002000000000000000005de</th>\n      <td>1622.858700613931779606265125</td>\n    </tr>\n    <tr>\n      <th>0x36be1e97ea98ab43b4debf92742517266f5731a3000200000000000000000466</th>\n      <td>10.03560237993459889259925892</td>\n    </tr>\n  </tbody>\n</table>\n</div>"
     },
     "execution_count": 5,
     "metadata": {},
     "output_type": "execute_result"
    }
   ],
   "source": [
    "# Mainnet TWAP prices:\n",
    "mainnet_bpt_twap_prices_df"
   ],
   "metadata": {
    "collapsed": false,
    "ExecuteTime": {
     "end_time": "2023-09-18T14:06:14.920038Z",
     "start_time": "2023-09-18T14:06:14.913771Z"
    }
   },
   "id": "12acabeeb64ba22a"
  },
  {
   "cell_type": "code",
   "execution_count": 6,
   "outputs": [
    {
     "data": {
      "text/plain": "                                                                                 0\n0xf0ad209e2e969eaaa8c882aac71f02d8a047d5c200020...  0.5400618226455382149720698170\n0xee278d943584dd8640eaf4cc6c7a5c80c0073e8500020...  0.5379296405182228670682929032\n0x89b753153678bc434c610b7e9182297cada8ff2900000...  0.5355581498379964603256883284\n0xcd78a20c597e367a4e478a2411ceb790604d7c8f00000...  0.5356172193365794183866217109\n0xdc31233e09f3bf5bfe5c10da2014677c23b6894c00000...   1622.857284028877955114150992",
      "text/html": "<div>\n<style scoped>\n    .dataframe tbody tr th:only-of-type {\n        vertical-align: middle;\n    }\n\n    .dataframe tbody tr th {\n        vertical-align: top;\n    }\n\n    .dataframe thead th {\n        text-align: right;\n    }\n</style>\n<table border=\"1\" class=\"dataframe\">\n  <thead>\n    <tr style=\"text-align: right;\">\n      <th></th>\n      <th>0</th>\n    </tr>\n  </thead>\n  <tbody>\n    <tr>\n      <th>0xf0ad209e2e969eaaa8c882aac71f02d8a047d5c2000200000000000000000b49</th>\n      <td>0.5400618226455382149720698170</td>\n    </tr>\n    <tr>\n      <th>0xee278d943584dd8640eaf4cc6c7a5c80c0073e85000200000000000000000bc7</th>\n      <td>0.5379296405182228670682929032</td>\n    </tr>\n    <tr>\n      <th>0x89b753153678bc434c610b7e9182297cada8ff29000000000000000000000c21</th>\n      <td>0.5355581498379964603256883284</td>\n    </tr>\n    <tr>\n      <th>0xcd78a20c597e367a4e478a2411ceb790604d7c8f000000000000000000000c22</th>\n      <td>0.5356172193365794183866217109</td>\n    </tr>\n    <tr>\n      <th>0xdc31233e09f3bf5bfe5c10da2014677c23b6894c000000000000000000000c23</th>\n      <td>1622.857284028877955114150992</td>\n    </tr>\n  </tbody>\n</table>\n</div>"
     },
     "execution_count": 6,
     "metadata": {},
     "output_type": "execute_result"
    }
   ],
   "source": [
    "# Polygon TWAP prices:\n",
    "polygon_bpt_twap_prices_df"
   ],
   "metadata": {
    "collapsed": false,
    "ExecuteTime": {
     "end_time": "2023-09-18T14:06:20.338770Z",
     "start_time": "2023-09-18T14:06:20.329841Z"
    }
   },
   "id": "9c61dc8f8d29733e"
  },
  {
   "cell_type": "code",
   "execution_count": 7,
   "outputs": [
    {
     "data": {
      "text/plain": "                                                                                0\n0xfb4c2e6e6e27b5b4a07a36360c89ede29bb3c9b600000...  1623.437586593522548898377808\n0xc771c1a5905420daec317b154eb13e4198ba97d000000...  1625.479086837918313819889337\n0x0c659734f1eef9c63b7ebdf78a164cdd745586db00000...  1.000334789562108087563974515",
      "text/html": "<div>\n<style scoped>\n    .dataframe tbody tr th:only-of-type {\n        vertical-align: middle;\n    }\n\n    .dataframe tbody tr th {\n        vertical-align: top;\n    }\n\n    .dataframe thead th {\n        text-align: right;\n    }\n</style>\n<table border=\"1\" class=\"dataframe\">\n  <thead>\n    <tr style=\"text-align: right;\">\n      <th></th>\n      <th>0</th>\n    </tr>\n  </thead>\n  <tbody>\n    <tr>\n      <th>0xfb4c2e6e6e27b5b4a07a36360c89ede29bb3c9b6000000000000000000000026</th>\n      <td>1623.437586593522548898377808</td>\n    </tr>\n    <tr>\n      <th>0xc771c1a5905420daec317b154eb13e4198ba97d0000000000000000000000023</th>\n      <td>1625.479086837918313819889337</td>\n    </tr>\n    <tr>\n      <th>0x0c659734f1eef9c63b7ebdf78a164cdd745586db000000000000000000000046</th>\n      <td>1.000334789562108087563974515</td>\n    </tr>\n  </tbody>\n</table>\n</div>"
     },
     "execution_count": 7,
     "metadata": {},
     "output_type": "execute_result"
    }
   ],
   "source": [
    "# Base TWAP prices:\n",
    "base_bpt_twap_prices_df"
   ],
   "metadata": {
    "collapsed": false,
    "ExecuteTime": {
     "end_time": "2023-09-18T14:07:08.219020Z",
     "start_time": "2023-09-18T14:07:08.212027Z"
    }
   },
   "id": "c057d5eb4d92947"
  },
  {
   "cell_type": "code",
   "execution_count": 8,
   "outputs": [
    {
     "data": {
      "text/plain": "                                                                                0\n0xbad20c15a773bf03ab973302f61fabcea5101f0a00000...  1621.718427946702576603413780",
      "text/html": "<div>\n<style scoped>\n    .dataframe tbody tr th:only-of-type {\n        vertical-align: middle;\n    }\n\n    .dataframe tbody tr th {\n        vertical-align: top;\n    }\n\n    .dataframe thead th {\n        text-align: right;\n    }\n</style>\n<table border=\"1\" class=\"dataframe\">\n  <thead>\n    <tr style=\"text-align: right;\">\n      <th></th>\n      <th>0</th>\n    </tr>\n  </thead>\n  <tbody>\n    <tr>\n      <th>0xbad20c15a773bf03ab973302f61fabcea5101f0a000000000000000000000034</th>\n      <td>1621.718427946702576603413780</td>\n    </tr>\n  </tbody>\n</table>\n</div>"
     },
     "execution_count": 8,
     "metadata": {},
     "output_type": "execute_result"
    }
   ],
   "source": [
    "# Gnosis TWAP prices:\n",
    "gnosis_bpt_twap_prices_df"
   ],
   "metadata": {
    "collapsed": false,
    "ExecuteTime": {
     "end_time": "2023-09-18T14:07:09.213124Z",
     "start_time": "2023-09-18T14:07:09.206259Z"
    }
   },
   "id": "446e657762129ed4"
  },
  {
   "cell_type": "code",
   "execution_count": 9,
   "outputs": [
    {
     "data": {
      "text/plain": "                                                                                 0\n0xfd2620c9cfcec7d152467633b3b0ca338d3d78cc00000...   9.693671723674338657386288977\n0xc13546b97b9b1b15372368dc06529d7191081f5b00000...   9.736259506381338150796648196\n0x9fa6ab3d78984a69e712730a2227f20bcc8b5ad900000...   9.697416178437516665674464453\n0xb26f0e66317846bd5fe0cbaa1d269f0efeb05c9600000...   1.000013569809289587747948348\n0x55bec22f8f6c69137ceaf284d9b441db1b9bfedc00020...  0.9664256222280073761026094610",
      "text/html": "<div>\n<style scoped>\n    .dataframe tbody tr th:only-of-type {\n        vertical-align: middle;\n    }\n\n    .dataframe tbody tr th {\n        vertical-align: top;\n    }\n\n    .dataframe thead th {\n        text-align: right;\n    }\n</style>\n<table border=\"1\" class=\"dataframe\">\n  <thead>\n    <tr style=\"text-align: right;\">\n      <th></th>\n      <th>0</th>\n    </tr>\n  </thead>\n  <tbody>\n    <tr>\n      <th>0xfd2620c9cfcec7d152467633b3b0ca338d3d78cc00000000000000000000001c</th>\n      <td>9.693671723674338657386288977</td>\n    </tr>\n    <tr>\n      <th>0xc13546b97b9b1b15372368dc06529d7191081f5b00000000000000000000001d</th>\n      <td>9.736259506381338150796648196</td>\n    </tr>\n    <tr>\n      <th>0x9fa6ab3d78984a69e712730a2227f20bcc8b5ad900000000000000000000001f</th>\n      <td>9.697416178437516665674464453</td>\n    </tr>\n    <tr>\n      <th>0xb26f0e66317846bd5fe0cbaa1d269f0efeb05c9600000000000000000000001e</th>\n      <td>1.000013569809289587747948348</td>\n    </tr>\n    <tr>\n      <th>0x55bec22f8f6c69137ceaf284d9b441db1b9bfedc000200000000000000000011</th>\n      <td>0.9664256222280073761026094610</td>\n    </tr>\n  </tbody>\n</table>\n</div>"
     },
     "execution_count": 9,
     "metadata": {},
     "output_type": "execute_result"
    }
   ],
   "source": [
    "# Avalanche TWAP prices:\n",
    "avax_bpt_twap_prices_df"
   ],
   "metadata": {
    "collapsed": false,
    "ExecuteTime": {
     "end_time": "2023-09-18T14:07:10.380363Z",
     "start_time": "2023-09-18T14:07:10.371126Z"
    }
   },
   "id": "a0c9ad2dda33dbdd"
  },
  {
   "cell_type": "code",
   "execution_count": 10,
   "outputs": [],
   "source": [
    "# Query:\n",
    "POOLS_SNAPSHOTS_QUERY = \"\"\"\n",
    "{{\n",
    "  poolSnapshots(\n",
    "    first: {first}\n",
    "    skip: {skip}\n",
    "    orderBy: timestamp\n",
    "    orderDirection: desc\n",
    "    block: {{ number: {block} }}\n",
    "    where: {{ protocolFee_not: null }}\n",
    "  ) {{\n",
    "    pool {{\n",
    "      address\n",
    "      id\n",
    "      symbol\n",
    "      totalProtocolFeePaidInBPT\n",
    "      tokens {{\n",
    "        symbol\n",
    "        address\n",
    "        paidProtocolFees\n",
    "      }}\n",
    "    }}\n",
    "    timestamp\n",
    "    protocolFee\n",
    "    swapFees\n",
    "    swapVolume\n",
    "    liquidity\n",
    "  }}\n",
    "}}\n",
    "\"\"\""
   ],
   "metadata": {
    "collapsed": false,
    "ExecuteTime": {
     "end_time": "2023-09-18T14:07:11.552310Z",
     "start_time": "2023-09-18T14:07:11.546459Z"
    }
   },
   "id": "abc722b4fa453b5a"
  },
  {
   "cell_type": "markdown",
   "source": [
    "## Fetching data from the Balancer subgraphs"
   ],
   "metadata": {
    "collapsed": false
   },
   "id": "cde5ffca807e3849"
  },
  {
   "cell_type": "code",
   "execution_count": 11,
   "outputs": [],
   "source": [
    "from notebooks.fees_and_bribs.constants import BASE_BALANCER_GRAPH_URL\n",
    "from notebooks.fees_and_bribs.constants import POLYGON_BALANCER_GRAPH_URL\n",
    "from notebooks.fees_and_bribs.constants import ARB_BALANCER_GRAPH_URL\n",
    "from notebooks.fees_and_bribs.constants import MAINNET_BALANCER_GRAPH_URL\n",
    "from notebooks.fees_and_bribs.constants import GNOSIS_BALANCER_GRAPH_URL\n",
    "from notebooks.fees_and_bribs.constants import AVALANCHE_BALANCER_GRAPH_URL\n",
    "from typing import Dict\n",
    "from typing import List\n",
    "from typing import Optional\n",
    "\n",
    "from gql import Client\n",
    "from gql import gql\n",
    "from gql.transport.requests import RequestsHTTPTransport\n",
    "\n",
    "\n",
    "# Fetch all the data from the balancer subgraph\n",
    "def make_gql_client(url: str) -> Optional[Client]:\n",
    "    transport = RequestsHTTPTransport(url=url, retries=3)\n",
    "    return Client(\n",
    "        transport=transport, fetch_schema_from_transport=True, execute_timeout=60\n",
    "    )\n",
    "\n",
    "\n",
    "def get_balancer_pool_snapshots(block: int, graph_url: str) -> Optional[List[Dict]]:\n",
    "    client = make_gql_client(graph_url)\n",
    "    all_pools = []\n",
    "    limit = 1000\n",
    "    offset = 0\n",
    "    while True:\n",
    "        result = client.execute(\n",
    "            gql(POOLS_SNAPSHOTS_QUERY.format(first=limit, skip=offset, block=block)))\n",
    "        all_pools.extend(result['poolSnapshots'])\n",
    "        offset += limit\n",
    "        if offset >= 5000:\n",
    "            break\n",
    "        if len(result['poolSnapshots']) < limit - 1:\n",
    "            break\n",
    "    return all_pools\n",
    "\n",
    "\n",
    "arbi_pool_snapshots_now = get_balancer_pool_snapshots(arb_block, ARB_BALANCER_GRAPH_URL)\n",
    "arbi_pool_snapshots_2_weeks_ago = get_balancer_pool_snapshots(int(arb_block_2_weeks_ago), ARB_BALANCER_GRAPH_URL)\n",
    "\n",
    "mainnet_pool_snapshots_now = get_balancer_pool_snapshots(mainnet_block, MAINNET_BALANCER_GRAPH_URL)\n",
    "mainnet_pool_snapshots_2_weeks_ago = get_balancer_pool_snapshots(int(mainnet_block_2_weeks_ago),\n",
    "                                                                 MAINNET_BALANCER_GRAPH_URL)\n",
    "\n",
    "polygon_pool_snapshots_now = get_balancer_pool_snapshots(poly_block, POLYGON_BALANCER_GRAPH_URL)\n",
    "polygon_pool_snapshots_2_weeks_ago = get_balancer_pool_snapshots(int(poly_block_2_weeks_ago),\n",
    "                                                                 POLYGON_BALANCER_GRAPH_URL)\n",
    "\n",
    "base_pool_snapshots_now = get_balancer_pool_snapshots(base_block, BASE_BALANCER_GRAPH_URL)\n",
    "base_pool_snapshots_2_weeks_ago = get_balancer_pool_snapshots(int(base_block_2_weeks_ago),\n",
    "                                                              BASE_BALANCER_GRAPH_URL)\n",
    "\n",
    "gnosis_pool_snapshots_now = get_balancer_pool_snapshots(gnosis_block, GNOSIS_BALANCER_GRAPH_URL)\n",
    "gnosis_pool_snapshots_2_weeks_ago = get_balancer_pool_snapshots(int(gnosis_block_2_weeks_ago),\n",
    "                                                                GNOSIS_BALANCER_GRAPH_URL)\n",
    "\n",
    "avax_pool_snapshots_now = get_balancer_pool_snapshots(avax_block, AVALANCHE_BALANCER_GRAPH_URL)\n",
    "avax_pool_snapshots_2_weeks_ago = get_balancer_pool_snapshots(int(avax_block_2_weeks_ago),\n",
    "                                                              AVALANCHE_BALANCER_GRAPH_URL)"
   ],
   "metadata": {
    "collapsed": false,
    "ExecuteTime": {
     "end_time": "2023-09-18T14:08:38.297367Z",
     "start_time": "2023-09-18T14:07:12.684635Z"
    }
   },
   "id": "e1e0b8b90f62234c"
  },
  {
   "cell_type": "markdown",
   "source": [
    "## Extract fee data for CORE pools:\n"
   ],
   "metadata": {
    "collapsed": false
   },
   "id": "d5333a7de445454d"
  },
  {
   "cell_type": "code",
   "execution_count": 12,
   "outputs": [],
   "source": [
    "from collections import defaultdict\n",
    "from decimal import Decimal\n",
    "from notebooks import fetch_token_price_balgql\n",
    "\n",
    "\n",
    "def collect_fee_info(pools: list[str], chain: str, pools_now: list[dict], pools_shifted: list[dict],\n",
    "                     start_date: datetime.datetime) -> tuple[dict, dict]:\n",
    "    # Iterate through snapshots now and 2 weeks ago and extract fee data, by subtracting today's fee data from 2 weeks ago\n",
    "    # and then summing across all pools\n",
    "    fees = {}\n",
    "    token_fees = defaultdict(list)\n",
    "    for pool in pools:\n",
    "        current_fees_snapshots = [x for x in pools_now if x['pool']['id'] == pool]\n",
    "        current_fees_snapshots.sort(key=lambda x: x['timestamp'], reverse=True)\n",
    "        fees_2_weeks_ago = [x for x in pools_shifted if x['pool']['id'] == pool]\n",
    "        fees_2_weeks_ago.sort(key=lambda x: x['timestamp'], reverse=True)\n",
    "        # Take first element of list, which is the most recent snapshot\n",
    "        if not current_fees_snapshots or not fees_2_weeks_ago:\n",
    "            continue\n",
    "        pool_snapshot_now = current_fees_snapshots[0]\n",
    "        pool_snapshot_2_weeks_ago = fees_2_weeks_ago[0]\n",
    "        # Calculate fees\n",
    "        pool_fee = float(pool_snapshot_now['protocolFee']) - float(pool_snapshot_2_weeks_ago['protocolFee'])\n",
    "        pool_swap_fee = float(pool_snapshot_now['swapFees']) - float(pool_snapshot_2_weeks_ago['swapFees'])\n",
    "        # Now we need to collect token fee info. Let's start with BPT tokens, which is Balancer pool token. Notice,\n",
    "        # That totalProtocolFeePaidInBPT can be null, so we need to check for that\n",
    "        bpt_token_fee = 0\n",
    "        bpt_price_usd = arb_bpt_twap_prices[pool] if chain == 'arbitrum' else mainnet_bpt_twap_prices[\n",
    "            pool] if chain == 'mainnet' else polygon_bpt_twap_prices[pool] if chain == 'polygon' else \\\n",
    "            base_bpt_twap_prices[pool] if chain == 'base' else gnosis_bpt_twap_prices[pool] if chain == 'gnosis' else \\\n",
    "            avax_bpt_twap_prices[pool]\n",
    "        if bpt_price_usd is None:\n",
    "            bpt_price_usd = 0\n",
    "        if pool_snapshot_now['pool']['totalProtocolFeePaidInBPT'] is not None and pool_snapshot_2_weeks_ago['pool'][\n",
    "            'totalProtocolFeePaidInBPT'] is not None:\n",
    "            bpt_token_fee = float(pool_snapshot_now['pool']['totalProtocolFeePaidInBPT']) - float(\n",
    "                pool_snapshot_2_weeks_ago['pool']['totalProtocolFeePaidInBPT'])\n",
    "            token_fees[pool_snapshot_now['pool']['symbol']].append({\n",
    "                'token': pool_snapshot_now['pool']['symbol'],\n",
    "                'token_fee': bpt_token_fee,\n",
    "                'token_price': bpt_price_usd,\n",
    "                'token_fee_in_usd': Decimal(bpt_token_fee) * bpt_price_usd,\n",
    "                'token_addr': pool_snapshot_now['pool']['address'],\n",
    "                'time_from': arb_datetime_2_weeks_ago,\n",
    "                'time_to': arb_datetime_now,\n",
    "                'chain': chain,\n",
    "            })\n",
    "        # Now collect fee info about fees paid in pool tokens. Pool tokens fee info is in pool.tokens dictionary. This will be separate dictionary\n",
    "        else:\n",
    "            bpt_price_usd = 0\n",
    "            for token_data in pool_snapshot_now['pool']['tokens']:\n",
    "                token_data_2_weeks_ago = \\\n",
    "                    [t for t in pool_snapshot_2_weeks_ago['pool']['tokens'] if t['address'] == token_data['address']][0]\n",
    "                token_fee = float(token_data.get('paidProtocolFees', None)) - float(\n",
    "                    token_data_2_weeks_ago.get('paidProtocolFees', None))\n",
    "                # Get twap token price from CoinGecko\n",
    "                token_price = fetch_token_price_balgql(token_data['address'], chain, start_date) or 0\n",
    "                token_fees[pool_snapshot_now['pool']['symbol']].append({\n",
    "                    'token': token_data['symbol'],\n",
    "                    'token_fee': token_fee,\n",
    "                    'token_price': token_price,\n",
    "                    'token_fee_in_usd': Decimal(token_fee) * token_price if token_price is not None else 0,\n",
    "                    'token_addr': token_data['address'],\n",
    "                    'time_from': arb_datetime_2_weeks_ago,\n",
    "                    'time_to': arb_datetime_now,\n",
    "                    'chain': chain,\n",
    "                })\n",
    "        # Calculate non-BPT fees in USD\n",
    "        fees[pool_snapshot_now['pool']['symbol']] = {\n",
    "            'pool_fee': round(pool_fee, 2),\n",
    "            'swap_fee': round(pool_swap_fee, 2),\n",
    "            'bpt_token_fee': round(bpt_token_fee, 2),\n",
    "            # Get fee in USD by multiplying bpt_token_fee by price of BPT token taken from twap_bpt_price\n",
    "            'bpt_token_fee_in_usd': round(Decimal(bpt_token_fee) * bpt_price_usd, 2),\n",
    "            'token_fees_in_usd': round(sum([x['token_fee_in_usd'] for x in\n",
    "                                            token_fees[\n",
    "                                                pool_snapshot_now['pool']['symbol']]]) if bpt_price_usd == 0 else 0, 2),\n",
    "            'time_from': arb_datetime_2_weeks_ago,\n",
    "            'time_to': arb_datetime_now,\n",
    "            'chain': chain,\n",
    "            'token_fees': token_fees[pool_snapshot_now['pool']['symbol']],\n",
    "        }\n",
    "    return fees\n",
    "\n",
    "\n",
    "arb_fees = collect_fee_info(ARB_CORE_POOLS, 'arbitrum', arbi_pool_snapshots_now,\n",
    "                            arbi_pool_snapshots_2_weeks_ago, arb_datetime_now)\n",
    "mainnet_fees = collect_fee_info(MAINNET_CORE_POOLS, 'mainnet', mainnet_pool_snapshots_now,\n",
    "                                mainnet_pool_snapshots_2_weeks_ago, mainnet_datetime_now)\n",
    "polygon_fees = collect_fee_info(POLYGON_CORE_POOLS, 'polygon', polygon_pool_snapshots_now,\n",
    "                                polygon_pool_snapshots_2_weeks_ago, poly_datetime_now)\n",
    "base_fees = collect_fee_info(BASE_CORE_POOLS, 'base', base_pool_snapshots_now, base_pool_snapshots_2_weeks_ago,\n",
    "                             base_datetime_now)\n",
    "gnosis_fees = collect_fee_info(GNOSIS_CORE_POOLS, 'gnosis', gnosis_pool_snapshots_now,\n",
    "                               gnosis_pool_snapshots_2_weeks_ago, gnosis_datetime_now)\n",
    "avax_fees = collect_fee_info(AVAX_CORE_POOLS, 'avalanche', avax_pool_snapshots_now,\n",
    "                             avax_pool_snapshots_2_weeks_ago, avax_datetime_now)\n",
    "# Convert to dataframe, sort by chain and pool fee\n",
    "joint_fees = {**arb_fees, **mainnet_fees, **polygon_fees, **base_fees, **gnosis_fees, **avax_fees}\n",
    "joint_fees_df = pd.DataFrame.from_dict(joint_fees, orient='index')"
   ],
   "metadata": {
    "collapsed": false,
    "ExecuteTime": {
     "end_time": "2023-09-18T14:10:02.127399Z",
     "start_time": "2023-09-18T14:09:41.733842Z"
    }
   },
   "id": "e79b2f6a4ead2cad"
  },
  {
   "cell_type": "code",
   "execution_count": 13,
   "outputs": [
    {
     "data": {
      "text/plain": "                        pool_fee  swap_fee  bpt_token_fee  \\\nECLP-WMATIC-stMATIC      1584.96    249.39        2946.55   \nmaticX-WMATIC-BPT        1450.10    326.70        2724.34   \nECLP-WMATIC-MATICX        403.27     71.47         755.16   \nstMATIC-WMATIC-BPT          2.58      1.34           4.62   \nwstETH-WETH-BPT             0.00      0.00           0.00   \nB-rETH-STABLE           15892.61   2300.19           0.00   \n50rETH-50BADGER          9939.15   2997.35         166.20   \nswETH-WETH-BPT           5502.29    634.17           3.43   \nankrETH/wstETH           3867.44    126.65           2.32   \n20WETH-80ALCX            2393.07   4118.43          83.27   \n50rETH-50RPL             1272.25   1209.24           6.32   \nSTG/USDC                 1262.74   8264.76        1733.53   \nB-staFiETH-WETH-Stable   1216.06    339.32           0.00   \nGHO/USDT/USDC            1142.27   1871.72           0.00   \n50wstETH-50LDO            631.08    255.37          11.58   \n50wstETH-50ACX            382.23   1420.64          38.01   \nECLP-wstETH-cbETH           0.00      0.00           0.00   \nECLP-wstETH-wETH            0.00      0.00           0.00   \nbb-WETH-wstETH           3361.72     15.05           2.06   \ncbETH/WETH               1861.50   1117.90           1.14   \nrETH-WETH-BPT             401.34    223.34           0.00   \nsAVAX-WAVAX-BPT          3230.30    757.35         254.06   \nyyAVAX-WAVAX-BPT         1039.56      3.46          81.63   \nggAVAX-WAVAX-BPT          547.02      3.58          43.02   \nUSDC-USDT-BPT             122.44    207.94         122.40   \nBPT                         0.00     97.45           0.00   \nRDNT-WETH               11108.53  20103.97       10471.27   \nwstETH/rETH/cbETH        1008.43    358.60           1.22   \n4POOL-BPT                 475.95    832.86         475.65   \nwstETH/rETH/sfrxETH         0.01      0.00           0.00   \n\n                       bpt_token_fee_in_usd token_fees_in_usd  \\\nECLP-WMATIC-stMATIC                 1591.32                 0   \nmaticX-WMATIC-BPT                   1459.21                 0   \nECLP-WMATIC-MATICX                   406.22                 0   \nstMATIC-WMATIC-BPT                     2.47                 0   \nwstETH-WETH-BPT                        0.00              0.00   \nB-rETH-STABLE                          0.00          15797.35   \n50rETH-50BADGER                     9826.84                 0   \nswETH-WETH-BPT                      5510.58                 0   \nankrETH/wstETH                      3789.32                 0   \n20WETH-80ALCX                       2069.88                 0   \n50rETH-50RPL                        1260.83                 0   \nSTG/USDC                            1239.41                 0   \nB-staFiETH-WETH-Stable                 0.00           1212.37   \nGHO/USDT/USDC                          0.00              0.00   \n50wstETH-50LDO                       613.41                 0   \n50wstETH-50ACX                       381.44                 0   \nECLP-wstETH-cbETH                      0.00              0.00   \nECLP-wstETH-wETH                       0.00              0.00   \nbb-WETH-wstETH                      3343.47                 0   \ncbETH/WETH                          1847.83                 0   \nrETH-WETH-BPT                          0.00              0.00   \nsAVAX-WAVAX-BPT                     2462.77                 0   \nyyAVAX-WAVAX-BPT                     791.60                 0   \nggAVAX-WAVAX-BPT                     418.90                 0   \nUSDC-USDT-BPT                        122.41                 0   \nBPT                                    0.00              0.00   \nRDNT-WETH                          11361.56                 0   \nwstETH/rETH/cbETH                   1981.51                 0   \n4POOL-BPT                            475.79                 0   \nwstETH/rETH/sfrxETH                    0.02                 0   \n\n                                 time_from             time_to      chain  \nECLP-WMATIC-stMATIC    2023-09-01 18:00:00 2023-09-15 18:00:00    polygon  \nmaticX-WMATIC-BPT      2023-09-01 18:00:00 2023-09-15 18:00:00    polygon  \nECLP-WMATIC-MATICX     2023-09-01 18:00:00 2023-09-15 18:00:00    polygon  \nstMATIC-WMATIC-BPT     2023-09-01 18:00:00 2023-09-15 18:00:00    polygon  \nwstETH-WETH-BPT        2023-09-01 18:00:00 2023-09-15 18:00:00    polygon  \nB-rETH-STABLE          2023-09-01 18:00:00 2023-09-15 18:00:00    mainnet  \n50rETH-50BADGER        2023-09-01 18:00:00 2023-09-15 18:00:00    mainnet  \nswETH-WETH-BPT         2023-09-01 18:00:00 2023-09-15 18:00:00    mainnet  \nankrETH/wstETH         2023-09-01 18:00:00 2023-09-15 18:00:00    mainnet  \n20WETH-80ALCX          2023-09-01 18:00:00 2023-09-15 18:00:00    mainnet  \n50rETH-50RPL           2023-09-01 18:00:00 2023-09-15 18:00:00    mainnet  \nSTG/USDC               2023-09-01 18:00:00 2023-09-15 18:00:00    mainnet  \nB-staFiETH-WETH-Stable 2023-09-01 18:00:00 2023-09-15 18:00:00    mainnet  \nGHO/USDT/USDC          2023-09-01 18:00:00 2023-09-15 18:00:00    mainnet  \n50wstETH-50LDO         2023-09-01 18:00:00 2023-09-15 18:00:00    mainnet  \n50wstETH-50ACX         2023-09-01 18:00:00 2023-09-15 18:00:00    mainnet  \nECLP-wstETH-cbETH      2023-09-01 18:00:00 2023-09-15 18:00:00    mainnet  \nECLP-wstETH-wETH       2023-09-01 18:00:00 2023-09-15 18:00:00    mainnet  \nbb-WETH-wstETH         2023-09-01 18:00:00 2023-09-15 18:00:00     gnosis  \ncbETH/WETH             2023-09-01 18:00:00 2023-09-15 18:00:00       base  \nrETH-WETH-BPT          2023-09-01 18:00:00 2023-09-15 18:00:00       base  \nsAVAX-WAVAX-BPT        2023-09-01 18:00:00 2023-09-15 18:00:00  avalanche  \nyyAVAX-WAVAX-BPT       2023-09-01 18:00:00 2023-09-15 18:00:00  avalanche  \nggAVAX-WAVAX-BPT       2023-09-01 18:00:00 2023-09-15 18:00:00  avalanche  \nUSDC-USDT-BPT          2023-09-01 18:00:00 2023-09-15 18:00:00  avalanche  \nBPT                    2023-09-01 18:00:00 2023-09-15 18:00:00  avalanche  \nRDNT-WETH              2023-09-01 18:00:00 2023-09-15 18:00:00   arbitrum  \nwstETH/rETH/cbETH      2023-09-01 18:00:00 2023-09-15 18:00:00   arbitrum  \n4POOL-BPT              2023-09-01 18:00:00 2023-09-15 18:00:00   arbitrum  \nwstETH/rETH/sfrxETH    2023-09-01 18:00:00 2023-09-15 18:00:00   arbitrum  ",
      "text/html": "<div>\n<style scoped>\n    .dataframe tbody tr th:only-of-type {\n        vertical-align: middle;\n    }\n\n    .dataframe tbody tr th {\n        vertical-align: top;\n    }\n\n    .dataframe thead th {\n        text-align: right;\n    }\n</style>\n<table border=\"1\" class=\"dataframe\">\n  <thead>\n    <tr style=\"text-align: right;\">\n      <th></th>\n      <th>pool_fee</th>\n      <th>swap_fee</th>\n      <th>bpt_token_fee</th>\n      <th>bpt_token_fee_in_usd</th>\n      <th>token_fees_in_usd</th>\n      <th>time_from</th>\n      <th>time_to</th>\n      <th>chain</th>\n    </tr>\n  </thead>\n  <tbody>\n    <tr>\n      <th>ECLP-WMATIC-stMATIC</th>\n      <td>1584.96</td>\n      <td>249.39</td>\n      <td>2946.55</td>\n      <td>1591.32</td>\n      <td>0</td>\n      <td>2023-09-01 18:00:00</td>\n      <td>2023-09-15 18:00:00</td>\n      <td>polygon</td>\n    </tr>\n    <tr>\n      <th>maticX-WMATIC-BPT</th>\n      <td>1450.10</td>\n      <td>326.70</td>\n      <td>2724.34</td>\n      <td>1459.21</td>\n      <td>0</td>\n      <td>2023-09-01 18:00:00</td>\n      <td>2023-09-15 18:00:00</td>\n      <td>polygon</td>\n    </tr>\n    <tr>\n      <th>ECLP-WMATIC-MATICX</th>\n      <td>403.27</td>\n      <td>71.47</td>\n      <td>755.16</td>\n      <td>406.22</td>\n      <td>0</td>\n      <td>2023-09-01 18:00:00</td>\n      <td>2023-09-15 18:00:00</td>\n      <td>polygon</td>\n    </tr>\n    <tr>\n      <th>stMATIC-WMATIC-BPT</th>\n      <td>2.58</td>\n      <td>1.34</td>\n      <td>4.62</td>\n      <td>2.47</td>\n      <td>0</td>\n      <td>2023-09-01 18:00:00</td>\n      <td>2023-09-15 18:00:00</td>\n      <td>polygon</td>\n    </tr>\n    <tr>\n      <th>wstETH-WETH-BPT</th>\n      <td>0.00</td>\n      <td>0.00</td>\n      <td>0.00</td>\n      <td>0.00</td>\n      <td>0.00</td>\n      <td>2023-09-01 18:00:00</td>\n      <td>2023-09-15 18:00:00</td>\n      <td>polygon</td>\n    </tr>\n    <tr>\n      <th>B-rETH-STABLE</th>\n      <td>15892.61</td>\n      <td>2300.19</td>\n      <td>0.00</td>\n      <td>0.00</td>\n      <td>15797.35</td>\n      <td>2023-09-01 18:00:00</td>\n      <td>2023-09-15 18:00:00</td>\n      <td>mainnet</td>\n    </tr>\n    <tr>\n      <th>50rETH-50BADGER</th>\n      <td>9939.15</td>\n      <td>2997.35</td>\n      <td>166.20</td>\n      <td>9826.84</td>\n      <td>0</td>\n      <td>2023-09-01 18:00:00</td>\n      <td>2023-09-15 18:00:00</td>\n      <td>mainnet</td>\n    </tr>\n    <tr>\n      <th>swETH-WETH-BPT</th>\n      <td>5502.29</td>\n      <td>634.17</td>\n      <td>3.43</td>\n      <td>5510.58</td>\n      <td>0</td>\n      <td>2023-09-01 18:00:00</td>\n      <td>2023-09-15 18:00:00</td>\n      <td>mainnet</td>\n    </tr>\n    <tr>\n      <th>ankrETH/wstETH</th>\n      <td>3867.44</td>\n      <td>126.65</td>\n      <td>2.32</td>\n      <td>3789.32</td>\n      <td>0</td>\n      <td>2023-09-01 18:00:00</td>\n      <td>2023-09-15 18:00:00</td>\n      <td>mainnet</td>\n    </tr>\n    <tr>\n      <th>20WETH-80ALCX</th>\n      <td>2393.07</td>\n      <td>4118.43</td>\n      <td>83.27</td>\n      <td>2069.88</td>\n      <td>0</td>\n      <td>2023-09-01 18:00:00</td>\n      <td>2023-09-15 18:00:00</td>\n      <td>mainnet</td>\n    </tr>\n    <tr>\n      <th>50rETH-50RPL</th>\n      <td>1272.25</td>\n      <td>1209.24</td>\n      <td>6.32</td>\n      <td>1260.83</td>\n      <td>0</td>\n      <td>2023-09-01 18:00:00</td>\n      <td>2023-09-15 18:00:00</td>\n      <td>mainnet</td>\n    </tr>\n    <tr>\n      <th>STG/USDC</th>\n      <td>1262.74</td>\n      <td>8264.76</td>\n      <td>1733.53</td>\n      <td>1239.41</td>\n      <td>0</td>\n      <td>2023-09-01 18:00:00</td>\n      <td>2023-09-15 18:00:00</td>\n      <td>mainnet</td>\n    </tr>\n    <tr>\n      <th>B-staFiETH-WETH-Stable</th>\n      <td>1216.06</td>\n      <td>339.32</td>\n      <td>0.00</td>\n      <td>0.00</td>\n      <td>1212.37</td>\n      <td>2023-09-01 18:00:00</td>\n      <td>2023-09-15 18:00:00</td>\n      <td>mainnet</td>\n    </tr>\n    <tr>\n      <th>GHO/USDT/USDC</th>\n      <td>1142.27</td>\n      <td>1871.72</td>\n      <td>0.00</td>\n      <td>0.00</td>\n      <td>0.00</td>\n      <td>2023-09-01 18:00:00</td>\n      <td>2023-09-15 18:00:00</td>\n      <td>mainnet</td>\n    </tr>\n    <tr>\n      <th>50wstETH-50LDO</th>\n      <td>631.08</td>\n      <td>255.37</td>\n      <td>11.58</td>\n      <td>613.41</td>\n      <td>0</td>\n      <td>2023-09-01 18:00:00</td>\n      <td>2023-09-15 18:00:00</td>\n      <td>mainnet</td>\n    </tr>\n    <tr>\n      <th>50wstETH-50ACX</th>\n      <td>382.23</td>\n      <td>1420.64</td>\n      <td>38.01</td>\n      <td>381.44</td>\n      <td>0</td>\n      <td>2023-09-01 18:00:00</td>\n      <td>2023-09-15 18:00:00</td>\n      <td>mainnet</td>\n    </tr>\n    <tr>\n      <th>ECLP-wstETH-cbETH</th>\n      <td>0.00</td>\n      <td>0.00</td>\n      <td>0.00</td>\n      <td>0.00</td>\n      <td>0.00</td>\n      <td>2023-09-01 18:00:00</td>\n      <td>2023-09-15 18:00:00</td>\n      <td>mainnet</td>\n    </tr>\n    <tr>\n      <th>ECLP-wstETH-wETH</th>\n      <td>0.00</td>\n      <td>0.00</td>\n      <td>0.00</td>\n      <td>0.00</td>\n      <td>0.00</td>\n      <td>2023-09-01 18:00:00</td>\n      <td>2023-09-15 18:00:00</td>\n      <td>mainnet</td>\n    </tr>\n    <tr>\n      <th>bb-WETH-wstETH</th>\n      <td>3361.72</td>\n      <td>15.05</td>\n      <td>2.06</td>\n      <td>3343.47</td>\n      <td>0</td>\n      <td>2023-09-01 18:00:00</td>\n      <td>2023-09-15 18:00:00</td>\n      <td>gnosis</td>\n    </tr>\n    <tr>\n      <th>cbETH/WETH</th>\n      <td>1861.50</td>\n      <td>1117.90</td>\n      <td>1.14</td>\n      <td>1847.83</td>\n      <td>0</td>\n      <td>2023-09-01 18:00:00</td>\n      <td>2023-09-15 18:00:00</td>\n      <td>base</td>\n    </tr>\n    <tr>\n      <th>rETH-WETH-BPT</th>\n      <td>401.34</td>\n      <td>223.34</td>\n      <td>0.00</td>\n      <td>0.00</td>\n      <td>0.00</td>\n      <td>2023-09-01 18:00:00</td>\n      <td>2023-09-15 18:00:00</td>\n      <td>base</td>\n    </tr>\n    <tr>\n      <th>sAVAX-WAVAX-BPT</th>\n      <td>3230.30</td>\n      <td>757.35</td>\n      <td>254.06</td>\n      <td>2462.77</td>\n      <td>0</td>\n      <td>2023-09-01 18:00:00</td>\n      <td>2023-09-15 18:00:00</td>\n      <td>avalanche</td>\n    </tr>\n    <tr>\n      <th>yyAVAX-WAVAX-BPT</th>\n      <td>1039.56</td>\n      <td>3.46</td>\n      <td>81.63</td>\n      <td>791.60</td>\n      <td>0</td>\n      <td>2023-09-01 18:00:00</td>\n      <td>2023-09-15 18:00:00</td>\n      <td>avalanche</td>\n    </tr>\n    <tr>\n      <th>ggAVAX-WAVAX-BPT</th>\n      <td>547.02</td>\n      <td>3.58</td>\n      <td>43.02</td>\n      <td>418.90</td>\n      <td>0</td>\n      <td>2023-09-01 18:00:00</td>\n      <td>2023-09-15 18:00:00</td>\n      <td>avalanche</td>\n    </tr>\n    <tr>\n      <th>USDC-USDT-BPT</th>\n      <td>122.44</td>\n      <td>207.94</td>\n      <td>122.40</td>\n      <td>122.41</td>\n      <td>0</td>\n      <td>2023-09-01 18:00:00</td>\n      <td>2023-09-15 18:00:00</td>\n      <td>avalanche</td>\n    </tr>\n    <tr>\n      <th>BPT</th>\n      <td>0.00</td>\n      <td>97.45</td>\n      <td>0.00</td>\n      <td>0.00</td>\n      <td>0.00</td>\n      <td>2023-09-01 18:00:00</td>\n      <td>2023-09-15 18:00:00</td>\n      <td>avalanche</td>\n    </tr>\n    <tr>\n      <th>RDNT-WETH</th>\n      <td>11108.53</td>\n      <td>20103.97</td>\n      <td>10471.27</td>\n      <td>11361.56</td>\n      <td>0</td>\n      <td>2023-09-01 18:00:00</td>\n      <td>2023-09-15 18:00:00</td>\n      <td>arbitrum</td>\n    </tr>\n    <tr>\n      <th>wstETH/rETH/cbETH</th>\n      <td>1008.43</td>\n      <td>358.60</td>\n      <td>1.22</td>\n      <td>1981.51</td>\n      <td>0</td>\n      <td>2023-09-01 18:00:00</td>\n      <td>2023-09-15 18:00:00</td>\n      <td>arbitrum</td>\n    </tr>\n    <tr>\n      <th>4POOL-BPT</th>\n      <td>475.95</td>\n      <td>832.86</td>\n      <td>475.65</td>\n      <td>475.79</td>\n      <td>0</td>\n      <td>2023-09-01 18:00:00</td>\n      <td>2023-09-15 18:00:00</td>\n      <td>arbitrum</td>\n    </tr>\n    <tr>\n      <th>wstETH/rETH/sfrxETH</th>\n      <td>0.01</td>\n      <td>0.00</td>\n      <td>0.00</td>\n      <td>0.02</td>\n      <td>0</td>\n      <td>2023-09-01 18:00:00</td>\n      <td>2023-09-15 18:00:00</td>\n      <td>arbitrum</td>\n    </tr>\n  </tbody>\n</table>\n</div>"
     },
     "execution_count": 13,
     "metadata": {},
     "output_type": "execute_result"
    }
   ],
   "source": [
    "# Remove `token_fees` field from dataframe, as it's too big\n",
    "joint_fees_df_copy = joint_fees_df.drop(columns=['token_fees'])\n",
    "# Display all rows in dataframe\n",
    "pd.set_option('display.max_rows', 1000)\n",
    "joint_fees_df_copy.sort_values(by=['chain', 'pool_fee'], ascending=False)"
   ],
   "metadata": {
    "collapsed": false,
    "ExecuteTime": {
     "end_time": "2023-09-18T14:10:04.191885Z",
     "start_time": "2023-09-18T14:10:04.175397Z"
    }
   },
   "id": "52fccc19e5e6b4f2"
  },
  {
   "cell_type": "markdown",
   "source": [
    "## Now let's calculate bribes paid to the pools"
   ],
   "metadata": {
    "collapsed": false
   },
   "id": "97a5370819f28ffc"
  },
  {
   "cell_type": "code",
   "execution_count": 19,
   "outputs": [
    {
     "data": {
      "text/plain": "                            chain                       aura_bribes  \\\nwstETH/rETH/cbETH        arbitrum     461.0075856002473217820368789   \n4POOL-BPT                arbitrum     110.6947727504487351720028294   \nRDNT-WETH                arbitrum     2643.320167070741990333593534   \nwstETH/rETH/sfrxETH      arbitrum  0.004653093707326708639189677356   \nsAVAX-WAVAX-BPT         avalanche     1021.000325283208523062752461   \nggAVAX-WAVAX-BPT        avalanche     173.6650341936665016672230886   \nyyAVAX-WAVAX-BPT        avalanche     328.1767511761909828593310980   \nUSDC-USDT-BPT           avalanche     50.74799913021417156620858980   \nBPT                     avalanche                              0E+6   \nrETH-WETH-BPT                base                              0E+7   \ncbETH/WETH                   base     10899.47676332918107271777908   \nbb-WETH-wstETH             gnosis     118.0779216804299421280180596   \nB-rETH-STABLE             mainnet     5074.665529169307521443820440   \nswETH-WETH-BPT            mainnet     1770.192492521201507943920216   \nECLP-wstETH-cbETH         mainnet                              0E+6   \n20WETH-80ALCX             mainnet     664.9183999542306939129749640   \nB-staFiETH-WETH-Stable    mainnet     389.4559687288686621346519880   \nGHO/USDT/USDC             mainnet                              0E+6   \nankrETH/wstETH            mainnet     1217.263122168708066679379622   \n50wstETH-50LDO            mainnet     197.0489089782618557371238780   \n50rETH-50BADGER           mainnet     3156.727312407594813308877275   \n50rETH-50RPL              mainnet     405.0230284916481563212825013   \nSTG/USDC                  mainnet     398.1421696365359655355287747   \nECLP-wstETH-wETH          mainnet                              0E+6   \n50wstETH-50ACX            mainnet     122.5319702004665757851494629   \nwstETH-WETH-BPT           polygon                             0E-31   \nECLP-WMATIC-stMATIC       polygon     474.7995732905358342160688626   \nECLP-WMATIC-MATICX        polygon     121.2032040457491055069071546   \nstMATIC-WMATIC-BPT        polygon    0.7369699029909908192655720350   \nmaticX-WMATIC-BPT         polygon     435.3821263738800459030426596   \n\n                                              bal_bribes pool_fees_collected  \\\nwstETH/rETH/cbETH          698.0889275897676275761375100             1981.51   \n4POOL-BPT                  167.6215264409140198759786556              475.79   \nRDNT-WETH                  4002.694528993949203770831786            11361.56   \nwstETH/rETH/sfrxETH     0.007046029821598353049705906205                0.02   \nsAVAX-WAVAX-BPT            1546.067883498567257229915192             2462.77   \nggAVAX-WAVAX-BPT           262.9753636748660346088394264              418.90   \nyyAVAX-WAVAX-BPT           496.9474764502839651381171876              791.60   \nUSDC-USDT-BPT              76.84605936366758485669141605              122.41   \nBPT                                                 0E+6                0.00   \nrETH-WETH-BPT                                       0E+7                0.00   \ncbETH/WETH                 16504.72634868934255783656596             1847.83   \nbb-WETH-wstETH             178.8015908905159008934934359             3343.47   \nB-rETH-STABLE              7684.402443230994893096146495            15797.35   \nswETH-WETH-BPT             2680.545434241809913561310154             5510.58   \nECLP-wstETH-cbETH                                   0E+6                0.00   \n20WETH-80ALCX              1006.864501273629546051828421             2069.88   \nB-staFiETH-WETH-Stable     589.7406204268412916434069720             1212.37   \nGHO/USDT/USDC                                       0E+6                0.00   \nankrETH/wstETH             1843.262310842266175548879390             3789.32   \n50wstETH-50LDO             298.3848115476535353951205248              613.41   \n50rETH-50BADGER            4780.130420940225408392732720             9826.84   \n50rETH-50RPL               613.3133172651701260693986260             1260.83   \nSTG/USDC                   602.8938544860326181576210525             1239.41   \nECLP-wstETH-wETH                                    0E+6                0.00   \n50wstETH-50ACX             185.5462130006634462123453693              381.44   \nwstETH-WETH-BPT                                    0E-31                0.00   \nECLP-WMATIC-stMATIC        718.9736900031859688827166330             1591.32   \nECLP-WMATIC-MATICX         183.5341052416196643538302482              406.22   \nstMATIC-WMATIC-BPT         1.115969769944366527876423399                2.47   \nmaticX-WMATIC-BPT          659.2851206479834336609537605             1459.21   \n\n                       revenue_fees  \nwstETH/rETH/cbETH           990.755  \n4POOL-BPT                   237.895  \nRDNT-WETH                  5680.780  \nwstETH/rETH/sfrxETH           0.010  \nsAVAX-WAVAX-BPT            1231.385  \nggAVAX-WAVAX-BPT            209.450  \nyyAVAX-WAVAX-BPT            395.800  \nUSDC-USDT-BPT                61.205  \nBPT                           0.000  \nrETH-WETH-BPT                 0.000  \ncbETH/WETH                  923.915  \nbb-WETH-wstETH             1671.735  \nB-rETH-STABLE              7898.675  \nswETH-WETH-BPT             2755.290  \nECLP-wstETH-cbETH             0.000  \n20WETH-80ALCX              1034.940  \nB-staFiETH-WETH-Stable      606.185  \nGHO/USDT/USDC                 0.000  \nankrETH/wstETH             1894.660  \n50wstETH-50LDO              306.705  \n50rETH-50BADGER            4913.420  \n50rETH-50RPL                630.415  \nSTG/USDC                    619.705  \nECLP-wstETH-wETH              0.000  \n50wstETH-50ACX              190.720  \nwstETH-WETH-BPT               0.000  \nECLP-WMATIC-stMATIC         795.660  \nECLP-WMATIC-MATICX          203.110  \nstMATIC-WMATIC-BPT            1.235  \nmaticX-WMATIC-BPT           729.605  ",
      "text/html": "<div>\n<style scoped>\n    .dataframe tbody tr th:only-of-type {\n        vertical-align: middle;\n    }\n\n    .dataframe tbody tr th {\n        vertical-align: top;\n    }\n\n    .dataframe thead th {\n        text-align: right;\n    }\n</style>\n<table border=\"1\" class=\"dataframe\">\n  <thead>\n    <tr style=\"text-align: right;\">\n      <th></th>\n      <th>chain</th>\n      <th>aura_bribes</th>\n      <th>bal_bribes</th>\n      <th>pool_fees_collected</th>\n      <th>revenue_fees</th>\n    </tr>\n  </thead>\n  <tbody>\n    <tr>\n      <th>wstETH/rETH/cbETH</th>\n      <td>arbitrum</td>\n      <td>461.0075856002473217820368789</td>\n      <td>698.0889275897676275761375100</td>\n      <td>1981.51</td>\n      <td>990.755</td>\n    </tr>\n    <tr>\n      <th>4POOL-BPT</th>\n      <td>arbitrum</td>\n      <td>110.6947727504487351720028294</td>\n      <td>167.6215264409140198759786556</td>\n      <td>475.79</td>\n      <td>237.895</td>\n    </tr>\n    <tr>\n      <th>RDNT-WETH</th>\n      <td>arbitrum</td>\n      <td>2643.320167070741990333593534</td>\n      <td>4002.694528993949203770831786</td>\n      <td>11361.56</td>\n      <td>5680.780</td>\n    </tr>\n    <tr>\n      <th>wstETH/rETH/sfrxETH</th>\n      <td>arbitrum</td>\n      <td>0.004653093707326708639189677356</td>\n      <td>0.007046029821598353049705906205</td>\n      <td>0.02</td>\n      <td>0.010</td>\n    </tr>\n    <tr>\n      <th>sAVAX-WAVAX-BPT</th>\n      <td>avalanche</td>\n      <td>1021.000325283208523062752461</td>\n      <td>1546.067883498567257229915192</td>\n      <td>2462.77</td>\n      <td>1231.385</td>\n    </tr>\n    <tr>\n      <th>ggAVAX-WAVAX-BPT</th>\n      <td>avalanche</td>\n      <td>173.6650341936665016672230886</td>\n      <td>262.9753636748660346088394264</td>\n      <td>418.90</td>\n      <td>209.450</td>\n    </tr>\n    <tr>\n      <th>yyAVAX-WAVAX-BPT</th>\n      <td>avalanche</td>\n      <td>328.1767511761909828593310980</td>\n      <td>496.9474764502839651381171876</td>\n      <td>791.60</td>\n      <td>395.800</td>\n    </tr>\n    <tr>\n      <th>USDC-USDT-BPT</th>\n      <td>avalanche</td>\n      <td>50.74799913021417156620858980</td>\n      <td>76.84605936366758485669141605</td>\n      <td>122.41</td>\n      <td>61.205</td>\n    </tr>\n    <tr>\n      <th>BPT</th>\n      <td>avalanche</td>\n      <td>0E+6</td>\n      <td>0E+6</td>\n      <td>0.00</td>\n      <td>0.000</td>\n    </tr>\n    <tr>\n      <th>rETH-WETH-BPT</th>\n      <td>base</td>\n      <td>0E+7</td>\n      <td>0E+7</td>\n      <td>0.00</td>\n      <td>0.000</td>\n    </tr>\n    <tr>\n      <th>cbETH/WETH</th>\n      <td>base</td>\n      <td>10899.47676332918107271777908</td>\n      <td>16504.72634868934255783656596</td>\n      <td>1847.83</td>\n      <td>923.915</td>\n    </tr>\n    <tr>\n      <th>bb-WETH-wstETH</th>\n      <td>gnosis</td>\n      <td>118.0779216804299421280180596</td>\n      <td>178.8015908905159008934934359</td>\n      <td>3343.47</td>\n      <td>1671.735</td>\n    </tr>\n    <tr>\n      <th>B-rETH-STABLE</th>\n      <td>mainnet</td>\n      <td>5074.665529169307521443820440</td>\n      <td>7684.402443230994893096146495</td>\n      <td>15797.35</td>\n      <td>7898.675</td>\n    </tr>\n    <tr>\n      <th>swETH-WETH-BPT</th>\n      <td>mainnet</td>\n      <td>1770.192492521201507943920216</td>\n      <td>2680.545434241809913561310154</td>\n      <td>5510.58</td>\n      <td>2755.290</td>\n    </tr>\n    <tr>\n      <th>ECLP-wstETH-cbETH</th>\n      <td>mainnet</td>\n      <td>0E+6</td>\n      <td>0E+6</td>\n      <td>0.00</td>\n      <td>0.000</td>\n    </tr>\n    <tr>\n      <th>20WETH-80ALCX</th>\n      <td>mainnet</td>\n      <td>664.9183999542306939129749640</td>\n      <td>1006.864501273629546051828421</td>\n      <td>2069.88</td>\n      <td>1034.940</td>\n    </tr>\n    <tr>\n      <th>B-staFiETH-WETH-Stable</th>\n      <td>mainnet</td>\n      <td>389.4559687288686621346519880</td>\n      <td>589.7406204268412916434069720</td>\n      <td>1212.37</td>\n      <td>606.185</td>\n    </tr>\n    <tr>\n      <th>GHO/USDT/USDC</th>\n      <td>mainnet</td>\n      <td>0E+6</td>\n      <td>0E+6</td>\n      <td>0.00</td>\n      <td>0.000</td>\n    </tr>\n    <tr>\n      <th>ankrETH/wstETH</th>\n      <td>mainnet</td>\n      <td>1217.263122168708066679379622</td>\n      <td>1843.262310842266175548879390</td>\n      <td>3789.32</td>\n      <td>1894.660</td>\n    </tr>\n    <tr>\n      <th>50wstETH-50LDO</th>\n      <td>mainnet</td>\n      <td>197.0489089782618557371238780</td>\n      <td>298.3848115476535353951205248</td>\n      <td>613.41</td>\n      <td>306.705</td>\n    </tr>\n    <tr>\n      <th>50rETH-50BADGER</th>\n      <td>mainnet</td>\n      <td>3156.727312407594813308877275</td>\n      <td>4780.130420940225408392732720</td>\n      <td>9826.84</td>\n      <td>4913.420</td>\n    </tr>\n    <tr>\n      <th>50rETH-50RPL</th>\n      <td>mainnet</td>\n      <td>405.0230284916481563212825013</td>\n      <td>613.3133172651701260693986260</td>\n      <td>1260.83</td>\n      <td>630.415</td>\n    </tr>\n    <tr>\n      <th>STG/USDC</th>\n      <td>mainnet</td>\n      <td>398.1421696365359655355287747</td>\n      <td>602.8938544860326181576210525</td>\n      <td>1239.41</td>\n      <td>619.705</td>\n    </tr>\n    <tr>\n      <th>ECLP-wstETH-wETH</th>\n      <td>mainnet</td>\n      <td>0E+6</td>\n      <td>0E+6</td>\n      <td>0.00</td>\n      <td>0.000</td>\n    </tr>\n    <tr>\n      <th>50wstETH-50ACX</th>\n      <td>mainnet</td>\n      <td>122.5319702004665757851494629</td>\n      <td>185.5462130006634462123453693</td>\n      <td>381.44</td>\n      <td>190.720</td>\n    </tr>\n    <tr>\n      <th>wstETH-WETH-BPT</th>\n      <td>polygon</td>\n      <td>0E-31</td>\n      <td>0E-31</td>\n      <td>0.00</td>\n      <td>0.000</td>\n    </tr>\n    <tr>\n      <th>ECLP-WMATIC-stMATIC</th>\n      <td>polygon</td>\n      <td>474.7995732905358342160688626</td>\n      <td>718.9736900031859688827166330</td>\n      <td>1591.32</td>\n      <td>795.660</td>\n    </tr>\n    <tr>\n      <th>ECLP-WMATIC-MATICX</th>\n      <td>polygon</td>\n      <td>121.2032040457491055069071546</td>\n      <td>183.5341052416196643538302482</td>\n      <td>406.22</td>\n      <td>203.110</td>\n    </tr>\n    <tr>\n      <th>stMATIC-WMATIC-BPT</th>\n      <td>polygon</td>\n      <td>0.7369699029909908192655720350</td>\n      <td>1.115969769944366527876423399</td>\n      <td>2.47</td>\n      <td>1.235</td>\n    </tr>\n    <tr>\n      <th>maticX-WMATIC-BPT</th>\n      <td>polygon</td>\n      <td>435.3821263738800459030426596</td>\n      <td>659.2851206479834336609537605</td>\n      <td>1459.21</td>\n      <td>729.605</td>\n    </tr>\n  </tbody>\n</table>\n</div>"
     },
     "execution_count": 19,
     "metadata": {},
     "output_type": "execute_result"
    }
   ],
   "source": [
    "from notebooks import calculate_aura_vebal_share\n",
    "\n",
    "aura_vebal_share = calculate_aura_vebal_share(eth_web3, mainnet_block)\n",
    "\n",
    "# Bribes are split per chain and per pool, with each pool getting a share of the bribe proportional to its share of fees\n",
    "# paid by all pools on that chain. For example, if pool A paid 10% of all fees on Arbitrum, it will get 10% of the bribes. That 10% will be distributed between aura and vebal, proportional to their share of the bribe.\n",
    "FEE = Decimal(0.5)  # 50% goes to fees\n",
    "\n",
    "\n",
    "# Let's calculate share of fees paid by each pool on each chain\n",
    "def calc_and_split_bribes(fees: Dict, chain: str, fees_to_distribute: Decimal) -> Dict[str, Dict]:\n",
    "    pool_bribs = {}\n",
    "    # Calculate pool share in fees\n",
    "    total_fees = sum([data['pool_fee'] for pool, data in fees.items()])\n",
    "    for pool, data in fees.items():\n",
    "        pool_fees = data['bpt_token_fee_in_usd'] + data['token_fees_in_usd']\n",
    "        pool_share = pool_fees / Decimal(total_fees)\n",
    "        # Split fees between aura and bal fees\n",
    "        pool_bribs[pool] = {\n",
    "            \"chain\": chain,\n",
    "            \"aura_bribes\": pool_share * fees_to_distribute * aura_vebal_share * FEE,\n",
    "            \"bal_bribes\": pool_share * fees_to_distribute * (1 - aura_vebal_share) * FEE,\n",
    "            \"pool_fees_collected\": pool_fees,\n",
    "            \"revenue_fees\": pool_fees * FEE,\n",
    "        }\n",
    "    return pool_bribs\n",
    "\n",
    "# TODO: Move to constants\n",
    "mainnet_bribes = calc_and_split_bribes(mainnet_fees, 'mainnet', Decimal(81763))\n",
    "arb_bribes = calc_and_split_bribes(arb_fees, 'arbitrum', Decimal(18523))\n",
    "polygon_bribes = calc_and_split_bribes(polygon_fees, 'polygon', Decimal(5162.59))\n",
    "base_bribes = calc_and_split_bribes(base_fees, 'base', Decimal(67118))\n",
    "gnosis_bribes = calc_and_split_bribes(gnosis_fees, 'gnosis', Decimal(597))\n",
    "avax_bribes = calc_and_split_bribes(avax_fees, 'avalanche', Decimal(10297))\n",
    "# Convert to dataframe\n",
    "joint_bribes_data = {**arb_bribes, **mainnet_bribes, **polygon_bribes, **base_bribes, **gnosis_bribes, **avax_bribes}\n",
    "# Sort by chain:\n",
    "joint_bribes_data = {k: v for k, v in sorted(joint_bribes_data.items(), key=lambda item: item[1]['chain'])}\n",
    "joint_bribes_df = pd.DataFrame.from_dict(joint_bribes_data, orient='index')\n",
    "# Sort by chain\n",
    "# Dump into csv and prefix with dates\n",
    "joint_bribes_df.to_csv(f'./output/bribes_{arb_datetime_2_weeks_ago.date()}_{arb_datetime_now.date()}.csv')\n",
    "joint_bribes_df"
   ],
   "metadata": {
    "collapsed": false,
    "ExecuteTime": {
     "end_time": "2023-09-18T14:28:31.593633Z",
     "start_time": "2023-09-18T14:28:31.051648Z"
    }
   },
   "id": "efdef306c522076a"
  }
 ],
 "metadata": {
  "kernelspec": {
   "display_name": "Python 3",
   "language": "python",
   "name": "python3"
  },
  "language_info": {
   "codemirror_mode": {
    "name": "ipython",
    "version": 2
   },
   "file_extension": ".py",
   "mimetype": "text/x-python",
   "name": "python",
   "nbconvert_exporter": "python",
   "pygments_lexer": "ipython2",
   "version": "2.7.6"
  }
 },
 "nbformat": 4,
 "nbformat_minor": 5
}
