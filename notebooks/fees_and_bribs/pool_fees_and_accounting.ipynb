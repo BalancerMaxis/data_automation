{
 "cells": [
  {
   "cell_type": "markdown",
   "source": [
    "## Collecting protocol fees across Balancer core pools on all networks\n",
    "- Spreadsheet as reference: https://docs.google.com/spreadsheets/d/1xwUPpbYq7woVOU9vQ8EB8MY75I-1mauTLyDVwvKUDKo/edit#gid=0\n",
    "- Collab: https://colab.research.google.com/drive/1vKCvcV5mkL1zwW3565kLSGkBEbt8NsoB?usp=sharing\n"
   ],
   "metadata": {
    "collapsed": false
   },
   "id": "e739385af75b2478"
  },
  {
   "cell_type": "code",
   "execution_count": 1,
   "outputs": [
    {
     "name": "stdout",
     "output_type": "stream",
     "text": [
      "Collecting bpt prices for Gnosis\n",
      "Collecting bpt prices for Avalanche\n",
      "Collecting bpt prices for Base\n",
      "Collecting bpt prices for Arbitrum\n",
      "Collecting bpt prices for Mainnet\n",
      "Collecting bpt prices for Polygon\n"
     ]
    }
   ],
   "source": [
    "import datetime\n",
    "import os\n",
    "\n",
    "import pandas as pd\n",
    "from dotenv import load_dotenv\n",
    "from web3 import Web3\n",
    "from web3.middleware import geth_poa_middleware\n",
    "\n",
    "from notebooks import get_block_by_ts\n",
    "from notebooks import get_twap_bpt_price\n",
    "from notebooks.fees_and_bribs.constants import ARB_CORE_POOLS\n",
    "from notebooks.fees_and_bribs.constants import AVAX_CORE_POOLS\n",
    "from notebooks.fees_and_bribs.constants import BASE_CORE_POOLS\n",
    "from notebooks.fees_and_bribs.constants import GNOSIS_CORE_POOLS\n",
    "from notebooks.fees_and_bribs.constants import MAINNET_CORE_POOLS\n",
    "from notebooks.fees_and_bribs.constants import POLYGON_CORE_POOLS\n",
    "\n",
    "load_dotenv()\n",
    "arb_web3 = Web3(Web3.HTTPProvider(os.environ[\"ARBNODEURL\"]))\n",
    "eth_web3 = Web3(Web3.HTTPProvider(os.environ[\"ETHNODEURL\"]))\n",
    "base_web3 = Web3(Web3.HTTPProvider(os.environ[\"BASENODEURL\"]))\n",
    "gnosis_web3 = Web3(Web3.HTTPProvider(os.environ[\"GNOSISNODEURL\"]))\n",
    "avax_web3 = Web3(Web3.HTTPProvider(os.environ[\"AVALANCHENODEURL\"]))\n",
    "poly_web3 = Web3(Web3.HTTPProvider(\"https://polygon-rpc.com\"))\n",
    "poly_web3.middleware_onion.inject(geth_poa_middleware, layer=0)\n",
    "\n",
    "# ARBITRUM\n",
    "# arb_block_now = arb_web3.eth.block_number - 1000\n",
    "timestamp_now = 1694790000\n",
    "arb_block = get_block_by_ts(timestamp_now, \"arbitrum\")  # 18 August 2023\n",
    "# Given Arb block time, we want to look back 2 weeks:\n",
    "arb_timestamp_2_weeks_ago = timestamp_now - (2 * 7 * 24 * 60 * 60)\n",
    "arb_block_2_weeks_ago = get_block_by_ts(arb_timestamp_2_weeks_ago, \"arbitrum\")\n",
    "# Convert to datetime:\n",
    "arb_datetime_now = datetime.datetime.fromtimestamp(timestamp_now)\n",
    "arb_datetime_2_weeks_ago = datetime.datetime.fromtimestamp(arb_timestamp_2_weeks_ago)\n",
    "# MAINNET\n",
    "mainnet_block = get_block_by_ts(timestamp_now, \"mainnet\")\n",
    "# Given mainnet block time, we want to look back 2 weeks:\n",
    "mainnet_timestamp_2_weeks_ago = arb_timestamp_2_weeks_ago\n",
    "mainnet_block_2_weeks_ago = get_block_by_ts(mainnet_timestamp_2_weeks_ago, \"mainnet\")\n",
    "# Convert to datetime:\n",
    "mainnet_datetime_now = datetime.datetime.fromtimestamp(timestamp_now)\n",
    "mainnet_datetime_2_weeks_ago = datetime.datetime.fromtimestamp(mainnet_timestamp_2_weeks_ago)\n",
    "\n",
    "# BASE\n",
    "base_block = get_block_by_ts(timestamp_now, \"base\")\n",
    "# Given base block time, we want to look back 2 weeks:\n",
    "base_timestamp_2_weeks_ago = arb_timestamp_2_weeks_ago\n",
    "base_block_2_weeks_ago = get_block_by_ts(base_timestamp_2_weeks_ago, \"base\")\n",
    "# Convert to datetime:\n",
    "base_datetime_now = datetime.datetime.fromtimestamp(timestamp_now)\n",
    "base_datetime_2_weeks_ago = datetime.datetime.fromtimestamp(base_timestamp_2_weeks_ago)\n",
    "\n",
    "# POLYGON\n",
    "poly_block = get_block_by_ts(timestamp_now, \"polygon\")\n",
    "# Given polygon block time, we want to look back 2 weeks:\n",
    "poly_timestamp_2_weeks_ago = arb_timestamp_2_weeks_ago\n",
    "poly_block_2_weeks_ago = get_block_by_ts(poly_timestamp_2_weeks_ago, \"polygon\")\n",
    "# Convert to datetime:\n",
    "poly_datetime_now = datetime.datetime.fromtimestamp(timestamp_now)\n",
    "poly_datetime_2_weeks_ago = datetime.datetime.fromtimestamp(poly_timestamp_2_weeks_ago)\n",
    "\n",
    "# GNOSIS\n",
    "gnosis_block = get_block_by_ts(timestamp_now, \"gnosis\")\n",
    "# Given gnosis block time, we want to look back 2 weeks:\n",
    "gnosis_timestamp_2_weeks_ago = arb_timestamp_2_weeks_ago\n",
    "gnosis_block_2_weeks_ago = get_block_by_ts(gnosis_timestamp_2_weeks_ago, \"gnosis\")\n",
    "# Convert to datetime:\n",
    "gnosis_datetime_now = datetime.datetime.fromtimestamp(timestamp_now)\n",
    "gnosis_datetime_2_weeks_ago = datetime.datetime.fromtimestamp(gnosis_timestamp_2_weeks_ago)\n",
    "\n",
    "# Avalanche\n",
    "avax_block = get_block_by_ts(timestamp_now, \"avalanche\")\n",
    "# Given avalanche block time, we want to look back 2 weeks:\n",
    "avax_timestamp_2_weeks_ago = arb_timestamp_2_weeks_ago\n",
    "avax_block_2_weeks_ago = get_block_by_ts(avax_timestamp_2_weeks_ago, \"avalanche\")\n",
    "# Convert to datetime:\n",
    "avax_datetime_now = datetime.datetime.fromtimestamp(timestamp_now)\n",
    "avax_datetime_2_weeks_ago = datetime.datetime.fromtimestamp(avax_timestamp_2_weeks_ago)\n",
    "\n",
    "print(\"Collecting bpt prices for Gnosis\")\n",
    "gnosis_bpt_twap_prices = {}\n",
    "for gnosis_pool in GNOSIS_CORE_POOLS:\n",
    "    gnosis_bpt_twap_prices[gnosis_pool] = get_twap_bpt_price(gnosis_pool, 'gnosis', gnosis_web3,\n",
    "                                                             start_date=gnosis_datetime_now,\n",
    "                                                             block_number=gnosis_block)\n",
    "\n",
    "print(\"Collecting bpt prices for Avalanche\")\n",
    "avax_bpt_twap_prices = {}\n",
    "for avax_pool in AVAX_CORE_POOLS:\n",
    "    avax_bpt_twap_prices[avax_pool] = get_twap_bpt_price(avax_pool, 'avalanche', avax_web3,\n",
    "                                                         start_date=avax_datetime_now, block_number=avax_block)\n",
    "print(\"Collecting bpt prices for Base\")\n",
    "base_bpt_twap_prices = {}\n",
    "for base_pool in BASE_CORE_POOLS:\n",
    "    base_bpt_twap_prices[base_pool] = get_twap_bpt_price(base_pool, 'base', base_web3,\n",
    "                                                         start_date=base_datetime_now, block_number=base_block)\n",
    "print(\"Collecting bpt prices for Arbitrum\")\n",
    "arb_bpt_twap_prices = {}\n",
    "for arb_pool in ARB_CORE_POOLS:\n",
    "    arb_bpt_twap_prices[arb_pool] = get_twap_bpt_price(arb_pool, 'arbitrum', arb_web3,\n",
    "                                                       start_date=arb_datetime_now,\n",
    "                                                       block_number=arb_block)\n",
    "\n",
    "print(\"Collecting bpt prices for Mainnet\")\n",
    "mainnet_bpt_twap_prices = {}\n",
    "for mainnet_pool in MAINNET_CORE_POOLS:\n",
    "    mainnet_bpt_twap_prices[mainnet_pool] = get_twap_bpt_price(mainnet_pool, 'mainnet', eth_web3,\n",
    "                                                               start_date=mainnet_datetime_now,\n",
    "                                                               block_number=mainnet_block)\n",
    "print(\"Collecting bpt prices for Polygon\")\n",
    "polygon_bpt_twap_prices = {}\n",
    "for polygon_pool in POLYGON_CORE_POOLS:\n",
    "    polygon_bpt_twap_prices[polygon_pool] = get_twap_bpt_price(polygon_pool, 'polygon', poly_web3,\n",
    "                                                               start_date=poly_datetime_now,\n",
    "                                                               block_number=poly_block)\n",
    "\n",
    "# Convert to dataframe and print, merge all three dataframes\n",
    "arb_bpt_twap_prices_df = pd.DataFrame.from_dict(arb_bpt_twap_prices, orient='index')\n",
    "mainnet_bpt_twap_prices_df = pd.DataFrame.from_dict(mainnet_bpt_twap_prices, orient='index')\n",
    "polygon_bpt_twap_prices_df = pd.DataFrame.from_dict(polygon_bpt_twap_prices, orient='index')\n",
    "base_bpt_twap_prices_df = pd.DataFrame.from_dict(base_bpt_twap_prices, orient='index')\n",
    "gnosis_bpt_twap_prices_df = pd.DataFrame.from_dict(gnosis_bpt_twap_prices, orient='index')\n",
    "avax_bpt_twap_prices_df = pd.DataFrame.from_dict(avax_bpt_twap_prices, orient='index')"
   ],
   "metadata": {
    "collapsed": false,
    "ExecuteTime": {
     "end_time": "2023-09-28T13:21:15.969546Z",
     "start_time": "2023-09-28T13:18:06.217589Z"
    }
   },
   "id": "39d87004addaae1b"
  },
  {
   "cell_type": "markdown",
   "source": [
    "## Fetching data from the Balancer subgraphs"
   ],
   "metadata": {
    "collapsed": false
   },
   "id": "cde5ffca807e3849"
  },
  {
   "cell_type": "code",
   "execution_count": 2,
   "outputs": [],
   "source": [
    "from notebooks import get_balancer_pool_snapshots\n",
    "from notebooks.fees_and_bribs.constants import BASE_BALANCER_GRAPH_URL\n",
    "from notebooks.fees_and_bribs.constants import POLYGON_BALANCER_GRAPH_URL\n",
    "from notebooks.fees_and_bribs.constants import ARB_BALANCER_GRAPH_URL\n",
    "from notebooks.fees_and_bribs.constants import MAINNET_BALANCER_GRAPH_URL\n",
    "from notebooks.fees_and_bribs.constants import GNOSIS_BALANCER_GRAPH_URL\n",
    "from notebooks.fees_and_bribs.constants import AVALANCHE_BALANCER_GRAPH_URL\n",
    "from typing import Dict\n",
    "\n",
    "arbi_pool_snapshots_now = get_balancer_pool_snapshots(arb_block, ARB_BALANCER_GRAPH_URL)\n",
    "arbi_pool_snapshots_2_weeks_ago = get_balancer_pool_snapshots(int(arb_block_2_weeks_ago), ARB_BALANCER_GRAPH_URL)\n",
    "\n",
    "mainnet_pool_snapshots_now = get_balancer_pool_snapshots(mainnet_block, MAINNET_BALANCER_GRAPH_URL)\n",
    "mainnet_pool_snapshots_2_weeks_ago = get_balancer_pool_snapshots(int(mainnet_block_2_weeks_ago),\n",
    "                                                                 MAINNET_BALANCER_GRAPH_URL)\n",
    "\n",
    "polygon_pool_snapshots_now = get_balancer_pool_snapshots(poly_block, POLYGON_BALANCER_GRAPH_URL)\n",
    "polygon_pool_snapshots_2_weeks_ago = get_balancer_pool_snapshots(int(poly_block_2_weeks_ago),\n",
    "                                                                 POLYGON_BALANCER_GRAPH_URL)\n",
    "\n",
    "base_pool_snapshots_now = get_balancer_pool_snapshots(base_block, BASE_BALANCER_GRAPH_URL)\n",
    "base_pool_snapshots_2_weeks_ago = get_balancer_pool_snapshots(int(base_block_2_weeks_ago),\n",
    "                                                              BASE_BALANCER_GRAPH_URL)\n",
    "\n",
    "gnosis_pool_snapshots_now = get_balancer_pool_snapshots(gnosis_block, GNOSIS_BALANCER_GRAPH_URL)\n",
    "gnosis_pool_snapshots_2_weeks_ago = get_balancer_pool_snapshots(int(gnosis_block_2_weeks_ago),\n",
    "                                                                GNOSIS_BALANCER_GRAPH_URL)\n",
    "\n",
    "avax_pool_snapshots_now = get_balancer_pool_snapshots(avax_block, AVALANCHE_BALANCER_GRAPH_URL)\n",
    "avax_pool_snapshots_2_weeks_ago = get_balancer_pool_snapshots(int(avax_block_2_weeks_ago),\n",
    "                                                              AVALANCHE_BALANCER_GRAPH_URL)"
   ],
   "metadata": {
    "collapsed": false,
    "ExecuteTime": {
     "end_time": "2023-09-28T13:23:03.314522Z",
     "start_time": "2023-09-28T13:21:30.397644Z"
    }
   },
   "id": "e1e0b8b90f62234c"
  },
  {
   "cell_type": "markdown",
   "source": [
    "## Extract fee data for CORE pools:\n"
   ],
   "metadata": {
    "collapsed": false
   },
   "id": "d5333a7de445454d"
  },
  {
   "cell_type": "code",
   "execution_count": 11,
   "outputs": [],
   "source": [
    "from collections import defaultdict\n",
    "from decimal import Decimal\n",
    "from notebooks import fetch_token_price_balgql\n",
    "\n",
    "\n",
    "def collect_fee_info(pools: list[str], chain: str, pools_now: list[dict], pools_shifted: list[dict],\n",
    "                     start_date: datetime.datetime) -> tuple[dict, dict]:\n",
    "    # Iterate through snapshots now and 2 weeks ago and extract fee data, by subtracting today's fee data from 2 weeks ago\n",
    "    # and then summing across all pools\n",
    "    fees = {}\n",
    "    token_fees = defaultdict(list)\n",
    "    for pool in pools:\n",
    "        current_fees_snapshots = [x for x in pools_now if x['pool']['id'] == pool]\n",
    "        current_fees_snapshots.sort(key=lambda x: x['timestamp'], reverse=True)\n",
    "        fees_2_weeks_ago = [x for x in pools_shifted if x['pool']['id'] == pool]\n",
    "        fees_2_weeks_ago.sort(key=lambda x: x['timestamp'], reverse=True)\n",
    "        # Take first element of list, which is the most recent snapshot\n",
    "        if not current_fees_snapshots or not fees_2_weeks_ago:\n",
    "            continue\n",
    "        pool_snapshot_now = current_fees_snapshots[0]\n",
    "        pool_snapshot_2_weeks_ago = fees_2_weeks_ago[0]\n",
    "        # Calculate fees\n",
    "        pool_fee = float(pool_snapshot_now['protocolFee']) - float(pool_snapshot_2_weeks_ago['protocolFee'])\n",
    "        pool_swap_fee = float(pool_snapshot_now['swapFees']) - float(pool_snapshot_2_weeks_ago['swapFees'])\n",
    "        # Now we need to collect token fee info. Let's start with BPT tokens, which is Balancer pool token. Notice,\n",
    "        # That totalProtocolFeePaidInBPT can be null, so we need to check for that\n",
    "        bpt_token_fee = 0\n",
    "        bpt_price_usd = arb_bpt_twap_prices[pool] if chain == 'arbitrum' else mainnet_bpt_twap_prices[\n",
    "            pool] if chain == 'mainnet' else polygon_bpt_twap_prices[pool] if chain == 'polygon' else \\\n",
    "            base_bpt_twap_prices[pool] if chain == 'base' else gnosis_bpt_twap_prices[pool] if chain == 'gnosis' else \\\n",
    "                avax_bpt_twap_prices[pool]\n",
    "        if bpt_price_usd is None:\n",
    "            bpt_price_usd = 0\n",
    "        if pool_snapshot_now['pool']['totalProtocolFeePaidInBPT'] is not None and pool_snapshot_2_weeks_ago['pool'][\n",
    "            'totalProtocolFeePaidInBPT'] is not None:\n",
    "            bpt_token_fee = float(pool_snapshot_now['pool']['totalProtocolFeePaidInBPT']) - float(\n",
    "                pool_snapshot_2_weeks_ago['pool']['totalProtocolFeePaidInBPT'])\n",
    "            token_fees[pool_snapshot_now['pool']['id']].append({\n",
    "                'symbol': pool_snapshot_now['pool']['symbol'],\n",
    "                'token': pool_snapshot_now['pool']['symbol'],\n",
    "                'token_fee': bpt_token_fee,\n",
    "                'token_price': bpt_price_usd,\n",
    "                'token_fee_in_usd': Decimal(bpt_token_fee) * bpt_price_usd,\n",
    "                'token_addr': pool_snapshot_now['pool']['address'],\n",
    "                'time_from': arb_datetime_2_weeks_ago,\n",
    "                'time_to': arb_datetime_now,\n",
    "                'chain': chain,\n",
    "            })\n",
    "        # Now collect fee info about fees paid in pool tokens. Pool tokens fee info is in pool.tokens dictionary. This will be separate dictionary\n",
    "        else:\n",
    "            bpt_price_usd = 0\n",
    "            for token_data in pool_snapshot_now['pool']['tokens']:\n",
    "                token_data_2_weeks_ago = \\\n",
    "                    [t for t in pool_snapshot_2_weeks_ago['pool']['tokens'] if t['address'] == token_data['address']][0]\n",
    "                token_fee = float(token_data.get('paidProtocolFees', None)) - float(\n",
    "                    token_data_2_weeks_ago.get('paidProtocolFees', None))\n",
    "                # Get twap token price from CoinGecko\n",
    "                token_price = fetch_token_price_balgql(token_data['address'], chain, start_date) or 0\n",
    "                token_fees[pool_snapshot_now['pool']['id']].append({\n",
    "                    'symbol': pool_snapshot_now['pool']['symbol'],\n",
    "                    'token': token_data['symbol'],\n",
    "                    'token_fee': token_fee,\n",
    "                    'token_price': token_price,\n",
    "                    'token_fee_in_usd': Decimal(token_fee) * token_price if token_price is not None else 0,\n",
    "                    'token_addr': token_data['address'],\n",
    "                    'time_from': arb_datetime_2_weeks_ago,\n",
    "                    'time_to': arb_datetime_now,\n",
    "                    'chain': chain,\n",
    "                })\n",
    "        # Calculate non-BPT fees in USD\n",
    "        fees[pool_snapshot_now['pool']['id']] = {\n",
    "            'symbol': pool_snapshot_now['pool']['symbol'],\n",
    "            'pool_fee': round(pool_fee, 2),\n",
    "            'swap_fee': round(pool_swap_fee, 2),\n",
    "            'bpt_token_fee': round(bpt_token_fee, 2),\n",
    "            # Get fee in USD by multiplying bpt_token_fee by price of BPT token taken from twap_bpt_price\n",
    "            'bpt_token_fee_in_usd': round(Decimal(bpt_token_fee) * bpt_price_usd, 2),\n",
    "            'token_fees_in_usd': round(sum([x['token_fee_in_usd'] for x in\n",
    "                                            token_fees[\n",
    "                                                pool_snapshot_now['pool']['symbol']]]) if bpt_price_usd == 0 else 0, 2),\n",
    "            'time_from': arb_datetime_2_weeks_ago,\n",
    "            'time_to': arb_datetime_now,\n",
    "            'chain': chain,\n",
    "            'token_fees': token_fees[pool_snapshot_now['pool']['symbol']],\n",
    "            'pool_addr': pool_snapshot_now['pool']['address'],\n",
    "        }\n",
    "    return fees\n",
    "\n",
    "\n",
    "arb_fees = collect_fee_info(ARB_CORE_POOLS, 'arbitrum', arbi_pool_snapshots_now,\n",
    "                            arbi_pool_snapshots_2_weeks_ago, arb_datetime_now)\n",
    "mainnet_fees = collect_fee_info(MAINNET_CORE_POOLS, 'mainnet', mainnet_pool_snapshots_now,\n",
    "                                mainnet_pool_snapshots_2_weeks_ago, mainnet_datetime_now)\n",
    "polygon_fees = collect_fee_info(POLYGON_CORE_POOLS, 'polygon', polygon_pool_snapshots_now,\n",
    "                                polygon_pool_snapshots_2_weeks_ago, poly_datetime_now)\n",
    "base_fees = collect_fee_info(BASE_CORE_POOLS, 'base', base_pool_snapshots_now, base_pool_snapshots_2_weeks_ago,\n",
    "                             base_datetime_now)\n",
    "gnosis_fees = collect_fee_info(GNOSIS_CORE_POOLS, 'gnosis', gnosis_pool_snapshots_now,\n",
    "                               gnosis_pool_snapshots_2_weeks_ago, gnosis_datetime_now)\n",
    "avax_fees = collect_fee_info(AVAX_CORE_POOLS, 'avalanche', avax_pool_snapshots_now,\n",
    "                             avax_pool_snapshots_2_weeks_ago, avax_datetime_now)\n",
    "# Convert to dataframe, sort by chain and pool fee\n",
    "joint_fees = {**arb_fees, **mainnet_fees, **polygon_fees, **base_fees, **gnosis_fees, **avax_fees}\n",
    "joint_fees_df = pd.DataFrame.from_dict(joint_fees, orient='index')"
   ],
   "metadata": {
    "collapsed": false,
    "ExecuteTime": {
     "end_time": "2023-09-28T14:23:11.909484Z",
     "start_time": "2023-09-28T14:22:52.924071Z"
    }
   },
   "id": "e79b2f6a4ead2cad"
  },
  {
   "cell_type": "code",
   "execution_count": 12,
   "outputs": [
    {
     "data": {
      "text/plain": "                                                                    symbol  \\\n0xf0ad209e2e969eaaa8c882aac71f02d8a047d5c200020...     ECLP-WMATIC-stMATIC   \n0xcd78a20c597e367a4e478a2411ceb790604d7c8f00000...       maticX-WMATIC-BPT   \n0xee278d943584dd8640eaf4cc6c7a5c80c0073e8500020...      ECLP-WMATIC-MATICX   \n0x89b753153678bc434c610b7e9182297cada8ff2900000...      stMATIC-WMATIC-BPT   \n0xdc31233e09f3bf5bfe5c10da2014677c23b6894c00000...         wstETH-WETH-BPT   \n0x1e19cf2d73a72ef1332c882f20534b6519be027600020...           B-rETH-STABLE   \n0x1ee442b5326009bb18f2f472d3e0061513d1a0ff00020...         50rETH-50BADGER   \n0x93d199263632a4ef4bb438f1feb99e57b4b5f0bd00000...         wstETH-WETH-BPT   \n0xe7e2c68d3b13d905bbb636709cf4dfd21076b9d200000...          swETH-WETH-BPT   \n0xdfe6e7e18f6cc65fa13c8d8966013d4fda74b6ba00000...          ankrETH/wstETH   \n0xf16aee6a71af1a9bc8f56975a4c2705ca7a782bc00020...           20WETH-80ALCX   \n0x9f9d900462492d4c21e9523ca95a7cd86142f29800020...            50rETH-50RPL   \n0x3ff3a210e57cfe679d9ad1e9ba6453a716c56a2e00020...                STG/USDC   \n0xb08885e6026bab4333a80024ec25a1a3e1ff2b8a00020...  B-staFiETH-WETH-Stable   \n0x8353157092ed8be69a9df8f95af097bbf33cb2af00000...           GHO/USDT/USDC   \n0x5f1f4e50ba51d723f12385a8a9606afc3a0555f500020...          50wstETH-50LDO   \n0x36be1e97ea98ab43b4debf92742517266f5731a300020...          50wstETH-50ACX   \n0xf7a826d47c8e02835d94fb0aa40f0cc9505cb13400020...       ECLP-wstETH-cbETH   \n0xf01b0684c98cd7ada480bfdf6e43876422fa1fc100020...        ECLP-wstETH-wETH   \n0xbad20c15a773bf03ab973302f61fabcea5101f0a00000...          bb-WETH-wstETH   \n0xfb4c2e6e6e27b5b4a07a36360c89ede29bb3c9b600000...              cbETH/WETH   \n0xc771c1a5905420daec317b154eb13e4198ba97d000000...           rETH-WETH-BPT   \n0xfd2620c9cfcec7d152467633b3b0ca338d3d78cc00000...         sAVAX-WAVAX-BPT   \n0x9fa6ab3d78984a69e712730a2227f20bcc8b5ad900000...        yyAVAX-WAVAX-BPT   \n0xc13546b97b9b1b15372368dc06529d7191081f5b00000...        ggAVAX-WAVAX-BPT   \n0xb26f0e66317846bd5fe0cbaa1d269f0efeb05c9600000...           USDC-USDT-BPT   \n0x55bec22f8f6c69137ceaf284d9b441db1b9bfedc00020...                     BPT   \n0x32df62dc3aed2cd6224193052ce665dc1816584100020...               RDNT-WETH   \n0x9791d590788598535278552eecd4b211bfc790cb00000...         wstETH-WETH-BPT   \n0x4a2f6ae7f3e5d715689530873ec35593dc28951b00000...       wstETH/rETH/cbETH   \n0xade4a71bb62bec25154cfc7e6ff49a513b491e8100000...           rETH-WETH-BPT   \n0x423a1323c871abc9d89eb06855bf5347048fc4a500000...               4POOL-BPT   \n0x0c8972437a38b389ec83d1e666b69b8a4fcf8bfd00000...     wstETH/rETH/sfrxETH   \n\n                                                    pool_fee  swap_fee  \\\n0xf0ad209e2e969eaaa8c882aac71f02d8a047d5c200020...   1584.96    249.39   \n0xcd78a20c597e367a4e478a2411ceb790604d7c8f00000...   1450.10    326.70   \n0xee278d943584dd8640eaf4cc6c7a5c80c0073e8500020...    403.27     71.47   \n0x89b753153678bc434c610b7e9182297cada8ff2900000...      2.58      1.34   \n0xdc31233e09f3bf5bfe5c10da2014677c23b6894c00000...      0.00      0.00   \n0x1e19cf2d73a72ef1332c882f20534b6519be027600020...  15892.61   2300.19   \n0x1ee442b5326009bb18f2f472d3e0061513d1a0ff00020...   9939.15   2997.35   \n0x93d199263632a4ef4bb438f1feb99e57b4b5f0bd00000...   7115.31   5166.12   \n0xe7e2c68d3b13d905bbb636709cf4dfd21076b9d200000...   5502.29    634.17   \n0xdfe6e7e18f6cc65fa13c8d8966013d4fda74b6ba00000...   3867.44    126.65   \n0xf16aee6a71af1a9bc8f56975a4c2705ca7a782bc00020...   2393.07   4118.43   \n0x9f9d900462492d4c21e9523ca95a7cd86142f29800020...   1272.25   1209.24   \n0x3ff3a210e57cfe679d9ad1e9ba6453a716c56a2e00020...   1262.74   8264.76   \n0xb08885e6026bab4333a80024ec25a1a3e1ff2b8a00020...   1216.06    339.32   \n0x8353157092ed8be69a9df8f95af097bbf33cb2af00000...   1142.27   1871.72   \n0x5f1f4e50ba51d723f12385a8a9606afc3a0555f500020...    631.08    255.37   \n0x36be1e97ea98ab43b4debf92742517266f5731a300020...    382.23   1420.64   \n0xf7a826d47c8e02835d94fb0aa40f0cc9505cb13400020...      0.00      0.00   \n0xf01b0684c98cd7ada480bfdf6e43876422fa1fc100020...      0.00      0.00   \n0xbad20c15a773bf03ab973302f61fabcea5101f0a00000...   3361.72     15.05   \n0xfb4c2e6e6e27b5b4a07a36360c89ede29bb3c9b600000...   1861.50   1117.90   \n0xc771c1a5905420daec317b154eb13e4198ba97d000000...    401.34    223.34   \n0xfd2620c9cfcec7d152467633b3b0ca338d3d78cc00000...   3230.30    757.35   \n0x9fa6ab3d78984a69e712730a2227f20bcc8b5ad900000...   1039.56      3.46   \n0xc13546b97b9b1b15372368dc06529d7191081f5b00000...    547.02      3.58   \n0xb26f0e66317846bd5fe0cbaa1d269f0efeb05c9600000...    122.44    207.94   \n0x55bec22f8f6c69137ceaf284d9b441db1b9bfedc00020...      0.00     97.45   \n0x32df62dc3aed2cd6224193052ce665dc1816584100020...  11108.53  20103.97   \n0x9791d590788598535278552eecd4b211bfc790cb00000...   2561.10    784.55   \n0x4a2f6ae7f3e5d715689530873ec35593dc28951b00000...   1008.43    358.60   \n0xade4a71bb62bec25154cfc7e6ff49a513b491e8100000...    678.79    349.00   \n0x423a1323c871abc9d89eb06855bf5347048fc4a500000...    475.95    832.86   \n0x0c8972437a38b389ec83d1e666b69b8a4fcf8bfd00000...      0.01      0.00   \n\n                                                    bpt_token_fee  \\\n0xf0ad209e2e969eaaa8c882aac71f02d8a047d5c200020...        2946.55   \n0xcd78a20c597e367a4e478a2411ceb790604d7c8f00000...        2724.34   \n0xee278d943584dd8640eaf4cc6c7a5c80c0073e8500020...         755.16   \n0x89b753153678bc434c610b7e9182297cada8ff2900000...           4.62   \n0xdc31233e09f3bf5bfe5c10da2014677c23b6894c00000...           0.00   \n0x1e19cf2d73a72ef1332c882f20534b6519be027600020...           0.00   \n0x1ee442b5326009bb18f2f472d3e0061513d1a0ff00020...         166.20   \n0x93d199263632a4ef4bb438f1feb99e57b4b5f0bd00000...           4.38   \n0xe7e2c68d3b13d905bbb636709cf4dfd21076b9d200000...           3.43   \n0xdfe6e7e18f6cc65fa13c8d8966013d4fda74b6ba00000...           2.32   \n0xf16aee6a71af1a9bc8f56975a4c2705ca7a782bc00020...          83.27   \n0x9f9d900462492d4c21e9523ca95a7cd86142f29800020...           6.32   \n0x3ff3a210e57cfe679d9ad1e9ba6453a716c56a2e00020...        1733.53   \n0xb08885e6026bab4333a80024ec25a1a3e1ff2b8a00020...           0.00   \n0x8353157092ed8be69a9df8f95af097bbf33cb2af00000...           0.00   \n0x5f1f4e50ba51d723f12385a8a9606afc3a0555f500020...          11.58   \n0x36be1e97ea98ab43b4debf92742517266f5731a300020...          38.01   \n0xf7a826d47c8e02835d94fb0aa40f0cc9505cb13400020...           0.00   \n0xf01b0684c98cd7ada480bfdf6e43876422fa1fc100020...           0.00   \n0xbad20c15a773bf03ab973302f61fabcea5101f0a00000...           2.06   \n0xfb4c2e6e6e27b5b4a07a36360c89ede29bb3c9b600000...           1.14   \n0xc771c1a5905420daec317b154eb13e4198ba97d000000...           0.00   \n0xfd2620c9cfcec7d152467633b3b0ca338d3d78cc00000...         254.06   \n0x9fa6ab3d78984a69e712730a2227f20bcc8b5ad900000...          81.63   \n0xc13546b97b9b1b15372368dc06529d7191081f5b00000...          43.02   \n0xb26f0e66317846bd5fe0cbaa1d269f0efeb05c9600000...         122.40   \n0x55bec22f8f6c69137ceaf284d9b441db1b9bfedc00020...           0.00   \n0x32df62dc3aed2cd6224193052ce665dc1816584100020...       10471.27   \n0x9791d590788598535278552eecd4b211bfc790cb00000...           1.57   \n0x4a2f6ae7f3e5d715689530873ec35593dc28951b00000...           1.22   \n0xade4a71bb62bec25154cfc7e6ff49a513b491e8100000...           0.42   \n0x423a1323c871abc9d89eb06855bf5347048fc4a500000...         475.65   \n0x0c8972437a38b389ec83d1e666b69b8a4fcf8bfd00000...           0.00   \n\n                                                   bpt_token_fee_in_usd  \\\n0xf0ad209e2e969eaaa8c882aac71f02d8a047d5c200020...              1591.32   \n0xcd78a20c597e367a4e478a2411ceb790604d7c8f00000...              1459.21   \n0xee278d943584dd8640eaf4cc6c7a5c80c0073e8500020...               406.22   \n0x89b753153678bc434c610b7e9182297cada8ff2900000...                 2.47   \n0xdc31233e09f3bf5bfe5c10da2014677c23b6894c00000...                 0.00   \n0x1e19cf2d73a72ef1332c882f20534b6519be027600020...                 0.00   \n0x1ee442b5326009bb18f2f472d3e0061513d1a0ff00020...              9826.84   \n0x93d199263632a4ef4bb438f1feb99e57b4b5f0bd00000...              7112.06   \n0xe7e2c68d3b13d905bbb636709cf4dfd21076b9d200000...              5510.58   \n0xdfe6e7e18f6cc65fa13c8d8966013d4fda74b6ba00000...              3789.32   \n0xf16aee6a71af1a9bc8f56975a4c2705ca7a782bc00020...              2069.88   \n0x9f9d900462492d4c21e9523ca95a7cd86142f29800020...              1260.83   \n0x3ff3a210e57cfe679d9ad1e9ba6453a716c56a2e00020...              1239.41   \n0xb08885e6026bab4333a80024ec25a1a3e1ff2b8a00020...                 0.00   \n0x8353157092ed8be69a9df8f95af097bbf33cb2af00000...                 0.00   \n0x5f1f4e50ba51d723f12385a8a9606afc3a0555f500020...               613.41   \n0x36be1e97ea98ab43b4debf92742517266f5731a300020...               381.44   \n0xf7a826d47c8e02835d94fb0aa40f0cc9505cb13400020...                 0.00   \n0xf01b0684c98cd7ada480bfdf6e43876422fa1fc100020...                 0.00   \n0xbad20c15a773bf03ab973302f61fabcea5101f0a00000...              3343.47   \n0xfb4c2e6e6e27b5b4a07a36360c89ede29bb3c9b600000...              1847.83   \n0xc771c1a5905420daec317b154eb13e4198ba97d000000...                 0.00   \n0xfd2620c9cfcec7d152467633b3b0ca338d3d78cc00000...              2462.77   \n0x9fa6ab3d78984a69e712730a2227f20bcc8b5ad900000...               791.60   \n0xc13546b97b9b1b15372368dc06529d7191081f5b00000...               418.90   \n0xb26f0e66317846bd5fe0cbaa1d269f0efeb05c9600000...               122.41   \n0x55bec22f8f6c69137ceaf284d9b441db1b9bfedc00020...                 0.00   \n0x32df62dc3aed2cd6224193052ce665dc1816584100020...             11361.56   \n0x9791d590788598535278552eecd4b211bfc790cb00000...              2552.72   \n0x4a2f6ae7f3e5d715689530873ec35593dc28951b00000...              1981.51   \n0xade4a71bb62bec25154cfc7e6ff49a513b491e8100000...               676.19   \n0x423a1323c871abc9d89eb06855bf5347048fc4a500000...               475.79   \n0x0c8972437a38b389ec83d1e666b69b8a4fcf8bfd00000...                 0.02   \n\n                                                    token_fees_in_usd  \\\n0xf0ad209e2e969eaaa8c882aac71f02d8a047d5c200020...                  0   \n0xcd78a20c597e367a4e478a2411ceb790604d7c8f00000...                  0   \n0xee278d943584dd8640eaf4cc6c7a5c80c0073e8500020...                  0   \n0x89b753153678bc434c610b7e9182297cada8ff2900000...                  0   \n0xdc31233e09f3bf5bfe5c10da2014677c23b6894c00000...                  0   \n0x1e19cf2d73a72ef1332c882f20534b6519be027600020...                  0   \n0x1ee442b5326009bb18f2f472d3e0061513d1a0ff00020...                  0   \n0x93d199263632a4ef4bb438f1feb99e57b4b5f0bd00000...                  0   \n0xe7e2c68d3b13d905bbb636709cf4dfd21076b9d200000...                  0   \n0xdfe6e7e18f6cc65fa13c8d8966013d4fda74b6ba00000...                  0   \n0xf16aee6a71af1a9bc8f56975a4c2705ca7a782bc00020...                  0   \n0x9f9d900462492d4c21e9523ca95a7cd86142f29800020...                  0   \n0x3ff3a210e57cfe679d9ad1e9ba6453a716c56a2e00020...                  0   \n0xb08885e6026bab4333a80024ec25a1a3e1ff2b8a00020...                  0   \n0x8353157092ed8be69a9df8f95af097bbf33cb2af00000...                  0   \n0x5f1f4e50ba51d723f12385a8a9606afc3a0555f500020...                  0   \n0x36be1e97ea98ab43b4debf92742517266f5731a300020...                  0   \n0xf7a826d47c8e02835d94fb0aa40f0cc9505cb13400020...                  0   \n0xf01b0684c98cd7ada480bfdf6e43876422fa1fc100020...                  0   \n0xbad20c15a773bf03ab973302f61fabcea5101f0a00000...                  0   \n0xfb4c2e6e6e27b5b4a07a36360c89ede29bb3c9b600000...                  0   \n0xc771c1a5905420daec317b154eb13e4198ba97d000000...                  0   \n0xfd2620c9cfcec7d152467633b3b0ca338d3d78cc00000...                  0   \n0x9fa6ab3d78984a69e712730a2227f20bcc8b5ad900000...                  0   \n0xc13546b97b9b1b15372368dc06529d7191081f5b00000...                  0   \n0xb26f0e66317846bd5fe0cbaa1d269f0efeb05c9600000...                  0   \n0x55bec22f8f6c69137ceaf284d9b441db1b9bfedc00020...                  0   \n0x32df62dc3aed2cd6224193052ce665dc1816584100020...                  0   \n0x9791d590788598535278552eecd4b211bfc790cb00000...                  0   \n0x4a2f6ae7f3e5d715689530873ec35593dc28951b00000...                  0   \n0xade4a71bb62bec25154cfc7e6ff49a513b491e8100000...                  0   \n0x423a1323c871abc9d89eb06855bf5347048fc4a500000...                  0   \n0x0c8972437a38b389ec83d1e666b69b8a4fcf8bfd00000...                  0   \n\n                                                             time_from  \\\n0xf0ad209e2e969eaaa8c882aac71f02d8a047d5c200020... 2023-09-01 18:00:00   \n0xcd78a20c597e367a4e478a2411ceb790604d7c8f00000... 2023-09-01 18:00:00   \n0xee278d943584dd8640eaf4cc6c7a5c80c0073e8500020... 2023-09-01 18:00:00   \n0x89b753153678bc434c610b7e9182297cada8ff2900000... 2023-09-01 18:00:00   \n0xdc31233e09f3bf5bfe5c10da2014677c23b6894c00000... 2023-09-01 18:00:00   \n0x1e19cf2d73a72ef1332c882f20534b6519be027600020... 2023-09-01 18:00:00   \n0x1ee442b5326009bb18f2f472d3e0061513d1a0ff00020... 2023-09-01 18:00:00   \n0x93d199263632a4ef4bb438f1feb99e57b4b5f0bd00000... 2023-09-01 18:00:00   \n0xe7e2c68d3b13d905bbb636709cf4dfd21076b9d200000... 2023-09-01 18:00:00   \n0xdfe6e7e18f6cc65fa13c8d8966013d4fda74b6ba00000... 2023-09-01 18:00:00   \n0xf16aee6a71af1a9bc8f56975a4c2705ca7a782bc00020... 2023-09-01 18:00:00   \n0x9f9d900462492d4c21e9523ca95a7cd86142f29800020... 2023-09-01 18:00:00   \n0x3ff3a210e57cfe679d9ad1e9ba6453a716c56a2e00020... 2023-09-01 18:00:00   \n0xb08885e6026bab4333a80024ec25a1a3e1ff2b8a00020... 2023-09-01 18:00:00   \n0x8353157092ed8be69a9df8f95af097bbf33cb2af00000... 2023-09-01 18:00:00   \n0x5f1f4e50ba51d723f12385a8a9606afc3a0555f500020... 2023-09-01 18:00:00   \n0x36be1e97ea98ab43b4debf92742517266f5731a300020... 2023-09-01 18:00:00   \n0xf7a826d47c8e02835d94fb0aa40f0cc9505cb13400020... 2023-09-01 18:00:00   \n0xf01b0684c98cd7ada480bfdf6e43876422fa1fc100020... 2023-09-01 18:00:00   \n0xbad20c15a773bf03ab973302f61fabcea5101f0a00000... 2023-09-01 18:00:00   \n0xfb4c2e6e6e27b5b4a07a36360c89ede29bb3c9b600000... 2023-09-01 18:00:00   \n0xc771c1a5905420daec317b154eb13e4198ba97d000000... 2023-09-01 18:00:00   \n0xfd2620c9cfcec7d152467633b3b0ca338d3d78cc00000... 2023-09-01 18:00:00   \n0x9fa6ab3d78984a69e712730a2227f20bcc8b5ad900000... 2023-09-01 18:00:00   \n0xc13546b97b9b1b15372368dc06529d7191081f5b00000... 2023-09-01 18:00:00   \n0xb26f0e66317846bd5fe0cbaa1d269f0efeb05c9600000... 2023-09-01 18:00:00   \n0x55bec22f8f6c69137ceaf284d9b441db1b9bfedc00020... 2023-09-01 18:00:00   \n0x32df62dc3aed2cd6224193052ce665dc1816584100020... 2023-09-01 18:00:00   \n0x9791d590788598535278552eecd4b211bfc790cb00000... 2023-09-01 18:00:00   \n0x4a2f6ae7f3e5d715689530873ec35593dc28951b00000... 2023-09-01 18:00:00   \n0xade4a71bb62bec25154cfc7e6ff49a513b491e8100000... 2023-09-01 18:00:00   \n0x423a1323c871abc9d89eb06855bf5347048fc4a500000... 2023-09-01 18:00:00   \n0x0c8972437a38b389ec83d1e666b69b8a4fcf8bfd00000... 2023-09-01 18:00:00   \n\n                                                               time_to  \\\n0xf0ad209e2e969eaaa8c882aac71f02d8a047d5c200020... 2023-09-15 18:00:00   \n0xcd78a20c597e367a4e478a2411ceb790604d7c8f00000... 2023-09-15 18:00:00   \n0xee278d943584dd8640eaf4cc6c7a5c80c0073e8500020... 2023-09-15 18:00:00   \n0x89b753153678bc434c610b7e9182297cada8ff2900000... 2023-09-15 18:00:00   \n0xdc31233e09f3bf5bfe5c10da2014677c23b6894c00000... 2023-09-15 18:00:00   \n0x1e19cf2d73a72ef1332c882f20534b6519be027600020... 2023-09-15 18:00:00   \n0x1ee442b5326009bb18f2f472d3e0061513d1a0ff00020... 2023-09-15 18:00:00   \n0x93d199263632a4ef4bb438f1feb99e57b4b5f0bd00000... 2023-09-15 18:00:00   \n0xe7e2c68d3b13d905bbb636709cf4dfd21076b9d200000... 2023-09-15 18:00:00   \n0xdfe6e7e18f6cc65fa13c8d8966013d4fda74b6ba00000... 2023-09-15 18:00:00   \n0xf16aee6a71af1a9bc8f56975a4c2705ca7a782bc00020... 2023-09-15 18:00:00   \n0x9f9d900462492d4c21e9523ca95a7cd86142f29800020... 2023-09-15 18:00:00   \n0x3ff3a210e57cfe679d9ad1e9ba6453a716c56a2e00020... 2023-09-15 18:00:00   \n0xb08885e6026bab4333a80024ec25a1a3e1ff2b8a00020... 2023-09-15 18:00:00   \n0x8353157092ed8be69a9df8f95af097bbf33cb2af00000... 2023-09-15 18:00:00   \n0x5f1f4e50ba51d723f12385a8a9606afc3a0555f500020... 2023-09-15 18:00:00   \n0x36be1e97ea98ab43b4debf92742517266f5731a300020... 2023-09-15 18:00:00   \n0xf7a826d47c8e02835d94fb0aa40f0cc9505cb13400020... 2023-09-15 18:00:00   \n0xf01b0684c98cd7ada480bfdf6e43876422fa1fc100020... 2023-09-15 18:00:00   \n0xbad20c15a773bf03ab973302f61fabcea5101f0a00000... 2023-09-15 18:00:00   \n0xfb4c2e6e6e27b5b4a07a36360c89ede29bb3c9b600000... 2023-09-15 18:00:00   \n0xc771c1a5905420daec317b154eb13e4198ba97d000000... 2023-09-15 18:00:00   \n0xfd2620c9cfcec7d152467633b3b0ca338d3d78cc00000... 2023-09-15 18:00:00   \n0x9fa6ab3d78984a69e712730a2227f20bcc8b5ad900000... 2023-09-15 18:00:00   \n0xc13546b97b9b1b15372368dc06529d7191081f5b00000... 2023-09-15 18:00:00   \n0xb26f0e66317846bd5fe0cbaa1d269f0efeb05c9600000... 2023-09-15 18:00:00   \n0x55bec22f8f6c69137ceaf284d9b441db1b9bfedc00020... 2023-09-15 18:00:00   \n0x32df62dc3aed2cd6224193052ce665dc1816584100020... 2023-09-15 18:00:00   \n0x9791d590788598535278552eecd4b211bfc790cb00000... 2023-09-15 18:00:00   \n0x4a2f6ae7f3e5d715689530873ec35593dc28951b00000... 2023-09-15 18:00:00   \n0xade4a71bb62bec25154cfc7e6ff49a513b491e8100000... 2023-09-15 18:00:00   \n0x423a1323c871abc9d89eb06855bf5347048fc4a500000... 2023-09-15 18:00:00   \n0x0c8972437a38b389ec83d1e666b69b8a4fcf8bfd00000... 2023-09-15 18:00:00   \n\n                                                        chain  \\\n0xf0ad209e2e969eaaa8c882aac71f02d8a047d5c200020...    polygon   \n0xcd78a20c597e367a4e478a2411ceb790604d7c8f00000...    polygon   \n0xee278d943584dd8640eaf4cc6c7a5c80c0073e8500020...    polygon   \n0x89b753153678bc434c610b7e9182297cada8ff2900000...    polygon   \n0xdc31233e09f3bf5bfe5c10da2014677c23b6894c00000...    polygon   \n0x1e19cf2d73a72ef1332c882f20534b6519be027600020...    mainnet   \n0x1ee442b5326009bb18f2f472d3e0061513d1a0ff00020...    mainnet   \n0x93d199263632a4ef4bb438f1feb99e57b4b5f0bd00000...    mainnet   \n0xe7e2c68d3b13d905bbb636709cf4dfd21076b9d200000...    mainnet   \n0xdfe6e7e18f6cc65fa13c8d8966013d4fda74b6ba00000...    mainnet   \n0xf16aee6a71af1a9bc8f56975a4c2705ca7a782bc00020...    mainnet   \n0x9f9d900462492d4c21e9523ca95a7cd86142f29800020...    mainnet   \n0x3ff3a210e57cfe679d9ad1e9ba6453a716c56a2e00020...    mainnet   \n0xb08885e6026bab4333a80024ec25a1a3e1ff2b8a00020...    mainnet   \n0x8353157092ed8be69a9df8f95af097bbf33cb2af00000...    mainnet   \n0x5f1f4e50ba51d723f12385a8a9606afc3a0555f500020...    mainnet   \n0x36be1e97ea98ab43b4debf92742517266f5731a300020...    mainnet   \n0xf7a826d47c8e02835d94fb0aa40f0cc9505cb13400020...    mainnet   \n0xf01b0684c98cd7ada480bfdf6e43876422fa1fc100020...    mainnet   \n0xbad20c15a773bf03ab973302f61fabcea5101f0a00000...     gnosis   \n0xfb4c2e6e6e27b5b4a07a36360c89ede29bb3c9b600000...       base   \n0xc771c1a5905420daec317b154eb13e4198ba97d000000...       base   \n0xfd2620c9cfcec7d152467633b3b0ca338d3d78cc00000...  avalanche   \n0x9fa6ab3d78984a69e712730a2227f20bcc8b5ad900000...  avalanche   \n0xc13546b97b9b1b15372368dc06529d7191081f5b00000...  avalanche   \n0xb26f0e66317846bd5fe0cbaa1d269f0efeb05c9600000...  avalanche   \n0x55bec22f8f6c69137ceaf284d9b441db1b9bfedc00020...  avalanche   \n0x32df62dc3aed2cd6224193052ce665dc1816584100020...   arbitrum   \n0x9791d590788598535278552eecd4b211bfc790cb00000...   arbitrum   \n0x4a2f6ae7f3e5d715689530873ec35593dc28951b00000...   arbitrum   \n0xade4a71bb62bec25154cfc7e6ff49a513b491e8100000...   arbitrum   \n0x423a1323c871abc9d89eb06855bf5347048fc4a500000...   arbitrum   \n0x0c8972437a38b389ec83d1e666b69b8a4fcf8bfd00000...   arbitrum   \n\n                                                                                     pool_addr  \n0xf0ad209e2e969eaaa8c882aac71f02d8a047d5c200020...  0xf0ad209e2e969eaaa8c882aac71f02d8a047d5c2  \n0xcd78a20c597e367a4e478a2411ceb790604d7c8f00000...  0xcd78a20c597e367a4e478a2411ceb790604d7c8f  \n0xee278d943584dd8640eaf4cc6c7a5c80c0073e8500020...  0xee278d943584dd8640eaf4cc6c7a5c80c0073e85  \n0x89b753153678bc434c610b7e9182297cada8ff2900000...  0x89b753153678bc434c610b7e9182297cada8ff29  \n0xdc31233e09f3bf5bfe5c10da2014677c23b6894c00000...  0xdc31233e09f3bf5bfe5c10da2014677c23b6894c  \n0x1e19cf2d73a72ef1332c882f20534b6519be027600020...  0x1e19cf2d73a72ef1332c882f20534b6519be0276  \n0x1ee442b5326009bb18f2f472d3e0061513d1a0ff00020...  0x1ee442b5326009bb18f2f472d3e0061513d1a0ff  \n0x93d199263632a4ef4bb438f1feb99e57b4b5f0bd00000...  0x93d199263632a4ef4bb438f1feb99e57b4b5f0bd  \n0xe7e2c68d3b13d905bbb636709cf4dfd21076b9d200000...  0xe7e2c68d3b13d905bbb636709cf4dfd21076b9d2  \n0xdfe6e7e18f6cc65fa13c8d8966013d4fda74b6ba00000...  0xdfe6e7e18f6cc65fa13c8d8966013d4fda74b6ba  \n0xf16aee6a71af1a9bc8f56975a4c2705ca7a782bc00020...  0xf16aee6a71af1a9bc8f56975a4c2705ca7a782bc  \n0x9f9d900462492d4c21e9523ca95a7cd86142f29800020...  0x9f9d900462492d4c21e9523ca95a7cd86142f298  \n0x3ff3a210e57cfe679d9ad1e9ba6453a716c56a2e00020...  0x3ff3a210e57cfe679d9ad1e9ba6453a716c56a2e  \n0xb08885e6026bab4333a80024ec25a1a3e1ff2b8a00020...  0xb08885e6026bab4333a80024ec25a1a3e1ff2b8a  \n0x8353157092ed8be69a9df8f95af097bbf33cb2af00000...  0x8353157092ed8be69a9df8f95af097bbf33cb2af  \n0x5f1f4e50ba51d723f12385a8a9606afc3a0555f500020...  0x5f1f4e50ba51d723f12385a8a9606afc3a0555f5  \n0x36be1e97ea98ab43b4debf92742517266f5731a300020...  0x36be1e97ea98ab43b4debf92742517266f5731a3  \n0xf7a826d47c8e02835d94fb0aa40f0cc9505cb13400020...  0xf7a826d47c8e02835d94fb0aa40f0cc9505cb134  \n0xf01b0684c98cd7ada480bfdf6e43876422fa1fc100020...  0xf01b0684c98cd7ada480bfdf6e43876422fa1fc1  \n0xbad20c15a773bf03ab973302f61fabcea5101f0a00000...  0xbad20c15a773bf03ab973302f61fabcea5101f0a  \n0xfb4c2e6e6e27b5b4a07a36360c89ede29bb3c9b600000...  0xfb4c2e6e6e27b5b4a07a36360c89ede29bb3c9b6  \n0xc771c1a5905420daec317b154eb13e4198ba97d000000...  0xc771c1a5905420daec317b154eb13e4198ba97d0  \n0xfd2620c9cfcec7d152467633b3b0ca338d3d78cc00000...  0xfd2620c9cfcec7d152467633b3b0ca338d3d78cc  \n0x9fa6ab3d78984a69e712730a2227f20bcc8b5ad900000...  0x9fa6ab3d78984a69e712730a2227f20bcc8b5ad9  \n0xc13546b97b9b1b15372368dc06529d7191081f5b00000...  0xc13546b97b9b1b15372368dc06529d7191081f5b  \n0xb26f0e66317846bd5fe0cbaa1d269f0efeb05c9600000...  0xb26f0e66317846bd5fe0cbaa1d269f0efeb05c96  \n0x55bec22f8f6c69137ceaf284d9b441db1b9bfedc00020...  0x55bec22f8f6c69137ceaf284d9b441db1b9bfedc  \n0x32df62dc3aed2cd6224193052ce665dc1816584100020...  0x32df62dc3aed2cd6224193052ce665dc18165841  \n0x9791d590788598535278552eecd4b211bfc790cb00000...  0x9791d590788598535278552eecd4b211bfc790cb  \n0x4a2f6ae7f3e5d715689530873ec35593dc28951b00000...  0x4a2f6ae7f3e5d715689530873ec35593dc28951b  \n0xade4a71bb62bec25154cfc7e6ff49a513b491e8100000...  0xade4a71bb62bec25154cfc7e6ff49a513b491e81  \n0x423a1323c871abc9d89eb06855bf5347048fc4a500000...  0x423a1323c871abc9d89eb06855bf5347048fc4a5  \n0x0c8972437a38b389ec83d1e666b69b8a4fcf8bfd00000...  0x0c8972437a38b389ec83d1e666b69b8a4fcf8bfd  ",
      "text/html": "<div>\n<style scoped>\n    .dataframe tbody tr th:only-of-type {\n        vertical-align: middle;\n    }\n\n    .dataframe tbody tr th {\n        vertical-align: top;\n    }\n\n    .dataframe thead th {\n        text-align: right;\n    }\n</style>\n<table border=\"1\" class=\"dataframe\">\n  <thead>\n    <tr style=\"text-align: right;\">\n      <th></th>\n      <th>symbol</th>\n      <th>pool_fee</th>\n      <th>swap_fee</th>\n      <th>bpt_token_fee</th>\n      <th>bpt_token_fee_in_usd</th>\n      <th>token_fees_in_usd</th>\n      <th>time_from</th>\n      <th>time_to</th>\n      <th>chain</th>\n      <th>pool_addr</th>\n    </tr>\n  </thead>\n  <tbody>\n    <tr>\n      <th>0xf0ad209e2e969eaaa8c882aac71f02d8a047d5c2000200000000000000000b49</th>\n      <td>ECLP-WMATIC-stMATIC</td>\n      <td>1584.96</td>\n      <td>249.39</td>\n      <td>2946.55</td>\n      <td>1591.32</td>\n      <td>0</td>\n      <td>2023-09-01 18:00:00</td>\n      <td>2023-09-15 18:00:00</td>\n      <td>polygon</td>\n      <td>0xf0ad209e2e969eaaa8c882aac71f02d8a047d5c2</td>\n    </tr>\n    <tr>\n      <th>0xcd78a20c597e367a4e478a2411ceb790604d7c8f000000000000000000000c22</th>\n      <td>maticX-WMATIC-BPT</td>\n      <td>1450.10</td>\n      <td>326.70</td>\n      <td>2724.34</td>\n      <td>1459.21</td>\n      <td>0</td>\n      <td>2023-09-01 18:00:00</td>\n      <td>2023-09-15 18:00:00</td>\n      <td>polygon</td>\n      <td>0xcd78a20c597e367a4e478a2411ceb790604d7c8f</td>\n    </tr>\n    <tr>\n      <th>0xee278d943584dd8640eaf4cc6c7a5c80c0073e85000200000000000000000bc7</th>\n      <td>ECLP-WMATIC-MATICX</td>\n      <td>403.27</td>\n      <td>71.47</td>\n      <td>755.16</td>\n      <td>406.22</td>\n      <td>0</td>\n      <td>2023-09-01 18:00:00</td>\n      <td>2023-09-15 18:00:00</td>\n      <td>polygon</td>\n      <td>0xee278d943584dd8640eaf4cc6c7a5c80c0073e85</td>\n    </tr>\n    <tr>\n      <th>0x89b753153678bc434c610b7e9182297cada8ff29000000000000000000000c21</th>\n      <td>stMATIC-WMATIC-BPT</td>\n      <td>2.58</td>\n      <td>1.34</td>\n      <td>4.62</td>\n      <td>2.47</td>\n      <td>0</td>\n      <td>2023-09-01 18:00:00</td>\n      <td>2023-09-15 18:00:00</td>\n      <td>polygon</td>\n      <td>0x89b753153678bc434c610b7e9182297cada8ff29</td>\n    </tr>\n    <tr>\n      <th>0xdc31233e09f3bf5bfe5c10da2014677c23b6894c000000000000000000000c23</th>\n      <td>wstETH-WETH-BPT</td>\n      <td>0.00</td>\n      <td>0.00</td>\n      <td>0.00</td>\n      <td>0.00</td>\n      <td>0</td>\n      <td>2023-09-01 18:00:00</td>\n      <td>2023-09-15 18:00:00</td>\n      <td>polygon</td>\n      <td>0xdc31233e09f3bf5bfe5c10da2014677c23b6894c</td>\n    </tr>\n    <tr>\n      <th>0x1e19cf2d73a72ef1332c882f20534b6519be0276000200000000000000000112</th>\n      <td>B-rETH-STABLE</td>\n      <td>15892.61</td>\n      <td>2300.19</td>\n      <td>0.00</td>\n      <td>0.00</td>\n      <td>0</td>\n      <td>2023-09-01 18:00:00</td>\n      <td>2023-09-15 18:00:00</td>\n      <td>mainnet</td>\n      <td>0x1e19cf2d73a72ef1332c882f20534b6519be0276</td>\n    </tr>\n    <tr>\n      <th>0x1ee442b5326009bb18f2f472d3e0061513d1a0ff000200000000000000000464</th>\n      <td>50rETH-50BADGER</td>\n      <td>9939.15</td>\n      <td>2997.35</td>\n      <td>166.20</td>\n      <td>9826.84</td>\n      <td>0</td>\n      <td>2023-09-01 18:00:00</td>\n      <td>2023-09-15 18:00:00</td>\n      <td>mainnet</td>\n      <td>0x1ee442b5326009bb18f2f472d3e0061513d1a0ff</td>\n    </tr>\n    <tr>\n      <th>0x93d199263632a4ef4bb438f1feb99e57b4b5f0bd0000000000000000000005c2</th>\n      <td>wstETH-WETH-BPT</td>\n      <td>7115.31</td>\n      <td>5166.12</td>\n      <td>4.38</td>\n      <td>7112.06</td>\n      <td>0</td>\n      <td>2023-09-01 18:00:00</td>\n      <td>2023-09-15 18:00:00</td>\n      <td>mainnet</td>\n      <td>0x93d199263632a4ef4bb438f1feb99e57b4b5f0bd</td>\n    </tr>\n    <tr>\n      <th>0xe7e2c68d3b13d905bbb636709cf4dfd21076b9d20000000000000000000005ca</th>\n      <td>swETH-WETH-BPT</td>\n      <td>5502.29</td>\n      <td>634.17</td>\n      <td>3.43</td>\n      <td>5510.58</td>\n      <td>0</td>\n      <td>2023-09-01 18:00:00</td>\n      <td>2023-09-15 18:00:00</td>\n      <td>mainnet</td>\n      <td>0xe7e2c68d3b13d905bbb636709cf4dfd21076b9d2</td>\n    </tr>\n    <tr>\n      <th>0xdfe6e7e18f6cc65fa13c8d8966013d4fda74b6ba000000000000000000000558</th>\n      <td>ankrETH/wstETH</td>\n      <td>3867.44</td>\n      <td>126.65</td>\n      <td>2.32</td>\n      <td>3789.32</td>\n      <td>0</td>\n      <td>2023-09-01 18:00:00</td>\n      <td>2023-09-15 18:00:00</td>\n      <td>mainnet</td>\n      <td>0xdfe6e7e18f6cc65fa13c8d8966013d4fda74b6ba</td>\n    </tr>\n    <tr>\n      <th>0xf16aee6a71af1a9bc8f56975a4c2705ca7a782bc0002000000000000000004bb</th>\n      <td>20WETH-80ALCX</td>\n      <td>2393.07</td>\n      <td>4118.43</td>\n      <td>83.27</td>\n      <td>2069.88</td>\n      <td>0</td>\n      <td>2023-09-01 18:00:00</td>\n      <td>2023-09-15 18:00:00</td>\n      <td>mainnet</td>\n      <td>0xf16aee6a71af1a9bc8f56975a4c2705ca7a782bc</td>\n    </tr>\n    <tr>\n      <th>0x9f9d900462492d4c21e9523ca95a7cd86142f298000200000000000000000462</th>\n      <td>50rETH-50RPL</td>\n      <td>1272.25</td>\n      <td>1209.24</td>\n      <td>6.32</td>\n      <td>1260.83</td>\n      <td>0</td>\n      <td>2023-09-01 18:00:00</td>\n      <td>2023-09-15 18:00:00</td>\n      <td>mainnet</td>\n      <td>0x9f9d900462492d4c21e9523ca95a7cd86142f298</td>\n    </tr>\n    <tr>\n      <th>0x3ff3a210e57cfe679d9ad1e9ba6453a716c56a2e0002000000000000000005d5</th>\n      <td>STG/USDC</td>\n      <td>1262.74</td>\n      <td>8264.76</td>\n      <td>1733.53</td>\n      <td>1239.41</td>\n      <td>0</td>\n      <td>2023-09-01 18:00:00</td>\n      <td>2023-09-15 18:00:00</td>\n      <td>mainnet</td>\n      <td>0x3ff3a210e57cfe679d9ad1e9ba6453a716c56a2e</td>\n    </tr>\n    <tr>\n      <th>0xb08885e6026bab4333a80024ec25a1a3e1ff2b8a000200000000000000000445</th>\n      <td>B-staFiETH-WETH-Stable</td>\n      <td>1216.06</td>\n      <td>339.32</td>\n      <td>0.00</td>\n      <td>0.00</td>\n      <td>0</td>\n      <td>2023-09-01 18:00:00</td>\n      <td>2023-09-15 18:00:00</td>\n      <td>mainnet</td>\n      <td>0xb08885e6026bab4333a80024ec25a1a3e1ff2b8a</td>\n    </tr>\n    <tr>\n      <th>0x8353157092ed8be69a9df8f95af097bbf33cb2af0000000000000000000005d9</th>\n      <td>GHO/USDT/USDC</td>\n      <td>1142.27</td>\n      <td>1871.72</td>\n      <td>0.00</td>\n      <td>0.00</td>\n      <td>0</td>\n      <td>2023-09-01 18:00:00</td>\n      <td>2023-09-15 18:00:00</td>\n      <td>mainnet</td>\n      <td>0x8353157092ed8be69a9df8f95af097bbf33cb2af</td>\n    </tr>\n    <tr>\n      <th>0x5f1f4e50ba51d723f12385a8a9606afc3a0555f5000200000000000000000465</th>\n      <td>50wstETH-50LDO</td>\n      <td>631.08</td>\n      <td>255.37</td>\n      <td>11.58</td>\n      <td>613.41</td>\n      <td>0</td>\n      <td>2023-09-01 18:00:00</td>\n      <td>2023-09-15 18:00:00</td>\n      <td>mainnet</td>\n      <td>0x5f1f4e50ba51d723f12385a8a9606afc3a0555f5</td>\n    </tr>\n    <tr>\n      <th>0x36be1e97ea98ab43b4debf92742517266f5731a3000200000000000000000466</th>\n      <td>50wstETH-50ACX</td>\n      <td>382.23</td>\n      <td>1420.64</td>\n      <td>38.01</td>\n      <td>381.44</td>\n      <td>0</td>\n      <td>2023-09-01 18:00:00</td>\n      <td>2023-09-15 18:00:00</td>\n      <td>mainnet</td>\n      <td>0x36be1e97ea98ab43b4debf92742517266f5731a3</td>\n    </tr>\n    <tr>\n      <th>0xf7a826d47c8e02835d94fb0aa40f0cc9505cb1340002000000000000000005e0</th>\n      <td>ECLP-wstETH-cbETH</td>\n      <td>0.00</td>\n      <td>0.00</td>\n      <td>0.00</td>\n      <td>0.00</td>\n      <td>0</td>\n      <td>2023-09-01 18:00:00</td>\n      <td>2023-09-15 18:00:00</td>\n      <td>mainnet</td>\n      <td>0xf7a826d47c8e02835d94fb0aa40f0cc9505cb134</td>\n    </tr>\n    <tr>\n      <th>0xf01b0684c98cd7ada480bfdf6e43876422fa1fc10002000000000000000005de</th>\n      <td>ECLP-wstETH-wETH</td>\n      <td>0.00</td>\n      <td>0.00</td>\n      <td>0.00</td>\n      <td>0.00</td>\n      <td>0</td>\n      <td>2023-09-01 18:00:00</td>\n      <td>2023-09-15 18:00:00</td>\n      <td>mainnet</td>\n      <td>0xf01b0684c98cd7ada480bfdf6e43876422fa1fc1</td>\n    </tr>\n    <tr>\n      <th>0xbad20c15a773bf03ab973302f61fabcea5101f0a000000000000000000000034</th>\n      <td>bb-WETH-wstETH</td>\n      <td>3361.72</td>\n      <td>15.05</td>\n      <td>2.06</td>\n      <td>3343.47</td>\n      <td>0</td>\n      <td>2023-09-01 18:00:00</td>\n      <td>2023-09-15 18:00:00</td>\n      <td>gnosis</td>\n      <td>0xbad20c15a773bf03ab973302f61fabcea5101f0a</td>\n    </tr>\n    <tr>\n      <th>0xfb4c2e6e6e27b5b4a07a36360c89ede29bb3c9b6000000000000000000000026</th>\n      <td>cbETH/WETH</td>\n      <td>1861.50</td>\n      <td>1117.90</td>\n      <td>1.14</td>\n      <td>1847.83</td>\n      <td>0</td>\n      <td>2023-09-01 18:00:00</td>\n      <td>2023-09-15 18:00:00</td>\n      <td>base</td>\n      <td>0xfb4c2e6e6e27b5b4a07a36360c89ede29bb3c9b6</td>\n    </tr>\n    <tr>\n      <th>0xc771c1a5905420daec317b154eb13e4198ba97d0000000000000000000000023</th>\n      <td>rETH-WETH-BPT</td>\n      <td>401.34</td>\n      <td>223.34</td>\n      <td>0.00</td>\n      <td>0.00</td>\n      <td>0</td>\n      <td>2023-09-01 18:00:00</td>\n      <td>2023-09-15 18:00:00</td>\n      <td>base</td>\n      <td>0xc771c1a5905420daec317b154eb13e4198ba97d0</td>\n    </tr>\n    <tr>\n      <th>0xfd2620c9cfcec7d152467633b3b0ca338d3d78cc00000000000000000000001c</th>\n      <td>sAVAX-WAVAX-BPT</td>\n      <td>3230.30</td>\n      <td>757.35</td>\n      <td>254.06</td>\n      <td>2462.77</td>\n      <td>0</td>\n      <td>2023-09-01 18:00:00</td>\n      <td>2023-09-15 18:00:00</td>\n      <td>avalanche</td>\n      <td>0xfd2620c9cfcec7d152467633b3b0ca338d3d78cc</td>\n    </tr>\n    <tr>\n      <th>0x9fa6ab3d78984a69e712730a2227f20bcc8b5ad900000000000000000000001f</th>\n      <td>yyAVAX-WAVAX-BPT</td>\n      <td>1039.56</td>\n      <td>3.46</td>\n      <td>81.63</td>\n      <td>791.60</td>\n      <td>0</td>\n      <td>2023-09-01 18:00:00</td>\n      <td>2023-09-15 18:00:00</td>\n      <td>avalanche</td>\n      <td>0x9fa6ab3d78984a69e712730a2227f20bcc8b5ad9</td>\n    </tr>\n    <tr>\n      <th>0xc13546b97b9b1b15372368dc06529d7191081f5b00000000000000000000001d</th>\n      <td>ggAVAX-WAVAX-BPT</td>\n      <td>547.02</td>\n      <td>3.58</td>\n      <td>43.02</td>\n      <td>418.90</td>\n      <td>0</td>\n      <td>2023-09-01 18:00:00</td>\n      <td>2023-09-15 18:00:00</td>\n      <td>avalanche</td>\n      <td>0xc13546b97b9b1b15372368dc06529d7191081f5b</td>\n    </tr>\n    <tr>\n      <th>0xb26f0e66317846bd5fe0cbaa1d269f0efeb05c9600000000000000000000001e</th>\n      <td>USDC-USDT-BPT</td>\n      <td>122.44</td>\n      <td>207.94</td>\n      <td>122.40</td>\n      <td>122.41</td>\n      <td>0</td>\n      <td>2023-09-01 18:00:00</td>\n      <td>2023-09-15 18:00:00</td>\n      <td>avalanche</td>\n      <td>0xb26f0e66317846bd5fe0cbaa1d269f0efeb05c96</td>\n    </tr>\n    <tr>\n      <th>0x55bec22f8f6c69137ceaf284d9b441db1b9bfedc000200000000000000000011</th>\n      <td>BPT</td>\n      <td>0.00</td>\n      <td>97.45</td>\n      <td>0.00</td>\n      <td>0.00</td>\n      <td>0</td>\n      <td>2023-09-01 18:00:00</td>\n      <td>2023-09-15 18:00:00</td>\n      <td>avalanche</td>\n      <td>0x55bec22f8f6c69137ceaf284d9b441db1b9bfedc</td>\n    </tr>\n    <tr>\n      <th>0x32df62dc3aed2cd6224193052ce665dc181658410002000000000000000003bd</th>\n      <td>RDNT-WETH</td>\n      <td>11108.53</td>\n      <td>20103.97</td>\n      <td>10471.27</td>\n      <td>11361.56</td>\n      <td>0</td>\n      <td>2023-09-01 18:00:00</td>\n      <td>2023-09-15 18:00:00</td>\n      <td>arbitrum</td>\n      <td>0x32df62dc3aed2cd6224193052ce665dc18165841</td>\n    </tr>\n    <tr>\n      <th>0x9791d590788598535278552eecd4b211bfc790cb000000000000000000000498</th>\n      <td>wstETH-WETH-BPT</td>\n      <td>2561.10</td>\n      <td>784.55</td>\n      <td>1.57</td>\n      <td>2552.72</td>\n      <td>0</td>\n      <td>2023-09-01 18:00:00</td>\n      <td>2023-09-15 18:00:00</td>\n      <td>arbitrum</td>\n      <td>0x9791d590788598535278552eecd4b211bfc790cb</td>\n    </tr>\n    <tr>\n      <th>0x4a2f6ae7f3e5d715689530873ec35593dc28951b000000000000000000000481</th>\n      <td>wstETH/rETH/cbETH</td>\n      <td>1008.43</td>\n      <td>358.60</td>\n      <td>1.22</td>\n      <td>1981.51</td>\n      <td>0</td>\n      <td>2023-09-01 18:00:00</td>\n      <td>2023-09-15 18:00:00</td>\n      <td>arbitrum</td>\n      <td>0x4a2f6ae7f3e5d715689530873ec35593dc28951b</td>\n    </tr>\n    <tr>\n      <th>0xade4a71bb62bec25154cfc7e6ff49a513b491e81000000000000000000000497</th>\n      <td>rETH-WETH-BPT</td>\n      <td>678.79</td>\n      <td>349.00</td>\n      <td>0.42</td>\n      <td>676.19</td>\n      <td>0</td>\n      <td>2023-09-01 18:00:00</td>\n      <td>2023-09-15 18:00:00</td>\n      <td>arbitrum</td>\n      <td>0xade4a71bb62bec25154cfc7e6ff49a513b491e81</td>\n    </tr>\n    <tr>\n      <th>0x423a1323c871abc9d89eb06855bf5347048fc4a5000000000000000000000496</th>\n      <td>4POOL-BPT</td>\n      <td>475.95</td>\n      <td>832.86</td>\n      <td>475.65</td>\n      <td>475.79</td>\n      <td>0</td>\n      <td>2023-09-01 18:00:00</td>\n      <td>2023-09-15 18:00:00</td>\n      <td>arbitrum</td>\n      <td>0x423a1323c871abc9d89eb06855bf5347048fc4a5</td>\n    </tr>\n    <tr>\n      <th>0x0c8972437a38b389ec83d1e666b69b8a4fcf8bfd00000000000000000000049e</th>\n      <td>wstETH/rETH/sfrxETH</td>\n      <td>0.01</td>\n      <td>0.00</td>\n      <td>0.00</td>\n      <td>0.02</td>\n      <td>0</td>\n      <td>2023-09-01 18:00:00</td>\n      <td>2023-09-15 18:00:00</td>\n      <td>arbitrum</td>\n      <td>0x0c8972437a38b389ec83d1e666b69b8a4fcf8bfd</td>\n    </tr>\n  </tbody>\n</table>\n</div>"
     },
     "execution_count": 12,
     "metadata": {},
     "output_type": "execute_result"
    }
   ],
   "source": [
    "# Remove `token_fees` field from dataframe, as it's too big\n",
    "joint_fees_df_copy = joint_fees_df.drop(columns=['token_fees'])\n",
    "# Display all rows in dataframe\n",
    "pd.set_option('display.max_rows', 1000)\n",
    "joint_fees_df_copy.sort_values(by=['chain', 'pool_fee'], ascending=False)"
   ],
   "metadata": {
    "collapsed": false,
    "ExecuteTime": {
     "end_time": "2023-09-28T14:23:13.903034Z",
     "start_time": "2023-09-28T14:23:13.894102Z"
    }
   },
   "id": "52fccc19e5e6b4f2"
  },
  {
   "cell_type": "markdown",
   "source": [
    "## Now let's calculate bribes paid to the pools"
   ],
   "metadata": {
    "collapsed": false
   },
   "id": "97a5370819f28ffc"
  },
  {
   "cell_type": "code",
   "execution_count": 13,
   "outputs": [
    {
     "data": {
      "text/plain": "                                                                    symbol  \\\n0xade4a71bb62bec25154cfc7e6ff49a513b491e8100000...           rETH-WETH-BPT   \n0x9791d590788598535278552eecd4b211bfc790cb00000...         wstETH-WETH-BPT   \n0x4a2f6ae7f3e5d715689530873ec35593dc28951b00000...       wstETH/rETH/cbETH   \n0x423a1323c871abc9d89eb06855bf5347048fc4a500000...               4POOL-BPT   \n0x32df62dc3aed2cd6224193052ce665dc1816584100020...               RDNT-WETH   \n0x0c8972437a38b389ec83d1e666b69b8a4fcf8bfd00000...     wstETH/rETH/sfrxETH   \n0xfd2620c9cfcec7d152467633b3b0ca338d3d78cc00000...         sAVAX-WAVAX-BPT   \n0xc13546b97b9b1b15372368dc06529d7191081f5b00000...        ggAVAX-WAVAX-BPT   \n0x9fa6ab3d78984a69e712730a2227f20bcc8b5ad900000...        yyAVAX-WAVAX-BPT   \n0xb26f0e66317846bd5fe0cbaa1d269f0efeb05c9600000...           USDC-USDT-BPT   \n0x55bec22f8f6c69137ceaf284d9b441db1b9bfedc00020...                     BPT   \n0xfb4c2e6e6e27b5b4a07a36360c89ede29bb3c9b600000...              cbETH/WETH   \n0xc771c1a5905420daec317b154eb13e4198ba97d000000...           rETH-WETH-BPT   \n0xbad20c15a773bf03ab973302f61fabcea5101f0a00000...          bb-WETH-wstETH   \n0x93d199263632a4ef4bb438f1feb99e57b4b5f0bd00000...         wstETH-WETH-BPT   \n0x1e19cf2d73a72ef1332c882f20534b6519be027600020...           B-rETH-STABLE   \n0xe7e2c68d3b13d905bbb636709cf4dfd21076b9d200000...          swETH-WETH-BPT   \n0xf7a826d47c8e02835d94fb0aa40f0cc9505cb13400020...       ECLP-wstETH-cbETH   \n0xf16aee6a71af1a9bc8f56975a4c2705ca7a782bc00020...           20WETH-80ALCX   \n0xb08885e6026bab4333a80024ec25a1a3e1ff2b8a00020...  B-staFiETH-WETH-Stable   \n0x8353157092ed8be69a9df8f95af097bbf33cb2af00000...           GHO/USDT/USDC   \n0xdfe6e7e18f6cc65fa13c8d8966013d4fda74b6ba00000...          ankrETH/wstETH   \n0x5f1f4e50ba51d723f12385a8a9606afc3a0555f500020...          50wstETH-50LDO   \n0x1ee442b5326009bb18f2f472d3e0061513d1a0ff00020...         50rETH-50BADGER   \n0x9f9d900462492d4c21e9523ca95a7cd86142f29800020...            50rETH-50RPL   \n0x3ff3a210e57cfe679d9ad1e9ba6453a716c56a2e00020...                STG/USDC   \n0xf01b0684c98cd7ada480bfdf6e43876422fa1fc100020...        ECLP-wstETH-wETH   \n0x36be1e97ea98ab43b4debf92742517266f5731a300020...          50wstETH-50ACX   \n0xf0ad209e2e969eaaa8c882aac71f02d8a047d5c200020...     ECLP-WMATIC-stMATIC   \n0xee278d943584dd8640eaf4cc6c7a5c80c0073e8500020...      ECLP-WMATIC-MATICX   \n0x89b753153678bc434c610b7e9182297cada8ff2900000...      stMATIC-WMATIC-BPT   \n0xcd78a20c597e367a4e478a2411ceb790604d7c8f00000...       maticX-WMATIC-BPT   \n0xdc31233e09f3bf5bfe5c10da2014677c23b6894c00000...         wstETH-WETH-BPT   \n\n                                                        chain aura_bribes  \\\n0xade4a71bb62bec25154cfc7e6ff49a513b491e8100000...   arbitrum      157.32   \n0x9791d590788598535278552eecd4b211bfc790cb00000...   arbitrum      593.90   \n0x4a2f6ae7f3e5d715689530873ec35593dc28951b00000...   arbitrum      461.01   \n0x423a1323c871abc9d89eb06855bf5347048fc4a500000...   arbitrum      110.69   \n0x32df62dc3aed2cd6224193052ce665dc1816584100020...   arbitrum     2643.32   \n0x0c8972437a38b389ec83d1e666b69b8a4fcf8bfd00000...   arbitrum        0.00   \n0xfd2620c9cfcec7d152467633b3b0ca338d3d78cc00000...  avalanche     1021.00   \n0xc13546b97b9b1b15372368dc06529d7191081f5b00000...  avalanche      173.67   \n0x9fa6ab3d78984a69e712730a2227f20bcc8b5ad900000...  avalanche      328.18   \n0xb26f0e66317846bd5fe0cbaa1d269f0efeb05c9600000...  avalanche       50.75   \n0x55bec22f8f6c69137ceaf284d9b441db1b9bfedc00020...  avalanche        0.00   \n0xfb4c2e6e6e27b5b4a07a36360c89ede29bb3c9b600000...       base    10899.48   \n0xc771c1a5905420daec317b154eb13e4198ba97d000000...       base        0.00   \n0xbad20c15a773bf03ab973302f61fabcea5101f0a00000...     gnosis      118.08   \n0x93d199263632a4ef4bb438f1feb99e57b4b5f0bd00000...    mainnet     2366.20   \n0x1e19cf2d73a72ef1332c882f20534b6519be027600020...    mainnet        0.00   \n0xe7e2c68d3b13d905bbb636709cf4dfd21076b9d200000...    mainnet     1833.38   \n0xf7a826d47c8e02835d94fb0aa40f0cc9505cb13400020...    mainnet        0.00   \n0xf16aee6a71af1a9bc8f56975a4c2705ca7a782bc00020...    mainnet      688.65   \n0xb08885e6026bab4333a80024ec25a1a3e1ff2b8a00020...    mainnet        0.00   \n0x8353157092ed8be69a9df8f95af097bbf33cb2af00000...    mainnet        0.00   \n0xdfe6e7e18f6cc65fa13c8d8966013d4fda74b6ba00000...    mainnet     1260.72   \n0x5f1f4e50ba51d723f12385a8a9606afc3a0555f500020...    mainnet      204.08   \n0x1ee442b5326009bb18f2f472d3e0061513d1a0ff00020...    mainnet     3269.41   \n0x9f9d900462492d4c21e9523ca95a7cd86142f29800020...    mainnet      419.48   \n0x3ff3a210e57cfe679d9ad1e9ba6453a716c56a2e00020...    mainnet      412.35   \n0xf01b0684c98cd7ada480bfdf6e43876422fa1fc100020...    mainnet        0.00   \n0x36be1e97ea98ab43b4debf92742517266f5731a300020...    mainnet      126.91   \n0xf0ad209e2e969eaaa8c882aac71f02d8a047d5c200020...    polygon      474.80   \n0xee278d943584dd8640eaf4cc6c7a5c80c0073e8500020...    polygon      121.20   \n0x89b753153678bc434c610b7e9182297cada8ff2900000...    polygon        0.74   \n0xcd78a20c597e367a4e478a2411ceb790604d7c8f00000...    polygon      435.38   \n0xdc31233e09f3bf5bfe5c10da2014677c23b6894c00000...    polygon        0.00   \n\n                                                   bal_bribes  \\\n0xade4a71bb62bec25154cfc7e6ff49a513b491e8100000...     238.22   \n0x9791d590788598535278552eecd4b211bfc790cb00000...     899.33   \n0x4a2f6ae7f3e5d715689530873ec35593dc28951b00000...     698.09   \n0x423a1323c871abc9d89eb06855bf5347048fc4a500000...     167.62   \n0x32df62dc3aed2cd6224193052ce665dc1816584100020...    4002.69   \n0x0c8972437a38b389ec83d1e666b69b8a4fcf8bfd00000...       0.01   \n0xfd2620c9cfcec7d152467633b3b0ca338d3d78cc00000...    1546.07   \n0xc13546b97b9b1b15372368dc06529d7191081f5b00000...     262.98   \n0x9fa6ab3d78984a69e712730a2227f20bcc8b5ad900000...     496.95   \n0xb26f0e66317846bd5fe0cbaa1d269f0efeb05c9600000...      76.85   \n0x55bec22f8f6c69137ceaf284d9b441db1b9bfedc00020...       0.00   \n0xfb4c2e6e6e27b5b4a07a36360c89ede29bb3c9b600000...   16504.73   \n0xc771c1a5905420daec317b154eb13e4198ba97d000000...       0.00   \n0xbad20c15a773bf03ab973302f61fabcea5101f0a00000...     178.80   \n0x93d199263632a4ef4bb438f1feb99e57b4b5f0bd00000...    3583.06   \n0x1e19cf2d73a72ef1332c882f20534b6519be027600020...       0.00   \n0xe7e2c68d3b13d905bbb636709cf4dfd21076b9d200000...    2776.23   \n0xf7a826d47c8e02835d94fb0aa40f0cc9505cb13400020...       0.00   \n0xf16aee6a71af1a9bc8f56975a4c2705ca7a782bc00020...    1042.81   \n0xb08885e6026bab4333a80024ec25a1a3e1ff2b8a00020...       0.00   \n0x8353157092ed8be69a9df8f95af097bbf33cb2af00000...       0.00   \n0xdfe6e7e18f6cc65fa13c8d8966013d4fda74b6ba00000...    1909.06   \n0x5f1f4e50ba51d723f12385a8a9606afc3a0555f500020...     309.04   \n0x1ee442b5326009bb18f2f472d3e0061513d1a0ff00020...    4950.76   \n0x9f9d900462492d4c21e9523ca95a7cd86142f29800020...     635.21   \n0x3ff3a210e57cfe679d9ad1e9ba6453a716c56a2e00020...     624.42   \n0xf01b0684c98cd7ada480bfdf6e43876422fa1fc100020...       0.00   \n0x36be1e97ea98ab43b4debf92742517266f5731a300020...     192.17   \n0xf0ad209e2e969eaaa8c882aac71f02d8a047d5c200020...     718.97   \n0xee278d943584dd8640eaf4cc6c7a5c80c0073e8500020...     183.53   \n0x89b753153678bc434c610b7e9182297cada8ff2900000...       1.12   \n0xcd78a20c597e367a4e478a2411ceb790604d7c8f00000...     659.29   \n0xdc31233e09f3bf5bfe5c10da2014677c23b6894c00000...       0.00   \n\n                                                   protocol_fees_collected  \\\n0xade4a71bb62bec25154cfc7e6ff49a513b491e8100000...                  676.19   \n0x9791d590788598535278552eecd4b211bfc790cb00000...                 2552.72   \n0x4a2f6ae7f3e5d715689530873ec35593dc28951b00000...                 1981.51   \n0x423a1323c871abc9d89eb06855bf5347048fc4a500000...                  475.79   \n0x32df62dc3aed2cd6224193052ce665dc1816584100020...                11361.56   \n0x0c8972437a38b389ec83d1e666b69b8a4fcf8bfd00000...                    0.02   \n0xfd2620c9cfcec7d152467633b3b0ca338d3d78cc00000...                 2462.77   \n0xc13546b97b9b1b15372368dc06529d7191081f5b00000...                  418.90   \n0x9fa6ab3d78984a69e712730a2227f20bcc8b5ad900000...                  791.60   \n0xb26f0e66317846bd5fe0cbaa1d269f0efeb05c9600000...                  122.41   \n0x55bec22f8f6c69137ceaf284d9b441db1b9bfedc00020...                    0.00   \n0xfb4c2e6e6e27b5b4a07a36360c89ede29bb3c9b600000...                 1847.83   \n0xc771c1a5905420daec317b154eb13e4198ba97d000000...                    0.00   \n0xbad20c15a773bf03ab973302f61fabcea5101f0a00000...                 3343.47   \n0x93d199263632a4ef4bb438f1feb99e57b4b5f0bd00000...                 7112.06   \n0x1e19cf2d73a72ef1332c882f20534b6519be027600020...                    0.00   \n0xe7e2c68d3b13d905bbb636709cf4dfd21076b9d200000...                 5510.58   \n0xf7a826d47c8e02835d94fb0aa40f0cc9505cb13400020...                    0.00   \n0xf16aee6a71af1a9bc8f56975a4c2705ca7a782bc00020...                 2069.88   \n0xb08885e6026bab4333a80024ec25a1a3e1ff2b8a00020...                    0.00   \n0x8353157092ed8be69a9df8f95af097bbf33cb2af00000...                    0.00   \n0xdfe6e7e18f6cc65fa13c8d8966013d4fda74b6ba00000...                 3789.32   \n0x5f1f4e50ba51d723f12385a8a9606afc3a0555f500020...                  613.41   \n0x1ee442b5326009bb18f2f472d3e0061513d1a0ff00020...                 9826.84   \n0x9f9d900462492d4c21e9523ca95a7cd86142f29800020...                 1260.83   \n0x3ff3a210e57cfe679d9ad1e9ba6453a716c56a2e00020...                 1239.41   \n0xf01b0684c98cd7ada480bfdf6e43876422fa1fc100020...                    0.00   \n0x36be1e97ea98ab43b4debf92742517266f5731a300020...                  381.44   \n0xf0ad209e2e969eaaa8c882aac71f02d8a047d5c200020...                 1591.32   \n0xee278d943584dd8640eaf4cc6c7a5c80c0073e8500020...                  406.22   \n0x89b753153678bc434c610b7e9182297cada8ff2900000...                    2.47   \n0xcd78a20c597e367a4e478a2411ceb790604d7c8f00000...                 1459.21   \n0xdc31233e09f3bf5bfe5c10da2014677c23b6894c00000...                    0.00   \n\n                                                                                     pool_addr  \n0xade4a71bb62bec25154cfc7e6ff49a513b491e8100000...  0xade4a71bb62bec25154cfc7e6ff49a513b491e81  \n0x9791d590788598535278552eecd4b211bfc790cb00000...  0x9791d590788598535278552eecd4b211bfc790cb  \n0x4a2f6ae7f3e5d715689530873ec35593dc28951b00000...  0x4a2f6ae7f3e5d715689530873ec35593dc28951b  \n0x423a1323c871abc9d89eb06855bf5347048fc4a500000...  0x423a1323c871abc9d89eb06855bf5347048fc4a5  \n0x32df62dc3aed2cd6224193052ce665dc1816584100020...  0x32df62dc3aed2cd6224193052ce665dc18165841  \n0x0c8972437a38b389ec83d1e666b69b8a4fcf8bfd00000...  0x0c8972437a38b389ec83d1e666b69b8a4fcf8bfd  \n0xfd2620c9cfcec7d152467633b3b0ca338d3d78cc00000...  0xfd2620c9cfcec7d152467633b3b0ca338d3d78cc  \n0xc13546b97b9b1b15372368dc06529d7191081f5b00000...  0xc13546b97b9b1b15372368dc06529d7191081f5b  \n0x9fa6ab3d78984a69e712730a2227f20bcc8b5ad900000...  0x9fa6ab3d78984a69e712730a2227f20bcc8b5ad9  \n0xb26f0e66317846bd5fe0cbaa1d269f0efeb05c9600000...  0xb26f0e66317846bd5fe0cbaa1d269f0efeb05c96  \n0x55bec22f8f6c69137ceaf284d9b441db1b9bfedc00020...  0x55bec22f8f6c69137ceaf284d9b441db1b9bfedc  \n0xfb4c2e6e6e27b5b4a07a36360c89ede29bb3c9b600000...  0xfb4c2e6e6e27b5b4a07a36360c89ede29bb3c9b6  \n0xc771c1a5905420daec317b154eb13e4198ba97d000000...  0xc771c1a5905420daec317b154eb13e4198ba97d0  \n0xbad20c15a773bf03ab973302f61fabcea5101f0a00000...  0xbad20c15a773bf03ab973302f61fabcea5101f0a  \n0x93d199263632a4ef4bb438f1feb99e57b4b5f0bd00000...  0x93d199263632a4ef4bb438f1feb99e57b4b5f0bd  \n0x1e19cf2d73a72ef1332c882f20534b6519be027600020...  0x1e19cf2d73a72ef1332c882f20534b6519be0276  \n0xe7e2c68d3b13d905bbb636709cf4dfd21076b9d200000...  0xe7e2c68d3b13d905bbb636709cf4dfd21076b9d2  \n0xf7a826d47c8e02835d94fb0aa40f0cc9505cb13400020...  0xf7a826d47c8e02835d94fb0aa40f0cc9505cb134  \n0xf16aee6a71af1a9bc8f56975a4c2705ca7a782bc00020...  0xf16aee6a71af1a9bc8f56975a4c2705ca7a782bc  \n0xb08885e6026bab4333a80024ec25a1a3e1ff2b8a00020...  0xb08885e6026bab4333a80024ec25a1a3e1ff2b8a  \n0x8353157092ed8be69a9df8f95af097bbf33cb2af00000...  0x8353157092ed8be69a9df8f95af097bbf33cb2af  \n0xdfe6e7e18f6cc65fa13c8d8966013d4fda74b6ba00000...  0xdfe6e7e18f6cc65fa13c8d8966013d4fda74b6ba  \n0x5f1f4e50ba51d723f12385a8a9606afc3a0555f500020...  0x5f1f4e50ba51d723f12385a8a9606afc3a0555f5  \n0x1ee442b5326009bb18f2f472d3e0061513d1a0ff00020...  0x1ee442b5326009bb18f2f472d3e0061513d1a0ff  \n0x9f9d900462492d4c21e9523ca95a7cd86142f29800020...  0x9f9d900462492d4c21e9523ca95a7cd86142f298  \n0x3ff3a210e57cfe679d9ad1e9ba6453a716c56a2e00020...  0x3ff3a210e57cfe679d9ad1e9ba6453a716c56a2e  \n0xf01b0684c98cd7ada480bfdf6e43876422fa1fc100020...  0xf01b0684c98cd7ada480bfdf6e43876422fa1fc1  \n0x36be1e97ea98ab43b4debf92742517266f5731a300020...  0x36be1e97ea98ab43b4debf92742517266f5731a3  \n0xf0ad209e2e969eaaa8c882aac71f02d8a047d5c200020...  0xf0ad209e2e969eaaa8c882aac71f02d8a047d5c2  \n0xee278d943584dd8640eaf4cc6c7a5c80c0073e8500020...  0xee278d943584dd8640eaf4cc6c7a5c80c0073e85  \n0x89b753153678bc434c610b7e9182297cada8ff2900000...  0x89b753153678bc434c610b7e9182297cada8ff29  \n0xcd78a20c597e367a4e478a2411ceb790604d7c8f00000...  0xcd78a20c597e367a4e478a2411ceb790604d7c8f  \n0xdc31233e09f3bf5bfe5c10da2014677c23b6894c00000...  0xdc31233e09f3bf5bfe5c10da2014677c23b6894c  ",
      "text/html": "<div>\n<style scoped>\n    .dataframe tbody tr th:only-of-type {\n        vertical-align: middle;\n    }\n\n    .dataframe tbody tr th {\n        vertical-align: top;\n    }\n\n    .dataframe thead th {\n        text-align: right;\n    }\n</style>\n<table border=\"1\" class=\"dataframe\">\n  <thead>\n    <tr style=\"text-align: right;\">\n      <th></th>\n      <th>symbol</th>\n      <th>chain</th>\n      <th>aura_bribes</th>\n      <th>bal_bribes</th>\n      <th>protocol_fees_collected</th>\n      <th>pool_addr</th>\n    </tr>\n  </thead>\n  <tbody>\n    <tr>\n      <th>0xade4a71bb62bec25154cfc7e6ff49a513b491e81000000000000000000000497</th>\n      <td>rETH-WETH-BPT</td>\n      <td>arbitrum</td>\n      <td>157.32</td>\n      <td>238.22</td>\n      <td>676.19</td>\n      <td>0xade4a71bb62bec25154cfc7e6ff49a513b491e81</td>\n    </tr>\n    <tr>\n      <th>0x9791d590788598535278552eecd4b211bfc790cb000000000000000000000498</th>\n      <td>wstETH-WETH-BPT</td>\n      <td>arbitrum</td>\n      <td>593.90</td>\n      <td>899.33</td>\n      <td>2552.72</td>\n      <td>0x9791d590788598535278552eecd4b211bfc790cb</td>\n    </tr>\n    <tr>\n      <th>0x4a2f6ae7f3e5d715689530873ec35593dc28951b000000000000000000000481</th>\n      <td>wstETH/rETH/cbETH</td>\n      <td>arbitrum</td>\n      <td>461.01</td>\n      <td>698.09</td>\n      <td>1981.51</td>\n      <td>0x4a2f6ae7f3e5d715689530873ec35593dc28951b</td>\n    </tr>\n    <tr>\n      <th>0x423a1323c871abc9d89eb06855bf5347048fc4a5000000000000000000000496</th>\n      <td>4POOL-BPT</td>\n      <td>arbitrum</td>\n      <td>110.69</td>\n      <td>167.62</td>\n      <td>475.79</td>\n      <td>0x423a1323c871abc9d89eb06855bf5347048fc4a5</td>\n    </tr>\n    <tr>\n      <th>0x32df62dc3aed2cd6224193052ce665dc181658410002000000000000000003bd</th>\n      <td>RDNT-WETH</td>\n      <td>arbitrum</td>\n      <td>2643.32</td>\n      <td>4002.69</td>\n      <td>11361.56</td>\n      <td>0x32df62dc3aed2cd6224193052ce665dc18165841</td>\n    </tr>\n    <tr>\n      <th>0x0c8972437a38b389ec83d1e666b69b8a4fcf8bfd00000000000000000000049e</th>\n      <td>wstETH/rETH/sfrxETH</td>\n      <td>arbitrum</td>\n      <td>0.00</td>\n      <td>0.01</td>\n      <td>0.02</td>\n      <td>0x0c8972437a38b389ec83d1e666b69b8a4fcf8bfd</td>\n    </tr>\n    <tr>\n      <th>0xfd2620c9cfcec7d152467633b3b0ca338d3d78cc00000000000000000000001c</th>\n      <td>sAVAX-WAVAX-BPT</td>\n      <td>avalanche</td>\n      <td>1021.00</td>\n      <td>1546.07</td>\n      <td>2462.77</td>\n      <td>0xfd2620c9cfcec7d152467633b3b0ca338d3d78cc</td>\n    </tr>\n    <tr>\n      <th>0xc13546b97b9b1b15372368dc06529d7191081f5b00000000000000000000001d</th>\n      <td>ggAVAX-WAVAX-BPT</td>\n      <td>avalanche</td>\n      <td>173.67</td>\n      <td>262.98</td>\n      <td>418.90</td>\n      <td>0xc13546b97b9b1b15372368dc06529d7191081f5b</td>\n    </tr>\n    <tr>\n      <th>0x9fa6ab3d78984a69e712730a2227f20bcc8b5ad900000000000000000000001f</th>\n      <td>yyAVAX-WAVAX-BPT</td>\n      <td>avalanche</td>\n      <td>328.18</td>\n      <td>496.95</td>\n      <td>791.60</td>\n      <td>0x9fa6ab3d78984a69e712730a2227f20bcc8b5ad9</td>\n    </tr>\n    <tr>\n      <th>0xb26f0e66317846bd5fe0cbaa1d269f0efeb05c9600000000000000000000001e</th>\n      <td>USDC-USDT-BPT</td>\n      <td>avalanche</td>\n      <td>50.75</td>\n      <td>76.85</td>\n      <td>122.41</td>\n      <td>0xb26f0e66317846bd5fe0cbaa1d269f0efeb05c96</td>\n    </tr>\n    <tr>\n      <th>0x55bec22f8f6c69137ceaf284d9b441db1b9bfedc000200000000000000000011</th>\n      <td>BPT</td>\n      <td>avalanche</td>\n      <td>0.00</td>\n      <td>0.00</td>\n      <td>0.00</td>\n      <td>0x55bec22f8f6c69137ceaf284d9b441db1b9bfedc</td>\n    </tr>\n    <tr>\n      <th>0xfb4c2e6e6e27b5b4a07a36360c89ede29bb3c9b6000000000000000000000026</th>\n      <td>cbETH/WETH</td>\n      <td>base</td>\n      <td>10899.48</td>\n      <td>16504.73</td>\n      <td>1847.83</td>\n      <td>0xfb4c2e6e6e27b5b4a07a36360c89ede29bb3c9b6</td>\n    </tr>\n    <tr>\n      <th>0xc771c1a5905420daec317b154eb13e4198ba97d0000000000000000000000023</th>\n      <td>rETH-WETH-BPT</td>\n      <td>base</td>\n      <td>0.00</td>\n      <td>0.00</td>\n      <td>0.00</td>\n      <td>0xc771c1a5905420daec317b154eb13e4198ba97d0</td>\n    </tr>\n    <tr>\n      <th>0xbad20c15a773bf03ab973302f61fabcea5101f0a000000000000000000000034</th>\n      <td>bb-WETH-wstETH</td>\n      <td>gnosis</td>\n      <td>118.08</td>\n      <td>178.80</td>\n      <td>3343.47</td>\n      <td>0xbad20c15a773bf03ab973302f61fabcea5101f0a</td>\n    </tr>\n    <tr>\n      <th>0x93d199263632a4ef4bb438f1feb99e57b4b5f0bd0000000000000000000005c2</th>\n      <td>wstETH-WETH-BPT</td>\n      <td>mainnet</td>\n      <td>2366.20</td>\n      <td>3583.06</td>\n      <td>7112.06</td>\n      <td>0x93d199263632a4ef4bb438f1feb99e57b4b5f0bd</td>\n    </tr>\n    <tr>\n      <th>0x1e19cf2d73a72ef1332c882f20534b6519be0276000200000000000000000112</th>\n      <td>B-rETH-STABLE</td>\n      <td>mainnet</td>\n      <td>0.00</td>\n      <td>0.00</td>\n      <td>0.00</td>\n      <td>0x1e19cf2d73a72ef1332c882f20534b6519be0276</td>\n    </tr>\n    <tr>\n      <th>0xe7e2c68d3b13d905bbb636709cf4dfd21076b9d20000000000000000000005ca</th>\n      <td>swETH-WETH-BPT</td>\n      <td>mainnet</td>\n      <td>1833.38</td>\n      <td>2776.23</td>\n      <td>5510.58</td>\n      <td>0xe7e2c68d3b13d905bbb636709cf4dfd21076b9d2</td>\n    </tr>\n    <tr>\n      <th>0xf7a826d47c8e02835d94fb0aa40f0cc9505cb1340002000000000000000005e0</th>\n      <td>ECLP-wstETH-cbETH</td>\n      <td>mainnet</td>\n      <td>0.00</td>\n      <td>0.00</td>\n      <td>0.00</td>\n      <td>0xf7a826d47c8e02835d94fb0aa40f0cc9505cb134</td>\n    </tr>\n    <tr>\n      <th>0xf16aee6a71af1a9bc8f56975a4c2705ca7a782bc0002000000000000000004bb</th>\n      <td>20WETH-80ALCX</td>\n      <td>mainnet</td>\n      <td>688.65</td>\n      <td>1042.81</td>\n      <td>2069.88</td>\n      <td>0xf16aee6a71af1a9bc8f56975a4c2705ca7a782bc</td>\n    </tr>\n    <tr>\n      <th>0xb08885e6026bab4333a80024ec25a1a3e1ff2b8a000200000000000000000445</th>\n      <td>B-staFiETH-WETH-Stable</td>\n      <td>mainnet</td>\n      <td>0.00</td>\n      <td>0.00</td>\n      <td>0.00</td>\n      <td>0xb08885e6026bab4333a80024ec25a1a3e1ff2b8a</td>\n    </tr>\n    <tr>\n      <th>0x8353157092ed8be69a9df8f95af097bbf33cb2af0000000000000000000005d9</th>\n      <td>GHO/USDT/USDC</td>\n      <td>mainnet</td>\n      <td>0.00</td>\n      <td>0.00</td>\n      <td>0.00</td>\n      <td>0x8353157092ed8be69a9df8f95af097bbf33cb2af</td>\n    </tr>\n    <tr>\n      <th>0xdfe6e7e18f6cc65fa13c8d8966013d4fda74b6ba000000000000000000000558</th>\n      <td>ankrETH/wstETH</td>\n      <td>mainnet</td>\n      <td>1260.72</td>\n      <td>1909.06</td>\n      <td>3789.32</td>\n      <td>0xdfe6e7e18f6cc65fa13c8d8966013d4fda74b6ba</td>\n    </tr>\n    <tr>\n      <th>0x5f1f4e50ba51d723f12385a8a9606afc3a0555f5000200000000000000000465</th>\n      <td>50wstETH-50LDO</td>\n      <td>mainnet</td>\n      <td>204.08</td>\n      <td>309.04</td>\n      <td>613.41</td>\n      <td>0x5f1f4e50ba51d723f12385a8a9606afc3a0555f5</td>\n    </tr>\n    <tr>\n      <th>0x1ee442b5326009bb18f2f472d3e0061513d1a0ff000200000000000000000464</th>\n      <td>50rETH-50BADGER</td>\n      <td>mainnet</td>\n      <td>3269.41</td>\n      <td>4950.76</td>\n      <td>9826.84</td>\n      <td>0x1ee442b5326009bb18f2f472d3e0061513d1a0ff</td>\n    </tr>\n    <tr>\n      <th>0x9f9d900462492d4c21e9523ca95a7cd86142f298000200000000000000000462</th>\n      <td>50rETH-50RPL</td>\n      <td>mainnet</td>\n      <td>419.48</td>\n      <td>635.21</td>\n      <td>1260.83</td>\n      <td>0x9f9d900462492d4c21e9523ca95a7cd86142f298</td>\n    </tr>\n    <tr>\n      <th>0x3ff3a210e57cfe679d9ad1e9ba6453a716c56a2e0002000000000000000005d5</th>\n      <td>STG/USDC</td>\n      <td>mainnet</td>\n      <td>412.35</td>\n      <td>624.42</td>\n      <td>1239.41</td>\n      <td>0x3ff3a210e57cfe679d9ad1e9ba6453a716c56a2e</td>\n    </tr>\n    <tr>\n      <th>0xf01b0684c98cd7ada480bfdf6e43876422fa1fc10002000000000000000005de</th>\n      <td>ECLP-wstETH-wETH</td>\n      <td>mainnet</td>\n      <td>0.00</td>\n      <td>0.00</td>\n      <td>0.00</td>\n      <td>0xf01b0684c98cd7ada480bfdf6e43876422fa1fc1</td>\n    </tr>\n    <tr>\n      <th>0x36be1e97ea98ab43b4debf92742517266f5731a3000200000000000000000466</th>\n      <td>50wstETH-50ACX</td>\n      <td>mainnet</td>\n      <td>126.91</td>\n      <td>192.17</td>\n      <td>381.44</td>\n      <td>0x36be1e97ea98ab43b4debf92742517266f5731a3</td>\n    </tr>\n    <tr>\n      <th>0xf0ad209e2e969eaaa8c882aac71f02d8a047d5c2000200000000000000000b49</th>\n      <td>ECLP-WMATIC-stMATIC</td>\n      <td>polygon</td>\n      <td>474.80</td>\n      <td>718.97</td>\n      <td>1591.32</td>\n      <td>0xf0ad209e2e969eaaa8c882aac71f02d8a047d5c2</td>\n    </tr>\n    <tr>\n      <th>0xee278d943584dd8640eaf4cc6c7a5c80c0073e85000200000000000000000bc7</th>\n      <td>ECLP-WMATIC-MATICX</td>\n      <td>polygon</td>\n      <td>121.20</td>\n      <td>183.53</td>\n      <td>406.22</td>\n      <td>0xee278d943584dd8640eaf4cc6c7a5c80c0073e85</td>\n    </tr>\n    <tr>\n      <th>0x89b753153678bc434c610b7e9182297cada8ff29000000000000000000000c21</th>\n      <td>stMATIC-WMATIC-BPT</td>\n      <td>polygon</td>\n      <td>0.74</td>\n      <td>1.12</td>\n      <td>2.47</td>\n      <td>0x89b753153678bc434c610b7e9182297cada8ff29</td>\n    </tr>\n    <tr>\n      <th>0xcd78a20c597e367a4e478a2411ceb790604d7c8f000000000000000000000c22</th>\n      <td>maticX-WMATIC-BPT</td>\n      <td>polygon</td>\n      <td>435.38</td>\n      <td>659.29</td>\n      <td>1459.21</td>\n      <td>0xcd78a20c597e367a4e478a2411ceb790604d7c8f</td>\n    </tr>\n    <tr>\n      <th>0xdc31233e09f3bf5bfe5c10da2014677c23b6894c000000000000000000000c23</th>\n      <td>wstETH-WETH-BPT</td>\n      <td>polygon</td>\n      <td>0.00</td>\n      <td>0.00</td>\n      <td>0.00</td>\n      <td>0xdc31233e09f3bf5bfe5c10da2014677c23b6894c</td>\n    </tr>\n  </tbody>\n</table>\n</div>"
     },
     "execution_count": 13,
     "metadata": {},
     "output_type": "execute_result"
    }
   ],
   "source": [
    "from notebooks import calculate_aura_vebal_share\n",
    "\n",
    "aura_vebal_share = calculate_aura_vebal_share(eth_web3, mainnet_block)\n",
    "\n",
    "# Bribes are split per chain and per pool, with each pool getting a share of the bribe proportional to its share of fees\n",
    "# paid by all pools on that chain. For example, if pool A paid 10% of all fees on Arbitrum, it will get 10% of the bribes. That 10% will be distributed between aura and vebal, proportional to their share of the bribe.\n",
    "FEE = Decimal(0.5)  # 50% goes to fees\n",
    "\n",
    "\n",
    "# Let's calculate share of fees paid by each pool on each chain\n",
    "def calc_and_split_bribes(fees: Dict, chain: str, fees_to_distribute: Decimal) -> Dict[str, Dict]:\n",
    "    pool_bribs = {}\n",
    "    # Calculate pool share in fees\n",
    "    total_fees = sum([data['pool_fee'] for pool, data in fees.items()])\n",
    "    for pool, data in fees.items():\n",
    "        pool_fees = data['bpt_token_fee_in_usd'] + data['token_fees_in_usd']\n",
    "        pool_share = pool_fees / Decimal(total_fees)\n",
    "        # Split fees between aura and bal fees\n",
    "        pool_bribs[pool] = {\n",
    "            \"symbol\": data['symbol'],\n",
    "            \"chain\": chain,\n",
    "            \"aura_bribes\": round(pool_share * fees_to_distribute * aura_vebal_share * FEE, 2),\n",
    "            \"bal_bribes\": round(pool_share * fees_to_distribute * (1 - aura_vebal_share) * FEE, 2),\n",
    "            \"protocol_fees_collected\": pool_fees,\n",
    "            \"pool_addr\": data['pool_addr'],\n",
    "        }\n",
    "    return pool_bribs\n",
    "\n",
    "\n",
    "# TODO: Move to constants\n",
    "mainnet_bribes = calc_and_split_bribes(mainnet_fees, 'mainnet', Decimal(84681.65))\n",
    "arb_bribes = calc_and_split_bribes(arb_fees, 'arbitrum', Decimal(18523))\n",
    "polygon_bribes = calc_and_split_bribes(polygon_fees, 'polygon', Decimal(5162.59))\n",
    "base_bribes = calc_and_split_bribes(base_fees, 'base', Decimal(67118))\n",
    "gnosis_bribes = calc_and_split_bribes(gnosis_fees, 'gnosis', Decimal(597))\n",
    "avax_bribes = calc_and_split_bribes(avax_fees, 'avalanche', Decimal(10297))\n",
    "# Convert to dataframe\n",
    "joint_bribes_data = {**arb_bribes, **mainnet_bribes, **polygon_bribes, **base_bribes, **gnosis_bribes, **avax_bribes}\n",
    "# Sort by chain:\n",
    "joint_bribes_data = {k: v for k, v in sorted(joint_bribes_data.items(), key=lambda item: item[1]['chain'])}\n",
    "joint_bribes_df = pd.DataFrame.from_dict(joint_bribes_data, orient='index')\n",
    "# Sort by chain\n",
    "# Dump into csv and prefix with dates\n",
    "joint_bribes_df.to_csv(f'./output/bribes_{arb_datetime_2_weeks_ago.date()}_{arb_datetime_now.date()}.csv')\n",
    "joint_bribes_df"
   ],
   "metadata": {
    "collapsed": false,
    "ExecuteTime": {
     "end_time": "2023-09-28T14:23:21.562199Z",
     "start_time": "2023-09-28T14:23:20.581787Z"
    }
   },
   "id": "efdef306c522076a"
  },
  {
   "cell_type": "code",
   "execution_count": 14,
   "outputs": [],
   "source": [
    "from notebooks import fetch_all_pools_info\n",
    "\n",
    "mainnet_pools_info = fetch_all_pools_info('mainnet')\n",
    "arb_pools_info = fetch_all_pools_info('arbitrum')\n",
    "polygon_pools_info = fetch_all_pools_info('polygon')\n",
    "base_pools_info = fetch_all_pools_info('base')\n",
    "gnosis_pools_info = fetch_all_pools_info('gnosis')\n",
    "avax_pools_info = fetch_all_pools_info('avalanche')\n",
    "\n",
    "mainnet_gauges = {pool_info['address']: Web3.to_checksum_address(pool_info['gauge']['address']) for pool_info in\n",
    "                  mainnet_pools_info}\n",
    "arb_gauges = {pool_info['address']: Web3.to_checksum_address(pool_info['gauge']['address']) for pool_info in\n",
    "              arb_pools_info}\n",
    "polygon_gauges = {pool_info['address']: Web3.to_checksum_address(pool_info['gauge']['address']) for pool_info in\n",
    "                  polygon_pools_info}\n",
    "base_gauges = {pool_info['address']: Web3.to_checksum_address(pool_info['gauge']['address']) for pool_info in\n",
    "               base_pools_info}\n",
    "gnosis_gauges = {pool_info['address']: Web3.to_checksum_address(pool_info['gauge']['address']) for pool_info in\n",
    "                 gnosis_pools_info}\n",
    "avax_gauges = {pool_info['address']: Web3.to_checksum_address(pool_info['gauge']['address']) for pool_info in\n",
    "               avax_pools_info}\n",
    "# Put it all into mapping per chain:\n",
    "mapped_gauges = {\n",
    "    'mainnet': mainnet_gauges,\n",
    "    'arbitrum': arb_gauges,\n",
    "    'polygon': polygon_gauges,\n",
    "    'base': base_gauges,\n",
    "    'gnosis': gnosis_gauges,\n",
    "    'avalanche': avax_gauges,\n",
    "}"
   ],
   "metadata": {
    "collapsed": false,
    "ExecuteTime": {
     "end_time": "2023-09-28T14:23:40.548123Z",
     "start_time": "2023-09-28T14:23:33.795959Z"
    }
   },
   "id": "93d3b07a2ccb9a32"
  },
  {
   "cell_type": "code",
   "execution_count": 15,
   "outputs": [],
   "source": [
    "# Load csv sheet to compare with the data collected above:\n",
    "bribes_df = pd.read_csv('compare_sheet.csv')\n",
    "# To dict:\n",
    "bribes_to_compare = bribes_df.to_dict(orient='records')\n",
    "# Each dict in list needs target to be Web3.toChecksumAddress\n",
    "bribes_csv_checksummed = []\n",
    "for bribe in bribes_to_compare:\n",
    "    bribes_csv_checksummed.append({\n",
    "        'target': Web3.to_checksum_address(bribe['target']),\n",
    "        'platform': bribe['platform'],\n",
    "        'amount': bribe['amount'],\n",
    "    })\n",
    "# These are bribes paid de-facto, so we need to convert them to the same format as we have in our data\n",
    "bribes_final_csv = {}\n",
    "for bribe in bribes_csv_checksummed:\n",
    "    if bribe['target'] not in bribes_final_csv:\n",
    "        bribes_final_csv[bribe['target']] = {}\n",
    "    bribes_final_csv[bribe['target']][bribe['platform']] = Decimal(bribe['amount'])"
   ],
   "metadata": {
    "collapsed": false,
    "ExecuteTime": {
     "end_time": "2023-09-28T14:23:43.670554Z",
     "start_time": "2023-09-28T14:23:43.657448Z"
    }
   },
   "id": "533bf5074506799f"
  },
  {
   "cell_type": "markdown",
   "source": [
    "## Compare data from the sheet with the data we collected\n",
    "What does table below represent:\n",
    "- aura_automated_bribe: bribes paid to aura per pool calculated in this notebook\n",
    "- aura_actual_bribe: actual bribes paid to aura per pool from the sheet\n",
    "- aura_bribe_delta: difference between aura_automated_bribe and aura_actual_bribe\n",
    "- aura_bribe_delta_%: difference between aura_automated_bribe and aura_actual_bribe in %\n",
    "\n",
    "Same thing for balancer side:\n",
    "- bal_automated_bribe: bribes paid to balancer per pool calculated in this notebook\n",
    "- bal_actual_bribe: actual bribes paid to balancer per pool from the sheet\n",
    "- bal_bribe_delta: difference between bal_automated_bribe and bal_actual_bribe\n",
    "- bal_bribe_delta_%: difference between bal_automated_bribe and bal_actual_bribe in %"
   ],
   "metadata": {
    "collapsed": false
   },
   "id": "ab029ab946741672"
  },
  {
   "cell_type": "code",
   "execution_count": 17,
   "outputs": [
    {
     "data": {
      "text/plain": "                                                             gauge      chain  \\\nwstETH-WETH-BPT         0xb6d101874B975083C76598542946Fe047f059066   arbitrum   \nB-rETH-STABLE           0x79eF6103A513951a3b25743DB509E267685726B7    mainnet   \nswETH-WETH-BPT          0xee01c0d9c0439c94D314a6ecAE0490989750746C    mainnet   \nECLP-wstETH-cbETH       0x4D4264aebf65Bb1727bb5438E0b2Aaf86186DA50    mainnet   \n20WETH-80ALCX           0x183D73dA7adC5011EC3C46e33BB50271e59EC976    mainnet   \nB-staFiETH-WETH-Stable  0x10a361766e64D7983a97202ac3a0F4cee06Eb717    mainnet   \nGHO/USDT/USDC           0xf720e9137baa9C7612e6CA59149a5057ab320cFa    mainnet   \nankrETH/wstETH          0xbf65b3fA6c208762eD74e82d4AEfCDDfd0323648    mainnet   \n50wstETH-50LDO          0x95201B61EF19C867dA0D093DF20021e1a559452c    mainnet   \n50rETH-50BADGER         0x87012b0C3257423fD74a5986F81a0f1954C17a1d    mainnet   \n50rETH-50RPL            0x2C2179abce3413E27BDA6917f60ae37F96D01826    mainnet   \nECLP-wstETH-wETH        0xdf54d2Dd06F8Be3B0c4FfC157bE54EC9cca91F3C    mainnet   \nECLP-WMATIC-stMATIC     0xD103Dd49B8051A09B399A52E9A8aB629392dE2fb    polygon   \nECLP-WMATIC-MATICX      0x82bcaD0C8F51D88ec339141F0d8953Bc25cc3d8c    polygon   \nstMATIC-WMATIC-BPT      0x6054A132020f48012C63D2cb83813327378F9423    polygon   \nmaticX-WMATIC-BPT       0x9965713498c74aee49cEf80B2195461F188F24f8    polygon   \nrETH-WETH-BPT           0xd75026F8723b94d9a360A282080492d905c6A558       base   \nwstETH/rETH/cbETH       0x56c0626E6E3931af90EbB679A321225180d4b32B   arbitrum   \n4POOL-BPT               0xBb1a15dfd849bc5a6F33C002999c8953aFA626Ad   arbitrum   \nRDNT-WETH               0x8135d6AbFd42707A87A7b94c5CFA3529f9b432AD   arbitrum   \nwstETH/rETH/sfrxETH     0x49f530b45Ae792CDF5Cbd5D25C5a9b9e59C6c3B8   arbitrum   \nbb-WETH-wstETH          0xf8C85bd74FeE26831336B51A90587145391a27Ba     gnosis   \ncbETH/WETH              0xefF145872582721e1b33931d61c3fE9C1ca66690       base   \nsAVAX-WAVAX-BPT         0x1e916950A659Da9813EE34479BFf04C732E03deb  avalanche   \nggAVAX-WAVAX-BPT        0xa86e8e8CfAe8C9847fA9381d4631c13c7b3466bd  avalanche   \nyyAVAX-WAVAX-BPT        0x956074628A64a316086f7125074a8A52d3306321  avalanche   \nUSDC-USDT-BPT           0xB95397A17ACbb5824535ebE69Cd9DCF8fA7aFC50  avalanche   \nBPT                     0x40B4C2E260f803F868053789bD4A6C7Edd1cdc39  avalanche   \n\n                       aura_automated_bribe aura_actual_bribe  \\\nwstETH-WETH-BPT                      593.90              0.00   \nB-rETH-STABLE                          0.00           2944.03   \nswETH-WETH-BPT                      1833.38           4953.73   \nECLP-wstETH-cbETH                      0.00              0.00   \n20WETH-80ALCX                        688.65              0.00   \nB-staFiETH-WETH-Stable                 0.00              0.00   \nGHO/USDT/USDC                          0.00              0.00   \nankrETH/wstETH                      1260.72              0.00   \n50wstETH-50LDO                       204.08              0.00   \n50rETH-50BADGER                     3269.41           1793.05   \n50rETH-50RPL                         419.48              0.00   \nECLP-wstETH-wETH                       0.00              0.00   \nECLP-WMATIC-stMATIC                  474.80           1966.74   \nECLP-WMATIC-MATICX                   121.20              0.00   \nstMATIC-WMATIC-BPT                     0.74              0.00   \nmaticX-WMATIC-BPT                    435.38              0.00   \nrETH-WETH-BPT                          0.00           2819.01   \nwstETH/rETH/cbETH                    461.01              0.00   \n4POOL-BPT                            110.69              0.00   \nRDNT-WETH                           2643.32           2063.63   \nwstETH/rETH/sfrxETH                    0.00              0.00   \nbb-WETH-wstETH                       118.08              0.00   \ncbETH/WETH                         10899.48           7964.01   \nsAVAX-WAVAX-BPT                     1021.00           1407.18   \nggAVAX-WAVAX-BPT                     173.67           1423.82   \nyyAVAX-WAVAX-BPT                     328.18              0.00   \nUSDC-USDT-BPT                         50.75           1315.36   \nBPT                                    0.00              0.00   \n\n                       aura_bribe_delta aura_bribe_delta_%  \\\nwstETH-WETH-BPT                  593.90                 0%   \nB-rETH-STABLE                   2944.03            100.00%   \nswETH-WETH-BPT                  3120.35             62.99%   \nECLP-wstETH-cbETH                  0.00                 0%   \n20WETH-80ALCX                    688.65                 0%   \nB-staFiETH-WETH-Stable             0.00                 0%   \nGHO/USDT/USDC                      0.00                 0%   \nankrETH/wstETH                  1260.72                 0%   \n50wstETH-50LDO                   204.08                 0%   \n50rETH-50BADGER                 1476.36             82.34%   \n50rETH-50RPL                     419.48                 0%   \nECLP-wstETH-wETH                   0.00                 0%   \nECLP-WMATIC-stMATIC             1491.94             75.86%   \nECLP-WMATIC-MATICX               121.20                 0%   \nstMATIC-WMATIC-BPT                 0.74                 0%   \nmaticX-WMATIC-BPT                435.38                 0%   \nrETH-WETH-BPT                   2819.01            100.00%   \nwstETH/rETH/cbETH                461.01                 0%   \n4POOL-BPT                        110.69                 0%   \nRDNT-WETH                        579.69             28.09%   \nwstETH/rETH/sfrxETH                0.00                 0%   \nbb-WETH-wstETH                   118.08                 0%   \ncbETH/WETH                      2935.47             36.86%   \nsAVAX-WAVAX-BPT                  386.18             27.44%   \nggAVAX-WAVAX-BPT                1250.15             87.80%   \nyyAVAX-WAVAX-BPT                 328.18                 0%   \nUSDC-USDT-BPT                   1264.61             96.14%   \nBPT                                0.00                 0%   \n\n                       bal_automated_bribe bal_actual_bribe bal_bribe_delta  \\\nwstETH-WETH-BPT                     899.33          1183.03          283.70   \nB-rETH-STABLE                         0.00          5467.48         5467.48   \nswETH-WETH-BPT                     2776.23             0.00         2776.23   \nECLP-wstETH-cbETH                     0.00             0.00            0.00   \n20WETH-80ALCX                      1042.81             0.00         1042.81   \nB-staFiETH-WETH-Stable                0.00             0.00            0.00   \nGHO/USDT/USDC                         0.00             0.00            0.00   \nankrETH/wstETH                     1909.06             0.00         1909.06   \n50wstETH-50LDO                      309.04             0.00          309.04   \n50rETH-50BADGER                    4950.76          3329.95         1620.81   \n50rETH-50RPL                        635.21             0.00          635.21   \nECLP-wstETH-wETH                      0.00             0.00            0.00   \nECLP-WMATIC-stMATIC                 718.97             0.00          718.97   \nECLP-WMATIC-MATICX                  183.53           608.51          424.98   \nstMATIC-WMATIC-BPT                    1.12             0.00            1.12   \nmaticX-WMATIC-BPT                   659.29             0.00          659.29   \nrETH-WETH-BPT                         0.00          4263.92         4263.92   \nwstETH/rETH/cbETH                   698.09          1165.80          467.71   \n4POOL-BPT                           167.62           849.47          681.85   \nRDNT-WETH                          4002.69          3121.37          881.32   \nwstETH/rETH/sfrxETH                   0.01             0.00            0.01   \nbb-WETH-wstETH                      178.80           299.00          120.20   \ncbETH/WETH                        16504.73         12046.07         4458.66   \nsAVAX-WAVAX-BPT                    1546.07             0.00         1546.07   \nggAVAX-WAVAX-BPT                    262.98             0.00          262.98   \nyyAVAX-WAVAX-BPT                    496.95           581.00           84.05   \nUSDC-USDT-BPT                        76.85             0.00           76.85   \nBPT                                   0.00           420.00          420.00   \n\n                       bal_bribe_delta_%  \nwstETH-WETH-BPT                   23.98%  \nB-rETH-STABLE                    100.00%  \nswETH-WETH-BPT                        0%  \nECLP-wstETH-cbETH                     0%  \n20WETH-80ALCX                         0%  \nB-staFiETH-WETH-Stable                0%  \nGHO/USDT/USDC                         0%  \nankrETH/wstETH                        0%  \n50wstETH-50LDO                        0%  \n50rETH-50BADGER                   48.67%  \n50rETH-50RPL                          0%  \nECLP-wstETH-wETH                      0%  \nECLP-WMATIC-stMATIC                   0%  \nECLP-WMATIC-MATICX                69.84%  \nstMATIC-WMATIC-BPT                    0%  \nmaticX-WMATIC-BPT                     0%  \nrETH-WETH-BPT                    100.00%  \nwstETH/rETH/cbETH                 40.12%  \n4POOL-BPT                         80.27%  \nRDNT-WETH                         28.24%  \nwstETH/rETH/sfrxETH                   0%  \nbb-WETH-wstETH                    40.20%  \ncbETH/WETH                        37.01%  \nsAVAX-WAVAX-BPT                       0%  \nggAVAX-WAVAX-BPT                      0%  \nyyAVAX-WAVAX-BPT                  14.47%  \nUSDC-USDT-BPT                         0%  \nBPT                              100.00%  ",
      "text/html": "<div>\n<style scoped>\n    .dataframe tbody tr th:only-of-type {\n        vertical-align: middle;\n    }\n\n    .dataframe tbody tr th {\n        vertical-align: top;\n    }\n\n    .dataframe thead th {\n        text-align: right;\n    }\n</style>\n<table border=\"1\" class=\"dataframe\">\n  <thead>\n    <tr style=\"text-align: right;\">\n      <th></th>\n      <th>gauge</th>\n      <th>chain</th>\n      <th>aura_automated_bribe</th>\n      <th>aura_actual_bribe</th>\n      <th>aura_bribe_delta</th>\n      <th>aura_bribe_delta_%</th>\n      <th>bal_automated_bribe</th>\n      <th>bal_actual_bribe</th>\n      <th>bal_bribe_delta</th>\n      <th>bal_bribe_delta_%</th>\n    </tr>\n  </thead>\n  <tbody>\n    <tr>\n      <th>wstETH-WETH-BPT</th>\n      <td>0xb6d101874B975083C76598542946Fe047f059066</td>\n      <td>arbitrum</td>\n      <td>593.90</td>\n      <td>0.00</td>\n      <td>593.90</td>\n      <td>0%</td>\n      <td>899.33</td>\n      <td>1183.03</td>\n      <td>283.70</td>\n      <td>23.98%</td>\n    </tr>\n    <tr>\n      <th>B-rETH-STABLE</th>\n      <td>0x79eF6103A513951a3b25743DB509E267685726B7</td>\n      <td>mainnet</td>\n      <td>0.00</td>\n      <td>2944.03</td>\n      <td>2944.03</td>\n      <td>100.00%</td>\n      <td>0.00</td>\n      <td>5467.48</td>\n      <td>5467.48</td>\n      <td>100.00%</td>\n    </tr>\n    <tr>\n      <th>swETH-WETH-BPT</th>\n      <td>0xee01c0d9c0439c94D314a6ecAE0490989750746C</td>\n      <td>mainnet</td>\n      <td>1833.38</td>\n      <td>4953.73</td>\n      <td>3120.35</td>\n      <td>62.99%</td>\n      <td>2776.23</td>\n      <td>0.00</td>\n      <td>2776.23</td>\n      <td>0%</td>\n    </tr>\n    <tr>\n      <th>ECLP-wstETH-cbETH</th>\n      <td>0x4D4264aebf65Bb1727bb5438E0b2Aaf86186DA50</td>\n      <td>mainnet</td>\n      <td>0.00</td>\n      <td>0.00</td>\n      <td>0.00</td>\n      <td>0%</td>\n      <td>0.00</td>\n      <td>0.00</td>\n      <td>0.00</td>\n      <td>0%</td>\n    </tr>\n    <tr>\n      <th>20WETH-80ALCX</th>\n      <td>0x183D73dA7adC5011EC3C46e33BB50271e59EC976</td>\n      <td>mainnet</td>\n      <td>688.65</td>\n      <td>0.00</td>\n      <td>688.65</td>\n      <td>0%</td>\n      <td>1042.81</td>\n      <td>0.00</td>\n      <td>1042.81</td>\n      <td>0%</td>\n    </tr>\n    <tr>\n      <th>B-staFiETH-WETH-Stable</th>\n      <td>0x10a361766e64D7983a97202ac3a0F4cee06Eb717</td>\n      <td>mainnet</td>\n      <td>0.00</td>\n      <td>0.00</td>\n      <td>0.00</td>\n      <td>0%</td>\n      <td>0.00</td>\n      <td>0.00</td>\n      <td>0.00</td>\n      <td>0%</td>\n    </tr>\n    <tr>\n      <th>GHO/USDT/USDC</th>\n      <td>0xf720e9137baa9C7612e6CA59149a5057ab320cFa</td>\n      <td>mainnet</td>\n      <td>0.00</td>\n      <td>0.00</td>\n      <td>0.00</td>\n      <td>0%</td>\n      <td>0.00</td>\n      <td>0.00</td>\n      <td>0.00</td>\n      <td>0%</td>\n    </tr>\n    <tr>\n      <th>ankrETH/wstETH</th>\n      <td>0xbf65b3fA6c208762eD74e82d4AEfCDDfd0323648</td>\n      <td>mainnet</td>\n      <td>1260.72</td>\n      <td>0.00</td>\n      <td>1260.72</td>\n      <td>0%</td>\n      <td>1909.06</td>\n      <td>0.00</td>\n      <td>1909.06</td>\n      <td>0%</td>\n    </tr>\n    <tr>\n      <th>50wstETH-50LDO</th>\n      <td>0x95201B61EF19C867dA0D093DF20021e1a559452c</td>\n      <td>mainnet</td>\n      <td>204.08</td>\n      <td>0.00</td>\n      <td>204.08</td>\n      <td>0%</td>\n      <td>309.04</td>\n      <td>0.00</td>\n      <td>309.04</td>\n      <td>0%</td>\n    </tr>\n    <tr>\n      <th>50rETH-50BADGER</th>\n      <td>0x87012b0C3257423fD74a5986F81a0f1954C17a1d</td>\n      <td>mainnet</td>\n      <td>3269.41</td>\n      <td>1793.05</td>\n      <td>1476.36</td>\n      <td>82.34%</td>\n      <td>4950.76</td>\n      <td>3329.95</td>\n      <td>1620.81</td>\n      <td>48.67%</td>\n    </tr>\n    <tr>\n      <th>50rETH-50RPL</th>\n      <td>0x2C2179abce3413E27BDA6917f60ae37F96D01826</td>\n      <td>mainnet</td>\n      <td>419.48</td>\n      <td>0.00</td>\n      <td>419.48</td>\n      <td>0%</td>\n      <td>635.21</td>\n      <td>0.00</td>\n      <td>635.21</td>\n      <td>0%</td>\n    </tr>\n    <tr>\n      <th>ECLP-wstETH-wETH</th>\n      <td>0xdf54d2Dd06F8Be3B0c4FfC157bE54EC9cca91F3C</td>\n      <td>mainnet</td>\n      <td>0.00</td>\n      <td>0.00</td>\n      <td>0.00</td>\n      <td>0%</td>\n      <td>0.00</td>\n      <td>0.00</td>\n      <td>0.00</td>\n      <td>0%</td>\n    </tr>\n    <tr>\n      <th>ECLP-WMATIC-stMATIC</th>\n      <td>0xD103Dd49B8051A09B399A52E9A8aB629392dE2fb</td>\n      <td>polygon</td>\n      <td>474.80</td>\n      <td>1966.74</td>\n      <td>1491.94</td>\n      <td>75.86%</td>\n      <td>718.97</td>\n      <td>0.00</td>\n      <td>718.97</td>\n      <td>0%</td>\n    </tr>\n    <tr>\n      <th>ECLP-WMATIC-MATICX</th>\n      <td>0x82bcaD0C8F51D88ec339141F0d8953Bc25cc3d8c</td>\n      <td>polygon</td>\n      <td>121.20</td>\n      <td>0.00</td>\n      <td>121.20</td>\n      <td>0%</td>\n      <td>183.53</td>\n      <td>608.51</td>\n      <td>424.98</td>\n      <td>69.84%</td>\n    </tr>\n    <tr>\n      <th>stMATIC-WMATIC-BPT</th>\n      <td>0x6054A132020f48012C63D2cb83813327378F9423</td>\n      <td>polygon</td>\n      <td>0.74</td>\n      <td>0.00</td>\n      <td>0.74</td>\n      <td>0%</td>\n      <td>1.12</td>\n      <td>0.00</td>\n      <td>1.12</td>\n      <td>0%</td>\n    </tr>\n    <tr>\n      <th>maticX-WMATIC-BPT</th>\n      <td>0x9965713498c74aee49cEf80B2195461F188F24f8</td>\n      <td>polygon</td>\n      <td>435.38</td>\n      <td>0.00</td>\n      <td>435.38</td>\n      <td>0%</td>\n      <td>659.29</td>\n      <td>0.00</td>\n      <td>659.29</td>\n      <td>0%</td>\n    </tr>\n    <tr>\n      <th>rETH-WETH-BPT</th>\n      <td>0xd75026F8723b94d9a360A282080492d905c6A558</td>\n      <td>base</td>\n      <td>0.00</td>\n      <td>2819.01</td>\n      <td>2819.01</td>\n      <td>100.00%</td>\n      <td>0.00</td>\n      <td>4263.92</td>\n      <td>4263.92</td>\n      <td>100.00%</td>\n    </tr>\n    <tr>\n      <th>wstETH/rETH/cbETH</th>\n      <td>0x56c0626E6E3931af90EbB679A321225180d4b32B</td>\n      <td>arbitrum</td>\n      <td>461.01</td>\n      <td>0.00</td>\n      <td>461.01</td>\n      <td>0%</td>\n      <td>698.09</td>\n      <td>1165.80</td>\n      <td>467.71</td>\n      <td>40.12%</td>\n    </tr>\n    <tr>\n      <th>4POOL-BPT</th>\n      <td>0xBb1a15dfd849bc5a6F33C002999c8953aFA626Ad</td>\n      <td>arbitrum</td>\n      <td>110.69</td>\n      <td>0.00</td>\n      <td>110.69</td>\n      <td>0%</td>\n      <td>167.62</td>\n      <td>849.47</td>\n      <td>681.85</td>\n      <td>80.27%</td>\n    </tr>\n    <tr>\n      <th>RDNT-WETH</th>\n      <td>0x8135d6AbFd42707A87A7b94c5CFA3529f9b432AD</td>\n      <td>arbitrum</td>\n      <td>2643.32</td>\n      <td>2063.63</td>\n      <td>579.69</td>\n      <td>28.09%</td>\n      <td>4002.69</td>\n      <td>3121.37</td>\n      <td>881.32</td>\n      <td>28.24%</td>\n    </tr>\n    <tr>\n      <th>wstETH/rETH/sfrxETH</th>\n      <td>0x49f530b45Ae792CDF5Cbd5D25C5a9b9e59C6c3B8</td>\n      <td>arbitrum</td>\n      <td>0.00</td>\n      <td>0.00</td>\n      <td>0.00</td>\n      <td>0%</td>\n      <td>0.01</td>\n      <td>0.00</td>\n      <td>0.01</td>\n      <td>0%</td>\n    </tr>\n    <tr>\n      <th>bb-WETH-wstETH</th>\n      <td>0xf8C85bd74FeE26831336B51A90587145391a27Ba</td>\n      <td>gnosis</td>\n      <td>118.08</td>\n      <td>0.00</td>\n      <td>118.08</td>\n      <td>0%</td>\n      <td>178.80</td>\n      <td>299.00</td>\n      <td>120.20</td>\n      <td>40.20%</td>\n    </tr>\n    <tr>\n      <th>cbETH/WETH</th>\n      <td>0xefF145872582721e1b33931d61c3fE9C1ca66690</td>\n      <td>base</td>\n      <td>10899.48</td>\n      <td>7964.01</td>\n      <td>2935.47</td>\n      <td>36.86%</td>\n      <td>16504.73</td>\n      <td>12046.07</td>\n      <td>4458.66</td>\n      <td>37.01%</td>\n    </tr>\n    <tr>\n      <th>sAVAX-WAVAX-BPT</th>\n      <td>0x1e916950A659Da9813EE34479BFf04C732E03deb</td>\n      <td>avalanche</td>\n      <td>1021.00</td>\n      <td>1407.18</td>\n      <td>386.18</td>\n      <td>27.44%</td>\n      <td>1546.07</td>\n      <td>0.00</td>\n      <td>1546.07</td>\n      <td>0%</td>\n    </tr>\n    <tr>\n      <th>ggAVAX-WAVAX-BPT</th>\n      <td>0xa86e8e8CfAe8C9847fA9381d4631c13c7b3466bd</td>\n      <td>avalanche</td>\n      <td>173.67</td>\n      <td>1423.82</td>\n      <td>1250.15</td>\n      <td>87.80%</td>\n      <td>262.98</td>\n      <td>0.00</td>\n      <td>262.98</td>\n      <td>0%</td>\n    </tr>\n    <tr>\n      <th>yyAVAX-WAVAX-BPT</th>\n      <td>0x956074628A64a316086f7125074a8A52d3306321</td>\n      <td>avalanche</td>\n      <td>328.18</td>\n      <td>0.00</td>\n      <td>328.18</td>\n      <td>0%</td>\n      <td>496.95</td>\n      <td>581.00</td>\n      <td>84.05</td>\n      <td>14.47%</td>\n    </tr>\n    <tr>\n      <th>USDC-USDT-BPT</th>\n      <td>0xB95397A17ACbb5824535ebE69Cd9DCF8fA7aFC50</td>\n      <td>avalanche</td>\n      <td>50.75</td>\n      <td>1315.36</td>\n      <td>1264.61</td>\n      <td>96.14%</td>\n      <td>76.85</td>\n      <td>0.00</td>\n      <td>76.85</td>\n      <td>0%</td>\n    </tr>\n    <tr>\n      <th>BPT</th>\n      <td>0x40B4C2E260f803F868053789bD4A6C7Edd1cdc39</td>\n      <td>avalanche</td>\n      <td>0.00</td>\n      <td>0.00</td>\n      <td>0.00</td>\n      <td>0%</td>\n      <td>0.00</td>\n      <td>420.00</td>\n      <td>420.00</td>\n      <td>100.00%</td>\n    </tr>\n  </tbody>\n</table>\n</div>"
     },
     "execution_count": 17,
     "metadata": {},
     "output_type": "execute_result"
    }
   ],
   "source": [
    "# Now we need to compare the data we collected with the data from the sheet\n",
    "# We need to compare bribes paid to each pool\n",
    "joint_bribes_dict = joint_bribes_df.to_dict(orient='records')\n",
    "bribes_delta = {}\n",
    "for gauge, data in bribes_final_csv.items():\n",
    "    for automated_bribe in joint_bribes_dict:\n",
    "        filtered_gauges = mapped_gauges[automated_bribe['chain']]\n",
    "        # If this condition is true, we can compare the bribes\n",
    "        if filtered_gauges[automated_bribe['pool_addr']] == gauge:\n",
    "            # Calculate delta between automated bribes and bribes from the sheet\n",
    "            # Calculate delta between automated_bribe['aura_bribes'] and data['aura'] in %\n",
    "            if automated_bribe['aura_bribes'] > data['aura']:\n",
    "                aura_bribe_delta = automated_bribe['aura_bribes'] - data['aura']\n",
    "                aura_bribe_delta_pct = (automated_bribe['aura_bribes'] - data['aura']) / data['aura'] * 100 if \\\n",
    "                    data['aura'] != 0 else 0\n",
    "            else:\n",
    "                aura_bribe_delta = data['aura'] - automated_bribe['aura_bribes']\n",
    "                aura_bribe_delta_pct = (data['aura'] - automated_bribe['aura_bribes']) / data['aura'] * 100 if \\\n",
    "                    data['aura'] != 0 else 0\n",
    "            if automated_bribe['bal_bribes'] > data['balancer']:\n",
    "                bal_bribe_delta = automated_bribe['bal_bribes'] - data['balancer']\n",
    "                bal_bribe_delta_pct = (automated_bribe['bal_bribes'] - data['balancer']) / data['balancer'] * 100 if \\\n",
    "                    data['balancer'] != 0 else 0\n",
    "            else:\n",
    "                bal_bribe_delta = data['balancer'] - automated_bribe['bal_bribes']\n",
    "                bal_bribe_delta_pct = (data['balancer'] - automated_bribe['bal_bribes']) / data['balancer'] * 100 if \\\n",
    "                    data['balancer'] != 0 else 0\n",
    "                \n",
    "            bribes_delta[automated_bribe['symbol']] = {\n",
    "                'gauge': gauge,\n",
    "                'chain': automated_bribe['chain'],\n",
    "                'aura_automated_bribe': automated_bribe['aura_bribes'],\n",
    "                'aura_actual_bribe': round(data['aura'], 2),\n",
    "                'aura_bribe_delta': round(aura_bribe_delta, 2),\n",
    "                'aura_bribe_delta_%': f'{round(aura_bribe_delta_pct, 2)}%',\n",
    "                'bal_automated_bribe': automated_bribe['bal_bribes'],\n",
    "                'bal_actual_bribe': round(data['balancer'], 2),\n",
    "                'bal_bribe_delta': round(bal_bribe_delta, 2),\n",
    "                'bal_bribe_delta_%': f'{round(bal_bribe_delta_pct, 2)}%',\n",
    "            }\n",
    "# To df and print out without index:\n",
    "bribes_delta_df = pd.DataFrame.from_dict(bribes_delta, orient='index')\n",
    "bribes_delta_df.sort_values(by=['chain', 'aura_bribe_delta'], ascending=False)\n",
    "# Also dump to csv\n",
    "bribes_delta_df.to_csv(f'./output/bribes_delta_{arb_datetime_2_weeks_ago.date()}_{arb_datetime_now.date()}.csv')\n",
    "bribes_delta_df"
   ],
   "metadata": {
    "collapsed": false,
    "ExecuteTime": {
     "end_time": "2023-09-28T14:24:14.015627Z",
     "start_time": "2023-09-28T14:24:13.996636Z"
    }
   },
   "id": "17f47521561f3499"
  }
 ],
 "metadata": {
  "kernelspec": {
   "display_name": "Python 3",
   "language": "python",
   "name": "python3"
  },
  "language_info": {
   "codemirror_mode": {
    "name": "ipython",
    "version": 2
   },
   "file_extension": ".py",
   "mimetype": "text/x-python",
   "name": "python",
   "nbconvert_exporter": "python",
   "pygments_lexer": "ipython2",
   "version": "2.7.6"
  }
 },
 "nbformat": 4,
 "nbformat_minor": 5
}
