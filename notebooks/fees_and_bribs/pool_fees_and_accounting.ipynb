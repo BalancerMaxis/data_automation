{
 "cells": [
  {
   "cell_type": "markdown",
   "source": [
    "## Collecting protocol fees across Balancer core pools on all networks\n",
    "- Spreadsheet as reference: https://docs.google.com/spreadsheets/d/1xwUPpbYq7woVOU9vQ8EB8MY75I-1mauTLyDVwvKUDKo/edit#gid=0\n",
    "- Collab: https://colab.research.google.com/drive/1vKCvcV5mkL1zwW3565kLSGkBEbt8NsoB?usp=sharing\n"
   ],
   "metadata": {
    "collapsed": false
   },
   "id": "e739385af75b2478"
  },
  {
   "cell_type": "code",
   "execution_count": 2,
   "outputs": [
    {
     "ename": "KeyError",
     "evalue": "'GNOSISNODEURL'",
     "output_type": "error",
     "traceback": [
      "\u001B[0;31m---------------------------------------------------------------------------\u001B[0m",
      "\u001B[0;31mKeyError\u001B[0m                                  Traceback (most recent call last)",
      "Cell \u001B[0;32mIn[2], line 11\u001B[0m\n\u001B[1;32m      9\u001B[0m \u001B[38;5;28;01mfrom\u001B[39;00m \u001B[38;5;21;01mnotebooks\u001B[39;00m \u001B[38;5;28;01mimport\u001B[39;00m get_block_by_ts\n\u001B[1;32m     10\u001B[0m \u001B[38;5;28;01mfrom\u001B[39;00m \u001B[38;5;21;01mnotebooks\u001B[39;00m \u001B[38;5;28;01mimport\u001B[39;00m get_twap_bpt_price\n\u001B[0;32m---> 11\u001B[0m \u001B[38;5;28;01mfrom\u001B[39;00m \u001B[38;5;21;01mconfig_file\u001B[39;00m \u001B[38;5;28;01mimport\u001B[39;00m CORE_POOLS\n\u001B[1;32m     12\u001B[0m \u001B[38;5;28;01mfrom\u001B[39;00m \u001B[38;5;21;01mconfig_file\u001B[39;00m \u001B[38;5;28;01mimport\u001B[39;00m Chains\n\u001B[1;32m     13\u001B[0m \u001B[38;5;28;01mfrom\u001B[39;00m \u001B[38;5;21;01mconfig_file\u001B[39;00m \u001B[38;5;28;01mimport\u001B[39;00m WEB3_INSTANCES\n",
      "File \u001B[0;32m~/PycharmProjects/data_automation/notebooks/fees_and_bribs/config_file.py:83\u001B[0m\n\u001B[1;32m     81\u001B[0m WEB3_INSTANCES[Chains\u001B[38;5;241m.\u001B[39mPOLYGON\u001B[38;5;241m.\u001B[39mvalue] \u001B[38;5;241m=\u001B[39m poly_web3\n\u001B[1;32m     82\u001B[0m WEB3_INSTANCES[Chains\u001B[38;5;241m.\u001B[39mARBITRUM\u001B[38;5;241m.\u001B[39mvalue] \u001B[38;5;241m=\u001B[39m Web3(Web3\u001B[38;5;241m.\u001B[39mHTTPProvider(os\u001B[38;5;241m.\u001B[39menviron[\u001B[38;5;124m\"\u001B[39m\u001B[38;5;124mARBNODEURL\u001B[39m\u001B[38;5;124m\"\u001B[39m]))\n\u001B[0;32m---> 83\u001B[0m WEB3_INSTANCES[Chains\u001B[38;5;241m.\u001B[39mGNOSIS\u001B[38;5;241m.\u001B[39mvalue] \u001B[38;5;241m=\u001B[39m Web3(Web3\u001B[38;5;241m.\u001B[39mHTTPProvider(\u001B[43mos\u001B[49m\u001B[38;5;241;43m.\u001B[39;49m\u001B[43menviron\u001B[49m\u001B[43m[\u001B[49m\u001B[38;5;124;43m\"\u001B[39;49m\u001B[38;5;124;43mGNOSISNODEURL\u001B[39;49m\u001B[38;5;124;43m\"\u001B[39;49m\u001B[43m]\u001B[49m))\n\u001B[1;32m     84\u001B[0m WEB3_INSTANCES[Chains\u001B[38;5;241m.\u001B[39mBASE\u001B[38;5;241m.\u001B[39mvalue] \u001B[38;5;241m=\u001B[39m Web3(Web3\u001B[38;5;241m.\u001B[39mHTTPProvider(os\u001B[38;5;241m.\u001B[39menviron[\u001B[38;5;124m\"\u001B[39m\u001B[38;5;124mBASENODEURL\u001B[39m\u001B[38;5;124m\"\u001B[39m]))\n\u001B[1;32m     85\u001B[0m WEB3_INSTANCES[Chains\u001B[38;5;241m.\u001B[39mAVALANCHE\u001B[38;5;241m.\u001B[39mvalue] \u001B[38;5;241m=\u001B[39m Web3(Web3\u001B[38;5;241m.\u001B[39mHTTPProvider(os\u001B[38;5;241m.\u001B[39menviron[\u001B[38;5;124m\"\u001B[39m\u001B[38;5;124mAVALANCHENODEURL\u001B[39m\u001B[38;5;124m\"\u001B[39m]))\n",
      "File \u001B[0;32m/opt/homebrew/Cellar/python@3.9/3.9.16/Frameworks/Python.framework/Versions/3.9/lib/python3.9/os.py:679\u001B[0m, in \u001B[0;36m_Environ.__getitem__\u001B[0;34m(self, key)\u001B[0m\n\u001B[1;32m    676\u001B[0m     value \u001B[38;5;241m=\u001B[39m \u001B[38;5;28mself\u001B[39m\u001B[38;5;241m.\u001B[39m_data[\u001B[38;5;28mself\u001B[39m\u001B[38;5;241m.\u001B[39mencodekey(key)]\n\u001B[1;32m    677\u001B[0m \u001B[38;5;28;01mexcept\u001B[39;00m \u001B[38;5;167;01mKeyError\u001B[39;00m:\n\u001B[1;32m    678\u001B[0m     \u001B[38;5;66;03m# raise KeyError with the original key value\u001B[39;00m\n\u001B[0;32m--> 679\u001B[0m     \u001B[38;5;28;01mraise\u001B[39;00m \u001B[38;5;167;01mKeyError\u001B[39;00m(key) \u001B[38;5;28;01mfrom\u001B[39;00m \u001B[38;5;28;01mNone\u001B[39;00m\n\u001B[1;32m    680\u001B[0m \u001B[38;5;28;01mreturn\u001B[39;00m \u001B[38;5;28mself\u001B[39m\u001B[38;5;241m.\u001B[39mdecodevalue(value)\n",
      "\u001B[0;31mKeyError\u001B[0m: 'GNOSISNODEURL'"
     ]
    }
   ],
   "source": [
    "import datetime\n",
    "\n",
    "import pandas as pd\n",
    "from dotenv import load_dotenv\n",
    "\n",
    "load_dotenv()\n",
    "from web3 import Web3\n",
    "\n",
    "from notebooks import get_block_by_ts\n",
    "from notebooks import get_twap_bpt_price\n",
    "from config_file import CORE_POOLS\n",
    "from config_file import Chains\n",
    "from config_file import WEB3_INSTANCES\n",
    "\n",
    "TARGET_BLOCKS = {}\n",
    "timestamp_now = 1695952610\n",
    "timestamp_2_weeks_ago = timestamp_now - (2 * 7 * 24 * 60 * 60)\n",
    "datetime_now = datetime.datetime.fromtimestamp(timestamp_now)\n",
    "datetime_2_weeks_ago = datetime.datetime.fromtimestamp(timestamp_2_weeks_ago)\n",
    "\n",
    "target_blocks = {}\n",
    "bpt_twap_prices = {chain.value: {} for chain in Chains}\n",
    "# Collect BPT prices for 2 weeks ago and now for all relevant pools and chains\n",
    "for chain in Chains:\n",
    "    target_blocks[chain.value] = (\n",
    "        get_block_by_ts(timestamp_now, chain.value),  # Block now\n",
    "        get_block_by_ts(timestamp_2_weeks_ago, chain.value)  # Block 2 weeks ago\n",
    "    )\n",
    "    print(f\"Collecting bpt prices for {chain.value}\")\n",
    "    pools = CORE_POOLS.get(chain.value, None)\n",
    "    if pools is None:\n",
    "        continue\n",
    "    for core_pool in pools:\n",
    "        bpt_twap_prices[chain.value][core_pool] = get_twap_bpt_price(\n",
    "            core_pool, chain.value, getattr(WEB3_INSTANCES, chain.value),\n",
    "            start_date=datetime.datetime.fromtimestamp(timestamp_now), block_number=target_blocks[chain.value][0]\n",
    "        )"
   ],
   "metadata": {
    "collapsed": false,
    "ExecuteTime": {
     "end_time": "2023-10-14T14:37:34.595718Z",
     "start_time": "2023-10-14T14:37:33.878974Z"
    }
   },
   "id": "39d87004addaae1b"
  },
  {
   "cell_type": "markdown",
   "source": [
    "## Fetching fees and other data from the Balancer subgraphs"
   ],
   "metadata": {
    "collapsed": false
   },
   "id": "cde5ffca807e3849"
  },
  {
   "cell_type": "code",
   "execution_count": null,
   "outputs": [],
   "source": [
    "from notebooks.fees_and_bribs.config_file import BALANCER_GRAPH_URLS\n",
    "from notebooks import get_balancer_pool_snapshots\n",
    "from typing import Dict\n",
    "\n",
    "pool_snapshots = {}\n",
    "for chain in Chains:\n",
    "    pool_snapshots[chain.value] = (\n",
    "        get_balancer_pool_snapshots(target_blocks[chain.value][0], BALANCER_GRAPH_URLS[chain.value]),  # now\n",
    "        get_balancer_pool_snapshots(target_blocks[chain.value][1], BALANCER_GRAPH_URLS[chain.value]),  # 2 weeks ago\n",
    "    )"
   ],
   "metadata": {
    "collapsed": false,
    "ExecuteTime": {
     "end_time": "2023-10-14T14:37:34.597121Z",
     "start_time": "2023-10-14T14:37:34.596452Z"
    }
   },
   "id": "e1e0b8b90f62234c"
  },
  {
   "cell_type": "markdown",
   "source": [
    "## Extract fee data for CORE pools:\n"
   ],
   "metadata": {
    "collapsed": false
   },
   "id": "d5333a7de445454d"
  },
  {
   "cell_type": "code",
   "execution_count": null,
   "outputs": [],
   "source": [
    "from collections import defaultdict\n",
    "from decimal import Decimal\n",
    "from notebooks import fetch_token_price_balgql\n",
    "\n",
    "\n",
    "def collect_fee_info(pools: list[str], chain: Chains, pools_now: list[dict], pools_shifted: list[dict],\n",
    "                     start_date: datetime.datetime) -> tuple[dict, dict]:\n",
    "    # Iterate through snapshots now and 2 weeks ago and extract fee data, by subtracting today's fee data from 2 weeks ago\n",
    "    # and then summing across all pools\n",
    "    fees = {}\n",
    "    token_fees = defaultdict(list)\n",
    "    for pool in pools:\n",
    "        current_fees_snapshots = [x for x in pools_now if x['pool']['id'] == pool]\n",
    "        current_fees_snapshots.sort(key=lambda x: x['timestamp'], reverse=True)\n",
    "        fees_2_weeks_ago = [x for x in pools_shifted if x['pool']['id'] == pool]\n",
    "        fees_2_weeks_ago.sort(key=lambda x: x['timestamp'], reverse=True)\n",
    "        # Take first element of list, which is the most recent snapshot\n",
    "        if not current_fees_snapshots or not fees_2_weeks_ago:\n",
    "            continue\n",
    "        pool_snapshot_now = current_fees_snapshots[0]\n",
    "        pool_snapshot_2_weeks_ago = fees_2_weeks_ago[0]\n",
    "        # Now we need to collect token fee info. Let's start with BPT tokens, which is Balancer pool token. Notice,\n",
    "        # That totalProtocolFeePaidInBPT can be null, so we need to check for that\n",
    "        bpt_token_fee = 0\n",
    "        bpt_price_usd = bpt_twap_prices[chain.value][pool]\n",
    "        if bpt_price_usd is None:\n",
    "            bpt_price_usd = 0\n",
    "        if pool_snapshot_now['pool']['totalProtocolFeePaidInBPT'] is not None and pool_snapshot_2_weeks_ago['pool'][\n",
    "            'totalProtocolFeePaidInBPT'] is not None:\n",
    "            bpt_token_fee = float(pool_snapshot_now['pool']['totalProtocolFeePaidInBPT']) - float(\n",
    "                pool_snapshot_2_weeks_ago['pool']['totalProtocolFeePaidInBPT'])\n",
    "            token_fees[pool_snapshot_now['pool']['id']].append({\n",
    "                'symbol': pool_snapshot_now['pool']['symbol'],\n",
    "                'token': pool_snapshot_now['pool']['symbol'],\n",
    "                'token_fee': bpt_token_fee,\n",
    "                'token_price': bpt_price_usd,\n",
    "                'token_fee_in_usd': Decimal(bpt_token_fee) * bpt_price_usd,\n",
    "                'token_addr': pool_snapshot_now['pool']['address'],\n",
    "                'time_from': datetime_2_weeks_ago,\n",
    "                'time_to': datetime_now,\n",
    "                'chain': chain.value,\n",
    "            })\n",
    "        # Now collect fee info about fees paid in pool tokens. Pool tokens fee info is in pool.tokens dictionary. This will be separate dictionary\n",
    "        else:\n",
    "            bpt_price_usd = 0\n",
    "            for token_data in pool_snapshot_now['pool']['tokens']:\n",
    "                token_data_2_weeks_ago = \\\n",
    "                    [t for t in pool_snapshot_2_weeks_ago['pool']['tokens'] if t['address'] == token_data['address']][0]\n",
    "                token_fee = float(token_data.get('paidProtocolFees', None)) - float(\n",
    "                    token_data_2_weeks_ago.get('paidProtocolFees', None))\n",
    "                # Get twap token price from CoinGecko\n",
    "                token_price = fetch_token_price_balgql(token_data['address'], chain.value, start_date) or 0\n",
    "                token_fees[pool_snapshot_now['pool']['id']].append({\n",
    "                    'symbol': pool_snapshot_now['pool']['symbol'],\n",
    "                    'token': token_data['symbol'],\n",
    "                    'token_fee': token_fee,\n",
    "                    'token_price': token_price,\n",
    "                    'token_fee_in_usd': Decimal(token_fee) * token_price if token_price is not None else 0,\n",
    "                    'token_addr': token_data['address'],\n",
    "                    'time_from': datetime_2_weeks_ago,\n",
    "                    'time_to': datetime_now,\n",
    "                    'chain': chain.value,\n",
    "                })\n",
    "        # Calculate non-BPT fees in USD\n",
    "        fees[pool_snapshot_now['pool']['id']] = {\n",
    "            'symbol': pool_snapshot_now['pool']['symbol'],\n",
    "            'pool_addr': pool_snapshot_now['pool']['address'],\n",
    "            'bpt_token_fee': round(bpt_token_fee, 2),\n",
    "            # Get fee in USD by multiplying bpt_token_fee by price of BPT token taken from twap_bpt_price\n",
    "            'bpt_token_fee_in_usd': round(Decimal(bpt_token_fee) * bpt_price_usd, 2),\n",
    "            'token_fees_in_usd': round(sum([x['token_fee_in_usd'] for x in\n",
    "                                            token_fees[\n",
    "                                                pool_snapshot_now['pool']['symbol']]]) if bpt_price_usd == 0 else 0, 2),\n",
    "            'time_from': datetime_2_weeks_ago,\n",
    "            'time_to': datetime_now,\n",
    "            'chain': chain.value,\n",
    "            'token_fees': token_fees[pool_snapshot_now['pool']['symbol']]\n",
    "        }\n",
    "    return fees\n",
    "\n",
    "\n",
    "collected_fees = {}\n",
    "\n",
    "for chain in Chains:\n",
    "    core_pools = CORE_POOLS.get(chain.value, None)\n",
    "    if not core_pools:\n",
    "        continue\n",
    "    collected_fees[chain.value] = collect_fee_info(core_pools, chain, pool_snapshots[chain.value][0],\n",
    "                                                   pool_snapshots[chain.value][1], datetime_now)\n",
    "# Convert to dataframe, sort by chain and pool fee\n",
    "joint_fees = {**collected_fees[Chains.MAINNET.value], **collected_fees[Chains.ARBITRUM.value],\n",
    "              **collected_fees[Chains.POLYGON.value], **collected_fees[Chains.BASE.value],\n",
    "              **collected_fees[Chains.AVALANCHE.value]}\n",
    "joint_fees_df = pd.DataFrame.from_dict(joint_fees, orient='index')"
   ],
   "metadata": {
    "collapsed": false,
    "ExecuteTime": {
     "end_time": "2023-10-14T14:37:34.608511Z",
     "start_time": "2023-10-14T14:37:34.598119Z"
    }
   },
   "id": "e79b2f6a4ead2cad"
  },
  {
   "cell_type": "code",
   "execution_count": null,
   "outputs": [],
   "source": [
    "# Remove `token_fees` field from dataframe, as it's too big\n",
    "joint_fees_df_copy = joint_fees_df.drop(columns=['token_fees'])\n",
    "# Display all rows in dataframe\n",
    "pd.set_option('display.max_rows', 1000)\n",
    "joint_fees_df_copy.sort_values(by=['chain'], ascending=False)"
   ],
   "metadata": {
    "collapsed": false,
    "ExecuteTime": {
     "start_time": "2023-10-14T14:37:34.599846Z"
    }
   },
   "id": "52fccc19e5e6b4f2"
  },
  {
   "cell_type": "markdown",
   "source": [
    "## Now let's calculate bribes paid to the pools and save them to csv"
   ],
   "metadata": {
    "collapsed": false
   },
   "id": "97a5370819f28ffc"
  },
  {
   "cell_type": "code",
   "execution_count": null,
   "outputs": [],
   "source": [
    "from notebooks.fees_and_bribs.config_file import MIN_AURA_BRIB\n",
    "from notebooks.fees_and_bribs.config_file import FEE_TAKEN\n",
    "from notebooks.fees_and_bribs.config_file import REROUTE_CONFIG\n",
    "from notebooks import calculate_aura_vebal_share\n",
    "\n",
    "aura_vebal_share = calculate_aura_vebal_share(WEB3_INSTANCES.mainnet, target_blocks[Chains.MAINNET.value][0])\n",
    "\n",
    "# Bribes are split per chain and per pool, with each pool getting a share of the bribe proportional to its share of fees\n",
    "# paid by all pools on that chain. For example, if pool A paid 10% of all fees on Arbitrum, it will get 10% of the bribes. That 10% will be distributed between aura and vebal, proportional to their share of the bribe.\n",
    "\n",
    "\n",
    "# TODO  Check that there are this many USD in the safe\n",
    "FEES_TO_DISTRIBUTE = {\n",
    "    Chains.MAINNET.value: Decimal(112945.77),\n",
    "    Chains.ARBITRUM.value: Decimal(39481.82),\n",
    "    Chains.POLYGON.value: Decimal(6592.87),\n",
    "    Chains.BASE.value: Decimal(10260.35),\n",
    "    Chains.GNOSIS.value: Decimal(2503.21),\n",
    "    Chains.AVALANCHE.value: Decimal(10297),\n",
    "}\n",
    "\n",
    "\n",
    "# Let's calculate share of fees paid by each pool on each chain\n",
    "def calc_and_split_bribes(fees: Dict, chain: str, fees_to_distribute: Decimal) -> Dict[str, Dict]:\n",
    "    pool_bribs = {}\n",
    "    dao_fess += 0.15 * FEES_TO_DISTRIBUTE\n",
    "    vebal += 0.35 * FEES_TO_DISTRIBUTE\n",
    "    bribe = 0.5 * FEES_TO_DISTRIBUTE\n",
    "    \n",
    "    # Calculate pool share in fees\n",
    "    bpt_fees = sum([data['bpt_token_fee_in_usd'] for pool, data in fees.items()])\n",
    "    token_fees = sum([data['token_fees_in_usd'] for pool, data in fees.items()])\n",
    "    total_fees = bpt_fees + token_fees\n",
    "    for pool, data in fees.items():\n",
    "        pool_fees = data['bpt_token_fee_in_usd'] + data['token_fees_in_usd']\n",
    "        pool_share = pool_fees / Decimal(total_fees)\n",
    "        # If aura bribes is less than 500 USDC, we pay all bribes to balancer\n",
    "        aura_bribes = round(pool_share * fees_to_distribute * aura_vebal_share * FEE_TAKEN, 2)\n",
    "        if aura_bribes <= Decimal(MIN_AURA_BRIB):\n",
    "            aura_bribes = Decimal(0)\n",
    "            bal_bribes = round(pool_share * fees_to_distribute * FEE_TAKEN, 2)\n",
    "        else:\n",
    "            bal_bribes = round(pool_share * fees_to_distribute * (1 - aura_vebal_share) * FEE_TAKEN, 2)\n",
    "\n",
    "        # Split fees between aura and bal fees\n",
    "        pool_bribs[pool] = {\n",
    "            \"symbol\": data['symbol'],\n",
    "            \"chain\": chain,\n",
    "            \"aura_bribes\": aura_bribes,\n",
    "            \"bal_bribes\": bal_bribes,\n",
    "            \"protocol_fees_collected\": pool_fees,\n",
    "            \"pool_addr\": data['pool_addr'],\n",
    "        }\n",
    "    return pool_bribs\n",
    "\n",
    "def re_route_bribs(bribes_data: Dict[str, Dict], chain: Chains) -> Dict[str, Dict]:\n",
    "    \"\"\"\n",
    "    If pool is in re-route configuration, all bribes from that pool should be distributed to destination pool\n",
    "      Ex: {source_pool: destination_pool}\n",
    "    \"\"\"\n",
    "    if not chain.value in REROUTE_CONFIG:\n",
    "        return bribes_data\n",
    "    for pool_id, _data in bribes_data.items():\n",
    "        if pool_id in REROUTE_CONFIG[chain.value]:\n",
    "            # Re route everything to destination pool and set source pool bribes to 0\n",
    "            bribes_data[REROUTE_CONFIG[pool_id]]['aura_bribes'] += _data['aura_bribes']\n",
    "            bribes_data[REROUTE_CONFIG[pool_id]]['bal_bribes'] += _data['bal_bribes']\n",
    "            bribes_data[pool_id]['aura_bribes'] = 0\n",
    "            bribes_data[pool_id]['bal_bribes'] = 0\n",
    "    return bribes_data\n",
    "\n",
    "\n",
    "bribes = {}\n",
    "for chain in Chains:\n",
    "    if not collected_fees.get(chain.value):\n",
    "        continue\n",
    "    _bribs = calc_and_split_bribes(collected_fees[chain.value], chain.value,\n",
    "                                                FEES_TO_DISTRIBUTE[chain.value])\n",
    "    # Reroute bribes if needed\n",
    "    bribs = re_route_bribs(_bribs, chain)\n",
    "    bribes[chain.value] = bribs\n",
    "    \n",
    "joint_bribes_data = {**bribes[Chains.MAINNET.value], **bribes[Chains.ARBITRUM.value],\n",
    "                     **bribes[Chains.POLYGON.value], **bribes[Chains.BASE.value], **bribes[Chains.AVALANCHE.value]}\n",
    "# Sort by chain:\n",
    "joint_bribes_data = {k: v for k, v in sorted(joint_bribes_data.items(), key=lambda item: item[1]['chain'])}\n",
    "joint_bribes_df = pd.DataFrame.from_dict(joint_bribes_data, orient='index')\n",
    "# Sort by chain\n",
    "# Dump into csv and prefix with dates\n",
    "joint_bribes_df.to_csv(f'./output/bribes_{datetime_2_weeks_ago.date()}_{datetime_now.date()}.csv')\n",
    "joint_bribes_df"
   ],
   "metadata": {
    "collapsed": false,
    "ExecuteTime": {
     "start_time": "2023-10-14T14:37:34.601838Z"
    }
   },
   "id": "efdef306c522076a"
  },
  {
   "cell_type": "markdown",
   "source": [
    "## Compare data from the sheet with the data we collected\n",
    "What does table below represent:\n",
    "- aura_automated_bribe: bribes paid to aura per pool calculated in this notebook\n",
    "- aura_actual_bribe: actual bribes paid to aura per pool from the sheet\n",
    "- aura_bribe_delta: difference between aura_automated_bribe and aura_actual_bribe\n",
    "- aura_bribe_delta_%: difference between aura_automated_bribe and aura_actual_bribe in %\n",
    "\n",
    "Same thing for balancer side:\n",
    "- bal_automated_bribe: bribes paid to balancer per pool calculated in this notebook\n",
    "- bal_actual_bribe: actual bribes paid to balancer per pool from the sheet\n",
    "- bal_bribe_delta: difference between bal_automated_bribe and bal_actual_bribe\n",
    "- bal_bribe_delta_%: difference between bal_automated_bribe and bal_actual_bribe in %"
   ],
   "metadata": {
    "collapsed": false
   },
   "id": "ab029ab946741672"
  },
  {
   "cell_type": "code",
   "execution_count": null,
   "outputs": [],
   "source": [
    "from notebooks import fetch_all_pools_info\n",
    "\n",
    "mapped_gauges = {}\n",
    "\n",
    "for chain in Chains:\n",
    "    pools_info = fetch_all_pools_info(chain.value)\n",
    "    mapped_gauges[chain.value] = {pool_info['address']: Web3.to_checksum_address(pool_info['gauge']['address']) for\n",
    "                                  pool_info in pools_info}"
   ],
   "metadata": {
    "collapsed": false,
    "ExecuteTime": {
     "start_time": "2023-10-14T14:37:34.603238Z"
    }
   },
   "id": "93d3b07a2ccb9a32"
  },
  {
   "cell_type": "code",
   "execution_count": null,
   "outputs": [],
   "source": [
    "# Load csv sheet to compare with the data collected above:\n",
    "bribes_df = pd.read_csv('compare_sheet.csv')\n",
    "# To dict:\n",
    "bribes_to_compare = bribes_df.to_dict(orient='records')\n",
    "# Each dict in list needs target to be Web3.toChecksumAddress\n",
    "bribes_csv_checksummed = []\n",
    "for bribe in bribes_to_compare:\n",
    "    bribes_csv_checksummed.append({\n",
    "        'target': Web3.to_checksum_address(bribe['target']),\n",
    "        'platform': bribe['platform'],\n",
    "        'amount': bribe['amount'],\n",
    "    })\n",
    "# These are bribes paid de-facto, so we need to convert them to the same format as we have in our data\n",
    "bribes_final_csv = {}\n",
    "for bribe in bribes_csv_checksummed:\n",
    "    if bribe['target'] not in bribes_final_csv:\n",
    "        bribes_final_csv[bribe['target']] = {}\n",
    "    bribes_final_csv[bribe['target']][bribe['platform']] = Decimal(bribe['amount'])"
   ],
   "metadata": {
    "collapsed": false,
    "ExecuteTime": {
     "start_time": "2023-10-14T14:37:34.604510Z"
    }
   },
   "id": "533bf5074506799f"
  },
  {
   "cell_type": "code",
   "execution_count": null,
   "outputs": [],
   "source": [
    "# Now we need to compare the data we collected with the data from the sheet\n",
    "# We need to compare bribes paid to each pool\n",
    "joint_bribes_dict = joint_bribes_df.to_dict(orient='records')\n",
    "bribes_delta = {}\n",
    "for gauge, data in bribes_final_csv.items():\n",
    "    for automated_bribe in joint_bribes_dict:\n",
    "        filtered_gauges = mapped_gauges[automated_bribe['chain']]\n",
    "        # If this condition is true, we can compare the bribes\n",
    "        if filtered_gauges[automated_bribe['pool_addr']] == gauge:\n",
    "            # Calculate delta between automated bribes and bribes from the sheet\n",
    "            # Calculate delta between automated_bribe['aura_bribes'] and data['aura'] in %\n",
    "            if automated_bribe['aura_bribes'] > data['aura']:\n",
    "                aura_bribe_delta = automated_bribe['aura_bribes'] - data['aura']\n",
    "                aura_bribe_delta_pct = (automated_bribe['aura_bribes'] - data['aura']) / data['aura'] * 100 if \\\n",
    "                    data['aura'] != 0 else 0\n",
    "            else:\n",
    "                aura_bribe_delta = data['aura'] - automated_bribe['aura_bribes']\n",
    "                aura_bribe_delta_pct = (data['aura'] - automated_bribe['aura_bribes']) / data['aura'] * 100 if \\\n",
    "                    data['aura'] != 0 else 0\n",
    "            if automated_bribe['bal_bribes'] > data['balancer']:\n",
    "                bal_bribe_delta = automated_bribe['bal_bribes'] - data['balancer']\n",
    "                bal_bribe_delta_pct = (automated_bribe['bal_bribes'] - data['balancer']) / data['balancer'] * 100 if \\\n",
    "                    data['balancer'] != 0 else 0\n",
    "            else:\n",
    "                bal_bribe_delta = data['balancer'] - automated_bribe['bal_bribes']\n",
    "                bal_bribe_delta_pct = (data['balancer'] - automated_bribe['bal_bribes']) / data['balancer'] * 100 if \\\n",
    "                    data['balancer'] != 0 else 0\n",
    "            bribes_delta[gauge] = {\n",
    "                'symbol': automated_bribe['symbol'],\n",
    "                'chain': automated_bribe['chain'],\n",
    "                'aura_automated_bribe': automated_bribe['aura_bribes'],\n",
    "                'aura_actual_bribe': round(data['aura'], 2),\n",
    "                'aura_bribe_delta': round(aura_bribe_delta, 2),\n",
    "                'aura_bribe_delta_%': f'{round(aura_bribe_delta_pct, 2)}%',\n",
    "                'bal_automated_bribe': automated_bribe['bal_bribes'],\n",
    "                'bal_actual_bribe': round(data['balancer'], 2),\n",
    "                'bal_bribe_delta': round(bal_bribe_delta, 2),\n",
    "                'bal_bribe_delta_%': f'{round(bal_bribe_delta_pct, 2)}%',\n",
    "            }\n",
    "# To df and print out without index:\n",
    "bribes_delta_df = pd.DataFrame.from_dict(bribes_delta, orient='index')\n",
    "bribes_delta_df.sort_values(by=['chain', 'aura_bribe_delta'], ascending=False)\n",
    "# Also dump to csv\n",
    "bribes_delta_df.to_csv(f'./output/bribes_delta_{datetime_2_weeks_ago.date()}_{datetime_now.date()}.csv')\n",
    "bribes_delta_df"
   ],
   "metadata": {
    "collapsed": false,
    "ExecuteTime": {
     "start_time": "2023-10-14T14:37:34.605685Z"
    }
   },
   "id": "17f47521561f3499"
  }
 ],
 "metadata": {
  "kernelspec": {
   "display_name": "Python 3",
   "language": "python",
   "name": "python3"
  },
  "language_info": {
   "codemirror_mode": {
    "name": "ipython",
    "version": 2
   },
   "file_extension": ".py",
   "mimetype": "text/x-python",
   "name": "python",
   "nbconvert_exporter": "python",
   "pygments_lexer": "ipython2",
   "version": "2.7.6"
  }
 },
 "nbformat": 4,
 "nbformat_minor": 5
}
