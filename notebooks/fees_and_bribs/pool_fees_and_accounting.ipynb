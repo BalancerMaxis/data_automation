{
 "cells": [
  {
   "cell_type": "markdown",
   "source": [
    "## Collecting protocol fees across Balancer core pools on all networks\n",
    "- Spreadsheet as reference: https://docs.google.com/spreadsheets/d/1xwUPpbYq7woVOU9vQ8EB8MY75I-1mauTLyDVwvKUDKo/edit#gid=0\n",
    "- Collab: https://colab.research.google.com/drive/1vKCvcV5mkL1zwW3565kLSGkBEbt8NsoB?usp=sharing\n"
   ],
   "metadata": {
    "collapsed": false
   },
   "id": "e739385af75b2478"
  },
  {
   "cell_type": "code",
   "execution_count": 11,
   "outputs": [
    {
     "name": "stdout",
     "output_type": "stream",
     "text": [
      "Collecting bpt prices for polygon\n",
      "Collecting bpt prices for mainnet\n",
      "Collecting bpt prices for arbitrum\n",
      "Collecting bpt prices for gnosis\n",
      "Collecting bpt prices for avalanche\n",
      "Collecting bpt prices for base\n"
     ]
    }
   ],
   "source": [
    "import datetime\n",
    "import json\n",
    "\n",
    "import pandas as pd\n",
    "from dotenv import load_dotenv\n",
    "\n",
    "load_dotenv()\n",
    "\n",
    "from notebooks import get_block_by_ts\n",
    "from notebooks import get_twap_bpt_price\n",
    "from config_file import Chains\n",
    "from config_file import WEB3_INSTANCES\n",
    "\n",
    "# Load config file\n",
    "with open('./protocol_fees_config.json') as f:\n",
    "    CONFIG = json.load(f)['config']\n",
    "CORE_POOLS = CONFIG['core_pools']\n",
    "REROUTE_CONFIG = CONFIG['reroute_config']\n",
    "MIN_AURA_BRIB = CONFIG['min_aura_bribe']\n",
    "\n",
    "TARGET_BLOCKS = {}\n",
    "timestamp_now = 1695952610\n",
    "timestamp_2_weeks_ago = timestamp_now - (2 * 7 * 24 * 60 * 60)\n",
    "datetime_now = datetime.datetime.fromtimestamp(timestamp_now)\n",
    "datetime_2_weeks_ago = datetime.datetime.fromtimestamp(timestamp_2_weeks_ago)\n",
    "\n",
    "target_blocks = {}\n",
    "bpt_twap_prices = {chain.value: {} for chain in Chains}\n",
    "# Collect BPT prices for 2 weeks ago and now for all relevant pools and chains\n",
    "for chain in Chains:\n",
    "    target_blocks[chain.value] = (\n",
    "        get_block_by_ts(timestamp_now, chain.value),  # Block now\n",
    "        get_block_by_ts(timestamp_2_weeks_ago, chain.value)  # Block 2 weeks ago\n",
    "    )\n",
    "    print(f\"Collecting bpt prices for {chain.value}\")\n",
    "    pools = CORE_POOLS.get(chain.value, None)\n",
    "    if pools is None:\n",
    "        continue\n",
    "    for core_pool in pools:\n",
    "        bpt_twap_prices[chain.value][core_pool] = get_twap_bpt_price(\n",
    "            core_pool, chain.value, getattr(WEB3_INSTANCES, chain.value),\n",
    "            start_date=datetime.datetime.fromtimestamp(timestamp_now), block_number=target_blocks[chain.value][0]\n",
    "        )"
   ],
   "metadata": {
    "collapsed": false,
    "ExecuteTime": {
     "end_time": "2023-10-14T16:53:30.001820Z",
     "start_time": "2023-10-14T16:49:28.800909Z"
    }
   },
   "id": "39d87004addaae1b"
  },
  {
   "cell_type": "markdown",
   "source": [
    "## Fetching fees and other data from the Balancer subgraphs"
   ],
   "metadata": {
    "collapsed": false
   },
   "id": "cde5ffca807e3849"
  },
  {
   "cell_type": "code",
   "execution_count": 12,
   "outputs": [],
   "source": [
    "from notebooks.fees_and_bribs.config_file import BALANCER_GRAPH_URLS\n",
    "from notebooks import get_balancer_pool_snapshots\n",
    "from typing import Dict\n",
    "\n",
    "pool_snapshots = {}\n",
    "for chain in Chains:\n",
    "    pool_snapshots[chain.value] = (\n",
    "        get_balancer_pool_snapshots(target_blocks[chain.value][0], BALANCER_GRAPH_URLS[chain.value]),  # now\n",
    "        get_balancer_pool_snapshots(target_blocks[chain.value][1], BALANCER_GRAPH_URLS[chain.value]),  # 2 weeks ago\n",
    "    )"
   ],
   "metadata": {
    "collapsed": false,
    "ExecuteTime": {
     "end_time": "2023-10-14T16:54:45.884480Z",
     "start_time": "2023-10-14T16:53:30.055768Z"
    }
   },
   "id": "e1e0b8b90f62234c"
  },
  {
   "cell_type": "markdown",
   "source": [
    "## Extract fee data for CORE pools:\n"
   ],
   "metadata": {
    "collapsed": false
   },
   "id": "d5333a7de445454d"
  },
  {
   "cell_type": "code",
   "execution_count": 13,
   "outputs": [],
   "source": [
    "from collections import defaultdict\n",
    "from decimal import Decimal\n",
    "from notebooks import fetch_token_price_balgql\n",
    "\n",
    "\n",
    "def collect_fee_info(pools: list[str], chain: Chains, pools_now: list[dict], pools_shifted: list[dict],\n",
    "                     start_date: datetime.datetime) -> tuple[dict, dict]:\n",
    "    # Iterate through snapshots now and 2 weeks ago and extract fee data, by subtracting today's fee data from 2 weeks ago\n",
    "    # and then summing across all pools\n",
    "    fees = {}\n",
    "    token_fees = defaultdict(list)\n",
    "    for pool in pools:\n",
    "        current_fees_snapshots = [x for x in pools_now if x['pool']['id'] == pool]\n",
    "        current_fees_snapshots.sort(key=lambda x: x['timestamp'], reverse=True)\n",
    "        fees_2_weeks_ago = [x for x in pools_shifted if x['pool']['id'] == pool]\n",
    "        fees_2_weeks_ago.sort(key=lambda x: x['timestamp'], reverse=True)\n",
    "        # If pools doesn't have current fees it means it was not created yet, so we skip it\n",
    "        if not current_fees_snapshots:\n",
    "            continue\n",
    "        pool_snapshot_now = current_fees_snapshots[0]\n",
    "        pool_snapshot_2_weeks_ago = fees_2_weeks_ago[0]\n",
    "        # Now we need to collect token fee info. Let's start with BPT tokens, which is Balancer pool token. Notice,\n",
    "        # That totalProtocolFeePaidInBPT can be null, so we need to check for that\n",
    "        bpt_token_fee = 0\n",
    "        bpt_price_usd = bpt_twap_prices[chain.value][pool]\n",
    "        if bpt_price_usd is None:\n",
    "            bpt_price_usd = 0\n",
    "        if pool_snapshot_now['pool']['totalProtocolFeePaidInBPT']:\n",
    "            bpt_token_fee = float(pool_snapshot_now['pool']['totalProtocolFeePaidInBPT']) - float(\n",
    "                pool_snapshot_2_weeks_ago['pool']['totalProtocolFeePaidInBPT'] or 0)  # If 2 weeks ago is null, set to 0\n",
    "            token_fees[pool_snapshot_now['pool']['id']].append({\n",
    "                'symbol': pool_snapshot_now['pool']['symbol'],\n",
    "                'token': pool_snapshot_now['pool']['symbol'],\n",
    "                'token_fee': bpt_token_fee,\n",
    "                'token_price': bpt_price_usd,\n",
    "                'token_fee_in_usd': Decimal(bpt_token_fee) * bpt_price_usd,\n",
    "                'token_addr': pool_snapshot_now['pool']['address'],\n",
    "                'time_from': datetime_2_weeks_ago,\n",
    "                'time_to': datetime_now,\n",
    "                'chain': chain.value,\n",
    "            })\n",
    "        # Now collect fee info about fees paid in pool tokens. Pool tokens fee info is in pool.tokens dictionary. This will be separate dictionary\n",
    "        else:\n",
    "            bpt_price_usd = 0\n",
    "            for token_data in pool_snapshot_now['pool']['tokens']:\n",
    "                token_data_2_weeks_ago = \\\n",
    "                    [t for t in pool_snapshot_2_weeks_ago['pool']['tokens'] if t['address'] == token_data['address']][0]\n",
    "                token_fee = float(token_data.get('paidProtocolFees', None)) - float(\n",
    "                    token_data_2_weeks_ago.get('paidProtocolFees', None) or 0)\n",
    "                # Get twap token price from Balancer API\n",
    "                token_price = fetch_token_price_balgql(token_data['address'], chain.value, start_date) or 0\n",
    "                token_fees[pool_snapshot_now['pool']['id']].append({\n",
    "                    'symbol': pool_snapshot_now['pool']['symbol'],\n",
    "                    'token': token_data['symbol'],\n",
    "                    'token_fee': token_fee,\n",
    "                    'token_price': token_price,\n",
    "                    'token_fee_in_usd': Decimal(token_fee) * token_price if token_price is not None else 0,\n",
    "                    'token_addr': token_data['address'],\n",
    "                    'time_from': datetime_2_weeks_ago,\n",
    "                    'time_to': datetime_now,\n",
    "                    'chain': chain.value,\n",
    "                })\n",
    "        # Calculate non-BPT fees in USD\n",
    "        fees[pool_snapshot_now['pool']['id']] = {\n",
    "            'symbol': pool_snapshot_now['pool']['symbol'],\n",
    "            'pool_addr': pool_snapshot_now['pool']['address'],\n",
    "            'bpt_token_fee': round(bpt_token_fee, 2),\n",
    "            # Get fee in USD by multiplying bpt_token_fee by price of BPT token taken from twap_bpt_price\n",
    "            'bpt_token_fee_in_usd': round(Decimal(bpt_token_fee) * bpt_price_usd, 2),\n",
    "            'token_fees_in_usd': round(sum([x['token_fee_in_usd'] for x in\n",
    "                                            token_fees[pool_snapshot_now['pool']['id']]]) if bpt_price_usd == 0 else 0,\n",
    "                                       2),\n",
    "            'time_from': datetime_2_weeks_ago,\n",
    "            'time_to': datetime_now,\n",
    "            'chain': chain.value,\n",
    "            'token_fees': token_fees[pool_snapshot_now['pool']['symbol']]\n",
    "        }\n",
    "    return fees\n",
    "\n",
    "\n",
    "collected_fees = {}\n",
    "\n",
    "for chain in Chains:\n",
    "    core_pools = CORE_POOLS.get(chain.value, None)\n",
    "    if not core_pools:\n",
    "        continue\n",
    "    collected_fees[chain.value] = collect_fee_info(core_pools, chain, pool_snapshots[chain.value][0],\n",
    "                                                   pool_snapshots[chain.value][1], datetime_now)\n",
    "# Convert to dataframe, sort by chain and pool fee\n",
    "joint_fees = {**collected_fees[Chains.MAINNET.value], **collected_fees[Chains.ARBITRUM.value],\n",
    "              **collected_fees[Chains.POLYGON.value], **collected_fees[Chains.BASE.value],\n",
    "              **collected_fees[Chains.AVALANCHE.value]}\n",
    "joint_fees_df = pd.DataFrame.from_dict(joint_fees, orient='index')"
   ],
   "metadata": {
    "collapsed": false,
    "ExecuteTime": {
     "end_time": "2023-10-14T16:54:54.888352Z",
     "start_time": "2023-10-14T16:54:45.892771Z"
    }
   },
   "id": "e79b2f6a4ead2cad"
  },
  {
   "cell_type": "code",
   "execution_count": 14,
   "outputs": [
    {
     "data": {
      "text/plain": "                                                                     symbol  \\\n0xee278d943584dd8640eaf4cc6c7a5c80c0073e8500020...       ECLP-WMATIC-MATICX   \n0xf0ad209e2e969eaaa8c882aac71f02d8a047d5c200020...      ECLP-WMATIC-stMATIC   \n0x1ee442b5326009bb18f2f472d3e0061513d1a0ff00020...          50rETH-50BADGER   \n0x1e19cf2d73a72ef1332c882f20534b6519be027600020...            B-rETH-STABLE   \n0x37b18b10ce5635a84834b26095a0ae5639dcb75200000...            ETHx-WETH-BPT   \n0x42ed016f826165c2e5976fe5bc3df540c5ad0af700000...  wstETH-rETH-sfrxETH-BPT   \n0x36be1e97ea98ab43b4debf92742517266f5731a300020...           50wstETH-50ACX   \n0x3ff3a210e57cfe679d9ad1e9ba6453a716c56a2e00020...                 STG/USDC   \n0x9f9d900462492d4c21e9523ca95a7cd86142f29800020...             50rETH-50RPL   \n0x93d199263632a4ef4bb438f1feb99e57b4b5f0bd00000...          wstETH-WETH-BPT   \n0x5f1f4e50ba51d723f12385a8a9606afc3a0555f500020...           50wstETH-50LDO   \n0xdfe6e7e18f6cc65fa13c8d8966013d4fda74b6ba00000...           ankrETH/wstETH   \n0x8353157092ed8be69a9df8f95af097bbf33cb2af00000...            GHO/USDT/USDC   \n0xb08885e6026bab4333a80024ec25a1a3e1ff2b8a00020...   B-staFiETH-WETH-Stable   \n0xf16aee6a71af1a9bc8f56975a4c2705ca7a782bc00020...            20WETH-80ALCX   \n0xf7a826d47c8e02835d94fb0aa40f0cc9505cb13400020...        ECLP-wstETH-cbETH   \n0xe7e2c68d3b13d905bbb636709cf4dfd21076b9d200000...           swETH-WETH-BPT   \n0xf01b0684c98cd7ada480bfdf6e43876422fa1fc100020...         ECLP-wstETH-wETH   \n0xfb4c2e6e6e27b5b4a07a36360c89ede29bb3c9b600000...               cbETH/WETH   \n0x0c659734f1eef9c63b7ebdf78a164cdd745586db00000...       USDC/USDbC/axlUSDC   \n0xc771c1a5905420daec317b154eb13e4198ba97d000000...            rETH-WETH-BPT   \n0xb26f0e66317846bd5fe0cbaa1d269f0efeb05c9600000...            USDC-USDT-BPT   \n0x9fa6ab3d78984a69e712730a2227f20bcc8b5ad900000...         yyAVAX-WAVAX-BPT   \n0xc13546b97b9b1b15372368dc06529d7191081f5b00000...         ggAVAX-WAVAX-BPT   \n0xfd2620c9cfcec7d152467633b3b0ca338d3d78cc00000...          sAVAX-WAVAX-BPT   \n0x55bec22f8f6c69137ceaf284d9b441db1b9bfedc00020...                      BPT   \n0x3fd4954a851ead144c2ff72b1f5a38ea5976bd5400000...       ankrETH/wstETH-BPT   \n0x0c8972437a38b389ec83d1e666b69b8a4fcf8bfd00000...      wstETH/rETH/sfrxETH   \n0x32df62dc3aed2cd6224193052ce665dc1816584100020...                RDNT-WETH   \n0x423a1323c871abc9d89eb06855bf5347048fc4a500000...                4POOL-BPT   \n0x4a2f6ae7f3e5d715689530873ec35593dc28951b00000...        wstETH/rETH/cbETH   \n0x9791d590788598535278552eecd4b211bfc790cb00000...          wstETH-WETH-BPT   \n0xade4a71bb62bec25154cfc7e6ff49a513b491e8100000...            rETH-WETH-BPT   \n\n                                                                                     pool_addr  \\\n0xee278d943584dd8640eaf4cc6c7a5c80c0073e8500020...  0xee278d943584dd8640eaf4cc6c7a5c80c0073e85   \n0xf0ad209e2e969eaaa8c882aac71f02d8a047d5c200020...  0xf0ad209e2e969eaaa8c882aac71f02d8a047d5c2   \n0x1ee442b5326009bb18f2f472d3e0061513d1a0ff00020...  0x1ee442b5326009bb18f2f472d3e0061513d1a0ff   \n0x1e19cf2d73a72ef1332c882f20534b6519be027600020...  0x1e19cf2d73a72ef1332c882f20534b6519be0276   \n0x37b18b10ce5635a84834b26095a0ae5639dcb75200000...  0x37b18b10ce5635a84834b26095a0ae5639dcb752   \n0x42ed016f826165c2e5976fe5bc3df540c5ad0af700000...  0x42ed016f826165c2e5976fe5bc3df540c5ad0af7   \n0x36be1e97ea98ab43b4debf92742517266f5731a300020...  0x36be1e97ea98ab43b4debf92742517266f5731a3   \n0x3ff3a210e57cfe679d9ad1e9ba6453a716c56a2e00020...  0x3ff3a210e57cfe679d9ad1e9ba6453a716c56a2e   \n0x9f9d900462492d4c21e9523ca95a7cd86142f29800020...  0x9f9d900462492d4c21e9523ca95a7cd86142f298   \n0x93d199263632a4ef4bb438f1feb99e57b4b5f0bd00000...  0x93d199263632a4ef4bb438f1feb99e57b4b5f0bd   \n0x5f1f4e50ba51d723f12385a8a9606afc3a0555f500020...  0x5f1f4e50ba51d723f12385a8a9606afc3a0555f5   \n0xdfe6e7e18f6cc65fa13c8d8966013d4fda74b6ba00000...  0xdfe6e7e18f6cc65fa13c8d8966013d4fda74b6ba   \n0x8353157092ed8be69a9df8f95af097bbf33cb2af00000...  0x8353157092ed8be69a9df8f95af097bbf33cb2af   \n0xb08885e6026bab4333a80024ec25a1a3e1ff2b8a00020...  0xb08885e6026bab4333a80024ec25a1a3e1ff2b8a   \n0xf16aee6a71af1a9bc8f56975a4c2705ca7a782bc00020...  0xf16aee6a71af1a9bc8f56975a4c2705ca7a782bc   \n0xf7a826d47c8e02835d94fb0aa40f0cc9505cb13400020...  0xf7a826d47c8e02835d94fb0aa40f0cc9505cb134   \n0xe7e2c68d3b13d905bbb636709cf4dfd21076b9d200000...  0xe7e2c68d3b13d905bbb636709cf4dfd21076b9d2   \n0xf01b0684c98cd7ada480bfdf6e43876422fa1fc100020...  0xf01b0684c98cd7ada480bfdf6e43876422fa1fc1   \n0xfb4c2e6e6e27b5b4a07a36360c89ede29bb3c9b600000...  0xfb4c2e6e6e27b5b4a07a36360c89ede29bb3c9b6   \n0x0c659734f1eef9c63b7ebdf78a164cdd745586db00000...  0x0c659734f1eef9c63b7ebdf78a164cdd745586db   \n0xc771c1a5905420daec317b154eb13e4198ba97d000000...  0xc771c1a5905420daec317b154eb13e4198ba97d0   \n0xb26f0e66317846bd5fe0cbaa1d269f0efeb05c9600000...  0xb26f0e66317846bd5fe0cbaa1d269f0efeb05c96   \n0x9fa6ab3d78984a69e712730a2227f20bcc8b5ad900000...  0x9fa6ab3d78984a69e712730a2227f20bcc8b5ad9   \n0xc13546b97b9b1b15372368dc06529d7191081f5b00000...  0xc13546b97b9b1b15372368dc06529d7191081f5b   \n0xfd2620c9cfcec7d152467633b3b0ca338d3d78cc00000...  0xfd2620c9cfcec7d152467633b3b0ca338d3d78cc   \n0x55bec22f8f6c69137ceaf284d9b441db1b9bfedc00020...  0x55bec22f8f6c69137ceaf284d9b441db1b9bfedc   \n0x3fd4954a851ead144c2ff72b1f5a38ea5976bd5400000...  0x3fd4954a851ead144c2ff72b1f5a38ea5976bd54   \n0x0c8972437a38b389ec83d1e666b69b8a4fcf8bfd00000...  0x0c8972437a38b389ec83d1e666b69b8a4fcf8bfd   \n0x32df62dc3aed2cd6224193052ce665dc1816584100020...  0x32df62dc3aed2cd6224193052ce665dc18165841   \n0x423a1323c871abc9d89eb06855bf5347048fc4a500000...  0x423a1323c871abc9d89eb06855bf5347048fc4a5   \n0x4a2f6ae7f3e5d715689530873ec35593dc28951b00000...  0x4a2f6ae7f3e5d715689530873ec35593dc28951b   \n0x9791d590788598535278552eecd4b211bfc790cb00000...  0x9791d590788598535278552eecd4b211bfc790cb   \n0xade4a71bb62bec25154cfc7e6ff49a513b491e8100000...  0xade4a71bb62bec25154cfc7e6ff49a513b491e81   \n\n                                                    bpt_token_fee  \\\n0xee278d943584dd8640eaf4cc6c7a5c80c0073e8500020...         760.78   \n0xf0ad209e2e969eaaa8c882aac71f02d8a047d5c200020...        3526.10   \n0x1ee442b5326009bb18f2f472d3e0061513d1a0ff00020...          93.01   \n0x1e19cf2d73a72ef1332c882f20534b6519be027600020...           0.00   \n0x37b18b10ce5635a84834b26095a0ae5639dcb75200000...           3.40   \n0x42ed016f826165c2e5976fe5bc3df540c5ad0af700000...           9.90   \n0x36be1e97ea98ab43b4debf92742517266f5731a300020...          58.96   \n0x3ff3a210e57cfe679d9ad1e9ba6453a716c56a2e00020...        4626.36   \n0x9f9d900462492d4c21e9523ca95a7cd86142f29800020...           5.35   \n0x93d199263632a4ef4bb438f1feb99e57b4b5f0bd00000...           9.52   \n0x5f1f4e50ba51d723f12385a8a9606afc3a0555f500020...           0.34   \n0xdfe6e7e18f6cc65fa13c8d8966013d4fda74b6ba00000...           1.97   \n0x8353157092ed8be69a9df8f95af097bbf33cb2af00000...        1352.41   \n0xb08885e6026bab4333a80024ec25a1a3e1ff2b8a00020...           0.00   \n0xf16aee6a71af1a9bc8f56975a4c2705ca7a782bc00020...          86.80   \n0xf7a826d47c8e02835d94fb0aa40f0cc9505cb13400020...           0.61   \n0xe7e2c68d3b13d905bbb636709cf4dfd21076b9d200000...           1.89   \n0xf01b0684c98cd7ada480bfdf6e43876422fa1fc100020...           0.90   \n0xfb4c2e6e6e27b5b4a07a36360c89ede29bb3c9b600000...           1.97   \n0x0c659734f1eef9c63b7ebdf78a164cdd745586db00000...         504.85   \n0xc771c1a5905420daec317b154eb13e4198ba97d000000...           0.32   \n0xb26f0e66317846bd5fe0cbaa1d269f0efeb05c9600000...         249.92   \n0x9fa6ab3d78984a69e712730a2227f20bcc8b5ad900000...          55.06   \n0xc13546b97b9b1b15372368dc06529d7191081f5b00000...         132.86   \n0xfd2620c9cfcec7d152467633b3b0ca338d3d78cc00000...         322.44   \n0x55bec22f8f6c69137ceaf284d9b441db1b9bfedc00020...           0.00   \n0x3fd4954a851ead144c2ff72b1f5a38ea5976bd5400000...           2.09   \n0x0c8972437a38b389ec83d1e666b69b8a4fcf8bfd00000...           0.00   \n0x32df62dc3aed2cd6224193052ce665dc1816584100020...       16858.63   \n0x423a1323c871abc9d89eb06855bf5347048fc4a500000...         501.56   \n0x4a2f6ae7f3e5d715689530873ec35593dc28951b00000...           2.75   \n0x9791d590788598535278552eecd4b211bfc790cb00000...           1.95   \n0xade4a71bb62bec25154cfc7e6ff49a513b491e8100000...           0.79   \n\n                                                   bpt_token_fee_in_usd  \\\n0xee278d943584dd8640eaf4cc6c7a5c80c0073e8500020...               417.21   \n0xf0ad209e2e969eaaa8c882aac71f02d8a047d5c200020...              1941.79   \n0x1ee442b5326009bb18f2f472d3e0061513d1a0ff00020...              5688.56   \n0x1e19cf2d73a72ef1332c882f20534b6519be027600020...                 0.00   \n0x37b18b10ce5635a84834b26095a0ae5639dcb75200000...              5550.99   \n0x42ed016f826165c2e5976fe5bc3df540c5ad0af700000...             16250.38   \n0x36be1e97ea98ab43b4debf92742517266f5731a300020...               592.19   \n0x3ff3a210e57cfe679d9ad1e9ba6453a716c56a2e00020...              3101.64   \n0x9f9d900462492d4c21e9523ca95a7cd86142f29800020...              1025.86   \n0x93d199263632a4ef4bb438f1feb99e57b4b5f0bd00000...             15578.32   \n0x5f1f4e50ba51d723f12385a8a9606afc3a0555f500020...                18.37   \n0xdfe6e7e18f6cc65fa13c8d8966013d4fda74b6ba00000...              3238.47   \n0x8353157092ed8be69a9df8f95af097bbf33cb2af00000...              1333.25   \n0xb08885e6026bab4333a80024ec25a1a3e1ff2b8a00020...                 0.00   \n0xf16aee6a71af1a9bc8f56975a4c2705ca7a782bc00020...              2359.02   \n0xf7a826d47c8e02835d94fb0aa40f0cc9505cb13400020...               994.26   \n0xe7e2c68d3b13d905bbb636709cf4dfd21076b9d200000...              3020.77   \n0xf01b0684c98cd7ada480bfdf6e43876422fa1fc100020...              1473.71   \n0xfb4c2e6e6e27b5b4a07a36360c89ede29bb3c9b600000...              3225.47   \n0x0c659734f1eef9c63b7ebdf78a164cdd745586db00000...               505.35   \n0xc771c1a5905420daec317b154eb13e4198ba97d000000...               525.12   \n0xb26f0e66317846bd5fe0cbaa1d269f0efeb05c9600000...               250.04   \n0x9fa6ab3d78984a69e712730a2227f20bcc8b5ad900000...               535.35   \n0xc13546b97b9b1b15372368dc06529d7191081f5b00000...              1300.14   \n0xfd2620c9cfcec7d152467633b3b0ca338d3d78cc00000...              3139.37   \n0x55bec22f8f6c69137ceaf284d9b441db1b9bfedc00020...                 0.00   \n0x3fd4954a851ead144c2ff72b1f5a38ea5976bd5400000...              3428.90   \n0x0c8972437a38b389ec83d1e666b69b8a4fcf8bfd00000...                 0.03   \n0x32df62dc3aed2cd6224193052ce665dc1816584100020...             19543.49   \n0x423a1323c871abc9d89eb06855bf5347048fc4a500000...               501.90   \n0x4a2f6ae7f3e5d715689530873ec35593dc28951b00000...              4503.33   \n0x9791d590788598535278552eecd4b211bfc790cb00000...              3195.83   \n0xade4a71bb62bec25154cfc7e6ff49a513b491e8100000...              1296.63   \n\n                                                   token_fees_in_usd  \\\n0xee278d943584dd8640eaf4cc6c7a5c80c0073e8500020...                 0   \n0xf0ad209e2e969eaaa8c882aac71f02d8a047d5c200020...                 0   \n0x1ee442b5326009bb18f2f472d3e0061513d1a0ff00020...                 0   \n0x1e19cf2d73a72ef1332c882f20534b6519be027600020...          14747.17   \n0x37b18b10ce5635a84834b26095a0ae5639dcb75200000...                 0   \n0x42ed016f826165c2e5976fe5bc3df540c5ad0af700000...                 0   \n0x36be1e97ea98ab43b4debf92742517266f5731a300020...                 0   \n0x3ff3a210e57cfe679d9ad1e9ba6453a716c56a2e00020...                 0   \n0x9f9d900462492d4c21e9523ca95a7cd86142f29800020...                 0   \n0x93d199263632a4ef4bb438f1feb99e57b4b5f0bd00000...                 0   \n0x5f1f4e50ba51d723f12385a8a9606afc3a0555f500020...                 0   \n0xdfe6e7e18f6cc65fa13c8d8966013d4fda74b6ba00000...                 0   \n0x8353157092ed8be69a9df8f95af097bbf33cb2af00000...                 0   \n0xb08885e6026bab4333a80024ec25a1a3e1ff2b8a00020...            923.66   \n0xf16aee6a71af1a9bc8f56975a4c2705ca7a782bc00020...                 0   \n0xf7a826d47c8e02835d94fb0aa40f0cc9505cb13400020...                 0   \n0xe7e2c68d3b13d905bbb636709cf4dfd21076b9d200000...                 0   \n0xf01b0684c98cd7ada480bfdf6e43876422fa1fc100020...                 0   \n0xfb4c2e6e6e27b5b4a07a36360c89ede29bb3c9b600000...                 0   \n0x0c659734f1eef9c63b7ebdf78a164cdd745586db00000...                 0   \n0xc771c1a5905420daec317b154eb13e4198ba97d000000...                 0   \n0xb26f0e66317846bd5fe0cbaa1d269f0efeb05c9600000...                 0   \n0x9fa6ab3d78984a69e712730a2227f20bcc8b5ad900000...                 0   \n0xc13546b97b9b1b15372368dc06529d7191081f5b00000...                 0   \n0xfd2620c9cfcec7d152467633b3b0ca338d3d78cc00000...                 0   \n0x55bec22f8f6c69137ceaf284d9b441db1b9bfedc00020...              0.00   \n0x3fd4954a851ead144c2ff72b1f5a38ea5976bd5400000...                 0   \n0x0c8972437a38b389ec83d1e666b69b8a4fcf8bfd00000...                 0   \n0x32df62dc3aed2cd6224193052ce665dc1816584100020...                 0   \n0x423a1323c871abc9d89eb06855bf5347048fc4a500000...                 0   \n0x4a2f6ae7f3e5d715689530873ec35593dc28951b00000...                 0   \n0x9791d590788598535278552eecd4b211bfc790cb00000...                 0   \n0xade4a71bb62bec25154cfc7e6ff49a513b491e8100000...                 0   \n\n                                                    time_from    time_to  \\\n0xee278d943584dd8640eaf4cc6c7a5c80c0073e8500020... 2023-09-29 2023-10-13   \n0xf0ad209e2e969eaaa8c882aac71f02d8a047d5c200020... 2023-09-29 2023-10-13   \n0x1ee442b5326009bb18f2f472d3e0061513d1a0ff00020... 2023-09-29 2023-10-13   \n0x1e19cf2d73a72ef1332c882f20534b6519be027600020... 2023-09-29 2023-10-13   \n0x37b18b10ce5635a84834b26095a0ae5639dcb75200000... 2023-09-29 2023-10-13   \n0x42ed016f826165c2e5976fe5bc3df540c5ad0af700000... 2023-09-29 2023-10-13   \n0x36be1e97ea98ab43b4debf92742517266f5731a300020... 2023-09-29 2023-10-13   \n0x3ff3a210e57cfe679d9ad1e9ba6453a716c56a2e00020... 2023-09-29 2023-10-13   \n0x9f9d900462492d4c21e9523ca95a7cd86142f29800020... 2023-09-29 2023-10-13   \n0x93d199263632a4ef4bb438f1feb99e57b4b5f0bd00000... 2023-09-29 2023-10-13   \n0x5f1f4e50ba51d723f12385a8a9606afc3a0555f500020... 2023-09-29 2023-10-13   \n0xdfe6e7e18f6cc65fa13c8d8966013d4fda74b6ba00000... 2023-09-29 2023-10-13   \n0x8353157092ed8be69a9df8f95af097bbf33cb2af00000... 2023-09-29 2023-10-13   \n0xb08885e6026bab4333a80024ec25a1a3e1ff2b8a00020... 2023-09-29 2023-10-13   \n0xf16aee6a71af1a9bc8f56975a4c2705ca7a782bc00020... 2023-09-29 2023-10-13   \n0xf7a826d47c8e02835d94fb0aa40f0cc9505cb13400020... 2023-09-29 2023-10-13   \n0xe7e2c68d3b13d905bbb636709cf4dfd21076b9d200000... 2023-09-29 2023-10-13   \n0xf01b0684c98cd7ada480bfdf6e43876422fa1fc100020... 2023-09-29 2023-10-13   \n0xfb4c2e6e6e27b5b4a07a36360c89ede29bb3c9b600000... 2023-09-29 2023-10-13   \n0x0c659734f1eef9c63b7ebdf78a164cdd745586db00000... 2023-09-29 2023-10-13   \n0xc771c1a5905420daec317b154eb13e4198ba97d000000... 2023-09-29 2023-10-13   \n0xb26f0e66317846bd5fe0cbaa1d269f0efeb05c9600000... 2023-09-29 2023-10-13   \n0x9fa6ab3d78984a69e712730a2227f20bcc8b5ad900000... 2023-09-29 2023-10-13   \n0xc13546b97b9b1b15372368dc06529d7191081f5b00000... 2023-09-29 2023-10-13   \n0xfd2620c9cfcec7d152467633b3b0ca338d3d78cc00000... 2023-09-29 2023-10-13   \n0x55bec22f8f6c69137ceaf284d9b441db1b9bfedc00020... 2023-09-29 2023-10-13   \n0x3fd4954a851ead144c2ff72b1f5a38ea5976bd5400000... 2023-09-29 2023-10-13   \n0x0c8972437a38b389ec83d1e666b69b8a4fcf8bfd00000... 2023-09-29 2023-10-13   \n0x32df62dc3aed2cd6224193052ce665dc1816584100020... 2023-09-29 2023-10-13   \n0x423a1323c871abc9d89eb06855bf5347048fc4a500000... 2023-09-29 2023-10-13   \n0x4a2f6ae7f3e5d715689530873ec35593dc28951b00000... 2023-09-29 2023-10-13   \n0x9791d590788598535278552eecd4b211bfc790cb00000... 2023-09-29 2023-10-13   \n0xade4a71bb62bec25154cfc7e6ff49a513b491e8100000... 2023-09-29 2023-10-13   \n\n                                                        chain  \n0xee278d943584dd8640eaf4cc6c7a5c80c0073e8500020...    polygon  \n0xf0ad209e2e969eaaa8c882aac71f02d8a047d5c200020...    polygon  \n0x1ee442b5326009bb18f2f472d3e0061513d1a0ff00020...    mainnet  \n0x1e19cf2d73a72ef1332c882f20534b6519be027600020...    mainnet  \n0x37b18b10ce5635a84834b26095a0ae5639dcb75200000...    mainnet  \n0x42ed016f826165c2e5976fe5bc3df540c5ad0af700000...    mainnet  \n0x36be1e97ea98ab43b4debf92742517266f5731a300020...    mainnet  \n0x3ff3a210e57cfe679d9ad1e9ba6453a716c56a2e00020...    mainnet  \n0x9f9d900462492d4c21e9523ca95a7cd86142f29800020...    mainnet  \n0x93d199263632a4ef4bb438f1feb99e57b4b5f0bd00000...    mainnet  \n0x5f1f4e50ba51d723f12385a8a9606afc3a0555f500020...    mainnet  \n0xdfe6e7e18f6cc65fa13c8d8966013d4fda74b6ba00000...    mainnet  \n0x8353157092ed8be69a9df8f95af097bbf33cb2af00000...    mainnet  \n0xb08885e6026bab4333a80024ec25a1a3e1ff2b8a00020...    mainnet  \n0xf16aee6a71af1a9bc8f56975a4c2705ca7a782bc00020...    mainnet  \n0xf7a826d47c8e02835d94fb0aa40f0cc9505cb13400020...    mainnet  \n0xe7e2c68d3b13d905bbb636709cf4dfd21076b9d200000...    mainnet  \n0xf01b0684c98cd7ada480bfdf6e43876422fa1fc100020...    mainnet  \n0xfb4c2e6e6e27b5b4a07a36360c89ede29bb3c9b600000...       base  \n0x0c659734f1eef9c63b7ebdf78a164cdd745586db00000...       base  \n0xc771c1a5905420daec317b154eb13e4198ba97d000000...       base  \n0xb26f0e66317846bd5fe0cbaa1d269f0efeb05c9600000...  avalanche  \n0x9fa6ab3d78984a69e712730a2227f20bcc8b5ad900000...  avalanche  \n0xc13546b97b9b1b15372368dc06529d7191081f5b00000...  avalanche  \n0xfd2620c9cfcec7d152467633b3b0ca338d3d78cc00000...  avalanche  \n0x55bec22f8f6c69137ceaf284d9b441db1b9bfedc00020...  avalanche  \n0x3fd4954a851ead144c2ff72b1f5a38ea5976bd5400000...   arbitrum  \n0x0c8972437a38b389ec83d1e666b69b8a4fcf8bfd00000...   arbitrum  \n0x32df62dc3aed2cd6224193052ce665dc1816584100020...   arbitrum  \n0x423a1323c871abc9d89eb06855bf5347048fc4a500000...   arbitrum  \n0x4a2f6ae7f3e5d715689530873ec35593dc28951b00000...   arbitrum  \n0x9791d590788598535278552eecd4b211bfc790cb00000...   arbitrum  \n0xade4a71bb62bec25154cfc7e6ff49a513b491e8100000...   arbitrum  ",
      "text/html": "<div>\n<style scoped>\n    .dataframe tbody tr th:only-of-type {\n        vertical-align: middle;\n    }\n\n    .dataframe tbody tr th {\n        vertical-align: top;\n    }\n\n    .dataframe thead th {\n        text-align: right;\n    }\n</style>\n<table border=\"1\" class=\"dataframe\">\n  <thead>\n    <tr style=\"text-align: right;\">\n      <th></th>\n      <th>symbol</th>\n      <th>pool_addr</th>\n      <th>bpt_token_fee</th>\n      <th>bpt_token_fee_in_usd</th>\n      <th>token_fees_in_usd</th>\n      <th>time_from</th>\n      <th>time_to</th>\n      <th>chain</th>\n    </tr>\n  </thead>\n  <tbody>\n    <tr>\n      <th>0xee278d943584dd8640eaf4cc6c7a5c80c0073e85000200000000000000000bc7</th>\n      <td>ECLP-WMATIC-MATICX</td>\n      <td>0xee278d943584dd8640eaf4cc6c7a5c80c0073e85</td>\n      <td>760.78</td>\n      <td>417.21</td>\n      <td>0</td>\n      <td>2023-09-29</td>\n      <td>2023-10-13</td>\n      <td>polygon</td>\n    </tr>\n    <tr>\n      <th>0xf0ad209e2e969eaaa8c882aac71f02d8a047d5c2000200000000000000000b49</th>\n      <td>ECLP-WMATIC-stMATIC</td>\n      <td>0xf0ad209e2e969eaaa8c882aac71f02d8a047d5c2</td>\n      <td>3526.10</td>\n      <td>1941.79</td>\n      <td>0</td>\n      <td>2023-09-29</td>\n      <td>2023-10-13</td>\n      <td>polygon</td>\n    </tr>\n    <tr>\n      <th>0x1ee442b5326009bb18f2f472d3e0061513d1a0ff000200000000000000000464</th>\n      <td>50rETH-50BADGER</td>\n      <td>0x1ee442b5326009bb18f2f472d3e0061513d1a0ff</td>\n      <td>93.01</td>\n      <td>5688.56</td>\n      <td>0</td>\n      <td>2023-09-29</td>\n      <td>2023-10-13</td>\n      <td>mainnet</td>\n    </tr>\n    <tr>\n      <th>0x1e19cf2d73a72ef1332c882f20534b6519be0276000200000000000000000112</th>\n      <td>B-rETH-STABLE</td>\n      <td>0x1e19cf2d73a72ef1332c882f20534b6519be0276</td>\n      <td>0.00</td>\n      <td>0.00</td>\n      <td>14747.17</td>\n      <td>2023-09-29</td>\n      <td>2023-10-13</td>\n      <td>mainnet</td>\n    </tr>\n    <tr>\n      <th>0x37b18b10ce5635a84834b26095a0ae5639dcb7520000000000000000000005cb</th>\n      <td>ETHx-WETH-BPT</td>\n      <td>0x37b18b10ce5635a84834b26095a0ae5639dcb752</td>\n      <td>3.40</td>\n      <td>5550.99</td>\n      <td>0</td>\n      <td>2023-09-29</td>\n      <td>2023-10-13</td>\n      <td>mainnet</td>\n    </tr>\n    <tr>\n      <th>0x42ed016f826165c2e5976fe5bc3df540c5ad0af700000000000000000000058b</th>\n      <td>wstETH-rETH-sfrxETH-BPT</td>\n      <td>0x42ed016f826165c2e5976fe5bc3df540c5ad0af7</td>\n      <td>9.90</td>\n      <td>16250.38</td>\n      <td>0</td>\n      <td>2023-09-29</td>\n      <td>2023-10-13</td>\n      <td>mainnet</td>\n    </tr>\n    <tr>\n      <th>0x36be1e97ea98ab43b4debf92742517266f5731a3000200000000000000000466</th>\n      <td>50wstETH-50ACX</td>\n      <td>0x36be1e97ea98ab43b4debf92742517266f5731a3</td>\n      <td>58.96</td>\n      <td>592.19</td>\n      <td>0</td>\n      <td>2023-09-29</td>\n      <td>2023-10-13</td>\n      <td>mainnet</td>\n    </tr>\n    <tr>\n      <th>0x3ff3a210e57cfe679d9ad1e9ba6453a716c56a2e0002000000000000000005d5</th>\n      <td>STG/USDC</td>\n      <td>0x3ff3a210e57cfe679d9ad1e9ba6453a716c56a2e</td>\n      <td>4626.36</td>\n      <td>3101.64</td>\n      <td>0</td>\n      <td>2023-09-29</td>\n      <td>2023-10-13</td>\n      <td>mainnet</td>\n    </tr>\n    <tr>\n      <th>0x9f9d900462492d4c21e9523ca95a7cd86142f298000200000000000000000462</th>\n      <td>50rETH-50RPL</td>\n      <td>0x9f9d900462492d4c21e9523ca95a7cd86142f298</td>\n      <td>5.35</td>\n      <td>1025.86</td>\n      <td>0</td>\n      <td>2023-09-29</td>\n      <td>2023-10-13</td>\n      <td>mainnet</td>\n    </tr>\n    <tr>\n      <th>0x93d199263632a4ef4bb438f1feb99e57b4b5f0bd0000000000000000000005c2</th>\n      <td>wstETH-WETH-BPT</td>\n      <td>0x93d199263632a4ef4bb438f1feb99e57b4b5f0bd</td>\n      <td>9.52</td>\n      <td>15578.32</td>\n      <td>0</td>\n      <td>2023-09-29</td>\n      <td>2023-10-13</td>\n      <td>mainnet</td>\n    </tr>\n    <tr>\n      <th>0x5f1f4e50ba51d723f12385a8a9606afc3a0555f5000200000000000000000465</th>\n      <td>50wstETH-50LDO</td>\n      <td>0x5f1f4e50ba51d723f12385a8a9606afc3a0555f5</td>\n      <td>0.34</td>\n      <td>18.37</td>\n      <td>0</td>\n      <td>2023-09-29</td>\n      <td>2023-10-13</td>\n      <td>mainnet</td>\n    </tr>\n    <tr>\n      <th>0xdfe6e7e18f6cc65fa13c8d8966013d4fda74b6ba000000000000000000000558</th>\n      <td>ankrETH/wstETH</td>\n      <td>0xdfe6e7e18f6cc65fa13c8d8966013d4fda74b6ba</td>\n      <td>1.97</td>\n      <td>3238.47</td>\n      <td>0</td>\n      <td>2023-09-29</td>\n      <td>2023-10-13</td>\n      <td>mainnet</td>\n    </tr>\n    <tr>\n      <th>0x8353157092ed8be69a9df8f95af097bbf33cb2af0000000000000000000005d9</th>\n      <td>GHO/USDT/USDC</td>\n      <td>0x8353157092ed8be69a9df8f95af097bbf33cb2af</td>\n      <td>1352.41</td>\n      <td>1333.25</td>\n      <td>0</td>\n      <td>2023-09-29</td>\n      <td>2023-10-13</td>\n      <td>mainnet</td>\n    </tr>\n    <tr>\n      <th>0xb08885e6026bab4333a80024ec25a1a3e1ff2b8a000200000000000000000445</th>\n      <td>B-staFiETH-WETH-Stable</td>\n      <td>0xb08885e6026bab4333a80024ec25a1a3e1ff2b8a</td>\n      <td>0.00</td>\n      <td>0.00</td>\n      <td>923.66</td>\n      <td>2023-09-29</td>\n      <td>2023-10-13</td>\n      <td>mainnet</td>\n    </tr>\n    <tr>\n      <th>0xf16aee6a71af1a9bc8f56975a4c2705ca7a782bc0002000000000000000004bb</th>\n      <td>20WETH-80ALCX</td>\n      <td>0xf16aee6a71af1a9bc8f56975a4c2705ca7a782bc</td>\n      <td>86.80</td>\n      <td>2359.02</td>\n      <td>0</td>\n      <td>2023-09-29</td>\n      <td>2023-10-13</td>\n      <td>mainnet</td>\n    </tr>\n    <tr>\n      <th>0xf7a826d47c8e02835d94fb0aa40f0cc9505cb1340002000000000000000005e0</th>\n      <td>ECLP-wstETH-cbETH</td>\n      <td>0xf7a826d47c8e02835d94fb0aa40f0cc9505cb134</td>\n      <td>0.61</td>\n      <td>994.26</td>\n      <td>0</td>\n      <td>2023-09-29</td>\n      <td>2023-10-13</td>\n      <td>mainnet</td>\n    </tr>\n    <tr>\n      <th>0xe7e2c68d3b13d905bbb636709cf4dfd21076b9d20000000000000000000005ca</th>\n      <td>swETH-WETH-BPT</td>\n      <td>0xe7e2c68d3b13d905bbb636709cf4dfd21076b9d2</td>\n      <td>1.89</td>\n      <td>3020.77</td>\n      <td>0</td>\n      <td>2023-09-29</td>\n      <td>2023-10-13</td>\n      <td>mainnet</td>\n    </tr>\n    <tr>\n      <th>0xf01b0684c98cd7ada480bfdf6e43876422fa1fc10002000000000000000005de</th>\n      <td>ECLP-wstETH-wETH</td>\n      <td>0xf01b0684c98cd7ada480bfdf6e43876422fa1fc1</td>\n      <td>0.90</td>\n      <td>1473.71</td>\n      <td>0</td>\n      <td>2023-09-29</td>\n      <td>2023-10-13</td>\n      <td>mainnet</td>\n    </tr>\n    <tr>\n      <th>0xfb4c2e6e6e27b5b4a07a36360c89ede29bb3c9b6000000000000000000000026</th>\n      <td>cbETH/WETH</td>\n      <td>0xfb4c2e6e6e27b5b4a07a36360c89ede29bb3c9b6</td>\n      <td>1.97</td>\n      <td>3225.47</td>\n      <td>0</td>\n      <td>2023-09-29</td>\n      <td>2023-10-13</td>\n      <td>base</td>\n    </tr>\n    <tr>\n      <th>0x0c659734f1eef9c63b7ebdf78a164cdd745586db000000000000000000000046</th>\n      <td>USDC/USDbC/axlUSDC</td>\n      <td>0x0c659734f1eef9c63b7ebdf78a164cdd745586db</td>\n      <td>504.85</td>\n      <td>505.35</td>\n      <td>0</td>\n      <td>2023-09-29</td>\n      <td>2023-10-13</td>\n      <td>base</td>\n    </tr>\n    <tr>\n      <th>0xc771c1a5905420daec317b154eb13e4198ba97d0000000000000000000000023</th>\n      <td>rETH-WETH-BPT</td>\n      <td>0xc771c1a5905420daec317b154eb13e4198ba97d0</td>\n      <td>0.32</td>\n      <td>525.12</td>\n      <td>0</td>\n      <td>2023-09-29</td>\n      <td>2023-10-13</td>\n      <td>base</td>\n    </tr>\n    <tr>\n      <th>0xb26f0e66317846bd5fe0cbaa1d269f0efeb05c9600000000000000000000001e</th>\n      <td>USDC-USDT-BPT</td>\n      <td>0xb26f0e66317846bd5fe0cbaa1d269f0efeb05c96</td>\n      <td>249.92</td>\n      <td>250.04</td>\n      <td>0</td>\n      <td>2023-09-29</td>\n      <td>2023-10-13</td>\n      <td>avalanche</td>\n    </tr>\n    <tr>\n      <th>0x9fa6ab3d78984a69e712730a2227f20bcc8b5ad900000000000000000000001f</th>\n      <td>yyAVAX-WAVAX-BPT</td>\n      <td>0x9fa6ab3d78984a69e712730a2227f20bcc8b5ad9</td>\n      <td>55.06</td>\n      <td>535.35</td>\n      <td>0</td>\n      <td>2023-09-29</td>\n      <td>2023-10-13</td>\n      <td>avalanche</td>\n    </tr>\n    <tr>\n      <th>0xc13546b97b9b1b15372368dc06529d7191081f5b00000000000000000000001d</th>\n      <td>ggAVAX-WAVAX-BPT</td>\n      <td>0xc13546b97b9b1b15372368dc06529d7191081f5b</td>\n      <td>132.86</td>\n      <td>1300.14</td>\n      <td>0</td>\n      <td>2023-09-29</td>\n      <td>2023-10-13</td>\n      <td>avalanche</td>\n    </tr>\n    <tr>\n      <th>0xfd2620c9cfcec7d152467633b3b0ca338d3d78cc00000000000000000000001c</th>\n      <td>sAVAX-WAVAX-BPT</td>\n      <td>0xfd2620c9cfcec7d152467633b3b0ca338d3d78cc</td>\n      <td>322.44</td>\n      <td>3139.37</td>\n      <td>0</td>\n      <td>2023-09-29</td>\n      <td>2023-10-13</td>\n      <td>avalanche</td>\n    </tr>\n    <tr>\n      <th>0x55bec22f8f6c69137ceaf284d9b441db1b9bfedc000200000000000000000011</th>\n      <td>BPT</td>\n      <td>0x55bec22f8f6c69137ceaf284d9b441db1b9bfedc</td>\n      <td>0.00</td>\n      <td>0.00</td>\n      <td>0.00</td>\n      <td>2023-09-29</td>\n      <td>2023-10-13</td>\n      <td>avalanche</td>\n    </tr>\n    <tr>\n      <th>0x3fd4954a851ead144c2ff72b1f5a38ea5976bd54000000000000000000000480</th>\n      <td>ankrETH/wstETH-BPT</td>\n      <td>0x3fd4954a851ead144c2ff72b1f5a38ea5976bd54</td>\n      <td>2.09</td>\n      <td>3428.90</td>\n      <td>0</td>\n      <td>2023-09-29</td>\n      <td>2023-10-13</td>\n      <td>arbitrum</td>\n    </tr>\n    <tr>\n      <th>0x0c8972437a38b389ec83d1e666b69b8a4fcf8bfd00000000000000000000049e</th>\n      <td>wstETH/rETH/sfrxETH</td>\n      <td>0x0c8972437a38b389ec83d1e666b69b8a4fcf8bfd</td>\n      <td>0.00</td>\n      <td>0.03</td>\n      <td>0</td>\n      <td>2023-09-29</td>\n      <td>2023-10-13</td>\n      <td>arbitrum</td>\n    </tr>\n    <tr>\n      <th>0x32df62dc3aed2cd6224193052ce665dc181658410002000000000000000003bd</th>\n      <td>RDNT-WETH</td>\n      <td>0x32df62dc3aed2cd6224193052ce665dc18165841</td>\n      <td>16858.63</td>\n      <td>19543.49</td>\n      <td>0</td>\n      <td>2023-09-29</td>\n      <td>2023-10-13</td>\n      <td>arbitrum</td>\n    </tr>\n    <tr>\n      <th>0x423a1323c871abc9d89eb06855bf5347048fc4a5000000000000000000000496</th>\n      <td>4POOL-BPT</td>\n      <td>0x423a1323c871abc9d89eb06855bf5347048fc4a5</td>\n      <td>501.56</td>\n      <td>501.90</td>\n      <td>0</td>\n      <td>2023-09-29</td>\n      <td>2023-10-13</td>\n      <td>arbitrum</td>\n    </tr>\n    <tr>\n      <th>0x4a2f6ae7f3e5d715689530873ec35593dc28951b000000000000000000000481</th>\n      <td>wstETH/rETH/cbETH</td>\n      <td>0x4a2f6ae7f3e5d715689530873ec35593dc28951b</td>\n      <td>2.75</td>\n      <td>4503.33</td>\n      <td>0</td>\n      <td>2023-09-29</td>\n      <td>2023-10-13</td>\n      <td>arbitrum</td>\n    </tr>\n    <tr>\n      <th>0x9791d590788598535278552eecd4b211bfc790cb000000000000000000000498</th>\n      <td>wstETH-WETH-BPT</td>\n      <td>0x9791d590788598535278552eecd4b211bfc790cb</td>\n      <td>1.95</td>\n      <td>3195.83</td>\n      <td>0</td>\n      <td>2023-09-29</td>\n      <td>2023-10-13</td>\n      <td>arbitrum</td>\n    </tr>\n    <tr>\n      <th>0xade4a71bb62bec25154cfc7e6ff49a513b491e81000000000000000000000497</th>\n      <td>rETH-WETH-BPT</td>\n      <td>0xade4a71bb62bec25154cfc7e6ff49a513b491e81</td>\n      <td>0.79</td>\n      <td>1296.63</td>\n      <td>0</td>\n      <td>2023-09-29</td>\n      <td>2023-10-13</td>\n      <td>arbitrum</td>\n    </tr>\n  </tbody>\n</table>\n</div>"
     },
     "execution_count": 14,
     "metadata": {},
     "output_type": "execute_result"
    }
   ],
   "source": [
    "# Remove `token_fees` field from dataframe, as it's too big\n",
    "joint_fees_df_copy = joint_fees_df.drop(columns=['token_fees'])\n",
    "# Display all rows in dataframe\n",
    "pd.set_option('display.max_rows', 1000)\n",
    "joint_fees_df_copy.sort_values(by=['chain'], ascending=False)"
   ],
   "metadata": {
    "collapsed": false,
    "ExecuteTime": {
     "end_time": "2023-10-14T16:54:54.904535Z",
     "start_time": "2023-10-14T16:54:54.898974Z"
    }
   },
   "id": "52fccc19e5e6b4f2"
  },
  {
   "cell_type": "markdown",
   "source": [
    "## Now let's calculate bribes paid to the pools and save them to csv"
   ],
   "metadata": {
    "collapsed": false
   },
   "id": "97a5370819f28ffc"
  },
  {
   "cell_type": "code",
   "execution_count": 15,
   "outputs": [
    {
     "data": {
      "text/plain": "                                                        chain  \\\n0xade4a71bb62bec25154cfc7e6ff49a513b491e8100000...   arbitrum   \n0x9791d590788598535278552eecd4b211bfc790cb00000...   arbitrum   \n0x4a2f6ae7f3e5d715689530873ec35593dc28951b00000...   arbitrum   \n0x423a1323c871abc9d89eb06855bf5347048fc4a500000...   arbitrum   \n0x32df62dc3aed2cd6224193052ce665dc1816584100020...   arbitrum   \n0x0c8972437a38b389ec83d1e666b69b8a4fcf8bfd00000...   arbitrum   \n0x3fd4954a851ead144c2ff72b1f5a38ea5976bd5400000...   arbitrum   \n0xfd2620c9cfcec7d152467633b3b0ca338d3d78cc00000...  avalanche   \n0xc13546b97b9b1b15372368dc06529d7191081f5b00000...  avalanche   \n0x9fa6ab3d78984a69e712730a2227f20bcc8b5ad900000...  avalanche   \n0xb26f0e66317846bd5fe0cbaa1d269f0efeb05c9600000...  avalanche   \n0x55bec22f8f6c69137ceaf284d9b441db1b9bfedc00020...  avalanche   \n0xfb4c2e6e6e27b5b4a07a36360c89ede29bb3c9b600000...       base   \n0xc771c1a5905420daec317b154eb13e4198ba97d000000...       base   \n0x0c659734f1eef9c63b7ebdf78a164cdd745586db00000...       base   \n0x93d199263632a4ef4bb438f1feb99e57b4b5f0bd00000...    mainnet   \n0x1e19cf2d73a72ef1332c882f20534b6519be027600020...    mainnet   \n0xe7e2c68d3b13d905bbb636709cf4dfd21076b9d200000...    mainnet   \n0xf7a826d47c8e02835d94fb0aa40f0cc9505cb13400020...    mainnet   \n0xf16aee6a71af1a9bc8f56975a4c2705ca7a782bc00020...    mainnet   \n0xb08885e6026bab4333a80024ec25a1a3e1ff2b8a00020...    mainnet   \n0x8353157092ed8be69a9df8f95af097bbf33cb2af00000...    mainnet   \n0xdfe6e7e18f6cc65fa13c8d8966013d4fda74b6ba00000...    mainnet   \n0x5f1f4e50ba51d723f12385a8a9606afc3a0555f500020...    mainnet   \n0x1ee442b5326009bb18f2f472d3e0061513d1a0ff00020...    mainnet   \n0x9f9d900462492d4c21e9523ca95a7cd86142f29800020...    mainnet   \n0x3ff3a210e57cfe679d9ad1e9ba6453a716c56a2e00020...    mainnet   \n0xf01b0684c98cd7ada480bfdf6e43876422fa1fc100020...    mainnet   \n0x36be1e97ea98ab43b4debf92742517266f5731a300020...    mainnet   \n0x42ed016f826165c2e5976fe5bc3df540c5ad0af700000...    mainnet   \n0x37b18b10ce5635a84834b26095a0ae5639dcb75200000...    mainnet   \n0xf0ad209e2e969eaaa8c882aac71f02d8a047d5c200020...    polygon   \n0xee278d943584dd8640eaf4cc6c7a5c80c0073e8500020...    polygon   \n\n                                                                     symbol  \\\n0xade4a71bb62bec25154cfc7e6ff49a513b491e8100000...            rETH-WETH-BPT   \n0x9791d590788598535278552eecd4b211bfc790cb00000...          wstETH-WETH-BPT   \n0x4a2f6ae7f3e5d715689530873ec35593dc28951b00000...        wstETH/rETH/cbETH   \n0x423a1323c871abc9d89eb06855bf5347048fc4a500000...                4POOL-BPT   \n0x32df62dc3aed2cd6224193052ce665dc1816584100020...                RDNT-WETH   \n0x0c8972437a38b389ec83d1e666b69b8a4fcf8bfd00000...      wstETH/rETH/sfrxETH   \n0x3fd4954a851ead144c2ff72b1f5a38ea5976bd5400000...       ankrETH/wstETH-BPT   \n0xfd2620c9cfcec7d152467633b3b0ca338d3d78cc00000...          sAVAX-WAVAX-BPT   \n0xc13546b97b9b1b15372368dc06529d7191081f5b00000...         ggAVAX-WAVAX-BPT   \n0x9fa6ab3d78984a69e712730a2227f20bcc8b5ad900000...         yyAVAX-WAVAX-BPT   \n0xb26f0e66317846bd5fe0cbaa1d269f0efeb05c9600000...            USDC-USDT-BPT   \n0x55bec22f8f6c69137ceaf284d9b441db1b9bfedc00020...                      BPT   \n0xfb4c2e6e6e27b5b4a07a36360c89ede29bb3c9b600000...               cbETH/WETH   \n0xc771c1a5905420daec317b154eb13e4198ba97d000000...            rETH-WETH-BPT   \n0x0c659734f1eef9c63b7ebdf78a164cdd745586db00000...       USDC/USDbC/axlUSDC   \n0x93d199263632a4ef4bb438f1feb99e57b4b5f0bd00000...          wstETH-WETH-BPT   \n0x1e19cf2d73a72ef1332c882f20534b6519be027600020...            B-rETH-STABLE   \n0xe7e2c68d3b13d905bbb636709cf4dfd21076b9d200000...           swETH-WETH-BPT   \n0xf7a826d47c8e02835d94fb0aa40f0cc9505cb13400020...        ECLP-wstETH-cbETH   \n0xf16aee6a71af1a9bc8f56975a4c2705ca7a782bc00020...            20WETH-80ALCX   \n0xb08885e6026bab4333a80024ec25a1a3e1ff2b8a00020...   B-staFiETH-WETH-Stable   \n0x8353157092ed8be69a9df8f95af097bbf33cb2af00000...            GHO/USDT/USDC   \n0xdfe6e7e18f6cc65fa13c8d8966013d4fda74b6ba00000...           ankrETH/wstETH   \n0x5f1f4e50ba51d723f12385a8a9606afc3a0555f500020...           50wstETH-50LDO   \n0x1ee442b5326009bb18f2f472d3e0061513d1a0ff00020...          50rETH-50BADGER   \n0x9f9d900462492d4c21e9523ca95a7cd86142f29800020...             50rETH-50RPL   \n0x3ff3a210e57cfe679d9ad1e9ba6453a716c56a2e00020...                 STG/USDC   \n0xf01b0684c98cd7ada480bfdf6e43876422fa1fc100020...         ECLP-wstETH-wETH   \n0x36be1e97ea98ab43b4debf92742517266f5731a300020...           50wstETH-50ACX   \n0x42ed016f826165c2e5976fe5bc3df540c5ad0af700000...  wstETH-rETH-sfrxETH-BPT   \n0x37b18b10ce5635a84834b26095a0ae5639dcb75200000...            ETHx-WETH-BPT   \n0xf0ad209e2e969eaaa8c882aac71f02d8a047d5c200020...      ECLP-WMATIC-stMATIC   \n0xee278d943584dd8640eaf4cc6c7a5c80c0073e8500020...       ECLP-WMATIC-MATICX   \n\n                                                   protocol_fees_collected  \\\n0xade4a71bb62bec25154cfc7e6ff49a513b491e8100000...                 1296.63   \n0x9791d590788598535278552eecd4b211bfc790cb00000...                 3195.83   \n0x4a2f6ae7f3e5d715689530873ec35593dc28951b00000...                 4503.33   \n0x423a1323c871abc9d89eb06855bf5347048fc4a500000...                  501.90   \n0x32df62dc3aed2cd6224193052ce665dc1816584100020...                19543.49   \n0x0c8972437a38b389ec83d1e666b69b8a4fcf8bfd00000...                    0.03   \n0x3fd4954a851ead144c2ff72b1f5a38ea5976bd5400000...                 3428.90   \n0xfd2620c9cfcec7d152467633b3b0ca338d3d78cc00000...                 3139.37   \n0xc13546b97b9b1b15372368dc06529d7191081f5b00000...                 1300.14   \n0x9fa6ab3d78984a69e712730a2227f20bcc8b5ad900000...                  535.35   \n0xb26f0e66317846bd5fe0cbaa1d269f0efeb05c9600000...                  250.04   \n0x55bec22f8f6c69137ceaf284d9b441db1b9bfedc00020...                    0.00   \n0xfb4c2e6e6e27b5b4a07a36360c89ede29bb3c9b600000...                 3225.47   \n0xc771c1a5905420daec317b154eb13e4198ba97d000000...                  525.12   \n0x0c659734f1eef9c63b7ebdf78a164cdd745586db00000...                  505.35   \n0x93d199263632a4ef4bb438f1feb99e57b4b5f0bd00000...                15578.32   \n0x1e19cf2d73a72ef1332c882f20534b6519be027600020...                14747.17   \n0xe7e2c68d3b13d905bbb636709cf4dfd21076b9d200000...                 3020.77   \n0xf7a826d47c8e02835d94fb0aa40f0cc9505cb13400020...                  994.26   \n0xf16aee6a71af1a9bc8f56975a4c2705ca7a782bc00020...                 2359.02   \n0xb08885e6026bab4333a80024ec25a1a3e1ff2b8a00020...                  923.66   \n0x8353157092ed8be69a9df8f95af097bbf33cb2af00000...                 1333.25   \n0xdfe6e7e18f6cc65fa13c8d8966013d4fda74b6ba00000...                 3238.47   \n0x5f1f4e50ba51d723f12385a8a9606afc3a0555f500020...                   18.37   \n0x1ee442b5326009bb18f2f472d3e0061513d1a0ff00020...                 5688.56   \n0x9f9d900462492d4c21e9523ca95a7cd86142f29800020...                 1025.86   \n0x3ff3a210e57cfe679d9ad1e9ba6453a716c56a2e00020...                 3101.64   \n0xf01b0684c98cd7ada480bfdf6e43876422fa1fc100020...                 1473.71   \n0x36be1e97ea98ab43b4debf92742517266f5731a300020...                  592.19   \n0x42ed016f826165c2e5976fe5bc3df540c5ad0af700000...                16250.38   \n0x37b18b10ce5635a84834b26095a0ae5639dcb75200000...                 5550.99   \n0xf0ad209e2e969eaaa8c882aac71f02d8a047d5c200020...                 1941.79   \n0xee278d943584dd8640eaf4cc6c7a5c80c0073e8500020...                  417.21   \n\n                                                   fees_to_vebal fees_to_dao  \\\n0xade4a71bb62bec25154cfc7e6ff49a513b491e8100000...        852.38      365.31   \n0x9791d590788598535278552eecd4b211bfc790cb00000...       2100.88      900.38   \n0x4a2f6ae7f3e5d715689530873ec35593dc28951b00000...       2960.40     1268.74   \n0x423a1323c871abc9d89eb06855bf5347048fc4a500000...        329.94      141.40   \n0x32df62dc3aed2cd6224193052ce665dc1816584100020...      12847.52     5506.08   \n0x0c8972437a38b389ec83d1e666b69b8a4fcf8bfd00000...          0.02        0.01   \n0x3fd4954a851ead144c2ff72b1f5a38ea5976bd5400000...       2254.09      966.04   \n0xfd2620c9cfcec7d152467633b3b0ca338d3d78cc00000...       2153.74      923.03   \n0xc13546b97b9b1b15372368dc06529d7191081f5b00000...        891.95      382.27   \n0x9fa6ab3d78984a69e712730a2227f20bcc8b5ad900000...        367.27      157.40   \n0xb26f0e66317846bd5fe0cbaa1d269f0efeb05c9600000...        171.54       73.52   \n0x55bec22f8f6c69137ceaf284d9b441db1b9bfedc00020...          0.00        0.00   \n0xfb4c2e6e6e27b5b4a07a36360c89ede29bb3c9b600000...       1551.48      664.92   \n0xc771c1a5905420daec317b154eb13e4198ba97d000000...        252.59      108.25   \n0x0c659734f1eef9c63b7ebdf78a164cdd745586db00000...        243.08      104.18   \n0x93d199263632a4ef4bb438f1feb99e57b4b5f0bd00000...       6099.50     2614.07   \n0x1e19cf2d73a72ef1332c882f20534b6519be027600020...       5774.08     2474.60   \n0xe7e2c68d3b13d905bbb636709cf4dfd21076b9d200000...       1182.75      506.89   \n0xf7a826d47c8e02835d94fb0aa40f0cc9505cb13400020...        389.29      166.84   \n0xf16aee6a71af1a9bc8f56975a4c2705ca7a782bc00020...        923.65      395.85   \n0xb08885e6026bab4333a80024ec25a1a3e1ff2b8a00020...        361.65      154.99   \n0x8353157092ed8be69a9df8f95af097bbf33cb2af00000...        522.02      223.72   \n0xdfe6e7e18f6cc65fa13c8d8966013d4fda74b6ba00000...       1267.98      543.42   \n0x5f1f4e50ba51d723f12385a8a9606afc3a0555f500020...          7.19        3.08   \n0x1ee442b5326009bb18f2f472d3e0061513d1a0ff00020...       2227.29      954.55   \n0x9f9d900462492d4c21e9523ca95a7cd86142f29800020...        401.66      172.14   \n0x3ff3a210e57cfe679d9ad1e9ba6453a716c56a2e00020...       1214.41      520.46   \n0xf01b0684c98cd7ada480bfdf6e43876422fa1fc100020...        577.01      247.29   \n0x36be1e97ea98ab43b4debf92742517266f5731a300020...        231.86       99.37   \n0x42ed016f826165c2e5976fe5bc3df540c5ad0af700000...       6362.64     2726.85   \n0x37b18b10ce5635a84834b26095a0ae5639dcb75200000...       2173.42      931.47   \n0xf0ad209e2e969eaaa8c882aac71f02d8a047d5c200020...       1737.96      744.84   \n0xee278d943584dd8640eaf4cc6c7a5c80c0073e8500020...        373.41      160.03   \n\n                                                   total_bribes aura_bribes  \\\n0xade4a71bb62bec25154cfc7e6ff49a513b491e8100000...      1217.69           0   \n0x9791d590788598535278552eecd4b211bfc790cb00000...      3001.25     1196.37   \n0x4a2f6ae7f3e5d715689530873ec35593dc28951b00000...      4229.15     1685.84   \n0x423a1323c871abc9d89eb06855bf5347048fc4a500000...       471.34      471.34   \n0x32df62dc3aed2cd6224193052ce665dc1816584100020...     18353.60     7316.17   \n0x0c8972437a38b389ec83d1e666b69b8a4fcf8bfd00000...         0.03           0   \n0x3fd4954a851ead144c2ff72b1f5a38ea5976bd5400000...      3220.13     1283.62   \n0xfd2620c9cfcec7d152467633b3b0ca338d3d78cc00000...      3076.78     1226.48   \n0xc13546b97b9b1b15372368dc06529d7191081f5b00000...      1274.22      507.93   \n0x9fa6ab3d78984a69e712730a2227f20bcc8b5ad900000...       524.68           0   \n0xb26f0e66317846bd5fe0cbaa1d269f0efeb05c9600000...       245.05      245.05   \n0x55bec22f8f6c69137ceaf284d9b441db1b9bfedc00020...         0.00           0   \n0xfb4c2e6e6e27b5b4a07a36360c89ede29bb3c9b600000...      2216.40      883.51   \n0xc771c1a5905420daec317b154eb13e4198ba97d000000...       360.84           0   \n0x0c659734f1eef9c63b7ebdf78a164cdd745586db00000...       347.25      347.25   \n0x93d199263632a4ef4bb438f1feb99e57b4b5f0bd00000...      8713.57     3473.43   \n0x1e19cf2d73a72ef1332c882f20534b6519be027600020...      8248.68     3288.12   \n0xe7e2c68d3b13d905bbb636709cf4dfd21076b9d200000...      1689.64      673.53   \n0xf7a826d47c8e02835d94fb0aa40f0cc9505cb13400020...       556.13           0   \n0xf16aee6a71af1a9bc8f56975a4c2705ca7a782bc00020...      1319.49      525.98   \n0xb08885e6026bab4333a80024ec25a1a3e1ff2b8a00020...       516.64      516.64   \n0x8353157092ed8be69a9df8f95af097bbf33cb2af00000...       745.74           0   \n0xdfe6e7e18f6cc65fa13c8d8966013d4fda74b6ba00000...      1811.41      722.07   \n0x5f1f4e50ba51d723f12385a8a9606afc3a0555f500020...        10.28       10.28   \n0x1ee442b5326009bb18f2f472d3e0061513d1a0ff00020...      3181.83     1268.35   \n0x9f9d900462492d4c21e9523ca95a7cd86142f29800020...       573.80           0   \n0x3ff3a210e57cfe679d9ad1e9ba6453a716c56a2e00020...      1734.87      691.56   \n0xf01b0684c98cd7ada480bfdf6e43876422fa1fc100020...       824.30      824.30   \n0x36be1e97ea98ab43b4debf92742517266f5731a300020...       331.24           0   \n0x42ed016f826165c2e5976fe5bc3df540c5ad0af700000...      9089.48     3623.28   \n0x37b18b10ce5635a84834b26095a0ae5639dcb75200000...      3104.89     1237.68   \n0xf0ad209e2e969eaaa8c882aac71f02d8a047d5c200020...      2482.80      989.70   \n0xee278d943584dd8640eaf4cc6c7a5c80c0073e8500020...       533.45           0   \n\n                                                   bal_bribes reroute_bribes  \n0xade4a71bb62bec25154cfc7e6ff49a513b491e8100000...    1217.69              0  \n0x9791d590788598535278552eecd4b211bfc790cb00000...    1804.88              0  \n0x4a2f6ae7f3e5d715689530873ec35593dc28951b00000...    2543.31              0  \n0x423a1323c871abc9d89eb06855bf5347048fc4a500000...          0              0  \n0x32df62dc3aed2cd6224193052ce665dc1816584100020...   11037.43              0  \n0x0c8972437a38b389ec83d1e666b69b8a4fcf8bfd00000...       0.03              0  \n0x3fd4954a851ead144c2ff72b1f5a38ea5976bd5400000...    1936.51              0  \n0xfd2620c9cfcec7d152467633b3b0ca338d3d78cc00000...    1850.30              0  \n0xc13546b97b9b1b15372368dc06529d7191081f5b00000...     766.29              0  \n0x9fa6ab3d78984a69e712730a2227f20bcc8b5ad900000...     524.68              0  \n0xb26f0e66317846bd5fe0cbaa1d269f0efeb05c9600000...          0              0  \n0x55bec22f8f6c69137ceaf284d9b441db1b9bfedc00020...       0.00              0  \n0xfb4c2e6e6e27b5b4a07a36360c89ede29bb3c9b600000...    1332.89              0  \n0xc771c1a5905420daec317b154eb13e4198ba97d000000...     360.84              0  \n0x0c659734f1eef9c63b7ebdf78a164cdd745586db00000...          0              0  \n0x93d199263632a4ef4bb438f1feb99e57b4b5f0bd00000...    5240.14              0  \n0x1e19cf2d73a72ef1332c882f20534b6519be027600020...    4960.56              0  \n0xe7e2c68d3b13d905bbb636709cf4dfd21076b9d200000...    1016.11              0  \n0xf7a826d47c8e02835d94fb0aa40f0cc9505cb13400020...     556.13              0  \n0xf16aee6a71af1a9bc8f56975a4c2705ca7a782bc00020...     793.51              0  \n0xb08885e6026bab4333a80024ec25a1a3e1ff2b8a00020...          0              0  \n0x8353157092ed8be69a9df8f95af097bbf33cb2af00000...     745.74              0  \n0xdfe6e7e18f6cc65fa13c8d8966013d4fda74b6ba00000...    1089.34              0  \n0x5f1f4e50ba51d723f12385a8a9606afc3a0555f500020...          0              0  \n0x1ee442b5326009bb18f2f472d3e0061513d1a0ff00020...    1913.48              0  \n0x9f9d900462492d4c21e9523ca95a7cd86142f29800020...     573.80              0  \n0x3ff3a210e57cfe679d9ad1e9ba6453a716c56a2e00020...    1043.31              0  \n0xf01b0684c98cd7ada480bfdf6e43876422fa1fc100020...          0              0  \n0x36be1e97ea98ab43b4debf92742517266f5731a300020...     331.24              0  \n0x42ed016f826165c2e5976fe5bc3df540c5ad0af700000...    5466.20              0  \n0x37b18b10ce5635a84834b26095a0ae5639dcb75200000...    1867.21              0  \n0xf0ad209e2e969eaaa8c882aac71f02d8a047d5c200020...    1493.10              0  \n0xee278d943584dd8640eaf4cc6c7a5c80c0073e8500020...     533.45              0  ",
      "text/html": "<div>\n<style scoped>\n    .dataframe tbody tr th:only-of-type {\n        vertical-align: middle;\n    }\n\n    .dataframe tbody tr th {\n        vertical-align: top;\n    }\n\n    .dataframe thead th {\n        text-align: right;\n    }\n</style>\n<table border=\"1\" class=\"dataframe\">\n  <thead>\n    <tr style=\"text-align: right;\">\n      <th></th>\n      <th>chain</th>\n      <th>symbol</th>\n      <th>protocol_fees_collected</th>\n      <th>fees_to_vebal</th>\n      <th>fees_to_dao</th>\n      <th>total_bribes</th>\n      <th>aura_bribes</th>\n      <th>bal_bribes</th>\n      <th>reroute_bribes</th>\n    </tr>\n  </thead>\n  <tbody>\n    <tr>\n      <th>0xade4a71bb62bec25154cfc7e6ff49a513b491e81000000000000000000000497</th>\n      <td>arbitrum</td>\n      <td>rETH-WETH-BPT</td>\n      <td>1296.63</td>\n      <td>852.38</td>\n      <td>365.31</td>\n      <td>1217.69</td>\n      <td>0</td>\n      <td>1217.69</td>\n      <td>0</td>\n    </tr>\n    <tr>\n      <th>0x9791d590788598535278552eecd4b211bfc790cb000000000000000000000498</th>\n      <td>arbitrum</td>\n      <td>wstETH-WETH-BPT</td>\n      <td>3195.83</td>\n      <td>2100.88</td>\n      <td>900.38</td>\n      <td>3001.25</td>\n      <td>1196.37</td>\n      <td>1804.88</td>\n      <td>0</td>\n    </tr>\n    <tr>\n      <th>0x4a2f6ae7f3e5d715689530873ec35593dc28951b000000000000000000000481</th>\n      <td>arbitrum</td>\n      <td>wstETH/rETH/cbETH</td>\n      <td>4503.33</td>\n      <td>2960.40</td>\n      <td>1268.74</td>\n      <td>4229.15</td>\n      <td>1685.84</td>\n      <td>2543.31</td>\n      <td>0</td>\n    </tr>\n    <tr>\n      <th>0x423a1323c871abc9d89eb06855bf5347048fc4a5000000000000000000000496</th>\n      <td>arbitrum</td>\n      <td>4POOL-BPT</td>\n      <td>501.90</td>\n      <td>329.94</td>\n      <td>141.40</td>\n      <td>471.34</td>\n      <td>471.34</td>\n      <td>0</td>\n      <td>0</td>\n    </tr>\n    <tr>\n      <th>0x32df62dc3aed2cd6224193052ce665dc181658410002000000000000000003bd</th>\n      <td>arbitrum</td>\n      <td>RDNT-WETH</td>\n      <td>19543.49</td>\n      <td>12847.52</td>\n      <td>5506.08</td>\n      <td>18353.60</td>\n      <td>7316.17</td>\n      <td>11037.43</td>\n      <td>0</td>\n    </tr>\n    <tr>\n      <th>0x0c8972437a38b389ec83d1e666b69b8a4fcf8bfd00000000000000000000049e</th>\n      <td>arbitrum</td>\n      <td>wstETH/rETH/sfrxETH</td>\n      <td>0.03</td>\n      <td>0.02</td>\n      <td>0.01</td>\n      <td>0.03</td>\n      <td>0</td>\n      <td>0.03</td>\n      <td>0</td>\n    </tr>\n    <tr>\n      <th>0x3fd4954a851ead144c2ff72b1f5a38ea5976bd54000000000000000000000480</th>\n      <td>arbitrum</td>\n      <td>ankrETH/wstETH-BPT</td>\n      <td>3428.90</td>\n      <td>2254.09</td>\n      <td>966.04</td>\n      <td>3220.13</td>\n      <td>1283.62</td>\n      <td>1936.51</td>\n      <td>0</td>\n    </tr>\n    <tr>\n      <th>0xfd2620c9cfcec7d152467633b3b0ca338d3d78cc00000000000000000000001c</th>\n      <td>avalanche</td>\n      <td>sAVAX-WAVAX-BPT</td>\n      <td>3139.37</td>\n      <td>2153.74</td>\n      <td>923.03</td>\n      <td>3076.78</td>\n      <td>1226.48</td>\n      <td>1850.30</td>\n      <td>0</td>\n    </tr>\n    <tr>\n      <th>0xc13546b97b9b1b15372368dc06529d7191081f5b00000000000000000000001d</th>\n      <td>avalanche</td>\n      <td>ggAVAX-WAVAX-BPT</td>\n      <td>1300.14</td>\n      <td>891.95</td>\n      <td>382.27</td>\n      <td>1274.22</td>\n      <td>507.93</td>\n      <td>766.29</td>\n      <td>0</td>\n    </tr>\n    <tr>\n      <th>0x9fa6ab3d78984a69e712730a2227f20bcc8b5ad900000000000000000000001f</th>\n      <td>avalanche</td>\n      <td>yyAVAX-WAVAX-BPT</td>\n      <td>535.35</td>\n      <td>367.27</td>\n      <td>157.40</td>\n      <td>524.68</td>\n      <td>0</td>\n      <td>524.68</td>\n      <td>0</td>\n    </tr>\n    <tr>\n      <th>0xb26f0e66317846bd5fe0cbaa1d269f0efeb05c9600000000000000000000001e</th>\n      <td>avalanche</td>\n      <td>USDC-USDT-BPT</td>\n      <td>250.04</td>\n      <td>171.54</td>\n      <td>73.52</td>\n      <td>245.05</td>\n      <td>245.05</td>\n      <td>0</td>\n      <td>0</td>\n    </tr>\n    <tr>\n      <th>0x55bec22f8f6c69137ceaf284d9b441db1b9bfedc000200000000000000000011</th>\n      <td>avalanche</td>\n      <td>BPT</td>\n      <td>0.00</td>\n      <td>0.00</td>\n      <td>0.00</td>\n      <td>0.00</td>\n      <td>0</td>\n      <td>0.00</td>\n      <td>0</td>\n    </tr>\n    <tr>\n      <th>0xfb4c2e6e6e27b5b4a07a36360c89ede29bb3c9b6000000000000000000000026</th>\n      <td>base</td>\n      <td>cbETH/WETH</td>\n      <td>3225.47</td>\n      <td>1551.48</td>\n      <td>664.92</td>\n      <td>2216.40</td>\n      <td>883.51</td>\n      <td>1332.89</td>\n      <td>0</td>\n    </tr>\n    <tr>\n      <th>0xc771c1a5905420daec317b154eb13e4198ba97d0000000000000000000000023</th>\n      <td>base</td>\n      <td>rETH-WETH-BPT</td>\n      <td>525.12</td>\n      <td>252.59</td>\n      <td>108.25</td>\n      <td>360.84</td>\n      <td>0</td>\n      <td>360.84</td>\n      <td>0</td>\n    </tr>\n    <tr>\n      <th>0x0c659734f1eef9c63b7ebdf78a164cdd745586db000000000000000000000046</th>\n      <td>base</td>\n      <td>USDC/USDbC/axlUSDC</td>\n      <td>505.35</td>\n      <td>243.08</td>\n      <td>104.18</td>\n      <td>347.25</td>\n      <td>347.25</td>\n      <td>0</td>\n      <td>0</td>\n    </tr>\n    <tr>\n      <th>0x93d199263632a4ef4bb438f1feb99e57b4b5f0bd0000000000000000000005c2</th>\n      <td>mainnet</td>\n      <td>wstETH-WETH-BPT</td>\n      <td>15578.32</td>\n      <td>6099.50</td>\n      <td>2614.07</td>\n      <td>8713.57</td>\n      <td>3473.43</td>\n      <td>5240.14</td>\n      <td>0</td>\n    </tr>\n    <tr>\n      <th>0x1e19cf2d73a72ef1332c882f20534b6519be0276000200000000000000000112</th>\n      <td>mainnet</td>\n      <td>B-rETH-STABLE</td>\n      <td>14747.17</td>\n      <td>5774.08</td>\n      <td>2474.60</td>\n      <td>8248.68</td>\n      <td>3288.12</td>\n      <td>4960.56</td>\n      <td>0</td>\n    </tr>\n    <tr>\n      <th>0xe7e2c68d3b13d905bbb636709cf4dfd21076b9d20000000000000000000005ca</th>\n      <td>mainnet</td>\n      <td>swETH-WETH-BPT</td>\n      <td>3020.77</td>\n      <td>1182.75</td>\n      <td>506.89</td>\n      <td>1689.64</td>\n      <td>673.53</td>\n      <td>1016.11</td>\n      <td>0</td>\n    </tr>\n    <tr>\n      <th>0xf7a826d47c8e02835d94fb0aa40f0cc9505cb1340002000000000000000005e0</th>\n      <td>mainnet</td>\n      <td>ECLP-wstETH-cbETH</td>\n      <td>994.26</td>\n      <td>389.29</td>\n      <td>166.84</td>\n      <td>556.13</td>\n      <td>0</td>\n      <td>556.13</td>\n      <td>0</td>\n    </tr>\n    <tr>\n      <th>0xf16aee6a71af1a9bc8f56975a4c2705ca7a782bc0002000000000000000004bb</th>\n      <td>mainnet</td>\n      <td>20WETH-80ALCX</td>\n      <td>2359.02</td>\n      <td>923.65</td>\n      <td>395.85</td>\n      <td>1319.49</td>\n      <td>525.98</td>\n      <td>793.51</td>\n      <td>0</td>\n    </tr>\n    <tr>\n      <th>0xb08885e6026bab4333a80024ec25a1a3e1ff2b8a000200000000000000000445</th>\n      <td>mainnet</td>\n      <td>B-staFiETH-WETH-Stable</td>\n      <td>923.66</td>\n      <td>361.65</td>\n      <td>154.99</td>\n      <td>516.64</td>\n      <td>516.64</td>\n      <td>0</td>\n      <td>0</td>\n    </tr>\n    <tr>\n      <th>0x8353157092ed8be69a9df8f95af097bbf33cb2af0000000000000000000005d9</th>\n      <td>mainnet</td>\n      <td>GHO/USDT/USDC</td>\n      <td>1333.25</td>\n      <td>522.02</td>\n      <td>223.72</td>\n      <td>745.74</td>\n      <td>0</td>\n      <td>745.74</td>\n      <td>0</td>\n    </tr>\n    <tr>\n      <th>0xdfe6e7e18f6cc65fa13c8d8966013d4fda74b6ba000000000000000000000558</th>\n      <td>mainnet</td>\n      <td>ankrETH/wstETH</td>\n      <td>3238.47</td>\n      <td>1267.98</td>\n      <td>543.42</td>\n      <td>1811.41</td>\n      <td>722.07</td>\n      <td>1089.34</td>\n      <td>0</td>\n    </tr>\n    <tr>\n      <th>0x5f1f4e50ba51d723f12385a8a9606afc3a0555f5000200000000000000000465</th>\n      <td>mainnet</td>\n      <td>50wstETH-50LDO</td>\n      <td>18.37</td>\n      <td>7.19</td>\n      <td>3.08</td>\n      <td>10.28</td>\n      <td>10.28</td>\n      <td>0</td>\n      <td>0</td>\n    </tr>\n    <tr>\n      <th>0x1ee442b5326009bb18f2f472d3e0061513d1a0ff000200000000000000000464</th>\n      <td>mainnet</td>\n      <td>50rETH-50BADGER</td>\n      <td>5688.56</td>\n      <td>2227.29</td>\n      <td>954.55</td>\n      <td>3181.83</td>\n      <td>1268.35</td>\n      <td>1913.48</td>\n      <td>0</td>\n    </tr>\n    <tr>\n      <th>0x9f9d900462492d4c21e9523ca95a7cd86142f298000200000000000000000462</th>\n      <td>mainnet</td>\n      <td>50rETH-50RPL</td>\n      <td>1025.86</td>\n      <td>401.66</td>\n      <td>172.14</td>\n      <td>573.80</td>\n      <td>0</td>\n      <td>573.80</td>\n      <td>0</td>\n    </tr>\n    <tr>\n      <th>0x3ff3a210e57cfe679d9ad1e9ba6453a716c56a2e0002000000000000000005d5</th>\n      <td>mainnet</td>\n      <td>STG/USDC</td>\n      <td>3101.64</td>\n      <td>1214.41</td>\n      <td>520.46</td>\n      <td>1734.87</td>\n      <td>691.56</td>\n      <td>1043.31</td>\n      <td>0</td>\n    </tr>\n    <tr>\n      <th>0xf01b0684c98cd7ada480bfdf6e43876422fa1fc10002000000000000000005de</th>\n      <td>mainnet</td>\n      <td>ECLP-wstETH-wETH</td>\n      <td>1473.71</td>\n      <td>577.01</td>\n      <td>247.29</td>\n      <td>824.30</td>\n      <td>824.30</td>\n      <td>0</td>\n      <td>0</td>\n    </tr>\n    <tr>\n      <th>0x36be1e97ea98ab43b4debf92742517266f5731a3000200000000000000000466</th>\n      <td>mainnet</td>\n      <td>50wstETH-50ACX</td>\n      <td>592.19</td>\n      <td>231.86</td>\n      <td>99.37</td>\n      <td>331.24</td>\n      <td>0</td>\n      <td>331.24</td>\n      <td>0</td>\n    </tr>\n    <tr>\n      <th>0x42ed016f826165c2e5976fe5bc3df540c5ad0af700000000000000000000058b</th>\n      <td>mainnet</td>\n      <td>wstETH-rETH-sfrxETH-BPT</td>\n      <td>16250.38</td>\n      <td>6362.64</td>\n      <td>2726.85</td>\n      <td>9089.48</td>\n      <td>3623.28</td>\n      <td>5466.20</td>\n      <td>0</td>\n    </tr>\n    <tr>\n      <th>0x37b18b10ce5635a84834b26095a0ae5639dcb7520000000000000000000005cb</th>\n      <td>mainnet</td>\n      <td>ETHx-WETH-BPT</td>\n      <td>5550.99</td>\n      <td>2173.42</td>\n      <td>931.47</td>\n      <td>3104.89</td>\n      <td>1237.68</td>\n      <td>1867.21</td>\n      <td>0</td>\n    </tr>\n    <tr>\n      <th>0xf0ad209e2e969eaaa8c882aac71f02d8a047d5c2000200000000000000000b49</th>\n      <td>polygon</td>\n      <td>ECLP-WMATIC-stMATIC</td>\n      <td>1941.79</td>\n      <td>1737.96</td>\n      <td>744.84</td>\n      <td>2482.80</td>\n      <td>989.70</td>\n      <td>1493.10</td>\n      <td>0</td>\n    </tr>\n    <tr>\n      <th>0xee278d943584dd8640eaf4cc6c7a5c80c0073e85000200000000000000000bc7</th>\n      <td>polygon</td>\n      <td>ECLP-WMATIC-MATICX</td>\n      <td>417.21</td>\n      <td>373.41</td>\n      <td>160.03</td>\n      <td>533.45</td>\n      <td>0</td>\n      <td>533.45</td>\n      <td>0</td>\n    </tr>\n  </tbody>\n</table>\n</div>"
     },
     "execution_count": 15,
     "metadata": {},
     "output_type": "execute_result"
    }
   ],
   "source": [
    "from notebooks import calculate_aura_vebal_share\n",
    "\n",
    "aura_vebal_share = calculate_aura_vebal_share(WEB3_INSTANCES.mainnet, target_blocks[Chains.MAINNET.value][0])\n",
    "\n",
    "# Bribes are split per chain and per pool, with each pool getting a share of the bribe proportional to its share of fees\n",
    "# paid by all pools on that chain. For example, if pool A paid 10% of all fees on Arbitrum, it will get 10% of the bribes. That 10% will be distributed between aura and vebal, proportional to their share of the bribe.\n",
    "\n",
    "FEES_TO_DISTRIBUTE = {\n",
    "    Chains.MAINNET.value: Decimal(112945.77),\n",
    "    Chains.ARBITRUM.value: Decimal(39481.82),\n",
    "    Chains.POLYGON.value: Decimal(6592.87),\n",
    "    Chains.BASE.value: Decimal(10260.35),\n",
    "    Chains.GNOSIS.value: Decimal(2503.21),\n",
    "    Chains.AVALANCHE.value: Decimal(10297),\n",
    "}\n",
    "\n",
    "\n",
    "# Let's calculate share of fees paid by each pool on each chain\n",
    "def calc_and_split_bribes(fees: Dict, chain: str, fees_to_distribute: Decimal) -> Dict[str, Dict]:\n",
    "    pool_bribs = {}\n",
    "    # Calculate pool share in fees\n",
    "    dao_share = Decimal(0.15)\n",
    "    vebal_share = Decimal(0.35)\n",
    "    fees_to_distr_wo_dao_vebal = fees_to_distribute - (fees_to_distribute * dao_share) - (\n",
    "            fees_to_distribute * vebal_share)\n",
    "    # Calculate totals\n",
    "    bpt_fees = sum([data['bpt_token_fee_in_usd'] for pool, data in fees.items()])\n",
    "    token_fees = sum([data['token_fees_in_usd'] for pool, data in fees.items()])\n",
    "    total_fees = bpt_fees + token_fees\n",
    "    for pool, data in fees.items():\n",
    "        pool_fees = data['bpt_token_fee_in_usd'] + data['token_fees_in_usd']\n",
    "        pool_share = pool_fees / Decimal(total_fees)\n",
    "        # If aura bribes is less than 500 USDC, we pay all bribes to balancer\n",
    "        aura_bribes = round(pool_share * fees_to_distr_wo_dao_vebal * aura_vebal_share, 2)\n",
    "        if aura_bribes <= Decimal(MIN_AURA_BRIB):\n",
    "            aura_bribes = Decimal(0)\n",
    "            bal_bribes = round(pool_share * fees_to_distr_wo_dao_vebal, 2)\n",
    "        else:\n",
    "            bal_bribes = round(pool_share * fees_to_distr_wo_dao_vebal * (1 - aura_vebal_share), 2)\n",
    "        fees_to_dao = round(pool_share * fees_to_distribute * dao_share, 2)\n",
    "        fees_to_vebal = round(pool_share * fees_to_distribute * vebal_share, 2)\n",
    "        # Split fees between aura and bal fees\n",
    "        pool_bribs[pool] = {\n",
    "            \"chain\": chain,\n",
    "            \"symbol\": data['symbol'],\n",
    "            \"protocol_fees_collected\": pool_fees,\n",
    "            \"fees_to_vebal\": fees_to_vebal,\n",
    "            \"fees_to_dao\": fees_to_dao,\n",
    "            \"total_bribes\": aura_bribes + bal_bribes,\n",
    "            \"aura_bribes\": aura_bribes,\n",
    "            \"bal_bribes\": bal_bribes,\n",
    "            \"reroute_bribes\": Decimal(0),\n",
    "            \"pool_addr\": data['pool_addr'],\n",
    "        }\n",
    "    return pool_bribs\n",
    "\n",
    "\n",
    "def re_route_bribs(bribes_data: Dict[str, Dict], chain: Chains) -> Dict[str, Dict]:\n",
    "    \"\"\"\n",
    "    If pool is in re-route configuration, all bribes from that pool should be distributed to destination pool\n",
    "      Ex: {source_pool: destination_pool}\n",
    "    \"\"\"\n",
    "    if not chain.value in REROUTE_CONFIG:\n",
    "        return bribes_data\n",
    "    for pool_id, _data in bribes_data.items():\n",
    "        if pool_id in REROUTE_CONFIG[chain.value]:\n",
    "            # Re route everything to destination pool and set source pool bribes to 0\n",
    "            bribes_data[REROUTE_CONFIG[chain.value][pool_id]]['aura_bribes'] += _data['aura_bribes']\n",
    "            bribes_data[REROUTE_CONFIG[chain.value][pool_id]]['bal_bribes'] += _data['bal_bribes']\n",
    "            # Increase total bribes by aura and bal bribes\n",
    "            bribes_data[REROUTE_CONFIG[chain.value][pool_id]]['total_bribes'] += _data['aura_bribes'] + _data[\n",
    "                'bal_bribes']\n",
    "            # Mark source pool bribes as rerouted\n",
    "            bribes_data[REROUTE_CONFIG[chain.value][pool_id]]['reroute_bribes'] += _data['total_bribes']\n",
    "            bribes_data[pool_id]['aura_bribes'] = 0\n",
    "            bribes_data[pool_id]['bal_bribes'] = 0\n",
    "    return bribes_data\n",
    "\n",
    "\n",
    "bribes = {}\n",
    "for chain in Chains:\n",
    "    if not collected_fees.get(chain.value):\n",
    "        continue\n",
    "    _bribs = calc_and_split_bribes(collected_fees[chain.value], chain.value,\n",
    "                                   FEES_TO_DISTRIBUTE[chain.value])\n",
    "    # Reroute bribes if needed\n",
    "    bribs = re_route_bribs(_bribs, chain)\n",
    "    bribes[chain.value] = bribs\n",
    "\n",
    "joint_bribes_data = {**bribes[Chains.MAINNET.value], **bribes[Chains.ARBITRUM.value],\n",
    "                     **bribes[Chains.POLYGON.value], **bribes[Chains.BASE.value], **bribes[Chains.AVALANCHE.value]}\n",
    "# Sort by chain\n",
    "joint_bribes_data = {k: v for k, v in sorted(joint_bribes_data.items(), key=lambda item: item[1]['chain'])}\n",
    "joint_bribes_df = pd.DataFrame.from_dict(joint_bribes_data, orient='index')\n",
    "# Sort by chain\n",
    "# Dump into csv and prefix with dates\n",
    "joint_bribes_df.to_csv(f'./output/bribes_{datetime_2_weeks_ago.date()}_{datetime_now.date()}.csv')\n",
    "# Don't show pool_addr\n",
    "display = joint_bribes_df.drop(columns=['pool_addr'])\n",
    "display.sort_values(by=['chain'], ascending=False)\n",
    "display"
   ],
   "metadata": {
    "collapsed": false,
    "ExecuteTime": {
     "end_time": "2023-10-14T16:54:55.522063Z",
     "start_time": "2023-10-14T16:54:54.908767Z"
    }
   },
   "id": "efdef306c522076a"
  }
 ],
 "metadata": {
  "kernelspec": {
   "display_name": "Python 3",
   "language": "python",
   "name": "python3"
  },
  "language_info": {
   "codemirror_mode": {
    "name": "ipython",
    "version": 2
   },
   "file_extension": ".py",
   "mimetype": "text/x-python",
   "name": "python",
   "nbconvert_exporter": "python",
   "pygments_lexer": "ipython2",
   "version": "2.7.6"
  }
 },
 "nbformat": 4,
 "nbformat_minor": 5
}
