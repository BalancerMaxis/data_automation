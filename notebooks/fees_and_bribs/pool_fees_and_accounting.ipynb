{
 "cells": [
  {
   "cell_type": "markdown",
   "source": [
    "## Collecting protocol fees across Balancer core pools on all networks\n",
    "- Spreadsheet as reference: https://docs.google.com/spreadsheets/d/1xwUPpbYq7woVOU9vQ8EB8MY75I-1mauTLyDVwvKUDKo/edit#gid=0\n",
    "- Collab: https://colab.research.google.com/drive/1vKCvcV5mkL1zwW3565kLSGkBEbt8NsoB?usp=sharing\n"
   ],
   "metadata": {
    "collapsed": false
   },
   "id": "e739385af75b2478"
  },
  {
   "cell_type": "code",
   "execution_count": 1,
   "outputs": [
    {
     "name": "stdout",
     "output_type": "stream",
     "text": [
      "Collecting bpt prices for Gnosis\n",
      "Collecting bpt prices for Avalanche\n",
      "Collecting bpt prices for Base\n",
      "Collecting bpt prices for Arbitrum\n",
      "Collecting bpt prices for Mainnet\n",
      "Collecting bpt prices for Polygon\n"
     ]
    }
   ],
   "source": [
    "import datetime\n",
    "import os\n",
    "\n",
    "import pandas as pd\n",
    "from dotenv import load_dotenv\n",
    "from web3 import Web3\n",
    "from web3.middleware import geth_poa_middleware\n",
    "\n",
    "from notebooks import get_block_by_ts\n",
    "from notebooks import get_twap_bpt_price\n",
    "from notebooks.fees_and_bribs.constants import ARB_CORE_POOLS\n",
    "from notebooks.fees_and_bribs.constants import AVAX_CORE_POOLS\n",
    "from notebooks.fees_and_bribs.constants import BASE_CORE_POOLS\n",
    "from notebooks.fees_and_bribs.constants import GNOSIS_CORE_POOLS\n",
    "from notebooks.fees_and_bribs.constants import MAINNET_CORE_POOLS\n",
    "from notebooks.fees_and_bribs.constants import POLYGON_CORE_POOLS\n",
    "\n",
    "load_dotenv()\n",
    "arb_web3 = Web3(Web3.HTTPProvider(os.environ[\"ARBNODEURL\"]))\n",
    "eth_web3 = Web3(Web3.HTTPProvider(os.environ[\"ETHNODEURL\"]))\n",
    "base_web3 = Web3(Web3.HTTPProvider(os.environ[\"BASENODEURL\"]))\n",
    "gnosis_web3 = Web3(Web3.HTTPProvider(os.environ[\"GNOSISNODEURL\"]))\n",
    "avax_web3 = Web3(Web3.HTTPProvider(os.environ[\"AVALANCHENODEURL\"]))\n",
    "poly_web3 = Web3(Web3.HTTPProvider(\"https://polygon-rpc.com\"))\n",
    "poly_web3.middleware_onion.inject(geth_poa_middleware, layer=0)\n",
    "\n",
    "# ARBITRUM\n",
    "# arb_block_now = arb_web3.eth.block_number - 1000\n",
    "timestamp_now = 1694790000\n",
    "arb_block = get_block_by_ts(timestamp_now, \"arbitrum\")  # 18 August 2023\n",
    "# Given Arb block time, we want to look back 2 weeks:\n",
    "arb_timestamp_2_weeks_ago = timestamp_now - (2 * 7 * 24 * 60 * 60)\n",
    "arb_block_2_weeks_ago = get_block_by_ts(arb_timestamp_2_weeks_ago, \"arbitrum\")\n",
    "# Convert to datetime:\n",
    "arb_datetime_now = datetime.datetime.fromtimestamp(timestamp_now)\n",
    "arb_datetime_2_weeks_ago = datetime.datetime.fromtimestamp(arb_timestamp_2_weeks_ago)\n",
    "# MAINNET\n",
    "mainnet_block = get_block_by_ts(timestamp_now, \"mainnet\")\n",
    "# Given mainnet block time, we want to look back 2 weeks:\n",
    "mainnet_timestamp_2_weeks_ago = arb_timestamp_2_weeks_ago\n",
    "mainnet_block_2_weeks_ago = get_block_by_ts(mainnet_timestamp_2_weeks_ago, \"mainnet\")\n",
    "# Convert to datetime:\n",
    "mainnet_datetime_now = datetime.datetime.fromtimestamp(timestamp_now)\n",
    "mainnet_datetime_2_weeks_ago = datetime.datetime.fromtimestamp(mainnet_timestamp_2_weeks_ago)\n",
    "\n",
    "# BASE\n",
    "base_block = get_block_by_ts(timestamp_now, \"base\")\n",
    "# Given base block time, we want to look back 2 weeks:\n",
    "base_timestamp_2_weeks_ago = arb_timestamp_2_weeks_ago\n",
    "base_block_2_weeks_ago = get_block_by_ts(base_timestamp_2_weeks_ago, \"base\")\n",
    "# Convert to datetime:\n",
    "base_datetime_now = datetime.datetime.fromtimestamp(timestamp_now)\n",
    "base_datetime_2_weeks_ago = datetime.datetime.fromtimestamp(base_timestamp_2_weeks_ago)\n",
    "\n",
    "# POLYGON\n",
    "poly_block = get_block_by_ts(timestamp_now, \"polygon\")\n",
    "# Given polygon block time, we want to look back 2 weeks:\n",
    "poly_timestamp_2_weeks_ago = arb_timestamp_2_weeks_ago\n",
    "poly_block_2_weeks_ago = get_block_by_ts(poly_timestamp_2_weeks_ago, \"polygon\")\n",
    "# Convert to datetime:\n",
    "poly_datetime_now = datetime.datetime.fromtimestamp(timestamp_now)\n",
    "poly_datetime_2_weeks_ago = datetime.datetime.fromtimestamp(poly_timestamp_2_weeks_ago)\n",
    "\n",
    "# GNOSIS\n",
    "gnosis_block = get_block_by_ts(timestamp_now, \"gnosis\")\n",
    "# Given gnosis block time, we want to look back 2 weeks:\n",
    "gnosis_timestamp_2_weeks_ago = arb_timestamp_2_weeks_ago\n",
    "gnosis_block_2_weeks_ago = get_block_by_ts(gnosis_timestamp_2_weeks_ago, \"gnosis\")\n",
    "# Convert to datetime:\n",
    "gnosis_datetime_now = datetime.datetime.fromtimestamp(timestamp_now)\n",
    "gnosis_datetime_2_weeks_ago = datetime.datetime.fromtimestamp(gnosis_timestamp_2_weeks_ago)\n",
    "\n",
    "# Avalanche\n",
    "avax_block = get_block_by_ts(timestamp_now, \"avalanche\")\n",
    "# Given avalanche block time, we want to look back 2 weeks:\n",
    "avax_timestamp_2_weeks_ago = arb_timestamp_2_weeks_ago\n",
    "avax_block_2_weeks_ago = get_block_by_ts(avax_timestamp_2_weeks_ago, \"avalanche\")\n",
    "# Convert to datetime:\n",
    "avax_datetime_now = datetime.datetime.fromtimestamp(timestamp_now)\n",
    "avax_datetime_2_weeks_ago = datetime.datetime.fromtimestamp(avax_timestamp_2_weeks_ago)\n",
    "\n",
    "print(\"Collecting bpt prices for Gnosis\")\n",
    "gnosis_bpt_twap_prices = {}\n",
    "for gnosis_pool in GNOSIS_CORE_POOLS:\n",
    "    gnosis_bpt_twap_prices[gnosis_pool] = get_twap_bpt_price(gnosis_pool, 'gnosis', gnosis_web3,\n",
    "                                                             start_date=gnosis_datetime_now,\n",
    "                                                             block_number=gnosis_block)\n",
    "\n",
    "print(\"Collecting bpt prices for Avalanche\")\n",
    "avax_bpt_twap_prices = {}\n",
    "for avax_pool in AVAX_CORE_POOLS:\n",
    "    avax_bpt_twap_prices[avax_pool] = get_twap_bpt_price(avax_pool, 'avalanche', avax_web3,\n",
    "                                                         start_date=avax_datetime_now, block_number=avax_block)\n",
    "print(\"Collecting bpt prices for Base\")\n",
    "base_bpt_twap_prices = {}\n",
    "for base_pool in BASE_CORE_POOLS:\n",
    "    base_bpt_twap_prices[base_pool] = get_twap_bpt_price(base_pool, 'base', base_web3,\n",
    "                                                         start_date=base_datetime_now, block_number=base_block)\n",
    "print(\"Collecting bpt prices for Arbitrum\")\n",
    "arb_bpt_twap_prices = {}\n",
    "for arb_pool in ARB_CORE_POOLS:\n",
    "    arb_bpt_twap_prices[arb_pool] = get_twap_bpt_price(arb_pool, 'arbitrum', arb_web3,\n",
    "                                                       start_date=arb_datetime_now,\n",
    "                                                       block_number=arb_block)\n",
    "\n",
    "print(\"Collecting bpt prices for Mainnet\")\n",
    "mainnet_bpt_twap_prices = {}\n",
    "for mainnet_pool in MAINNET_CORE_POOLS:\n",
    "    mainnet_bpt_twap_prices[mainnet_pool] = get_twap_bpt_price(mainnet_pool, 'mainnet', eth_web3,\n",
    "                                                               start_date=mainnet_datetime_now,\n",
    "                                                               block_number=mainnet_block)\n",
    "print(\"Collecting bpt prices for Polygon\")\n",
    "polygon_bpt_twap_prices = {}\n",
    "for polygon_pool in POLYGON_CORE_POOLS:\n",
    "    polygon_bpt_twap_prices[polygon_pool] = get_twap_bpt_price(polygon_pool, 'polygon', poly_web3,\n",
    "                                                               start_date=poly_datetime_now,\n",
    "                                                               block_number=poly_block)\n",
    "\n",
    "# Convert to dataframe and print, merge all three dataframes\n",
    "arb_bpt_twap_prices_df = pd.DataFrame.from_dict(arb_bpt_twap_prices, orient='index')\n",
    "mainnet_bpt_twap_prices_df = pd.DataFrame.from_dict(mainnet_bpt_twap_prices, orient='index')\n",
    "polygon_bpt_twap_prices_df = pd.DataFrame.from_dict(polygon_bpt_twap_prices, orient='index')\n",
    "base_bpt_twap_prices_df = pd.DataFrame.from_dict(base_bpt_twap_prices, orient='index')\n",
    "gnosis_bpt_twap_prices_df = pd.DataFrame.from_dict(gnosis_bpt_twap_prices, orient='index')\n",
    "avax_bpt_twap_prices_df = pd.DataFrame.from_dict(avax_bpt_twap_prices, orient='index')"
   ],
   "metadata": {
    "collapsed": false,
    "ExecuteTime": {
     "end_time": "2023-09-18T15:48:50.317838Z",
     "start_time": "2023-09-18T15:45:43.153150Z"
    }
   },
   "id": "39d87004addaae1b"
  },
  {
   "cell_type": "markdown",
   "source": [
    "## Fetching data from the Balancer subgraphs"
   ],
   "metadata": {
    "collapsed": false
   },
   "id": "cde5ffca807e3849"
  },
  {
   "cell_type": "code",
   "execution_count": 2,
   "outputs": [],
   "source": [
    "from notebooks import get_balancer_pool_snapshots\n",
    "from notebooks.fees_and_bribs.constants import BASE_BALANCER_GRAPH_URL\n",
    "from notebooks.fees_and_bribs.constants import POLYGON_BALANCER_GRAPH_URL\n",
    "from notebooks.fees_and_bribs.constants import ARB_BALANCER_GRAPH_URL\n",
    "from notebooks.fees_and_bribs.constants import MAINNET_BALANCER_GRAPH_URL\n",
    "from notebooks.fees_and_bribs.constants import GNOSIS_BALANCER_GRAPH_URL\n",
    "from notebooks.fees_and_bribs.constants import AVALANCHE_BALANCER_GRAPH_URL\n",
    "from typing import Dict\n",
    "\n",
    "arbi_pool_snapshots_now = get_balancer_pool_snapshots(arb_block, ARB_BALANCER_GRAPH_URL)\n",
    "arbi_pool_snapshots_2_weeks_ago = get_balancer_pool_snapshots(int(arb_block_2_weeks_ago), ARB_BALANCER_GRAPH_URL)\n",
    "\n",
    "mainnet_pool_snapshots_now = get_balancer_pool_snapshots(mainnet_block, MAINNET_BALANCER_GRAPH_URL)\n",
    "mainnet_pool_snapshots_2_weeks_ago = get_balancer_pool_snapshots(int(mainnet_block_2_weeks_ago),\n",
    "                                                                 MAINNET_BALANCER_GRAPH_URL)\n",
    "\n",
    "polygon_pool_snapshots_now = get_balancer_pool_snapshots(poly_block, POLYGON_BALANCER_GRAPH_URL)\n",
    "polygon_pool_snapshots_2_weeks_ago = get_balancer_pool_snapshots(int(poly_block_2_weeks_ago),\n",
    "                                                                 POLYGON_BALANCER_GRAPH_URL)\n",
    "\n",
    "base_pool_snapshots_now = get_balancer_pool_snapshots(base_block, BASE_BALANCER_GRAPH_URL)\n",
    "base_pool_snapshots_2_weeks_ago = get_balancer_pool_snapshots(int(base_block_2_weeks_ago),\n",
    "                                                              BASE_BALANCER_GRAPH_URL)\n",
    "\n",
    "gnosis_pool_snapshots_now = get_balancer_pool_snapshots(gnosis_block, GNOSIS_BALANCER_GRAPH_URL)\n",
    "gnosis_pool_snapshots_2_weeks_ago = get_balancer_pool_snapshots(int(gnosis_block_2_weeks_ago),\n",
    "                                                                GNOSIS_BALANCER_GRAPH_URL)\n",
    "\n",
    "avax_pool_snapshots_now = get_balancer_pool_snapshots(avax_block, AVALANCHE_BALANCER_GRAPH_URL)\n",
    "avax_pool_snapshots_2_weeks_ago = get_balancer_pool_snapshots(int(avax_block_2_weeks_ago),\n",
    "                                                              AVALANCHE_BALANCER_GRAPH_URL)"
   ],
   "metadata": {
    "collapsed": false,
    "ExecuteTime": {
     "end_time": "2023-09-18T15:50:09.462875Z",
     "start_time": "2023-09-18T15:48:50.325078Z"
    }
   },
   "id": "e1e0b8b90f62234c"
  },
  {
   "cell_type": "markdown",
   "source": [
    "## Extract fee data for CORE pools:\n"
   ],
   "metadata": {
    "collapsed": false
   },
   "id": "d5333a7de445454d"
  },
  {
   "cell_type": "code",
   "execution_count": 3,
   "outputs": [],
   "source": [
    "from collections import defaultdict\n",
    "from decimal import Decimal\n",
    "from notebooks import fetch_token_price_balgql\n",
    "\n",
    "\n",
    "def collect_fee_info(pools: list[str], chain: str, pools_now: list[dict], pools_shifted: list[dict],\n",
    "                     start_date: datetime.datetime) -> tuple[dict, dict]:\n",
    "    # Iterate through snapshots now and 2 weeks ago and extract fee data, by subtracting today's fee data from 2 weeks ago\n",
    "    # and then summing across all pools\n",
    "    fees = {}\n",
    "    token_fees = defaultdict(list)\n",
    "    for pool in pools:\n",
    "        current_fees_snapshots = [x for x in pools_now if x['pool']['id'] == pool]\n",
    "        current_fees_snapshots.sort(key=lambda x: x['timestamp'], reverse=True)\n",
    "        fees_2_weeks_ago = [x for x in pools_shifted if x['pool']['id'] == pool]\n",
    "        fees_2_weeks_ago.sort(key=lambda x: x['timestamp'], reverse=True)\n",
    "        # Take first element of list, which is the most recent snapshot\n",
    "        if not current_fees_snapshots or not fees_2_weeks_ago:\n",
    "            continue\n",
    "        pool_snapshot_now = current_fees_snapshots[0]\n",
    "        pool_snapshot_2_weeks_ago = fees_2_weeks_ago[0]\n",
    "        # Calculate fees\n",
    "        pool_fee = float(pool_snapshot_now['protocolFee']) - float(pool_snapshot_2_weeks_ago['protocolFee'])\n",
    "        pool_swap_fee = float(pool_snapshot_now['swapFees']) - float(pool_snapshot_2_weeks_ago['swapFees'])\n",
    "        # Now we need to collect token fee info. Let's start with BPT tokens, which is Balancer pool token. Notice,\n",
    "        # That totalProtocolFeePaidInBPT can be null, so we need to check for that\n",
    "        bpt_token_fee = 0\n",
    "        bpt_price_usd = arb_bpt_twap_prices[pool] if chain == 'arbitrum' else mainnet_bpt_twap_prices[\n",
    "            pool] if chain == 'mainnet' else polygon_bpt_twap_prices[pool] if chain == 'polygon' else \\\n",
    "            base_bpt_twap_prices[pool] if chain == 'base' else gnosis_bpt_twap_prices[pool] if chain == 'gnosis' else \\\n",
    "            avax_bpt_twap_prices[pool]\n",
    "        if bpt_price_usd is None:\n",
    "            bpt_price_usd = 0\n",
    "        if pool_snapshot_now['pool']['totalProtocolFeePaidInBPT'] is not None and pool_snapshot_2_weeks_ago['pool'][\n",
    "            'totalProtocolFeePaidInBPT'] is not None:\n",
    "            bpt_token_fee = float(pool_snapshot_now['pool']['totalProtocolFeePaidInBPT']) - float(\n",
    "                pool_snapshot_2_weeks_ago['pool']['totalProtocolFeePaidInBPT'])\n",
    "            token_fees[pool_snapshot_now['pool']['symbol']].append({\n",
    "                'token': pool_snapshot_now['pool']['symbol'],\n",
    "                'token_fee': bpt_token_fee,\n",
    "                'token_price': bpt_price_usd,\n",
    "                'token_fee_in_usd': Decimal(bpt_token_fee) * bpt_price_usd,\n",
    "                'token_addr': pool_snapshot_now['pool']['address'],\n",
    "                'time_from': arb_datetime_2_weeks_ago,\n",
    "                'time_to': arb_datetime_now,\n",
    "                'chain': chain,\n",
    "            })\n",
    "        # Now collect fee info about fees paid in pool tokens. Pool tokens fee info is in pool.tokens dictionary. This will be separate dictionary\n",
    "        else:\n",
    "            bpt_price_usd = 0\n",
    "            for token_data in pool_snapshot_now['pool']['tokens']:\n",
    "                token_data_2_weeks_ago = \\\n",
    "                    [t for t in pool_snapshot_2_weeks_ago['pool']['tokens'] if t['address'] == token_data['address']][0]\n",
    "                token_fee = float(token_data.get('paidProtocolFees', None)) - float(\n",
    "                    token_data_2_weeks_ago.get('paidProtocolFees', None))\n",
    "                # Get twap token price from CoinGecko\n",
    "                token_price = fetch_token_price_balgql(token_data['address'], chain, start_date) or 0\n",
    "                token_fees[pool_snapshot_now['pool']['symbol']].append({\n",
    "                    'token': token_data['symbol'],\n",
    "                    'token_fee': token_fee,\n",
    "                    'token_price': token_price,\n",
    "                    'token_fee_in_usd': Decimal(token_fee) * token_price if token_price is not None else 0,\n",
    "                    'token_addr': token_data['address'],\n",
    "                    'time_from': arb_datetime_2_weeks_ago,\n",
    "                    'time_to': arb_datetime_now,\n",
    "                    'chain': chain,\n",
    "                })\n",
    "        # Calculate non-BPT fees in USD\n",
    "        fees[pool_snapshot_now['pool']['symbol']] = {\n",
    "            'pool_fee': round(pool_fee, 2),\n",
    "            'swap_fee': round(pool_swap_fee, 2),\n",
    "            'bpt_token_fee': round(bpt_token_fee, 2),\n",
    "            # Get fee in USD by multiplying bpt_token_fee by price of BPT token taken from twap_bpt_price\n",
    "            'bpt_token_fee_in_usd': round(Decimal(bpt_token_fee) * bpt_price_usd, 2),\n",
    "            'token_fees_in_usd': round(sum([x['token_fee_in_usd'] for x in\n",
    "                                            token_fees[\n",
    "                                                pool_snapshot_now['pool']['symbol']]]) if bpt_price_usd == 0 else 0, 2),\n",
    "            'time_from': arb_datetime_2_weeks_ago,\n",
    "            'time_to': arb_datetime_now,\n",
    "            'chain': chain,\n",
    "            'token_fees': token_fees[pool_snapshot_now['pool']['symbol']],\n",
    "            'pool_addr': pool_snapshot_now['pool']['address'],\n",
    "        }\n",
    "    return fees\n",
    "\n",
    "\n",
    "arb_fees = collect_fee_info(ARB_CORE_POOLS, 'arbitrum', arbi_pool_snapshots_now,\n",
    "                            arbi_pool_snapshots_2_weeks_ago, arb_datetime_now)\n",
    "mainnet_fees = collect_fee_info(MAINNET_CORE_POOLS, 'mainnet', mainnet_pool_snapshots_now,\n",
    "                                mainnet_pool_snapshots_2_weeks_ago, mainnet_datetime_now)\n",
    "polygon_fees = collect_fee_info(POLYGON_CORE_POOLS, 'polygon', polygon_pool_snapshots_now,\n",
    "                                polygon_pool_snapshots_2_weeks_ago, poly_datetime_now)\n",
    "base_fees = collect_fee_info(BASE_CORE_POOLS, 'base', base_pool_snapshots_now, base_pool_snapshots_2_weeks_ago,\n",
    "                             base_datetime_now)\n",
    "gnosis_fees = collect_fee_info(GNOSIS_CORE_POOLS, 'gnosis', gnosis_pool_snapshots_now,\n",
    "                               gnosis_pool_snapshots_2_weeks_ago, gnosis_datetime_now)\n",
    "avax_fees = collect_fee_info(AVAX_CORE_POOLS, 'avalanche', avax_pool_snapshots_now,\n",
    "                             avax_pool_snapshots_2_weeks_ago, avax_datetime_now)\n",
    "# Convert to dataframe, sort by chain and pool fee\n",
    "joint_fees = {**arb_fees, **mainnet_fees, **polygon_fees, **base_fees, **gnosis_fees, **avax_fees}\n",
    "joint_fees_df = pd.DataFrame.from_dict(joint_fees, orient='index')"
   ],
   "metadata": {
    "collapsed": false,
    "ExecuteTime": {
     "end_time": "2023-09-18T15:50:29.852870Z",
     "start_time": "2023-09-18T15:50:09.496029Z"
    }
   },
   "id": "e79b2f6a4ead2cad"
  },
  {
   "cell_type": "code",
   "execution_count": 4,
   "outputs": [
    {
     "data": {
      "text/plain": "                        pool_fee  swap_fee  bpt_token_fee  \\\nECLP-WMATIC-stMATIC      1584.96    249.39        2946.55   \nmaticX-WMATIC-BPT        1450.10    326.70        2724.34   \nECLP-WMATIC-MATICX        403.27     71.47         755.16   \nstMATIC-WMATIC-BPT          2.58      1.34           4.62   \nwstETH-WETH-BPT             0.00      0.00           0.00   \nB-rETH-STABLE           15892.61   2300.19           0.00   \n50rETH-50BADGER          9939.15   2997.35         166.20   \nswETH-WETH-BPT           5502.29    634.17           3.43   \nankrETH/wstETH           3867.44    126.65           2.32   \n20WETH-80ALCX            2393.07   4118.43          83.27   \n50rETH-50RPL             1272.25   1209.24           6.32   \nSTG/USDC                 1262.74   8264.76        1733.53   \nB-staFiETH-WETH-Stable   1216.06    339.32           0.00   \nGHO/USDT/USDC            1142.27   1871.72           0.00   \n50wstETH-50LDO            631.08    255.37          11.58   \n50wstETH-50ACX            382.23   1420.64          38.01   \nECLP-wstETH-cbETH           0.00      0.00           0.00   \nECLP-wstETH-wETH            0.00      0.00           0.00   \nbb-WETH-wstETH           3361.72     15.05           2.06   \ncbETH/WETH               1861.50   1117.90           1.14   \nrETH-WETH-BPT             401.34    223.34           0.00   \nsAVAX-WAVAX-BPT          3230.30    757.35         254.06   \nyyAVAX-WAVAX-BPT         1039.56      3.46          81.63   \nggAVAX-WAVAX-BPT          547.02      3.58          43.02   \nUSDC-USDT-BPT             122.44    207.94         122.40   \nBPT                         0.00     97.45           0.00   \nRDNT-WETH               11108.53  20103.97       10471.27   \nwstETH/rETH/cbETH        1008.43    358.60           1.22   \n4POOL-BPT                 475.95    832.86         475.65   \nwstETH/rETH/sfrxETH         0.01      0.00           0.00   \n\n                       bpt_token_fee_in_usd token_fees_in_usd  \\\nECLP-WMATIC-stMATIC                 1591.32                 0   \nmaticX-WMATIC-BPT                   1459.21                 0   \nECLP-WMATIC-MATICX                   406.22                 0   \nstMATIC-WMATIC-BPT                     2.47                 0   \nwstETH-WETH-BPT                        0.00              0.00   \nB-rETH-STABLE                          0.00          15797.35   \n50rETH-50BADGER                     9826.84                 0   \nswETH-WETH-BPT                      5510.58                 0   \nankrETH/wstETH                      3789.32                 0   \n20WETH-80ALCX                       2069.88                 0   \n50rETH-50RPL                        1260.83                 0   \nSTG/USDC                            1239.41                 0   \nB-staFiETH-WETH-Stable                 0.00           1212.37   \nGHO/USDT/USDC                          0.00              0.00   \n50wstETH-50LDO                       613.41                 0   \n50wstETH-50ACX                       381.44                 0   \nECLP-wstETH-cbETH                      0.00              0.00   \nECLP-wstETH-wETH                       0.00              0.00   \nbb-WETH-wstETH                      3343.47                 0   \ncbETH/WETH                          1847.83                 0   \nrETH-WETH-BPT                          0.00              0.00   \nsAVAX-WAVAX-BPT                     2462.77                 0   \nyyAVAX-WAVAX-BPT                     791.60                 0   \nggAVAX-WAVAX-BPT                     418.90                 0   \nUSDC-USDT-BPT                        122.41                 0   \nBPT                                    0.00              0.00   \nRDNT-WETH                          11361.56                 0   \nwstETH/rETH/cbETH                   1981.51                 0   \n4POOL-BPT                            475.79                 0   \nwstETH/rETH/sfrxETH                    0.02                 0   \n\n                                 time_from             time_to      chain  \\\nECLP-WMATIC-stMATIC    2023-09-01 18:00:00 2023-09-15 18:00:00    polygon   \nmaticX-WMATIC-BPT      2023-09-01 18:00:00 2023-09-15 18:00:00    polygon   \nECLP-WMATIC-MATICX     2023-09-01 18:00:00 2023-09-15 18:00:00    polygon   \nstMATIC-WMATIC-BPT     2023-09-01 18:00:00 2023-09-15 18:00:00    polygon   \nwstETH-WETH-BPT        2023-09-01 18:00:00 2023-09-15 18:00:00    polygon   \nB-rETH-STABLE          2023-09-01 18:00:00 2023-09-15 18:00:00    mainnet   \n50rETH-50BADGER        2023-09-01 18:00:00 2023-09-15 18:00:00    mainnet   \nswETH-WETH-BPT         2023-09-01 18:00:00 2023-09-15 18:00:00    mainnet   \nankrETH/wstETH         2023-09-01 18:00:00 2023-09-15 18:00:00    mainnet   \n20WETH-80ALCX          2023-09-01 18:00:00 2023-09-15 18:00:00    mainnet   \n50rETH-50RPL           2023-09-01 18:00:00 2023-09-15 18:00:00    mainnet   \nSTG/USDC               2023-09-01 18:00:00 2023-09-15 18:00:00    mainnet   \nB-staFiETH-WETH-Stable 2023-09-01 18:00:00 2023-09-15 18:00:00    mainnet   \nGHO/USDT/USDC          2023-09-01 18:00:00 2023-09-15 18:00:00    mainnet   \n50wstETH-50LDO         2023-09-01 18:00:00 2023-09-15 18:00:00    mainnet   \n50wstETH-50ACX         2023-09-01 18:00:00 2023-09-15 18:00:00    mainnet   \nECLP-wstETH-cbETH      2023-09-01 18:00:00 2023-09-15 18:00:00    mainnet   \nECLP-wstETH-wETH       2023-09-01 18:00:00 2023-09-15 18:00:00    mainnet   \nbb-WETH-wstETH         2023-09-01 18:00:00 2023-09-15 18:00:00     gnosis   \ncbETH/WETH             2023-09-01 18:00:00 2023-09-15 18:00:00       base   \nrETH-WETH-BPT          2023-09-01 18:00:00 2023-09-15 18:00:00       base   \nsAVAX-WAVAX-BPT        2023-09-01 18:00:00 2023-09-15 18:00:00  avalanche   \nyyAVAX-WAVAX-BPT       2023-09-01 18:00:00 2023-09-15 18:00:00  avalanche   \nggAVAX-WAVAX-BPT       2023-09-01 18:00:00 2023-09-15 18:00:00  avalanche   \nUSDC-USDT-BPT          2023-09-01 18:00:00 2023-09-15 18:00:00  avalanche   \nBPT                    2023-09-01 18:00:00 2023-09-15 18:00:00  avalanche   \nRDNT-WETH              2023-09-01 18:00:00 2023-09-15 18:00:00   arbitrum   \nwstETH/rETH/cbETH      2023-09-01 18:00:00 2023-09-15 18:00:00   arbitrum   \n4POOL-BPT              2023-09-01 18:00:00 2023-09-15 18:00:00   arbitrum   \nwstETH/rETH/sfrxETH    2023-09-01 18:00:00 2023-09-15 18:00:00   arbitrum   \n\n                                                         pool_addr  \nECLP-WMATIC-stMATIC     0xf0ad209e2e969eaaa8c882aac71f02d8a047d5c2  \nmaticX-WMATIC-BPT       0xcd78a20c597e367a4e478a2411ceb790604d7c8f  \nECLP-WMATIC-MATICX      0xee278d943584dd8640eaf4cc6c7a5c80c0073e85  \nstMATIC-WMATIC-BPT      0x89b753153678bc434c610b7e9182297cada8ff29  \nwstETH-WETH-BPT         0xdc31233e09f3bf5bfe5c10da2014677c23b6894c  \nB-rETH-STABLE           0x1e19cf2d73a72ef1332c882f20534b6519be0276  \n50rETH-50BADGER         0x1ee442b5326009bb18f2f472d3e0061513d1a0ff  \nswETH-WETH-BPT          0xe7e2c68d3b13d905bbb636709cf4dfd21076b9d2  \nankrETH/wstETH          0xdfe6e7e18f6cc65fa13c8d8966013d4fda74b6ba  \n20WETH-80ALCX           0xf16aee6a71af1a9bc8f56975a4c2705ca7a782bc  \n50rETH-50RPL            0x9f9d900462492d4c21e9523ca95a7cd86142f298  \nSTG/USDC                0x3ff3a210e57cfe679d9ad1e9ba6453a716c56a2e  \nB-staFiETH-WETH-Stable  0xb08885e6026bab4333a80024ec25a1a3e1ff2b8a  \nGHO/USDT/USDC           0x8353157092ed8be69a9df8f95af097bbf33cb2af  \n50wstETH-50LDO          0x5f1f4e50ba51d723f12385a8a9606afc3a0555f5  \n50wstETH-50ACX          0x36be1e97ea98ab43b4debf92742517266f5731a3  \nECLP-wstETH-cbETH       0xf7a826d47c8e02835d94fb0aa40f0cc9505cb134  \nECLP-wstETH-wETH        0xf01b0684c98cd7ada480bfdf6e43876422fa1fc1  \nbb-WETH-wstETH          0xbad20c15a773bf03ab973302f61fabcea5101f0a  \ncbETH/WETH              0xfb4c2e6e6e27b5b4a07a36360c89ede29bb3c9b6  \nrETH-WETH-BPT           0xc771c1a5905420daec317b154eb13e4198ba97d0  \nsAVAX-WAVAX-BPT         0xfd2620c9cfcec7d152467633b3b0ca338d3d78cc  \nyyAVAX-WAVAX-BPT        0x9fa6ab3d78984a69e712730a2227f20bcc8b5ad9  \nggAVAX-WAVAX-BPT        0xc13546b97b9b1b15372368dc06529d7191081f5b  \nUSDC-USDT-BPT           0xb26f0e66317846bd5fe0cbaa1d269f0efeb05c96  \nBPT                     0x55bec22f8f6c69137ceaf284d9b441db1b9bfedc  \nRDNT-WETH               0x32df62dc3aed2cd6224193052ce665dc18165841  \nwstETH/rETH/cbETH       0x4a2f6ae7f3e5d715689530873ec35593dc28951b  \n4POOL-BPT               0x423a1323c871abc9d89eb06855bf5347048fc4a5  \nwstETH/rETH/sfrxETH     0x0c8972437a38b389ec83d1e666b69b8a4fcf8bfd  ",
      "text/html": "<div>\n<style scoped>\n    .dataframe tbody tr th:only-of-type {\n        vertical-align: middle;\n    }\n\n    .dataframe tbody tr th {\n        vertical-align: top;\n    }\n\n    .dataframe thead th {\n        text-align: right;\n    }\n</style>\n<table border=\"1\" class=\"dataframe\">\n  <thead>\n    <tr style=\"text-align: right;\">\n      <th></th>\n      <th>pool_fee</th>\n      <th>swap_fee</th>\n      <th>bpt_token_fee</th>\n      <th>bpt_token_fee_in_usd</th>\n      <th>token_fees_in_usd</th>\n      <th>time_from</th>\n      <th>time_to</th>\n      <th>chain</th>\n      <th>pool_addr</th>\n    </tr>\n  </thead>\n  <tbody>\n    <tr>\n      <th>ECLP-WMATIC-stMATIC</th>\n      <td>1584.96</td>\n      <td>249.39</td>\n      <td>2946.55</td>\n      <td>1591.32</td>\n      <td>0</td>\n      <td>2023-09-01 18:00:00</td>\n      <td>2023-09-15 18:00:00</td>\n      <td>polygon</td>\n      <td>0xf0ad209e2e969eaaa8c882aac71f02d8a047d5c2</td>\n    </tr>\n    <tr>\n      <th>maticX-WMATIC-BPT</th>\n      <td>1450.10</td>\n      <td>326.70</td>\n      <td>2724.34</td>\n      <td>1459.21</td>\n      <td>0</td>\n      <td>2023-09-01 18:00:00</td>\n      <td>2023-09-15 18:00:00</td>\n      <td>polygon</td>\n      <td>0xcd78a20c597e367a4e478a2411ceb790604d7c8f</td>\n    </tr>\n    <tr>\n      <th>ECLP-WMATIC-MATICX</th>\n      <td>403.27</td>\n      <td>71.47</td>\n      <td>755.16</td>\n      <td>406.22</td>\n      <td>0</td>\n      <td>2023-09-01 18:00:00</td>\n      <td>2023-09-15 18:00:00</td>\n      <td>polygon</td>\n      <td>0xee278d943584dd8640eaf4cc6c7a5c80c0073e85</td>\n    </tr>\n    <tr>\n      <th>stMATIC-WMATIC-BPT</th>\n      <td>2.58</td>\n      <td>1.34</td>\n      <td>4.62</td>\n      <td>2.47</td>\n      <td>0</td>\n      <td>2023-09-01 18:00:00</td>\n      <td>2023-09-15 18:00:00</td>\n      <td>polygon</td>\n      <td>0x89b753153678bc434c610b7e9182297cada8ff29</td>\n    </tr>\n    <tr>\n      <th>wstETH-WETH-BPT</th>\n      <td>0.00</td>\n      <td>0.00</td>\n      <td>0.00</td>\n      <td>0.00</td>\n      <td>0.00</td>\n      <td>2023-09-01 18:00:00</td>\n      <td>2023-09-15 18:00:00</td>\n      <td>polygon</td>\n      <td>0xdc31233e09f3bf5bfe5c10da2014677c23b6894c</td>\n    </tr>\n    <tr>\n      <th>B-rETH-STABLE</th>\n      <td>15892.61</td>\n      <td>2300.19</td>\n      <td>0.00</td>\n      <td>0.00</td>\n      <td>15797.35</td>\n      <td>2023-09-01 18:00:00</td>\n      <td>2023-09-15 18:00:00</td>\n      <td>mainnet</td>\n      <td>0x1e19cf2d73a72ef1332c882f20534b6519be0276</td>\n    </tr>\n    <tr>\n      <th>50rETH-50BADGER</th>\n      <td>9939.15</td>\n      <td>2997.35</td>\n      <td>166.20</td>\n      <td>9826.84</td>\n      <td>0</td>\n      <td>2023-09-01 18:00:00</td>\n      <td>2023-09-15 18:00:00</td>\n      <td>mainnet</td>\n      <td>0x1ee442b5326009bb18f2f472d3e0061513d1a0ff</td>\n    </tr>\n    <tr>\n      <th>swETH-WETH-BPT</th>\n      <td>5502.29</td>\n      <td>634.17</td>\n      <td>3.43</td>\n      <td>5510.58</td>\n      <td>0</td>\n      <td>2023-09-01 18:00:00</td>\n      <td>2023-09-15 18:00:00</td>\n      <td>mainnet</td>\n      <td>0xe7e2c68d3b13d905bbb636709cf4dfd21076b9d2</td>\n    </tr>\n    <tr>\n      <th>ankrETH/wstETH</th>\n      <td>3867.44</td>\n      <td>126.65</td>\n      <td>2.32</td>\n      <td>3789.32</td>\n      <td>0</td>\n      <td>2023-09-01 18:00:00</td>\n      <td>2023-09-15 18:00:00</td>\n      <td>mainnet</td>\n      <td>0xdfe6e7e18f6cc65fa13c8d8966013d4fda74b6ba</td>\n    </tr>\n    <tr>\n      <th>20WETH-80ALCX</th>\n      <td>2393.07</td>\n      <td>4118.43</td>\n      <td>83.27</td>\n      <td>2069.88</td>\n      <td>0</td>\n      <td>2023-09-01 18:00:00</td>\n      <td>2023-09-15 18:00:00</td>\n      <td>mainnet</td>\n      <td>0xf16aee6a71af1a9bc8f56975a4c2705ca7a782bc</td>\n    </tr>\n    <tr>\n      <th>50rETH-50RPL</th>\n      <td>1272.25</td>\n      <td>1209.24</td>\n      <td>6.32</td>\n      <td>1260.83</td>\n      <td>0</td>\n      <td>2023-09-01 18:00:00</td>\n      <td>2023-09-15 18:00:00</td>\n      <td>mainnet</td>\n      <td>0x9f9d900462492d4c21e9523ca95a7cd86142f298</td>\n    </tr>\n    <tr>\n      <th>STG/USDC</th>\n      <td>1262.74</td>\n      <td>8264.76</td>\n      <td>1733.53</td>\n      <td>1239.41</td>\n      <td>0</td>\n      <td>2023-09-01 18:00:00</td>\n      <td>2023-09-15 18:00:00</td>\n      <td>mainnet</td>\n      <td>0x3ff3a210e57cfe679d9ad1e9ba6453a716c56a2e</td>\n    </tr>\n    <tr>\n      <th>B-staFiETH-WETH-Stable</th>\n      <td>1216.06</td>\n      <td>339.32</td>\n      <td>0.00</td>\n      <td>0.00</td>\n      <td>1212.37</td>\n      <td>2023-09-01 18:00:00</td>\n      <td>2023-09-15 18:00:00</td>\n      <td>mainnet</td>\n      <td>0xb08885e6026bab4333a80024ec25a1a3e1ff2b8a</td>\n    </tr>\n    <tr>\n      <th>GHO/USDT/USDC</th>\n      <td>1142.27</td>\n      <td>1871.72</td>\n      <td>0.00</td>\n      <td>0.00</td>\n      <td>0.00</td>\n      <td>2023-09-01 18:00:00</td>\n      <td>2023-09-15 18:00:00</td>\n      <td>mainnet</td>\n      <td>0x8353157092ed8be69a9df8f95af097bbf33cb2af</td>\n    </tr>\n    <tr>\n      <th>50wstETH-50LDO</th>\n      <td>631.08</td>\n      <td>255.37</td>\n      <td>11.58</td>\n      <td>613.41</td>\n      <td>0</td>\n      <td>2023-09-01 18:00:00</td>\n      <td>2023-09-15 18:00:00</td>\n      <td>mainnet</td>\n      <td>0x5f1f4e50ba51d723f12385a8a9606afc3a0555f5</td>\n    </tr>\n    <tr>\n      <th>50wstETH-50ACX</th>\n      <td>382.23</td>\n      <td>1420.64</td>\n      <td>38.01</td>\n      <td>381.44</td>\n      <td>0</td>\n      <td>2023-09-01 18:00:00</td>\n      <td>2023-09-15 18:00:00</td>\n      <td>mainnet</td>\n      <td>0x36be1e97ea98ab43b4debf92742517266f5731a3</td>\n    </tr>\n    <tr>\n      <th>ECLP-wstETH-cbETH</th>\n      <td>0.00</td>\n      <td>0.00</td>\n      <td>0.00</td>\n      <td>0.00</td>\n      <td>0.00</td>\n      <td>2023-09-01 18:00:00</td>\n      <td>2023-09-15 18:00:00</td>\n      <td>mainnet</td>\n      <td>0xf7a826d47c8e02835d94fb0aa40f0cc9505cb134</td>\n    </tr>\n    <tr>\n      <th>ECLP-wstETH-wETH</th>\n      <td>0.00</td>\n      <td>0.00</td>\n      <td>0.00</td>\n      <td>0.00</td>\n      <td>0.00</td>\n      <td>2023-09-01 18:00:00</td>\n      <td>2023-09-15 18:00:00</td>\n      <td>mainnet</td>\n      <td>0xf01b0684c98cd7ada480bfdf6e43876422fa1fc1</td>\n    </tr>\n    <tr>\n      <th>bb-WETH-wstETH</th>\n      <td>3361.72</td>\n      <td>15.05</td>\n      <td>2.06</td>\n      <td>3343.47</td>\n      <td>0</td>\n      <td>2023-09-01 18:00:00</td>\n      <td>2023-09-15 18:00:00</td>\n      <td>gnosis</td>\n      <td>0xbad20c15a773bf03ab973302f61fabcea5101f0a</td>\n    </tr>\n    <tr>\n      <th>cbETH/WETH</th>\n      <td>1861.50</td>\n      <td>1117.90</td>\n      <td>1.14</td>\n      <td>1847.83</td>\n      <td>0</td>\n      <td>2023-09-01 18:00:00</td>\n      <td>2023-09-15 18:00:00</td>\n      <td>base</td>\n      <td>0xfb4c2e6e6e27b5b4a07a36360c89ede29bb3c9b6</td>\n    </tr>\n    <tr>\n      <th>rETH-WETH-BPT</th>\n      <td>401.34</td>\n      <td>223.34</td>\n      <td>0.00</td>\n      <td>0.00</td>\n      <td>0.00</td>\n      <td>2023-09-01 18:00:00</td>\n      <td>2023-09-15 18:00:00</td>\n      <td>base</td>\n      <td>0xc771c1a5905420daec317b154eb13e4198ba97d0</td>\n    </tr>\n    <tr>\n      <th>sAVAX-WAVAX-BPT</th>\n      <td>3230.30</td>\n      <td>757.35</td>\n      <td>254.06</td>\n      <td>2462.77</td>\n      <td>0</td>\n      <td>2023-09-01 18:00:00</td>\n      <td>2023-09-15 18:00:00</td>\n      <td>avalanche</td>\n      <td>0xfd2620c9cfcec7d152467633b3b0ca338d3d78cc</td>\n    </tr>\n    <tr>\n      <th>yyAVAX-WAVAX-BPT</th>\n      <td>1039.56</td>\n      <td>3.46</td>\n      <td>81.63</td>\n      <td>791.60</td>\n      <td>0</td>\n      <td>2023-09-01 18:00:00</td>\n      <td>2023-09-15 18:00:00</td>\n      <td>avalanche</td>\n      <td>0x9fa6ab3d78984a69e712730a2227f20bcc8b5ad9</td>\n    </tr>\n    <tr>\n      <th>ggAVAX-WAVAX-BPT</th>\n      <td>547.02</td>\n      <td>3.58</td>\n      <td>43.02</td>\n      <td>418.90</td>\n      <td>0</td>\n      <td>2023-09-01 18:00:00</td>\n      <td>2023-09-15 18:00:00</td>\n      <td>avalanche</td>\n      <td>0xc13546b97b9b1b15372368dc06529d7191081f5b</td>\n    </tr>\n    <tr>\n      <th>USDC-USDT-BPT</th>\n      <td>122.44</td>\n      <td>207.94</td>\n      <td>122.40</td>\n      <td>122.41</td>\n      <td>0</td>\n      <td>2023-09-01 18:00:00</td>\n      <td>2023-09-15 18:00:00</td>\n      <td>avalanche</td>\n      <td>0xb26f0e66317846bd5fe0cbaa1d269f0efeb05c96</td>\n    </tr>\n    <tr>\n      <th>BPT</th>\n      <td>0.00</td>\n      <td>97.45</td>\n      <td>0.00</td>\n      <td>0.00</td>\n      <td>0.00</td>\n      <td>2023-09-01 18:00:00</td>\n      <td>2023-09-15 18:00:00</td>\n      <td>avalanche</td>\n      <td>0x55bec22f8f6c69137ceaf284d9b441db1b9bfedc</td>\n    </tr>\n    <tr>\n      <th>RDNT-WETH</th>\n      <td>11108.53</td>\n      <td>20103.97</td>\n      <td>10471.27</td>\n      <td>11361.56</td>\n      <td>0</td>\n      <td>2023-09-01 18:00:00</td>\n      <td>2023-09-15 18:00:00</td>\n      <td>arbitrum</td>\n      <td>0x32df62dc3aed2cd6224193052ce665dc18165841</td>\n    </tr>\n    <tr>\n      <th>wstETH/rETH/cbETH</th>\n      <td>1008.43</td>\n      <td>358.60</td>\n      <td>1.22</td>\n      <td>1981.51</td>\n      <td>0</td>\n      <td>2023-09-01 18:00:00</td>\n      <td>2023-09-15 18:00:00</td>\n      <td>arbitrum</td>\n      <td>0x4a2f6ae7f3e5d715689530873ec35593dc28951b</td>\n    </tr>\n    <tr>\n      <th>4POOL-BPT</th>\n      <td>475.95</td>\n      <td>832.86</td>\n      <td>475.65</td>\n      <td>475.79</td>\n      <td>0</td>\n      <td>2023-09-01 18:00:00</td>\n      <td>2023-09-15 18:00:00</td>\n      <td>arbitrum</td>\n      <td>0x423a1323c871abc9d89eb06855bf5347048fc4a5</td>\n    </tr>\n    <tr>\n      <th>wstETH/rETH/sfrxETH</th>\n      <td>0.01</td>\n      <td>0.00</td>\n      <td>0.00</td>\n      <td>0.02</td>\n      <td>0</td>\n      <td>2023-09-01 18:00:00</td>\n      <td>2023-09-15 18:00:00</td>\n      <td>arbitrum</td>\n      <td>0x0c8972437a38b389ec83d1e666b69b8a4fcf8bfd</td>\n    </tr>\n  </tbody>\n</table>\n</div>"
     },
     "execution_count": 4,
     "metadata": {},
     "output_type": "execute_result"
    }
   ],
   "source": [
    "# Remove `token_fees` field from dataframe, as it's too big\n",
    "joint_fees_df_copy = joint_fees_df.drop(columns=['token_fees'])\n",
    "# Display all rows in dataframe\n",
    "pd.set_option('display.max_rows', 1000)\n",
    "joint_fees_df_copy.sort_values(by=['chain', 'pool_fee'], ascending=False)"
   ],
   "metadata": {
    "collapsed": false,
    "ExecuteTime": {
     "end_time": "2023-09-18T15:50:29.877728Z",
     "start_time": "2023-09-18T15:50:29.853204Z"
    }
   },
   "id": "52fccc19e5e6b4f2"
  },
  {
   "cell_type": "markdown",
   "source": [
    "## Now let's calculate bribes paid to the pools"
   ],
   "metadata": {
    "collapsed": false
   },
   "id": "97a5370819f28ffc"
  },
  {
   "cell_type": "code",
   "execution_count": 7,
   "outputs": [
    {
     "data": {
      "text/plain": "                            chain aura_bribes bal_bribes pool_fees_collected  \\\nwstETH/rETH/cbETH        arbitrum      461.01     698.09             1981.51   \n4POOL-BPT                arbitrum      110.69     167.62              475.79   \nRDNT-WETH                arbitrum     2643.32    4002.69            11361.56   \nwstETH/rETH/sfrxETH      arbitrum        0.00       0.01                0.02   \nsAVAX-WAVAX-BPT         avalanche     1021.00    1546.07             2462.77   \nggAVAX-WAVAX-BPT        avalanche      173.67     262.98              418.90   \nyyAVAX-WAVAX-BPT        avalanche      328.18     496.95              791.60   \nUSDC-USDT-BPT           avalanche       50.75      76.85              122.41   \nBPT                     avalanche        0.00       0.00                0.00   \nrETH-WETH-BPT                base        0.00       0.00                0.00   \ncbETH/WETH                   base    10899.48   16504.73             1847.83   \nbb-WETH-wstETH             gnosis      118.08     178.80             3343.47   \nB-rETH-STABLE             mainnet     5074.67    7684.40            15797.35   \nswETH-WETH-BPT            mainnet     1770.19    2680.55             5510.58   \nECLP-wstETH-cbETH         mainnet        0.00       0.00                0.00   \n20WETH-80ALCX             mainnet      664.92    1006.86             2069.88   \nB-staFiETH-WETH-Stable    mainnet      389.46     589.74             1212.37   \nGHO/USDT/USDC             mainnet        0.00       0.00                0.00   \nankrETH/wstETH            mainnet     1217.26    1843.26             3789.32   \n50wstETH-50LDO            mainnet      197.05     298.38              613.41   \n50rETH-50BADGER           mainnet     3156.73    4780.13             9826.84   \n50rETH-50RPL              mainnet      405.02     613.31             1260.83   \nSTG/USDC                  mainnet      398.14     602.89             1239.41   \nECLP-wstETH-wETH          mainnet        0.00       0.00                0.00   \n50wstETH-50ACX            mainnet      122.53     185.55              381.44   \nwstETH-WETH-BPT           polygon        0.00       0.00                0.00   \nECLP-WMATIC-stMATIC       polygon      474.80     718.97             1591.32   \nECLP-WMATIC-MATICX        polygon      121.20     183.53              406.22   \nstMATIC-WMATIC-BPT        polygon        0.74       1.12                2.47   \nmaticX-WMATIC-BPT         polygon      435.38     659.29             1459.21   \n\n                       revenue_fees  \\\nwstETH/rETH/cbETH           990.755   \n4POOL-BPT                   237.895   \nRDNT-WETH                  5680.780   \nwstETH/rETH/sfrxETH           0.010   \nsAVAX-WAVAX-BPT            1231.385   \nggAVAX-WAVAX-BPT            209.450   \nyyAVAX-WAVAX-BPT            395.800   \nUSDC-USDT-BPT                61.205   \nBPT                           0.000   \nrETH-WETH-BPT                 0.000   \ncbETH/WETH                  923.915   \nbb-WETH-wstETH             1671.735   \nB-rETH-STABLE              7898.675   \nswETH-WETH-BPT             2755.290   \nECLP-wstETH-cbETH             0.000   \n20WETH-80ALCX              1034.940   \nB-staFiETH-WETH-Stable      606.185   \nGHO/USDT/USDC                 0.000   \nankrETH/wstETH             1894.660   \n50wstETH-50LDO              306.705   \n50rETH-50BADGER            4913.420   \n50rETH-50RPL                630.415   \nSTG/USDC                    619.705   \nECLP-wstETH-wETH              0.000   \n50wstETH-50ACX              190.720   \nwstETH-WETH-BPT               0.000   \nECLP-WMATIC-stMATIC         795.660   \nECLP-WMATIC-MATICX          203.110   \nstMATIC-WMATIC-BPT            1.235   \nmaticX-WMATIC-BPT           729.605   \n\n                                                         pool_addr  \nwstETH/rETH/cbETH       0x4a2f6ae7f3e5d715689530873ec35593dc28951b  \n4POOL-BPT               0x423a1323c871abc9d89eb06855bf5347048fc4a5  \nRDNT-WETH               0x32df62dc3aed2cd6224193052ce665dc18165841  \nwstETH/rETH/sfrxETH     0x0c8972437a38b389ec83d1e666b69b8a4fcf8bfd  \nsAVAX-WAVAX-BPT         0xfd2620c9cfcec7d152467633b3b0ca338d3d78cc  \nggAVAX-WAVAX-BPT        0xc13546b97b9b1b15372368dc06529d7191081f5b  \nyyAVAX-WAVAX-BPT        0x9fa6ab3d78984a69e712730a2227f20bcc8b5ad9  \nUSDC-USDT-BPT           0xb26f0e66317846bd5fe0cbaa1d269f0efeb05c96  \nBPT                     0x55bec22f8f6c69137ceaf284d9b441db1b9bfedc  \nrETH-WETH-BPT           0xc771c1a5905420daec317b154eb13e4198ba97d0  \ncbETH/WETH              0xfb4c2e6e6e27b5b4a07a36360c89ede29bb3c9b6  \nbb-WETH-wstETH          0xbad20c15a773bf03ab973302f61fabcea5101f0a  \nB-rETH-STABLE           0x1e19cf2d73a72ef1332c882f20534b6519be0276  \nswETH-WETH-BPT          0xe7e2c68d3b13d905bbb636709cf4dfd21076b9d2  \nECLP-wstETH-cbETH       0xf7a826d47c8e02835d94fb0aa40f0cc9505cb134  \n20WETH-80ALCX           0xf16aee6a71af1a9bc8f56975a4c2705ca7a782bc  \nB-staFiETH-WETH-Stable  0xb08885e6026bab4333a80024ec25a1a3e1ff2b8a  \nGHO/USDT/USDC           0x8353157092ed8be69a9df8f95af097bbf33cb2af  \nankrETH/wstETH          0xdfe6e7e18f6cc65fa13c8d8966013d4fda74b6ba  \n50wstETH-50LDO          0x5f1f4e50ba51d723f12385a8a9606afc3a0555f5  \n50rETH-50BADGER         0x1ee442b5326009bb18f2f472d3e0061513d1a0ff  \n50rETH-50RPL            0x9f9d900462492d4c21e9523ca95a7cd86142f298  \nSTG/USDC                0x3ff3a210e57cfe679d9ad1e9ba6453a716c56a2e  \nECLP-wstETH-wETH        0xf01b0684c98cd7ada480bfdf6e43876422fa1fc1  \n50wstETH-50ACX          0x36be1e97ea98ab43b4debf92742517266f5731a3  \nwstETH-WETH-BPT         0xdc31233e09f3bf5bfe5c10da2014677c23b6894c  \nECLP-WMATIC-stMATIC     0xf0ad209e2e969eaaa8c882aac71f02d8a047d5c2  \nECLP-WMATIC-MATICX      0xee278d943584dd8640eaf4cc6c7a5c80c0073e85  \nstMATIC-WMATIC-BPT      0x89b753153678bc434c610b7e9182297cada8ff29  \nmaticX-WMATIC-BPT       0xcd78a20c597e367a4e478a2411ceb790604d7c8f  ",
      "text/html": "<div>\n<style scoped>\n    .dataframe tbody tr th:only-of-type {\n        vertical-align: middle;\n    }\n\n    .dataframe tbody tr th {\n        vertical-align: top;\n    }\n\n    .dataframe thead th {\n        text-align: right;\n    }\n</style>\n<table border=\"1\" class=\"dataframe\">\n  <thead>\n    <tr style=\"text-align: right;\">\n      <th></th>\n      <th>chain</th>\n      <th>aura_bribes</th>\n      <th>bal_bribes</th>\n      <th>pool_fees_collected</th>\n      <th>revenue_fees</th>\n      <th>pool_addr</th>\n    </tr>\n  </thead>\n  <tbody>\n    <tr>\n      <th>wstETH/rETH/cbETH</th>\n      <td>arbitrum</td>\n      <td>461.01</td>\n      <td>698.09</td>\n      <td>1981.51</td>\n      <td>990.755</td>\n      <td>0x4a2f6ae7f3e5d715689530873ec35593dc28951b</td>\n    </tr>\n    <tr>\n      <th>4POOL-BPT</th>\n      <td>arbitrum</td>\n      <td>110.69</td>\n      <td>167.62</td>\n      <td>475.79</td>\n      <td>237.895</td>\n      <td>0x423a1323c871abc9d89eb06855bf5347048fc4a5</td>\n    </tr>\n    <tr>\n      <th>RDNT-WETH</th>\n      <td>arbitrum</td>\n      <td>2643.32</td>\n      <td>4002.69</td>\n      <td>11361.56</td>\n      <td>5680.780</td>\n      <td>0x32df62dc3aed2cd6224193052ce665dc18165841</td>\n    </tr>\n    <tr>\n      <th>wstETH/rETH/sfrxETH</th>\n      <td>arbitrum</td>\n      <td>0.00</td>\n      <td>0.01</td>\n      <td>0.02</td>\n      <td>0.010</td>\n      <td>0x0c8972437a38b389ec83d1e666b69b8a4fcf8bfd</td>\n    </tr>\n    <tr>\n      <th>sAVAX-WAVAX-BPT</th>\n      <td>avalanche</td>\n      <td>1021.00</td>\n      <td>1546.07</td>\n      <td>2462.77</td>\n      <td>1231.385</td>\n      <td>0xfd2620c9cfcec7d152467633b3b0ca338d3d78cc</td>\n    </tr>\n    <tr>\n      <th>ggAVAX-WAVAX-BPT</th>\n      <td>avalanche</td>\n      <td>173.67</td>\n      <td>262.98</td>\n      <td>418.90</td>\n      <td>209.450</td>\n      <td>0xc13546b97b9b1b15372368dc06529d7191081f5b</td>\n    </tr>\n    <tr>\n      <th>yyAVAX-WAVAX-BPT</th>\n      <td>avalanche</td>\n      <td>328.18</td>\n      <td>496.95</td>\n      <td>791.60</td>\n      <td>395.800</td>\n      <td>0x9fa6ab3d78984a69e712730a2227f20bcc8b5ad9</td>\n    </tr>\n    <tr>\n      <th>USDC-USDT-BPT</th>\n      <td>avalanche</td>\n      <td>50.75</td>\n      <td>76.85</td>\n      <td>122.41</td>\n      <td>61.205</td>\n      <td>0xb26f0e66317846bd5fe0cbaa1d269f0efeb05c96</td>\n    </tr>\n    <tr>\n      <th>BPT</th>\n      <td>avalanche</td>\n      <td>0.00</td>\n      <td>0.00</td>\n      <td>0.00</td>\n      <td>0.000</td>\n      <td>0x55bec22f8f6c69137ceaf284d9b441db1b9bfedc</td>\n    </tr>\n    <tr>\n      <th>rETH-WETH-BPT</th>\n      <td>base</td>\n      <td>0.00</td>\n      <td>0.00</td>\n      <td>0.00</td>\n      <td>0.000</td>\n      <td>0xc771c1a5905420daec317b154eb13e4198ba97d0</td>\n    </tr>\n    <tr>\n      <th>cbETH/WETH</th>\n      <td>base</td>\n      <td>10899.48</td>\n      <td>16504.73</td>\n      <td>1847.83</td>\n      <td>923.915</td>\n      <td>0xfb4c2e6e6e27b5b4a07a36360c89ede29bb3c9b6</td>\n    </tr>\n    <tr>\n      <th>bb-WETH-wstETH</th>\n      <td>gnosis</td>\n      <td>118.08</td>\n      <td>178.80</td>\n      <td>3343.47</td>\n      <td>1671.735</td>\n      <td>0xbad20c15a773bf03ab973302f61fabcea5101f0a</td>\n    </tr>\n    <tr>\n      <th>B-rETH-STABLE</th>\n      <td>mainnet</td>\n      <td>5074.67</td>\n      <td>7684.40</td>\n      <td>15797.35</td>\n      <td>7898.675</td>\n      <td>0x1e19cf2d73a72ef1332c882f20534b6519be0276</td>\n    </tr>\n    <tr>\n      <th>swETH-WETH-BPT</th>\n      <td>mainnet</td>\n      <td>1770.19</td>\n      <td>2680.55</td>\n      <td>5510.58</td>\n      <td>2755.290</td>\n      <td>0xe7e2c68d3b13d905bbb636709cf4dfd21076b9d2</td>\n    </tr>\n    <tr>\n      <th>ECLP-wstETH-cbETH</th>\n      <td>mainnet</td>\n      <td>0.00</td>\n      <td>0.00</td>\n      <td>0.00</td>\n      <td>0.000</td>\n      <td>0xf7a826d47c8e02835d94fb0aa40f0cc9505cb134</td>\n    </tr>\n    <tr>\n      <th>20WETH-80ALCX</th>\n      <td>mainnet</td>\n      <td>664.92</td>\n      <td>1006.86</td>\n      <td>2069.88</td>\n      <td>1034.940</td>\n      <td>0xf16aee6a71af1a9bc8f56975a4c2705ca7a782bc</td>\n    </tr>\n    <tr>\n      <th>B-staFiETH-WETH-Stable</th>\n      <td>mainnet</td>\n      <td>389.46</td>\n      <td>589.74</td>\n      <td>1212.37</td>\n      <td>606.185</td>\n      <td>0xb08885e6026bab4333a80024ec25a1a3e1ff2b8a</td>\n    </tr>\n    <tr>\n      <th>GHO/USDT/USDC</th>\n      <td>mainnet</td>\n      <td>0.00</td>\n      <td>0.00</td>\n      <td>0.00</td>\n      <td>0.000</td>\n      <td>0x8353157092ed8be69a9df8f95af097bbf33cb2af</td>\n    </tr>\n    <tr>\n      <th>ankrETH/wstETH</th>\n      <td>mainnet</td>\n      <td>1217.26</td>\n      <td>1843.26</td>\n      <td>3789.32</td>\n      <td>1894.660</td>\n      <td>0xdfe6e7e18f6cc65fa13c8d8966013d4fda74b6ba</td>\n    </tr>\n    <tr>\n      <th>50wstETH-50LDO</th>\n      <td>mainnet</td>\n      <td>197.05</td>\n      <td>298.38</td>\n      <td>613.41</td>\n      <td>306.705</td>\n      <td>0x5f1f4e50ba51d723f12385a8a9606afc3a0555f5</td>\n    </tr>\n    <tr>\n      <th>50rETH-50BADGER</th>\n      <td>mainnet</td>\n      <td>3156.73</td>\n      <td>4780.13</td>\n      <td>9826.84</td>\n      <td>4913.420</td>\n      <td>0x1ee442b5326009bb18f2f472d3e0061513d1a0ff</td>\n    </tr>\n    <tr>\n      <th>50rETH-50RPL</th>\n      <td>mainnet</td>\n      <td>405.02</td>\n      <td>613.31</td>\n      <td>1260.83</td>\n      <td>630.415</td>\n      <td>0x9f9d900462492d4c21e9523ca95a7cd86142f298</td>\n    </tr>\n    <tr>\n      <th>STG/USDC</th>\n      <td>mainnet</td>\n      <td>398.14</td>\n      <td>602.89</td>\n      <td>1239.41</td>\n      <td>619.705</td>\n      <td>0x3ff3a210e57cfe679d9ad1e9ba6453a716c56a2e</td>\n    </tr>\n    <tr>\n      <th>ECLP-wstETH-wETH</th>\n      <td>mainnet</td>\n      <td>0.00</td>\n      <td>0.00</td>\n      <td>0.00</td>\n      <td>0.000</td>\n      <td>0xf01b0684c98cd7ada480bfdf6e43876422fa1fc1</td>\n    </tr>\n    <tr>\n      <th>50wstETH-50ACX</th>\n      <td>mainnet</td>\n      <td>122.53</td>\n      <td>185.55</td>\n      <td>381.44</td>\n      <td>190.720</td>\n      <td>0x36be1e97ea98ab43b4debf92742517266f5731a3</td>\n    </tr>\n    <tr>\n      <th>wstETH-WETH-BPT</th>\n      <td>polygon</td>\n      <td>0.00</td>\n      <td>0.00</td>\n      <td>0.00</td>\n      <td>0.000</td>\n      <td>0xdc31233e09f3bf5bfe5c10da2014677c23b6894c</td>\n    </tr>\n    <tr>\n      <th>ECLP-WMATIC-stMATIC</th>\n      <td>polygon</td>\n      <td>474.80</td>\n      <td>718.97</td>\n      <td>1591.32</td>\n      <td>795.660</td>\n      <td>0xf0ad209e2e969eaaa8c882aac71f02d8a047d5c2</td>\n    </tr>\n    <tr>\n      <th>ECLP-WMATIC-MATICX</th>\n      <td>polygon</td>\n      <td>121.20</td>\n      <td>183.53</td>\n      <td>406.22</td>\n      <td>203.110</td>\n      <td>0xee278d943584dd8640eaf4cc6c7a5c80c0073e85</td>\n    </tr>\n    <tr>\n      <th>stMATIC-WMATIC-BPT</th>\n      <td>polygon</td>\n      <td>0.74</td>\n      <td>1.12</td>\n      <td>2.47</td>\n      <td>1.235</td>\n      <td>0x89b753153678bc434c610b7e9182297cada8ff29</td>\n    </tr>\n    <tr>\n      <th>maticX-WMATIC-BPT</th>\n      <td>polygon</td>\n      <td>435.38</td>\n      <td>659.29</td>\n      <td>1459.21</td>\n      <td>729.605</td>\n      <td>0xcd78a20c597e367a4e478a2411ceb790604d7c8f</td>\n    </tr>\n  </tbody>\n</table>\n</div>"
     },
     "execution_count": 7,
     "metadata": {},
     "output_type": "execute_result"
    }
   ],
   "source": [
    "from notebooks import calculate_aura_vebal_share\n",
    "\n",
    "aura_vebal_share = calculate_aura_vebal_share(eth_web3, mainnet_block)\n",
    "\n",
    "# Bribes are split per chain and per pool, with each pool getting a share of the bribe proportional to its share of fees\n",
    "# paid by all pools on that chain. For example, if pool A paid 10% of all fees on Arbitrum, it will get 10% of the bribes. That 10% will be distributed between aura and vebal, proportional to their share of the bribe.\n",
    "FEE = Decimal(0.5)  # 50% goes to fees\n",
    "\n",
    "\n",
    "# Let's calculate share of fees paid by each pool on each chain\n",
    "def calc_and_split_bribes(fees: Dict, chain: str, fees_to_distribute: Decimal) -> Dict[str, Dict]:\n",
    "    pool_bribs = {}\n",
    "    # Calculate pool share in fees\n",
    "    total_fees = sum([data['pool_fee'] for pool, data in fees.items()])\n",
    "    for pool, data in fees.items():\n",
    "        pool_fees = data['bpt_token_fee_in_usd'] + data['token_fees_in_usd']\n",
    "        pool_share = pool_fees / Decimal(total_fees)\n",
    "        # Split fees between aura and bal fees\n",
    "        pool_bribs[pool] = {\n",
    "            \"chain\": chain,\n",
    "            \"aura_bribes\": round(pool_share * fees_to_distribute * aura_vebal_share * FEE, 2),\n",
    "            \"bal_bribes\": round(pool_share * fees_to_distribute * (1 - aura_vebal_share) * FEE, 2),\n",
    "            \"pool_fees_collected\": pool_fees,\n",
    "            \"revenue_fees\": pool_fees * FEE,\n",
    "            # \"pool_share\": f\"{round(pool_share * 100, 2)}%\",\n",
    "            \"pool_addr\": data['pool_addr'],\n",
    "        }\n",
    "    return pool_bribs\n",
    "\n",
    "# TODO: Move to constants\n",
    "mainnet_bribes = calc_and_split_bribes(mainnet_fees, 'mainnet', Decimal(81763))\n",
    "arb_bribes = calc_and_split_bribes(arb_fees, 'arbitrum', Decimal(18523))\n",
    "polygon_bribes = calc_and_split_bribes(polygon_fees, 'polygon', Decimal(5162.59))\n",
    "base_bribes = calc_and_split_bribes(base_fees, 'base', Decimal(67118))\n",
    "gnosis_bribes = calc_and_split_bribes(gnosis_fees, 'gnosis', Decimal(597))\n",
    "avax_bribes = calc_and_split_bribes(avax_fees, 'avalanche', Decimal(10297))\n",
    "# Convert to dataframe\n",
    "joint_bribes_data = {**arb_bribes, **mainnet_bribes, **polygon_bribes, **base_bribes, **gnosis_bribes, **avax_bribes}\n",
    "# Sort by chain:\n",
    "joint_bribes_data = {k: v for k, v in sorted(joint_bribes_data.items(), key=lambda item: item[1]['chain'])}\n",
    "joint_bribes_df = pd.DataFrame.from_dict(joint_bribes_data, orient='index')\n",
    "# Sort by chain\n",
    "# Dump into csv and prefix with dates\n",
    "joint_bribes_df.to_csv(f'./output/bribes_{arb_datetime_2_weeks_ago.date()}_{arb_datetime_now.date()}.csv')\n",
    "joint_bribes_df"
   ],
   "metadata": {
    "collapsed": false,
    "ExecuteTime": {
     "end_time": "2023-09-18T15:51:13.694049Z",
     "start_time": "2023-09-18T15:51:13.156035Z"
    }
   },
   "id": "efdef306c522076a"
  },
  {
   "cell_type": "code",
   "execution_count": 6,
   "outputs": [
    {
     "name": "stdout",
     "output_type": "stream",
     "text": [
      "{'0xf01b0684c98cd7ada480bfdf6e43876422fa1fc1': '0xdf54d2dd06f8be3b0c4ffc157be54ec9cca91f3c', '0xfb4c2e6e6e27b5b4a07a36360c89ede29bb3c9b6': '0xeff145872582721e1b33931d61c3fe9c1ca66690', '0xd6d20527c7b0669989ee082b9d3a1c63af742290': '0x2cb5eb92314bf3bfe7977e059a72a806d353fd21', '0x4683e340a8049261057d5ab1b29c8d840e75695e': '0xb1af0d75aeea1c13c450ffc7e12083072daf41eb', '0xf7a826d47c8e02835d94fb0aa40f0cc9505cb134': '0x4d4264aebf65bb1727bb5438e0b2aaf86186da50', '0xead7e0163e3b33bf0065c9325fc8fb9b18cc8213': '0x329caebb9be5144c5727347f64f8b3a3b109ec57', '0x4cdabe9e07ca393943acfb9286bbbd0d0a310ff6': '0x93ae6971f03ce890fa4e9274ab441477b84dae5f', '0xb328b50f1f7d97ee8ea391ab5096dd7657555f49': '0xbf8f01ebcf0a21c46d23ada2c86eb31c9965b2f0', '0x10f8ea49255e8a865ca4eda1630168c85cc8ee81': '0xd5417acb575c799ceb373f85adf100c7cd84c8c8', '0x00df7f58e1cf932ebe5f54de5970fb2bdf0ef06d': '0x64fced4684f4b065e6b900c4e99a0cbacc5e5fe1', '0xb371aa09f5a110ab69b39a84b5469d29f9b22b76': '0x6b641e334f63f0d882538fe189efc0702d961696', '0xa7ff759dbef9f3efdd1d59beee44b966acafe214': '0xe2b680a8d02fbf48c7d9465398c4225d7b7a7f87', '0xacfe9b4782910a853b68abba60f3fd8049ffe638': '0xa5893cf81150aa61a0b33950c1b13c5251c19a10', '0x3efb91c4f9b103ee45885695c67794591916f34e': '0xbadf0c8702b7cb06bbec351d18071804759e312c', '0xd3d5d45f4edf82ba0dfaf061d230766032a10e07': '0x8204b749b808818deb7957dbd030ceea44d1fe18', '0x9fa6ab3d78984a69e712730a2227f20bcc8b5ad9': '0x956074628a64a316086f7125074a8a52d3306321', '0x0b09dea16768f0799065c475be02919503cb2a35': '0x4ca6ac0509e6381ca7cd872a6cdc0fbf00600fa1', '0xb460daa847c45f1c4a41cb05bfb3b51c92e41b36': '0x3f29e69955e5202759208dd0c5e0ba55ff934814', '0x27c9f71cc31464b906e0006d4fcbc8900f48f15f': '0x5a481455e62d5825429c8c416f3b8d2938755b64', '0xe340ebfcaa544da8bb1ee9005f1a346d50ec422e': '0xb32ae42524d38be7e7ed9e02b5f9330fcef07f3f', '0x9c6d47ff73e0f5e51be5fd53236e3f595c5793f2': '0x01a9502c11f411b494c62746d37e89d6f7078657', '0x9cc64ee4cb672bc04c54b00a37e1ed75b2cc19dd': '0x6661136537dfdca26eea05c8500502d7d5796e5e', '0x5c78d05b8ecf97507d1cf70646082c54faa4da95': '0x7f75ecd3cfd8ce8bf45f9639a226121ca8bbe4ff', '0xfd2620c9cfcec7d152467633b3b0ca338d3d78cc': '0x1e916950a659da9813ee34479bff04c732e03deb', '0xe19ed40a47f9b0cea4ca6d372df66107758913ec': '0x455f20c54b5712a84454468c7831f7c431aeeb1c', '0xde8c195aa41c11a0c4787372defbbddaa31306d2': '0x7c777eea1dc264e71e567fcc9b6ddaa9064eff51', '0x36bf227d6bac96e2ab1ebb5492ecec69c691943f': '0xdf464348c4ec2bf0e5d6926b9f707c8e02301adf', '0x32df62dc3aed2cd6224193052ce665dc18165841': '0x8135d6abfd42707a87a7b94c5cfa3529f9b432ad', '0x66f33ae36dd80327744207a48122f874634b3ada': '0x56a65cc666bfe538c5a031942369f6f63eb42240', '0xe0fcbf4d98f0ad982db260f86cf28b49845403c5': '0x5f838591a5a8048f0e4c4c7fcca8fd9a25bf0590', '0x20a61b948e33879ce7f23e535cc7baa3bc66c5a9': '0x6f3b31296fd2457eba6dca3bed65ec79e06c1295', '0xdfe6e7e18f6cc65fa13c8d8966013d4fda74b6ba': '0xbf65b3fa6c208762ed74e82d4aefcddfd0323648', '0xc13546b97b9b1b15372368dc06529d7191081f5b': '0xa86e8e8cfae8c9847fa9381d4631c13c7b3466bd', '0xa02e4b3d18d4e6b8d18ac421fbc3dfff8933c40a': '0x4e311e207ceaaaed421f17e909da16527565daef', '0x8eb6c82c3081bbbd45dcac5afa631aac53478b7c': '0xe5f24cd43f77fadf4db33dab44eb25774159ac66', '0xb08885e6026bab4333a80024ec25a1a3e1ff2b8a': '0x10a361766e64d7983a97202ac3a0f4cee06eb717', '0x7e9afd25f5ec0eb24d7d4b089ae7ecb9651c8b1f': '0x5af3b93fb82ab8691b82a09cbbae7b8d3eb5ac11', '0xbfce47224b4a938865e3e2727dc34e0faa5b1d82': '0x6af7bca454f3c8165225ed46fd4d78cc90e81faa', '0x42ed016f826165c2e5976fe5bc3df540c5ad0af7': '0x0021e01b9fab840567a8291b864ff783894eabc6', '0x42942cdec85078cf0e28e9cb5acd40cb53997ed6': '0x317e4966ae76fbf5110d2412c0c9332047399643', '0x2645b13fd2c5295296e94a76280b968bdcbbdfed': '0x5c0e6d132c53da7f6e958edf13db0fa02c5b2ec6', '0x6ae5a7857aad26722cb02cc168e38c52e0e4e45d': '0x276df166bc23bc6a84aac1ea48e1acc32264b652', '0xb26f0e66317846bd5fe0cbaa1d269f0efeb05c96': '0xb95397a17acbb5824535ebe69cd9dcf8fa7afc50', '0x96646936b91d6b9d7d0c47c496afbf3d6ec7b6f8': '0x9ab7b0c7b154f626451c9e8a68dc04f58fb6e5ce', '0x726e324c29a1e49309672b244bdc4ff62a270407': '0x145011e0c04805e11bef23c1eed848faf49bb779', '0x384f67aa430376efc4f8987eabf7f3f84eb9ea5d': '0xfc4541437265945f13368f9f61c19da427d41a02', '0xf0ad209e2e969eaaa8c882aac71f02d8a047d5c2': '0xd103dd49b8051a09b399a52e9a8ab629392de2fb', '0xc2b021133d1b0cf07dba696fd5dd89338428225b': '0x5db1fe5a1652f095ebc3f6065e9db3f3d492bfc2', '0x402cfdb7781fa85d52f425352661128250b79e12': '0xb7b9b9d35e7f9e324c762235fb69848175c03a19', '0x3cdf30e36154a66a4478e15ed41659b5bb0738f1': '0x91ceeb8d46428c5b8d76debc8156992e45d2d63f', '0x0c1b9ce6bf6c01f587c2ee98b0ef4b20c6648753': '0x399a750516c14c80480aed2bb597092b9118caa9', '0x6da7f1c193ab6c4bd16eb14a6305bba8d25737ff': '0xc6757e94ef9116b89f87b6b982e8a8a43c8c3c80', '0x55bec22f8f6c69137ceaf284d9b441db1b9bfedc': '0x40b4c2e260f803f868053789bd4a6c7edd1cdc39', '0x2d011adf89f0576c9b722c28269fcb5d50c2d179': '0xdc2df969ee5e66236b950f5c4c5f8abe62035df2', '0x831261f44931b7da8ba0dcc547223c60bb75b47f': '0xe9866b9dc2c1213433f614cbb22edaa0faff9a66', '0x26e5c5e2b48815b59640a1a82ac3c2249188daf4': '0xd2c2b1c0f8ad6e653ed7064fa7bad7a22de8b249', '0x3fa8c89704e5d07565444009e5d9e624b40be813': '0x70892e4355d0e04a3d19264e93c64c401520f3a4', '0x84a1038d55e887c2abb8cb02ccf4c9d3871c859a': '0xa4daa3498677d655e359b0fc83ebdbd8dbf76a50', '0xbe19d87ea6cd5b05bbc34b564291c371dae96747': '0x414eae9a827f4174a63fe4f10e975678ca28c898', '0xb8bb1ce9c6e5401d66fe2126db6e7387e1e24ffe': '0x857e38987a26517263af091380e6159b92afaaf1', '0xd00f9ca46ce0e4a63067c4657986f0167b0de1e5': '0x416d15c36c6daad2b9410b79ae557e6f07dcb642', '0x8fbd0f8e490735cfc3abf4f29cbddd5c3289b9a7': '0xecf0a26a290cbf3ddbab7ec5fb44ef5a294cac18', '0xc771c1a5905420daec317b154eb13e4198ba97d0': '0xd75026f8723b94d9a360a282080492d905c6a558', '0x9f9d900462492d4c21e9523ca95a7cd86142f298': '0x2c2179abce3413e27bda6917f60ae37f96d01826', '0xd7edb56f63b2a0191742aea32df1f98ca81ed9c6': '0x3efd3e18504dc213188ed2b694f886a305a6e5ed', '0xb2b918f2d628b4c8ff237b0a1c6ac3bea222fedc': '0x73f49a29f91e016cc9bde5cdf6f5dc049280e5a9', '0xdb02f620a59f1b16146edd0e8dbeb27d94e9c25c': '0x4f3f3501f376d93e4e5fd61d4168f871cbf67c97', '0xb973ca96a3f0d61045f53255e319aedb6ed49240': '0xcb2c2af6c3e88b4a89aa2aae1d7c8120eee9ad0e', '0x93d199263632a4ef4bb438f1feb99e57b4b5f0bd': '0x5c0f23a5c1be65fa710d385814a7fd1bda480b1c', '0x0c659734f1eef9c63b7ebdf78a164cdd745586db': '0xe9b2cb6836be07357bcb8144f398730d5ec268e9', '0x3dd0843a028c86e0b760b1a76929d1c5ef93a2dd': '0x0312aa8d0ba4a1969fddb382235870bf55f7f242', '0x5aee1e99fe86960377de9f88689616916d5dcabe': '0xa2a9ebd6f4dea4802083f2c8d08066a4e695e64b', '0x7ca75bdea9dede97f8b13c6641b768650cb83782': '0x730a168cf6f501cf302b803ffc57ff3040f378bf', '0xbe0f30217be1e981add883848d0773a86d2d2cd4': '0xb12ada23ee766bd6b596e2be556ea2046758b87c', '0xa1ea76c42b2938cfa9abea12357881006c528513': '0xf07b17dc2f1bca19dde307690b59bae3322faf0f', '0x37b18b10ce5635a84834b26095a0ae5639dcb752': '0x274fda0d445097dccc55c7f7ef85bfd3877a132e', '0xdc31233e09f3bf5bfe5c10da2014677c23b6894c': '0x205daddbad79ec680451de55e2cc744ff8cbabd0', '0xeb30c85cc528537f5350cf5684ce6a4538e13394': '0xf0d3268d36adf812fa69756500d72a899d4c2420', '0x99a14324cfd525a34bbc93ac7e348929909d57fd': '0xaf3c3dab54ca15068d09c67d128344916e177ca9', '0x5f1f4e50ba51d723f12385a8a9606afc3a0555f5': '0x95201b61ef19c867da0d093df20021e1a559452c', '0xc7fa3a3527435720f0e2a4c1378335324dd4f9b3': '0x175407b4710b5a1cb67a37c76859f17fb2ff6672', '0xd5d99b7e9697ba8bb1da48f07ba81900c7572cea': '0x05266a0d5ac04e44d394b8a8a2d0935d8809692b', '0xee278d943584dd8640eaf4cc6c7a5c80c0073e85': '0x82bcad0c8f51d88ec339141f0d8953bc25cc3d8c', '0x433f09ca08623e48bac7128b7105de678e37d988': '0xed0bb13496ce24efff8f9734a9707d092d4be10c', '0x36be1e97ea98ab43b4debf92742517266f5731a3': '0xf7b0751fea697cf1a541a5f57d11058a8fb794ee', '0x3fd4954a851ead144c2ff72b1f5a38ea5976bd54': '0x671ed21480acf63b0ab7297b901505f5bccafa9b', '0x8353157092ed8be69a9df8f95af097bbf33cb2af': '0xf720e9137baa9c7612e6ca59149a5057ab320cfa', '0xe8cc7e765647625b95f59c15848379d10b9ab4af': '0x47c56a900295df5224ec5e6751dc31eb900321d5', '0xe22483774bd8611be2ad2f4194078dac9159f4ba': '0xf0d887c1f5996c91402eb69ab525f028dd5d7578', '0x274dedb9356c3e1e24bfe2bf3d4349fbdbfa0d14': '0x0afde8f3c20085fd45b64d35e7d9db84749505cb', '0x8ed9e70bfa17a1e2c4f8e561c8d0c2d1acc092fa': '0x2efcc89a1d534a8ee0e8dd469fa05cb20ccf5c19', '0x567ecfcb22205d279bb8eed3e066989902bf03d5': '0xace0d479040231e3c6b17479cfd4444182d521d4', '0x6a5ead5433a50472642cd268e584dafa5a394490': '0xc2c2304e163e1ab53de2eeb08820a0b592bec20b', '0x423a1323c871abc9d89eb06855bf5347048fc4a5': '0xbb1a15dfd849bc5a6f33c002999c8953afa626ad', '0x6f0ed6f346007563d3266de350d174a831bde0ca': '0x02ea1c2702ecd478082d4b3ae902b6d10d26b920', '0x178e029173417b1f9c8bc16dcec6f697bc323746': '0xdd4db3ff8a37fe418db6ff34fc316655528b6bbc', '0x2086f52651837600180de173b09470f54ef74910': '0x895e415ce9936c1dca0a0859b0ea92e05bc966ae', '0xd2f3b9e67c69762dd1c88f1d3dadd1649a190761': '0x1ecb261dc3496675c54514e44dea2a5115aecb38', '0x1bd2f176a812e312077bca87e37c08432bb09f3e': '0x06d27c0fe5abf6020bf56e47c72ca002dd5d9f54', '0xcd7b2232b7435595bbc7fd7962f1f352fc2cc61a': '0xe9816654a37aabaec2a742f1a1ce4c99d42c08d2', '0x5512a4bbe7b3051f92324bacf25c02b9000c4a50': '0x63e3951212cccafe3edc7588fd4d20ee5e7ad73f', '0x158e0fbc2271e1dcebadd365a22e2b4dd173c0db': '0x9aaaf6757be9e115895429ef6b81e05dcb951646', '0x9321e2250767d79bab5aa06daa8606a2b3b7b4c5': '0x735b275a567f6c921c82f83d4515bec1f72038d3', '0xa718042e5622099e5f0ace4e7122058ab39e1bbe': '0x38727b907046818135c9a865d5c40be6cd1c0514', '0x03090a9811181a2afe830a3a0b467698ccf3a8b1': '0x224989bc31286f0e6dd6f32c0e475bbd4579a976', '0xfd1cf6fd41f229ca86ada0584c63c49c3d66bbc9': '0x190ae1f6ee5c0b7bc193fa9cd9bbe9b335f69c65', '0xcd78a20c597e367a4e478a2411ceb790604d7c8f': '0x9965713498c74aee49cef80b2195461f188f24f8', '0x15c1cdacd3da1e1c1304200b1beb080d50bbbc0f': '0x36365da262db3965ba2e1c4411409bf22508e0a1', '0x0c8972437a38b389ec83d1e666b69b8a4fcf8bfd': '0x49f530b45ae792cdf5cbd5d25c5a9b9e59c6c3b8', '0xf42ed61450458ee4620f5ef4f29adb25a6ef0fb6': '0xee3cc827ef3e7a00a728fd52199cd5a6e336361d', '0x60683b05e9a39e3509d8fdb9c959f23170f8a0fa': '0x33bcaa8a390e6dcf2f18ae5fdd9e38fd248219eb', '0x8c89fb53d4d83173dd65b7a94569558ce393460f': '0x5f69b3800ff7fa1bcb74090e16bd4b42a710749e', '0xa8bf1c584519be0184311c48adbdc4c15cb2e8c1': '0xdb218dc1394bbd787bb059dbd9f7e41063e16374', '0xd278166dabaf26707362f7cfdd204b277fd2a460': '0xcd8bb8cebc794842967849255c234e7b7619a518', '0x00fcd3d55085e998e291a0005cedecf58ac14c40': '0xce3a024baf36c91d315722b093928020a4f56622', '0x779d01f939d78a918a3de18cc236ee89221dfd4e': '0xfd29298041ea355cf7e15652689f2865443c3144', '0xbbf9d705b75f408cfcaee91da32966124d2c6f7d': '0xbc771929359b1a6386801705e8d185205d8f1cbf', '0x68e3266c9c8bbd44ad9dca5afbfe629022aee9fe': '0x2d42910d826e5500579d121596e98a6eb33c0a1b', '0xab269164a10fab22bc87c39946da06c870b172d6': '0x95ee4c90ac8aafbae0dfe18f08a290b59eacbc1b', '0x8a2872fd28f42bd9f6559907235e83fbf4167f48': '0xab6b60f389218aff06de279bf8c69a246568b5a6', '0xcba9ff45cfb9ce238afde32b0148eb82cbe63562': '0x4944b07977a42c15c6a06cf4e204e24c60564104', '0x513cdee00251f39de280d9e5f771a6eafebcc88e': '0x16289f675ca54312a8fcf99341e7439982888077', '0xfcf77141908aa22bfeac216123c5feb2531f373e': '0xfa58735ceeaa83a7c9c13ca771f12378d40d7b05', '0xa231aea07bb5e79ae162f95903806fc5ad65ff11': '0x8f7a0f9cf545db78bf5120d3dbea7de9c6220c10', '0x2e848426aec6dbf2260535a5bea048ed94d9ff3d': '0xd1c070ebc7ec77f2134b3ef75283b6c1fb31a157', '0xb3d658d5b95bf04e2932370dd1ff976fe18dd66a': '0x39ceebb561a65216a4b776ea752d3137e9d6c0f0', '0xb266ac3b7c98d7bcb28731dac0ef42dba1b276be': '0x6f06b425e1bc11fc486c308c22e503d188525f06', '0xa8af146d79ac0bb981e4e0d8b788ec5711b1d5d0': '0x175fab9c7ab502b9e76e7fca0c9da618387ebada', '0xce2da1d3e5b5e4e1913f9ff65ee029d38682d8b9': '0x6ba66967b0723718d616ad5f293c2ae6d7b0fcae', '0x481c5fc05d63a58aa2f0f2aa417c021b5d419cb2': '0x9fb7d6dcac7b6aa20108bad226c35b85a9e31b63', '0x9e2d87f904862671eb49cb358e74284762cc9f42': '0xc85679e41f1f98e694d9f8983fdd484f98f2eb02', '0x18fdf15ff782e44c1f9b6c5846ff6b0f0004f6a2': '0xd8191a3496a1520c2b5c81d04b26f8556fc62d7b', '0x26c2b83fc8535deead276f5cc3ad9c1a2192e027': '0xd3d5d45f4edf82ba0dfaf061d230766032a10e07', '0xe15cac1df3621e001f76210ab12a7f1a1691481f': '0x774d0f67dcfa5568ca435c70fba272c64352d859', '0xe8c56405bc405840154d9b572927f4197d110de1': '0xe9e6e9597123034fa3fc73d482852e18edf9c282', '0x4de21b365d6543661d0e105e579a34b963862497': '0x7a4e71a8a33d3b385279079c503ca93905dd553e', '0x098f32d98d0d64dba199fc1923d3bf4192e78719': '0xdc08146530dd9910f8ab4d0ad2c184f87e903540', '0xba1a5b19d09a79dada039b1f974015c5a989d5fd': '0x3a7ed8916ebb9131966b9b3af3cd8b9adcc53559', '0x1e19cf2d73a72ef1332c882f20534b6519be0276': '0x79ef6103a513951a3b25743db509e267685726b7', '0x3f7c10701b14197e2695dec6428a2ca4cf7fc3b8': '0x27fd581e9d0b2690c2f808cd40f7fe667714b575', '0x4fd4687ec38220f805b6363c3c1e52d0df3b5023': '0x623f3dbc761b46f64ae7951700dd7724cb7d6075', '0x077794c30afeccdf5ad2abc0588e8cee7197b71a': '0x09d1036b04ef49bc155d258d7360fa7ae8f5b84d', '0x8e85e97ed19c0fa13b2549309965291fbbc0048b': '0x3f0fb52648eb3981ea598716b7320081d1c8ba1a', '0xae8535c23afedda9304b03c68a3563b75fc8f92b': '0x5669736fd1df3572f9d519fccf7536a750cfac62', '0xefaa1604e82e1b3af8430b90192c1b9e8197e377': '0xafc28b2412b343574e8673d4fb6b220473677602', '0x48607651416a943bf5ac71c41be1420538e78f87': '0x75cacebb5b4a73a530edcdfde7cffbfea44c026e', '0xd1ec5e215e8148d76f4460e4097fd3d5ae0a3558': '0x5f2c3422a675860f0e019ddd78c6fa681be84bd4', '0x66888e4f35063ad8bb11506a6fde5024fb4f1db0': '0x41a8243656bcf628ac92189558f70d371dd08b4e', '0xc474b8512664edc9e746ee5e786478aea15887d2': '0xa0c90bbc0f7506baba46436f7302838fa96ebad6', '0x06df3b2bbb68adc8b0e302443692037ed9f91b42': '0x34f33cdaed8ba0e1ceece80e5f4a73bcf234cfac', '0xcc65a812ce382ab909a11e434dbf75b34f1cc59d': '0x6823dca6d70061f2ae2aaa21661795a2294812bf', '0x5122e01d819e58bb2e22528c0d68d310f0aa6fd7': '0x09afec27f5a6201617aad014ceea8deb572b0608', '0x759fabc513accd292ada967c4dd7bb94da39232e': '0x44bc38d3af025c0ea9a4729e79d6e44244d68ac6', '0x76b9cbd55fd6776c2de18738a04b0f9da56ce6ca': '0x35e5100c90c1d657942ec5ec4cbe38c53845245f', '0xa6f548df93de924d73be7d25dc02554c6bd66db5': '0x4e3c048be671852277ad6ce29fd5207aa12fabff', '0xfb5e6d0c1dfed2ba000fbc040ab8df3615ac329c': '0x6f825c8bbf67ebb6bc35cf2071dacd2864c3258e', '0xf4c0dd9b82da36c07605df83c8a416f11724d88b': '0xcb664132622f29943f67fa56ccfd1e24cc8b4995', '0x496ff26b76b8d23bbc6cf1df1eee4a48795490f7': '0x9c0f4144d037688e0ada74b22a9aab7c14c58e6c', '0xff4ce5aaab5a627bf82f4a571ab1ce94aa365ea6': '0xbc02ef87f4e15ef78a571f3b2adcc726fee70d8b', '0x156c02f3f7fef64a3a9d80ccf7085f23cce91d76': '0x1d157cf1f1339864a3c291d1bbe786d6ee682434', '0x616d4d131f1147ac3b3c3cc752bab8613395b2bb': '0x5e23599ebe87a5a140f295c2fc6aaedb10955497', '0x9cebf13bb702f253abf1579294694a1edad00eaa': '0x90ddaa2a6d192db2f47195d847626f94e940c7ac', '0x072f14b85add63488ddad88f855fda4a99d6ac9b': '0x605ea53472a496c3d483869fe8f355c12e861e19', '0xbf96189eee9357a95c7719f4f5047f76bde804e5': '0x942cb1ed80d3ff8028b3dd726e0e2a9671bc6202', '0x441b8a1980f2f2e43a9397099d15cc2fe6d36250': '0x46804462f147ff96e9cafb20ca35a3b2600656df', '0xe2d16b0a39f3fbb4389a0e8f1efcbecfb3d1e6e1': '0x639f4583e505e9e0a16c5d90e1af61b47415a3a9', '0x70ff0078d55ce9c1a0e668f35eb4400a4300122d': '0x852580e3e1c0fd35de426c5481670c1772525265', '0xade4a71bb62bec25154cfc7e6ff49a513b491e81': '0x00b9bcd17cb049739d25fd7f826caa2e23b05620', '0x32296969ef14eb0c6d29669c550d4a0449130230': '0xcd4722b7c24c29e0413bdcd9e51404b4539d14ae', '0x92762b42a06dcdddc5b7362cfb01e631c4d44b40': '0x57ab3b673878c3feab7f8ff434c40ab004408c4c', '0x8159462d255c1d24915cb51ec361f700174cd994': '0xf7c3b4e1edcb00f0230bfe03d937e26a5e654fd4', '0x76fcf0e8c7ff37a47a799fa2cd4c13cde0d981c9': '0x107a2209883621afe2968da31c03190e0b2782c2', '0x7d98f308db99fdd04bbf4217a4be8809f38faa64': '0x6ee63656bbf5be3fdf9be4982bf9466f6a921b83', '0xcfca23ca9ca720b6e98e3eb9b6aa0ffc4a5c08b9': '0x275df57d2b23d53e20322b4bb71bf1dcb21d0a00', '0xae7bfd6fa54259fc477879712eebe34164d3a84f': '0x39a9e78c3b9b5b47f1f6632bd74890e2430215cf', '0xb20fc01d21a50d2c734c4a1262b4404d41fa7bf0': '0x2c967d6611c60274db45e0bb34c64fb5f504ede7', '0x26cc136e9b8fd65466f193a8e5710661ed9a9827': '0x2dc55e84baf47296c2cf87b4ec3eb66fd7665611', '0x0578292cb20a443ba1cde459c985ce14ca2bdee5': '0x2e79d6f631177f8e7f08fbd5110e893e1b1d790a', '0xbaeec99c90e3420ec6c1e7a769d2a856d2898e4d': '0x777c45bd0a2af1da5fe4a532ad6b207d3ced8b2d', '0xaf5e0b5425de1f5a630a8cb5aa9d97b8141c908d': '0xc3bb46b8196c3f188c6a373a6c4fde792ca78653', '0xa13a9247ea42d743238089903570127dda72fe44': '0xa6325e799d266632d347e41265a69af111b05403', '0x483006684f422a9448023b2382615c57c5ecf18f': '0xa9a63971c55c132af0e6b39a081e604f07f4e234', '0xe7e2c68d3b13d905bbb636709cf4dfd21076b9d2': '0xee01c0d9c0439c94d314a6ecae0490989750746c', '0x3ff3a210e57cfe679d9ad1e9ba6453a716c56a2e': '0x15c84754c7445d0df6c613f1490ca07654347c1b', '0x1ee442b5326009bb18f2f472d3e0061513d1a0ff': '0x87012b0c3257423fd74a5986f81a0f1954c17a1d', '0xe4e72f872c4048925a78e1e6fddac411c9ae348a': '0x21c377cbb2beddd8534308e5cdfebe35fdf817e8', '0xb797adfb7b268faeaa90cadbfed464c76ee599cd': '0xd1177e2157a7fd6a0484b79f8e50e8a9305f8063', '0xd4f79ca0ac83192693bce4699d0c10c66aa6cf0f': '0xe879f17910e77c01952b97e4a098b0ed15b6295c', '0x08775ccb6674d6bdceb0797c364c2653ed84f384': '0xd9cde95efed2d426f2741e2c44de9573116b8f07', '0x42fbd9f666aacc0026ca1b88c94259519e03dd67': '0x78a54c8f4eaba82e45cbc20b9454a83cb296e09e', '0xa3c500969accb3d8df08cba313c120818fe0ed9d': '0x4532fba326d853a03644758b8b7438374f6780dc', '0x99c88ad7dc566616548adde8ed3effa730eb6c34': '0x19a13793af96f534f0027b4b6a3eb699647368e7', '0xfa92d9dd808d0e8d68079bdc7f01e74658e1ef15': '0xce540832f7c790d25345aa19fb1db3cfdea04611', '0x350196326aeaa9b98f1903fb5e8fc2686f85318c': '0xc2d343e2c9498e905f53c818b88eb8064b42d036', '0xad0e5e0778cac28f1ff459602b31351871b5754a': '0xe629c43bcad1029e12ed51432b9dd3432b656cc9', '0x8bd4a1e74a27182d23b98c10fd21d4fbb0ed4ba0': '0xf17f1e67bc384e43b4acf69cc032ad086f15f262', '0x9001cbbd96f54a658ff4e6e65ab564ded76a5431': '0x70c6a653e273523fadfb4df99558737906c230c6', '0xb5e3de837f869b0248825e0175da73d4e8c3db6b': '0xe96924d293b9e2961f9763ca058e389d27341d3d', '0x380aabe019ed2a9c2d632b51eddd30fd804d0fad': '0x6e7b9a1746a7ed4b23edff0975b726e5aa673e21', '0xfedb19ec000d38d92af4b21436870f115db22725': '0x3b6a85b5e1e6205ebf4d4eabf147d10e8e4bf0a5', '0x639883476960a23b38579acfd7d71561a0f408cf': '0x454eb2f12242397688dbfda241487e67ed80507a', '0xb3028ca124b80cfe6e9ca57b70ef2f0ccc41ebd4': '0x0edf6cdd81bc3471c053341b7d8dfd1cb367ad93', '0x4a2f6ae7f3e5d715689530873ec35593dc28951b': '0x56c0626e6e3931af90ebb679a321225180d4b32b', '0x8167a1117691f39e05e9131cfa88f0e3a620e967': '0x7fc115bf013844d6ef988837f7ae6398af153532', '0x87a867f5d240a782d43d90b6b06dea470f3f8f22': '0x2fc4506354166e8b9183fbb6a68cd9c5f3fb9bc5', '0xd590931466cdd6d488a25da1e89dd0539723800c': '0x81c452e84b103555c2dd2dec0bfabc0c4d6b3065', '0x4a0b73f0d13ff6d43e304a174697e3d5cfd310a4': '0xe77239359ce4d445fed27c17da23b8024d35e456', '0x4ce0bd7debf13434d3ae127430e9bd4291bfb61f': '0x9703c0144e8b68280b97d9e30ac6f979dd6a38d7', '0xf3312968c7d768c19107731100ece7d4780b47b2': '0xa4c104ab9116a84714c081e0ed6d750221e4c756', '0xd6abbfd427398ea463b4f15f405624bab520db03': '0xd66abad5516f668d8ea6157666b74862546e6e80', '0xdb0cbcf1b8282dedc90e8c2cefe11041d6d1e9f0': '0x4dc35ec8562596dda6aee8ecee59a76d4d72b83e', '0x793f2d5cd52dfafe7a1a1b0b3988940ba2d6a63d': '0x8a88c1f44854c61a466ab55614f6a7778473418b', '0xf16aee6a71af1a9bc8f56975a4c2705ca7a782bc': '0x183d73da7adc5011ec3c46e33bb50271e59ec976', '0xfebb0bbf162e64fb9d0dfe186e517d84c395f016': '0x0052688295413b32626d226a205b95cdb337de86', '0xe2f706ef1f7240b803aae877c9c762644bb808d8': '0x1f5cb5b832f27e24a3b0ad4b837d3ed26ff7ac6e', '0x02d928e68d8f10c0358566152677db51e1e2dc8c': '0x11ff498c7c2a29fc4638bf45d9ff995c3297fca5', '0x216690738aac4aa0c4770253ca26a28f0115c595': '0xdd3b4161d2a4c609884e20ed71b4e85be44572e6', '0x8d333f82e0693f53fa48c40d5d4547142e907e1d': '0xd758454bdf4df7ad85f7538dc9742648ef8e6d0a', '0x8bc65eed474d1a00555825c91feab6a8255c2107': '0x25869f277f474fa9459f40f5d4cb0d6a8ab41967', '0x577f6076e558818a5df21ce4acde9a9623ec0b4c': '0x0a650f4e0c416c24c8713c322d5aaa531a5a0112', '0x9b692f571b256140a39a34676bffa30634c586e1': '0xe35f0152f0d49fe8e386e5c42b656321ffb0d477', '0x542f16da0efb162d20bf4358efa095b70a100f9e': '0xc4b6cc9a444337b1cb8cbbdd9de4d983f609c391', '0x4fd63966879300cafafbb35d157dc5229278ed23': '0xdacd99029b4b94cd04fe364aac370829621c1c64', '0x4cbde5c4b4b53ebe4af4adb85404725985406163': '0x9e3f4fb69058244066801404e50889592d33ca11', '0xdf2c03c12442c7a0895455a48569b889079ca52a': '0x69f1077aece23d5b0344330b5eb13f05d5e410a1', '0x41503c9d499ddbd1dcdf818a1b05e9774203bf46': '0x29488df9253171acd0a0598fdda92c5f6e767a38', '0xdd59f89b5b07b7844d72996fc9d83d81acc82196': '0xe77d45b5de97ac7717e4ede6be16e3d805ff02a5', '0xd80ef9fabfdc3b52e17f74c383cf88ee2efbf0b6': '0x31f99c542cbe456fcbbe99d4bf849af4d7fb5405', '0x77e97d4908be63394bc5dff72c8c7bddf1699882': '0x790de8abe859f399023bce73b5fe5c4870cd816a', '0xbad20c15a773bf03ab973302f61fabcea5101f0a': '0xf8c85bd74fee26831336b51a90587145391a27ba', '0xc9f52540976385a84bf416903e1ca3983c539e34': '0xa8d974288fe44acc329d7d7a179707d27ec4dd1c', '0xc443c15033fcb6cf72cc24f1bda0db070ddd9786': '0x21ec388000b5ba5d9e3df3848ea0c1f58e054af7', '0xeab6455f8a99390b941a33bbdaf615abdf93455e': '0xe603cc3f7ec38cc6ab1eef7fda9bb599493e9a24', '0x21d4c792ea7e38e0d0819c2011a2b1cb7252bd99': '0xc61e7e858b5a60122607f5c7df223a53b01a1389', '0x04248aabca09e9a1a3d5129a7ba05b7f17de7684': '0xc764b55852f8849ae69923e45ce077a576bf9a8d', '0xcaa052584b462198a5a9356c28bce0634d65f65c': '0x254f3a52ba9e0cac4e32b648d129529622d1a46c', '0x1a44e35d5451e0b78621a1b3e7a53dfaa306b1d0': '0xd449efa0a587f2cb6be3ae577bc167a774525810', '0xe1f2c039a68a216de6dd427be6c60decf405762a': '0xce99399fb4de36056a6831b159572e271360ea40', '0x9d7f992c900fbea0ec314bdd71b7cc1becf76a33': '0x39df6e857bdf7387273c43ebb373b9d74f467d35', '0x4c81255cc9ed7062180ea99962fe05ac0d57350b': '0x6d5af3414a73e498039a3720afb4a376ae9c5a07', '0x39965c9dab5448482cf7e002f583c812ceb53046': '0x1ce5bf7e6c16c567defd625e0911bfd0fc7f2d7d', '0x9791d590788598535278552eecd4b211bfc790cb': '0xb6d101874b975083c76598542946fe047f059066', '0x1d0a8a31cdb04efac3153237526fb15cc65a2520': '0x54f220a891f468629027c3cc8a58722d4f576402', '0x7b50775383d3d6f0215a8f290f2c9e2eebbeceb2': '0x1b8c2c972c67f4a5b43c2ebe07e64fcb88acee87', '0xc5dc1316ab670a2eed5716d7f19ced321191f382': '0x8eeb783a4a67f626c6e3952aaed0d6b104aac85f', '0xd20f6f1d8a675cdca155cb07b5dc9042c467153f': '0x0bfcf593c149ddbeedb190667d24d30d2e38af73', '0xbf2ef8bdc2fc0f3203b3a01778e3ec5009aeef33': '0x882f961def46deadacf31798b295834a5b6d0c86', '0xc6eee8cb7643ec2f05f46d569e9ec8ef8b41b389': '0x9ab40b6e1330ce70b9e07cd691f281c1539944e6', '0xdf725fde6e89981fb30d9bf999841ac2c160b512': '0xf7d515dc47d5bd57786494628ed766d6bf31cd39', '0x1d95129c18a8c91c464111fdf7d0eb241b37a985': '0xd0b6787589d33b4f7aa5a27f36497e091e78a2ad', '0xb54e6aadbf1ac1a3ef2a56e358706f0f8e320a03': '0x0a4825154bcfd493d15777184d01b93e8115215a', '0xac2cae8d2f78a4a8f92f20dbe74042cd0a8d5af3': '0x24e8787b4ac5325fd082bc30b9fe7eb2f01304c7', '0x45c4d1376943ab28802b995acffc04903eb5223f': '0x80aed5c5c683fec86817c98da334dd72424e7297', '0xe4010ef5e37dc23154680f23c4a0d48bfca91687': '0x37eca8daab052e722e3bf8ca861aa4e1c047143b', '0x924ec7ed38080e40396c46f6206a6d77d0b9f72d': '0x539d6edbd16f2f069a06716416c3a6e98cc29dd0', '0x79c58f70905f734641735bc61e45c19dd9ad60bc': '0x5612876e6f6ca370d93873fe28c874e89e741fb9', '0x9a172e1cb0e99f7e6dcc4c52e4655e8f337d5c00': '0x5c23661e747f84e0c71d782e5f1513126041734b', '0xf48f01dcb2cbb3ee1f6aab0e742c2d3941039d56': '0xe41736b4e78be41bd03ebaf8f86ea493c6e9ea96', '0xd689abc77b82803f22c49de5c8a0049cc74d11fd': '0x5b79494824bc256cd663648ee1aad251b32693a9', '0x89b753153678bc434c610b7e9182297cada8ff29': '0x6054a132020f48012c63d2cb83813327378f9423', '0x4a77ef015ddcd972fd9ba2c7d5d658689d090f1a': '0x47d7269829ba9571d98eb6ddc34e9c8f1a4c327f', '0x5c6ee304399dbdb9c8ef030ab642b10820db8f56': '0xb78543e00712c3abba10d0852f6e38fde2aaba4d', '0x9232a548dd9e81bac65500b5e0d918f8ba93675c': '0x56124eb16441a1ef12a4ccaeabdd3421281b795a', '0x6910c4e32d425a834fb61e983c8083a84b0ebd01': '0xb5bd58c733948e3d65d86ba9604e06e5da276fd1', '0x0018c32d85d8aebea2efbe0b0f4a4eb9e4f1c8c9': '0xc4e72abe8a32fd7d7ba787e1ec860ecb8c0b333c'}\n"
     ]
    }
   ],
   "source": [
    "from notebooks import fetch_all_pools_info\n",
    "\n",
    "mainnet_pools_info = fetch_all_pools_info('mainnet')\n",
    "arb_pools_info = fetch_all_pools_info('arbitrum')\n",
    "polygon_pools_info = fetch_all_pools_info('polygon')\n",
    "base_pools_info = fetch_all_pools_info('base')\n",
    "gnosis_pools_info = fetch_all_pools_info('gnosis')\n",
    "avax_pools_info = fetch_all_pools_info('avalanche')\n",
    "\n",
    "mainnet_gauges = {pool_info['address']: pool_info['gauge']['address'] for pool_info in mainnet_pools_info}\n",
    "arb_gauges = {pool_info['address']: pool_info['gauge']['address'] for pool_info in arb_pools_info}\n",
    "polygon_gauges = {pool_info['address']: pool_info['gauge']['address'] for pool_info in polygon_pools_info}\n",
    "base_gauges = {pool_info['address']: pool_info['gauge']['address'] for pool_info in base_pools_info}\n",
    "gnosis_gauges = {pool_info['address']: pool_info['gauge']['address'] for pool_info in gnosis_pools_info}\n",
    "avax_gauges = {pool_info['address']: pool_info['gauge']['address'] for pool_info in avax_pools_info}"
   ],
   "metadata": {
    "collapsed": false,
    "ExecuteTime": {
     "end_time": "2023-09-18T15:50:37.446981Z",
     "start_time": "2023-09-18T15:50:30.747856Z"
    }
   },
   "id": "93d3b07a2ccb9a32"
  },
  {
   "cell_type": "code",
   "execution_count": 8,
   "outputs": [
    {
     "ename": "KeyboardInterrupt",
     "evalue": "",
     "output_type": "error",
     "traceback": [
      "\u001B[0;31m---------------------------------------------------------------------------\u001B[0m",
      "\u001B[0;31mKeyboardInterrupt\u001B[0m                         Traceback (most recent call last)",
      "Cell \u001B[0;32mIn[8], line 5\u001B[0m\n\u001B[1;32m      3\u001B[0m \u001B[38;5;66;03m# To dict:\u001B[39;00m\n\u001B[1;32m      4\u001B[0m bribes_df_dict \u001B[38;5;241m=\u001B[39m bribes_df\u001B[38;5;241m.\u001B[39mto_dict(orient\u001B[38;5;241m=\u001B[39m\u001B[38;5;124m'\u001B[39m\u001B[38;5;124mrecords\u001B[39m\u001B[38;5;124m'\u001B[39m)\n\u001B[0;32m----> 5\u001B[0m \u001B[38;5;28;43mprint\u001B[39;49m(\u001B[38;5;28;01mTrue\u001B[39;00m)\n",
      "Cell \u001B[0;32mIn[8], line 5\u001B[0m\n\u001B[1;32m      3\u001B[0m \u001B[38;5;66;03m# To dict:\u001B[39;00m\n\u001B[1;32m      4\u001B[0m bribes_df_dict \u001B[38;5;241m=\u001B[39m bribes_df\u001B[38;5;241m.\u001B[39mto_dict(orient\u001B[38;5;241m=\u001B[39m\u001B[38;5;124m'\u001B[39m\u001B[38;5;124mrecords\u001B[39m\u001B[38;5;124m'\u001B[39m)\n\u001B[0;32m----> 5\u001B[0m \u001B[38;5;28;43mprint\u001B[39;49m(\u001B[38;5;28;01mTrue\u001B[39;00m)\n",
      "File \u001B[0;32m_pydevd_bundle/pydevd_cython_darwin_39_64.pyx:1179\u001B[0m, in \u001B[0;36m_pydevd_bundle.pydevd_cython_darwin_39_64.SafeCallWrapper.__call__\u001B[0;34m()\u001B[0m\n",
      "File \u001B[0;32m_pydevd_bundle/pydevd_cython_darwin_39_64.pyx:620\u001B[0m, in \u001B[0;36m_pydevd_bundle.pydevd_cython_darwin_39_64.PyDBFrame.trace_dispatch\u001B[0;34m()\u001B[0m\n",
      "File \u001B[0;32m_pydevd_bundle/pydevd_cython_darwin_39_64.pyx:929\u001B[0m, in \u001B[0;36m_pydevd_bundle.pydevd_cython_darwin_39_64.PyDBFrame.trace_dispatch\u001B[0;34m()\u001B[0m\n",
      "File \u001B[0;32m_pydevd_bundle/pydevd_cython_darwin_39_64.pyx:920\u001B[0m, in \u001B[0;36m_pydevd_bundle.pydevd_cython_darwin_39_64.PyDBFrame.trace_dispatch\u001B[0;34m()\u001B[0m\n",
      "File \u001B[0;32m_pydevd_bundle/pydevd_cython_darwin_39_64.pyx:317\u001B[0m, in \u001B[0;36m_pydevd_bundle.pydevd_cython_darwin_39_64.PyDBFrame.do_wait_suspend\u001B[0;34m()\u001B[0m\n",
      "File \u001B[0;32m/Applications/PyCharm.app/Contents/plugins/python/helpers/pydev/pydevd.py:1160\u001B[0m, in \u001B[0;36mPyDB.do_wait_suspend\u001B[0;34m(self, thread, frame, event, arg, send_suspend_message, is_unhandled_exception)\u001B[0m\n\u001B[1;32m   1157\u001B[0m         from_this_thread\u001B[38;5;241m.\u001B[39mappend(frame_id)\n\u001B[1;32m   1159\u001B[0m \u001B[38;5;28;01mwith\u001B[39;00m \u001B[38;5;28mself\u001B[39m\u001B[38;5;241m.\u001B[39m_threads_suspended_single_notification\u001B[38;5;241m.\u001B[39mnotify_thread_suspended(thread_id, stop_reason):\n\u001B[0;32m-> 1160\u001B[0m     \u001B[38;5;28;43mself\u001B[39;49m\u001B[38;5;241;43m.\u001B[39;49m\u001B[43m_do_wait_suspend\u001B[49m\u001B[43m(\u001B[49m\u001B[43mthread\u001B[49m\u001B[43m,\u001B[49m\u001B[43m \u001B[49m\u001B[43mframe\u001B[49m\u001B[43m,\u001B[49m\u001B[43m \u001B[49m\u001B[43mevent\u001B[49m\u001B[43m,\u001B[49m\u001B[43m \u001B[49m\u001B[43marg\u001B[49m\u001B[43m,\u001B[49m\u001B[43m \u001B[49m\u001B[43msuspend_type\u001B[49m\u001B[43m,\u001B[49m\u001B[43m \u001B[49m\u001B[43mfrom_this_thread\u001B[49m\u001B[43m)\u001B[49m\n",
      "File \u001B[0;32m/Applications/PyCharm.app/Contents/plugins/python/helpers/pydev/pydevd.py:1175\u001B[0m, in \u001B[0;36mPyDB._do_wait_suspend\u001B[0;34m(self, thread, frame, event, arg, suspend_type, from_this_thread)\u001B[0m\n\u001B[1;32m   1172\u001B[0m             \u001B[38;5;28mself\u001B[39m\u001B[38;5;241m.\u001B[39m_call_mpl_hook()\n\u001B[1;32m   1174\u001B[0m         \u001B[38;5;28mself\u001B[39m\u001B[38;5;241m.\u001B[39mprocess_internal_commands()\n\u001B[0;32m-> 1175\u001B[0m         \u001B[43mtime\u001B[49m\u001B[38;5;241;43m.\u001B[39;49m\u001B[43msleep\u001B[49m\u001B[43m(\u001B[49m\u001B[38;5;241;43m0.01\u001B[39;49m\u001B[43m)\u001B[49m\n\u001B[1;32m   1177\u001B[0m \u001B[38;5;28mself\u001B[39m\u001B[38;5;241m.\u001B[39mcancel_async_evaluation(get_current_thread_id(thread), \u001B[38;5;28mstr\u001B[39m(\u001B[38;5;28mid\u001B[39m(frame)))\n\u001B[1;32m   1179\u001B[0m \u001B[38;5;66;03m# process any stepping instructions\u001B[39;00m\n",
      "\u001B[0;31mKeyboardInterrupt\u001B[0m: "
     ]
    }
   ],
   "source": [
    "# Load csv sheet to compare with the data collected above:\n",
    "bribes_df = pd.read_csv('compare_sheet.csv')\n",
    "# To dict:\n",
    "bribes_to_compare = bribes_df.to_dict(orient='records')\n",
    "\n"
   ],
   "metadata": {
    "collapsed": false,
    "ExecuteTime": {
     "end_time": "2023-09-18T15:53:24.706800Z",
     "start_time": "2023-09-18T15:53:13.228234Z"
    }
   },
   "id": "368cc463b8925cb9"
  }
 ],
 "metadata": {
  "kernelspec": {
   "display_name": "Python 3",
   "language": "python",
   "name": "python3"
  },
  "language_info": {
   "codemirror_mode": {
    "name": "ipython",
    "version": 2
   },
   "file_extension": ".py",
   "mimetype": "text/x-python",
   "name": "python",
   "nbconvert_exporter": "python",
   "pygments_lexer": "ipython2",
   "version": "2.7.6"
  }
 },
 "nbformat": 4,
 "nbformat_minor": 5
}
