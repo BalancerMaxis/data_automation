{
 "cells": [
  {
   "cell_type": "markdown",
   "source": [
    "## Collecting protocol fees across Balancer core pools on all networks\n",
    "- Spreadsheet as reference: https://docs.google.com/spreadsheets/d/1xwUPpbYq7woVOU9vQ8EB8MY75I-1mauTLyDVwvKUDKo/edit#gid=0\n",
    "- Collab: https://colab.research.google.com/drive/1vKCvcV5mkL1zwW3565kLSGkBEbt8NsoB?usp=sharing\n"
   ],
   "metadata": {
    "collapsed": false
   },
   "id": "e739385af75b2478"
  },
  {
   "cell_type": "code",
   "execution_count": 1,
   "outputs": [
    {
     "name": "stdout",
     "output_type": "stream",
     "text": [
      "Collecting bpt prices for Avalanche\n",
      "Collecting bpt prices for Base\n",
      "Collecting bpt prices for Gnosis\n",
      "Collecting bpt prices for Arbitrum\n",
      "Collecting bpt prices for Mainnet\n",
      "Collecting bpt prices for Polygon\n"
     ]
    }
   ],
   "source": [
    "import datetime\n",
    "import os\n",
    "\n",
    "import pandas as pd\n",
    "from dotenv import load_dotenv\n",
    "from web3 import Web3\n",
    "from web3.middleware import geth_poa_middleware\n",
    "\n",
    "from notebooks import get_block_by_ts\n",
    "from notebooks import get_twap_bpt_price\n",
    "from notebooks.constants import ARB_CORE_POOLS\n",
    "from notebooks.constants import BASE_CORE_POOLS\n",
    "from notebooks.constants import GNOSIS_CORE_POOLS\n",
    "from notebooks.constants import MAINNET_CORE_POOLS\n",
    "from notebooks.constants import POLYGON_CORE_POOLS\n",
    "from notebooks.constants import AVAX_CORE_POOLS\n",
    "\n",
    "load_dotenv()\n",
    "arb_web3 = Web3(Web3.HTTPProvider(os.environ[\"ARBNODEURL\"]))\n",
    "eth_web3 = Web3(Web3.HTTPProvider(os.environ[\"ETHNODEURL\"]))\n",
    "base_web3 = Web3(Web3.HTTPProvider(os.environ[\"BASENODEURL\"]))\n",
    "gnosis_web3 = Web3(Web3.HTTPProvider(os.environ[\"GNOSISNODEURL\"]))\n",
    "avax_web3 = Web3(Web3.HTTPProvider(os.environ[\"AVALANCHENODEURL\"]))\n",
    "poly_web3 = Web3(Web3.HTTPProvider(\"https://polygon-rpc.com\"))\n",
    "poly_web3.middleware_onion.inject(geth_poa_middleware, layer=0)\n",
    "\n",
    "# ARBITRUM\n",
    "# arb_block_now = arb_web3.eth.block_number - 1000\n",
    "timestamp_now = 1694790000\n",
    "arb_block = get_block_by_ts(timestamp_now, \"arbitrum\")  # 18 August 2023\n",
    "# Given Arb block time, we want to look back 2 weeks:\n",
    "arb_timestamp_2_weeks_ago = timestamp_now - (2 * 7 * 24 * 60 * 60)\n",
    "arb_block_2_weeks_ago = get_block_by_ts(arb_timestamp_2_weeks_ago, \"arbitrum\")\n",
    "# Convert to datetime:\n",
    "arb_datetime_now = datetime.datetime.fromtimestamp(timestamp_now)\n",
    "arb_datetime_2_weeks_ago = datetime.datetime.fromtimestamp(arb_timestamp_2_weeks_ago)\n",
    "# MAINNET\n",
    "mainnet_block = get_block_by_ts(timestamp_now, \"mainnet\")\n",
    "# Given mainnet block time, we want to look back 2 weeks:\n",
    "mainnet_timestamp_2_weeks_ago = arb_timestamp_2_weeks_ago\n",
    "mainnet_block_2_weeks_ago = get_block_by_ts(mainnet_timestamp_2_weeks_ago, \"mainnet\")\n",
    "# Convert to datetime:\n",
    "mainnet_datetime_now = datetime.datetime.fromtimestamp(timestamp_now)\n",
    "mainnet_datetime_2_weeks_ago = datetime.datetime.fromtimestamp(mainnet_timestamp_2_weeks_ago)\n",
    "\n",
    "# BASE\n",
    "base_block = get_block_by_ts(timestamp_now, \"base\")\n",
    "# Given base block time, we want to look back 2 weeks:\n",
    "base_timestamp_2_weeks_ago = arb_timestamp_2_weeks_ago\n",
    "base_block_2_weeks_ago = get_block_by_ts(base_timestamp_2_weeks_ago, \"base\")\n",
    "# Convert to datetime:\n",
    "base_datetime_now = datetime.datetime.fromtimestamp(timestamp_now)\n",
    "base_datetime_2_weeks_ago = datetime.datetime.fromtimestamp(base_timestamp_2_weeks_ago)\n",
    "\n",
    "# POLYGON\n",
    "poly_block = get_block_by_ts(timestamp_now, \"polygon\")\n",
    "# Given polygon block time, we want to look back 2 weeks:\n",
    "poly_timestamp_2_weeks_ago = arb_timestamp_2_weeks_ago\n",
    "poly_block_2_weeks_ago = get_block_by_ts(poly_timestamp_2_weeks_ago, \"polygon\")\n",
    "# Convert to datetime:\n",
    "poly_datetime_now = datetime.datetime.fromtimestamp(timestamp_now)\n",
    "poly_datetime_2_weeks_ago = datetime.datetime.fromtimestamp(poly_timestamp_2_weeks_ago)\n",
    "\n",
    "# GNOSIS\n",
    "gnosis_block = get_block_by_ts(timestamp_now, \"gnosis\")\n",
    "# Given gnosis block time, we want to look back 2 weeks:\n",
    "gnosis_timestamp_2_weeks_ago = arb_timestamp_2_weeks_ago\n",
    "gnosis_block_2_weeks_ago = get_block_by_ts(gnosis_timestamp_2_weeks_ago, \"gnosis\")\n",
    "# Convert to datetime:\n",
    "gnosis_datetime_now = datetime.datetime.fromtimestamp(timestamp_now)\n",
    "gnosis_datetime_2_weeks_ago = datetime.datetime.fromtimestamp(gnosis_timestamp_2_weeks_ago)\n",
    "\n",
    "# Avalanche\n",
    "avax_block = get_block_by_ts(timestamp_now, \"avalanche\")\n",
    "# Given avalanche block time, we want to look back 2 weeks:\n",
    "avax_timestamp_2_weeks_ago = arb_timestamp_2_weeks_ago\n",
    "avax_block_2_weeks_ago = get_block_by_ts(avax_timestamp_2_weeks_ago, \"avalanche\")\n",
    "# Convert to datetime:\n",
    "avax_datetime_now = datetime.datetime.fromtimestamp(timestamp_now)\n",
    "avax_datetime_2_weeks_ago = datetime.datetime.fromtimestamp(avax_timestamp_2_weeks_ago)\n",
    "\n",
    "print(\"Collecting bpt prices for Avalanche\")\n",
    "avax_bpt_twap_prices = {}\n",
    "for avax_pool in AVAX_CORE_POOLS:\n",
    "    avax_bpt_twap_prices[avax_pool] = get_twap_bpt_price(avax_pool, 'avalanche', avax_web3,\n",
    "                                                         start_date=avax_datetime_now, block_number=avax_block)\n",
    "print(\"Collecting bpt prices for Base\")\n",
    "base_bpt_twap_prices = {}\n",
    "for base_pool in BASE_CORE_POOLS:\n",
    "    base_bpt_twap_prices[base_pool] = get_twap_bpt_price(base_pool, 'base', base_web3,\n",
    "                                                         start_date=base_datetime_now, block_number=base_block)\n",
    "\n",
    "print(\"Collecting bpt prices for Gnosis\")\n",
    "gnosis_bpt_twap_prices = {}\n",
    "for gnosis_pool in GNOSIS_CORE_POOLS:\n",
    "    gnosis_bpt_twap_prices[gnosis_pool] = get_twap_bpt_price(gnosis_pool, 'gnosis', gnosis_web3,\n",
    "                                                             start_date=gnosis_datetime_now,\n",
    "                                                             block_number=gnosis_block)\n",
    "print(\"Collecting bpt prices for Arbitrum\")\n",
    "arb_bpt_twap_prices = {}\n",
    "for arb_pool in ARB_CORE_POOLS:\n",
    "    arb_bpt_twap_prices[arb_pool] = get_twap_bpt_price(arb_pool, 'arbitrum', arb_web3,\n",
    "                                                       start_date=arb_datetime_now,\n",
    "                                                       block_number=arb_block)\n",
    "\n",
    "print(\"Collecting bpt prices for Mainnet\")\n",
    "mainnet_bpt_twap_prices = {}\n",
    "for mainnet_pool in MAINNET_CORE_POOLS:\n",
    "    mainnet_bpt_twap_prices[mainnet_pool] = get_twap_bpt_price(mainnet_pool, 'mainnet', eth_web3,\n",
    "                                                               start_date=mainnet_datetime_now,\n",
    "                                                               block_number=mainnet_block)\n",
    "print(\"Collecting bpt prices for Polygon\")\n",
    "polygon_bpt_twap_prices = {}\n",
    "for polygon_pool in POLYGON_CORE_POOLS:\n",
    "    polygon_bpt_twap_prices[polygon_pool] = get_twap_bpt_price(polygon_pool, 'polygon', poly_web3,\n",
    "                                                               start_date=poly_datetime_now,\n",
    "                                                               block_number=poly_block)\n",
    "\n",
    "# Convert to dataframe and print, merge all three dataframes\n",
    "arb_bpt_twap_prices_df = pd.DataFrame.from_dict(arb_bpt_twap_prices, orient='index')\n",
    "mainnet_bpt_twap_prices_df = pd.DataFrame.from_dict(mainnet_bpt_twap_prices, orient='index')\n",
    "polygon_bpt_twap_prices_df = pd.DataFrame.from_dict(polygon_bpt_twap_prices, orient='index')\n",
    "base_bpt_twap_prices_df = pd.DataFrame.from_dict(base_bpt_twap_prices, orient='index')\n",
    "gnosis_bpt_twap_prices_df = pd.DataFrame.from_dict(gnosis_bpt_twap_prices, orient='index')\n",
    "avax_bpt_twap_prices_df = pd.DataFrame.from_dict(avax_bpt_twap_prices, orient='index')"
   ],
   "metadata": {
    "collapsed": false,
    "ExecuteTime": {
     "end_time": "2023-09-18T13:45:16.688794Z",
     "start_time": "2023-09-18T13:42:13.755646Z"
    }
   },
   "id": "39d87004addaae1b"
  },
  {
   "cell_type": "code",
   "execution_count": 2,
   "outputs": [
    {
     "data": {
      "text/plain": "                                                                                0\n0xade4a71bb62bec25154cfc7e6ff49a513b491e8100000...  1623.675371501289025353485139\n0x9791d590788598535278552eecd4b211bfc790cb00000...  1624.252035535099417229892070\n0x4a2f6ae7f3e5d715689530873ec35593dc28951b00000...  1628.204232474774112014425454\n0x423a1323c871abc9d89eb06855bf5347048fc4a500000...  1.000287514715826949194563748\n0x32df62dc3aed2cd6224193052ce665dc1816584100020...  1.084432736050647730628563298\n0x0c8972437a38b389ec83d1e666b69b8a4fcf8bfd00000...  1622.940959239087596069245535",
      "text/html": "<div>\n<style scoped>\n    .dataframe tbody tr th:only-of-type {\n        vertical-align: middle;\n    }\n\n    .dataframe tbody tr th {\n        vertical-align: top;\n    }\n\n    .dataframe thead th {\n        text-align: right;\n    }\n</style>\n<table border=\"1\" class=\"dataframe\">\n  <thead>\n    <tr style=\"text-align: right;\">\n      <th></th>\n      <th>0</th>\n    </tr>\n  </thead>\n  <tbody>\n    <tr>\n      <th>0xade4a71bb62bec25154cfc7e6ff49a513b491e81000000000000000000000497</th>\n      <td>1623.675371501289025353485139</td>\n    </tr>\n    <tr>\n      <th>0x9791d590788598535278552eecd4b211bfc790cb000000000000000000000498</th>\n      <td>1624.252035535099417229892070</td>\n    </tr>\n    <tr>\n      <th>0x4a2f6ae7f3e5d715689530873ec35593dc28951b000000000000000000000481</th>\n      <td>1628.204232474774112014425454</td>\n    </tr>\n    <tr>\n      <th>0x423a1323c871abc9d89eb06855bf5347048fc4a5000000000000000000000496</th>\n      <td>1.000287514715826949194563748</td>\n    </tr>\n    <tr>\n      <th>0x32df62dc3aed2cd6224193052ce665dc181658410002000000000000000003bd</th>\n      <td>1.084432736050647730628563298</td>\n    </tr>\n    <tr>\n      <th>0x0c8972437a38b389ec83d1e666b69b8a4fcf8bfd00000000000000000000049e</th>\n      <td>1622.940959239087596069245535</td>\n    </tr>\n  </tbody>\n</table>\n</div>"
     },
     "execution_count": 2,
     "metadata": {},
     "output_type": "execute_result"
    }
   ],
   "source": [
    "# Arbitrum TWAP prices:\n",
    "arb_bpt_twap_prices_df"
   ],
   "metadata": {
    "collapsed": false,
    "ExecuteTime": {
     "end_time": "2023-09-18T13:45:18.883374Z",
     "start_time": "2023-09-18T13:45:18.878992Z"
    }
   },
   "id": "888d08ca33a6128c"
  },
  {
   "cell_type": "code",
   "execution_count": 3,
   "outputs": [
    {
     "data": {
      "text/plain": "                                                                                 0\n0x93d199263632a4ef4bb438f1feb99e57b4b5f0bd00000...   1623.587005107450579662024221\n0x1e19cf2d73a72ef1332c882f20534b6519be027600020...   1663.934974113912044024917831\n0xe7e2c68d3b13d905bbb636709cf4dfd21076b9d200000...   1608.222259958607013581801808\n0xf7a826d47c8e02835d94fb0aa40f0cc9505cb13400020...   1622.785695571185882560378691\n0xf16aee6a71af1a9bc8f56975a4c2705ca7a782bc00020...   24.91858221742486618071391902\n0xb08885e6026bab4333a80024ec25a1a3e1ff2b8a00020...   1636.606552338577880903796201\n0x8353157092ed8be69a9df8f95af097bbf33cb2af00000...  0.9829552482987328765622931103\n0xdfe6e7e18f6cc65fa13c8d8966013d4fda74b6ba00000...   1631.944956608841749485467565\n0x5f1f4e50ba51d723f12385a8a9606afc3a0555f500020...   52.98363011851058701154733909\n0x1ee442b5326009bb18f2f472d3e0061513d1a0ff00020...   59.13604626968661896729490181\n0x9f9d900462492d4c21e9523ca95a7cd86142f29800020...   199.6286639105862631433098538\n0x3ff3a210e57cfe679d9ad1e9ba6453a716c56a2e00020...  0.7145532785290031261531836569\n0xf01b0684c98cd7ada480bfdf6e43876422fa1fc100020...   1622.772531596863748898449945\n0x36be1e97ea98ab43b4debf92742517266f5731a300020...   10.03111062850792004413916092",
      "text/html": "<div>\n<style scoped>\n    .dataframe tbody tr th:only-of-type {\n        vertical-align: middle;\n    }\n\n    .dataframe tbody tr th {\n        vertical-align: top;\n    }\n\n    .dataframe thead th {\n        text-align: right;\n    }\n</style>\n<table border=\"1\" class=\"dataframe\">\n  <thead>\n    <tr style=\"text-align: right;\">\n      <th></th>\n      <th>0</th>\n    </tr>\n  </thead>\n  <tbody>\n    <tr>\n      <th>0x93d199263632a4ef4bb438f1feb99e57b4b5f0bd0000000000000000000005c2</th>\n      <td>1623.587005107450579662024221</td>\n    </tr>\n    <tr>\n      <th>0x1e19cf2d73a72ef1332c882f20534b6519be0276000200000000000000000112</th>\n      <td>1663.934974113912044024917831</td>\n    </tr>\n    <tr>\n      <th>0xe7e2c68d3b13d905bbb636709cf4dfd21076b9d20000000000000000000005ca</th>\n      <td>1608.222259958607013581801808</td>\n    </tr>\n    <tr>\n      <th>0xf7a826d47c8e02835d94fb0aa40f0cc9505cb1340002000000000000000005e0</th>\n      <td>1622.785695571185882560378691</td>\n    </tr>\n    <tr>\n      <th>0xf16aee6a71af1a9bc8f56975a4c2705ca7a782bc0002000000000000000004bb</th>\n      <td>24.91858221742486618071391902</td>\n    </tr>\n    <tr>\n      <th>0xb08885e6026bab4333a80024ec25a1a3e1ff2b8a000200000000000000000445</th>\n      <td>1636.606552338577880903796201</td>\n    </tr>\n    <tr>\n      <th>0x8353157092ed8be69a9df8f95af097bbf33cb2af0000000000000000000005d9</th>\n      <td>0.9829552482987328765622931103</td>\n    </tr>\n    <tr>\n      <th>0xdfe6e7e18f6cc65fa13c8d8966013d4fda74b6ba000000000000000000000558</th>\n      <td>1631.944956608841749485467565</td>\n    </tr>\n    <tr>\n      <th>0x5f1f4e50ba51d723f12385a8a9606afc3a0555f5000200000000000000000465</th>\n      <td>52.98363011851058701154733909</td>\n    </tr>\n    <tr>\n      <th>0x1ee442b5326009bb18f2f472d3e0061513d1a0ff000200000000000000000464</th>\n      <td>59.13604626968661896729490181</td>\n    </tr>\n    <tr>\n      <th>0x9f9d900462492d4c21e9523ca95a7cd86142f298000200000000000000000462</th>\n      <td>199.6286639105862631433098538</td>\n    </tr>\n    <tr>\n      <th>0x3ff3a210e57cfe679d9ad1e9ba6453a716c56a2e0002000000000000000005d5</th>\n      <td>0.7145532785290031261531836569</td>\n    </tr>\n    <tr>\n      <th>0xf01b0684c98cd7ada480bfdf6e43876422fa1fc10002000000000000000005de</th>\n      <td>1622.772531596863748898449945</td>\n    </tr>\n    <tr>\n      <th>0x36be1e97ea98ab43b4debf92742517266f5731a3000200000000000000000466</th>\n      <td>10.03111062850792004413916092</td>\n    </tr>\n  </tbody>\n</table>\n</div>"
     },
     "execution_count": 3,
     "metadata": {},
     "output_type": "execute_result"
    }
   ],
   "source": [
    "# Mainnet TWAP prices:\n",
    "mainnet_bpt_twap_prices_df"
   ],
   "metadata": {
    "collapsed": false,
    "ExecuteTime": {
     "end_time": "2023-09-18T13:45:20.556018Z",
     "start_time": "2023-09-18T13:45:20.550712Z"
    }
   },
   "id": "12acabeeb64ba22a"
  },
  {
   "cell_type": "code",
   "execution_count": 4,
   "outputs": [
    {
     "data": {
      "text/plain": "                                                                                 0\n0xf0ad209e2e969eaaa8c882aac71f02d8a047d5c200020...  0.5398874716669745596858350491\n0xee278d943584dd8640eaf4cc6c7a5c80c0073e8500020...  0.5377540163466937217803884392\n0x89b753153678bc434c610b7e9182297cada8ff2900000...  0.5353766213457433438918130946\n0xcd78a20c597e367a4e478a2411ceb790604d7c8f00000...  0.5354327861913115678237352158\n0xdc31233e09f3bf5bfe5c10da2014677c23b6894c00000...   1622.743046126021349781091215",
      "text/html": "<div>\n<style scoped>\n    .dataframe tbody tr th:only-of-type {\n        vertical-align: middle;\n    }\n\n    .dataframe tbody tr th {\n        vertical-align: top;\n    }\n\n    .dataframe thead th {\n        text-align: right;\n    }\n</style>\n<table border=\"1\" class=\"dataframe\">\n  <thead>\n    <tr style=\"text-align: right;\">\n      <th></th>\n      <th>0</th>\n    </tr>\n  </thead>\n  <tbody>\n    <tr>\n      <th>0xf0ad209e2e969eaaa8c882aac71f02d8a047d5c2000200000000000000000b49</th>\n      <td>0.5398874716669745596858350491</td>\n    </tr>\n    <tr>\n      <th>0xee278d943584dd8640eaf4cc6c7a5c80c0073e85000200000000000000000bc7</th>\n      <td>0.5377540163466937217803884392</td>\n    </tr>\n    <tr>\n      <th>0x89b753153678bc434c610b7e9182297cada8ff29000000000000000000000c21</th>\n      <td>0.5353766213457433438918130946</td>\n    </tr>\n    <tr>\n      <th>0xcd78a20c597e367a4e478a2411ceb790604d7c8f000000000000000000000c22</th>\n      <td>0.5354327861913115678237352158</td>\n    </tr>\n    <tr>\n      <th>0xdc31233e09f3bf5bfe5c10da2014677c23b6894c000000000000000000000c23</th>\n      <td>1622.743046126021349781091215</td>\n    </tr>\n  </tbody>\n</table>\n</div>"
     },
     "execution_count": 4,
     "metadata": {},
     "output_type": "execute_result"
    }
   ],
   "source": [
    "# Polygon TWAP prices:\n",
    "polygon_bpt_twap_prices_df"
   ],
   "metadata": {
    "collapsed": false,
    "ExecuteTime": {
     "end_time": "2023-09-18T13:45:22.306166Z",
     "start_time": "2023-09-18T13:45:22.303672Z"
    }
   },
   "id": "9c61dc8f8d29733e"
  },
  {
   "cell_type": "code",
   "execution_count": 5,
   "outputs": [
    {
     "data": {
      "text/plain": "                                                                                0\n0xfb4c2e6e6e27b5b4a07a36360c89ede29bb3c9b600000...  1623.307948866703366372783373\n0xc771c1a5905420daec317b154eb13e4198ba97d000000...  1625.183674834590786350316724\n0x0c659734f1eef9c63b7ebdf78a164cdd745586db00000...  1.000332568373425896848516494",
      "text/html": "<div>\n<style scoped>\n    .dataframe tbody tr th:only-of-type {\n        vertical-align: middle;\n    }\n\n    .dataframe tbody tr th {\n        vertical-align: top;\n    }\n\n    .dataframe thead th {\n        text-align: right;\n    }\n</style>\n<table border=\"1\" class=\"dataframe\">\n  <thead>\n    <tr style=\"text-align: right;\">\n      <th></th>\n      <th>0</th>\n    </tr>\n  </thead>\n  <tbody>\n    <tr>\n      <th>0xfb4c2e6e6e27b5b4a07a36360c89ede29bb3c9b6000000000000000000000026</th>\n      <td>1623.307948866703366372783373</td>\n    </tr>\n    <tr>\n      <th>0xc771c1a5905420daec317b154eb13e4198ba97d0000000000000000000000023</th>\n      <td>1625.183674834590786350316724</td>\n    </tr>\n    <tr>\n      <th>0x0c659734f1eef9c63b7ebdf78a164cdd745586db000000000000000000000046</th>\n      <td>1.000332568373425896848516494</td>\n    </tr>\n  </tbody>\n</table>\n</div>"
     },
     "execution_count": 5,
     "metadata": {},
     "output_type": "execute_result"
    }
   ],
   "source": [
    "# Base TWAP prices:\n",
    "base_bpt_twap_prices_df"
   ],
   "metadata": {
    "collapsed": false,
    "ExecuteTime": {
     "end_time": "2023-09-18T13:45:23.548897Z",
     "start_time": "2023-09-18T13:45:23.542367Z"
    }
   },
   "id": "c057d5eb4d92947"
  },
  {
   "cell_type": "code",
   "execution_count": 6,
   "outputs": [
    {
     "data": {
      "text/plain": "                                                                                0\n0xbad20c15a773bf03ab973302f61fabcea5101f0a00000...  1621.768685473807877459906674",
      "text/html": "<div>\n<style scoped>\n    .dataframe tbody tr th:only-of-type {\n        vertical-align: middle;\n    }\n\n    .dataframe tbody tr th {\n        vertical-align: top;\n    }\n\n    .dataframe thead th {\n        text-align: right;\n    }\n</style>\n<table border=\"1\" class=\"dataframe\">\n  <thead>\n    <tr style=\"text-align: right;\">\n      <th></th>\n      <th>0</th>\n    </tr>\n  </thead>\n  <tbody>\n    <tr>\n      <th>0xbad20c15a773bf03ab973302f61fabcea5101f0a000000000000000000000034</th>\n      <td>1621.768685473807877459906674</td>\n    </tr>\n  </tbody>\n</table>\n</div>"
     },
     "execution_count": 6,
     "metadata": {},
     "output_type": "execute_result"
    }
   ],
   "source": [
    "# Gnosis TWAP prices:\n",
    "gnosis_bpt_twap_prices_df"
   ],
   "metadata": {
    "collapsed": false,
    "ExecuteTime": {
     "end_time": "2023-09-18T13:45:28.844472Z",
     "start_time": "2023-09-18T13:45:28.793469Z"
    }
   },
   "id": "446e657762129ed4"
  },
  {
   "cell_type": "code",
   "execution_count": 7,
   "outputs": [
    {
     "data": {
      "text/plain": "                                                                                 0\n0xfd2620c9cfcec7d152467633b3b0ca338d3d78cc00000...   9.687140483338847650524265929\n0xc13546b97b9b1b15372368dc06529d7191081f5b00000...   9.728419493138605676084386486\n0x9fa6ab3d78984a69e712730a2227f20bcc8b5ad900000...   9.691443562178658811206475307\n0xb26f0e66317846bd5fe0cbaa1d269f0efeb05c9600000...   1.000015981715009858727387721\n0x55bec22f8f6c69137ceaf284d9b441db1b9bfedc00020...  0.9664020968316878016512963205",
      "text/html": "<div>\n<style scoped>\n    .dataframe tbody tr th:only-of-type {\n        vertical-align: middle;\n    }\n\n    .dataframe tbody tr th {\n        vertical-align: top;\n    }\n\n    .dataframe thead th {\n        text-align: right;\n    }\n</style>\n<table border=\"1\" class=\"dataframe\">\n  <thead>\n    <tr style=\"text-align: right;\">\n      <th></th>\n      <th>0</th>\n    </tr>\n  </thead>\n  <tbody>\n    <tr>\n      <th>0xfd2620c9cfcec7d152467633b3b0ca338d3d78cc00000000000000000000001c</th>\n      <td>9.687140483338847650524265929</td>\n    </tr>\n    <tr>\n      <th>0xc13546b97b9b1b15372368dc06529d7191081f5b00000000000000000000001d</th>\n      <td>9.728419493138605676084386486</td>\n    </tr>\n    <tr>\n      <th>0x9fa6ab3d78984a69e712730a2227f20bcc8b5ad900000000000000000000001f</th>\n      <td>9.691443562178658811206475307</td>\n    </tr>\n    <tr>\n      <th>0xb26f0e66317846bd5fe0cbaa1d269f0efeb05c9600000000000000000000001e</th>\n      <td>1.000015981715009858727387721</td>\n    </tr>\n    <tr>\n      <th>0x55bec22f8f6c69137ceaf284d9b441db1b9bfedc000200000000000000000011</th>\n      <td>0.9664020968316878016512963205</td>\n    </tr>\n  </tbody>\n</table>\n</div>"
     },
     "execution_count": 7,
     "metadata": {},
     "output_type": "execute_result"
    }
   ],
   "source": [
    "# Avalanche TWAP prices:\n",
    "avax_bpt_twap_prices_df"
   ],
   "metadata": {
    "collapsed": false,
    "ExecuteTime": {
     "end_time": "2023-09-18T13:45:30.326542Z",
     "start_time": "2023-09-18T13:45:30.321729Z"
    }
   },
   "id": "a0c9ad2dda33dbdd"
  },
  {
   "cell_type": "code",
   "execution_count": 8,
   "outputs": [],
   "source": [
    "# Query:\n",
    "POOLS_SNAPSHOTS_QUERY = \"\"\"\n",
    "{{\n",
    "  poolSnapshots(\n",
    "    first: {first}\n",
    "    skip: {skip}\n",
    "    orderBy: timestamp\n",
    "    orderDirection: desc\n",
    "    block: {{ number: {block} }}\n",
    "    where: {{ protocolFee_not: null }}\n",
    "  ) {{\n",
    "    pool {{\n",
    "      address\n",
    "      id\n",
    "      symbol\n",
    "      totalProtocolFeePaidInBPT\n",
    "      tokens {{\n",
    "        symbol\n",
    "        address\n",
    "        paidProtocolFees\n",
    "      }}\n",
    "    }}\n",
    "    timestamp\n",
    "    protocolFee\n",
    "    swapFees\n",
    "    swapVolume\n",
    "    liquidity\n",
    "  }}\n",
    "}}\n",
    "\"\"\""
   ],
   "metadata": {
    "collapsed": false,
    "ExecuteTime": {
     "end_time": "2023-09-18T13:45:35.446765Z",
     "start_time": "2023-09-18T13:45:35.443275Z"
    }
   },
   "id": "abc722b4fa453b5a"
  },
  {
   "cell_type": "markdown",
   "source": [
    "## Fetching data from the Balancer subgraphs"
   ],
   "metadata": {
    "collapsed": false
   },
   "id": "cde5ffca807e3849"
  },
  {
   "cell_type": "code",
   "execution_count": 9,
   "outputs": [],
   "source": [
    "from notebooks.constants import BASE_BALANCER_GRAPH_URL\n",
    "from notebooks.constants import POLYGON_BALANCER_GRAPH_URL\n",
    "from notebooks.constants import ARB_BALANCER_GRAPH_URL\n",
    "from notebooks.constants import MAINNET_BALANCER_GRAPH_URL\n",
    "from notebooks.constants import GNOSIS_BALANCER_GRAPH_URL\n",
    "from notebooks.constants import AVALANCHE_BALANCER_GRAPH_URL\n",
    "from typing import Dict\n",
    "from typing import List\n",
    "from typing import Optional\n",
    "\n",
    "from gql import Client\n",
    "from gql import gql\n",
    "from gql.transport.requests import RequestsHTTPTransport\n",
    "\n",
    "\n",
    "# Fetch all the data from the balancer subgraph\n",
    "def make_gql_client(url: str) -> Optional[Client]:\n",
    "    transport = RequestsHTTPTransport(url=url, retries=3)\n",
    "    return Client(\n",
    "        transport=transport, fetch_schema_from_transport=True, execute_timeout=60\n",
    "    )\n",
    "\n",
    "\n",
    "def get_balancer_pool_snapshots(block: int, graph_url: str) -> Optional[List[Dict]]:\n",
    "    client = make_gql_client(graph_url)\n",
    "    all_pools = []\n",
    "    limit = 1000\n",
    "    offset = 0\n",
    "    while True:\n",
    "        result = client.execute(\n",
    "            gql(POOLS_SNAPSHOTS_QUERY.format(first=limit, skip=offset, block=block)))\n",
    "        all_pools.extend(result['poolSnapshots'])\n",
    "        offset += limit\n",
    "        if offset >= 5000:\n",
    "            break\n",
    "        if len(result['poolSnapshots']) < limit - 1:\n",
    "            break\n",
    "    return all_pools\n",
    "\n",
    "\n",
    "arbi_pool_snapshots_now = get_balancer_pool_snapshots(arb_block, ARB_BALANCER_GRAPH_URL)\n",
    "arbi_pool_snapshots_2_weeks_ago = get_balancer_pool_snapshots(int(arb_block_2_weeks_ago), ARB_BALANCER_GRAPH_URL)\n",
    "\n",
    "mainnet_pool_snapshots_now = get_balancer_pool_snapshots(mainnet_block, MAINNET_BALANCER_GRAPH_URL)\n",
    "mainnet_pool_snapshots_2_weeks_ago = get_balancer_pool_snapshots(int(mainnet_block_2_weeks_ago),\n",
    "                                                                 MAINNET_BALANCER_GRAPH_URL)\n",
    "\n",
    "polygon_pool_snapshots_now = get_balancer_pool_snapshots(poly_block, POLYGON_BALANCER_GRAPH_URL)\n",
    "polygon_pool_snapshots_2_weeks_ago = get_balancer_pool_snapshots(int(poly_block_2_weeks_ago),\n",
    "                                                                 POLYGON_BALANCER_GRAPH_URL)\n",
    "\n",
    "base_pool_snapshots_now = get_balancer_pool_snapshots(base_block, BASE_BALANCER_GRAPH_URL)\n",
    "base_pool_snapshots_2_weeks_ago = get_balancer_pool_snapshots(int(base_block_2_weeks_ago),\n",
    "                                                              BASE_BALANCER_GRAPH_URL)\n",
    "\n",
    "gnosis_pool_snapshots_now = get_balancer_pool_snapshots(gnosis_block, GNOSIS_BALANCER_GRAPH_URL)\n",
    "gnosis_pool_snapshots_2_weeks_ago = get_balancer_pool_snapshots(int(gnosis_block_2_weeks_ago),\n",
    "                                                                GNOSIS_BALANCER_GRAPH_URL)\n",
    "\n",
    "avax_pool_snapshots_now = get_balancer_pool_snapshots(avax_block, AVALANCHE_BALANCER_GRAPH_URL)\n",
    "avax_pool_snapshots_2_weeks_ago = get_balancer_pool_snapshots(int(avax_block_2_weeks_ago),\n",
    "                                                              AVALANCHE_BALANCER_GRAPH_URL)"
   ],
   "metadata": {
    "collapsed": false,
    "ExecuteTime": {
     "end_time": "2023-09-18T13:47:16.153284Z",
     "start_time": "2023-09-18T13:45:36.810447Z"
    }
   },
   "id": "e1e0b8b90f62234c"
  },
  {
   "cell_type": "markdown",
   "source": [
    "## Extract fee data for CORE pools:\n"
   ],
   "metadata": {
    "collapsed": false
   },
   "id": "d5333a7de445454d"
  },
  {
   "cell_type": "code",
   "execution_count": 10,
   "outputs": [],
   "source": [
    "from collections import defaultdict\n",
    "from decimal import Decimal\n",
    "from notebooks import fetch_token_price_balgql\n",
    "\n",
    "\n",
    "def collect_fee_info(pools: list[str], chain: str, pools_now: list[dict], pools_shifted: list[dict],\n",
    "                     start_date: datetime.datetime) -> tuple[dict, dict]:\n",
    "    # Iterate through snapshots now and 2 weeks ago and extract fee data, by subtracting today's fee data from 2 weeks ago\n",
    "    # and then summing across all pools\n",
    "    fees = {}\n",
    "    token_fees = defaultdict(list)\n",
    "    for pool in pools:\n",
    "        current_fees_snapshots = [x for x in pools_now if x['pool']['id'] == pool]\n",
    "        current_fees_snapshots.sort(key=lambda x: x['timestamp'], reverse=True)\n",
    "        fees_2_weeks_ago = [x for x in pools_shifted if x['pool']['id'] == pool]\n",
    "        fees_2_weeks_ago.sort(key=lambda x: x['timestamp'], reverse=True)\n",
    "        # Take first element of list, which is the most recent snapshot\n",
    "        if not current_fees_snapshots or not fees_2_weeks_ago:\n",
    "            continue\n",
    "        pool_snapshot_now = current_fees_snapshots[0]\n",
    "        pool_snapshot_2_weeks_ago = fees_2_weeks_ago[0]\n",
    "        # Calculate fees\n",
    "        pool_fee = float(pool_snapshot_now['protocolFee']) - float(pool_snapshot_2_weeks_ago['protocolFee'])\n",
    "        pool_swap_fee = float(pool_snapshot_now['swapFees']) - float(pool_snapshot_2_weeks_ago['swapFees'])\n",
    "        # Now we need to collect token fee info. Let's start with BPT tokens, which is Balancer pool token. Notice,\n",
    "        # That totalProtocolFeePaidInBPT can be null, so we need to check for that\n",
    "        bpt_token_fee = 0\n",
    "        bpt_price_usd = arb_bpt_twap_prices[pool] if chain == 'arbitrum' else mainnet_bpt_twap_prices[\n",
    "            pool] if chain == 'mainnet' else polygon_bpt_twap_prices[pool] if chain == 'polygon' else \\\n",
    "            base_bpt_twap_prices[pool] if chain == 'base' else gnosis_bpt_twap_prices[pool] if chain == 'gnosis' else \\\n",
    "            avax_bpt_twap_prices[pool]\n",
    "        if bpt_price_usd is None:\n",
    "            bpt_price_usd = 0\n",
    "        if pool_snapshot_now['pool']['totalProtocolFeePaidInBPT'] is not None and pool_snapshot_2_weeks_ago['pool'][\n",
    "            'totalProtocolFeePaidInBPT'] is not None:\n",
    "            bpt_token_fee = float(pool_snapshot_now['pool']['totalProtocolFeePaidInBPT']) - float(\n",
    "                pool_snapshot_2_weeks_ago['pool']['totalProtocolFeePaidInBPT'])\n",
    "            token_fees[pool_snapshot_now['pool']['symbol']].append({\n",
    "                'token': pool_snapshot_now['pool']['symbol'],\n",
    "                'token_fee': bpt_token_fee,\n",
    "                'token_price': bpt_price_usd,\n",
    "                'token_fee_in_usd': Decimal(bpt_token_fee) * bpt_price_usd,\n",
    "                'token_addr': pool_snapshot_now['pool']['address'],\n",
    "                'time_from': arb_datetime_2_weeks_ago,\n",
    "                'time_to': arb_datetime_now,\n",
    "                'chain': chain,\n",
    "            })\n",
    "        # Now collect fee info about fees paid in pool tokens. Pool tokens fee info is in pool.tokens dictionary. This will be separate dictionary\n",
    "        else:\n",
    "            bpt_price_usd = 0\n",
    "            for token_data in pool_snapshot_now['pool']['tokens']:\n",
    "                token_data_2_weeks_ago = \\\n",
    "                    [t for t in pool_snapshot_2_weeks_ago['pool']['tokens'] if t['address'] == token_data['address']][0]\n",
    "                token_fee = float(token_data.get('paidProtocolFees', None)) - float(\n",
    "                    token_data_2_weeks_ago.get('paidProtocolFees', None))\n",
    "                # Get twap token price from CoinGecko\n",
    "                token_price = fetch_token_price_balgql(token_data['address'], chain, start_date) or 0\n",
    "                token_fees[pool_snapshot_now['pool']['symbol']].append({\n",
    "                    'token': token_data['symbol'],\n",
    "                    'token_fee': token_fee,\n",
    "                    'token_price': token_price,\n",
    "                    'token_fee_in_usd': Decimal(token_fee) * token_price if token_price is not None else 0,\n",
    "                    'token_addr': token_data['address'],\n",
    "                    'time_from': arb_datetime_2_weeks_ago,\n",
    "                    'time_to': arb_datetime_now,\n",
    "                    'chain': chain,\n",
    "                })\n",
    "        # Calculate non-BPT fees in USD\n",
    "        fees[pool_snapshot_now['pool']['symbol']] = {\n",
    "            'pool_fee': round(pool_fee, 2),\n",
    "            'swap_fee': round(pool_swap_fee, 2),\n",
    "            'bpt_token_fee': round(bpt_token_fee, 2),\n",
    "            # Get fee in USD by multiplying bpt_token_fee by price of BPT token taken from twap_bpt_price\n",
    "            'bpt_token_fee_in_usd': round(Decimal(bpt_token_fee) * bpt_price_usd, 2),\n",
    "            'token_fees_in_usd': round(sum([x['token_fee_in_usd'] for x in\n",
    "                                            token_fees[\n",
    "                                                pool_snapshot_now['pool']['symbol']]]) if bpt_price_usd == 0 else 0, 2),\n",
    "            'time_from': arb_datetime_2_weeks_ago,\n",
    "            'time_to': arb_datetime_now,\n",
    "            'chain': chain,\n",
    "            'token_fees': token_fees[pool_snapshot_now['pool']['symbol']],\n",
    "        }\n",
    "    return fees\n",
    "\n",
    "\n",
    "arb_fees = collect_fee_info(ARB_CORE_POOLS, 'arbitrum', arbi_pool_snapshots_now,\n",
    "                            arbi_pool_snapshots_2_weeks_ago, arb_datetime_now)\n",
    "mainnet_fees = collect_fee_info(MAINNET_CORE_POOLS, 'mainnet', mainnet_pool_snapshots_now,\n",
    "                                mainnet_pool_snapshots_2_weeks_ago, mainnet_datetime_now)\n",
    "polygon_fees = collect_fee_info(POLYGON_CORE_POOLS, 'polygon', polygon_pool_snapshots_now,\n",
    "                                polygon_pool_snapshots_2_weeks_ago, poly_datetime_now)\n",
    "base_fees = collect_fee_info(BASE_CORE_POOLS, 'base', base_pool_snapshots_now, base_pool_snapshots_2_weeks_ago,\n",
    "                             base_datetime_now)\n",
    "gnosis_fees = collect_fee_info(GNOSIS_CORE_POOLS, 'gnosis', gnosis_pool_snapshots_now,\n",
    "                               gnosis_pool_snapshots_2_weeks_ago, gnosis_datetime_now)\n",
    "avax_fees = collect_fee_info(AVAX_CORE_POOLS, 'avalanche', avax_pool_snapshots_now,\n",
    "                             avax_pool_snapshots_2_weeks_ago, avax_datetime_now)\n",
    "# Convert to dataframe, sort by chain and pool fee\n",
    "joint_fees = {**arb_fees, **mainnet_fees, **polygon_fees, **base_fees, **gnosis_fees, **avax_fees}\n",
    "joint_fees_df = pd.DataFrame.from_dict(joint_fees, orient='index')"
   ],
   "metadata": {
    "collapsed": false,
    "ExecuteTime": {
     "end_time": "2023-09-18T13:47:39.766909Z",
     "start_time": "2023-09-18T13:47:19.800621Z"
    }
   },
   "id": "e79b2f6a4ead2cad"
  },
  {
   "cell_type": "code",
   "execution_count": 11,
   "outputs": [
    {
     "data": {
      "text/plain": "                        pool_fee  swap_fee  bpt_token_fee  \\\nmaticX-WMATIC-BPT        1789.92    327.36        3377.40   \nECLP-WMATIC-stMATIC      1495.34    248.25        2781.91   \nECLP-WMATIC-MATICX        403.27     71.43         755.16   \nstMATIC-WMATIC-BPT          2.58      0.92           4.62   \nwstETH-WETH-BPT             0.00      0.00           0.00   \nB-rETH-STABLE           15892.61   2207.43           0.00   \n50rETH-50BADGER          9939.15   3065.68         166.20   \nswETH-WETH-BPT           5505.42    640.81           3.43   \nankrETH/wstETH           3867.44    126.65           2.32   \n20WETH-80ALCX            2393.07   5322.24          83.27   \n50rETH-50RPL             1272.25   1209.24           6.32   \nSTG/USDC                 1262.74   8202.07        1733.53   \nB-staFiETH-WETH-Stable   1216.06    339.32           0.00   \nGHO/USDT/USDC            1142.27   1871.72           0.00   \n50wstETH-50LDO            631.08    255.37          11.58   \n50wstETH-50ACX            382.23   1356.42          38.01   \nECLP-wstETH-cbETH           0.00      0.00           0.00   \nECLP-wstETH-wETH            0.00      0.00           0.00   \nbb-WETH-wstETH           3202.34     14.12           1.97   \ncbETH/WETH               1839.98   1111.50           1.13   \nrETH-WETH-BPT             401.34    225.39           0.00   \nsAVAX-WAVAX-BPT          3167.52    760.74         249.13   \nyyAVAX-WAVAX-BPT         1039.56      3.46          81.63   \nggAVAX-WAVAX-BPT          547.02      3.58          43.02   \nUSDC-USDT-BPT             123.01    195.87         122.97   \nBPT                         0.00     97.45           0.00   \nRDNT-WETH               11078.08  20101.91       10444.72   \nwstETH/rETH/cbETH        1041.18    358.36           1.26   \n4POOL-BPT                 475.95    801.55         475.65   \nwstETH/rETH/sfrxETH         0.01      0.00           0.00   \n\n                       bpt_token_fee_in_usd token_fees_in_usd  \\\nmaticX-WMATIC-BPT                   1808.37                 0   \nECLP-WMATIC-stMATIC                 1501.92                 0   \nECLP-WMATIC-MATICX                   406.09                 0   \nstMATIC-WMATIC-BPT                     2.47                 0   \nwstETH-WETH-BPT                        0.00              0.00   \nB-rETH-STABLE                          0.00          15796.29   \n50rETH-50BADGER                     9828.69                 0   \nswETH-WETH-BPT                      5513.21                 0   \nankrETH/wstETH                      3789.10                 0   \n20WETH-80ALCX                       2075.09                 0   \n50rETH-50RPL                        1260.77                 0   \nSTG/USDC                            1238.70                 0   \nB-staFiETH-WETH-Stable                 0.00           1212.28   \nGHO/USDT/USDC                          0.00              0.00   \n50wstETH-50LDO                       613.33                 0   \n50wstETH-50ACX                       381.27                 0   \nECLP-wstETH-cbETH                      0.00              0.00   \nECLP-wstETH-wETH                       0.00              0.00   \nbb-WETH-wstETH                      3187.63                 0   \ncbETH/WETH                          1827.02                 0   \nrETH-WETH-BPT                          0.00              0.00   \nsAVAX-WAVAX-BPT                     2413.38                 0   \nyyAVAX-WAVAX-BPT                     791.12                 0   \nggAVAX-WAVAX-BPT                     418.56                 0   \nUSDC-USDT-BPT                        122.97                 0   \nBPT                                    0.00              0.00   \nRDNT-WETH                          11326.60                 0   \nwstETH/rETH/cbETH                   2049.37                 0   \n4POOL-BPT                            475.79                 0   \nwstETH/rETH/sfrxETH                    0.02                 0   \n\n                                 time_from             time_to      chain  \nmaticX-WMATIC-BPT      2023-09-01 21:00:00 2023-09-15 21:00:00    polygon  \nECLP-WMATIC-stMATIC    2023-09-01 21:00:00 2023-09-15 21:00:00    polygon  \nECLP-WMATIC-MATICX     2023-09-01 21:00:00 2023-09-15 21:00:00    polygon  \nstMATIC-WMATIC-BPT     2023-09-01 21:00:00 2023-09-15 21:00:00    polygon  \nwstETH-WETH-BPT        2023-09-01 21:00:00 2023-09-15 21:00:00    polygon  \nB-rETH-STABLE          2023-09-01 21:00:00 2023-09-15 21:00:00    mainnet  \n50rETH-50BADGER        2023-09-01 21:00:00 2023-09-15 21:00:00    mainnet  \nswETH-WETH-BPT         2023-09-01 21:00:00 2023-09-15 21:00:00    mainnet  \nankrETH/wstETH         2023-09-01 21:00:00 2023-09-15 21:00:00    mainnet  \n20WETH-80ALCX          2023-09-01 21:00:00 2023-09-15 21:00:00    mainnet  \n50rETH-50RPL           2023-09-01 21:00:00 2023-09-15 21:00:00    mainnet  \nSTG/USDC               2023-09-01 21:00:00 2023-09-15 21:00:00    mainnet  \nB-staFiETH-WETH-Stable 2023-09-01 21:00:00 2023-09-15 21:00:00    mainnet  \nGHO/USDT/USDC          2023-09-01 21:00:00 2023-09-15 21:00:00    mainnet  \n50wstETH-50LDO         2023-09-01 21:00:00 2023-09-15 21:00:00    mainnet  \n50wstETH-50ACX         2023-09-01 21:00:00 2023-09-15 21:00:00    mainnet  \nECLP-wstETH-cbETH      2023-09-01 21:00:00 2023-09-15 21:00:00    mainnet  \nECLP-wstETH-wETH       2023-09-01 21:00:00 2023-09-15 21:00:00    mainnet  \nbb-WETH-wstETH         2023-09-01 21:00:00 2023-09-15 21:00:00     gnosis  \ncbETH/WETH             2023-09-01 21:00:00 2023-09-15 21:00:00       base  \nrETH-WETH-BPT          2023-09-01 21:00:00 2023-09-15 21:00:00       base  \nsAVAX-WAVAX-BPT        2023-09-01 21:00:00 2023-09-15 21:00:00  avalanche  \nyyAVAX-WAVAX-BPT       2023-09-01 21:00:00 2023-09-15 21:00:00  avalanche  \nggAVAX-WAVAX-BPT       2023-09-01 21:00:00 2023-09-15 21:00:00  avalanche  \nUSDC-USDT-BPT          2023-09-01 21:00:00 2023-09-15 21:00:00  avalanche  \nBPT                    2023-09-01 21:00:00 2023-09-15 21:00:00  avalanche  \nRDNT-WETH              2023-09-01 21:00:00 2023-09-15 21:00:00   arbitrum  \nwstETH/rETH/cbETH      2023-09-01 21:00:00 2023-09-15 21:00:00   arbitrum  \n4POOL-BPT              2023-09-01 21:00:00 2023-09-15 21:00:00   arbitrum  \nwstETH/rETH/sfrxETH    2023-09-01 21:00:00 2023-09-15 21:00:00   arbitrum  ",
      "text/html": "<div>\n<style scoped>\n    .dataframe tbody tr th:only-of-type {\n        vertical-align: middle;\n    }\n\n    .dataframe tbody tr th {\n        vertical-align: top;\n    }\n\n    .dataframe thead th {\n        text-align: right;\n    }\n</style>\n<table border=\"1\" class=\"dataframe\">\n  <thead>\n    <tr style=\"text-align: right;\">\n      <th></th>\n      <th>pool_fee</th>\n      <th>swap_fee</th>\n      <th>bpt_token_fee</th>\n      <th>bpt_token_fee_in_usd</th>\n      <th>token_fees_in_usd</th>\n      <th>time_from</th>\n      <th>time_to</th>\n      <th>chain</th>\n    </tr>\n  </thead>\n  <tbody>\n    <tr>\n      <th>maticX-WMATIC-BPT</th>\n      <td>1789.92</td>\n      <td>327.36</td>\n      <td>3377.40</td>\n      <td>1808.37</td>\n      <td>0</td>\n      <td>2023-09-01 21:00:00</td>\n      <td>2023-09-15 21:00:00</td>\n      <td>polygon</td>\n    </tr>\n    <tr>\n      <th>ECLP-WMATIC-stMATIC</th>\n      <td>1495.34</td>\n      <td>248.25</td>\n      <td>2781.91</td>\n      <td>1501.92</td>\n      <td>0</td>\n      <td>2023-09-01 21:00:00</td>\n      <td>2023-09-15 21:00:00</td>\n      <td>polygon</td>\n    </tr>\n    <tr>\n      <th>ECLP-WMATIC-MATICX</th>\n      <td>403.27</td>\n      <td>71.43</td>\n      <td>755.16</td>\n      <td>406.09</td>\n      <td>0</td>\n      <td>2023-09-01 21:00:00</td>\n      <td>2023-09-15 21:00:00</td>\n      <td>polygon</td>\n    </tr>\n    <tr>\n      <th>stMATIC-WMATIC-BPT</th>\n      <td>2.58</td>\n      <td>0.92</td>\n      <td>4.62</td>\n      <td>2.47</td>\n      <td>0</td>\n      <td>2023-09-01 21:00:00</td>\n      <td>2023-09-15 21:00:00</td>\n      <td>polygon</td>\n    </tr>\n    <tr>\n      <th>wstETH-WETH-BPT</th>\n      <td>0.00</td>\n      <td>0.00</td>\n      <td>0.00</td>\n      <td>0.00</td>\n      <td>0.00</td>\n      <td>2023-09-01 21:00:00</td>\n      <td>2023-09-15 21:00:00</td>\n      <td>polygon</td>\n    </tr>\n    <tr>\n      <th>B-rETH-STABLE</th>\n      <td>15892.61</td>\n      <td>2207.43</td>\n      <td>0.00</td>\n      <td>0.00</td>\n      <td>15796.29</td>\n      <td>2023-09-01 21:00:00</td>\n      <td>2023-09-15 21:00:00</td>\n      <td>mainnet</td>\n    </tr>\n    <tr>\n      <th>50rETH-50BADGER</th>\n      <td>9939.15</td>\n      <td>3065.68</td>\n      <td>166.20</td>\n      <td>9828.69</td>\n      <td>0</td>\n      <td>2023-09-01 21:00:00</td>\n      <td>2023-09-15 21:00:00</td>\n      <td>mainnet</td>\n    </tr>\n    <tr>\n      <th>swETH-WETH-BPT</th>\n      <td>5505.42</td>\n      <td>640.81</td>\n      <td>3.43</td>\n      <td>5513.21</td>\n      <td>0</td>\n      <td>2023-09-01 21:00:00</td>\n      <td>2023-09-15 21:00:00</td>\n      <td>mainnet</td>\n    </tr>\n    <tr>\n      <th>ankrETH/wstETH</th>\n      <td>3867.44</td>\n      <td>126.65</td>\n      <td>2.32</td>\n      <td>3789.10</td>\n      <td>0</td>\n      <td>2023-09-01 21:00:00</td>\n      <td>2023-09-15 21:00:00</td>\n      <td>mainnet</td>\n    </tr>\n    <tr>\n      <th>20WETH-80ALCX</th>\n      <td>2393.07</td>\n      <td>5322.24</td>\n      <td>83.27</td>\n      <td>2075.09</td>\n      <td>0</td>\n      <td>2023-09-01 21:00:00</td>\n      <td>2023-09-15 21:00:00</td>\n      <td>mainnet</td>\n    </tr>\n    <tr>\n      <th>50rETH-50RPL</th>\n      <td>1272.25</td>\n      <td>1209.24</td>\n      <td>6.32</td>\n      <td>1260.77</td>\n      <td>0</td>\n      <td>2023-09-01 21:00:00</td>\n      <td>2023-09-15 21:00:00</td>\n      <td>mainnet</td>\n    </tr>\n    <tr>\n      <th>STG/USDC</th>\n      <td>1262.74</td>\n      <td>8202.07</td>\n      <td>1733.53</td>\n      <td>1238.70</td>\n      <td>0</td>\n      <td>2023-09-01 21:00:00</td>\n      <td>2023-09-15 21:00:00</td>\n      <td>mainnet</td>\n    </tr>\n    <tr>\n      <th>B-staFiETH-WETH-Stable</th>\n      <td>1216.06</td>\n      <td>339.32</td>\n      <td>0.00</td>\n      <td>0.00</td>\n      <td>1212.28</td>\n      <td>2023-09-01 21:00:00</td>\n      <td>2023-09-15 21:00:00</td>\n      <td>mainnet</td>\n    </tr>\n    <tr>\n      <th>GHO/USDT/USDC</th>\n      <td>1142.27</td>\n      <td>1871.72</td>\n      <td>0.00</td>\n      <td>0.00</td>\n      <td>0.00</td>\n      <td>2023-09-01 21:00:00</td>\n      <td>2023-09-15 21:00:00</td>\n      <td>mainnet</td>\n    </tr>\n    <tr>\n      <th>50wstETH-50LDO</th>\n      <td>631.08</td>\n      <td>255.37</td>\n      <td>11.58</td>\n      <td>613.33</td>\n      <td>0</td>\n      <td>2023-09-01 21:00:00</td>\n      <td>2023-09-15 21:00:00</td>\n      <td>mainnet</td>\n    </tr>\n    <tr>\n      <th>50wstETH-50ACX</th>\n      <td>382.23</td>\n      <td>1356.42</td>\n      <td>38.01</td>\n      <td>381.27</td>\n      <td>0</td>\n      <td>2023-09-01 21:00:00</td>\n      <td>2023-09-15 21:00:00</td>\n      <td>mainnet</td>\n    </tr>\n    <tr>\n      <th>ECLP-wstETH-cbETH</th>\n      <td>0.00</td>\n      <td>0.00</td>\n      <td>0.00</td>\n      <td>0.00</td>\n      <td>0.00</td>\n      <td>2023-09-01 21:00:00</td>\n      <td>2023-09-15 21:00:00</td>\n      <td>mainnet</td>\n    </tr>\n    <tr>\n      <th>ECLP-wstETH-wETH</th>\n      <td>0.00</td>\n      <td>0.00</td>\n      <td>0.00</td>\n      <td>0.00</td>\n      <td>0.00</td>\n      <td>2023-09-01 21:00:00</td>\n      <td>2023-09-15 21:00:00</td>\n      <td>mainnet</td>\n    </tr>\n    <tr>\n      <th>bb-WETH-wstETH</th>\n      <td>3202.34</td>\n      <td>14.12</td>\n      <td>1.97</td>\n      <td>3187.63</td>\n      <td>0</td>\n      <td>2023-09-01 21:00:00</td>\n      <td>2023-09-15 21:00:00</td>\n      <td>gnosis</td>\n    </tr>\n    <tr>\n      <th>cbETH/WETH</th>\n      <td>1839.98</td>\n      <td>1111.50</td>\n      <td>1.13</td>\n      <td>1827.02</td>\n      <td>0</td>\n      <td>2023-09-01 21:00:00</td>\n      <td>2023-09-15 21:00:00</td>\n      <td>base</td>\n    </tr>\n    <tr>\n      <th>rETH-WETH-BPT</th>\n      <td>401.34</td>\n      <td>225.39</td>\n      <td>0.00</td>\n      <td>0.00</td>\n      <td>0.00</td>\n      <td>2023-09-01 21:00:00</td>\n      <td>2023-09-15 21:00:00</td>\n      <td>base</td>\n    </tr>\n    <tr>\n      <th>sAVAX-WAVAX-BPT</th>\n      <td>3167.52</td>\n      <td>760.74</td>\n      <td>249.13</td>\n      <td>2413.38</td>\n      <td>0</td>\n      <td>2023-09-01 21:00:00</td>\n      <td>2023-09-15 21:00:00</td>\n      <td>avalanche</td>\n    </tr>\n    <tr>\n      <th>yyAVAX-WAVAX-BPT</th>\n      <td>1039.56</td>\n      <td>3.46</td>\n      <td>81.63</td>\n      <td>791.12</td>\n      <td>0</td>\n      <td>2023-09-01 21:00:00</td>\n      <td>2023-09-15 21:00:00</td>\n      <td>avalanche</td>\n    </tr>\n    <tr>\n      <th>ggAVAX-WAVAX-BPT</th>\n      <td>547.02</td>\n      <td>3.58</td>\n      <td>43.02</td>\n      <td>418.56</td>\n      <td>0</td>\n      <td>2023-09-01 21:00:00</td>\n      <td>2023-09-15 21:00:00</td>\n      <td>avalanche</td>\n    </tr>\n    <tr>\n      <th>USDC-USDT-BPT</th>\n      <td>123.01</td>\n      <td>195.87</td>\n      <td>122.97</td>\n      <td>122.97</td>\n      <td>0</td>\n      <td>2023-09-01 21:00:00</td>\n      <td>2023-09-15 21:00:00</td>\n      <td>avalanche</td>\n    </tr>\n    <tr>\n      <th>BPT</th>\n      <td>0.00</td>\n      <td>97.45</td>\n      <td>0.00</td>\n      <td>0.00</td>\n      <td>0.00</td>\n      <td>2023-09-01 21:00:00</td>\n      <td>2023-09-15 21:00:00</td>\n      <td>avalanche</td>\n    </tr>\n    <tr>\n      <th>RDNT-WETH</th>\n      <td>11078.08</td>\n      <td>20101.91</td>\n      <td>10444.72</td>\n      <td>11326.60</td>\n      <td>0</td>\n      <td>2023-09-01 21:00:00</td>\n      <td>2023-09-15 21:00:00</td>\n      <td>arbitrum</td>\n    </tr>\n    <tr>\n      <th>wstETH/rETH/cbETH</th>\n      <td>1041.18</td>\n      <td>358.36</td>\n      <td>1.26</td>\n      <td>2049.37</td>\n      <td>0</td>\n      <td>2023-09-01 21:00:00</td>\n      <td>2023-09-15 21:00:00</td>\n      <td>arbitrum</td>\n    </tr>\n    <tr>\n      <th>4POOL-BPT</th>\n      <td>475.95</td>\n      <td>801.55</td>\n      <td>475.65</td>\n      <td>475.79</td>\n      <td>0</td>\n      <td>2023-09-01 21:00:00</td>\n      <td>2023-09-15 21:00:00</td>\n      <td>arbitrum</td>\n    </tr>\n    <tr>\n      <th>wstETH/rETH/sfrxETH</th>\n      <td>0.01</td>\n      <td>0.00</td>\n      <td>0.00</td>\n      <td>0.02</td>\n      <td>0</td>\n      <td>2023-09-01 21:00:00</td>\n      <td>2023-09-15 21:00:00</td>\n      <td>arbitrum</td>\n    </tr>\n  </tbody>\n</table>\n</div>"
     },
     "execution_count": 11,
     "metadata": {},
     "output_type": "execute_result"
    }
   ],
   "source": [
    "# Remove `token_fees` field from dataframe, as it's too big\n",
    "joint_fees_df_copy = joint_fees_df.drop(columns=['token_fees'])\n",
    "# Display all rows in dataframe\n",
    "pd.set_option('display.max_rows', 1000)\n",
    "joint_fees_df_copy.sort_values(by=['chain', 'pool_fee'], ascending=False)"
   ],
   "metadata": {
    "collapsed": false,
    "ExecuteTime": {
     "end_time": "2023-09-18T13:47:50.520126Z",
     "start_time": "2023-09-18T13:47:50.505584Z"
    }
   },
   "id": "52fccc19e5e6b4f2"
  },
  {
   "cell_type": "markdown",
   "source": [
    "## Now let's calculate bribes paid to the pools"
   ],
   "metadata": {
    "collapsed": false
   },
   "id": "97a5370819f28ffc"
  },
  {
   "cell_type": "code",
   "execution_count": 12,
   "outputs": [
    {
     "data": {
      "text/plain": "                            chain                       aura_bribes  \\\nwstETH/rETH/cbETH        arbitrum     407.6311676804805896312019791   \n4POOL-BPT                arbitrum     94.63729500807363225802543691   \nRDNT-WETH                arbitrum     2252.924159058506490539420572   \nwstETH/rETH/sfrxETH      arbitrum  0.003978111982516388837849699948   \nsAVAX-WAVAX-BPT         avalanche     480.0347948182701246744854430   \nggAVAX-WAVAX-BPT        avalanche     83.25392757010298559851852051   \nyyAVAX-WAVAX-BPT        avalanche     157.3581975804182768699827311   \nUSDC-USDT-BPT           avalanche     24.45942152450201676951888013   \nBPT                     avalanche                             0E-31   \nrETH-WETH-BPT                base                             0E-31   \ncbETH/WETH                   base     363.4045077148546367264079399   \nbb-WETH-wstETH             gnosis     634.0374549414358275597419523   \nB-rETH-STABLE             mainnet     3141.970526415190391771841840   \nswETH-WETH-BPT            mainnet     1096.608338156459005236067213   \nECLP-wstETH-cbETH         mainnet                             0E-31   \n20WETH-80ALCX             mainnet     412.7470196899966656766766933   \nB-staFiETH-WETH-Stable    mainnet     241.1292797082483930174217126   \nGHO/USDT/USDC             mainnet                             0E-31   \nankrETH/wstETH            mainnet     753.6732056476424472748149036   \n50wstETH-50LDO            mainnet     121.9947711118388382959178235   \n50rETH-50BADGER           mainnet     1954.981473071950290334248369   \n50rETH-50RPL              mainnet     250.7742122098593777547883102   \nSTG/USDC                  mainnet     246.3843656371525426722211663   \nECLP-wstETH-wETH          mainnet                             0E-31   \n50wstETH-50ACX            mainnet     75.83673777870117861034775496   \nwstETH-WETH-BPT           polygon                             0E-31   \nECLP-WMATIC-stMATIC       polygon     298.7402974390507361671610673   \nECLP-WMATIC-MATICX        polygon     80.77357474900401715811923259   \nstMATIC-WMATIC-BPT        polygon    0.4912968298407740214744379436   \nmaticX-WMATIC-BPT         polygon     359.6949182911581041351130947   \n\n                                              bal_bribes pool_total fees_taken  \nwstETH/rETH/cbETH          617.0538323195194103687980209    2049.37   1024.685  \n4POOL-BPT                  143.2577049919263677419745631     475.79    237.895  \nRDNT-WETH                  3410.375840941493509460579428   11326.60   5663.300  \nwstETH/rETH/sfrxETH     0.006021888017483611162150300052       0.02      0.010  \nsAVAX-WAVAX-BPT            726.6552051817298753255145570    2413.38   1206.690  \nggAVAX-WAVAX-BPT           126.0260724298970144014814795     418.56    209.280  \nyyAVAX-WAVAX-BPT           238.2018024195817231300172689     791.12    395.560  \nUSDC-USDT-BPT              37.02557847549798323048111987     122.97     61.485  \nBPT                                                0E-31       0.00      0.000  \nrETH-WETH-BPT                                      0E-31       0.00      0.000  \ncbETH/WETH                 550.1054922851453632735920601    1827.02    913.510  \nbb-WETH-wstETH             959.7775450585641724402580477    3187.63   1593.815  \nB-rETH-STABLE              4756.174473584809608228158160   15796.29   7898.145  \nswETH-WETH-BPT             1659.996661843540994763932787    5513.21   2756.605  \nECLP-wstETH-cbETH                                  0E-31       0.00      0.000  \n20WETH-80ALCX              624.7979803100033343233233067    2075.09   1037.545  \nB-staFiETH-WETH-Stable     365.0107202917516069825782874    1212.28    606.140  \nGHO/USDT/USDC                                      0E-31       0.00      0.000  \nankrETH/wstETH             1140.876794352357552725185096    3789.10   1894.550  \n50wstETH-50LDO             184.6702288881611617040821765     613.33    306.665  \n50rETH-50BADGER            2959.363526928049709665751631    9828.69   4914.345  \n50rETH-50RPL               379.6107877901406222452116898    1260.77    630.385  \nSTG/USDC                   372.9656343628474573277788337    1238.70    619.350  \nECLP-wstETH-wETH                                   0E-31       0.00      0.000  \n50wstETH-50ACX             114.7982622212988213896522450     381.27    190.635  \nwstETH-WETH-BPT                                    0E-31       0.00      0.000  \nECLP-WMATIC-stMATIC        452.2197025609492638328389327    1501.92    750.960  \nECLP-WMATIC-MATICX         122.2714252509959828418807674     406.09    203.045  \nstMATIC-WMATIC-BPT        0.7437031701592259785255620564       2.47      1.235  \nmaticX-WMATIC-BPT          544.4900817088418958648869053    1808.37    904.185  ",
      "text/html": "<div>\n<style scoped>\n    .dataframe tbody tr th:only-of-type {\n        vertical-align: middle;\n    }\n\n    .dataframe tbody tr th {\n        vertical-align: top;\n    }\n\n    .dataframe thead th {\n        text-align: right;\n    }\n</style>\n<table border=\"1\" class=\"dataframe\">\n  <thead>\n    <tr style=\"text-align: right;\">\n      <th></th>\n      <th>chain</th>\n      <th>aura_bribes</th>\n      <th>bal_bribes</th>\n      <th>pool_total</th>\n      <th>fees_taken</th>\n    </tr>\n  </thead>\n  <tbody>\n    <tr>\n      <th>wstETH/rETH/cbETH</th>\n      <td>arbitrum</td>\n      <td>407.6311676804805896312019791</td>\n      <td>617.0538323195194103687980209</td>\n      <td>2049.37</td>\n      <td>1024.685</td>\n    </tr>\n    <tr>\n      <th>4POOL-BPT</th>\n      <td>arbitrum</td>\n      <td>94.63729500807363225802543691</td>\n      <td>143.2577049919263677419745631</td>\n      <td>475.79</td>\n      <td>237.895</td>\n    </tr>\n    <tr>\n      <th>RDNT-WETH</th>\n      <td>arbitrum</td>\n      <td>2252.924159058506490539420572</td>\n      <td>3410.375840941493509460579428</td>\n      <td>11326.60</td>\n      <td>5663.300</td>\n    </tr>\n    <tr>\n      <th>wstETH/rETH/sfrxETH</th>\n      <td>arbitrum</td>\n      <td>0.003978111982516388837849699948</td>\n      <td>0.006021888017483611162150300052</td>\n      <td>0.02</td>\n      <td>0.010</td>\n    </tr>\n    <tr>\n      <th>sAVAX-WAVAX-BPT</th>\n      <td>avalanche</td>\n      <td>480.0347948182701246744854430</td>\n      <td>726.6552051817298753255145570</td>\n      <td>2413.38</td>\n      <td>1206.690</td>\n    </tr>\n    <tr>\n      <th>ggAVAX-WAVAX-BPT</th>\n      <td>avalanche</td>\n      <td>83.25392757010298559851852051</td>\n      <td>126.0260724298970144014814795</td>\n      <td>418.56</td>\n      <td>209.280</td>\n    </tr>\n    <tr>\n      <th>yyAVAX-WAVAX-BPT</th>\n      <td>avalanche</td>\n      <td>157.3581975804182768699827311</td>\n      <td>238.2018024195817231300172689</td>\n      <td>791.12</td>\n      <td>395.560</td>\n    </tr>\n    <tr>\n      <th>USDC-USDT-BPT</th>\n      <td>avalanche</td>\n      <td>24.45942152450201676951888013</td>\n      <td>37.02557847549798323048111987</td>\n      <td>122.97</td>\n      <td>61.485</td>\n    </tr>\n    <tr>\n      <th>BPT</th>\n      <td>avalanche</td>\n      <td>0E-31</td>\n      <td>0E-31</td>\n      <td>0.00</td>\n      <td>0.000</td>\n    </tr>\n    <tr>\n      <th>rETH-WETH-BPT</th>\n      <td>base</td>\n      <td>0E-31</td>\n      <td>0E-31</td>\n      <td>0.00</td>\n      <td>0.000</td>\n    </tr>\n    <tr>\n      <th>cbETH/WETH</th>\n      <td>base</td>\n      <td>363.4045077148546367264079399</td>\n      <td>550.1054922851453632735920601</td>\n      <td>1827.02</td>\n      <td>913.510</td>\n    </tr>\n    <tr>\n      <th>bb-WETH-wstETH</th>\n      <td>gnosis</td>\n      <td>634.0374549414358275597419523</td>\n      <td>959.7775450585641724402580477</td>\n      <td>3187.63</td>\n      <td>1593.815</td>\n    </tr>\n    <tr>\n      <th>B-rETH-STABLE</th>\n      <td>mainnet</td>\n      <td>3141.970526415190391771841840</td>\n      <td>4756.174473584809608228158160</td>\n      <td>15796.29</td>\n      <td>7898.145</td>\n    </tr>\n    <tr>\n      <th>swETH-WETH-BPT</th>\n      <td>mainnet</td>\n      <td>1096.608338156459005236067213</td>\n      <td>1659.996661843540994763932787</td>\n      <td>5513.21</td>\n      <td>2756.605</td>\n    </tr>\n    <tr>\n      <th>ECLP-wstETH-cbETH</th>\n      <td>mainnet</td>\n      <td>0E-31</td>\n      <td>0E-31</td>\n      <td>0.00</td>\n      <td>0.000</td>\n    </tr>\n    <tr>\n      <th>20WETH-80ALCX</th>\n      <td>mainnet</td>\n      <td>412.7470196899966656766766933</td>\n      <td>624.7979803100033343233233067</td>\n      <td>2075.09</td>\n      <td>1037.545</td>\n    </tr>\n    <tr>\n      <th>B-staFiETH-WETH-Stable</th>\n      <td>mainnet</td>\n      <td>241.1292797082483930174217126</td>\n      <td>365.0107202917516069825782874</td>\n      <td>1212.28</td>\n      <td>606.140</td>\n    </tr>\n    <tr>\n      <th>GHO/USDT/USDC</th>\n      <td>mainnet</td>\n      <td>0E-31</td>\n      <td>0E-31</td>\n      <td>0.00</td>\n      <td>0.000</td>\n    </tr>\n    <tr>\n      <th>ankrETH/wstETH</th>\n      <td>mainnet</td>\n      <td>753.6732056476424472748149036</td>\n      <td>1140.876794352357552725185096</td>\n      <td>3789.10</td>\n      <td>1894.550</td>\n    </tr>\n    <tr>\n      <th>50wstETH-50LDO</th>\n      <td>mainnet</td>\n      <td>121.9947711118388382959178235</td>\n      <td>184.6702288881611617040821765</td>\n      <td>613.33</td>\n      <td>306.665</td>\n    </tr>\n    <tr>\n      <th>50rETH-50BADGER</th>\n      <td>mainnet</td>\n      <td>1954.981473071950290334248369</td>\n      <td>2959.363526928049709665751631</td>\n      <td>9828.69</td>\n      <td>4914.345</td>\n    </tr>\n    <tr>\n      <th>50rETH-50RPL</th>\n      <td>mainnet</td>\n      <td>250.7742122098593777547883102</td>\n      <td>379.6107877901406222452116898</td>\n      <td>1260.77</td>\n      <td>630.385</td>\n    </tr>\n    <tr>\n      <th>STG/USDC</th>\n      <td>mainnet</td>\n      <td>246.3843656371525426722211663</td>\n      <td>372.9656343628474573277788337</td>\n      <td>1238.70</td>\n      <td>619.350</td>\n    </tr>\n    <tr>\n      <th>ECLP-wstETH-wETH</th>\n      <td>mainnet</td>\n      <td>0E-31</td>\n      <td>0E-31</td>\n      <td>0.00</td>\n      <td>0.000</td>\n    </tr>\n    <tr>\n      <th>50wstETH-50ACX</th>\n      <td>mainnet</td>\n      <td>75.83673777870117861034775496</td>\n      <td>114.7982622212988213896522450</td>\n      <td>381.27</td>\n      <td>190.635</td>\n    </tr>\n    <tr>\n      <th>wstETH-WETH-BPT</th>\n      <td>polygon</td>\n      <td>0E-31</td>\n      <td>0E-31</td>\n      <td>0.00</td>\n      <td>0.000</td>\n    </tr>\n    <tr>\n      <th>ECLP-WMATIC-stMATIC</th>\n      <td>polygon</td>\n      <td>298.7402974390507361671610673</td>\n      <td>452.2197025609492638328389327</td>\n      <td>1501.92</td>\n      <td>750.960</td>\n    </tr>\n    <tr>\n      <th>ECLP-WMATIC-MATICX</th>\n      <td>polygon</td>\n      <td>80.77357474900401715811923259</td>\n      <td>122.2714252509959828418807674</td>\n      <td>406.09</td>\n      <td>203.045</td>\n    </tr>\n    <tr>\n      <th>stMATIC-WMATIC-BPT</th>\n      <td>polygon</td>\n      <td>0.4912968298407740214744379436</td>\n      <td>0.7437031701592259785255620564</td>\n      <td>2.47</td>\n      <td>1.235</td>\n    </tr>\n    <tr>\n      <th>maticX-WMATIC-BPT</th>\n      <td>polygon</td>\n      <td>359.6949182911581041351130947</td>\n      <td>544.4900817088418958648869053</td>\n      <td>1808.37</td>\n      <td>904.185</td>\n    </tr>\n  </tbody>\n</table>\n</div>"
     },
     "execution_count": 12,
     "metadata": {},
     "output_type": "execute_result"
    }
   ],
   "source": [
    "from notebooks import calculate_aura_vebal_share\n",
    "\n",
    "aura_vebal_share = calculate_aura_vebal_share(eth_web3, mainnet_block)\n",
    "\n",
    "# Bribes are split per chain and per pool, with each pool getting a share of the bribe proportional to its share of fees\n",
    "# paid by all pools on that chain. For example, if pool A paid 10% of all fees on Arbitrum, it will get 10% of the bribes. That 10% will be distributed between aura and vebal, proportional to their share of the bribe.\n",
    "FEE = Decimal(0.5)  # 50% goes to fees\n",
    "\n",
    "\n",
    "# Let's calculate share of fees paid by each pool on each chain\n",
    "def calc_and_split_bribes(fees: Dict, chain: str) -> Dict[str, Dict]:\n",
    "    pool_bribs = {}\n",
    "    for pool, data in fees.items():\n",
    "        pool_fees = data['bpt_token_fee_in_usd'] + data['token_fees_in_usd']\n",
    "        # Split fees between aura and bal fees\n",
    "        pool_bribs[pool] = {\n",
    "            \"chain\": chain,\n",
    "            \"aura_bribes\": pool_fees * FEE * aura_vebal_share,\n",
    "            \"bal_bribes\": pool_fees * FEE * (1 - aura_vebal_share),\n",
    "            \"pool_total\": pool_fees,\n",
    "            \"fees_taken\": pool_fees * FEE,\n",
    "        }\n",
    "    return pool_bribs\n",
    "\n",
    "\n",
    "mainnet_bribes = calc_and_split_bribes(mainnet_fees, 'mainnet')\n",
    "arb_bribes = calc_and_split_bribes(arb_fees, 'arbitrum')\n",
    "polygon_bribes = calc_and_split_bribes(polygon_fees, 'polygon')\n",
    "base_bribes = calc_and_split_bribes(base_fees, 'base')\n",
    "gnosis_bribes = calc_and_split_bribes(gnosis_fees, 'gnosis')\n",
    "avax_bribes = calc_and_split_bribes(avax_fees, 'avalanche')\n",
    "# Convert to dataframe\n",
    "joint_bribes_data = {**arb_bribes, **mainnet_bribes, **polygon_bribes, **base_bribes, **gnosis_bribes, **avax_bribes}\n",
    "# Sort by chain:\n",
    "joint_bribes_data = {k: v for k, v in sorted(joint_bribes_data.items(), key=lambda item: item[1]['chain'])}\n",
    "joint_bribes_df = pd.DataFrame.from_dict(joint_bribes_data, orient='index')\n",
    "# Sort by chain\n",
    "# Dump into csv and prefix with dates\n",
    "joint_bribes_df.to_csv(f'../data/bribs/bribes_{arb_datetime_2_weeks_ago.date()}_{arb_datetime_now.date()}.csv')\n",
    "joint_bribes_df"
   ],
   "metadata": {
    "collapsed": false,
    "ExecuteTime": {
     "end_time": "2023-09-18T13:47:53.082478Z",
     "start_time": "2023-09-18T13:47:52.164230Z"
    }
   },
   "id": "efdef306c522076a"
  }
 ],
 "metadata": {
  "kernelspec": {
   "display_name": "Python 3",
   "language": "python",
   "name": "python3"
  },
  "language_info": {
   "codemirror_mode": {
    "name": "ipython",
    "version": 2
   },
   "file_extension": ".py",
   "mimetype": "text/x-python",
   "name": "python",
   "nbconvert_exporter": "python",
   "pygments_lexer": "ipython2",
   "version": "2.7.6"
  }
 },
 "nbformat": 4,
 "nbformat_minor": 5
}
