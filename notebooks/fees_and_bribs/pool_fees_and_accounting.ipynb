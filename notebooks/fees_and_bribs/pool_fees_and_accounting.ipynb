{
 "cells": [
  {
   "cell_type": "markdown",
   "source": [
    "## Collecting protocol fees across Balancer core pools on all networks\n",
    "- Spreadsheet as reference: https://docs.google.com/spreadsheets/d/1xwUPpbYq7woVOU9vQ8EB8MY75I-1mauTLyDVwvKUDKo/edit#gid=0\n",
    "- Collab: https://colab.research.google.com/drive/1vKCvcV5mkL1zwW3565kLSGkBEbt8NsoB?usp=sharing\n"
   ],
   "metadata": {
    "collapsed": false
   },
   "id": "e739385af75b2478"
  },
  {
   "cell_type": "code",
   "execution_count": 2,
   "outputs": [
    {
     "name": "stdout",
     "output_type": "stream",
     "text": [
      "Collecting bpt prices for Gnosis\n",
      "Collecting bpt prices for Avalanche\n",
      "Collecting bpt prices for Base\n",
      "Collecting bpt prices for Arbitrum\n",
      "Collecting bpt prices for Mainnet\n",
      "Collecting bpt prices for Polygon\n"
     ]
    }
   ],
   "source": [
    "import datetime\n",
    "import os\n",
    "\n",
    "import pandas as pd\n",
    "from dotenv import load_dotenv\n",
    "from web3 import Web3\n",
    "from web3.middleware import geth_poa_middleware\n",
    "\n",
    "from notebooks import get_block_by_ts\n",
    "from notebooks import get_twap_bpt_price\n",
    "from notebooks.fees_and_bribs.constants import ARB_CORE_POOLS\n",
    "from notebooks.fees_and_bribs.constants import AVAX_CORE_POOLS\n",
    "from notebooks.fees_and_bribs.constants import BASE_CORE_POOLS\n",
    "from notebooks.fees_and_bribs.constants import GNOSIS_CORE_POOLS\n",
    "from notebooks.fees_and_bribs.constants import MAINNET_CORE_POOLS\n",
    "from notebooks.fees_and_bribs.constants import POLYGON_CORE_POOLS\n",
    "\n",
    "load_dotenv()\n",
    "arb_web3 = Web3(Web3.HTTPProvider(os.environ[\"ARBNODEURL\"]))\n",
    "eth_web3 = Web3(Web3.HTTPProvider(os.environ[\"ETHNODEURL\"]))\n",
    "base_web3 = Web3(Web3.HTTPProvider(os.environ[\"BASENODEURL\"]))\n",
    "gnosis_web3 = Web3(Web3.HTTPProvider(os.environ[\"GNOSISNODEURL\"]))\n",
    "avax_web3 = Web3(Web3.HTTPProvider(os.environ[\"AVALANCHENODEURL\"]))\n",
    "poly_web3 = Web3(Web3.HTTPProvider(\"https://polygon-rpc.com\"))\n",
    "poly_web3.middleware_onion.inject(geth_poa_middleware, layer=0)\n",
    "\n",
    "# ARBITRUM\n",
    "# arb_block_now = arb_web3.eth.block_number - 1000\n",
    "timestamp_now = 1694790000\n",
    "arb_block = get_block_by_ts(timestamp_now, \"arbitrum\")  # 18 August 2023\n",
    "# Given Arb block time, we want to look back 2 weeks:\n",
    "arb_timestamp_2_weeks_ago = timestamp_now - (2 * 7 * 24 * 60 * 60)\n",
    "arb_block_2_weeks_ago = get_block_by_ts(arb_timestamp_2_weeks_ago, \"arbitrum\")\n",
    "# Convert to datetime:\n",
    "arb_datetime_now = datetime.datetime.fromtimestamp(timestamp_now)\n",
    "arb_datetime_2_weeks_ago = datetime.datetime.fromtimestamp(arb_timestamp_2_weeks_ago)\n",
    "# MAINNET\n",
    "mainnet_block = get_block_by_ts(timestamp_now, \"mainnet\")\n",
    "# Given mainnet block time, we want to look back 2 weeks:\n",
    "mainnet_timestamp_2_weeks_ago = arb_timestamp_2_weeks_ago\n",
    "mainnet_block_2_weeks_ago = get_block_by_ts(mainnet_timestamp_2_weeks_ago, \"mainnet\")\n",
    "# Convert to datetime:\n",
    "mainnet_datetime_now = datetime.datetime.fromtimestamp(timestamp_now)\n",
    "mainnet_datetime_2_weeks_ago = datetime.datetime.fromtimestamp(mainnet_timestamp_2_weeks_ago)\n",
    "\n",
    "# BASE\n",
    "base_block = get_block_by_ts(timestamp_now, \"base\")\n",
    "# Given base block time, we want to look back 2 weeks:\n",
    "base_timestamp_2_weeks_ago = arb_timestamp_2_weeks_ago\n",
    "base_block_2_weeks_ago = get_block_by_ts(base_timestamp_2_weeks_ago, \"base\")\n",
    "# Convert to datetime:\n",
    "base_datetime_now = datetime.datetime.fromtimestamp(timestamp_now)\n",
    "base_datetime_2_weeks_ago = datetime.datetime.fromtimestamp(base_timestamp_2_weeks_ago)\n",
    "\n",
    "# POLYGON\n",
    "poly_block = get_block_by_ts(timestamp_now, \"polygon\")\n",
    "# Given polygon block time, we want to look back 2 weeks:\n",
    "poly_timestamp_2_weeks_ago = arb_timestamp_2_weeks_ago\n",
    "poly_block_2_weeks_ago = get_block_by_ts(poly_timestamp_2_weeks_ago, \"polygon\")\n",
    "# Convert to datetime:\n",
    "poly_datetime_now = datetime.datetime.fromtimestamp(timestamp_now)\n",
    "poly_datetime_2_weeks_ago = datetime.datetime.fromtimestamp(poly_timestamp_2_weeks_ago)\n",
    "\n",
    "# GNOSIS\n",
    "gnosis_block = get_block_by_ts(timestamp_now, \"gnosis\")\n",
    "# Given gnosis block time, we want to look back 2 weeks:\n",
    "gnosis_timestamp_2_weeks_ago = arb_timestamp_2_weeks_ago\n",
    "gnosis_block_2_weeks_ago = get_block_by_ts(gnosis_timestamp_2_weeks_ago, \"gnosis\")\n",
    "# Convert to datetime:\n",
    "gnosis_datetime_now = datetime.datetime.fromtimestamp(timestamp_now)\n",
    "gnosis_datetime_2_weeks_ago = datetime.datetime.fromtimestamp(gnosis_timestamp_2_weeks_ago)\n",
    "\n",
    "# Avalanche\n",
    "avax_block = get_block_by_ts(timestamp_now, \"avalanche\")\n",
    "# Given avalanche block time, we want to look back 2 weeks:\n",
    "avax_timestamp_2_weeks_ago = arb_timestamp_2_weeks_ago\n",
    "avax_block_2_weeks_ago = get_block_by_ts(avax_timestamp_2_weeks_ago, \"avalanche\")\n",
    "# Convert to datetime:\n",
    "avax_datetime_now = datetime.datetime.fromtimestamp(timestamp_now)\n",
    "avax_datetime_2_weeks_ago = datetime.datetime.fromtimestamp(avax_timestamp_2_weeks_ago)\n",
    "\n",
    "print(\"Collecting bpt prices for Gnosis\")\n",
    "gnosis_bpt_twap_prices = {}\n",
    "for gnosis_pool in GNOSIS_CORE_POOLS:\n",
    "    gnosis_bpt_twap_prices[gnosis_pool] = get_twap_bpt_price(gnosis_pool, 'gnosis', gnosis_web3,\n",
    "                                                             start_date=gnosis_datetime_now,\n",
    "                                                             block_number=gnosis_block)\n",
    "\n",
    "print(\"Collecting bpt prices for Avalanche\")\n",
    "avax_bpt_twap_prices = {}\n",
    "for avax_pool in AVAX_CORE_POOLS:\n",
    "    avax_bpt_twap_prices[avax_pool] = get_twap_bpt_price(avax_pool, 'avalanche', avax_web3,\n",
    "                                                         start_date=avax_datetime_now, block_number=avax_block)\n",
    "print(\"Collecting bpt prices for Base\")\n",
    "base_bpt_twap_prices = {}\n",
    "for base_pool in BASE_CORE_POOLS:\n",
    "    base_bpt_twap_prices[base_pool] = get_twap_bpt_price(base_pool, 'base', base_web3,\n",
    "                                                         start_date=base_datetime_now, block_number=base_block)\n",
    "print(\"Collecting bpt prices for Arbitrum\")\n",
    "arb_bpt_twap_prices = {}\n",
    "for arb_pool in ARB_CORE_POOLS:\n",
    "    arb_bpt_twap_prices[arb_pool] = get_twap_bpt_price(arb_pool, 'arbitrum', arb_web3,\n",
    "                                                       start_date=arb_datetime_now,\n",
    "                                                       block_number=arb_block)\n",
    "\n",
    "print(\"Collecting bpt prices for Mainnet\")\n",
    "mainnet_bpt_twap_prices = {}\n",
    "for mainnet_pool in MAINNET_CORE_POOLS:\n",
    "    mainnet_bpt_twap_prices[mainnet_pool] = get_twap_bpt_price(mainnet_pool, 'mainnet', eth_web3,\n",
    "                                                               start_date=mainnet_datetime_now,\n",
    "                                                               block_number=mainnet_block)\n",
    "print(\"Collecting bpt prices for Polygon\")\n",
    "polygon_bpt_twap_prices = {}\n",
    "for polygon_pool in POLYGON_CORE_POOLS:\n",
    "    polygon_bpt_twap_prices[polygon_pool] = get_twap_bpt_price(polygon_pool, 'polygon', poly_web3,\n",
    "                                                               start_date=poly_datetime_now,\n",
    "                                                               block_number=poly_block)\n",
    "\n",
    "# Convert to dataframe and print, merge all three dataframes\n",
    "arb_bpt_twap_prices_df = pd.DataFrame.from_dict(arb_bpt_twap_prices, orient='index')\n",
    "mainnet_bpt_twap_prices_df = pd.DataFrame.from_dict(mainnet_bpt_twap_prices, orient='index')\n",
    "polygon_bpt_twap_prices_df = pd.DataFrame.from_dict(polygon_bpt_twap_prices, orient='index')\n",
    "base_bpt_twap_prices_df = pd.DataFrame.from_dict(base_bpt_twap_prices, orient='index')\n",
    "gnosis_bpt_twap_prices_df = pd.DataFrame.from_dict(gnosis_bpt_twap_prices, orient='index')\n",
    "avax_bpt_twap_prices_df = pd.DataFrame.from_dict(avax_bpt_twap_prices, orient='index')"
   ],
   "metadata": {
    "collapsed": false,
    "ExecuteTime": {
     "end_time": "2023-09-26T12:14:04.446549Z",
     "start_time": "2023-09-26T12:10:49.464639Z"
    }
   },
   "id": "39d87004addaae1b"
  },
  {
   "cell_type": "markdown",
   "source": [
    "## Fetching data from the Balancer subgraphs"
   ],
   "metadata": {
    "collapsed": false
   },
   "id": "cde5ffca807e3849"
  },
  {
   "cell_type": "code",
   "execution_count": 4,
   "outputs": [],
   "source": [
    "from notebooks import get_balancer_pool_snapshots\n",
    "from notebooks.fees_and_bribs.constants import BASE_BALANCER_GRAPH_URL\n",
    "from notebooks.fees_and_bribs.constants import POLYGON_BALANCER_GRAPH_URL\n",
    "from notebooks.fees_and_bribs.constants import ARB_BALANCER_GRAPH_URL\n",
    "from notebooks.fees_and_bribs.constants import MAINNET_BALANCER_GRAPH_URL\n",
    "from notebooks.fees_and_bribs.constants import GNOSIS_BALANCER_GRAPH_URL\n",
    "from notebooks.fees_and_bribs.constants import AVALANCHE_BALANCER_GRAPH_URL\n",
    "from typing import Dict\n",
    "\n",
    "arbi_pool_snapshots_now = get_balancer_pool_snapshots(arb_block, ARB_BALANCER_GRAPH_URL)\n",
    "arbi_pool_snapshots_2_weeks_ago = get_balancer_pool_snapshots(int(arb_block_2_weeks_ago), ARB_BALANCER_GRAPH_URL)\n",
    "\n",
    "mainnet_pool_snapshots_now = get_balancer_pool_snapshots(mainnet_block, MAINNET_BALANCER_GRAPH_URL)\n",
    "mainnet_pool_snapshots_2_weeks_ago = get_balancer_pool_snapshots(int(mainnet_block_2_weeks_ago),\n",
    "                                                                 MAINNET_BALANCER_GRAPH_URL)\n",
    "\n",
    "polygon_pool_snapshots_now = get_balancer_pool_snapshots(poly_block, POLYGON_BALANCER_GRAPH_URL)\n",
    "polygon_pool_snapshots_2_weeks_ago = get_balancer_pool_snapshots(int(poly_block_2_weeks_ago),\n",
    "                                                                 POLYGON_BALANCER_GRAPH_URL)\n",
    "\n",
    "base_pool_snapshots_now = get_balancer_pool_snapshots(base_block, BASE_BALANCER_GRAPH_URL)\n",
    "base_pool_snapshots_2_weeks_ago = get_balancer_pool_snapshots(int(base_block_2_weeks_ago),\n",
    "                                                              BASE_BALANCER_GRAPH_URL)\n",
    "\n",
    "gnosis_pool_snapshots_now = get_balancer_pool_snapshots(gnosis_block, GNOSIS_BALANCER_GRAPH_URL)\n",
    "gnosis_pool_snapshots_2_weeks_ago = get_balancer_pool_snapshots(int(gnosis_block_2_weeks_ago),\n",
    "                                                                GNOSIS_BALANCER_GRAPH_URL)\n",
    "\n",
    "avax_pool_snapshots_now = get_balancer_pool_snapshots(avax_block, AVALANCHE_BALANCER_GRAPH_URL)\n",
    "avax_pool_snapshots_2_weeks_ago = get_balancer_pool_snapshots(int(avax_block_2_weeks_ago),\n",
    "                                                              AVALANCHE_BALANCER_GRAPH_URL)"
   ],
   "metadata": {
    "collapsed": false,
    "ExecuteTime": {
     "end_time": "2023-09-26T12:17:17.577473Z",
     "start_time": "2023-09-26T12:15:59.915643Z"
    }
   },
   "id": "e1e0b8b90f62234c"
  },
  {
   "cell_type": "markdown",
   "source": [
    "## Extract fee data for CORE pools:\n"
   ],
   "metadata": {
    "collapsed": false
   },
   "id": "d5333a7de445454d"
  },
  {
   "cell_type": "code",
   "execution_count": 7,
   "outputs": [],
   "source": [
    "from collections import defaultdict\n",
    "from decimal import Decimal\n",
    "from notebooks import fetch_token_price_balgql\n",
    "\n",
    "\n",
    "def collect_fee_info(pools: list[str], chain: str, pools_now: list[dict], pools_shifted: list[dict],\n",
    "                     start_date: datetime.datetime) -> tuple[dict, dict]:\n",
    "    # Iterate through snapshots now and 2 weeks ago and extract fee data, by subtracting today's fee data from 2 weeks ago\n",
    "    # and then summing across all pools\n",
    "    fees = {}\n",
    "    token_fees = defaultdict(list)\n",
    "    for pool in pools:\n",
    "        current_fees_snapshots = [x for x in pools_now if x['pool']['id'] == pool]\n",
    "        current_fees_snapshots.sort(key=lambda x: x['timestamp'], reverse=True)\n",
    "        fees_2_weeks_ago = [x for x in pools_shifted if x['pool']['id'] == pool]\n",
    "        fees_2_weeks_ago.sort(key=lambda x: x['timestamp'], reverse=True)\n",
    "        # Take first element of list, which is the most recent snapshot\n",
    "        if not current_fees_snapshots or not fees_2_weeks_ago:\n",
    "            continue\n",
    "        pool_snapshot_now = current_fees_snapshots[0]\n",
    "        pool_snapshot_2_weeks_ago = fees_2_weeks_ago[0]\n",
    "        # Calculate fees\n",
    "        pool_fee = float(pool_snapshot_now['protocolFee']) - float(pool_snapshot_2_weeks_ago['protocolFee'])\n",
    "        pool_swap_fee = float(pool_snapshot_now['swapFees']) - float(pool_snapshot_2_weeks_ago['swapFees'])\n",
    "        # Now we need to collect token fee info. Let's start with BPT tokens, which is Balancer pool token. Notice,\n",
    "        # That totalProtocolFeePaidInBPT can be null, so we need to check for that\n",
    "        bpt_token_fee = 0\n",
    "        bpt_price_usd = arb_bpt_twap_prices[pool] if chain == 'arbitrum' else mainnet_bpt_twap_prices[\n",
    "            pool] if chain == 'mainnet' else polygon_bpt_twap_prices[pool] if chain == 'polygon' else \\\n",
    "            base_bpt_twap_prices[pool] if chain == 'base' else gnosis_bpt_twap_prices[pool] if chain == 'gnosis' else \\\n",
    "                avax_bpt_twap_prices[pool]\n",
    "        if bpt_price_usd is None:\n",
    "            bpt_price_usd = 0\n",
    "        if pool_snapshot_now['pool']['totalProtocolFeePaidInBPT'] is not None and pool_snapshot_2_weeks_ago['pool'][\n",
    "            'totalProtocolFeePaidInBPT'] is not None:\n",
    "            bpt_token_fee = float(pool_snapshot_now['pool']['totalProtocolFeePaidInBPT']) - float(\n",
    "                pool_snapshot_2_weeks_ago['pool']['totalProtocolFeePaidInBPT'])\n",
    "            token_fees[pool_snapshot_now['pool']['symbol']].append({\n",
    "                'token': pool_snapshot_now['pool']['symbol'],\n",
    "                'token_fee': bpt_token_fee,\n",
    "                'token_price': bpt_price_usd,\n",
    "                'token_fee_in_usd': Decimal(bpt_token_fee) * bpt_price_usd,\n",
    "                'token_addr': pool_snapshot_now['pool']['address'],\n",
    "                'time_from': arb_datetime_2_weeks_ago,\n",
    "                'time_to': arb_datetime_now,\n",
    "                'chain': chain,\n",
    "            })\n",
    "        # Now collect fee info about fees paid in pool tokens. Pool tokens fee info is in pool.tokens dictionary. This will be separate dictionary\n",
    "        else:\n",
    "            bpt_price_usd = 0\n",
    "            for token_data in pool_snapshot_now['pool']['tokens']:\n",
    "                token_data_2_weeks_ago = \\\n",
    "                    [t for t in pool_snapshot_2_weeks_ago['pool']['tokens'] if t['address'] == token_data['address']][0]\n",
    "                token_fee = float(token_data.get('paidProtocolFees', None)) - float(\n",
    "                    token_data_2_weeks_ago.get('paidProtocolFees', None))\n",
    "                # Get twap token price from CoinGecko\n",
    "                token_price = fetch_token_price_balgql(token_data['address'], chain, start_date) or 0\n",
    "                token_fees[pool_snapshot_now['pool']['symbol']].append({\n",
    "                    'token': token_data['symbol'],\n",
    "                    'token_fee': token_fee,\n",
    "                    'token_price': token_price,\n",
    "                    'token_fee_in_usd': Decimal(token_fee) * token_price if token_price is not None else 0,\n",
    "                    'token_addr': token_data['address'],\n",
    "                    'time_from': arb_datetime_2_weeks_ago,\n",
    "                    'time_to': arb_datetime_now,\n",
    "                    'chain': chain,\n",
    "                })\n",
    "        # Calculate non-BPT fees in USD\n",
    "        fees[pool_snapshot_now['pool']['symbol']] = {\n",
    "            'pool_fee': round(pool_fee, 2),\n",
    "            'swap_fee': round(pool_swap_fee, 2),\n",
    "            'bpt_token_fee': round(bpt_token_fee, 2),\n",
    "            # Get fee in USD by multiplying bpt_token_fee by price of BPT token taken from twap_bpt_price\n",
    "            'bpt_token_fee_in_usd': round(Decimal(bpt_token_fee) * bpt_price_usd, 2),\n",
    "            'token_fees_in_usd': round(sum([x['token_fee_in_usd'] for x in\n",
    "                                            token_fees[\n",
    "                                                pool_snapshot_now['pool']['symbol']]]) if bpt_price_usd == 0 else 0, 2),\n",
    "            'time_from': arb_datetime_2_weeks_ago,\n",
    "            'time_to': arb_datetime_now,\n",
    "            'chain': chain,\n",
    "            'token_fees': token_fees[pool_snapshot_now['pool']['symbol']],\n",
    "            'pool_addr': pool_snapshot_now['pool']['address'],\n",
    "        }\n",
    "    return fees\n",
    "\n",
    "\n",
    "arb_fees = collect_fee_info(ARB_CORE_POOLS, 'arbitrum', arbi_pool_snapshots_now,\n",
    "                            arbi_pool_snapshots_2_weeks_ago, arb_datetime_now)\n",
    "mainnet_fees = collect_fee_info(MAINNET_CORE_POOLS, 'mainnet', mainnet_pool_snapshots_now,\n",
    "                                mainnet_pool_snapshots_2_weeks_ago, mainnet_datetime_now)\n",
    "polygon_fees = collect_fee_info(POLYGON_CORE_POOLS, 'polygon', polygon_pool_snapshots_now,\n",
    "                                polygon_pool_snapshots_2_weeks_ago, poly_datetime_now)\n",
    "base_fees = collect_fee_info(BASE_CORE_POOLS, 'base', base_pool_snapshots_now, base_pool_snapshots_2_weeks_ago,\n",
    "                             base_datetime_now)\n",
    "gnosis_fees = collect_fee_info(GNOSIS_CORE_POOLS, 'gnosis', gnosis_pool_snapshots_now,\n",
    "                               gnosis_pool_snapshots_2_weeks_ago, gnosis_datetime_now)\n",
    "avax_fees = collect_fee_info(AVAX_CORE_POOLS, 'avalanche', avax_pool_snapshots_now,\n",
    "                             avax_pool_snapshots_2_weeks_ago, avax_datetime_now)\n",
    "# Convert to dataframe, sort by chain and pool fee\n",
    "joint_fees = {**arb_fees, **mainnet_fees, **polygon_fees, **base_fees, **gnosis_fees, **avax_fees}\n",
    "joint_fees_df = pd.DataFrame.from_dict(joint_fees, orient='index')"
   ],
   "metadata": {
    "collapsed": false,
    "ExecuteTime": {
     "end_time": "2023-09-26T12:18:21.803757Z",
     "start_time": "2023-09-26T12:18:02.844962Z"
    }
   },
   "id": "e79b2f6a4ead2cad"
  },
  {
   "cell_type": "code",
   "execution_count": 8,
   "outputs": [
    {
     "data": {
      "text/plain": "                        pool_fee  swap_fee  bpt_token_fee  \\\nECLP-WMATIC-stMATIC      1584.96    249.39        2946.55   \nmaticX-WMATIC-BPT        1450.10    326.70        2724.34   \nECLP-WMATIC-MATICX        403.27     71.47         755.16   \nstMATIC-WMATIC-BPT          2.58      1.34           4.62   \nwstETH-WETH-BPT             0.00      0.00           0.00   \nB-rETH-STABLE           15892.61   2300.19           0.00   \n50rETH-50BADGER          9939.15   2997.35         166.20   \nswETH-WETH-BPT           5502.29    634.17           3.43   \nankrETH/wstETH           3867.44    126.65           2.32   \n20WETH-80ALCX            2393.07   4118.43          83.27   \n50rETH-50RPL             1272.25   1209.24           6.32   \nSTG/USDC                 1262.74   8264.76        1733.53   \nB-staFiETH-WETH-Stable   1216.06    339.32           0.00   \nGHO/USDT/USDC            1142.27   1871.72           0.00   \n50wstETH-50LDO            631.08    255.37          11.58   \n50wstETH-50ACX            382.23   1420.64          38.01   \nECLP-wstETH-cbETH           0.00      0.00           0.00   \nECLP-wstETH-wETH            0.00      0.00           0.00   \nbb-WETH-wstETH           3361.72     15.05           2.06   \ncbETH/WETH               1861.50   1117.90           1.14   \nrETH-WETH-BPT             401.34    223.34           0.00   \nsAVAX-WAVAX-BPT          3230.30    757.35         254.06   \nyyAVAX-WAVAX-BPT         1039.56      3.46          81.63   \nggAVAX-WAVAX-BPT          547.02      3.58          43.02   \nUSDC-USDT-BPT             122.44    207.94         122.40   \nBPT                         0.00     97.45           0.00   \nRDNT-WETH               11108.53  20103.97       10471.27   \nwstETH/rETH/cbETH        1008.43    358.60           1.22   \n4POOL-BPT                 475.95    832.86         475.65   \nwstETH/rETH/sfrxETH         0.01      0.00           0.00   \n\n                       bpt_token_fee_in_usd token_fees_in_usd  \\\nECLP-WMATIC-stMATIC                 1591.32                 0   \nmaticX-WMATIC-BPT                   1459.21                 0   \nECLP-WMATIC-MATICX                   406.22                 0   \nstMATIC-WMATIC-BPT                     2.47                 0   \nwstETH-WETH-BPT                        0.00              0.00   \nB-rETH-STABLE                          0.00          15797.35   \n50rETH-50BADGER                     9826.84                 0   \nswETH-WETH-BPT                      5510.58                 0   \nankrETH/wstETH                      3789.32                 0   \n20WETH-80ALCX                       2069.88                 0   \n50rETH-50RPL                        1260.83                 0   \nSTG/USDC                            1239.41                 0   \nB-staFiETH-WETH-Stable                 0.00           1212.37   \nGHO/USDT/USDC                          0.00              0.00   \n50wstETH-50LDO                       613.41                 0   \n50wstETH-50ACX                       381.44                 0   \nECLP-wstETH-cbETH                      0.00              0.00   \nECLP-wstETH-wETH                       0.00              0.00   \nbb-WETH-wstETH                      3343.47                 0   \ncbETH/WETH                          1847.83                 0   \nrETH-WETH-BPT                          0.00              0.00   \nsAVAX-WAVAX-BPT                     2462.77                 0   \nyyAVAX-WAVAX-BPT                     791.60                 0   \nggAVAX-WAVAX-BPT                     418.90                 0   \nUSDC-USDT-BPT                        122.41                 0   \nBPT                                    0.00              0.00   \nRDNT-WETH                          11361.56                 0   \nwstETH/rETH/cbETH                   1981.51                 0   \n4POOL-BPT                            475.79                 0   \nwstETH/rETH/sfrxETH                    0.02                 0   \n\n                                 time_from             time_to      chain  \\\nECLP-WMATIC-stMATIC    2023-09-01 18:00:00 2023-09-15 18:00:00    polygon   \nmaticX-WMATIC-BPT      2023-09-01 18:00:00 2023-09-15 18:00:00    polygon   \nECLP-WMATIC-MATICX     2023-09-01 18:00:00 2023-09-15 18:00:00    polygon   \nstMATIC-WMATIC-BPT     2023-09-01 18:00:00 2023-09-15 18:00:00    polygon   \nwstETH-WETH-BPT        2023-09-01 18:00:00 2023-09-15 18:00:00    polygon   \nB-rETH-STABLE          2023-09-01 18:00:00 2023-09-15 18:00:00    mainnet   \n50rETH-50BADGER        2023-09-01 18:00:00 2023-09-15 18:00:00    mainnet   \nswETH-WETH-BPT         2023-09-01 18:00:00 2023-09-15 18:00:00    mainnet   \nankrETH/wstETH         2023-09-01 18:00:00 2023-09-15 18:00:00    mainnet   \n20WETH-80ALCX          2023-09-01 18:00:00 2023-09-15 18:00:00    mainnet   \n50rETH-50RPL           2023-09-01 18:00:00 2023-09-15 18:00:00    mainnet   \nSTG/USDC               2023-09-01 18:00:00 2023-09-15 18:00:00    mainnet   \nB-staFiETH-WETH-Stable 2023-09-01 18:00:00 2023-09-15 18:00:00    mainnet   \nGHO/USDT/USDC          2023-09-01 18:00:00 2023-09-15 18:00:00    mainnet   \n50wstETH-50LDO         2023-09-01 18:00:00 2023-09-15 18:00:00    mainnet   \n50wstETH-50ACX         2023-09-01 18:00:00 2023-09-15 18:00:00    mainnet   \nECLP-wstETH-cbETH      2023-09-01 18:00:00 2023-09-15 18:00:00    mainnet   \nECLP-wstETH-wETH       2023-09-01 18:00:00 2023-09-15 18:00:00    mainnet   \nbb-WETH-wstETH         2023-09-01 18:00:00 2023-09-15 18:00:00     gnosis   \ncbETH/WETH             2023-09-01 18:00:00 2023-09-15 18:00:00       base   \nrETH-WETH-BPT          2023-09-01 18:00:00 2023-09-15 18:00:00       base   \nsAVAX-WAVAX-BPT        2023-09-01 18:00:00 2023-09-15 18:00:00  avalanche   \nyyAVAX-WAVAX-BPT       2023-09-01 18:00:00 2023-09-15 18:00:00  avalanche   \nggAVAX-WAVAX-BPT       2023-09-01 18:00:00 2023-09-15 18:00:00  avalanche   \nUSDC-USDT-BPT          2023-09-01 18:00:00 2023-09-15 18:00:00  avalanche   \nBPT                    2023-09-01 18:00:00 2023-09-15 18:00:00  avalanche   \nRDNT-WETH              2023-09-01 18:00:00 2023-09-15 18:00:00   arbitrum   \nwstETH/rETH/cbETH      2023-09-01 18:00:00 2023-09-15 18:00:00   arbitrum   \n4POOL-BPT              2023-09-01 18:00:00 2023-09-15 18:00:00   arbitrum   \nwstETH/rETH/sfrxETH    2023-09-01 18:00:00 2023-09-15 18:00:00   arbitrum   \n\n                                                         pool_addr  \nECLP-WMATIC-stMATIC     0xf0ad209e2e969eaaa8c882aac71f02d8a047d5c2  \nmaticX-WMATIC-BPT       0xcd78a20c597e367a4e478a2411ceb790604d7c8f  \nECLP-WMATIC-MATICX      0xee278d943584dd8640eaf4cc6c7a5c80c0073e85  \nstMATIC-WMATIC-BPT      0x89b753153678bc434c610b7e9182297cada8ff29  \nwstETH-WETH-BPT         0xdc31233e09f3bf5bfe5c10da2014677c23b6894c  \nB-rETH-STABLE           0x1e19cf2d73a72ef1332c882f20534b6519be0276  \n50rETH-50BADGER         0x1ee442b5326009bb18f2f472d3e0061513d1a0ff  \nswETH-WETH-BPT          0xe7e2c68d3b13d905bbb636709cf4dfd21076b9d2  \nankrETH/wstETH          0xdfe6e7e18f6cc65fa13c8d8966013d4fda74b6ba  \n20WETH-80ALCX           0xf16aee6a71af1a9bc8f56975a4c2705ca7a782bc  \n50rETH-50RPL            0x9f9d900462492d4c21e9523ca95a7cd86142f298  \nSTG/USDC                0x3ff3a210e57cfe679d9ad1e9ba6453a716c56a2e  \nB-staFiETH-WETH-Stable  0xb08885e6026bab4333a80024ec25a1a3e1ff2b8a  \nGHO/USDT/USDC           0x8353157092ed8be69a9df8f95af097bbf33cb2af  \n50wstETH-50LDO          0x5f1f4e50ba51d723f12385a8a9606afc3a0555f5  \n50wstETH-50ACX          0x36be1e97ea98ab43b4debf92742517266f5731a3  \nECLP-wstETH-cbETH       0xf7a826d47c8e02835d94fb0aa40f0cc9505cb134  \nECLP-wstETH-wETH        0xf01b0684c98cd7ada480bfdf6e43876422fa1fc1  \nbb-WETH-wstETH          0xbad20c15a773bf03ab973302f61fabcea5101f0a  \ncbETH/WETH              0xfb4c2e6e6e27b5b4a07a36360c89ede29bb3c9b6  \nrETH-WETH-BPT           0xc771c1a5905420daec317b154eb13e4198ba97d0  \nsAVAX-WAVAX-BPT         0xfd2620c9cfcec7d152467633b3b0ca338d3d78cc  \nyyAVAX-WAVAX-BPT        0x9fa6ab3d78984a69e712730a2227f20bcc8b5ad9  \nggAVAX-WAVAX-BPT        0xc13546b97b9b1b15372368dc06529d7191081f5b  \nUSDC-USDT-BPT           0xb26f0e66317846bd5fe0cbaa1d269f0efeb05c96  \nBPT                     0x55bec22f8f6c69137ceaf284d9b441db1b9bfedc  \nRDNT-WETH               0x32df62dc3aed2cd6224193052ce665dc18165841  \nwstETH/rETH/cbETH       0x4a2f6ae7f3e5d715689530873ec35593dc28951b  \n4POOL-BPT               0x423a1323c871abc9d89eb06855bf5347048fc4a5  \nwstETH/rETH/sfrxETH     0x0c8972437a38b389ec83d1e666b69b8a4fcf8bfd  ",
      "text/html": "<div>\n<style scoped>\n    .dataframe tbody tr th:only-of-type {\n        vertical-align: middle;\n    }\n\n    .dataframe tbody tr th {\n        vertical-align: top;\n    }\n\n    .dataframe thead th {\n        text-align: right;\n    }\n</style>\n<table border=\"1\" class=\"dataframe\">\n  <thead>\n    <tr style=\"text-align: right;\">\n      <th></th>\n      <th>pool_fee</th>\n      <th>swap_fee</th>\n      <th>bpt_token_fee</th>\n      <th>bpt_token_fee_in_usd</th>\n      <th>token_fees_in_usd</th>\n      <th>time_from</th>\n      <th>time_to</th>\n      <th>chain</th>\n      <th>pool_addr</th>\n    </tr>\n  </thead>\n  <tbody>\n    <tr>\n      <th>ECLP-WMATIC-stMATIC</th>\n      <td>1584.96</td>\n      <td>249.39</td>\n      <td>2946.55</td>\n      <td>1591.32</td>\n      <td>0</td>\n      <td>2023-09-01 18:00:00</td>\n      <td>2023-09-15 18:00:00</td>\n      <td>polygon</td>\n      <td>0xf0ad209e2e969eaaa8c882aac71f02d8a047d5c2</td>\n    </tr>\n    <tr>\n      <th>maticX-WMATIC-BPT</th>\n      <td>1450.10</td>\n      <td>326.70</td>\n      <td>2724.34</td>\n      <td>1459.21</td>\n      <td>0</td>\n      <td>2023-09-01 18:00:00</td>\n      <td>2023-09-15 18:00:00</td>\n      <td>polygon</td>\n      <td>0xcd78a20c597e367a4e478a2411ceb790604d7c8f</td>\n    </tr>\n    <tr>\n      <th>ECLP-WMATIC-MATICX</th>\n      <td>403.27</td>\n      <td>71.47</td>\n      <td>755.16</td>\n      <td>406.22</td>\n      <td>0</td>\n      <td>2023-09-01 18:00:00</td>\n      <td>2023-09-15 18:00:00</td>\n      <td>polygon</td>\n      <td>0xee278d943584dd8640eaf4cc6c7a5c80c0073e85</td>\n    </tr>\n    <tr>\n      <th>stMATIC-WMATIC-BPT</th>\n      <td>2.58</td>\n      <td>1.34</td>\n      <td>4.62</td>\n      <td>2.47</td>\n      <td>0</td>\n      <td>2023-09-01 18:00:00</td>\n      <td>2023-09-15 18:00:00</td>\n      <td>polygon</td>\n      <td>0x89b753153678bc434c610b7e9182297cada8ff29</td>\n    </tr>\n    <tr>\n      <th>wstETH-WETH-BPT</th>\n      <td>0.00</td>\n      <td>0.00</td>\n      <td>0.00</td>\n      <td>0.00</td>\n      <td>0.00</td>\n      <td>2023-09-01 18:00:00</td>\n      <td>2023-09-15 18:00:00</td>\n      <td>polygon</td>\n      <td>0xdc31233e09f3bf5bfe5c10da2014677c23b6894c</td>\n    </tr>\n    <tr>\n      <th>B-rETH-STABLE</th>\n      <td>15892.61</td>\n      <td>2300.19</td>\n      <td>0.00</td>\n      <td>0.00</td>\n      <td>15797.35</td>\n      <td>2023-09-01 18:00:00</td>\n      <td>2023-09-15 18:00:00</td>\n      <td>mainnet</td>\n      <td>0x1e19cf2d73a72ef1332c882f20534b6519be0276</td>\n    </tr>\n    <tr>\n      <th>50rETH-50BADGER</th>\n      <td>9939.15</td>\n      <td>2997.35</td>\n      <td>166.20</td>\n      <td>9826.84</td>\n      <td>0</td>\n      <td>2023-09-01 18:00:00</td>\n      <td>2023-09-15 18:00:00</td>\n      <td>mainnet</td>\n      <td>0x1ee442b5326009bb18f2f472d3e0061513d1a0ff</td>\n    </tr>\n    <tr>\n      <th>swETH-WETH-BPT</th>\n      <td>5502.29</td>\n      <td>634.17</td>\n      <td>3.43</td>\n      <td>5510.58</td>\n      <td>0</td>\n      <td>2023-09-01 18:00:00</td>\n      <td>2023-09-15 18:00:00</td>\n      <td>mainnet</td>\n      <td>0xe7e2c68d3b13d905bbb636709cf4dfd21076b9d2</td>\n    </tr>\n    <tr>\n      <th>ankrETH/wstETH</th>\n      <td>3867.44</td>\n      <td>126.65</td>\n      <td>2.32</td>\n      <td>3789.32</td>\n      <td>0</td>\n      <td>2023-09-01 18:00:00</td>\n      <td>2023-09-15 18:00:00</td>\n      <td>mainnet</td>\n      <td>0xdfe6e7e18f6cc65fa13c8d8966013d4fda74b6ba</td>\n    </tr>\n    <tr>\n      <th>20WETH-80ALCX</th>\n      <td>2393.07</td>\n      <td>4118.43</td>\n      <td>83.27</td>\n      <td>2069.88</td>\n      <td>0</td>\n      <td>2023-09-01 18:00:00</td>\n      <td>2023-09-15 18:00:00</td>\n      <td>mainnet</td>\n      <td>0xf16aee6a71af1a9bc8f56975a4c2705ca7a782bc</td>\n    </tr>\n    <tr>\n      <th>50rETH-50RPL</th>\n      <td>1272.25</td>\n      <td>1209.24</td>\n      <td>6.32</td>\n      <td>1260.83</td>\n      <td>0</td>\n      <td>2023-09-01 18:00:00</td>\n      <td>2023-09-15 18:00:00</td>\n      <td>mainnet</td>\n      <td>0x9f9d900462492d4c21e9523ca95a7cd86142f298</td>\n    </tr>\n    <tr>\n      <th>STG/USDC</th>\n      <td>1262.74</td>\n      <td>8264.76</td>\n      <td>1733.53</td>\n      <td>1239.41</td>\n      <td>0</td>\n      <td>2023-09-01 18:00:00</td>\n      <td>2023-09-15 18:00:00</td>\n      <td>mainnet</td>\n      <td>0x3ff3a210e57cfe679d9ad1e9ba6453a716c56a2e</td>\n    </tr>\n    <tr>\n      <th>B-staFiETH-WETH-Stable</th>\n      <td>1216.06</td>\n      <td>339.32</td>\n      <td>0.00</td>\n      <td>0.00</td>\n      <td>1212.37</td>\n      <td>2023-09-01 18:00:00</td>\n      <td>2023-09-15 18:00:00</td>\n      <td>mainnet</td>\n      <td>0xb08885e6026bab4333a80024ec25a1a3e1ff2b8a</td>\n    </tr>\n    <tr>\n      <th>GHO/USDT/USDC</th>\n      <td>1142.27</td>\n      <td>1871.72</td>\n      <td>0.00</td>\n      <td>0.00</td>\n      <td>0.00</td>\n      <td>2023-09-01 18:00:00</td>\n      <td>2023-09-15 18:00:00</td>\n      <td>mainnet</td>\n      <td>0x8353157092ed8be69a9df8f95af097bbf33cb2af</td>\n    </tr>\n    <tr>\n      <th>50wstETH-50LDO</th>\n      <td>631.08</td>\n      <td>255.37</td>\n      <td>11.58</td>\n      <td>613.41</td>\n      <td>0</td>\n      <td>2023-09-01 18:00:00</td>\n      <td>2023-09-15 18:00:00</td>\n      <td>mainnet</td>\n      <td>0x5f1f4e50ba51d723f12385a8a9606afc3a0555f5</td>\n    </tr>\n    <tr>\n      <th>50wstETH-50ACX</th>\n      <td>382.23</td>\n      <td>1420.64</td>\n      <td>38.01</td>\n      <td>381.44</td>\n      <td>0</td>\n      <td>2023-09-01 18:00:00</td>\n      <td>2023-09-15 18:00:00</td>\n      <td>mainnet</td>\n      <td>0x36be1e97ea98ab43b4debf92742517266f5731a3</td>\n    </tr>\n    <tr>\n      <th>ECLP-wstETH-cbETH</th>\n      <td>0.00</td>\n      <td>0.00</td>\n      <td>0.00</td>\n      <td>0.00</td>\n      <td>0.00</td>\n      <td>2023-09-01 18:00:00</td>\n      <td>2023-09-15 18:00:00</td>\n      <td>mainnet</td>\n      <td>0xf7a826d47c8e02835d94fb0aa40f0cc9505cb134</td>\n    </tr>\n    <tr>\n      <th>ECLP-wstETH-wETH</th>\n      <td>0.00</td>\n      <td>0.00</td>\n      <td>0.00</td>\n      <td>0.00</td>\n      <td>0.00</td>\n      <td>2023-09-01 18:00:00</td>\n      <td>2023-09-15 18:00:00</td>\n      <td>mainnet</td>\n      <td>0xf01b0684c98cd7ada480bfdf6e43876422fa1fc1</td>\n    </tr>\n    <tr>\n      <th>bb-WETH-wstETH</th>\n      <td>3361.72</td>\n      <td>15.05</td>\n      <td>2.06</td>\n      <td>3343.47</td>\n      <td>0</td>\n      <td>2023-09-01 18:00:00</td>\n      <td>2023-09-15 18:00:00</td>\n      <td>gnosis</td>\n      <td>0xbad20c15a773bf03ab973302f61fabcea5101f0a</td>\n    </tr>\n    <tr>\n      <th>cbETH/WETH</th>\n      <td>1861.50</td>\n      <td>1117.90</td>\n      <td>1.14</td>\n      <td>1847.83</td>\n      <td>0</td>\n      <td>2023-09-01 18:00:00</td>\n      <td>2023-09-15 18:00:00</td>\n      <td>base</td>\n      <td>0xfb4c2e6e6e27b5b4a07a36360c89ede29bb3c9b6</td>\n    </tr>\n    <tr>\n      <th>rETH-WETH-BPT</th>\n      <td>401.34</td>\n      <td>223.34</td>\n      <td>0.00</td>\n      <td>0.00</td>\n      <td>0.00</td>\n      <td>2023-09-01 18:00:00</td>\n      <td>2023-09-15 18:00:00</td>\n      <td>base</td>\n      <td>0xc771c1a5905420daec317b154eb13e4198ba97d0</td>\n    </tr>\n    <tr>\n      <th>sAVAX-WAVAX-BPT</th>\n      <td>3230.30</td>\n      <td>757.35</td>\n      <td>254.06</td>\n      <td>2462.77</td>\n      <td>0</td>\n      <td>2023-09-01 18:00:00</td>\n      <td>2023-09-15 18:00:00</td>\n      <td>avalanche</td>\n      <td>0xfd2620c9cfcec7d152467633b3b0ca338d3d78cc</td>\n    </tr>\n    <tr>\n      <th>yyAVAX-WAVAX-BPT</th>\n      <td>1039.56</td>\n      <td>3.46</td>\n      <td>81.63</td>\n      <td>791.60</td>\n      <td>0</td>\n      <td>2023-09-01 18:00:00</td>\n      <td>2023-09-15 18:00:00</td>\n      <td>avalanche</td>\n      <td>0x9fa6ab3d78984a69e712730a2227f20bcc8b5ad9</td>\n    </tr>\n    <tr>\n      <th>ggAVAX-WAVAX-BPT</th>\n      <td>547.02</td>\n      <td>3.58</td>\n      <td>43.02</td>\n      <td>418.90</td>\n      <td>0</td>\n      <td>2023-09-01 18:00:00</td>\n      <td>2023-09-15 18:00:00</td>\n      <td>avalanche</td>\n      <td>0xc13546b97b9b1b15372368dc06529d7191081f5b</td>\n    </tr>\n    <tr>\n      <th>USDC-USDT-BPT</th>\n      <td>122.44</td>\n      <td>207.94</td>\n      <td>122.40</td>\n      <td>122.41</td>\n      <td>0</td>\n      <td>2023-09-01 18:00:00</td>\n      <td>2023-09-15 18:00:00</td>\n      <td>avalanche</td>\n      <td>0xb26f0e66317846bd5fe0cbaa1d269f0efeb05c96</td>\n    </tr>\n    <tr>\n      <th>BPT</th>\n      <td>0.00</td>\n      <td>97.45</td>\n      <td>0.00</td>\n      <td>0.00</td>\n      <td>0.00</td>\n      <td>2023-09-01 18:00:00</td>\n      <td>2023-09-15 18:00:00</td>\n      <td>avalanche</td>\n      <td>0x55bec22f8f6c69137ceaf284d9b441db1b9bfedc</td>\n    </tr>\n    <tr>\n      <th>RDNT-WETH</th>\n      <td>11108.53</td>\n      <td>20103.97</td>\n      <td>10471.27</td>\n      <td>11361.56</td>\n      <td>0</td>\n      <td>2023-09-01 18:00:00</td>\n      <td>2023-09-15 18:00:00</td>\n      <td>arbitrum</td>\n      <td>0x32df62dc3aed2cd6224193052ce665dc18165841</td>\n    </tr>\n    <tr>\n      <th>wstETH/rETH/cbETH</th>\n      <td>1008.43</td>\n      <td>358.60</td>\n      <td>1.22</td>\n      <td>1981.51</td>\n      <td>0</td>\n      <td>2023-09-01 18:00:00</td>\n      <td>2023-09-15 18:00:00</td>\n      <td>arbitrum</td>\n      <td>0x4a2f6ae7f3e5d715689530873ec35593dc28951b</td>\n    </tr>\n    <tr>\n      <th>4POOL-BPT</th>\n      <td>475.95</td>\n      <td>832.86</td>\n      <td>475.65</td>\n      <td>475.79</td>\n      <td>0</td>\n      <td>2023-09-01 18:00:00</td>\n      <td>2023-09-15 18:00:00</td>\n      <td>arbitrum</td>\n      <td>0x423a1323c871abc9d89eb06855bf5347048fc4a5</td>\n    </tr>\n    <tr>\n      <th>wstETH/rETH/sfrxETH</th>\n      <td>0.01</td>\n      <td>0.00</td>\n      <td>0.00</td>\n      <td>0.02</td>\n      <td>0</td>\n      <td>2023-09-01 18:00:00</td>\n      <td>2023-09-15 18:00:00</td>\n      <td>arbitrum</td>\n      <td>0x0c8972437a38b389ec83d1e666b69b8a4fcf8bfd</td>\n    </tr>\n  </tbody>\n</table>\n</div>"
     },
     "execution_count": 8,
     "metadata": {},
     "output_type": "execute_result"
    }
   ],
   "source": [
    "# Remove `token_fees` field from dataframe, as it's too big\n",
    "joint_fees_df_copy = joint_fees_df.drop(columns=['token_fees'])\n",
    "# Display all rows in dataframe\n",
    "pd.set_option('display.max_rows', 1000)\n",
    "joint_fees_df_copy.sort_values(by=['chain', 'pool_fee'], ascending=False)"
   ],
   "metadata": {
    "collapsed": false,
    "ExecuteTime": {
     "end_time": "2023-09-26T12:18:49.504235Z",
     "start_time": "2023-09-26T12:18:49.470491Z"
    }
   },
   "id": "52fccc19e5e6b4f2"
  },
  {
   "cell_type": "markdown",
   "source": [
    "## Now let's calculate bribes paid to the pools"
   ],
   "metadata": {
    "collapsed": false
   },
   "id": "97a5370819f28ffc"
  },
  {
   "cell_type": "code",
   "execution_count": 46,
   "outputs": [
    {
     "data": {
      "text/plain": "                            chain aura_bribes bal_bribes pool_fees_collected  \\\nwstETH/rETH/cbETH        arbitrum      461.01     698.09             1981.51   \n4POOL-BPT                arbitrum      110.69     167.62              475.79   \nRDNT-WETH                arbitrum     2643.32    4002.69            11361.56   \nwstETH/rETH/sfrxETH      arbitrum        0.00       0.01                0.02   \nsAVAX-WAVAX-BPT         avalanche     1021.00    1546.07             2462.77   \nggAVAX-WAVAX-BPT        avalanche      173.67     262.98              418.90   \nyyAVAX-WAVAX-BPT        avalanche      328.18     496.95              791.60   \nUSDC-USDT-BPT           avalanche       50.75      76.85              122.41   \nBPT                     avalanche        0.00       0.00                0.00   \nrETH-WETH-BPT                base        0.00       0.00                0.00   \ncbETH/WETH                   base    10899.48   16504.73             1847.83   \nbb-WETH-wstETH             gnosis      118.08     178.80             3343.47   \nB-rETH-STABLE             mainnet     5074.67    7684.40            15797.35   \nswETH-WETH-BPT            mainnet     1770.19    2680.55             5510.58   \nECLP-wstETH-cbETH         mainnet        0.00       0.00                0.00   \n20WETH-80ALCX             mainnet      664.92    1006.86             2069.88   \nB-staFiETH-WETH-Stable    mainnet      389.46     589.74             1212.37   \nGHO/USDT/USDC             mainnet        0.00       0.00                0.00   \nankrETH/wstETH            mainnet     1217.26    1843.26             3789.32   \n50wstETH-50LDO            mainnet      197.05     298.38              613.41   \n50rETH-50BADGER           mainnet     3156.73    4780.13             9826.84   \n50rETH-50RPL              mainnet      405.02     613.31             1260.83   \nSTG/USDC                  mainnet      398.14     602.89             1239.41   \nECLP-wstETH-wETH          mainnet        0.00       0.00                0.00   \n50wstETH-50ACX            mainnet      122.53     185.55              381.44   \nwstETH-WETH-BPT           polygon        0.00       0.00                0.00   \nECLP-WMATIC-stMATIC       polygon      474.80     718.97             1591.32   \nECLP-WMATIC-MATICX        polygon      121.20     183.53              406.22   \nstMATIC-WMATIC-BPT        polygon        0.74       1.12                2.47   \nmaticX-WMATIC-BPT         polygon      435.38     659.29             1459.21   \n\n                       revenue_fees  \\\nwstETH/rETH/cbETH           990.755   \n4POOL-BPT                   237.895   \nRDNT-WETH                  5680.780   \nwstETH/rETH/sfrxETH           0.010   \nsAVAX-WAVAX-BPT            1231.385   \nggAVAX-WAVAX-BPT            209.450   \nyyAVAX-WAVAX-BPT            395.800   \nUSDC-USDT-BPT                61.205   \nBPT                           0.000   \nrETH-WETH-BPT                 0.000   \ncbETH/WETH                  923.915   \nbb-WETH-wstETH             1671.735   \nB-rETH-STABLE              7898.675   \nswETH-WETH-BPT             2755.290   \nECLP-wstETH-cbETH             0.000   \n20WETH-80ALCX              1034.940   \nB-staFiETH-WETH-Stable      606.185   \nGHO/USDT/USDC                 0.000   \nankrETH/wstETH             1894.660   \n50wstETH-50LDO              306.705   \n50rETH-50BADGER            4913.420   \n50rETH-50RPL                630.415   \nSTG/USDC                    619.705   \nECLP-wstETH-wETH              0.000   \n50wstETH-50ACX              190.720   \nwstETH-WETH-BPT               0.000   \nECLP-WMATIC-stMATIC         795.660   \nECLP-WMATIC-MATICX          203.110   \nstMATIC-WMATIC-BPT            1.235   \nmaticX-WMATIC-BPT           729.605   \n\n                                                         pool_addr  \\\nwstETH/rETH/cbETH       0x4a2f6ae7f3e5d715689530873ec35593dc28951b   \n4POOL-BPT               0x423a1323c871abc9d89eb06855bf5347048fc4a5   \nRDNT-WETH               0x32df62dc3aed2cd6224193052ce665dc18165841   \nwstETH/rETH/sfrxETH     0x0c8972437a38b389ec83d1e666b69b8a4fcf8bfd   \nsAVAX-WAVAX-BPT         0xfd2620c9cfcec7d152467633b3b0ca338d3d78cc   \nggAVAX-WAVAX-BPT        0xc13546b97b9b1b15372368dc06529d7191081f5b   \nyyAVAX-WAVAX-BPT        0x9fa6ab3d78984a69e712730a2227f20bcc8b5ad9   \nUSDC-USDT-BPT           0xb26f0e66317846bd5fe0cbaa1d269f0efeb05c96   \nBPT                     0x55bec22f8f6c69137ceaf284d9b441db1b9bfedc   \nrETH-WETH-BPT           0xc771c1a5905420daec317b154eb13e4198ba97d0   \ncbETH/WETH              0xfb4c2e6e6e27b5b4a07a36360c89ede29bb3c9b6   \nbb-WETH-wstETH          0xbad20c15a773bf03ab973302f61fabcea5101f0a   \nB-rETH-STABLE           0x1e19cf2d73a72ef1332c882f20534b6519be0276   \nswETH-WETH-BPT          0xe7e2c68d3b13d905bbb636709cf4dfd21076b9d2   \nECLP-wstETH-cbETH       0xf7a826d47c8e02835d94fb0aa40f0cc9505cb134   \n20WETH-80ALCX           0xf16aee6a71af1a9bc8f56975a4c2705ca7a782bc   \nB-staFiETH-WETH-Stable  0xb08885e6026bab4333a80024ec25a1a3e1ff2b8a   \nGHO/USDT/USDC           0x8353157092ed8be69a9df8f95af097bbf33cb2af   \nankrETH/wstETH          0xdfe6e7e18f6cc65fa13c8d8966013d4fda74b6ba   \n50wstETH-50LDO          0x5f1f4e50ba51d723f12385a8a9606afc3a0555f5   \n50rETH-50BADGER         0x1ee442b5326009bb18f2f472d3e0061513d1a0ff   \n50rETH-50RPL            0x9f9d900462492d4c21e9523ca95a7cd86142f298   \nSTG/USDC                0x3ff3a210e57cfe679d9ad1e9ba6453a716c56a2e   \nECLP-wstETH-wETH        0xf01b0684c98cd7ada480bfdf6e43876422fa1fc1   \n50wstETH-50ACX          0x36be1e97ea98ab43b4debf92742517266f5731a3   \nwstETH-WETH-BPT         0xdc31233e09f3bf5bfe5c10da2014677c23b6894c   \nECLP-WMATIC-stMATIC     0xf0ad209e2e969eaaa8c882aac71f02d8a047d5c2   \nECLP-WMATIC-MATICX      0xee278d943584dd8640eaf4cc6c7a5c80c0073e85   \nstMATIC-WMATIC-BPT      0x89b753153678bc434c610b7e9182297cada8ff29   \nmaticX-WMATIC-BPT       0xcd78a20c597e367a4e478a2411ceb790604d7c8f   \n\n                                     pool_name  \nwstETH/rETH/cbETH            wstETH/rETH/cbETH  \n4POOL-BPT                            4POOL-BPT  \nRDNT-WETH                            RDNT-WETH  \nwstETH/rETH/sfrxETH        wstETH/rETH/sfrxETH  \nsAVAX-WAVAX-BPT                sAVAX-WAVAX-BPT  \nggAVAX-WAVAX-BPT              ggAVAX-WAVAX-BPT  \nyyAVAX-WAVAX-BPT              yyAVAX-WAVAX-BPT  \nUSDC-USDT-BPT                    USDC-USDT-BPT  \nBPT                                        BPT  \nrETH-WETH-BPT                    rETH-WETH-BPT  \ncbETH/WETH                          cbETH/WETH  \nbb-WETH-wstETH                  bb-WETH-wstETH  \nB-rETH-STABLE                    B-rETH-STABLE  \nswETH-WETH-BPT                  swETH-WETH-BPT  \nECLP-wstETH-cbETH            ECLP-wstETH-cbETH  \n20WETH-80ALCX                    20WETH-80ALCX  \nB-staFiETH-WETH-Stable  B-staFiETH-WETH-Stable  \nGHO/USDT/USDC                    GHO/USDT/USDC  \nankrETH/wstETH                  ankrETH/wstETH  \n50wstETH-50LDO                  50wstETH-50LDO  \n50rETH-50BADGER                50rETH-50BADGER  \n50rETH-50RPL                      50rETH-50RPL  \nSTG/USDC                              STG/USDC  \nECLP-wstETH-wETH              ECLP-wstETH-wETH  \n50wstETH-50ACX                  50wstETH-50ACX  \nwstETH-WETH-BPT                wstETH-WETH-BPT  \nECLP-WMATIC-stMATIC        ECLP-WMATIC-stMATIC  \nECLP-WMATIC-MATICX          ECLP-WMATIC-MATICX  \nstMATIC-WMATIC-BPT          stMATIC-WMATIC-BPT  \nmaticX-WMATIC-BPT            maticX-WMATIC-BPT  ",
      "text/html": "<div>\n<style scoped>\n    .dataframe tbody tr th:only-of-type {\n        vertical-align: middle;\n    }\n\n    .dataframe tbody tr th {\n        vertical-align: top;\n    }\n\n    .dataframe thead th {\n        text-align: right;\n    }\n</style>\n<table border=\"1\" class=\"dataframe\">\n  <thead>\n    <tr style=\"text-align: right;\">\n      <th></th>\n      <th>chain</th>\n      <th>aura_bribes</th>\n      <th>bal_bribes</th>\n      <th>pool_fees_collected</th>\n      <th>revenue_fees</th>\n      <th>pool_addr</th>\n      <th>pool_name</th>\n    </tr>\n  </thead>\n  <tbody>\n    <tr>\n      <th>wstETH/rETH/cbETH</th>\n      <td>arbitrum</td>\n      <td>461.01</td>\n      <td>698.09</td>\n      <td>1981.51</td>\n      <td>990.755</td>\n      <td>0x4a2f6ae7f3e5d715689530873ec35593dc28951b</td>\n      <td>wstETH/rETH/cbETH</td>\n    </tr>\n    <tr>\n      <th>4POOL-BPT</th>\n      <td>arbitrum</td>\n      <td>110.69</td>\n      <td>167.62</td>\n      <td>475.79</td>\n      <td>237.895</td>\n      <td>0x423a1323c871abc9d89eb06855bf5347048fc4a5</td>\n      <td>4POOL-BPT</td>\n    </tr>\n    <tr>\n      <th>RDNT-WETH</th>\n      <td>arbitrum</td>\n      <td>2643.32</td>\n      <td>4002.69</td>\n      <td>11361.56</td>\n      <td>5680.780</td>\n      <td>0x32df62dc3aed2cd6224193052ce665dc18165841</td>\n      <td>RDNT-WETH</td>\n    </tr>\n    <tr>\n      <th>wstETH/rETH/sfrxETH</th>\n      <td>arbitrum</td>\n      <td>0.00</td>\n      <td>0.01</td>\n      <td>0.02</td>\n      <td>0.010</td>\n      <td>0x0c8972437a38b389ec83d1e666b69b8a4fcf8bfd</td>\n      <td>wstETH/rETH/sfrxETH</td>\n    </tr>\n    <tr>\n      <th>sAVAX-WAVAX-BPT</th>\n      <td>avalanche</td>\n      <td>1021.00</td>\n      <td>1546.07</td>\n      <td>2462.77</td>\n      <td>1231.385</td>\n      <td>0xfd2620c9cfcec7d152467633b3b0ca338d3d78cc</td>\n      <td>sAVAX-WAVAX-BPT</td>\n    </tr>\n    <tr>\n      <th>ggAVAX-WAVAX-BPT</th>\n      <td>avalanche</td>\n      <td>173.67</td>\n      <td>262.98</td>\n      <td>418.90</td>\n      <td>209.450</td>\n      <td>0xc13546b97b9b1b15372368dc06529d7191081f5b</td>\n      <td>ggAVAX-WAVAX-BPT</td>\n    </tr>\n    <tr>\n      <th>yyAVAX-WAVAX-BPT</th>\n      <td>avalanche</td>\n      <td>328.18</td>\n      <td>496.95</td>\n      <td>791.60</td>\n      <td>395.800</td>\n      <td>0x9fa6ab3d78984a69e712730a2227f20bcc8b5ad9</td>\n      <td>yyAVAX-WAVAX-BPT</td>\n    </tr>\n    <tr>\n      <th>USDC-USDT-BPT</th>\n      <td>avalanche</td>\n      <td>50.75</td>\n      <td>76.85</td>\n      <td>122.41</td>\n      <td>61.205</td>\n      <td>0xb26f0e66317846bd5fe0cbaa1d269f0efeb05c96</td>\n      <td>USDC-USDT-BPT</td>\n    </tr>\n    <tr>\n      <th>BPT</th>\n      <td>avalanche</td>\n      <td>0.00</td>\n      <td>0.00</td>\n      <td>0.00</td>\n      <td>0.000</td>\n      <td>0x55bec22f8f6c69137ceaf284d9b441db1b9bfedc</td>\n      <td>BPT</td>\n    </tr>\n    <tr>\n      <th>rETH-WETH-BPT</th>\n      <td>base</td>\n      <td>0.00</td>\n      <td>0.00</td>\n      <td>0.00</td>\n      <td>0.000</td>\n      <td>0xc771c1a5905420daec317b154eb13e4198ba97d0</td>\n      <td>rETH-WETH-BPT</td>\n    </tr>\n    <tr>\n      <th>cbETH/WETH</th>\n      <td>base</td>\n      <td>10899.48</td>\n      <td>16504.73</td>\n      <td>1847.83</td>\n      <td>923.915</td>\n      <td>0xfb4c2e6e6e27b5b4a07a36360c89ede29bb3c9b6</td>\n      <td>cbETH/WETH</td>\n    </tr>\n    <tr>\n      <th>bb-WETH-wstETH</th>\n      <td>gnosis</td>\n      <td>118.08</td>\n      <td>178.80</td>\n      <td>3343.47</td>\n      <td>1671.735</td>\n      <td>0xbad20c15a773bf03ab973302f61fabcea5101f0a</td>\n      <td>bb-WETH-wstETH</td>\n    </tr>\n    <tr>\n      <th>B-rETH-STABLE</th>\n      <td>mainnet</td>\n      <td>5074.67</td>\n      <td>7684.40</td>\n      <td>15797.35</td>\n      <td>7898.675</td>\n      <td>0x1e19cf2d73a72ef1332c882f20534b6519be0276</td>\n      <td>B-rETH-STABLE</td>\n    </tr>\n    <tr>\n      <th>swETH-WETH-BPT</th>\n      <td>mainnet</td>\n      <td>1770.19</td>\n      <td>2680.55</td>\n      <td>5510.58</td>\n      <td>2755.290</td>\n      <td>0xe7e2c68d3b13d905bbb636709cf4dfd21076b9d2</td>\n      <td>swETH-WETH-BPT</td>\n    </tr>\n    <tr>\n      <th>ECLP-wstETH-cbETH</th>\n      <td>mainnet</td>\n      <td>0.00</td>\n      <td>0.00</td>\n      <td>0.00</td>\n      <td>0.000</td>\n      <td>0xf7a826d47c8e02835d94fb0aa40f0cc9505cb134</td>\n      <td>ECLP-wstETH-cbETH</td>\n    </tr>\n    <tr>\n      <th>20WETH-80ALCX</th>\n      <td>mainnet</td>\n      <td>664.92</td>\n      <td>1006.86</td>\n      <td>2069.88</td>\n      <td>1034.940</td>\n      <td>0xf16aee6a71af1a9bc8f56975a4c2705ca7a782bc</td>\n      <td>20WETH-80ALCX</td>\n    </tr>\n    <tr>\n      <th>B-staFiETH-WETH-Stable</th>\n      <td>mainnet</td>\n      <td>389.46</td>\n      <td>589.74</td>\n      <td>1212.37</td>\n      <td>606.185</td>\n      <td>0xb08885e6026bab4333a80024ec25a1a3e1ff2b8a</td>\n      <td>B-staFiETH-WETH-Stable</td>\n    </tr>\n    <tr>\n      <th>GHO/USDT/USDC</th>\n      <td>mainnet</td>\n      <td>0.00</td>\n      <td>0.00</td>\n      <td>0.00</td>\n      <td>0.000</td>\n      <td>0x8353157092ed8be69a9df8f95af097bbf33cb2af</td>\n      <td>GHO/USDT/USDC</td>\n    </tr>\n    <tr>\n      <th>ankrETH/wstETH</th>\n      <td>mainnet</td>\n      <td>1217.26</td>\n      <td>1843.26</td>\n      <td>3789.32</td>\n      <td>1894.660</td>\n      <td>0xdfe6e7e18f6cc65fa13c8d8966013d4fda74b6ba</td>\n      <td>ankrETH/wstETH</td>\n    </tr>\n    <tr>\n      <th>50wstETH-50LDO</th>\n      <td>mainnet</td>\n      <td>197.05</td>\n      <td>298.38</td>\n      <td>613.41</td>\n      <td>306.705</td>\n      <td>0x5f1f4e50ba51d723f12385a8a9606afc3a0555f5</td>\n      <td>50wstETH-50LDO</td>\n    </tr>\n    <tr>\n      <th>50rETH-50BADGER</th>\n      <td>mainnet</td>\n      <td>3156.73</td>\n      <td>4780.13</td>\n      <td>9826.84</td>\n      <td>4913.420</td>\n      <td>0x1ee442b5326009bb18f2f472d3e0061513d1a0ff</td>\n      <td>50rETH-50BADGER</td>\n    </tr>\n    <tr>\n      <th>50rETH-50RPL</th>\n      <td>mainnet</td>\n      <td>405.02</td>\n      <td>613.31</td>\n      <td>1260.83</td>\n      <td>630.415</td>\n      <td>0x9f9d900462492d4c21e9523ca95a7cd86142f298</td>\n      <td>50rETH-50RPL</td>\n    </tr>\n    <tr>\n      <th>STG/USDC</th>\n      <td>mainnet</td>\n      <td>398.14</td>\n      <td>602.89</td>\n      <td>1239.41</td>\n      <td>619.705</td>\n      <td>0x3ff3a210e57cfe679d9ad1e9ba6453a716c56a2e</td>\n      <td>STG/USDC</td>\n    </tr>\n    <tr>\n      <th>ECLP-wstETH-wETH</th>\n      <td>mainnet</td>\n      <td>0.00</td>\n      <td>0.00</td>\n      <td>0.00</td>\n      <td>0.000</td>\n      <td>0xf01b0684c98cd7ada480bfdf6e43876422fa1fc1</td>\n      <td>ECLP-wstETH-wETH</td>\n    </tr>\n    <tr>\n      <th>50wstETH-50ACX</th>\n      <td>mainnet</td>\n      <td>122.53</td>\n      <td>185.55</td>\n      <td>381.44</td>\n      <td>190.720</td>\n      <td>0x36be1e97ea98ab43b4debf92742517266f5731a3</td>\n      <td>50wstETH-50ACX</td>\n    </tr>\n    <tr>\n      <th>wstETH-WETH-BPT</th>\n      <td>polygon</td>\n      <td>0.00</td>\n      <td>0.00</td>\n      <td>0.00</td>\n      <td>0.000</td>\n      <td>0xdc31233e09f3bf5bfe5c10da2014677c23b6894c</td>\n      <td>wstETH-WETH-BPT</td>\n    </tr>\n    <tr>\n      <th>ECLP-WMATIC-stMATIC</th>\n      <td>polygon</td>\n      <td>474.80</td>\n      <td>718.97</td>\n      <td>1591.32</td>\n      <td>795.660</td>\n      <td>0xf0ad209e2e969eaaa8c882aac71f02d8a047d5c2</td>\n      <td>ECLP-WMATIC-stMATIC</td>\n    </tr>\n    <tr>\n      <th>ECLP-WMATIC-MATICX</th>\n      <td>polygon</td>\n      <td>121.20</td>\n      <td>183.53</td>\n      <td>406.22</td>\n      <td>203.110</td>\n      <td>0xee278d943584dd8640eaf4cc6c7a5c80c0073e85</td>\n      <td>ECLP-WMATIC-MATICX</td>\n    </tr>\n    <tr>\n      <th>stMATIC-WMATIC-BPT</th>\n      <td>polygon</td>\n      <td>0.74</td>\n      <td>1.12</td>\n      <td>2.47</td>\n      <td>1.235</td>\n      <td>0x89b753153678bc434c610b7e9182297cada8ff29</td>\n      <td>stMATIC-WMATIC-BPT</td>\n    </tr>\n    <tr>\n      <th>maticX-WMATIC-BPT</th>\n      <td>polygon</td>\n      <td>435.38</td>\n      <td>659.29</td>\n      <td>1459.21</td>\n      <td>729.605</td>\n      <td>0xcd78a20c597e367a4e478a2411ceb790604d7c8f</td>\n      <td>maticX-WMATIC-BPT</td>\n    </tr>\n  </tbody>\n</table>\n</div>"
     },
     "execution_count": 46,
     "metadata": {},
     "output_type": "execute_result"
    }
   ],
   "source": [
    "from notebooks import calculate_aura_vebal_share\n",
    "\n",
    "aura_vebal_share = calculate_aura_vebal_share(eth_web3, mainnet_block)\n",
    "\n",
    "# Bribes are split per chain and per pool, with each pool getting a share of the bribe proportional to its share of fees\n",
    "# paid by all pools on that chain. For example, if pool A paid 10% of all fees on Arbitrum, it will get 10% of the bribes. That 10% will be distributed between aura and vebal, proportional to their share of the bribe.\n",
    "FEE = Decimal(0.5)  # 50% goes to fees\n",
    "\n",
    "\n",
    "# Let's calculate share of fees paid by each pool on each chain\n",
    "def calc_and_split_bribes(fees: Dict, chain: str, fees_to_distribute: Decimal) -> Dict[str, Dict]:\n",
    "    pool_bribs = {}\n",
    "    # Calculate pool share in fees\n",
    "    total_fees = sum([data['pool_fee'] for pool, data in fees.items()])\n",
    "    for pool, data in fees.items():\n",
    "        pool_fees = data['bpt_token_fee_in_usd'] + data['token_fees_in_usd']\n",
    "        pool_share = pool_fees / Decimal(total_fees)\n",
    "        # Split fees between aura and bal fees\n",
    "        pool_bribs[pool] = {\n",
    "            \"chain\": chain,\n",
    "            \"aura_bribes\": round(pool_share * fees_to_distribute * aura_vebal_share * FEE, 2),\n",
    "            \"bal_bribes\": round(pool_share * fees_to_distribute * (1 - aura_vebal_share) * FEE, 2),\n",
    "            \"pool_fees_collected\": pool_fees,\n",
    "            \"revenue_fees\": pool_fees * FEE,\n",
    "            # \"pool_share\": f\"{round(pool_share * 100, 2)}%\",\n",
    "            \"pool_addr\": data['pool_addr'],\n",
    "            \"pool_name\": pool,\n",
    "        }\n",
    "    return pool_bribs\n",
    "\n",
    "\n",
    "# TODO: Move to constants\n",
    "mainnet_bribes = calc_and_split_bribes(mainnet_fees, 'mainnet', Decimal(81763))\n",
    "arb_bribes = calc_and_split_bribes(arb_fees, 'arbitrum', Decimal(18523))\n",
    "polygon_bribes = calc_and_split_bribes(polygon_fees, 'polygon', Decimal(5162.59))\n",
    "base_bribes = calc_and_split_bribes(base_fees, 'base', Decimal(67118))\n",
    "gnosis_bribes = calc_and_split_bribes(gnosis_fees, 'gnosis', Decimal(597))\n",
    "avax_bribes = calc_and_split_bribes(avax_fees, 'avalanche', Decimal(10297))\n",
    "# Convert to dataframe\n",
    "joint_bribes_data = {**arb_bribes, **mainnet_bribes, **polygon_bribes, **base_bribes, **gnosis_bribes, **avax_bribes}\n",
    "# Sort by chain:\n",
    "joint_bribes_data = {k: v for k, v in sorted(joint_bribes_data.items(), key=lambda item: item[1]['chain'])}\n",
    "joint_bribes_df = pd.DataFrame.from_dict(joint_bribes_data, orient='index')\n",
    "# Sort by chain\n",
    "# Dump into csv and prefix with dates\n",
    "joint_bribes_df.to_csv(f'./output/bribes_{arb_datetime_2_weeks_ago.date()}_{arb_datetime_now.date()}.csv')\n",
    "joint_bribes_df"
   ],
   "metadata": {
    "collapsed": false,
    "ExecuteTime": {
     "end_time": "2023-09-26T12:52:28.903596Z",
     "start_time": "2023-09-26T12:52:27.997231Z"
    }
   },
   "id": "efdef306c522076a"
  },
  {
   "cell_type": "code",
   "execution_count": 47,
   "outputs": [],
   "source": [
    "from notebooks import fetch_all_pools_info\n",
    "\n",
    "mainnet_pools_info = fetch_all_pools_info('mainnet')\n",
    "arb_pools_info = fetch_all_pools_info('arbitrum')\n",
    "polygon_pools_info = fetch_all_pools_info('polygon')\n",
    "base_pools_info = fetch_all_pools_info('base')\n",
    "gnosis_pools_info = fetch_all_pools_info('gnosis')\n",
    "avax_pools_info = fetch_all_pools_info('avalanche')\n",
    "\n",
    "mainnet_gauges = {pool_info['address']: Web3.to_checksum_address(pool_info['gauge']['address']) for pool_info in\n",
    "                  mainnet_pools_info}\n",
    "arb_gauges = {pool_info['address']: Web3.to_checksum_address(pool_info['gauge']['address']) for pool_info in\n",
    "              arb_pools_info}\n",
    "polygon_gauges = {pool_info['address']: Web3.to_checksum_address(pool_info['gauge']['address']) for pool_info in\n",
    "                  polygon_pools_info}\n",
    "base_gauges = {pool_info['address']: Web3.to_checksum_address(pool_info['gauge']['address']) for pool_info in\n",
    "               base_pools_info}\n",
    "gnosis_gauges = {pool_info['address']: Web3.to_checksum_address(pool_info['gauge']['address']) for pool_info in\n",
    "                 gnosis_pools_info}\n",
    "avax_gauges = {pool_info['address']: Web3.to_checksum_address(pool_info['gauge']['address']) for pool_info in\n",
    "               avax_pools_info}\n",
    "# Put it all into mapping per chain:\n",
    "mapped_gauges = {\n",
    "    'mainnet': mainnet_gauges,\n",
    "    'arbitrum': arb_gauges,\n",
    "    'polygon': polygon_gauges,\n",
    "    'base': base_gauges,\n",
    "    'gnosis': gnosis_gauges,\n",
    "    'avalanche': avax_gauges,\n",
    "}"
   ],
   "metadata": {
    "collapsed": false,
    "ExecuteTime": {
     "end_time": "2023-09-26T12:53:02.854088Z",
     "start_time": "2023-09-26T12:52:52.726672Z"
    }
   },
   "id": "93d3b07a2ccb9a32"
  },
  {
   "cell_type": "code",
   "execution_count": 76,
   "outputs": [],
   "source": [
    "# Load csv sheet to compare with the data collected above:\n",
    "bribes_df = pd.read_csv('compare_sheet.csv')\n",
    "# To dict:\n",
    "bribes_to_compare = bribes_df.to_dict(orient='records')\n",
    "# Each dict in list needs target to be Web3.toChecksumAddress\n",
    "bribes_csv_checksummed = []\n",
    "for bribe in bribes_to_compare:\n",
    "    bribes_csv_checksummed.append({\n",
    "        'target': Web3.to_checksum_address(bribe['target']),\n",
    "        'platform': bribe['platform'],\n",
    "        'amount': bribe['amount'],\n",
    "    })\n",
    "# These are bribes paid de-facto, so we need to convert them to the same format as we have in our data\n",
    "bribes_final_csv = {}\n",
    "for bribe in bribes_csv_checksummed:\n",
    "    if bribe['target'] not in bribes_final_csv:\n",
    "        bribes_final_csv[bribe['target']] = {}\n",
    "    bribes_final_csv[bribe['target']][bribe['platform']] = Decimal(bribe['amount'])"
   ],
   "metadata": {
    "collapsed": false,
    "ExecuteTime": {
     "end_time": "2023-09-26T13:11:51.114885Z",
     "start_time": "2023-09-26T13:11:51.090026Z"
    }
   },
   "id": "533bf5074506799f"
  },
  {
   "cell_type": "markdown",
   "source": [
    "## Compare data from the sheet with the data we collected\n",
    "What does table below represent:\n",
    "- aura_automated_bribe: bribes paid to aura per pool calculated in this notebook\n",
    "- aura_actual_bribe: actual bribes paid to aura per pool from the sheet\n",
    "- aura_bribe_delta: difference between aura_automated_bribe and aura_actual_bribe\n",
    "- aura_bribe_delta_%: difference between aura_automated_bribe and aura_actual_bribe in %\n",
    "\n",
    "Same thing for balancer side:\n",
    "- bal_automated_bribe: bribes paid to balancer per pool calculated in this notebook\n",
    "- bal_actual_bribe: actual bribes paid to balancer per pool from the sheet\n",
    "- bal_bribe_delta: difference between bal_automated_bribe and bal_actual_bribe\n",
    "- bal_bribe_delta_%: difference between bal_automated_bribe and bal_actual_bribe in %"
   ],
   "metadata": {
    "collapsed": false
   },
   "id": "ab029ab946741672"
  },
  {
   "cell_type": "code",
   "execution_count": 78,
   "outputs": [
    {
     "data": {
      "text/plain": "                                                             gauge      chain  \\\nB-rETH-STABLE           0x79eF6103A513951a3b25743DB509E267685726B7    mainnet   \nswETH-WETH-BPT          0xee01c0d9c0439c94D314a6ecAE0490989750746C    mainnet   \nECLP-wstETH-cbETH       0x4D4264aebf65Bb1727bb5438E0b2Aaf86186DA50    mainnet   \n20WETH-80ALCX           0x183D73dA7adC5011EC3C46e33BB50271e59EC976    mainnet   \nB-staFiETH-WETH-Stable  0x10a361766e64D7983a97202ac3a0F4cee06Eb717    mainnet   \nGHO/USDT/USDC           0xf720e9137baa9C7612e6CA59149a5057ab320cFa    mainnet   \nankrETH/wstETH          0xbf65b3fA6c208762eD74e82d4AEfCDDfd0323648    mainnet   \n50wstETH-50LDO          0x95201B61EF19C867dA0D093DF20021e1a559452c    mainnet   \n50rETH-50BADGER         0x87012b0C3257423fD74a5986F81a0f1954C17a1d    mainnet   \n50rETH-50RPL            0x2C2179abce3413E27BDA6917f60ae37F96D01826    mainnet   \nECLP-wstETH-wETH        0xdf54d2Dd06F8Be3B0c4FfC157bE54EC9cca91F3C    mainnet   \nECLP-WMATIC-stMATIC     0xD103Dd49B8051A09B399A52E9A8aB629392dE2fb    polygon   \nECLP-WMATIC-MATICX      0x82bcaD0C8F51D88ec339141F0d8953Bc25cc3d8c    polygon   \nstMATIC-WMATIC-BPT      0x6054A132020f48012C63D2cb83813327378F9423    polygon   \nmaticX-WMATIC-BPT       0x9965713498c74aee49cEf80B2195461F188F24f8    polygon   \nwstETH-WETH-BPT         0x205dAdDbAd79EC680451DE55e2CC744ff8cbabd0    polygon   \nwstETH/rETH/cbETH       0x56c0626E6E3931af90EbB679A321225180d4b32B   arbitrum   \n4POOL-BPT               0xBb1a15dfd849bc5a6F33C002999c8953aFA626Ad   arbitrum   \nRDNT-WETH               0x8135d6AbFd42707A87A7b94c5CFA3529f9b432AD   arbitrum   \nwstETH/rETH/sfrxETH     0x49f530b45Ae792CDF5Cbd5D25C5a9b9e59C6c3B8   arbitrum   \nbb-WETH-wstETH          0xf8C85bd74FeE26831336B51A90587145391a27Ba     gnosis   \ncbETH/WETH              0xefF145872582721e1b33931d61c3fE9C1ca66690       base   \nrETH-WETH-BPT           0xd75026F8723b94d9a360A282080492d905c6A558       base   \nsAVAX-WAVAX-BPT         0x1e916950A659Da9813EE34479BFf04C732E03deb  avalanche   \nggAVAX-WAVAX-BPT        0xa86e8e8CfAe8C9847fA9381d4631c13c7b3466bd  avalanche   \nyyAVAX-WAVAX-BPT        0x956074628A64a316086f7125074a8A52d3306321  avalanche   \nUSDC-USDT-BPT           0xB95397A17ACbb5824535ebE69Cd9DCF8fA7aFC50  avalanche   \nBPT                     0x40B4C2E260f803F868053789bD4A6C7Edd1cdc39  avalanche   \n\n                       aura_automated_bribe aura_actual_bribe  \\\nB-rETH-STABLE                       5074.67           2944.03   \nswETH-WETH-BPT                      1770.19           4953.73   \nECLP-wstETH-cbETH                      0.00              0.00   \n20WETH-80ALCX                        664.92              0.00   \nB-staFiETH-WETH-Stable               389.46              0.00   \nGHO/USDT/USDC                          0.00              0.00   \nankrETH/wstETH                      1217.26              0.00   \n50wstETH-50LDO                       197.05              0.00   \n50rETH-50BADGER                     3156.73           1793.05   \n50rETH-50RPL                         405.02              0.00   \nECLP-wstETH-wETH                       0.00              0.00   \nECLP-WMATIC-stMATIC                  474.80           1966.74   \nECLP-WMATIC-MATICX                   121.20              0.00   \nstMATIC-WMATIC-BPT                     0.74              0.00   \nmaticX-WMATIC-BPT                    435.38              0.00   \nwstETH-WETH-BPT                        0.00              0.00   \nwstETH/rETH/cbETH                    461.01              0.00   \n4POOL-BPT                            110.69              0.00   \nRDNT-WETH                           2643.32           2063.63   \nwstETH/rETH/sfrxETH                    0.00              0.00   \nbb-WETH-wstETH                       118.08              0.00   \ncbETH/WETH                         10899.48           7964.01   \nrETH-WETH-BPT                          0.00           2819.01   \nsAVAX-WAVAX-BPT                     1021.00           1407.18   \nggAVAX-WAVAX-BPT                     173.67           1423.82   \nyyAVAX-WAVAX-BPT                     328.18              0.00   \nUSDC-USDT-BPT                         50.75           1315.36   \nBPT                                    0.00              0.00   \n\n                       aura_bribe_delta aura_bribe_delta_%  \\\nB-rETH-STABLE                   2130.64             72.37%   \nswETH-WETH-BPT                  3183.54             64.27%   \nECLP-wstETH-cbETH                  0.00                 0%   \n20WETH-80ALCX                    664.92                 0%   \nB-staFiETH-WETH-Stable           389.46                 0%   \nGHO/USDT/USDC                      0.00                 0%   \nankrETH/wstETH                  1217.26                 0%   \n50wstETH-50LDO                   197.05                 0%   \n50rETH-50BADGER                 1363.68             76.05%   \n50rETH-50RPL                     405.02                 0%   \nECLP-wstETH-wETH                   0.00                 0%   \nECLP-WMATIC-stMATIC             1491.94             75.86%   \nECLP-WMATIC-MATICX               121.20                 0%   \nstMATIC-WMATIC-BPT                 0.74                 0%   \nmaticX-WMATIC-BPT                435.38                 0%   \nwstETH-WETH-BPT                    0.00                 0%   \nwstETH/rETH/cbETH                461.01                 0%   \n4POOL-BPT                        110.69                 0%   \nRDNT-WETH                        579.69             28.09%   \nwstETH/rETH/sfrxETH                0.00                 0%   \nbb-WETH-wstETH                   118.08                 0%   \ncbETH/WETH                      2935.47             36.86%   \nrETH-WETH-BPT                   2819.01            100.00%   \nsAVAX-WAVAX-BPT                  386.18             27.44%   \nggAVAX-WAVAX-BPT                1250.15             87.80%   \nyyAVAX-WAVAX-BPT                 328.18                 0%   \nUSDC-USDT-BPT                   1264.61             96.14%   \nBPT                                0.00                 0%   \n\n                       bal_automated_bribe bal_actual_bribe bal_bribe_delta  \\\nB-rETH-STABLE                      7684.40          5467.48         2216.92   \nswETH-WETH-BPT                     2680.55             0.00         2680.55   \nECLP-wstETH-cbETH                     0.00             0.00            0.00   \n20WETH-80ALCX                      1006.86             0.00         1006.86   \nB-staFiETH-WETH-Stable              589.74             0.00          589.74   \nGHO/USDT/USDC                         0.00             0.00            0.00   \nankrETH/wstETH                     1843.26             0.00         1843.26   \n50wstETH-50LDO                      298.38             0.00          298.38   \n50rETH-50BADGER                    4780.13          3329.95         1450.18   \n50rETH-50RPL                        613.31             0.00          613.31   \nECLP-wstETH-wETH                      0.00             0.00            0.00   \nECLP-WMATIC-stMATIC                 718.97             0.00          718.97   \nECLP-WMATIC-MATICX                  183.53           608.51          424.98   \nstMATIC-WMATIC-BPT                    1.12             0.00            1.12   \nmaticX-WMATIC-BPT                   659.29             0.00          659.29   \nwstETH-WETH-BPT                       0.00             0.00            0.00   \nwstETH/rETH/cbETH                   698.09          1165.80          467.71   \n4POOL-BPT                           167.62           849.47          681.85   \nRDNT-WETH                          4002.69          3121.37          881.32   \nwstETH/rETH/sfrxETH                   0.01             0.00            0.01   \nbb-WETH-wstETH                      178.80           299.00          120.20   \ncbETH/WETH                        16504.73         12046.07         4458.66   \nrETH-WETH-BPT                         0.00          4263.92         4263.92   \nsAVAX-WAVAX-BPT                    1546.07             0.00         1546.07   \nggAVAX-WAVAX-BPT                    262.98             0.00          262.98   \nyyAVAX-WAVAX-BPT                    496.95           581.00           84.05   \nUSDC-USDT-BPT                        76.85             0.00           76.85   \nBPT                                   0.00           420.00          420.00   \n\n                       bal_bribe_delta_%  \nB-rETH-STABLE                     40.55%  \nswETH-WETH-BPT                        0%  \nECLP-wstETH-cbETH                     0%  \n20WETH-80ALCX                         0%  \nB-staFiETH-WETH-Stable                0%  \nGHO/USDT/USDC                         0%  \nankrETH/wstETH                        0%  \n50wstETH-50LDO                        0%  \n50rETH-50BADGER                   43.55%  \n50rETH-50RPL                          0%  \nECLP-wstETH-wETH                      0%  \nECLP-WMATIC-stMATIC                   0%  \nECLP-WMATIC-MATICX                69.84%  \nstMATIC-WMATIC-BPT                    0%  \nmaticX-WMATIC-BPT                     0%  \nwstETH-WETH-BPT                       0%  \nwstETH/rETH/cbETH                 40.12%  \n4POOL-BPT                         80.27%  \nRDNT-WETH                         28.24%  \nwstETH/rETH/sfrxETH                   0%  \nbb-WETH-wstETH                    40.20%  \ncbETH/WETH                        37.01%  \nrETH-WETH-BPT                    100.00%  \nsAVAX-WAVAX-BPT                       0%  \nggAVAX-WAVAX-BPT                      0%  \nyyAVAX-WAVAX-BPT                  14.47%  \nUSDC-USDT-BPT                         0%  \nBPT                              100.00%  ",
      "text/html": "<div>\n<style scoped>\n    .dataframe tbody tr th:only-of-type {\n        vertical-align: middle;\n    }\n\n    .dataframe tbody tr th {\n        vertical-align: top;\n    }\n\n    .dataframe thead th {\n        text-align: right;\n    }\n</style>\n<table border=\"1\" class=\"dataframe\">\n  <thead>\n    <tr style=\"text-align: right;\">\n      <th></th>\n      <th>gauge</th>\n      <th>chain</th>\n      <th>aura_automated_bribe</th>\n      <th>aura_actual_bribe</th>\n      <th>aura_bribe_delta</th>\n      <th>aura_bribe_delta_%</th>\n      <th>bal_automated_bribe</th>\n      <th>bal_actual_bribe</th>\n      <th>bal_bribe_delta</th>\n      <th>bal_bribe_delta_%</th>\n    </tr>\n  </thead>\n  <tbody>\n    <tr>\n      <th>B-rETH-STABLE</th>\n      <td>0x79eF6103A513951a3b25743DB509E267685726B7</td>\n      <td>mainnet</td>\n      <td>5074.67</td>\n      <td>2944.03</td>\n      <td>2130.64</td>\n      <td>72.37%</td>\n      <td>7684.40</td>\n      <td>5467.48</td>\n      <td>2216.92</td>\n      <td>40.55%</td>\n    </tr>\n    <tr>\n      <th>swETH-WETH-BPT</th>\n      <td>0xee01c0d9c0439c94D314a6ecAE0490989750746C</td>\n      <td>mainnet</td>\n      <td>1770.19</td>\n      <td>4953.73</td>\n      <td>3183.54</td>\n      <td>64.27%</td>\n      <td>2680.55</td>\n      <td>0.00</td>\n      <td>2680.55</td>\n      <td>0%</td>\n    </tr>\n    <tr>\n      <th>ECLP-wstETH-cbETH</th>\n      <td>0x4D4264aebf65Bb1727bb5438E0b2Aaf86186DA50</td>\n      <td>mainnet</td>\n      <td>0.00</td>\n      <td>0.00</td>\n      <td>0.00</td>\n      <td>0%</td>\n      <td>0.00</td>\n      <td>0.00</td>\n      <td>0.00</td>\n      <td>0%</td>\n    </tr>\n    <tr>\n      <th>20WETH-80ALCX</th>\n      <td>0x183D73dA7adC5011EC3C46e33BB50271e59EC976</td>\n      <td>mainnet</td>\n      <td>664.92</td>\n      <td>0.00</td>\n      <td>664.92</td>\n      <td>0%</td>\n      <td>1006.86</td>\n      <td>0.00</td>\n      <td>1006.86</td>\n      <td>0%</td>\n    </tr>\n    <tr>\n      <th>B-staFiETH-WETH-Stable</th>\n      <td>0x10a361766e64D7983a97202ac3a0F4cee06Eb717</td>\n      <td>mainnet</td>\n      <td>389.46</td>\n      <td>0.00</td>\n      <td>389.46</td>\n      <td>0%</td>\n      <td>589.74</td>\n      <td>0.00</td>\n      <td>589.74</td>\n      <td>0%</td>\n    </tr>\n    <tr>\n      <th>GHO/USDT/USDC</th>\n      <td>0xf720e9137baa9C7612e6CA59149a5057ab320cFa</td>\n      <td>mainnet</td>\n      <td>0.00</td>\n      <td>0.00</td>\n      <td>0.00</td>\n      <td>0%</td>\n      <td>0.00</td>\n      <td>0.00</td>\n      <td>0.00</td>\n      <td>0%</td>\n    </tr>\n    <tr>\n      <th>ankrETH/wstETH</th>\n      <td>0xbf65b3fA6c208762eD74e82d4AEfCDDfd0323648</td>\n      <td>mainnet</td>\n      <td>1217.26</td>\n      <td>0.00</td>\n      <td>1217.26</td>\n      <td>0%</td>\n      <td>1843.26</td>\n      <td>0.00</td>\n      <td>1843.26</td>\n      <td>0%</td>\n    </tr>\n    <tr>\n      <th>50wstETH-50LDO</th>\n      <td>0x95201B61EF19C867dA0D093DF20021e1a559452c</td>\n      <td>mainnet</td>\n      <td>197.05</td>\n      <td>0.00</td>\n      <td>197.05</td>\n      <td>0%</td>\n      <td>298.38</td>\n      <td>0.00</td>\n      <td>298.38</td>\n      <td>0%</td>\n    </tr>\n    <tr>\n      <th>50rETH-50BADGER</th>\n      <td>0x87012b0C3257423fD74a5986F81a0f1954C17a1d</td>\n      <td>mainnet</td>\n      <td>3156.73</td>\n      <td>1793.05</td>\n      <td>1363.68</td>\n      <td>76.05%</td>\n      <td>4780.13</td>\n      <td>3329.95</td>\n      <td>1450.18</td>\n      <td>43.55%</td>\n    </tr>\n    <tr>\n      <th>50rETH-50RPL</th>\n      <td>0x2C2179abce3413E27BDA6917f60ae37F96D01826</td>\n      <td>mainnet</td>\n      <td>405.02</td>\n      <td>0.00</td>\n      <td>405.02</td>\n      <td>0%</td>\n      <td>613.31</td>\n      <td>0.00</td>\n      <td>613.31</td>\n      <td>0%</td>\n    </tr>\n    <tr>\n      <th>ECLP-wstETH-wETH</th>\n      <td>0xdf54d2Dd06F8Be3B0c4FfC157bE54EC9cca91F3C</td>\n      <td>mainnet</td>\n      <td>0.00</td>\n      <td>0.00</td>\n      <td>0.00</td>\n      <td>0%</td>\n      <td>0.00</td>\n      <td>0.00</td>\n      <td>0.00</td>\n      <td>0%</td>\n    </tr>\n    <tr>\n      <th>ECLP-WMATIC-stMATIC</th>\n      <td>0xD103Dd49B8051A09B399A52E9A8aB629392dE2fb</td>\n      <td>polygon</td>\n      <td>474.80</td>\n      <td>1966.74</td>\n      <td>1491.94</td>\n      <td>75.86%</td>\n      <td>718.97</td>\n      <td>0.00</td>\n      <td>718.97</td>\n      <td>0%</td>\n    </tr>\n    <tr>\n      <th>ECLP-WMATIC-MATICX</th>\n      <td>0x82bcaD0C8F51D88ec339141F0d8953Bc25cc3d8c</td>\n      <td>polygon</td>\n      <td>121.20</td>\n      <td>0.00</td>\n      <td>121.20</td>\n      <td>0%</td>\n      <td>183.53</td>\n      <td>608.51</td>\n      <td>424.98</td>\n      <td>69.84%</td>\n    </tr>\n    <tr>\n      <th>stMATIC-WMATIC-BPT</th>\n      <td>0x6054A132020f48012C63D2cb83813327378F9423</td>\n      <td>polygon</td>\n      <td>0.74</td>\n      <td>0.00</td>\n      <td>0.74</td>\n      <td>0%</td>\n      <td>1.12</td>\n      <td>0.00</td>\n      <td>1.12</td>\n      <td>0%</td>\n    </tr>\n    <tr>\n      <th>maticX-WMATIC-BPT</th>\n      <td>0x9965713498c74aee49cEf80B2195461F188F24f8</td>\n      <td>polygon</td>\n      <td>435.38</td>\n      <td>0.00</td>\n      <td>435.38</td>\n      <td>0%</td>\n      <td>659.29</td>\n      <td>0.00</td>\n      <td>659.29</td>\n      <td>0%</td>\n    </tr>\n    <tr>\n      <th>wstETH-WETH-BPT</th>\n      <td>0x205dAdDbAd79EC680451DE55e2CC744ff8cbabd0</td>\n      <td>polygon</td>\n      <td>0.00</td>\n      <td>0.00</td>\n      <td>0.00</td>\n      <td>0%</td>\n      <td>0.00</td>\n      <td>0.00</td>\n      <td>0.00</td>\n      <td>0%</td>\n    </tr>\n    <tr>\n      <th>wstETH/rETH/cbETH</th>\n      <td>0x56c0626E6E3931af90EbB679A321225180d4b32B</td>\n      <td>arbitrum</td>\n      <td>461.01</td>\n      <td>0.00</td>\n      <td>461.01</td>\n      <td>0%</td>\n      <td>698.09</td>\n      <td>1165.80</td>\n      <td>467.71</td>\n      <td>40.12%</td>\n    </tr>\n    <tr>\n      <th>4POOL-BPT</th>\n      <td>0xBb1a15dfd849bc5a6F33C002999c8953aFA626Ad</td>\n      <td>arbitrum</td>\n      <td>110.69</td>\n      <td>0.00</td>\n      <td>110.69</td>\n      <td>0%</td>\n      <td>167.62</td>\n      <td>849.47</td>\n      <td>681.85</td>\n      <td>80.27%</td>\n    </tr>\n    <tr>\n      <th>RDNT-WETH</th>\n      <td>0x8135d6AbFd42707A87A7b94c5CFA3529f9b432AD</td>\n      <td>arbitrum</td>\n      <td>2643.32</td>\n      <td>2063.63</td>\n      <td>579.69</td>\n      <td>28.09%</td>\n      <td>4002.69</td>\n      <td>3121.37</td>\n      <td>881.32</td>\n      <td>28.24%</td>\n    </tr>\n    <tr>\n      <th>wstETH/rETH/sfrxETH</th>\n      <td>0x49f530b45Ae792CDF5Cbd5D25C5a9b9e59C6c3B8</td>\n      <td>arbitrum</td>\n      <td>0.00</td>\n      <td>0.00</td>\n      <td>0.00</td>\n      <td>0%</td>\n      <td>0.01</td>\n      <td>0.00</td>\n      <td>0.01</td>\n      <td>0%</td>\n    </tr>\n    <tr>\n      <th>bb-WETH-wstETH</th>\n      <td>0xf8C85bd74FeE26831336B51A90587145391a27Ba</td>\n      <td>gnosis</td>\n      <td>118.08</td>\n      <td>0.00</td>\n      <td>118.08</td>\n      <td>0%</td>\n      <td>178.80</td>\n      <td>299.00</td>\n      <td>120.20</td>\n      <td>40.20%</td>\n    </tr>\n    <tr>\n      <th>cbETH/WETH</th>\n      <td>0xefF145872582721e1b33931d61c3fE9C1ca66690</td>\n      <td>base</td>\n      <td>10899.48</td>\n      <td>7964.01</td>\n      <td>2935.47</td>\n      <td>36.86%</td>\n      <td>16504.73</td>\n      <td>12046.07</td>\n      <td>4458.66</td>\n      <td>37.01%</td>\n    </tr>\n    <tr>\n      <th>rETH-WETH-BPT</th>\n      <td>0xd75026F8723b94d9a360A282080492d905c6A558</td>\n      <td>base</td>\n      <td>0.00</td>\n      <td>2819.01</td>\n      <td>2819.01</td>\n      <td>100.00%</td>\n      <td>0.00</td>\n      <td>4263.92</td>\n      <td>4263.92</td>\n      <td>100.00%</td>\n    </tr>\n    <tr>\n      <th>sAVAX-WAVAX-BPT</th>\n      <td>0x1e916950A659Da9813EE34479BFf04C732E03deb</td>\n      <td>avalanche</td>\n      <td>1021.00</td>\n      <td>1407.18</td>\n      <td>386.18</td>\n      <td>27.44%</td>\n      <td>1546.07</td>\n      <td>0.00</td>\n      <td>1546.07</td>\n      <td>0%</td>\n    </tr>\n    <tr>\n      <th>ggAVAX-WAVAX-BPT</th>\n      <td>0xa86e8e8CfAe8C9847fA9381d4631c13c7b3466bd</td>\n      <td>avalanche</td>\n      <td>173.67</td>\n      <td>1423.82</td>\n      <td>1250.15</td>\n      <td>87.80%</td>\n      <td>262.98</td>\n      <td>0.00</td>\n      <td>262.98</td>\n      <td>0%</td>\n    </tr>\n    <tr>\n      <th>yyAVAX-WAVAX-BPT</th>\n      <td>0x956074628A64a316086f7125074a8A52d3306321</td>\n      <td>avalanche</td>\n      <td>328.18</td>\n      <td>0.00</td>\n      <td>328.18</td>\n      <td>0%</td>\n      <td>496.95</td>\n      <td>581.00</td>\n      <td>84.05</td>\n      <td>14.47%</td>\n    </tr>\n    <tr>\n      <th>USDC-USDT-BPT</th>\n      <td>0xB95397A17ACbb5824535ebE69Cd9DCF8fA7aFC50</td>\n      <td>avalanche</td>\n      <td>50.75</td>\n      <td>1315.36</td>\n      <td>1264.61</td>\n      <td>96.14%</td>\n      <td>76.85</td>\n      <td>0.00</td>\n      <td>76.85</td>\n      <td>0%</td>\n    </tr>\n    <tr>\n      <th>BPT</th>\n      <td>0x40B4C2E260f803F868053789bD4A6C7Edd1cdc39</td>\n      <td>avalanche</td>\n      <td>0.00</td>\n      <td>0.00</td>\n      <td>0.00</td>\n      <td>0%</td>\n      <td>0.00</td>\n      <td>420.00</td>\n      <td>420.00</td>\n      <td>100.00%</td>\n    </tr>\n  </tbody>\n</table>\n</div>"
     },
     "execution_count": 78,
     "metadata": {},
     "output_type": "execute_result"
    }
   ],
   "source": [
    "# Now we need to compare the data we collected with the data from the sheet\n",
    "# We need to compare bribes paid to each pool\n",
    "joint_bribes_dict = joint_bribes_df.to_dict(orient='records')\n",
    "bribes_delta = {}\n",
    "for gauge, data in bribes_final_csv.items():\n",
    "    for automated_bribe in joint_bribes_dict:\n",
    "        filtered_gauges = mapped_gauges[automated_bribe['chain']]\n",
    "        # If this condition is true, we can compare the bribes\n",
    "        if filtered_gauges[automated_bribe['pool_addr']] == gauge:\n",
    "            # Calculate delta between automated bribes and bribes from the sheet\n",
    "            # Calculate delta between automated_bribe['aura_bribes'] and data['aura'] in %\n",
    "            if automated_bribe['aura_bribes'] > data['aura']:\n",
    "                aura_bribe_delta = automated_bribe['aura_bribes'] - data['aura']\n",
    "                aura_bribe_delta_pct = (automated_bribe['aura_bribes'] - data['aura']) / data['aura'] * 100 if \\\n",
    "                    data['aura'] != 0 else 0\n",
    "            else:\n",
    "                aura_bribe_delta = data['aura'] - automated_bribe['aura_bribes']\n",
    "                aura_bribe_delta_pct = (data['aura'] - automated_bribe['aura_bribes']) / data['aura'] * 100 if \\\n",
    "                    data['aura'] != 0 else 0\n",
    "            if automated_bribe['bal_bribes'] > data['balancer']:\n",
    "                bal_bribe_delta = automated_bribe['bal_bribes'] - data['balancer']\n",
    "                bal_bribe_delta_pct = (automated_bribe['bal_bribes'] - data['balancer']) / data['balancer'] * 100 if \\\n",
    "                    data['balancer'] != 0 else 0\n",
    "            else:\n",
    "                bal_bribe_delta = data['balancer'] - automated_bribe['bal_bribes']\n",
    "                bal_bribe_delta_pct = (data['balancer'] - automated_bribe['bal_bribes']) / data['balancer'] * 100 if \\\n",
    "                    data['balancer'] != 0 else 0\n",
    "                \n",
    "            bribes_delta[automated_bribe['pool_name']] = {\n",
    "                'gauge': gauge,\n",
    "                'chain': automated_bribe['chain'],\n",
    "                'aura_automated_bribe': automated_bribe['aura_bribes'],\n",
    "                'aura_actual_bribe': round(data['aura'], 2),\n",
    "                'aura_bribe_delta': round(aura_bribe_delta, 2),\n",
    "                'aura_bribe_delta_%': f'{round(aura_bribe_delta_pct, 2)}%',\n",
    "                'bal_automated_bribe': automated_bribe['bal_bribes'],\n",
    "                'bal_actual_bribe': round(data['balancer'], 2),\n",
    "                'bal_bribe_delta': round(bal_bribe_delta, 2),\n",
    "                'bal_bribe_delta_%': f'{round(bal_bribe_delta_pct, 2)}%',\n",
    "            }\n",
    "# To df and print out without index:\n",
    "bribes_delta_df = pd.DataFrame.from_dict(bribes_delta, orient='index')\n",
    "bribes_delta_df.sort_values(by=['chain', 'aura_bribe_delta'], ascending=False)\n",
    "bribes_delta_df"
   ],
   "metadata": {
    "collapsed": false,
    "ExecuteTime": {
     "end_time": "2023-09-26T13:14:04.360304Z",
     "start_time": "2023-09-26T13:14:04.353190Z"
    }
   },
   "id": "17f47521561f3499"
  }
 ],
 "metadata": {
  "kernelspec": {
   "display_name": "Python 3",
   "language": "python",
   "name": "python3"
  },
  "language_info": {
   "codemirror_mode": {
    "name": "ipython",
    "version": 2
   },
   "file_extension": ".py",
   "mimetype": "text/x-python",
   "name": "python",
   "nbconvert_exporter": "python",
   "pygments_lexer": "ipython2",
   "version": "2.7.6"
  }
 },
 "nbformat": 4,
 "nbformat_minor": 5
}
