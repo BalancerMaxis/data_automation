{
 "cells": [
  {
   "cell_type": "markdown",
   "source": [
    "## Collecting protocol fees across Balancer core pools on all networks\n",
    "- Spreadsheet as reference: https://docs.google.com/spreadsheets/d/1xwUPpbYq7woVOU9vQ8EB8MY75I-1mauTLyDVwvKUDKo/edit#gid=0\n",
    "- Collab: https://colab.research.google.com/drive/1vKCvcV5mkL1zwW3565kLSGkBEbt8NsoB?usp=sharing\n"
   ],
   "metadata": {
    "collapsed": false
   },
   "id": "e739385af75b2478"
  },
  {
   "cell_type": "code",
   "execution_count": 1,
   "outputs": [
    {
     "name": "stdout",
     "output_type": "stream",
     "text": [
      "Collecting bpt prices for polygon\n",
      "Collecting bpt prices for mainnet\n",
      "Collecting bpt prices for arbitrum\n",
      "Collecting bpt prices for gnosis\n",
      "Collecting bpt prices for avalanche\n",
      "Collecting bpt prices for base\n"
     ]
    }
   ],
   "source": [
    "import datetime\n",
    "\n",
    "import pandas as pd\n",
    "from dotenv import load_dotenv\n",
    "\n",
    "load_dotenv()\n",
    "from web3 import Web3\n",
    "\n",
    "from notebooks import get_block_by_ts\n",
    "from notebooks import get_twap_bpt_price\n",
    "from config_file import CORE_POOLS\n",
    "from config_file import Chains\n",
    "from config_file import WEB3_INSTANCES\n",
    "\n",
    "TARGET_BLOCKS = {}\n",
    "timestamp_now = 1695952610\n",
    "timestamp_2_weeks_ago = timestamp_now - (2 * 7 * 24 * 60 * 60)\n",
    "datetime_now = datetime.datetime.fromtimestamp(timestamp_now)\n",
    "datetime_2_weeks_ago = datetime.datetime.fromtimestamp(timestamp_2_weeks_ago)\n",
    "\n",
    "target_blocks = {}\n",
    "bpt_twap_prices = {chain.value: {} for chain in Chains}\n",
    "# Collect BPT prices for 2 weeks ago and now for all relevant pools and chains\n",
    "for chain in Chains:\n",
    "    target_blocks[chain.value] = (\n",
    "        get_block_by_ts(timestamp_now, chain.value),  # Block now\n",
    "        get_block_by_ts(timestamp_2_weeks_ago, chain.value)  # Block 2 weeks ago\n",
    "    )\n",
    "    print(f\"Collecting bpt prices for {chain.value}\")\n",
    "    pools = CORE_POOLS.get(chain.value, None)\n",
    "    if pools is None:\n",
    "        continue\n",
    "    for core_pool in pools:\n",
    "        bpt_twap_prices[chain.value][core_pool] = get_twap_bpt_price(\n",
    "            core_pool, chain.value, getattr(WEB3_INSTANCES, chain.value),\n",
    "            start_date=datetime.datetime.fromtimestamp(timestamp_now), block_number=target_blocks[chain.value][0]\n",
    "        )"
   ],
   "metadata": {
    "collapsed": false,
    "ExecuteTime": {
     "end_time": "2023-10-10T14:02:00.098804Z",
     "start_time": "2023-10-10T13:59:01.608996Z"
    }
   },
   "id": "39d87004addaae1b"
  },
  {
   "cell_type": "markdown",
   "source": [
    "## Fetching fees and other data from the Balancer subgraphs"
   ],
   "metadata": {
    "collapsed": false
   },
   "id": "cde5ffca807e3849"
  },
  {
   "cell_type": "code",
   "execution_count": 2,
   "outputs": [],
   "source": [
    "from notebooks.fees_and_bribs.config_file import BALANCER_GRAPH_URLS\n",
    "from notebooks import get_balancer_pool_snapshots\n",
    "from typing import Dict\n",
    "\n",
    "pool_snapshots = {}\n",
    "for chain in Chains:\n",
    "    pool_snapshots[chain.value] = (\n",
    "        get_balancer_pool_snapshots(target_blocks[chain.value][0], BALANCER_GRAPH_URLS[chain.value]),  # now\n",
    "        get_balancer_pool_snapshots(target_blocks[chain.value][1], BALANCER_GRAPH_URLS[chain.value]),  # 2 weeks ago\n",
    "    )"
   ],
   "metadata": {
    "collapsed": false,
    "ExecuteTime": {
     "end_time": "2023-10-10T14:03:41.317191Z",
     "start_time": "2023-10-10T14:02:00.102476Z"
    }
   },
   "id": "e1e0b8b90f62234c"
  },
  {
   "cell_type": "markdown",
   "source": [
    "## Extract fee data for CORE pools:\n"
   ],
   "metadata": {
    "collapsed": false
   },
   "id": "d5333a7de445454d"
  },
  {
   "cell_type": "code",
   "execution_count": 3,
   "outputs": [],
   "source": [
    "from collections import defaultdict\n",
    "from decimal import Decimal\n",
    "from notebooks import fetch_token_price_balgql\n",
    "\n",
    "\n",
    "def collect_fee_info(pools: list[str], chain: Chains, pools_now: list[dict], pools_shifted: list[dict],\n",
    "                     start_date: datetime.datetime) -> tuple[dict, dict]:\n",
    "    # Iterate through snapshots now and 2 weeks ago and extract fee data, by subtracting today's fee data from 2 weeks ago\n",
    "    # and then summing across all pools\n",
    "    fees = {}\n",
    "    token_fees = defaultdict(list)\n",
    "    for pool in pools:\n",
    "        current_fees_snapshots = [x for x in pools_now if x['pool']['id'] == pool]\n",
    "        current_fees_snapshots.sort(key=lambda x: x['timestamp'], reverse=True)\n",
    "        fees_2_weeks_ago = [x for x in pools_shifted if x['pool']['id'] == pool]\n",
    "        fees_2_weeks_ago.sort(key=lambda x: x['timestamp'], reverse=True)\n",
    "        # Take first element of list, which is the most recent snapshot\n",
    "        if not current_fees_snapshots or not fees_2_weeks_ago:\n",
    "            continue\n",
    "        pool_snapshot_now = current_fees_snapshots[0]\n",
    "        pool_snapshot_2_weeks_ago = fees_2_weeks_ago[0]\n",
    "        # Now we need to collect token fee info. Let's start with BPT tokens, which is Balancer pool token. Notice,\n",
    "        # That totalProtocolFeePaidInBPT can be null, so we need to check for that\n",
    "        bpt_token_fee = 0\n",
    "        bpt_price_usd = bpt_twap_prices[chain.value][pool]\n",
    "        if bpt_price_usd is None:\n",
    "            bpt_price_usd = 0\n",
    "        if pool_snapshot_now['pool']['totalProtocolFeePaidInBPT'] is not None and pool_snapshot_2_weeks_ago['pool'][\n",
    "            'totalProtocolFeePaidInBPT'] is not None:\n",
    "            bpt_token_fee = float(pool_snapshot_now['pool']['totalProtocolFeePaidInBPT']) - float(\n",
    "                pool_snapshot_2_weeks_ago['pool']['totalProtocolFeePaidInBPT'])\n",
    "            token_fees[pool_snapshot_now['pool']['id']].append({\n",
    "                'symbol': pool_snapshot_now['pool']['symbol'],\n",
    "                'token': pool_snapshot_now['pool']['symbol'],\n",
    "                'token_fee': bpt_token_fee,\n",
    "                'token_price': bpt_price_usd,\n",
    "                'token_fee_in_usd': Decimal(bpt_token_fee) * bpt_price_usd,\n",
    "                'token_addr': pool_snapshot_now['pool']['address'],\n",
    "                'time_from': datetime_2_weeks_ago,\n",
    "                'time_to': datetime_now,\n",
    "                'chain': chain.value,\n",
    "            })\n",
    "        # Now collect fee info about fees paid in pool tokens. Pool tokens fee info is in pool.tokens dictionary. This will be separate dictionary\n",
    "        else:\n",
    "            bpt_price_usd = 0\n",
    "            for token_data in pool_snapshot_now['pool']['tokens']:\n",
    "                token_data_2_weeks_ago = \\\n",
    "                    [t for t in pool_snapshot_2_weeks_ago['pool']['tokens'] if t['address'] == token_data['address']][0]\n",
    "                token_fee = float(token_data.get('paidProtocolFees', None)) - float(\n",
    "                    token_data_2_weeks_ago.get('paidProtocolFees', None))\n",
    "                # Get twap token price from CoinGecko\n",
    "                token_price = fetch_token_price_balgql(token_data['address'], chain.value, start_date) or 0\n",
    "                token_fees[pool_snapshot_now['pool']['id']].append({\n",
    "                    'symbol': pool_snapshot_now['pool']['symbol'],\n",
    "                    'token': token_data['symbol'],\n",
    "                    'token_fee': token_fee,\n",
    "                    'token_price': token_price,\n",
    "                    'token_fee_in_usd': Decimal(token_fee) * token_price if token_price is not None else 0,\n",
    "                    'token_addr': token_data['address'],\n",
    "                    'time_from': datetime_2_weeks_ago,\n",
    "                    'time_to': datetime_now,\n",
    "                    'chain': chain.value,\n",
    "                })\n",
    "        # Calculate non-BPT fees in USD\n",
    "        fees[pool_snapshot_now['pool']['id']] = {\n",
    "            'symbol': pool_snapshot_now['pool']['symbol'],\n",
    "            'pool_addr': pool_snapshot_now['pool']['address'],\n",
    "            'bpt_token_fee': round(bpt_token_fee, 2),\n",
    "            # Get fee in USD by multiplying bpt_token_fee by price of BPT token taken from twap_bpt_price\n",
    "            'bpt_token_fee_in_usd': round(Decimal(bpt_token_fee) * bpt_price_usd, 2),\n",
    "            'token_fees_in_usd': round(sum([x['token_fee_in_usd'] for x in\n",
    "                                            token_fees[\n",
    "                                                pool_snapshot_now['pool']['symbol']]]) if bpt_price_usd == 0 else 0, 2),\n",
    "            'time_from': datetime_2_weeks_ago,\n",
    "            'time_to': datetime_now,\n",
    "            'chain': chain.value,\n",
    "            'token_fees': token_fees[pool_snapshot_now['pool']['symbol']]\n",
    "        }\n",
    "    return fees\n",
    "\n",
    "\n",
    "collected_fees = {}\n",
    "\n",
    "for chain in Chains:\n",
    "    core_pools = CORE_POOLS.get(chain.value, None)\n",
    "    if not core_pools:\n",
    "        continue\n",
    "    collected_fees[chain.value] = collect_fee_info(core_pools, chain, pool_snapshots[chain.value][0],\n",
    "                                                   pool_snapshots[chain.value][1], datetime_now)\n",
    "# Convert to dataframe, sort by chain and pool fee\n",
    "joint_fees = {**collected_fees[Chains.MAINNET.value], **collected_fees[Chains.ARBITRUM.value],\n",
    "              **collected_fees[Chains.POLYGON.value], **collected_fees[Chains.BASE.value],\n",
    "              **collected_fees[Chains.AVALANCHE.value]}\n",
    "joint_fees_df = pd.DataFrame.from_dict(joint_fees, orient='index')"
   ],
   "metadata": {
    "collapsed": false,
    "ExecuteTime": {
     "end_time": "2023-10-10T14:03:53.362181Z",
     "start_time": "2023-10-10T14:03:41.341533Z"
    }
   },
   "id": "e79b2f6a4ead2cad"
  },
  {
   "cell_type": "code",
   "execution_count": 4,
   "outputs": [
    {
     "data": {
      "text/plain": "                                                                    symbol  \\\n0xee278d943584dd8640eaf4cc6c7a5c80c0073e8500020...      ECLP-WMATIC-MATICX   \n0xf0ad209e2e969eaaa8c882aac71f02d8a047d5c200020...     ECLP-WMATIC-stMATIC   \n0x93d199263632a4ef4bb438f1feb99e57b4b5f0bd00000...         wstETH-WETH-BPT   \n0x1ee442b5326009bb18f2f472d3e0061513d1a0ff00020...         50rETH-50BADGER   \n0x1e19cf2d73a72ef1332c882f20534b6519be027600020...           B-rETH-STABLE   \n0x36be1e97ea98ab43b4debf92742517266f5731a300020...          50wstETH-50ACX   \n0xf01b0684c98cd7ada480bfdf6e43876422fa1fc100020...        ECLP-wstETH-wETH   \n0x9f9d900462492d4c21e9523ca95a7cd86142f29800020...            50rETH-50RPL   \n0x3ff3a210e57cfe679d9ad1e9ba6453a716c56a2e00020...                STG/USDC   \n0x5f1f4e50ba51d723f12385a8a9606afc3a0555f500020...          50wstETH-50LDO   \n0xdfe6e7e18f6cc65fa13c8d8966013d4fda74b6ba00000...          ankrETH/wstETH   \n0x8353157092ed8be69a9df8f95af097bbf33cb2af00000...           GHO/USDT/USDC   \n0xb08885e6026bab4333a80024ec25a1a3e1ff2b8a00020...  B-staFiETH-WETH-Stable   \n0xf16aee6a71af1a9bc8f56975a4c2705ca7a782bc00020...           20WETH-80ALCX   \n0xf7a826d47c8e02835d94fb0aa40f0cc9505cb13400020...       ECLP-wstETH-cbETH   \n0xe7e2c68d3b13d905bbb636709cf4dfd21076b9d200000...          swETH-WETH-BPT   \n0xc771c1a5905420daec317b154eb13e4198ba97d000000...           rETH-WETH-BPT   \n0x0c659734f1eef9c63b7ebdf78a164cdd745586db00000...      USDC/USDbC/axlUSDC   \n0xfb4c2e6e6e27b5b4a07a36360c89ede29bb3c9b600000...              cbETH/WETH   \n0xb26f0e66317846bd5fe0cbaa1d269f0efeb05c9600000...           USDC-USDT-BPT   \n0x9fa6ab3d78984a69e712730a2227f20bcc8b5ad900000...        yyAVAX-WAVAX-BPT   \n0xc13546b97b9b1b15372368dc06529d7191081f5b00000...        ggAVAX-WAVAX-BPT   \n0xfd2620c9cfcec7d152467633b3b0ca338d3d78cc00000...         sAVAX-WAVAX-BPT   \n0x55bec22f8f6c69137ceaf284d9b441db1b9bfedc00020...                     BPT   \n0x0c8972437a38b389ec83d1e666b69b8a4fcf8bfd00000...     wstETH/rETH/sfrxETH   \n0x32df62dc3aed2cd6224193052ce665dc1816584100020...               RDNT-WETH   \n0x423a1323c871abc9d89eb06855bf5347048fc4a500000...               4POOL-BPT   \n0x4a2f6ae7f3e5d715689530873ec35593dc28951b00000...       wstETH/rETH/cbETH   \n0xade4a71bb62bec25154cfc7e6ff49a513b491e8100000...           rETH-WETH-BPT   \n0x9791d590788598535278552eecd4b211bfc790cb00000...         wstETH-WETH-BPT   \n\n                                                                                     pool_addr  \\\n0xee278d943584dd8640eaf4cc6c7a5c80c0073e8500020...  0xee278d943584dd8640eaf4cc6c7a5c80c0073e85   \n0xf0ad209e2e969eaaa8c882aac71f02d8a047d5c200020...  0xf0ad209e2e969eaaa8c882aac71f02d8a047d5c2   \n0x93d199263632a4ef4bb438f1feb99e57b4b5f0bd00000...  0x93d199263632a4ef4bb438f1feb99e57b4b5f0bd   \n0x1ee442b5326009bb18f2f472d3e0061513d1a0ff00020...  0x1ee442b5326009bb18f2f472d3e0061513d1a0ff   \n0x1e19cf2d73a72ef1332c882f20534b6519be027600020...  0x1e19cf2d73a72ef1332c882f20534b6519be0276   \n0x36be1e97ea98ab43b4debf92742517266f5731a300020...  0x36be1e97ea98ab43b4debf92742517266f5731a3   \n0xf01b0684c98cd7ada480bfdf6e43876422fa1fc100020...  0xf01b0684c98cd7ada480bfdf6e43876422fa1fc1   \n0x9f9d900462492d4c21e9523ca95a7cd86142f29800020...  0x9f9d900462492d4c21e9523ca95a7cd86142f298   \n0x3ff3a210e57cfe679d9ad1e9ba6453a716c56a2e00020...  0x3ff3a210e57cfe679d9ad1e9ba6453a716c56a2e   \n0x5f1f4e50ba51d723f12385a8a9606afc3a0555f500020...  0x5f1f4e50ba51d723f12385a8a9606afc3a0555f5   \n0xdfe6e7e18f6cc65fa13c8d8966013d4fda74b6ba00000...  0xdfe6e7e18f6cc65fa13c8d8966013d4fda74b6ba   \n0x8353157092ed8be69a9df8f95af097bbf33cb2af00000...  0x8353157092ed8be69a9df8f95af097bbf33cb2af   \n0xb08885e6026bab4333a80024ec25a1a3e1ff2b8a00020...  0xb08885e6026bab4333a80024ec25a1a3e1ff2b8a   \n0xf16aee6a71af1a9bc8f56975a4c2705ca7a782bc00020...  0xf16aee6a71af1a9bc8f56975a4c2705ca7a782bc   \n0xf7a826d47c8e02835d94fb0aa40f0cc9505cb13400020...  0xf7a826d47c8e02835d94fb0aa40f0cc9505cb134   \n0xe7e2c68d3b13d905bbb636709cf4dfd21076b9d200000...  0xe7e2c68d3b13d905bbb636709cf4dfd21076b9d2   \n0xc771c1a5905420daec317b154eb13e4198ba97d000000...  0xc771c1a5905420daec317b154eb13e4198ba97d0   \n0x0c659734f1eef9c63b7ebdf78a164cdd745586db00000...  0x0c659734f1eef9c63b7ebdf78a164cdd745586db   \n0xfb4c2e6e6e27b5b4a07a36360c89ede29bb3c9b600000...  0xfb4c2e6e6e27b5b4a07a36360c89ede29bb3c9b6   \n0xb26f0e66317846bd5fe0cbaa1d269f0efeb05c9600000...  0xb26f0e66317846bd5fe0cbaa1d269f0efeb05c96   \n0x9fa6ab3d78984a69e712730a2227f20bcc8b5ad900000...  0x9fa6ab3d78984a69e712730a2227f20bcc8b5ad9   \n0xc13546b97b9b1b15372368dc06529d7191081f5b00000...  0xc13546b97b9b1b15372368dc06529d7191081f5b   \n0xfd2620c9cfcec7d152467633b3b0ca338d3d78cc00000...  0xfd2620c9cfcec7d152467633b3b0ca338d3d78cc   \n0x55bec22f8f6c69137ceaf284d9b441db1b9bfedc00020...  0x55bec22f8f6c69137ceaf284d9b441db1b9bfedc   \n0x0c8972437a38b389ec83d1e666b69b8a4fcf8bfd00000...  0x0c8972437a38b389ec83d1e666b69b8a4fcf8bfd   \n0x32df62dc3aed2cd6224193052ce665dc1816584100020...  0x32df62dc3aed2cd6224193052ce665dc18165841   \n0x423a1323c871abc9d89eb06855bf5347048fc4a500000...  0x423a1323c871abc9d89eb06855bf5347048fc4a5   \n0x4a2f6ae7f3e5d715689530873ec35593dc28951b00000...  0x4a2f6ae7f3e5d715689530873ec35593dc28951b   \n0xade4a71bb62bec25154cfc7e6ff49a513b491e8100000...  0xade4a71bb62bec25154cfc7e6ff49a513b491e81   \n0x9791d590788598535278552eecd4b211bfc790cb00000...  0x9791d590788598535278552eecd4b211bfc790cb   \n\n                                                    bpt_token_fee  \\\n0xee278d943584dd8640eaf4cc6c7a5c80c0073e8500020...        1254.62   \n0xf0ad209e2e969eaaa8c882aac71f02d8a047d5c200020...        3410.29   \n0x93d199263632a4ef4bb438f1feb99e57b4b5f0bd00000...           5.24   \n0x1ee442b5326009bb18f2f472d3e0061513d1a0ff00020...         116.14   \n0x1e19cf2d73a72ef1332c882f20534b6519be027600020...           0.00   \n0x36be1e97ea98ab43b4debf92742517266f5731a300020...          94.89   \n0xf01b0684c98cd7ada480bfdf6e43876422fa1fc100020...           0.00   \n0x9f9d900462492d4c21e9523ca95a7cd86142f29800020...           5.95   \n0x3ff3a210e57cfe679d9ad1e9ba6453a716c56a2e00020...        8751.94   \n0x5f1f4e50ba51d723f12385a8a9606afc3a0555f500020...          14.53   \n0xdfe6e7e18f6cc65fa13c8d8966013d4fda74b6ba00000...           3.39   \n0x8353157092ed8be69a9df8f95af097bbf33cb2af00000...        1484.91   \n0xb08885e6026bab4333a80024ec25a1a3e1ff2b8a00020...           0.00   \n0xf16aee6a71af1a9bc8f56975a4c2705ca7a782bc00020...         436.05   \n0xf7a826d47c8e02835d94fb0aa40f0cc9505cb13400020...           0.00   \n0xe7e2c68d3b13d905bbb636709cf4dfd21076b9d200000...           2.28   \n0xc771c1a5905420daec317b154eb13e4198ba97d000000...           0.31   \n0x0c659734f1eef9c63b7ebdf78a164cdd745586db00000...         443.53   \n0xfb4c2e6e6e27b5b4a07a36360c89ede29bb3c9b600000...           1.68   \n0xb26f0e66317846bd5fe0cbaa1d269f0efeb05c9600000...         180.73   \n0x9fa6ab3d78984a69e712730a2227f20bcc8b5ad900000...          60.01   \n0xc13546b97b9b1b15372368dc06529d7191081f5b00000...          62.20   \n0xfd2620c9cfcec7d152467633b3b0ca338d3d78cc00000...         263.04   \n0x55bec22f8f6c69137ceaf284d9b441db1b9bfedc00020...           0.00   \n0x0c8972437a38b389ec83d1e666b69b8a4fcf8bfd00000...           0.00   \n0x32df62dc3aed2cd6224193052ce665dc1816584100020...       17209.84   \n0x423a1323c871abc9d89eb06855bf5347048fc4a500000...         447.60   \n0x4a2f6ae7f3e5d715689530873ec35593dc28951b00000...           2.01   \n0xade4a71bb62bec25154cfc7e6ff49a513b491e8100000...           0.53   \n0x9791d590788598535278552eecd4b211bfc790cb00000...           1.41   \n\n                                                   bpt_token_fee_in_usd  \\\n0xee278d943584dd8640eaf4cc6c7a5c80c0073e8500020...               659.76   \n0xf0ad209e2e969eaaa8c882aac71f02d8a047d5c200020...              1800.78   \n0x93d199263632a4ef4bb438f1feb99e57b4b5f0bd00000...              8467.25   \n0x1ee442b5326009bb18f2f472d3e0061513d1a0ff00020...              6939.33   \n0x1e19cf2d73a72ef1332c882f20534b6519be027600020...                 0.00   \n0x36be1e97ea98ab43b4debf92742517266f5731a300020...               933.62   \n0xf01b0684c98cd7ada480bfdf6e43876422fa1fc100020...                 0.00   \n0x9f9d900462492d4c21e9523ca95a7cd86142f29800020...              1165.36   \n0x3ff3a210e57cfe679d9ad1e9ba6453a716c56a2e00020...              5930.07   \n0x5f1f4e50ba51d723f12385a8a9606afc3a0555f500020...               764.84   \n0xdfe6e7e18f6cc65fa13c8d8966013d4fda74b6ba00000...              5511.71   \n0x8353157092ed8be69a9df8f95af097bbf33cb2af00000...              1463.98   \n0xb08885e6026bab4333a80024ec25a1a3e1ff2b8a00020...                 0.00   \n0xf16aee6a71af1a9bc8f56975a4c2705ca7a782bc00020...             11959.40   \n0xf7a826d47c8e02835d94fb0aa40f0cc9505cb13400020...                 0.00   \n0xe7e2c68d3b13d905bbb636709cf4dfd21076b9d200000...              3609.84   \n0xc771c1a5905420daec317b154eb13e4198ba97d000000...               506.96   \n0x0c659734f1eef9c63b7ebdf78a164cdd745586db00000...               443.89   \n0xfb4c2e6e6e27b5b4a07a36360c89ede29bb3c9b600000...              2714.33   \n0xb26f0e66317846bd5fe0cbaa1d269f0efeb05c9600000...               180.77   \n0x9fa6ab3d78984a69e712730a2227f20bcc8b5ad900000...               545.26   \n0xc13546b97b9b1b15372368dc06529d7191081f5b00000...               566.36   \n0xfd2620c9cfcec7d152467633b3b0ca338d3d78cc00000...              2384.31   \n0x55bec22f8f6c69137ceaf284d9b441db1b9bfedc00020...                 0.00   \n0x0c8972437a38b389ec83d1e666b69b8a4fcf8bfd00000...                 0.04   \n0x32df62dc3aed2cd6224193052ce665dc1816584100020...             18786.37   \n0x423a1323c871abc9d89eb06855bf5347048fc4a500000...               447.85   \n0x4a2f6ae7f3e5d715689530873ec35593dc28951b00000...              3251.97   \n0xade4a71bb62bec25154cfc7e6ff49a513b491e8100000...               860.27   \n0x9791d590788598535278552eecd4b211bfc790cb00000...              2286.57   \n\n                                                    token_fees_in_usd  \\\n0xee278d943584dd8640eaf4cc6c7a5c80c0073e8500020...                  0   \n0xf0ad209e2e969eaaa8c882aac71f02d8a047d5c200020...                  0   \n0x93d199263632a4ef4bb438f1feb99e57b4b5f0bd00000...                  0   \n0x1ee442b5326009bb18f2f472d3e0061513d1a0ff00020...                  0   \n0x1e19cf2d73a72ef1332c882f20534b6519be027600020...                  0   \n0x36be1e97ea98ab43b4debf92742517266f5731a300020...                  0   \n0xf01b0684c98cd7ada480bfdf6e43876422fa1fc100020...                  0   \n0x9f9d900462492d4c21e9523ca95a7cd86142f29800020...                  0   \n0x3ff3a210e57cfe679d9ad1e9ba6453a716c56a2e00020...                  0   \n0x5f1f4e50ba51d723f12385a8a9606afc3a0555f500020...                  0   \n0xdfe6e7e18f6cc65fa13c8d8966013d4fda74b6ba00000...                  0   \n0x8353157092ed8be69a9df8f95af097bbf33cb2af00000...                  0   \n0xb08885e6026bab4333a80024ec25a1a3e1ff2b8a00020...                  0   \n0xf16aee6a71af1a9bc8f56975a4c2705ca7a782bc00020...                  0   \n0xf7a826d47c8e02835d94fb0aa40f0cc9505cb13400020...                  0   \n0xe7e2c68d3b13d905bbb636709cf4dfd21076b9d200000...                  0   \n0xc771c1a5905420daec317b154eb13e4198ba97d000000...                  0   \n0x0c659734f1eef9c63b7ebdf78a164cdd745586db00000...                  0   \n0xfb4c2e6e6e27b5b4a07a36360c89ede29bb3c9b600000...                  0   \n0xb26f0e66317846bd5fe0cbaa1d269f0efeb05c9600000...                  0   \n0x9fa6ab3d78984a69e712730a2227f20bcc8b5ad900000...                  0   \n0xc13546b97b9b1b15372368dc06529d7191081f5b00000...                  0   \n0xfd2620c9cfcec7d152467633b3b0ca338d3d78cc00000...                  0   \n0x55bec22f8f6c69137ceaf284d9b441db1b9bfedc00020...                  0   \n0x0c8972437a38b389ec83d1e666b69b8a4fcf8bfd00000...                  0   \n0x32df62dc3aed2cd6224193052ce665dc1816584100020...                  0   \n0x423a1323c871abc9d89eb06855bf5347048fc4a500000...                  0   \n0x4a2f6ae7f3e5d715689530873ec35593dc28951b00000...                  0   \n0xade4a71bb62bec25154cfc7e6ff49a513b491e8100000...                  0   \n0x9791d590788598535278552eecd4b211bfc790cb00000...                  0   \n\n                                                             time_from  \\\n0xee278d943584dd8640eaf4cc6c7a5c80c0073e8500020... 2023-09-15 04:56:50   \n0xf0ad209e2e969eaaa8c882aac71f02d8a047d5c200020... 2023-09-15 04:56:50   \n0x93d199263632a4ef4bb438f1feb99e57b4b5f0bd00000... 2023-09-15 04:56:50   \n0x1ee442b5326009bb18f2f472d3e0061513d1a0ff00020... 2023-09-15 04:56:50   \n0x1e19cf2d73a72ef1332c882f20534b6519be027600020... 2023-09-15 04:56:50   \n0x36be1e97ea98ab43b4debf92742517266f5731a300020... 2023-09-15 04:56:50   \n0xf01b0684c98cd7ada480bfdf6e43876422fa1fc100020... 2023-09-15 04:56:50   \n0x9f9d900462492d4c21e9523ca95a7cd86142f29800020... 2023-09-15 04:56:50   \n0x3ff3a210e57cfe679d9ad1e9ba6453a716c56a2e00020... 2023-09-15 04:56:50   \n0x5f1f4e50ba51d723f12385a8a9606afc3a0555f500020... 2023-09-15 04:56:50   \n0xdfe6e7e18f6cc65fa13c8d8966013d4fda74b6ba00000... 2023-09-15 04:56:50   \n0x8353157092ed8be69a9df8f95af097bbf33cb2af00000... 2023-09-15 04:56:50   \n0xb08885e6026bab4333a80024ec25a1a3e1ff2b8a00020... 2023-09-15 04:56:50   \n0xf16aee6a71af1a9bc8f56975a4c2705ca7a782bc00020... 2023-09-15 04:56:50   \n0xf7a826d47c8e02835d94fb0aa40f0cc9505cb13400020... 2023-09-15 04:56:50   \n0xe7e2c68d3b13d905bbb636709cf4dfd21076b9d200000... 2023-09-15 04:56:50   \n0xc771c1a5905420daec317b154eb13e4198ba97d000000... 2023-09-15 04:56:50   \n0x0c659734f1eef9c63b7ebdf78a164cdd745586db00000... 2023-09-15 04:56:50   \n0xfb4c2e6e6e27b5b4a07a36360c89ede29bb3c9b600000... 2023-09-15 04:56:50   \n0xb26f0e66317846bd5fe0cbaa1d269f0efeb05c9600000... 2023-09-15 04:56:50   \n0x9fa6ab3d78984a69e712730a2227f20bcc8b5ad900000... 2023-09-15 04:56:50   \n0xc13546b97b9b1b15372368dc06529d7191081f5b00000... 2023-09-15 04:56:50   \n0xfd2620c9cfcec7d152467633b3b0ca338d3d78cc00000... 2023-09-15 04:56:50   \n0x55bec22f8f6c69137ceaf284d9b441db1b9bfedc00020... 2023-09-15 04:56:50   \n0x0c8972437a38b389ec83d1e666b69b8a4fcf8bfd00000... 2023-09-15 04:56:50   \n0x32df62dc3aed2cd6224193052ce665dc1816584100020... 2023-09-15 04:56:50   \n0x423a1323c871abc9d89eb06855bf5347048fc4a500000... 2023-09-15 04:56:50   \n0x4a2f6ae7f3e5d715689530873ec35593dc28951b00000... 2023-09-15 04:56:50   \n0xade4a71bb62bec25154cfc7e6ff49a513b491e8100000... 2023-09-15 04:56:50   \n0x9791d590788598535278552eecd4b211bfc790cb00000... 2023-09-15 04:56:50   \n\n                                                               time_to  \\\n0xee278d943584dd8640eaf4cc6c7a5c80c0073e8500020... 2023-09-29 04:56:50   \n0xf0ad209e2e969eaaa8c882aac71f02d8a047d5c200020... 2023-09-29 04:56:50   \n0x93d199263632a4ef4bb438f1feb99e57b4b5f0bd00000... 2023-09-29 04:56:50   \n0x1ee442b5326009bb18f2f472d3e0061513d1a0ff00020... 2023-09-29 04:56:50   \n0x1e19cf2d73a72ef1332c882f20534b6519be027600020... 2023-09-29 04:56:50   \n0x36be1e97ea98ab43b4debf92742517266f5731a300020... 2023-09-29 04:56:50   \n0xf01b0684c98cd7ada480bfdf6e43876422fa1fc100020... 2023-09-29 04:56:50   \n0x9f9d900462492d4c21e9523ca95a7cd86142f29800020... 2023-09-29 04:56:50   \n0x3ff3a210e57cfe679d9ad1e9ba6453a716c56a2e00020... 2023-09-29 04:56:50   \n0x5f1f4e50ba51d723f12385a8a9606afc3a0555f500020... 2023-09-29 04:56:50   \n0xdfe6e7e18f6cc65fa13c8d8966013d4fda74b6ba00000... 2023-09-29 04:56:50   \n0x8353157092ed8be69a9df8f95af097bbf33cb2af00000... 2023-09-29 04:56:50   \n0xb08885e6026bab4333a80024ec25a1a3e1ff2b8a00020... 2023-09-29 04:56:50   \n0xf16aee6a71af1a9bc8f56975a4c2705ca7a782bc00020... 2023-09-29 04:56:50   \n0xf7a826d47c8e02835d94fb0aa40f0cc9505cb13400020... 2023-09-29 04:56:50   \n0xe7e2c68d3b13d905bbb636709cf4dfd21076b9d200000... 2023-09-29 04:56:50   \n0xc771c1a5905420daec317b154eb13e4198ba97d000000... 2023-09-29 04:56:50   \n0x0c659734f1eef9c63b7ebdf78a164cdd745586db00000... 2023-09-29 04:56:50   \n0xfb4c2e6e6e27b5b4a07a36360c89ede29bb3c9b600000... 2023-09-29 04:56:50   \n0xb26f0e66317846bd5fe0cbaa1d269f0efeb05c9600000... 2023-09-29 04:56:50   \n0x9fa6ab3d78984a69e712730a2227f20bcc8b5ad900000... 2023-09-29 04:56:50   \n0xc13546b97b9b1b15372368dc06529d7191081f5b00000... 2023-09-29 04:56:50   \n0xfd2620c9cfcec7d152467633b3b0ca338d3d78cc00000... 2023-09-29 04:56:50   \n0x55bec22f8f6c69137ceaf284d9b441db1b9bfedc00020... 2023-09-29 04:56:50   \n0x0c8972437a38b389ec83d1e666b69b8a4fcf8bfd00000... 2023-09-29 04:56:50   \n0x32df62dc3aed2cd6224193052ce665dc1816584100020... 2023-09-29 04:56:50   \n0x423a1323c871abc9d89eb06855bf5347048fc4a500000... 2023-09-29 04:56:50   \n0x4a2f6ae7f3e5d715689530873ec35593dc28951b00000... 2023-09-29 04:56:50   \n0xade4a71bb62bec25154cfc7e6ff49a513b491e8100000... 2023-09-29 04:56:50   \n0x9791d590788598535278552eecd4b211bfc790cb00000... 2023-09-29 04:56:50   \n\n                                                        chain  \n0xee278d943584dd8640eaf4cc6c7a5c80c0073e8500020...    polygon  \n0xf0ad209e2e969eaaa8c882aac71f02d8a047d5c200020...    polygon  \n0x93d199263632a4ef4bb438f1feb99e57b4b5f0bd00000...    mainnet  \n0x1ee442b5326009bb18f2f472d3e0061513d1a0ff00020...    mainnet  \n0x1e19cf2d73a72ef1332c882f20534b6519be027600020...    mainnet  \n0x36be1e97ea98ab43b4debf92742517266f5731a300020...    mainnet  \n0xf01b0684c98cd7ada480bfdf6e43876422fa1fc100020...    mainnet  \n0x9f9d900462492d4c21e9523ca95a7cd86142f29800020...    mainnet  \n0x3ff3a210e57cfe679d9ad1e9ba6453a716c56a2e00020...    mainnet  \n0x5f1f4e50ba51d723f12385a8a9606afc3a0555f500020...    mainnet  \n0xdfe6e7e18f6cc65fa13c8d8966013d4fda74b6ba00000...    mainnet  \n0x8353157092ed8be69a9df8f95af097bbf33cb2af00000...    mainnet  \n0xb08885e6026bab4333a80024ec25a1a3e1ff2b8a00020...    mainnet  \n0xf16aee6a71af1a9bc8f56975a4c2705ca7a782bc00020...    mainnet  \n0xf7a826d47c8e02835d94fb0aa40f0cc9505cb13400020...    mainnet  \n0xe7e2c68d3b13d905bbb636709cf4dfd21076b9d200000...    mainnet  \n0xc771c1a5905420daec317b154eb13e4198ba97d000000...       base  \n0x0c659734f1eef9c63b7ebdf78a164cdd745586db00000...       base  \n0xfb4c2e6e6e27b5b4a07a36360c89ede29bb3c9b600000...       base  \n0xb26f0e66317846bd5fe0cbaa1d269f0efeb05c9600000...  avalanche  \n0x9fa6ab3d78984a69e712730a2227f20bcc8b5ad900000...  avalanche  \n0xc13546b97b9b1b15372368dc06529d7191081f5b00000...  avalanche  \n0xfd2620c9cfcec7d152467633b3b0ca338d3d78cc00000...  avalanche  \n0x55bec22f8f6c69137ceaf284d9b441db1b9bfedc00020...  avalanche  \n0x0c8972437a38b389ec83d1e666b69b8a4fcf8bfd00000...   arbitrum  \n0x32df62dc3aed2cd6224193052ce665dc1816584100020...   arbitrum  \n0x423a1323c871abc9d89eb06855bf5347048fc4a500000...   arbitrum  \n0x4a2f6ae7f3e5d715689530873ec35593dc28951b00000...   arbitrum  \n0xade4a71bb62bec25154cfc7e6ff49a513b491e8100000...   arbitrum  \n0x9791d590788598535278552eecd4b211bfc790cb00000...   arbitrum  ",
      "text/html": "<div>\n<style scoped>\n    .dataframe tbody tr th:only-of-type {\n        vertical-align: middle;\n    }\n\n    .dataframe tbody tr th {\n        vertical-align: top;\n    }\n\n    .dataframe thead th {\n        text-align: right;\n    }\n</style>\n<table border=\"1\" class=\"dataframe\">\n  <thead>\n    <tr style=\"text-align: right;\">\n      <th></th>\n      <th>symbol</th>\n      <th>pool_addr</th>\n      <th>bpt_token_fee</th>\n      <th>bpt_token_fee_in_usd</th>\n      <th>token_fees_in_usd</th>\n      <th>time_from</th>\n      <th>time_to</th>\n      <th>chain</th>\n    </tr>\n  </thead>\n  <tbody>\n    <tr>\n      <th>0xee278d943584dd8640eaf4cc6c7a5c80c0073e85000200000000000000000bc7</th>\n      <td>ECLP-WMATIC-MATICX</td>\n      <td>0xee278d943584dd8640eaf4cc6c7a5c80c0073e85</td>\n      <td>1254.62</td>\n      <td>659.76</td>\n      <td>0</td>\n      <td>2023-09-15 04:56:50</td>\n      <td>2023-09-29 04:56:50</td>\n      <td>polygon</td>\n    </tr>\n    <tr>\n      <th>0xf0ad209e2e969eaaa8c882aac71f02d8a047d5c2000200000000000000000b49</th>\n      <td>ECLP-WMATIC-stMATIC</td>\n      <td>0xf0ad209e2e969eaaa8c882aac71f02d8a047d5c2</td>\n      <td>3410.29</td>\n      <td>1800.78</td>\n      <td>0</td>\n      <td>2023-09-15 04:56:50</td>\n      <td>2023-09-29 04:56:50</td>\n      <td>polygon</td>\n    </tr>\n    <tr>\n      <th>0x93d199263632a4ef4bb438f1feb99e57b4b5f0bd0000000000000000000005c2</th>\n      <td>wstETH-WETH-BPT</td>\n      <td>0x93d199263632a4ef4bb438f1feb99e57b4b5f0bd</td>\n      <td>5.24</td>\n      <td>8467.25</td>\n      <td>0</td>\n      <td>2023-09-15 04:56:50</td>\n      <td>2023-09-29 04:56:50</td>\n      <td>mainnet</td>\n    </tr>\n    <tr>\n      <th>0x1ee442b5326009bb18f2f472d3e0061513d1a0ff000200000000000000000464</th>\n      <td>50rETH-50BADGER</td>\n      <td>0x1ee442b5326009bb18f2f472d3e0061513d1a0ff</td>\n      <td>116.14</td>\n      <td>6939.33</td>\n      <td>0</td>\n      <td>2023-09-15 04:56:50</td>\n      <td>2023-09-29 04:56:50</td>\n      <td>mainnet</td>\n    </tr>\n    <tr>\n      <th>0x1e19cf2d73a72ef1332c882f20534b6519be0276000200000000000000000112</th>\n      <td>B-rETH-STABLE</td>\n      <td>0x1e19cf2d73a72ef1332c882f20534b6519be0276</td>\n      <td>0.00</td>\n      <td>0.00</td>\n      <td>0</td>\n      <td>2023-09-15 04:56:50</td>\n      <td>2023-09-29 04:56:50</td>\n      <td>mainnet</td>\n    </tr>\n    <tr>\n      <th>0x36be1e97ea98ab43b4debf92742517266f5731a3000200000000000000000466</th>\n      <td>50wstETH-50ACX</td>\n      <td>0x36be1e97ea98ab43b4debf92742517266f5731a3</td>\n      <td>94.89</td>\n      <td>933.62</td>\n      <td>0</td>\n      <td>2023-09-15 04:56:50</td>\n      <td>2023-09-29 04:56:50</td>\n      <td>mainnet</td>\n    </tr>\n    <tr>\n      <th>0xf01b0684c98cd7ada480bfdf6e43876422fa1fc10002000000000000000005de</th>\n      <td>ECLP-wstETH-wETH</td>\n      <td>0xf01b0684c98cd7ada480bfdf6e43876422fa1fc1</td>\n      <td>0.00</td>\n      <td>0.00</td>\n      <td>0</td>\n      <td>2023-09-15 04:56:50</td>\n      <td>2023-09-29 04:56:50</td>\n      <td>mainnet</td>\n    </tr>\n    <tr>\n      <th>0x9f9d900462492d4c21e9523ca95a7cd86142f298000200000000000000000462</th>\n      <td>50rETH-50RPL</td>\n      <td>0x9f9d900462492d4c21e9523ca95a7cd86142f298</td>\n      <td>5.95</td>\n      <td>1165.36</td>\n      <td>0</td>\n      <td>2023-09-15 04:56:50</td>\n      <td>2023-09-29 04:56:50</td>\n      <td>mainnet</td>\n    </tr>\n    <tr>\n      <th>0x3ff3a210e57cfe679d9ad1e9ba6453a716c56a2e0002000000000000000005d5</th>\n      <td>STG/USDC</td>\n      <td>0x3ff3a210e57cfe679d9ad1e9ba6453a716c56a2e</td>\n      <td>8751.94</td>\n      <td>5930.07</td>\n      <td>0</td>\n      <td>2023-09-15 04:56:50</td>\n      <td>2023-09-29 04:56:50</td>\n      <td>mainnet</td>\n    </tr>\n    <tr>\n      <th>0x5f1f4e50ba51d723f12385a8a9606afc3a0555f5000200000000000000000465</th>\n      <td>50wstETH-50LDO</td>\n      <td>0x5f1f4e50ba51d723f12385a8a9606afc3a0555f5</td>\n      <td>14.53</td>\n      <td>764.84</td>\n      <td>0</td>\n      <td>2023-09-15 04:56:50</td>\n      <td>2023-09-29 04:56:50</td>\n      <td>mainnet</td>\n    </tr>\n    <tr>\n      <th>0xdfe6e7e18f6cc65fa13c8d8966013d4fda74b6ba000000000000000000000558</th>\n      <td>ankrETH/wstETH</td>\n      <td>0xdfe6e7e18f6cc65fa13c8d8966013d4fda74b6ba</td>\n      <td>3.39</td>\n      <td>5511.71</td>\n      <td>0</td>\n      <td>2023-09-15 04:56:50</td>\n      <td>2023-09-29 04:56:50</td>\n      <td>mainnet</td>\n    </tr>\n    <tr>\n      <th>0x8353157092ed8be69a9df8f95af097bbf33cb2af0000000000000000000005d9</th>\n      <td>GHO/USDT/USDC</td>\n      <td>0x8353157092ed8be69a9df8f95af097bbf33cb2af</td>\n      <td>1484.91</td>\n      <td>1463.98</td>\n      <td>0</td>\n      <td>2023-09-15 04:56:50</td>\n      <td>2023-09-29 04:56:50</td>\n      <td>mainnet</td>\n    </tr>\n    <tr>\n      <th>0xb08885e6026bab4333a80024ec25a1a3e1ff2b8a000200000000000000000445</th>\n      <td>B-staFiETH-WETH-Stable</td>\n      <td>0xb08885e6026bab4333a80024ec25a1a3e1ff2b8a</td>\n      <td>0.00</td>\n      <td>0.00</td>\n      <td>0</td>\n      <td>2023-09-15 04:56:50</td>\n      <td>2023-09-29 04:56:50</td>\n      <td>mainnet</td>\n    </tr>\n    <tr>\n      <th>0xf16aee6a71af1a9bc8f56975a4c2705ca7a782bc0002000000000000000004bb</th>\n      <td>20WETH-80ALCX</td>\n      <td>0xf16aee6a71af1a9bc8f56975a4c2705ca7a782bc</td>\n      <td>436.05</td>\n      <td>11959.40</td>\n      <td>0</td>\n      <td>2023-09-15 04:56:50</td>\n      <td>2023-09-29 04:56:50</td>\n      <td>mainnet</td>\n    </tr>\n    <tr>\n      <th>0xf7a826d47c8e02835d94fb0aa40f0cc9505cb1340002000000000000000005e0</th>\n      <td>ECLP-wstETH-cbETH</td>\n      <td>0xf7a826d47c8e02835d94fb0aa40f0cc9505cb134</td>\n      <td>0.00</td>\n      <td>0.00</td>\n      <td>0</td>\n      <td>2023-09-15 04:56:50</td>\n      <td>2023-09-29 04:56:50</td>\n      <td>mainnet</td>\n    </tr>\n    <tr>\n      <th>0xe7e2c68d3b13d905bbb636709cf4dfd21076b9d20000000000000000000005ca</th>\n      <td>swETH-WETH-BPT</td>\n      <td>0xe7e2c68d3b13d905bbb636709cf4dfd21076b9d2</td>\n      <td>2.28</td>\n      <td>3609.84</td>\n      <td>0</td>\n      <td>2023-09-15 04:56:50</td>\n      <td>2023-09-29 04:56:50</td>\n      <td>mainnet</td>\n    </tr>\n    <tr>\n      <th>0xc771c1a5905420daec317b154eb13e4198ba97d0000000000000000000000023</th>\n      <td>rETH-WETH-BPT</td>\n      <td>0xc771c1a5905420daec317b154eb13e4198ba97d0</td>\n      <td>0.31</td>\n      <td>506.96</td>\n      <td>0</td>\n      <td>2023-09-15 04:56:50</td>\n      <td>2023-09-29 04:56:50</td>\n      <td>base</td>\n    </tr>\n    <tr>\n      <th>0x0c659734f1eef9c63b7ebdf78a164cdd745586db000000000000000000000046</th>\n      <td>USDC/USDbC/axlUSDC</td>\n      <td>0x0c659734f1eef9c63b7ebdf78a164cdd745586db</td>\n      <td>443.53</td>\n      <td>443.89</td>\n      <td>0</td>\n      <td>2023-09-15 04:56:50</td>\n      <td>2023-09-29 04:56:50</td>\n      <td>base</td>\n    </tr>\n    <tr>\n      <th>0xfb4c2e6e6e27b5b4a07a36360c89ede29bb3c9b6000000000000000000000026</th>\n      <td>cbETH/WETH</td>\n      <td>0xfb4c2e6e6e27b5b4a07a36360c89ede29bb3c9b6</td>\n      <td>1.68</td>\n      <td>2714.33</td>\n      <td>0</td>\n      <td>2023-09-15 04:56:50</td>\n      <td>2023-09-29 04:56:50</td>\n      <td>base</td>\n    </tr>\n    <tr>\n      <th>0xb26f0e66317846bd5fe0cbaa1d269f0efeb05c9600000000000000000000001e</th>\n      <td>USDC-USDT-BPT</td>\n      <td>0xb26f0e66317846bd5fe0cbaa1d269f0efeb05c96</td>\n      <td>180.73</td>\n      <td>180.77</td>\n      <td>0</td>\n      <td>2023-09-15 04:56:50</td>\n      <td>2023-09-29 04:56:50</td>\n      <td>avalanche</td>\n    </tr>\n    <tr>\n      <th>0x9fa6ab3d78984a69e712730a2227f20bcc8b5ad900000000000000000000001f</th>\n      <td>yyAVAX-WAVAX-BPT</td>\n      <td>0x9fa6ab3d78984a69e712730a2227f20bcc8b5ad9</td>\n      <td>60.01</td>\n      <td>545.26</td>\n      <td>0</td>\n      <td>2023-09-15 04:56:50</td>\n      <td>2023-09-29 04:56:50</td>\n      <td>avalanche</td>\n    </tr>\n    <tr>\n      <th>0xc13546b97b9b1b15372368dc06529d7191081f5b00000000000000000000001d</th>\n      <td>ggAVAX-WAVAX-BPT</td>\n      <td>0xc13546b97b9b1b15372368dc06529d7191081f5b</td>\n      <td>62.20</td>\n      <td>566.36</td>\n      <td>0</td>\n      <td>2023-09-15 04:56:50</td>\n      <td>2023-09-29 04:56:50</td>\n      <td>avalanche</td>\n    </tr>\n    <tr>\n      <th>0xfd2620c9cfcec7d152467633b3b0ca338d3d78cc00000000000000000000001c</th>\n      <td>sAVAX-WAVAX-BPT</td>\n      <td>0xfd2620c9cfcec7d152467633b3b0ca338d3d78cc</td>\n      <td>263.04</td>\n      <td>2384.31</td>\n      <td>0</td>\n      <td>2023-09-15 04:56:50</td>\n      <td>2023-09-29 04:56:50</td>\n      <td>avalanche</td>\n    </tr>\n    <tr>\n      <th>0x55bec22f8f6c69137ceaf284d9b441db1b9bfedc000200000000000000000011</th>\n      <td>BPT</td>\n      <td>0x55bec22f8f6c69137ceaf284d9b441db1b9bfedc</td>\n      <td>0.00</td>\n      <td>0.00</td>\n      <td>0</td>\n      <td>2023-09-15 04:56:50</td>\n      <td>2023-09-29 04:56:50</td>\n      <td>avalanche</td>\n    </tr>\n    <tr>\n      <th>0x0c8972437a38b389ec83d1e666b69b8a4fcf8bfd00000000000000000000049e</th>\n      <td>wstETH/rETH/sfrxETH</td>\n      <td>0x0c8972437a38b389ec83d1e666b69b8a4fcf8bfd</td>\n      <td>0.00</td>\n      <td>0.04</td>\n      <td>0</td>\n      <td>2023-09-15 04:56:50</td>\n      <td>2023-09-29 04:56:50</td>\n      <td>arbitrum</td>\n    </tr>\n    <tr>\n      <th>0x32df62dc3aed2cd6224193052ce665dc181658410002000000000000000003bd</th>\n      <td>RDNT-WETH</td>\n      <td>0x32df62dc3aed2cd6224193052ce665dc18165841</td>\n      <td>17209.84</td>\n      <td>18786.37</td>\n      <td>0</td>\n      <td>2023-09-15 04:56:50</td>\n      <td>2023-09-29 04:56:50</td>\n      <td>arbitrum</td>\n    </tr>\n    <tr>\n      <th>0x423a1323c871abc9d89eb06855bf5347048fc4a5000000000000000000000496</th>\n      <td>4POOL-BPT</td>\n      <td>0x423a1323c871abc9d89eb06855bf5347048fc4a5</td>\n      <td>447.60</td>\n      <td>447.85</td>\n      <td>0</td>\n      <td>2023-09-15 04:56:50</td>\n      <td>2023-09-29 04:56:50</td>\n      <td>arbitrum</td>\n    </tr>\n    <tr>\n      <th>0x4a2f6ae7f3e5d715689530873ec35593dc28951b000000000000000000000481</th>\n      <td>wstETH/rETH/cbETH</td>\n      <td>0x4a2f6ae7f3e5d715689530873ec35593dc28951b</td>\n      <td>2.01</td>\n      <td>3251.97</td>\n      <td>0</td>\n      <td>2023-09-15 04:56:50</td>\n      <td>2023-09-29 04:56:50</td>\n      <td>arbitrum</td>\n    </tr>\n    <tr>\n      <th>0xade4a71bb62bec25154cfc7e6ff49a513b491e81000000000000000000000497</th>\n      <td>rETH-WETH-BPT</td>\n      <td>0xade4a71bb62bec25154cfc7e6ff49a513b491e81</td>\n      <td>0.53</td>\n      <td>860.27</td>\n      <td>0</td>\n      <td>2023-09-15 04:56:50</td>\n      <td>2023-09-29 04:56:50</td>\n      <td>arbitrum</td>\n    </tr>\n    <tr>\n      <th>0x9791d590788598535278552eecd4b211bfc790cb000000000000000000000498</th>\n      <td>wstETH-WETH-BPT</td>\n      <td>0x9791d590788598535278552eecd4b211bfc790cb</td>\n      <td>1.41</td>\n      <td>2286.57</td>\n      <td>0</td>\n      <td>2023-09-15 04:56:50</td>\n      <td>2023-09-29 04:56:50</td>\n      <td>arbitrum</td>\n    </tr>\n  </tbody>\n</table>\n</div>"
     },
     "execution_count": 4,
     "metadata": {},
     "output_type": "execute_result"
    }
   ],
   "source": [
    "# Remove `token_fees` field from dataframe, as it's too big\n",
    "joint_fees_df_copy = joint_fees_df.drop(columns=['token_fees'])\n",
    "# Display all rows in dataframe\n",
    "pd.set_option('display.max_rows', 1000)\n",
    "joint_fees_df_copy.sort_values(by=['chain'], ascending=False)"
   ],
   "metadata": {
    "collapsed": false,
    "ExecuteTime": {
     "end_time": "2023-10-10T14:03:53.385230Z",
     "start_time": "2023-10-10T14:03:53.366861Z"
    }
   },
   "id": "52fccc19e5e6b4f2"
  },
  {
   "cell_type": "markdown",
   "source": [
    "## Now let's calculate bribes paid to the pools and save them to csv"
   ],
   "metadata": {
    "collapsed": false
   },
   "id": "97a5370819f28ffc"
  },
  {
   "cell_type": "code",
   "execution_count": 14,
   "outputs": [
    {
     "data": {
      "text/plain": "                                                        chain  \\\n0xade4a71bb62bec25154cfc7e6ff49a513b491e8100000...   arbitrum   \n0x9791d590788598535278552eecd4b211bfc790cb00000...   arbitrum   \n0x4a2f6ae7f3e5d715689530873ec35593dc28951b00000...   arbitrum   \n0x423a1323c871abc9d89eb06855bf5347048fc4a500000...   arbitrum   \n0x32df62dc3aed2cd6224193052ce665dc1816584100020...   arbitrum   \n0x0c8972437a38b389ec83d1e666b69b8a4fcf8bfd00000...   arbitrum   \n0xfd2620c9cfcec7d152467633b3b0ca338d3d78cc00000...  avalanche   \n0xc13546b97b9b1b15372368dc06529d7191081f5b00000...  avalanche   \n0x9fa6ab3d78984a69e712730a2227f20bcc8b5ad900000...  avalanche   \n0xb26f0e66317846bd5fe0cbaa1d269f0efeb05c9600000...  avalanche   \n0x55bec22f8f6c69137ceaf284d9b441db1b9bfedc00020...  avalanche   \n0xfb4c2e6e6e27b5b4a07a36360c89ede29bb3c9b600000...       base   \n0xc771c1a5905420daec317b154eb13e4198ba97d000000...       base   \n0x0c659734f1eef9c63b7ebdf78a164cdd745586db00000...       base   \n0x93d199263632a4ef4bb438f1feb99e57b4b5f0bd00000...    mainnet   \n0x1e19cf2d73a72ef1332c882f20534b6519be027600020...    mainnet   \n0xe7e2c68d3b13d905bbb636709cf4dfd21076b9d200000...    mainnet   \n0xf7a826d47c8e02835d94fb0aa40f0cc9505cb13400020...    mainnet   \n0xf16aee6a71af1a9bc8f56975a4c2705ca7a782bc00020...    mainnet   \n0xb08885e6026bab4333a80024ec25a1a3e1ff2b8a00020...    mainnet   \n0x8353157092ed8be69a9df8f95af097bbf33cb2af00000...    mainnet   \n0xdfe6e7e18f6cc65fa13c8d8966013d4fda74b6ba00000...    mainnet   \n0x5f1f4e50ba51d723f12385a8a9606afc3a0555f500020...    mainnet   \n0x1ee442b5326009bb18f2f472d3e0061513d1a0ff00020...    mainnet   \n0x9f9d900462492d4c21e9523ca95a7cd86142f29800020...    mainnet   \n0x3ff3a210e57cfe679d9ad1e9ba6453a716c56a2e00020...    mainnet   \n0xf01b0684c98cd7ada480bfdf6e43876422fa1fc100020...    mainnet   \n0x36be1e97ea98ab43b4debf92742517266f5731a300020...    mainnet   \n0xf0ad209e2e969eaaa8c882aac71f02d8a047d5c200020...    polygon   \n0xee278d943584dd8640eaf4cc6c7a5c80c0073e8500020...    polygon   \n\n                                                                    symbol  \\\n0xade4a71bb62bec25154cfc7e6ff49a513b491e8100000...           rETH-WETH-BPT   \n0x9791d590788598535278552eecd4b211bfc790cb00000...         wstETH-WETH-BPT   \n0x4a2f6ae7f3e5d715689530873ec35593dc28951b00000...       wstETH/rETH/cbETH   \n0x423a1323c871abc9d89eb06855bf5347048fc4a500000...               4POOL-BPT   \n0x32df62dc3aed2cd6224193052ce665dc1816584100020...               RDNT-WETH   \n0x0c8972437a38b389ec83d1e666b69b8a4fcf8bfd00000...     wstETH/rETH/sfrxETH   \n0xfd2620c9cfcec7d152467633b3b0ca338d3d78cc00000...         sAVAX-WAVAX-BPT   \n0xc13546b97b9b1b15372368dc06529d7191081f5b00000...        ggAVAX-WAVAX-BPT   \n0x9fa6ab3d78984a69e712730a2227f20bcc8b5ad900000...        yyAVAX-WAVAX-BPT   \n0xb26f0e66317846bd5fe0cbaa1d269f0efeb05c9600000...           USDC-USDT-BPT   \n0x55bec22f8f6c69137ceaf284d9b441db1b9bfedc00020...                     BPT   \n0xfb4c2e6e6e27b5b4a07a36360c89ede29bb3c9b600000...              cbETH/WETH   \n0xc771c1a5905420daec317b154eb13e4198ba97d000000...           rETH-WETH-BPT   \n0x0c659734f1eef9c63b7ebdf78a164cdd745586db00000...      USDC/USDbC/axlUSDC   \n0x93d199263632a4ef4bb438f1feb99e57b4b5f0bd00000...         wstETH-WETH-BPT   \n0x1e19cf2d73a72ef1332c882f20534b6519be027600020...           B-rETH-STABLE   \n0xe7e2c68d3b13d905bbb636709cf4dfd21076b9d200000...          swETH-WETH-BPT   \n0xf7a826d47c8e02835d94fb0aa40f0cc9505cb13400020...       ECLP-wstETH-cbETH   \n0xf16aee6a71af1a9bc8f56975a4c2705ca7a782bc00020...           20WETH-80ALCX   \n0xb08885e6026bab4333a80024ec25a1a3e1ff2b8a00020...  B-staFiETH-WETH-Stable   \n0x8353157092ed8be69a9df8f95af097bbf33cb2af00000...           GHO/USDT/USDC   \n0xdfe6e7e18f6cc65fa13c8d8966013d4fda74b6ba00000...          ankrETH/wstETH   \n0x5f1f4e50ba51d723f12385a8a9606afc3a0555f500020...          50wstETH-50LDO   \n0x1ee442b5326009bb18f2f472d3e0061513d1a0ff00020...         50rETH-50BADGER   \n0x9f9d900462492d4c21e9523ca95a7cd86142f29800020...            50rETH-50RPL   \n0x3ff3a210e57cfe679d9ad1e9ba6453a716c56a2e00020...                STG/USDC   \n0xf01b0684c98cd7ada480bfdf6e43876422fa1fc100020...        ECLP-wstETH-wETH   \n0x36be1e97ea98ab43b4debf92742517266f5731a300020...          50wstETH-50ACX   \n0xf0ad209e2e969eaaa8c882aac71f02d8a047d5c200020...     ECLP-WMATIC-stMATIC   \n0xee278d943584dd8640eaf4cc6c7a5c80c0073e8500020...      ECLP-WMATIC-MATICX   \n\n                                                   protocol_fees_collected  \\\n0xade4a71bb62bec25154cfc7e6ff49a513b491e8100000...                  860.27   \n0x9791d590788598535278552eecd4b211bfc790cb00000...                 2286.57   \n0x4a2f6ae7f3e5d715689530873ec35593dc28951b00000...                 3251.97   \n0x423a1323c871abc9d89eb06855bf5347048fc4a500000...                  447.85   \n0x32df62dc3aed2cd6224193052ce665dc1816584100020...                18786.37   \n0x0c8972437a38b389ec83d1e666b69b8a4fcf8bfd00000...                    0.04   \n0xfd2620c9cfcec7d152467633b3b0ca338d3d78cc00000...                 2384.31   \n0xc13546b97b9b1b15372368dc06529d7191081f5b00000...                  566.36   \n0x9fa6ab3d78984a69e712730a2227f20bcc8b5ad900000...                  545.26   \n0xb26f0e66317846bd5fe0cbaa1d269f0efeb05c9600000...                  180.77   \n0x55bec22f8f6c69137ceaf284d9b441db1b9bfedc00020...                    0.00   \n0xfb4c2e6e6e27b5b4a07a36360c89ede29bb3c9b600000...                 2714.33   \n0xc771c1a5905420daec317b154eb13e4198ba97d000000...                  506.96   \n0x0c659734f1eef9c63b7ebdf78a164cdd745586db00000...                  443.89   \n0x93d199263632a4ef4bb438f1feb99e57b4b5f0bd00000...                 8467.25   \n0x1e19cf2d73a72ef1332c882f20534b6519be027600020...                    0.00   \n0xe7e2c68d3b13d905bbb636709cf4dfd21076b9d200000...                 3609.84   \n0xf7a826d47c8e02835d94fb0aa40f0cc9505cb13400020...                    0.00   \n0xf16aee6a71af1a9bc8f56975a4c2705ca7a782bc00020...                11959.40   \n0xb08885e6026bab4333a80024ec25a1a3e1ff2b8a00020...                    0.00   \n0x8353157092ed8be69a9df8f95af097bbf33cb2af00000...                 1463.98   \n0xdfe6e7e18f6cc65fa13c8d8966013d4fda74b6ba00000...                 5511.71   \n0x5f1f4e50ba51d723f12385a8a9606afc3a0555f500020...                  764.84   \n0x1ee442b5326009bb18f2f472d3e0061513d1a0ff00020...                 6939.33   \n0x9f9d900462492d4c21e9523ca95a7cd86142f29800020...                 1165.36   \n0x3ff3a210e57cfe679d9ad1e9ba6453a716c56a2e00020...                 5930.07   \n0xf01b0684c98cd7ada480bfdf6e43876422fa1fc100020...                    0.00   \n0x36be1e97ea98ab43b4debf92742517266f5731a300020...                  933.62   \n0xf0ad209e2e969eaaa8c882aac71f02d8a047d5c200020...                 1800.78   \n0xee278d943584dd8640eaf4cc6c7a5c80c0073e8500020...                  659.76   \n\n                                                   fees_to_vebal fees_to_dao  \\\n0xade4a71bb62bec25154cfc7e6ff49a513b491e8100000...        463.77      198.76   \n0x9791d590788598535278552eecd4b211bfc790cb00000...       1232.68      528.29   \n0x4a2f6ae7f3e5d715689530873ec35593dc28951b00000...       1753.12      751.34   \n0x423a1323c871abc9d89eb06855bf5347048fc4a500000...        241.43      103.47   \n0x32df62dc3aed2cd6224193052ce665dc1816584100020...      10127.62     4340.41   \n0x0c8972437a38b389ec83d1e666b69b8a4fcf8bfd00000...          0.02        0.01   \n0xfd2620c9cfcec7d152467633b3b0ca338d3d78cc00000...       2337.13     1001.63   \n0xc13546b97b9b1b15372368dc06529d7191081f5b00000...        555.15      237.92   \n0x9fa6ab3d78984a69e712730a2227f20bcc8b5ad900000...        534.47      229.06   \n0xb26f0e66317846bd5fe0cbaa1d269f0efeb05c9600000...        177.19       75.94   \n0x55bec22f8f6c69137ceaf284d9b441db1b9bfedc00020...          0.00        0.00   \n0xfb4c2e6e6e27b5b4a07a36360c89ede29bb3c9b600000...       2659.49     1139.78   \n0xc771c1a5905420daec317b154eb13e4198ba97d000000...        496.72      212.88   \n0x0c659734f1eef9c63b7ebdf78a164cdd745586db00000...        434.92      186.39   \n0x93d199263632a4ef4bb438f1feb99e57b4b5f0bd00000...       7160.47     3068.77   \n0x1e19cf2d73a72ef1332c882f20534b6519be027600020...          0.00        0.00   \n0xe7e2c68d3b13d905bbb636709cf4dfd21076b9d200000...       3052.72     1308.31   \n0xf7a826d47c8e02835d94fb0aa40f0cc9505cb13400020...          0.00        0.00   \n0xf16aee6a71af1a9bc8f56975a4c2705ca7a782bc00020...      10113.66     4334.43   \n0xb08885e6026bab4333a80024ec25a1a3e1ff2b8a00020...          0.00        0.00   \n0x8353157092ed8be69a9df8f95af097bbf33cb2af00000...       1238.04      530.59   \n0xdfe6e7e18f6cc65fa13c8d8966013d4fda74b6ba00000...       4661.07     1997.60   \n0x5f1f4e50ba51d723f12385a8a9606afc3a0555f500020...        646.80      277.20   \n0x1ee442b5326009bb18f2f472d3e0061513d1a0ff00020...       5868.36     2515.01   \n0x9f9d900462492d4c21e9523ca95a7cd86142f29800020...        985.51      422.36   \n0x3ff3a210e57cfe679d9ad1e9ba6453a716c56a2e00020...       5014.86     2149.23   \n0xf01b0684c98cd7ada480bfdf6e43876422fa1fc100020...          0.00        0.00   \n0x36be1e97ea98ab43b4debf92742517266f5731a300020...        789.53      338.37   \n0xf0ad209e2e969eaaa8c882aac71f02d8a047d5c200020...       1688.78      723.76   \n0xee278d943584dd8640eaf4cc6c7a5c80c0073e8500020...        618.73      265.17   \n\n                                                   total_bribes aura_bribes  \\\n0xade4a71bb62bec25154cfc7e6ff49a513b491e8100000...       662.52           0   \n0x9791d590788598535278552eecd4b211bfc790cb00000...      1760.96      690.43   \n0x4a2f6ae7f3e5d715689530873ec35593dc28951b00000...      2504.46      981.94   \n0x423a1323c871abc9d89eb06855bf5347048fc4a500000...       344.90           0   \n0x32df62dc3aed2cd6224193052ce665dc1816584100020...     14468.03     5672.57   \n0x0c8972437a38b389ec83d1e666b69b8a4fcf8bfd00000...         0.03           0   \n0xfd2620c9cfcec7d152467633b3b0ca338d3d78cc00000...      3338.76     1309.05   \n0xc13546b97b9b1b15372368dc06529d7191081f5b00000...       793.08           0   \n0x9fa6ab3d78984a69e712730a2227f20bcc8b5ad900000...       763.53           0   \n0xb26f0e66317846bd5fe0cbaa1d269f0efeb05c9600000...       253.13           0   \n0x55bec22f8f6c69137ceaf284d9b441db1b9bfedc00020...         0.00           0   \n0xfb4c2e6e6e27b5b4a07a36360c89ede29bb3c9b600000...      3799.26     1489.60   \n0xc771c1a5905420daec317b154eb13e4198ba97d000000...       709.60           0   \n0x0c659734f1eef9c63b7ebdf78a164cdd745586db00000...       621.32           0   \n0x93d199263632a4ef4bb438f1feb99e57b4b5f0bd00000...     10229.24     4010.64   \n0x1e19cf2d73a72ef1332c882f20534b6519be027600020...         0.00           0   \n0xe7e2c68d3b13d905bbb636709cf4dfd21076b9d200000...      4361.03     1709.86   \n0xf7a826d47c8e02835d94fb0aa40f0cc9505cb13400020...         0.00           0   \n0xf16aee6a71af1a9bc8f56975a4c2705ca7a782bc00020...     14448.09     5664.75   \n0xb08885e6026bab4333a80024ec25a1a3e1ff2b8a00020...         0.00           0   \n0x8353157092ed8be69a9df8f95af097bbf33cb2af00000...      1768.63      693.44   \n0xdfe6e7e18f6cc65fa13c8d8966013d4fda74b6ba00000...      6658.66     2610.70   \n0x5f1f4e50ba51d723f12385a8a9606afc3a0555f500020...       924.00           0   \n0x1ee442b5326009bb18f2f472d3e0061513d1a0ff00020...      8383.37     3286.92   \n0x9f9d900462492d4c21e9523ca95a7cd86142f29800020...      1407.87      551.99   \n0x3ff3a210e57cfe679d9ad1e9ba6453a716c56a2e00020...      7164.09     2808.87   \n0xf01b0684c98cd7ada480bfdf6e43876422fa1fc100020...         0.00           0   \n0x36be1e97ea98ab43b4debf92742517266f5731a300020...      1127.90           0   \n0xf0ad209e2e969eaaa8c882aac71f02d8a047d5c200020...      2412.54      945.90   \n0xee278d943584dd8640eaf4cc6c7a5c80c0073e8500020...       883.89           0   \n\n                                                   bal_bribes  \n0xade4a71bb62bec25154cfc7e6ff49a513b491e8100000...     662.52  \n0x9791d590788598535278552eecd4b211bfc790cb00000...    1070.53  \n0x4a2f6ae7f3e5d715689530873ec35593dc28951b00000...    1522.52  \n0x423a1323c871abc9d89eb06855bf5347048fc4a500000...     344.90  \n0x32df62dc3aed2cd6224193052ce665dc1816584100020...    8795.46  \n0x0c8972437a38b389ec83d1e666b69b8a4fcf8bfd00000...       0.03  \n0xfd2620c9cfcec7d152467633b3b0ca338d3d78cc00000...    2029.71  \n0xc13546b97b9b1b15372368dc06529d7191081f5b00000...     793.08  \n0x9fa6ab3d78984a69e712730a2227f20bcc8b5ad900000...     763.53  \n0xb26f0e66317846bd5fe0cbaa1d269f0efeb05c9600000...     253.13  \n0x55bec22f8f6c69137ceaf284d9b441db1b9bfedc00020...       0.00  \n0xfb4c2e6e6e27b5b4a07a36360c89ede29bb3c9b600000...    2309.66  \n0xc771c1a5905420daec317b154eb13e4198ba97d000000...     709.60  \n0x0c659734f1eef9c63b7ebdf78a164cdd745586db00000...     621.32  \n0x93d199263632a4ef4bb438f1feb99e57b4b5f0bd00000...    6218.60  \n0x1e19cf2d73a72ef1332c882f20534b6519be027600020...       0.00  \n0xe7e2c68d3b13d905bbb636709cf4dfd21076b9d200000...    2651.17  \n0xf7a826d47c8e02835d94fb0aa40f0cc9505cb13400020...       0.00  \n0xf16aee6a71af1a9bc8f56975a4c2705ca7a782bc00020...    8783.34  \n0xb08885e6026bab4333a80024ec25a1a3e1ff2b8a00020...       0.00  \n0x8353157092ed8be69a9df8f95af097bbf33cb2af00000...    1075.19  \n0xdfe6e7e18f6cc65fa13c8d8966013d4fda74b6ba00000...    4047.96  \n0x5f1f4e50ba51d723f12385a8a9606afc3a0555f500020...     924.00  \n0x1ee442b5326009bb18f2f472d3e0061513d1a0ff00020...    5096.45  \n0x9f9d900462492d4c21e9523ca95a7cd86142f29800020...     855.88  \n0x3ff3a210e57cfe679d9ad1e9ba6453a716c56a2e00020...    4355.22  \n0xf01b0684c98cd7ada480bfdf6e43876422fa1fc100020...       0.00  \n0x36be1e97ea98ab43b4debf92742517266f5731a300020...    1127.90  \n0xf0ad209e2e969eaaa8c882aac71f02d8a047d5c200020...    1466.64  \n0xee278d943584dd8640eaf4cc6c7a5c80c0073e8500020...     883.89  ",
      "text/html": "<div>\n<style scoped>\n    .dataframe tbody tr th:only-of-type {\n        vertical-align: middle;\n    }\n\n    .dataframe tbody tr th {\n        vertical-align: top;\n    }\n\n    .dataframe thead th {\n        text-align: right;\n    }\n</style>\n<table border=\"1\" class=\"dataframe\">\n  <thead>\n    <tr style=\"text-align: right;\">\n      <th></th>\n      <th>chain</th>\n      <th>symbol</th>\n      <th>protocol_fees_collected</th>\n      <th>fees_to_vebal</th>\n      <th>fees_to_dao</th>\n      <th>total_bribes</th>\n      <th>aura_bribes</th>\n      <th>bal_bribes</th>\n    </tr>\n  </thead>\n  <tbody>\n    <tr>\n      <th>0xade4a71bb62bec25154cfc7e6ff49a513b491e81000000000000000000000497</th>\n      <td>arbitrum</td>\n      <td>rETH-WETH-BPT</td>\n      <td>860.27</td>\n      <td>463.77</td>\n      <td>198.76</td>\n      <td>662.52</td>\n      <td>0</td>\n      <td>662.52</td>\n    </tr>\n    <tr>\n      <th>0x9791d590788598535278552eecd4b211bfc790cb000000000000000000000498</th>\n      <td>arbitrum</td>\n      <td>wstETH-WETH-BPT</td>\n      <td>2286.57</td>\n      <td>1232.68</td>\n      <td>528.29</td>\n      <td>1760.96</td>\n      <td>690.43</td>\n      <td>1070.53</td>\n    </tr>\n    <tr>\n      <th>0x4a2f6ae7f3e5d715689530873ec35593dc28951b000000000000000000000481</th>\n      <td>arbitrum</td>\n      <td>wstETH/rETH/cbETH</td>\n      <td>3251.97</td>\n      <td>1753.12</td>\n      <td>751.34</td>\n      <td>2504.46</td>\n      <td>981.94</td>\n      <td>1522.52</td>\n    </tr>\n    <tr>\n      <th>0x423a1323c871abc9d89eb06855bf5347048fc4a5000000000000000000000496</th>\n      <td>arbitrum</td>\n      <td>4POOL-BPT</td>\n      <td>447.85</td>\n      <td>241.43</td>\n      <td>103.47</td>\n      <td>344.90</td>\n      <td>0</td>\n      <td>344.90</td>\n    </tr>\n    <tr>\n      <th>0x32df62dc3aed2cd6224193052ce665dc181658410002000000000000000003bd</th>\n      <td>arbitrum</td>\n      <td>RDNT-WETH</td>\n      <td>18786.37</td>\n      <td>10127.62</td>\n      <td>4340.41</td>\n      <td>14468.03</td>\n      <td>5672.57</td>\n      <td>8795.46</td>\n    </tr>\n    <tr>\n      <th>0x0c8972437a38b389ec83d1e666b69b8a4fcf8bfd00000000000000000000049e</th>\n      <td>arbitrum</td>\n      <td>wstETH/rETH/sfrxETH</td>\n      <td>0.04</td>\n      <td>0.02</td>\n      <td>0.01</td>\n      <td>0.03</td>\n      <td>0</td>\n      <td>0.03</td>\n    </tr>\n    <tr>\n      <th>0xfd2620c9cfcec7d152467633b3b0ca338d3d78cc00000000000000000000001c</th>\n      <td>avalanche</td>\n      <td>sAVAX-WAVAX-BPT</td>\n      <td>2384.31</td>\n      <td>2337.13</td>\n      <td>1001.63</td>\n      <td>3338.76</td>\n      <td>1309.05</td>\n      <td>2029.71</td>\n    </tr>\n    <tr>\n      <th>0xc13546b97b9b1b15372368dc06529d7191081f5b00000000000000000000001d</th>\n      <td>avalanche</td>\n      <td>ggAVAX-WAVAX-BPT</td>\n      <td>566.36</td>\n      <td>555.15</td>\n      <td>237.92</td>\n      <td>793.08</td>\n      <td>0</td>\n      <td>793.08</td>\n    </tr>\n    <tr>\n      <th>0x9fa6ab3d78984a69e712730a2227f20bcc8b5ad900000000000000000000001f</th>\n      <td>avalanche</td>\n      <td>yyAVAX-WAVAX-BPT</td>\n      <td>545.26</td>\n      <td>534.47</td>\n      <td>229.06</td>\n      <td>763.53</td>\n      <td>0</td>\n      <td>763.53</td>\n    </tr>\n    <tr>\n      <th>0xb26f0e66317846bd5fe0cbaa1d269f0efeb05c9600000000000000000000001e</th>\n      <td>avalanche</td>\n      <td>USDC-USDT-BPT</td>\n      <td>180.77</td>\n      <td>177.19</td>\n      <td>75.94</td>\n      <td>253.13</td>\n      <td>0</td>\n      <td>253.13</td>\n    </tr>\n    <tr>\n      <th>0x55bec22f8f6c69137ceaf284d9b441db1b9bfedc000200000000000000000011</th>\n      <td>avalanche</td>\n      <td>BPT</td>\n      <td>0.00</td>\n      <td>0.00</td>\n      <td>0.00</td>\n      <td>0.00</td>\n      <td>0</td>\n      <td>0.00</td>\n    </tr>\n    <tr>\n      <th>0xfb4c2e6e6e27b5b4a07a36360c89ede29bb3c9b6000000000000000000000026</th>\n      <td>base</td>\n      <td>cbETH/WETH</td>\n      <td>2714.33</td>\n      <td>2659.49</td>\n      <td>1139.78</td>\n      <td>3799.26</td>\n      <td>1489.60</td>\n      <td>2309.66</td>\n    </tr>\n    <tr>\n      <th>0xc771c1a5905420daec317b154eb13e4198ba97d0000000000000000000000023</th>\n      <td>base</td>\n      <td>rETH-WETH-BPT</td>\n      <td>506.96</td>\n      <td>496.72</td>\n      <td>212.88</td>\n      <td>709.60</td>\n      <td>0</td>\n      <td>709.60</td>\n    </tr>\n    <tr>\n      <th>0x0c659734f1eef9c63b7ebdf78a164cdd745586db000000000000000000000046</th>\n      <td>base</td>\n      <td>USDC/USDbC/axlUSDC</td>\n      <td>443.89</td>\n      <td>434.92</td>\n      <td>186.39</td>\n      <td>621.32</td>\n      <td>0</td>\n      <td>621.32</td>\n    </tr>\n    <tr>\n      <th>0x93d199263632a4ef4bb438f1feb99e57b4b5f0bd0000000000000000000005c2</th>\n      <td>mainnet</td>\n      <td>wstETH-WETH-BPT</td>\n      <td>8467.25</td>\n      <td>7160.47</td>\n      <td>3068.77</td>\n      <td>10229.24</td>\n      <td>4010.64</td>\n      <td>6218.60</td>\n    </tr>\n    <tr>\n      <th>0x1e19cf2d73a72ef1332c882f20534b6519be0276000200000000000000000112</th>\n      <td>mainnet</td>\n      <td>B-rETH-STABLE</td>\n      <td>0.00</td>\n      <td>0.00</td>\n      <td>0.00</td>\n      <td>0.00</td>\n      <td>0</td>\n      <td>0.00</td>\n    </tr>\n    <tr>\n      <th>0xe7e2c68d3b13d905bbb636709cf4dfd21076b9d20000000000000000000005ca</th>\n      <td>mainnet</td>\n      <td>swETH-WETH-BPT</td>\n      <td>3609.84</td>\n      <td>3052.72</td>\n      <td>1308.31</td>\n      <td>4361.03</td>\n      <td>1709.86</td>\n      <td>2651.17</td>\n    </tr>\n    <tr>\n      <th>0xf7a826d47c8e02835d94fb0aa40f0cc9505cb1340002000000000000000005e0</th>\n      <td>mainnet</td>\n      <td>ECLP-wstETH-cbETH</td>\n      <td>0.00</td>\n      <td>0.00</td>\n      <td>0.00</td>\n      <td>0.00</td>\n      <td>0</td>\n      <td>0.00</td>\n    </tr>\n    <tr>\n      <th>0xf16aee6a71af1a9bc8f56975a4c2705ca7a782bc0002000000000000000004bb</th>\n      <td>mainnet</td>\n      <td>20WETH-80ALCX</td>\n      <td>11959.40</td>\n      <td>10113.66</td>\n      <td>4334.43</td>\n      <td>14448.09</td>\n      <td>5664.75</td>\n      <td>8783.34</td>\n    </tr>\n    <tr>\n      <th>0xb08885e6026bab4333a80024ec25a1a3e1ff2b8a000200000000000000000445</th>\n      <td>mainnet</td>\n      <td>B-staFiETH-WETH-Stable</td>\n      <td>0.00</td>\n      <td>0.00</td>\n      <td>0.00</td>\n      <td>0.00</td>\n      <td>0</td>\n      <td>0.00</td>\n    </tr>\n    <tr>\n      <th>0x8353157092ed8be69a9df8f95af097bbf33cb2af0000000000000000000005d9</th>\n      <td>mainnet</td>\n      <td>GHO/USDT/USDC</td>\n      <td>1463.98</td>\n      <td>1238.04</td>\n      <td>530.59</td>\n      <td>1768.63</td>\n      <td>693.44</td>\n      <td>1075.19</td>\n    </tr>\n    <tr>\n      <th>0xdfe6e7e18f6cc65fa13c8d8966013d4fda74b6ba000000000000000000000558</th>\n      <td>mainnet</td>\n      <td>ankrETH/wstETH</td>\n      <td>5511.71</td>\n      <td>4661.07</td>\n      <td>1997.60</td>\n      <td>6658.66</td>\n      <td>2610.70</td>\n      <td>4047.96</td>\n    </tr>\n    <tr>\n      <th>0x5f1f4e50ba51d723f12385a8a9606afc3a0555f5000200000000000000000465</th>\n      <td>mainnet</td>\n      <td>50wstETH-50LDO</td>\n      <td>764.84</td>\n      <td>646.80</td>\n      <td>277.20</td>\n      <td>924.00</td>\n      <td>0</td>\n      <td>924.00</td>\n    </tr>\n    <tr>\n      <th>0x1ee442b5326009bb18f2f472d3e0061513d1a0ff000200000000000000000464</th>\n      <td>mainnet</td>\n      <td>50rETH-50BADGER</td>\n      <td>6939.33</td>\n      <td>5868.36</td>\n      <td>2515.01</td>\n      <td>8383.37</td>\n      <td>3286.92</td>\n      <td>5096.45</td>\n    </tr>\n    <tr>\n      <th>0x9f9d900462492d4c21e9523ca95a7cd86142f298000200000000000000000462</th>\n      <td>mainnet</td>\n      <td>50rETH-50RPL</td>\n      <td>1165.36</td>\n      <td>985.51</td>\n      <td>422.36</td>\n      <td>1407.87</td>\n      <td>551.99</td>\n      <td>855.88</td>\n    </tr>\n    <tr>\n      <th>0x3ff3a210e57cfe679d9ad1e9ba6453a716c56a2e0002000000000000000005d5</th>\n      <td>mainnet</td>\n      <td>STG/USDC</td>\n      <td>5930.07</td>\n      <td>5014.86</td>\n      <td>2149.23</td>\n      <td>7164.09</td>\n      <td>2808.87</td>\n      <td>4355.22</td>\n    </tr>\n    <tr>\n      <th>0xf01b0684c98cd7ada480bfdf6e43876422fa1fc10002000000000000000005de</th>\n      <td>mainnet</td>\n      <td>ECLP-wstETH-wETH</td>\n      <td>0.00</td>\n      <td>0.00</td>\n      <td>0.00</td>\n      <td>0.00</td>\n      <td>0</td>\n      <td>0.00</td>\n    </tr>\n    <tr>\n      <th>0x36be1e97ea98ab43b4debf92742517266f5731a3000200000000000000000466</th>\n      <td>mainnet</td>\n      <td>50wstETH-50ACX</td>\n      <td>933.62</td>\n      <td>789.53</td>\n      <td>338.37</td>\n      <td>1127.90</td>\n      <td>0</td>\n      <td>1127.90</td>\n    </tr>\n    <tr>\n      <th>0xf0ad209e2e969eaaa8c882aac71f02d8a047d5c2000200000000000000000b49</th>\n      <td>polygon</td>\n      <td>ECLP-WMATIC-stMATIC</td>\n      <td>1800.78</td>\n      <td>1688.78</td>\n      <td>723.76</td>\n      <td>2412.54</td>\n      <td>945.90</td>\n      <td>1466.64</td>\n    </tr>\n    <tr>\n      <th>0xee278d943584dd8640eaf4cc6c7a5c80c0073e85000200000000000000000bc7</th>\n      <td>polygon</td>\n      <td>ECLP-WMATIC-MATICX</td>\n      <td>659.76</td>\n      <td>618.73</td>\n      <td>265.17</td>\n      <td>883.89</td>\n      <td>0</td>\n      <td>883.89</td>\n    </tr>\n  </tbody>\n</table>\n</div>"
     },
     "execution_count": 14,
     "metadata": {},
     "output_type": "execute_result"
    }
   ],
   "source": [
    "from notebooks.fees_and_bribs.config_file import MIN_AURA_BRIB\n",
    "from notebooks.fees_and_bribs.config_file import REROUTE_CONFIG\n",
    "from notebooks import calculate_aura_vebal_share\n",
    "\n",
    "aura_vebal_share = calculate_aura_vebal_share(WEB3_INSTANCES.mainnet, target_blocks[Chains.MAINNET.value][0])\n",
    "\n",
    "# Bribes are split per chain and per pool, with each pool getting a share of the bribe proportional to its share of fees\n",
    "# paid by all pools on that chain. For example, if pool A paid 10% of all fees on Arbitrum, it will get 10% of the bribes. That 10% will be distributed between aura and vebal, proportional to their share of the bribe.\n",
    "\n",
    "FEES_TO_DISTRIBUTE = {\n",
    "    Chains.MAINNET.value: Decimal(112945.77),\n",
    "    Chains.ARBITRUM.value: Decimal(39481.82),\n",
    "    Chains.POLYGON.value: Decimal(6592.87),\n",
    "    Chains.BASE.value: Decimal(10260.35),\n",
    "    Chains.GNOSIS.value: Decimal(2503.21),\n",
    "    Chains.AVALANCHE.value: Decimal(10297),\n",
    "}\n",
    "\n",
    "# Let's calculate share of fees paid by each pool on each chain\n",
    "def calc_and_split_bribes(fees: Dict, chain: str, fees_to_distribute: Decimal) -> Dict[str, Dict]:\n",
    "    pool_bribs = {}\n",
    "    # Calculate pool share in fees\n",
    "    dao_share = Decimal(0.15)\n",
    "    vebal_share = Decimal(0.35)\n",
    "    fees_to_distr_wo_dao_vebal = fees_to_distribute - (fees_to_distribute * dao_share) - (\n",
    "            fees_to_distribute * vebal_share)\n",
    "    # Calculate totals\n",
    "    bpt_fees = sum([data['bpt_token_fee_in_usd'] for pool, data in fees.items()])\n",
    "    token_fees = sum([data['token_fees_in_usd'] for pool, data in fees.items()])\n",
    "    total_fees = bpt_fees + token_fees\n",
    "    for pool, data in fees.items():\n",
    "        pool_fees = data['bpt_token_fee_in_usd'] + data['token_fees_in_usd']\n",
    "        pool_share = pool_fees / Decimal(total_fees)\n",
    "        # If aura bribes is less than 500 USDC, we pay all bribes to balancer\n",
    "        aura_bribes = round(pool_share * fees_to_distr_wo_dao_vebal * aura_vebal_share, 2)\n",
    "        if aura_bribes <= Decimal(MIN_AURA_BRIB):\n",
    "            aura_bribes = Decimal(0)\n",
    "            bal_bribes = round(pool_share * fees_to_distr_wo_dao_vebal, 2)\n",
    "        else:\n",
    "            bal_bribes = round(pool_share * fees_to_distr_wo_dao_vebal * (1 - aura_vebal_share), 2)\n",
    "        fees_to_dao = round(pool_share * fees_to_distribute * dao_share, 2)\n",
    "        fees_to_vebal = round(pool_share * fees_to_distribute * vebal_share, 2)\n",
    "        # Split fees between aura and bal fees\n",
    "        pool_bribs[pool] = {\n",
    "            \"chain\": chain,\n",
    "            \"symbol\": data['symbol'],\n",
    "            \"protocol_fees_collected\": pool_fees,\n",
    "            \"fees_to_vebal\": fees_to_vebal,\n",
    "            \"fees_to_dao\": fees_to_dao,\n",
    "            \"total_bribes\": aura_bribes + bal_bribes,\n",
    "            \"aura_bribes\": aura_bribes,\n",
    "            \"bal_bribes\": bal_bribes,\n",
    "            \"pool_addr\": data['pool_addr'],\n",
    "        }\n",
    "    return pool_bribs\n",
    "\n",
    "def re_route_bribs(bribes_data: Dict[str, Dict], chain: Chains) -> Dict[str, Dict]:\n",
    "    \"\"\"\n",
    "    If pool is in re-route configuration, all bribes from that pool should be distributed to destination pool\n",
    "      Ex: {source_pool: destination_pool}\n",
    "    \"\"\"\n",
    "    if not chain.value in REROUTE_CONFIG:\n",
    "        return bribes_data\n",
    "    for pool_id, _data in bribes_data.items():\n",
    "        if pool_id in REROUTE_CONFIG[chain.value]:\n",
    "            # Re route everything to destination pool and set source pool bribes to 0\n",
    "            bribes_data[REROUTE_CONFIG[pool_id]]['aura_bribes'] += _data['aura_bribes']\n",
    "            bribes_data[REROUTE_CONFIG[pool_id]]['bal_bribes'] += _data['bal_bribes']\n",
    "            bribes_data[pool_id]['aura_bribes'] = 0\n",
    "            bribes_data[pool_id]['bal_bribes'] = 0\n",
    "    return bribes_data\n",
    "\n",
    "\n",
    "bribes = {}\n",
    "for chain in Chains:\n",
    "    if not collected_fees.get(chain.value):\n",
    "        continue\n",
    "    _bribs = calc_and_split_bribes(collected_fees[chain.value], chain.value,\n",
    "                                                FEES_TO_DISTRIBUTE[chain.value])\n",
    "    # Reroute bribes if needed\n",
    "    bribs = re_route_bribs(_bribs, chain)\n",
    "    bribes[chain.value] = bribs\n",
    "    \n",
    "joint_bribes_data = {**bribes[Chains.MAINNET.value], **bribes[Chains.ARBITRUM.value],\n",
    "                     **bribes[Chains.POLYGON.value], **bribes[Chains.BASE.value], **bribes[Chains.AVALANCHE.value]}\n",
    "# Sort by chain:\n",
    "joint_bribes_data = {k: v for k, v in sorted(joint_bribes_data.items(), key=lambda item: item[1]['chain'])}\n",
    "joint_bribes_df = pd.DataFrame.from_dict(joint_bribes_data, orient='index')\n",
    "# Sort by chain\n",
    "# Dump into csv and prefix with dates\n",
    "joint_bribes_df.to_csv(f'./output/bribes_{datetime_2_weeks_ago.date()}_{datetime_now.date()}.csv')\n",
    "# Don't show pool_addr\n",
    "display = joint_bribes_df.drop(columns=['pool_addr'])\n",
    "# Sort by chain and by protocol_fees collected\n",
    "display.sort_values(by=['protocol_fees_collected'], ascending=False)\n",
    "display"
   ],
   "metadata": {
    "collapsed": false,
    "ExecuteTime": {
     "end_time": "2023-10-10T14:07:33.050338Z",
     "start_time": "2023-10-10T14:07:32.484796Z"
    }
   },
   "id": "efdef306c522076a"
  },
  {
   "cell_type": "markdown",
   "source": [
    "## Compare data from the sheet with the data we collected\n",
    "What does table below represent:\n",
    "- aura_automated_bribe: bribes paid to aura per pool calculated in this notebook\n",
    "- aura_actual_bribe: actual bribes paid to aura per pool from the sheet\n",
    "- aura_bribe_delta: difference between aura_automated_bribe and aura_actual_bribe\n",
    "- aura_bribe_delta_%: difference between aura_automated_bribe and aura_actual_bribe in %\n",
    "\n",
    "Same thing for balancer side:\n",
    "- bal_automated_bribe: bribes paid to balancer per pool calculated in this notebook\n",
    "- bal_actual_bribe: actual bribes paid to balancer per pool from the sheet\n",
    "- bal_bribe_delta: difference between bal_automated_bribe and bal_actual_bribe\n",
    "- bal_bribe_delta_%: difference between bal_automated_bribe and bal_actual_bribe in %"
   ],
   "metadata": {
    "collapsed": false
   },
   "id": "ab029ab946741672"
  },
  {
   "cell_type": "code",
   "execution_count": 6,
   "outputs": [],
   "source": [
    "from notebooks import fetch_all_pools_info\n",
    "\n",
    "mapped_gauges = {}\n",
    "\n",
    "for chain in Chains:\n",
    "    pools_info = fetch_all_pools_info(chain.value)\n",
    "    mapped_gauges[chain.value] = {pool_info['address']: Web3.to_checksum_address(pool_info['gauge']['address']) for\n",
    "                                  pool_info in pools_info}"
   ],
   "metadata": {
    "collapsed": false,
    "ExecuteTime": {
     "end_time": "2023-10-10T14:04:01.671343Z",
     "start_time": "2023-10-10T14:03:54.471786Z"
    }
   },
   "id": "93d3b07a2ccb9a32"
  },
  {
   "cell_type": "code",
   "execution_count": 7,
   "outputs": [],
   "source": [
    "# Load csv sheet to compare with the data collected above:\n",
    "bribes_df = pd.read_csv('compare_sheet.csv')\n",
    "# To dict:\n",
    "bribes_to_compare = bribes_df.to_dict(orient='records')\n",
    "# Each dict in list needs target to be Web3.toChecksumAddress\n",
    "bribes_csv_checksummed = []\n",
    "for bribe in bribes_to_compare:\n",
    "    bribes_csv_checksummed.append({\n",
    "        'target': Web3.to_checksum_address(bribe['target']),\n",
    "        'platform': bribe['platform'],\n",
    "        'amount': bribe['amount'],\n",
    "    })\n",
    "# These are bribes paid de-facto, so we need to convert them to the same format as we have in our data\n",
    "bribes_final_csv = {}\n",
    "for bribe in bribes_csv_checksummed:\n",
    "    if bribe['target'] not in bribes_final_csv:\n",
    "        bribes_final_csv[bribe['target']] = {}\n",
    "    bribes_final_csv[bribe['target']][bribe['platform']] = Decimal(bribe['amount'])"
   ],
   "metadata": {
    "collapsed": false,
    "ExecuteTime": {
     "end_time": "2023-10-10T14:04:01.678643Z",
     "start_time": "2023-10-10T14:04:01.672548Z"
    }
   },
   "id": "533bf5074506799f"
  },
  {
   "cell_type": "code",
   "execution_count": 8,
   "outputs": [
    {
     "data": {
      "text/plain": "                                                            symbol     chain  \\\n0x5C0F23A5c1be65Fa710d385814a7Fd1Bda480b1C         wstETH-WETH-BPT   mainnet   \n0x79eF6103A513951a3b25743DB509E267685726B7           B-rETH-STABLE   mainnet   \n0xee01c0d9c0439c94D314a6ecAE0490989750746C          swETH-WETH-BPT   mainnet   \n0x4D4264aebf65Bb1727bb5438E0b2Aaf86186DA50       ECLP-wstETH-cbETH   mainnet   \n0x183D73dA7adC5011EC3C46e33BB50271e59EC976           20WETH-80ALCX   mainnet   \n0x10a361766e64D7983a97202ac3a0F4cee06Eb717  B-staFiETH-WETH-Stable   mainnet   \n0xf720e9137baa9C7612e6CA59149a5057ab320cFa           GHO/USDT/USDC   mainnet   \n0xbf65b3fA6c208762eD74e82d4AEfCDDfd0323648          ankrETH/wstETH   mainnet   \n0x87012b0C3257423fD74a5986F81a0f1954C17a1d         50rETH-50BADGER   mainnet   \n0x2C2179abce3413E27BDA6917f60ae37F96D01826            50rETH-50RPL   mainnet   \n0xdf54d2Dd06F8Be3B0c4FfC157bE54EC9cca91F3C        ECLP-wstETH-wETH   mainnet   \n0xD103Dd49B8051A09B399A52E9A8aB629392dE2fb     ECLP-WMATIC-stMATIC   polygon   \n0x82bcaD0C8F51D88ec339141F0d8953Bc25cc3d8c      ECLP-WMATIC-MATICX   polygon   \n0x00b9bcd17cB049739D25FD7f826caA2E23b05620           rETH-WETH-BPT  arbitrum   \n0xb6d101874B975083C76598542946Fe047f059066         wstETH-WETH-BPT  arbitrum   \n0x56c0626E6E3931af90EbB679A321225180d4b32B       wstETH/rETH/cbETH  arbitrum   \n0xBb1a15dfd849bc5a6F33C002999c8953aFA626Ad               4POOL-BPT  arbitrum   \n0x49f530b45Ae792CDF5Cbd5D25C5a9b9e59C6c3B8     wstETH/rETH/sfrxETH  arbitrum   \n0xefF145872582721e1b33931d61c3fE9C1ca66690              cbETH/WETH      base   \n0xd75026F8723b94d9a360A282080492d905c6A558           rETH-WETH-BPT      base   \n0xe9B2CB6836Be07357bCb8144F398730d5EC268E9      USDC/USDbC/axlUSDC      base   \n\n                                           aura_automated_bribe  \\\n0x5C0F23A5c1be65Fa710d385814a7Fd1Bda480b1C              4010.64   \n0x79eF6103A513951a3b25743DB509E267685726B7                    0   \n0xee01c0d9c0439c94D314a6ecAE0490989750746C              1709.86   \n0x4D4264aebf65Bb1727bb5438E0b2Aaf86186DA50                    0   \n0x183D73dA7adC5011EC3C46e33BB50271e59EC976              5664.75   \n0x10a361766e64D7983a97202ac3a0F4cee06Eb717                    0   \n0xf720e9137baa9C7612e6CA59149a5057ab320cFa               693.44   \n0xbf65b3fA6c208762eD74e82d4AEfCDDfd0323648              2610.70   \n0x87012b0C3257423fD74a5986F81a0f1954C17a1d              3286.92   \n0x2C2179abce3413E27BDA6917f60ae37F96D01826               551.99   \n0xdf54d2Dd06F8Be3B0c4FfC157bE54EC9cca91F3C                    0   \n0xD103Dd49B8051A09B399A52E9A8aB629392dE2fb               945.90   \n0x82bcaD0C8F51D88ec339141F0d8953Bc25cc3d8c                    0   \n0x00b9bcd17cB049739D25FD7f826caA2E23b05620                    0   \n0xb6d101874B975083C76598542946Fe047f059066               690.43   \n0x56c0626E6E3931af90EbB679A321225180d4b32B               981.94   \n0xBb1a15dfd849bc5a6F33C002999c8953aFA626Ad                    0   \n0x49f530b45Ae792CDF5Cbd5D25C5a9b9e59C6c3B8                    0   \n0xefF145872582721e1b33931d61c3fE9C1ca66690              1489.60   \n0xd75026F8723b94d9a360A282080492d905c6A558                    0   \n0xe9B2CB6836Be07357bCb8144F398730d5EC268E9                    0   \n\n                                           aura_actual_bribe aura_bribe_delta  \\\n0x5C0F23A5c1be65Fa710d385814a7Fd1Bda480b1C           1676.15          2334.49   \n0x79eF6103A513951a3b25743DB509E267685726B7           2976.40          2976.40   \n0xee01c0d9c0439c94D314a6ecAE0490989750746C              0.00          1709.86   \n0x4D4264aebf65Bb1727bb5438E0b2Aaf86186DA50              0.00             0.00   \n0x183D73dA7adC5011EC3C46e33BB50271e59EC976           3046.75          2618.00   \n0x10a361766e64D7983a97202ac3a0F4cee06Eb717              0.00             0.00   \n0xf720e9137baa9C7612e6CA59149a5057ab320cFa              0.00           693.44   \n0xbf65b3fA6c208762eD74e82d4AEfCDDfd0323648           2057.83           552.87   \n0x87012b0C3257423fD74a5986F81a0f1954C17a1d           1279.78          2007.14   \n0x2C2179abce3413E27BDA6917f60ae37F96D01826              0.00           551.99   \n0xdf54d2Dd06F8Be3B0c4FfC157bE54EC9cca91F3C              0.00             0.00   \n0xD103Dd49B8051A09B399A52E9A8aB629392dE2fb           1977.38          1031.48   \n0x82bcaD0C8F51D88ec339141F0d8953Bc25cc3d8c           1318.58          1318.58   \n0x00b9bcd17cB049739D25FD7f826caA2E23b05620              0.00             0.00   \n0xb6d101874B975083C76598542946Fe047f059066           1340.06           649.63   \n0x56c0626E6E3931af90EbB679A321225180d4b32B           1005.04            23.10   \n0xBb1a15dfd849bc5a6F33C002999c8953aFA626Ad           1005.04          1005.04   \n0x49f530b45Ae792CDF5Cbd5D25C5a9b9e59C6c3B8              0.00             0.00   \n0xefF145872582721e1b33931d61c3fE9C1ca66690              0.00          1489.60   \n0xd75026F8723b94d9a360A282080492d905c6A558              0.00             0.00   \n0xe9B2CB6836Be07357bCb8144F398730d5EC268E9              0.00             0.00   \n\n                                           aura_bribe_delta_%  \\\n0x5C0F23A5c1be65Fa710d385814a7Fd1Bda480b1C            139.28%   \n0x79eF6103A513951a3b25743DB509E267685726B7            100.00%   \n0xee01c0d9c0439c94D314a6ecAE0490989750746C                 0%   \n0x4D4264aebf65Bb1727bb5438E0b2Aaf86186DA50                 0%   \n0x183D73dA7adC5011EC3C46e33BB50271e59EC976             85.93%   \n0x10a361766e64D7983a97202ac3a0F4cee06Eb717                 0%   \n0xf720e9137baa9C7612e6CA59149a5057ab320cFa                 0%   \n0xbf65b3fA6c208762eD74e82d4AEfCDDfd0323648             26.87%   \n0x87012b0C3257423fD74a5986F81a0f1954C17a1d            156.83%   \n0x2C2179abce3413E27BDA6917f60ae37F96D01826                 0%   \n0xdf54d2Dd06F8Be3B0c4FfC157bE54EC9cca91F3C                 0%   \n0xD103Dd49B8051A09B399A52E9A8aB629392dE2fb             52.16%   \n0x82bcaD0C8F51D88ec339141F0d8953Bc25cc3d8c            100.00%   \n0x00b9bcd17cB049739D25FD7f826caA2E23b05620                 0%   \n0xb6d101874B975083C76598542946Fe047f059066             48.48%   \n0x56c0626E6E3931af90EbB679A321225180d4b32B              2.30%   \n0xBb1a15dfd849bc5a6F33C002999c8953aFA626Ad            100.00%   \n0x49f530b45Ae792CDF5Cbd5D25C5a9b9e59C6c3B8                 0%   \n0xefF145872582721e1b33931d61c3fE9C1ca66690                 0%   \n0xd75026F8723b94d9a360A282080492d905c6A558                 0%   \n0xe9B2CB6836Be07357bCb8144F398730d5EC268E9                 0%   \n\n                                           bal_automated_bribe  \\\n0x5C0F23A5c1be65Fa710d385814a7Fd1Bda480b1C             6218.60   \n0x79eF6103A513951a3b25743DB509E267685726B7                0.00   \n0xee01c0d9c0439c94D314a6ecAE0490989750746C             2651.17   \n0x4D4264aebf65Bb1727bb5438E0b2Aaf86186DA50                0.00   \n0x183D73dA7adC5011EC3C46e33BB50271e59EC976             8783.34   \n0x10a361766e64D7983a97202ac3a0F4cee06Eb717                0.00   \n0xf720e9137baa9C7612e6CA59149a5057ab320cFa             1075.19   \n0xbf65b3fA6c208762eD74e82d4AEfCDDfd0323648             4047.96   \n0x87012b0C3257423fD74a5986F81a0f1954C17a1d             5096.45   \n0x2C2179abce3413E27BDA6917f60ae37F96D01826              855.88   \n0xdf54d2Dd06F8Be3B0c4FfC157bE54EC9cca91F3C                0.00   \n0xD103Dd49B8051A09B399A52E9A8aB629392dE2fb             1466.64   \n0x82bcaD0C8F51D88ec339141F0d8953Bc25cc3d8c              883.89   \n0x00b9bcd17cB049739D25FD7f826caA2E23b05620              662.52   \n0xb6d101874B975083C76598542946Fe047f059066             1070.53   \n0x56c0626E6E3931af90EbB679A321225180d4b32B             1522.52   \n0xBb1a15dfd849bc5a6F33C002999c8953aFA626Ad              344.90   \n0x49f530b45Ae792CDF5Cbd5D25C5a9b9e59C6c3B8                0.03   \n0xefF145872582721e1b33931d61c3fE9C1ca66690             2309.66   \n0xd75026F8723b94d9a360A282080492d905c6A558              709.60   \n0xe9B2CB6836Be07357bCb8144F398730d5EC268E9              621.32   \n\n                                           bal_actual_bribe bal_bribe_delta  \\\n0x5C0F23A5c1be65Fa710d385814a7Fd1Bda480b1C          3112.85         3105.75   \n0x79eF6103A513951a3b25743DB509E267685726B7          5527.60         5527.60   \n0xee01c0d9c0439c94D314a6ecAE0490989750746C             0.00         2651.17   \n0x4D4264aebf65Bb1727bb5438E0b2Aaf86186DA50             0.00            0.00   \n0x183D73dA7adC5011EC3C46e33BB50271e59EC976          5658.25         3125.09   \n0x10a361766e64D7983a97202ac3a0F4cee06Eb717             0.00            0.00   \n0xf720e9137baa9C7612e6CA59149a5057ab320cFa             0.00         1075.19   \n0xbf65b3fA6c208762eD74e82d4AEfCDDfd0323648          3821.68          226.28   \n0x87012b0C3257423fD74a5986F81a0f1954C17a1d          2376.73         2719.72   \n0x2C2179abce3413E27BDA6917f60ae37F96D01826             0.00          855.88   \n0xdf54d2Dd06F8Be3B0c4FfC157bE54EC9cca91F3C             0.00            0.00   \n0xD103Dd49B8051A09B399A52E9A8aB629392dE2fb             0.00         1466.64   \n0x82bcaD0C8F51D88ec339141F0d8953Bc25cc3d8c             0.00          883.89   \n0x00b9bcd17cB049739D25FD7f826caA2E23b05620          1740.31         1077.79   \n0xb6d101874B975083C76598542946Fe047f059066          2140.61         1070.08   \n0x56c0626E6E3931af90EbB679A321225180d4b32B          1605.46           82.94   \n0xBb1a15dfd849bc5a6F33C002999c8953aFA626Ad          1605.46         1260.56   \n0x49f530b45Ae792CDF5Cbd5D25C5a9b9e59C6c3B8             0.00            0.03   \n0xefF145872582721e1b33931d61c3fE9C1ca66690          2052.00          257.66   \n0xd75026F8723b94d9a360A282080492d905c6A558          1026.00          316.40   \n0xe9B2CB6836Be07357bCb8144F398730d5EC268E9          2052.00         1430.68   \n\n                                           bal_bribe_delta_%  \n0x5C0F23A5c1be65Fa710d385814a7Fd1Bda480b1C            99.77%  \n0x79eF6103A513951a3b25743DB509E267685726B7           100.00%  \n0xee01c0d9c0439c94D314a6ecAE0490989750746C                0%  \n0x4D4264aebf65Bb1727bb5438E0b2Aaf86186DA50                0%  \n0x183D73dA7adC5011EC3C46e33BB50271e59EC976            55.23%  \n0x10a361766e64D7983a97202ac3a0F4cee06Eb717                0%  \n0xf720e9137baa9C7612e6CA59149a5057ab320cFa                0%  \n0xbf65b3fA6c208762eD74e82d4AEfCDDfd0323648             5.92%  \n0x87012b0C3257423fD74a5986F81a0f1954C17a1d           114.43%  \n0x2C2179abce3413E27BDA6917f60ae37F96D01826                0%  \n0xdf54d2Dd06F8Be3B0c4FfC157bE54EC9cca91F3C                0%  \n0xD103Dd49B8051A09B399A52E9A8aB629392dE2fb                0%  \n0x82bcaD0C8F51D88ec339141F0d8953Bc25cc3d8c                0%  \n0x00b9bcd17cB049739D25FD7f826caA2E23b05620            61.93%  \n0xb6d101874B975083C76598542946Fe047f059066            49.99%  \n0x56c0626E6E3931af90EbB679A321225180d4b32B             5.17%  \n0xBb1a15dfd849bc5a6F33C002999c8953aFA626Ad            78.52%  \n0x49f530b45Ae792CDF5Cbd5D25C5a9b9e59C6c3B8                0%  \n0xefF145872582721e1b33931d61c3fE9C1ca66690            12.56%  \n0xd75026F8723b94d9a360A282080492d905c6A558            30.84%  \n0xe9B2CB6836Be07357bCb8144F398730d5EC268E9            69.72%  ",
      "text/html": "<div>\n<style scoped>\n    .dataframe tbody tr th:only-of-type {\n        vertical-align: middle;\n    }\n\n    .dataframe tbody tr th {\n        vertical-align: top;\n    }\n\n    .dataframe thead th {\n        text-align: right;\n    }\n</style>\n<table border=\"1\" class=\"dataframe\">\n  <thead>\n    <tr style=\"text-align: right;\">\n      <th></th>\n      <th>symbol</th>\n      <th>chain</th>\n      <th>aura_automated_bribe</th>\n      <th>aura_actual_bribe</th>\n      <th>aura_bribe_delta</th>\n      <th>aura_bribe_delta_%</th>\n      <th>bal_automated_bribe</th>\n      <th>bal_actual_bribe</th>\n      <th>bal_bribe_delta</th>\n      <th>bal_bribe_delta_%</th>\n    </tr>\n  </thead>\n  <tbody>\n    <tr>\n      <th>0x5C0F23A5c1be65Fa710d385814a7Fd1Bda480b1C</th>\n      <td>wstETH-WETH-BPT</td>\n      <td>mainnet</td>\n      <td>4010.64</td>\n      <td>1676.15</td>\n      <td>2334.49</td>\n      <td>139.28%</td>\n      <td>6218.60</td>\n      <td>3112.85</td>\n      <td>3105.75</td>\n      <td>99.77%</td>\n    </tr>\n    <tr>\n      <th>0x79eF6103A513951a3b25743DB509E267685726B7</th>\n      <td>B-rETH-STABLE</td>\n      <td>mainnet</td>\n      <td>0</td>\n      <td>2976.40</td>\n      <td>2976.40</td>\n      <td>100.00%</td>\n      <td>0.00</td>\n      <td>5527.60</td>\n      <td>5527.60</td>\n      <td>100.00%</td>\n    </tr>\n    <tr>\n      <th>0xee01c0d9c0439c94D314a6ecAE0490989750746C</th>\n      <td>swETH-WETH-BPT</td>\n      <td>mainnet</td>\n      <td>1709.86</td>\n      <td>0.00</td>\n      <td>1709.86</td>\n      <td>0%</td>\n      <td>2651.17</td>\n      <td>0.00</td>\n      <td>2651.17</td>\n      <td>0%</td>\n    </tr>\n    <tr>\n      <th>0x4D4264aebf65Bb1727bb5438E0b2Aaf86186DA50</th>\n      <td>ECLP-wstETH-cbETH</td>\n      <td>mainnet</td>\n      <td>0</td>\n      <td>0.00</td>\n      <td>0.00</td>\n      <td>0%</td>\n      <td>0.00</td>\n      <td>0.00</td>\n      <td>0.00</td>\n      <td>0%</td>\n    </tr>\n    <tr>\n      <th>0x183D73dA7adC5011EC3C46e33BB50271e59EC976</th>\n      <td>20WETH-80ALCX</td>\n      <td>mainnet</td>\n      <td>5664.75</td>\n      <td>3046.75</td>\n      <td>2618.00</td>\n      <td>85.93%</td>\n      <td>8783.34</td>\n      <td>5658.25</td>\n      <td>3125.09</td>\n      <td>55.23%</td>\n    </tr>\n    <tr>\n      <th>0x10a361766e64D7983a97202ac3a0F4cee06Eb717</th>\n      <td>B-staFiETH-WETH-Stable</td>\n      <td>mainnet</td>\n      <td>0</td>\n      <td>0.00</td>\n      <td>0.00</td>\n      <td>0%</td>\n      <td>0.00</td>\n      <td>0.00</td>\n      <td>0.00</td>\n      <td>0%</td>\n    </tr>\n    <tr>\n      <th>0xf720e9137baa9C7612e6CA59149a5057ab320cFa</th>\n      <td>GHO/USDT/USDC</td>\n      <td>mainnet</td>\n      <td>693.44</td>\n      <td>0.00</td>\n      <td>693.44</td>\n      <td>0%</td>\n      <td>1075.19</td>\n      <td>0.00</td>\n      <td>1075.19</td>\n      <td>0%</td>\n    </tr>\n    <tr>\n      <th>0xbf65b3fA6c208762eD74e82d4AEfCDDfd0323648</th>\n      <td>ankrETH/wstETH</td>\n      <td>mainnet</td>\n      <td>2610.70</td>\n      <td>2057.83</td>\n      <td>552.87</td>\n      <td>26.87%</td>\n      <td>4047.96</td>\n      <td>3821.68</td>\n      <td>226.28</td>\n      <td>5.92%</td>\n    </tr>\n    <tr>\n      <th>0x87012b0C3257423fD74a5986F81a0f1954C17a1d</th>\n      <td>50rETH-50BADGER</td>\n      <td>mainnet</td>\n      <td>3286.92</td>\n      <td>1279.78</td>\n      <td>2007.14</td>\n      <td>156.83%</td>\n      <td>5096.45</td>\n      <td>2376.73</td>\n      <td>2719.72</td>\n      <td>114.43%</td>\n    </tr>\n    <tr>\n      <th>0x2C2179abce3413E27BDA6917f60ae37F96D01826</th>\n      <td>50rETH-50RPL</td>\n      <td>mainnet</td>\n      <td>551.99</td>\n      <td>0.00</td>\n      <td>551.99</td>\n      <td>0%</td>\n      <td>855.88</td>\n      <td>0.00</td>\n      <td>855.88</td>\n      <td>0%</td>\n    </tr>\n    <tr>\n      <th>0xdf54d2Dd06F8Be3B0c4FfC157bE54EC9cca91F3C</th>\n      <td>ECLP-wstETH-wETH</td>\n      <td>mainnet</td>\n      <td>0</td>\n      <td>0.00</td>\n      <td>0.00</td>\n      <td>0%</td>\n      <td>0.00</td>\n      <td>0.00</td>\n      <td>0.00</td>\n      <td>0%</td>\n    </tr>\n    <tr>\n      <th>0xD103Dd49B8051A09B399A52E9A8aB629392dE2fb</th>\n      <td>ECLP-WMATIC-stMATIC</td>\n      <td>polygon</td>\n      <td>945.90</td>\n      <td>1977.38</td>\n      <td>1031.48</td>\n      <td>52.16%</td>\n      <td>1466.64</td>\n      <td>0.00</td>\n      <td>1466.64</td>\n      <td>0%</td>\n    </tr>\n    <tr>\n      <th>0x82bcaD0C8F51D88ec339141F0d8953Bc25cc3d8c</th>\n      <td>ECLP-WMATIC-MATICX</td>\n      <td>polygon</td>\n      <td>0</td>\n      <td>1318.58</td>\n      <td>1318.58</td>\n      <td>100.00%</td>\n      <td>883.89</td>\n      <td>0.00</td>\n      <td>883.89</td>\n      <td>0%</td>\n    </tr>\n    <tr>\n      <th>0x00b9bcd17cB049739D25FD7f826caA2E23b05620</th>\n      <td>rETH-WETH-BPT</td>\n      <td>arbitrum</td>\n      <td>0</td>\n      <td>0.00</td>\n      <td>0.00</td>\n      <td>0%</td>\n      <td>662.52</td>\n      <td>1740.31</td>\n      <td>1077.79</td>\n      <td>61.93%</td>\n    </tr>\n    <tr>\n      <th>0xb6d101874B975083C76598542946Fe047f059066</th>\n      <td>wstETH-WETH-BPT</td>\n      <td>arbitrum</td>\n      <td>690.43</td>\n      <td>1340.06</td>\n      <td>649.63</td>\n      <td>48.48%</td>\n      <td>1070.53</td>\n      <td>2140.61</td>\n      <td>1070.08</td>\n      <td>49.99%</td>\n    </tr>\n    <tr>\n      <th>0x56c0626E6E3931af90EbB679A321225180d4b32B</th>\n      <td>wstETH/rETH/cbETH</td>\n      <td>arbitrum</td>\n      <td>981.94</td>\n      <td>1005.04</td>\n      <td>23.10</td>\n      <td>2.30%</td>\n      <td>1522.52</td>\n      <td>1605.46</td>\n      <td>82.94</td>\n      <td>5.17%</td>\n    </tr>\n    <tr>\n      <th>0xBb1a15dfd849bc5a6F33C002999c8953aFA626Ad</th>\n      <td>4POOL-BPT</td>\n      <td>arbitrum</td>\n      <td>0</td>\n      <td>1005.04</td>\n      <td>1005.04</td>\n      <td>100.00%</td>\n      <td>344.90</td>\n      <td>1605.46</td>\n      <td>1260.56</td>\n      <td>78.52%</td>\n    </tr>\n    <tr>\n      <th>0x49f530b45Ae792CDF5Cbd5D25C5a9b9e59C6c3B8</th>\n      <td>wstETH/rETH/sfrxETH</td>\n      <td>arbitrum</td>\n      <td>0</td>\n      <td>0.00</td>\n      <td>0.00</td>\n      <td>0%</td>\n      <td>0.03</td>\n      <td>0.00</td>\n      <td>0.03</td>\n      <td>0%</td>\n    </tr>\n    <tr>\n      <th>0xefF145872582721e1b33931d61c3fE9C1ca66690</th>\n      <td>cbETH/WETH</td>\n      <td>base</td>\n      <td>1489.60</td>\n      <td>0.00</td>\n      <td>1489.60</td>\n      <td>0%</td>\n      <td>2309.66</td>\n      <td>2052.00</td>\n      <td>257.66</td>\n      <td>12.56%</td>\n    </tr>\n    <tr>\n      <th>0xd75026F8723b94d9a360A282080492d905c6A558</th>\n      <td>rETH-WETH-BPT</td>\n      <td>base</td>\n      <td>0</td>\n      <td>0.00</td>\n      <td>0.00</td>\n      <td>0%</td>\n      <td>709.60</td>\n      <td>1026.00</td>\n      <td>316.40</td>\n      <td>30.84%</td>\n    </tr>\n    <tr>\n      <th>0xe9B2CB6836Be07357bCb8144F398730d5EC268E9</th>\n      <td>USDC/USDbC/axlUSDC</td>\n      <td>base</td>\n      <td>0</td>\n      <td>0.00</td>\n      <td>0.00</td>\n      <td>0%</td>\n      <td>621.32</td>\n      <td>2052.00</td>\n      <td>1430.68</td>\n      <td>69.72%</td>\n    </tr>\n  </tbody>\n</table>\n</div>"
     },
     "execution_count": 8,
     "metadata": {},
     "output_type": "execute_result"
    }
   ],
   "source": [
    "# Now we need to compare the data we collected with the data from the sheet\n",
    "# We need to compare bribes paid to each pool\n",
    "joint_bribes_dict = joint_bribes_df.to_dict(orient='records')\n",
    "bribes_delta = {}\n",
    "for gauge, data in bribes_final_csv.items():\n",
    "    for automated_bribe in joint_bribes_dict:\n",
    "        filtered_gauges = mapped_gauges[automated_bribe['chain']]\n",
    "        # If this condition is true, we can compare the bribes\n",
    "        if filtered_gauges[automated_bribe['pool_addr']] == gauge:\n",
    "            # Calculate delta between automated bribes and bribes from the sheet\n",
    "            # Calculate delta between automated_bribe['aura_bribes'] and data['aura'] in %\n",
    "            if automated_bribe['aura_bribes'] > data['aura']:\n",
    "                aura_bribe_delta = automated_bribe['aura_bribes'] - data['aura']\n",
    "                aura_bribe_delta_pct = (automated_bribe['aura_bribes'] - data['aura']) / data['aura'] * 100 if \\\n",
    "                    data['aura'] != 0 else 0\n",
    "            else:\n",
    "                aura_bribe_delta = data['aura'] - automated_bribe['aura_bribes']\n",
    "                aura_bribe_delta_pct = (data['aura'] - automated_bribe['aura_bribes']) / data['aura'] * 100 if \\\n",
    "                    data['aura'] != 0 else 0\n",
    "            if automated_bribe['bal_bribes'] > data['balancer']:\n",
    "                bal_bribe_delta = automated_bribe['bal_bribes'] - data['balancer']\n",
    "                bal_bribe_delta_pct = (automated_bribe['bal_bribes'] - data['balancer']) / data['balancer'] * 100 if \\\n",
    "                    data['balancer'] != 0 else 0\n",
    "            else:\n",
    "                bal_bribe_delta = data['balancer'] - automated_bribe['bal_bribes']\n",
    "                bal_bribe_delta_pct = (data['balancer'] - automated_bribe['bal_bribes']) / data['balancer'] * 100 if \\\n",
    "                    data['balancer'] != 0 else 0\n",
    "            bribes_delta[gauge] = {\n",
    "                'symbol': automated_bribe['symbol'],\n",
    "                'chain': automated_bribe['chain'],\n",
    "                'aura_automated_bribe': automated_bribe['aura_bribes'],\n",
    "                'aura_actual_bribe': round(data['aura'], 2),\n",
    "                'aura_bribe_delta': round(aura_bribe_delta, 2),\n",
    "                'aura_bribe_delta_%': f'{round(aura_bribe_delta_pct, 2)}%',\n",
    "                'bal_automated_bribe': automated_bribe['bal_bribes'],\n",
    "                'bal_actual_bribe': round(data['balancer'], 2),\n",
    "                'bal_bribe_delta': round(bal_bribe_delta, 2),\n",
    "                'bal_bribe_delta_%': f'{round(bal_bribe_delta_pct, 2)}%',\n",
    "            }\n",
    "# To df and print out without index:\n",
    "bribes_delta_df = pd.DataFrame.from_dict(bribes_delta, orient='index')\n",
    "bribes_delta_df.sort_values(by=['chain', 'aura_bribe_delta'], ascending=False)\n",
    "# Also dump to csv\n",
    "bribes_delta_df.to_csv(f'./output/bribes_delta_{datetime_2_weeks_ago.date()}_{datetime_now.date()}.csv')\n",
    "bribes_delta_df"
   ],
   "metadata": {
    "collapsed": false,
    "ExecuteTime": {
     "end_time": "2023-10-10T14:04:01.701044Z",
     "start_time": "2023-10-10T14:04:01.684879Z"
    }
   },
   "id": "17f47521561f3499"
  }
 ],
 "metadata": {
  "kernelspec": {
   "display_name": "Python 3",
   "language": "python",
   "name": "python3"
  },
  "language_info": {
   "codemirror_mode": {
    "name": "ipython",
    "version": 2
   },
   "file_extension": ".py",
   "mimetype": "text/x-python",
   "name": "python",
   "nbconvert_exporter": "python",
   "pygments_lexer": "ipython2",
   "version": "2.7.6"
  }
 },
 "nbformat": 4,
 "nbformat_minor": 5
}
